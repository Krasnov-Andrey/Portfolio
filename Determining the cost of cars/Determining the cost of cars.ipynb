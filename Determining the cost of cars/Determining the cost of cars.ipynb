{
 "cells": [
  {
   "cell_type": "markdown",
   "metadata": {},
   "source": [
    "# Определение стоимости автомобилей"
   ]
  },
  {
   "cell_type": "markdown",
   "metadata": {},
   "source": [
    "Сервис по продаже автомобилей с пробегом «Не бит, не крашен» разрабатывает приложение для привлечения новых клиентов. В нём можно быстро узнать рыночную стоимость своего автомобиля. В вашем распоряжении исторические данные: технические характеристики, комплектации и цены автомобилей. Вам нужно построить модель для определения стоимости. \n",
    "\n",
    "Заказчику важны:\n",
    "\n",
    "- качество предсказания;\n",
    "- скорость предсказания;\n",
    "- время обучения."
   ]
  },
  {
   "cell_type": "markdown",
   "metadata": {},
   "source": [
    "**Признаки**\n",
    "\n",
    "- DateCrawled — дата скачивания анкеты из базы\n",
    "- VehicleType — тип автомобильного кузова\n",
    "- RegistrationYear — год регистрации автомобиля\n",
    "- Gearbox — тип коробки передач\n",
    "- Power — мощность (л. с.)\n",
    "- Model — модель автомобиля\n",
    "- Kilometer — пробег (км)\n",
    "- RegistrationMonth — месяц регистрации автомобиля\n",
    "- FuelType — тип топлива\n",
    "- Brand — марка автомобиля\n",
    "- Repaired — была машина в ремонте или нет\n",
    "- DateCreated — дата создания анкеты\n",
    "- NumberOfPictures — количество фотографий автомобиля\n",
    "- PostalCode — почтовый индекс владельца анкеты (пользователя)\n",
    "- LastSeen — дата последней активности пользователя\n",
    "\n",
    "**Целевой признак**\n",
    "- Price — цена (евро)"
   ]
  },
  {
   "cell_type": "markdown",
   "metadata": {},
   "source": [
    "## Подготовка данных"
   ]
  },
  {
   "cell_type": "code",
   "execution_count": 2,
   "metadata": {},
   "outputs": [],
   "source": [
    "# импорт библиотек\n",
    "import pandas as pd\n",
    "import numpy as np \n",
    "import matplotlib.pyplot as plt\n",
    "import seaborn as sns\n",
    "\n",
    "from sklearn.linear_model import LogisticRegression, LinearRegression\n",
    "from sklearn.tree import DecisionTreeRegressor\n",
    "from sklearn.ensemble import RandomForestRegressor\n",
    "from catboost import CatBoostRegressor \n",
    "from lightgbm import LGBMRegressor\n",
    "\n",
    "from sklearn.model_selection import train_test_split, GridSearchCV, KFold, cross_val_score\n",
    "from sklearn.metrics import mean_squared_error\n",
    "from sklearn.preprocessing import OrdinalEncoder, StandardScaler\n",
    "\n",
    "import warnings\n",
    "warnings.filterwarnings(\"ignore\")\n",
    "import time"
   ]
  },
  {
   "cell_type": "code",
   "execution_count": 3,
   "metadata": {},
   "outputs": [],
   "source": [
    "sns.set(style=\"whitegrid\") "
   ]
  },
  {
   "cell_type": "code",
   "execution_count": 4,
   "metadata": {},
   "outputs": [],
   "source": [
    "data = pd.read_csv('/datasets/autos.csv')"
   ]
  },
  {
   "cell_type": "code",
   "execution_count": 5,
   "metadata": {
    "scrolled": true
   },
   "outputs": [
    {
     "data": {
      "text/html": [
       "<div>\n",
       "<style scoped>\n",
       "    .dataframe tbody tr th:only-of-type {\n",
       "        vertical-align: middle;\n",
       "    }\n",
       "\n",
       "    .dataframe tbody tr th {\n",
       "        vertical-align: top;\n",
       "    }\n",
       "\n",
       "    .dataframe thead th {\n",
       "        text-align: right;\n",
       "    }\n",
       "</style>\n",
       "<table border=\"1\" class=\"dataframe\">\n",
       "  <thead>\n",
       "    <tr style=\"text-align: right;\">\n",
       "      <th></th>\n",
       "      <th>DateCrawled</th>\n",
       "      <th>Price</th>\n",
       "      <th>VehicleType</th>\n",
       "      <th>RegistrationYear</th>\n",
       "      <th>Gearbox</th>\n",
       "      <th>Power</th>\n",
       "      <th>Model</th>\n",
       "      <th>Kilometer</th>\n",
       "      <th>RegistrationMonth</th>\n",
       "      <th>FuelType</th>\n",
       "      <th>Brand</th>\n",
       "      <th>Repaired</th>\n",
       "      <th>DateCreated</th>\n",
       "      <th>NumberOfPictures</th>\n",
       "      <th>PostalCode</th>\n",
       "      <th>LastSeen</th>\n",
       "    </tr>\n",
       "  </thead>\n",
       "  <tbody>\n",
       "    <tr>\n",
       "      <th>0</th>\n",
       "      <td>2016-03-24 11:52:17</td>\n",
       "      <td>480</td>\n",
       "      <td>NaN</td>\n",
       "      <td>1993</td>\n",
       "      <td>manual</td>\n",
       "      <td>0</td>\n",
       "      <td>golf</td>\n",
       "      <td>150000</td>\n",
       "      <td>0</td>\n",
       "      <td>petrol</td>\n",
       "      <td>volkswagen</td>\n",
       "      <td>NaN</td>\n",
       "      <td>2016-03-24 00:00:00</td>\n",
       "      <td>0</td>\n",
       "      <td>70435</td>\n",
       "      <td>2016-04-07 03:16:57</td>\n",
       "    </tr>\n",
       "    <tr>\n",
       "      <th>1</th>\n",
       "      <td>2016-03-24 10:58:45</td>\n",
       "      <td>18300</td>\n",
       "      <td>coupe</td>\n",
       "      <td>2011</td>\n",
       "      <td>manual</td>\n",
       "      <td>190</td>\n",
       "      <td>NaN</td>\n",
       "      <td>125000</td>\n",
       "      <td>5</td>\n",
       "      <td>gasoline</td>\n",
       "      <td>audi</td>\n",
       "      <td>yes</td>\n",
       "      <td>2016-03-24 00:00:00</td>\n",
       "      <td>0</td>\n",
       "      <td>66954</td>\n",
       "      <td>2016-04-07 01:46:50</td>\n",
       "    </tr>\n",
       "    <tr>\n",
       "      <th>2</th>\n",
       "      <td>2016-03-14 12:52:21</td>\n",
       "      <td>9800</td>\n",
       "      <td>suv</td>\n",
       "      <td>2004</td>\n",
       "      <td>auto</td>\n",
       "      <td>163</td>\n",
       "      <td>grand</td>\n",
       "      <td>125000</td>\n",
       "      <td>8</td>\n",
       "      <td>gasoline</td>\n",
       "      <td>jeep</td>\n",
       "      <td>NaN</td>\n",
       "      <td>2016-03-14 00:00:00</td>\n",
       "      <td>0</td>\n",
       "      <td>90480</td>\n",
       "      <td>2016-04-05 12:47:46</td>\n",
       "    </tr>\n",
       "    <tr>\n",
       "      <th>3</th>\n",
       "      <td>2016-03-17 16:54:04</td>\n",
       "      <td>1500</td>\n",
       "      <td>small</td>\n",
       "      <td>2001</td>\n",
       "      <td>manual</td>\n",
       "      <td>75</td>\n",
       "      <td>golf</td>\n",
       "      <td>150000</td>\n",
       "      <td>6</td>\n",
       "      <td>petrol</td>\n",
       "      <td>volkswagen</td>\n",
       "      <td>no</td>\n",
       "      <td>2016-03-17 00:00:00</td>\n",
       "      <td>0</td>\n",
       "      <td>91074</td>\n",
       "      <td>2016-03-17 17:40:17</td>\n",
       "    </tr>\n",
       "    <tr>\n",
       "      <th>4</th>\n",
       "      <td>2016-03-31 17:25:20</td>\n",
       "      <td>3600</td>\n",
       "      <td>small</td>\n",
       "      <td>2008</td>\n",
       "      <td>manual</td>\n",
       "      <td>69</td>\n",
       "      <td>fabia</td>\n",
       "      <td>90000</td>\n",
       "      <td>7</td>\n",
       "      <td>gasoline</td>\n",
       "      <td>skoda</td>\n",
       "      <td>no</td>\n",
       "      <td>2016-03-31 00:00:00</td>\n",
       "      <td>0</td>\n",
       "      <td>60437</td>\n",
       "      <td>2016-04-06 10:17:21</td>\n",
       "    </tr>\n",
       "  </tbody>\n",
       "</table>\n",
       "</div>"
      ],
      "text/plain": [
       "           DateCrawled  Price VehicleType  RegistrationYear Gearbox  Power  \\\n",
       "0  2016-03-24 11:52:17    480         NaN              1993  manual      0   \n",
       "1  2016-03-24 10:58:45  18300       coupe              2011  manual    190   \n",
       "2  2016-03-14 12:52:21   9800         suv              2004    auto    163   \n",
       "3  2016-03-17 16:54:04   1500       small              2001  manual     75   \n",
       "4  2016-03-31 17:25:20   3600       small              2008  manual     69   \n",
       "\n",
       "   Model  Kilometer  RegistrationMonth  FuelType       Brand Repaired  \\\n",
       "0   golf     150000                  0    petrol  volkswagen      NaN   \n",
       "1    NaN     125000                  5  gasoline        audi      yes   \n",
       "2  grand     125000                  8  gasoline        jeep      NaN   \n",
       "3   golf     150000                  6    petrol  volkswagen       no   \n",
       "4  fabia      90000                  7  gasoline       skoda       no   \n",
       "\n",
       "           DateCreated  NumberOfPictures  PostalCode             LastSeen  \n",
       "0  2016-03-24 00:00:00                 0       70435  2016-04-07 03:16:57  \n",
       "1  2016-03-24 00:00:00                 0       66954  2016-04-07 01:46:50  \n",
       "2  2016-03-14 00:00:00                 0       90480  2016-04-05 12:47:46  \n",
       "3  2016-03-17 00:00:00                 0       91074  2016-03-17 17:40:17  \n",
       "4  2016-03-31 00:00:00                 0       60437  2016-04-06 10:17:21  "
      ]
     },
     "execution_count": 5,
     "metadata": {},
     "output_type": "execute_result"
    }
   ],
   "source": [
    "data.head()"
   ]
  },
  {
   "cell_type": "code",
   "execution_count": 6,
   "metadata": {},
   "outputs": [],
   "source": [
    "#Форматирование названий столбцов \n",
    "data.columns = data.columns.str.replace(r\"([A-Z])\", r\" \\1\").str.lower().str.replace(' ', '_').str[1:]"
   ]
  },
  {
   "cell_type": "code",
   "execution_count": 7,
   "metadata": {},
   "outputs": [
    {
     "name": "stdout",
     "output_type": "stream",
     "text": [
      "<class 'pandas.core.frame.DataFrame'>\n",
      "RangeIndex: 354369 entries, 0 to 354368\n",
      "Data columns (total 16 columns):\n",
      " #   Column              Non-Null Count   Dtype \n",
      "---  ------              --------------   ----- \n",
      " 0   date_crawled        354369 non-null  object\n",
      " 1   price               354369 non-null  int64 \n",
      " 2   vehicle_type        316879 non-null  object\n",
      " 3   registration_year   354369 non-null  int64 \n",
      " 4   gearbox             334536 non-null  object\n",
      " 5   power               354369 non-null  int64 \n",
      " 6   model               334664 non-null  object\n",
      " 7   kilometer           354369 non-null  int64 \n",
      " 8   registration_month  354369 non-null  int64 \n",
      " 9   fuel_type           321474 non-null  object\n",
      " 10  brand               354369 non-null  object\n",
      " 11  repaired            283215 non-null  object\n",
      " 12  date_created        354369 non-null  object\n",
      " 13  number_of_pictures  354369 non-null  int64 \n",
      " 14  postal_code         354369 non-null  int64 \n",
      " 15  last_seen           354369 non-null  object\n",
      "dtypes: int64(7), object(9)\n",
      "memory usage: 43.3+ MB\n"
     ]
    }
   ],
   "source": [
    "data.info()"
   ]
  },
  {
   "cell_type": "code",
   "execution_count": 8,
   "metadata": {},
   "outputs": [
    {
     "data": {
      "image/png": "[encoded data removed]",
      "text/plain": [
       "<Figure size 1080x504 with 2 Axes>"
      ]
     },
     "metadata": {},
     "output_type": "display_data"
    }
   ],
   "source": [
    "# Корреляция параметров\n",
    "plt.figure(figsize=(15, 7))\n",
    "sns.heatmap(data.corr(), annot=True, fmt=\".2f\", cmap='RdYlGn');"
   ]
  },
  {
   "cell_type": "markdown",
   "metadata": {},
   "source": [
    "Коэффициенты Пирсона менее 0.5, корреляция отсутствует"
   ]
  },
  {
   "cell_type": "markdown",
   "metadata": {},
   "source": [
    "Построим основные распределения по признакам"
   ]
  },
  {
   "cell_type": "code",
   "execution_count": 9,
   "metadata": {
    "scrolled": false
   },
   "outputs": [
    {
     "data": {
      "image/png": "[encoded data removed]",
      "text/plain": [
       "<Figure size 1080x432 with 2 Axes>"
      ]
     },
     "metadata": {},
     "output_type": "display_data"
    },
    {
     "data": {
      "image/png": "[encoded data removed]",
      "text/plain": [
       "<Figure size 1080x432 with 2 Axes>"
      ]
     },
     "metadata": {},
     "output_type": "display_data"
    },
    {
     "data": {
      "image/png": "[encoded data removed]",
      "text/plain": [
       "<Figure size 1080x432 with 2 Axes>"
      ]
     },
     "metadata": {},
     "output_type": "display_data"
    },
    {
     "data": {
      "image/png": "[encoded data removed]",
      "text/plain": [
       "<Figure size 1080x432 with 2 Axes>"
      ]
     },
     "metadata": {},
     "output_type": "display_data"
    },
    {
     "data": {
      "image/png": "[encoded data removed]",
      "text/plain": [
       "<Figure size 1080x432 with 2 Axes>"
      ]
     },
     "metadata": {},
     "output_type": "display_data"
    }
   ],
   "source": [
    "sns.set(style=\"ticks\")\n",
    "\n",
    "for i in ['price', 'registration_year', 'power', 'kilometer', 'registration_month']:\n",
    "    \n",
    "    x = data[i]\n",
    "\n",
    "    f, (ax_box, ax_hist) = plt.subplots(2, sharex=True, figsize=(15,6),\n",
    "                                    gridspec_kw={\"height_ratios\": (.15, .85)})\n",
    "    \n",
    "    sns.boxplot(x, ax=ax_box)\n",
    "    sns.distplot(x, ax=ax_hist)\n",
    "\n",
    "    ax_box.set(yticks=[])\n",
    "    plt.ylabel('Количество наблюдений')\n",
    "    sns.despine(ax=ax_hist)\n",
    "    sns.despine(ax=ax_box, left=True)\n",
    "    plt.show()"
   ]
  },
  {
   "cell_type": "code",
   "execution_count": 11,
   "metadata": {
    "scrolled": false
   },
   "outputs": [
    {
     "data": {
      "image/png": "[encoded data removed]",
      "text/plain": [
       "<Figure size 864x432 with 1 Axes>"
      ]
     },
     "metadata": {},
     "output_type": "display_data"
    },
    {
     "data": {
      "image/png": "[encoded data removed]",
      "text/plain": [
       "<Figure size 864x432 with 1 Axes>"
      ]
     },
     "metadata": {},
     "output_type": "display_data"
    },
    {
     "data": {
      "image/png": "[encoded data removed]",
      "text/plain": [
       "<Figure size 864x432 with 1 Axes>"
      ]
     },
     "metadata": {},
     "output_type": "display_data"
    },
    {
     "data": {
      "image/png": "[encoded data removed]",
      "text/plain": [
       "<Figure size 864x432 with 1 Axes>"
      ]
     },
     "metadata": {},
     "output_type": "display_data"
    },
    {
     "data": {
      "image/png": "[encoded data removed]",
      "text/plain": [
       "<Figure size 864x432 with 1 Axes>"
      ]
     },
     "metadata": {},
     "output_type": "display_data"
    },
    {
     "data": {
      "image/png": "[encoded data removed]",
      "text/plain": [
       "<Figure size 864x432 with 1 Axes>"
      ]
     },
     "metadata": {},
     "output_type": "display_data"
    }
   ],
   "source": [
    "for i in ['vehicle_type', 'gearbox', 'model', 'fuel_type', 'brand', 'repaired']:\n",
    "    plt.figure(figsize=(12,6))\n",
    "    data[i].value_counts().head(10).plot(kind ='bar', rot='0')\n",
    "    plt.ylabel('Количество наблюдений')\n",
    "    plt.title(f'Распределение признака {i}')\n",
    "    plt.show()"
   ]
  },
  {
   "cell_type": "markdown",
   "metadata": {},
   "source": [
    "<div style=\"border:solid black 3px; padding: 10px\">\n",
    "<b> Выводы:</b>\n",
    "\n",
    "- Некорректные название столбцов\n",
    "\n",
    "- Для целого ряда столбцов есть пропущенные значения, по ряду признаков есть аномальные значения.\n",
    "\n",
    "- Пропуски в типе автомобильного кузова, коробке передач, модели и типе используемого топлива предлагается заполнить по аналогичным данным в датасете.\n",
    "\n",
    "- Можно предположить, что отсутствующая информация о ремонте автомобиля означает, что автомобиль не ремонтировался.\n",
    "\n",
    "- Столбцы DateCrawled, DateCreated, NumberOfPictures, PostalCode, LastSeen не имеют значимости и будут удалены.\n",
    "\n",
    "- Выбросы в признаках будут отброшены с учетом их распределения."
   ]
  },
  {
   "cell_type": "markdown",
   "metadata": {},
   "source": [
    "### Предобработка данных"
   ]
  },
  {
   "cell_type": "code",
   "execution_count": 12,
   "metadata": {},
   "outputs": [
    {
     "data": {
      "text/plain": [
       "date_crawled              0\n",
       "price                     0\n",
       "vehicle_type          37490\n",
       "registration_year         0\n",
       "gearbox               19833\n",
       "power                     0\n",
       "model                 19705\n",
       "kilometer                 0\n",
       "registration_month        0\n",
       "fuel_type             32895\n",
       "brand                     0\n",
       "repaired              71154\n",
       "date_created              0\n",
       "number_of_pictures        0\n",
       "postal_code               0\n",
       "last_seen                 0\n",
       "dtype: int64"
      ]
     },
     "execution_count": 12,
     "metadata": {},
     "output_type": "execute_result"
    }
   ],
   "source": [
    "# Количество пропущенных значений\n",
    "data.isna().sum()"
   ]
  },
  {
   "cell_type": "code",
   "execution_count": 13,
   "metadata": {
    "scrolled": true
   },
   "outputs": [
    {
     "data": {
      "text/plain": [
       "'Процент пропусков в признаке vehicle_type - 11.83%'"
      ]
     },
     "metadata": {},
     "output_type": "display_data"
    },
    {
     "data": {
      "text/plain": [
       "'Процент пропусков в признаке gearbox - 5.93%'"
      ]
     },
     "metadata": {},
     "output_type": "display_data"
    },
    {
     "data": {
      "text/plain": [
       "'Процент пропусков в признаке model - 5.89%'"
      ]
     },
     "metadata": {},
     "output_type": "display_data"
    },
    {
     "data": {
      "text/plain": [
       "'Процент пропусков в признаке fuel_type - 10.23%'"
      ]
     },
     "metadata": {},
     "output_type": "display_data"
    },
    {
     "data": {
      "text/plain": [
       "'Процент пропусков в признаке repaired - 25.12%'"
      ]
     },
     "metadata": {},
     "output_type": "display_data"
    }
   ],
   "source": [
    "# Процент пропусков \n",
    "for i in data.columns:\n",
    "    if data[i].isna().sum()/data[i].count()*100 > 0:\n",
    "        a = data[i].isna().sum()/data[i].count()\n",
    "        display(f'Процент пропусков в признаке {i} - {a:.02%}')"
   ]
  },
  {
   "cell_type": "code",
   "execution_count": 14,
   "metadata": {},
   "outputs": [
    {
     "data": {
      "text/plain": [
       "354369"
      ]
     },
     "execution_count": 14,
     "metadata": {},
     "output_type": "execute_result"
    }
   ],
   "source": [
    "# Кол-во обьектов до обработки \n",
    "start_len = data.shape[0]\n",
    "start_len"
   ]
  },
  {
   "cell_type": "code",
   "execution_count": 15,
   "metadata": {},
   "outputs": [
    {
     "data": {
      "text/html": [
       "<div>\n",
       "<style scoped>\n",
       "    .dataframe tbody tr th:only-of-type {\n",
       "        vertical-align: middle;\n",
       "    }\n",
       "\n",
       "    .dataframe tbody tr th {\n",
       "        vertical-align: top;\n",
       "    }\n",
       "\n",
       "    .dataframe thead th {\n",
       "        text-align: right;\n",
       "    }\n",
       "</style>\n",
       "<table border=\"1\" class=\"dataframe\">\n",
       "  <thead>\n",
       "    <tr style=\"text-align: right;\">\n",
       "      <th></th>\n",
       "      <th>date_crawled</th>\n",
       "      <th>price</th>\n",
       "      <th>vehicle_type</th>\n",
       "      <th>registration_year</th>\n",
       "      <th>gearbox</th>\n",
       "      <th>power</th>\n",
       "      <th>model</th>\n",
       "      <th>kilometer</th>\n",
       "      <th>registration_month</th>\n",
       "      <th>fuel_type</th>\n",
       "      <th>brand</th>\n",
       "      <th>repaired</th>\n",
       "      <th>date_created</th>\n",
       "      <th>number_of_pictures</th>\n",
       "      <th>postal_code</th>\n",
       "      <th>last_seen</th>\n",
       "    </tr>\n",
       "  </thead>\n",
       "  <tbody>\n",
       "    <tr>\n",
       "      <th>171088</th>\n",
       "      <td>2016-03-08 18:42:48</td>\n",
       "      <td>1799</td>\n",
       "      <td>coupe</td>\n",
       "      <td>1999</td>\n",
       "      <td>auto</td>\n",
       "      <td>193</td>\n",
       "      <td>clk</td>\n",
       "      <td>20000</td>\n",
       "      <td>7</td>\n",
       "      <td>petrol</td>\n",
       "      <td>mercedes_benz</td>\n",
       "      <td>no</td>\n",
       "      <td>2016-03-08 00:00:00</td>\n",
       "      <td>0</td>\n",
       "      <td>89518</td>\n",
       "      <td>2016-03-09 09:46:57</td>\n",
       "    </tr>\n",
       "    <tr>\n",
       "      <th>231258</th>\n",
       "      <td>2016-03-28 00:56:10</td>\n",
       "      <td>1000</td>\n",
       "      <td>small</td>\n",
       "      <td>2002</td>\n",
       "      <td>manual</td>\n",
       "      <td>83</td>\n",
       "      <td>other</td>\n",
       "      <td>150000</td>\n",
       "      <td>1</td>\n",
       "      <td>petrol</td>\n",
       "      <td>suzuki</td>\n",
       "      <td>no</td>\n",
       "      <td>2016-03-28 00:00:00</td>\n",
       "      <td>0</td>\n",
       "      <td>66589</td>\n",
       "      <td>2016-03-28 08:46:21</td>\n",
       "    </tr>\n",
       "    <tr>\n",
       "      <th>258109</th>\n",
       "      <td>2016-04-03 09:01:15</td>\n",
       "      <td>4699</td>\n",
       "      <td>coupe</td>\n",
       "      <td>2003</td>\n",
       "      <td>auto</td>\n",
       "      <td>218</td>\n",
       "      <td>clk</td>\n",
       "      <td>125000</td>\n",
       "      <td>6</td>\n",
       "      <td>petrol</td>\n",
       "      <td>mercedes_benz</td>\n",
       "      <td>yes</td>\n",
       "      <td>2016-04-03 00:00:00</td>\n",
       "      <td>0</td>\n",
       "      <td>75196</td>\n",
       "      <td>2016-04-07 09:44:54</td>\n",
       "    </tr>\n",
       "    <tr>\n",
       "      <th>325651</th>\n",
       "      <td>2016-03-18 18:46:15</td>\n",
       "      <td>1999</td>\n",
       "      <td>wagon</td>\n",
       "      <td>2001</td>\n",
       "      <td>manual</td>\n",
       "      <td>131</td>\n",
       "      <td>passat</td>\n",
       "      <td>150000</td>\n",
       "      <td>7</td>\n",
       "      <td>gasoline</td>\n",
       "      <td>volkswagen</td>\n",
       "      <td>no</td>\n",
       "      <td>2016-03-18 00:00:00</td>\n",
       "      <td>0</td>\n",
       "      <td>36391</td>\n",
       "      <td>2016-03-18 18:46:15</td>\n",
       "    </tr>\n",
       "  </tbody>\n",
       "</table>\n",
       "</div>"
      ],
      "text/plain": [
       "               date_crawled  price vehicle_type  registration_year gearbox  \\\n",
       "171088  2016-03-08 18:42:48   1799        coupe               1999    auto   \n",
       "231258  2016-03-28 00:56:10   1000        small               2002  manual   \n",
       "258109  2016-04-03 09:01:15   4699        coupe               2003    auto   \n",
       "325651  2016-03-18 18:46:15   1999        wagon               2001  manual   \n",
       "\n",
       "        power   model  kilometer  registration_month fuel_type          brand  \\\n",
       "171088    193     clk      20000                   7    petrol  mercedes_benz   \n",
       "231258     83   other     150000                   1    petrol         suzuki   \n",
       "258109    218     clk     125000                   6    petrol  mercedes_benz   \n",
       "325651    131  passat     150000                   7  gasoline     volkswagen   \n",
       "\n",
       "       repaired         date_created  number_of_pictures  postal_code  \\\n",
       "171088       no  2016-03-08 00:00:00                   0        89518   \n",
       "231258       no  2016-03-28 00:00:00                   0        66589   \n",
       "258109      yes  2016-04-03 00:00:00                   0        75196   \n",
       "325651       no  2016-03-18 00:00:00                   0        36391   \n",
       "\n",
       "                  last_seen  \n",
       "171088  2016-03-09 09:46:57  \n",
       "231258  2016-03-28 08:46:21  \n",
       "258109  2016-04-07 09:44:54  \n",
       "325651  2016-03-18 18:46:15  "
      ]
     },
     "execution_count": 15,
     "metadata": {},
     "output_type": "execute_result"
    }
   ],
   "source": [
    "# подсчёт явных дубликатов\n",
    "data.loc[data.duplicated()]"
   ]
  },
  {
   "cell_type": "code",
   "execution_count": 16,
   "metadata": {},
   "outputs": [],
   "source": [
    "# удаление явных дубликатов\n",
    "data = data.drop_duplicates()"
   ]
  },
  {
   "cell_type": "markdown",
   "metadata": {},
   "source": [
    "Предположив, что отсутствующая информация о ремонте автомобиля означает, что автомобиль не ремонтировался заполним пропуски значением no."
   ]
  },
  {
   "cell_type": "code",
   "execution_count": 17,
   "metadata": {},
   "outputs": [],
   "source": [
    "data['repaired'] = data['repaired'].fillna('no') "
   ]
  },
  {
   "cell_type": "markdown",
   "metadata": {},
   "source": [
    "Пропуски в признаке `model` заполним по наиболее часто встречающимся значении в сгруппированной таблице, при отсутствии данных производится замена на значение `other`."
   ]
  },
  {
   "cell_type": "code",
   "execution_count": 18,
   "metadata": {},
   "outputs": [],
   "source": [
    "data['model'] = data.groupby(['brand', 'registration_year', 'power'])['model'].transform(\n",
    "    lambda x: x.fillna((x.mode()[0] if not x.mode().empty else \"other\")))"
   ]
  },
  {
   "cell_type": "markdown",
   "metadata": {},
   "source": [
    "Пропуски в признаке `gearbox` заполним по наиболее часто встречающимся значении в сгруппированной таблице."
   ]
  },
  {
   "cell_type": "code",
   "execution_count": 19,
   "metadata": {},
   "outputs": [],
   "source": [
    "data['gearbox'] = data.groupby(['brand', 'model', 'registration_year'])['gearbox'].transform(\n",
    "    lambda x: x.fillna((x.mode()[0] if not x.mode().empty else \"unknown\")))"
   ]
  },
  {
   "cell_type": "markdown",
   "metadata": {},
   "source": [
    "Пропуски в признаке `fuel_type` заполним по наиболее часто встречающимся значении в сгруппированной таблице."
   ]
  },
  {
   "cell_type": "code",
   "execution_count": 20,
   "metadata": {},
   "outputs": [],
   "source": [
    "data['fuel_type'] = data.groupby(['brand', 'model', 'registration_year', 'gearbox'])['fuel_type'].transform(\n",
    "    lambda x: x.fillna((x.mode()[0] if not x.mode().empty else \"unknown\")))"
   ]
  },
  {
   "cell_type": "markdown",
   "metadata": {},
   "source": [
    "Пропуски в признаке `vehicle_type` заполним по наиболее часто встречающимся значении в сгруппированной таблице."
   ]
  },
  {
   "cell_type": "code",
   "execution_count": 21,
   "metadata": {},
   "outputs": [],
   "source": [
    "data['vehicle_type'] = data.groupby(['brand', 'model', 'registration_year'])['vehicle_type'].transform(\n",
    "    lambda x: x.fillna((x.mode()[0] if not x.mode().empty else \"unknown\")))"
   ]
  },
  {
   "cell_type": "markdown",
   "metadata": {},
   "source": [
    "Столбцы `DateCrawled, DateCreated, NumberOfPictures, PostalCode, LastSeen` не представляют интереса для модели, их можно удалить."
   ]
  },
  {
   "cell_type": "code",
   "execution_count": 22,
   "metadata": {},
   "outputs": [],
   "source": [
    "# удаление лишних столбцов\n",
    "data = data.drop(['date_crawled', 'date_created', 'number_of_pictures', 'postal_code', 'last_seen'], axis=1)"
   ]
  },
  {
   "cell_type": "markdown",
   "metadata": {},
   "source": [
    "Так как в датасете после заполнения всеравно остались пропуски, то обьекты с пропусками будут удалены."
   ]
  },
  {
   "cell_type": "code",
   "execution_count": 23,
   "metadata": {},
   "outputs": [],
   "source": [
    "for i in ['vehicle_type', 'fuel_type', 'gearbox']:\n",
    "    data[i] = data[i].replace('unknown', np.nan)"
   ]
  },
  {
   "cell_type": "code",
   "execution_count": 24,
   "metadata": {
    "scrolled": true
   },
   "outputs": [
    {
     "data": {
      "text/plain": [
       "price                     0\n",
       "vehicle_type          14612\n",
       "registration_year         0\n",
       "gearbox                 407\n",
       "power                     0\n",
       "model                     0\n",
       "kilometer                 0\n",
       "registration_month        0\n",
       "fuel_type               655\n",
       "brand                     0\n",
       "repaired                  0\n",
       "dtype: int64"
      ]
     },
     "execution_count": 24,
     "metadata": {},
     "output_type": "execute_result"
    }
   ],
   "source": [
    "data.isna().sum()"
   ]
  },
  {
   "cell_type": "code",
   "execution_count": 25,
   "metadata": {},
   "outputs": [],
   "source": [
    "# удаление пропусков\n",
    "data = data.dropna()"
   ]
  },
  {
   "cell_type": "code",
   "execution_count": 26,
   "metadata": {},
   "outputs": [
    {
     "name": "stdout",
     "output_type": "stream",
     "text": [
      "После удаления пропусков датасет уменьшился на 4.20%\n"
     ]
    }
   ],
   "source": [
    "print(f'После удаления пропусков датасет уменьшился на {1-data.shape[0]/start_len:.02%}')"
   ]
  },
  {
   "cell_type": "markdown",
   "metadata": {},
   "source": [
    "Создадим новый столбец, включающий обьединение признаков brand и model"
   ]
  },
  {
   "cell_type": "code",
   "execution_count": 27,
   "metadata": {},
   "outputs": [],
   "source": [
    "data['brand_model'] = data['brand']+'_'+data['model']"
   ]
  },
  {
   "cell_type": "markdown",
   "metadata": {},
   "source": [
    "Теперь можно удалить эти два столбца"
   ]
  },
  {
   "cell_type": "code",
   "execution_count": 28,
   "metadata": {},
   "outputs": [],
   "source": [
    "# удаление лишних столбцов\n",
    "data = data.drop(['brand', 'model'], axis=1)"
   ]
  },
  {
   "cell_type": "code",
   "execution_count": 29,
   "metadata": {},
   "outputs": [
    {
     "name": "stdout",
     "output_type": "stream",
     "text": [
      "0 33311\n",
      "1 22459\n",
      "2 20589\n",
      "3 33233\n",
      "4 28183\n",
      "5 28134\n",
      "6 30383\n",
      "7 26308\n",
      "8 21764\n",
      "9 23064\n",
      "10 25260\n",
      "11 23380\n",
      "12 23418\n"
     ]
    }
   ],
   "source": [
    "# распределение \n",
    "for i in range(0, 13):\n",
    "    print(i, data[data['registration_month'] == i]['registration_month'].count())"
   ]
  },
  {
   "cell_type": "markdown",
   "metadata": {},
   "source": [
    "Признак `registration_month` имеет лишнее значение, так как точно определить его невозможно то его также можно удалить"
   ]
  },
  {
   "cell_type": "code",
   "execution_count": 30,
   "metadata": {},
   "outputs": [],
   "source": [
    "# удаление лишних столбцов\n",
    "data = data.drop(['registration_month'], axis=1)"
   ]
  },
  {
   "cell_type": "markdown",
   "metadata": {},
   "source": [
    "### Обработка аномальных значений"
   ]
  },
  {
   "cell_type": "code",
   "execution_count": 31,
   "metadata": {},
   "outputs": [
    {
     "data": {
      "image/png": "[encoded data removed]",
      "text/plain": [
       "<Figure size 1080x21.6 with 1 Axes>"
      ]
     },
     "metadata": {},
     "output_type": "display_data"
    },
    {
     "data": {
      "image/png": "[encoded data removed]",
      "text/plain": [
       "<Figure size 1080x21.6 with 1 Axes>"
      ]
     },
     "metadata": {},
     "output_type": "display_data"
    },
    {
     "data": {
      "image/png": "[encoded data removed]",
      "text/plain": [
       "<Figure size 1080x21.6 with 1 Axes>"
      ]
     },
     "metadata": {},
     "output_type": "display_data"
    },
    {
     "data": {
      "image/png": "[encoded data removed]",
      "text/plain": [
       "<Figure size 1080x21.6 with 1 Axes>"
      ]
     },
     "metadata": {},
     "output_type": "display_data"
    }
   ],
   "source": [
    "#распределение числовых признаков\n",
    "for i in ['price','registration_year','power','kilometer']:\n",
    "    plt.figure(figsize=(15,.3))\n",
    "    sns.boxplot(data[i]);\n",
    "    plt.show()"
   ]
  },
  {
   "cell_type": "markdown",
   "metadata": {},
   "source": [
    "Очистим признак `power` от выбросов и некорректных  данных, т.к. мощность машины меньше 40 лошадиных сил неадекватна, значения нужно заменить на медианное значение по сгруппированной таблице по аналогичным объявлениям. Значения, которые входят в промежуток больше удвоенного значения правого уса, можно удалить."
   ]
  },
  {
   "cell_type": "code",
   "execution_count": 32,
   "metadata": {},
   "outputs": [],
   "source": [
    "# Возвращает значение границ\n",
    "def whiskers(column):\n",
    "    # межквартирльный размах\n",
    "    iqr = data[column].describe()[6] - data[column].describe()[4]\n",
    "    \n",
    "    # левый и правый \"ус\"    \n",
    "    left_whisker = round(data[column].describe()[4] - 1.5 * iqr, 2)\n",
    "    right_whisker = round(data[column].describe()[6] + 1.5 * iqr, 2)\n",
    "    \n",
    "    # левый \"ус\" не должен быть меньше минимального значения\n",
    "    if left_whisker < data[column].describe()[3]: left_whisker = data[column].describe()[3] \n",
    "        \n",
    "    # правый \"ус\" не должен быть больше максимального значения\n",
    "    if right_whisker > data[column].describe()[7]: right_whisker = data[column].describe()[7]\n",
    "           \n",
    "    return [left_whisker, right_whisker]"
   ]
  },
  {
   "cell_type": "code",
   "execution_count": 33,
   "metadata": {},
   "outputs": [],
   "source": [
    "data = data[data['power'] < whiskers('power')[1]*2]"
   ]
  },
  {
   "cell_type": "code",
   "execution_count": 34,
   "metadata": {},
   "outputs": [],
   "source": [
    "data['power'] = data['power'].replace(0, np.nan)"
   ]
  },
  {
   "cell_type": "code",
   "execution_count": 35,
   "metadata": {},
   "outputs": [],
   "source": [
    "data['power'] = data.groupby(['brand_model', 'registration_year', 'vehicle_type', 'gearbox'])['power'].transform(\n",
    "    lambda x: x.fillna(x.median()))"
   ]
  },
  {
   "cell_type": "markdown",
   "metadata": {},
   "source": [
    "Очистим целевой признак `price` от выбросов и некорректных  данных, т.к. стоимость машины за 0 евро неадекватна, значения нужно заменить на медианное значение по сгруппированной таблице по аналогичным объявлениям. Значения, которые входят в промежуток больше значения правого уса, можно удалить."
   ]
  },
  {
   "cell_type": "code",
   "execution_count": 36,
   "metadata": {},
   "outputs": [],
   "source": [
    "data = data[data['price'] < whiskers('price')[1]]"
   ]
  },
  {
   "cell_type": "code",
   "execution_count": 37,
   "metadata": {},
   "outputs": [],
   "source": [
    "data['price'] = data['price'].replace(0, np.nan)"
   ]
  },
  {
   "cell_type": "code",
   "execution_count": 38,
   "metadata": {},
   "outputs": [],
   "source": [
    "data['price'] = data.groupby(['brand_model', 'registration_year', 'vehicle_type', 'gearbox'])['price'].transform(\n",
    "    lambda x: x.fillna(x.median()))"
   ]
  },
  {
   "cell_type": "code",
   "execution_count": 39,
   "metadata": {},
   "outputs": [
    {
     "data": {
      "text/plain": [
       "1452"
      ]
     },
     "execution_count": 39,
     "metadata": {},
     "output_type": "execute_result"
    }
   ],
   "source": [
    "# Кол-во обьявлений меньше 40 евро\n",
    "data[data['price'] < 40]['price'].count()"
   ]
  },
  {
   "cell_type": "markdown",
   "metadata": {},
   "source": [
    "Кол-во относительно общего датасета не велико, их также удаляем."
   ]
  },
  {
   "cell_type": "code",
   "execution_count": 40,
   "metadata": {},
   "outputs": [],
   "source": [
    "data = data[data['price'] >= 40].reset_index(drop=True)"
   ]
  },
  {
   "cell_type": "markdown",
   "metadata": {},
   "source": [
    "В признаке `registration_year` оставим только современные автомобили, раритетные машины сохраним в отдельном датасете."
   ]
  },
  {
   "cell_type": "code",
   "execution_count": 41,
   "metadata": {},
   "outputs": [],
   "source": [
    "# удаление пропусков\n",
    "data = data.dropna()"
   ]
  },
  {
   "cell_type": "code",
   "execution_count": 42,
   "metadata": {},
   "outputs": [],
   "source": [
    "old_data = data[data['registration_year'] < 1980].reset_index(drop=True)"
   ]
  },
  {
   "cell_type": "code",
   "execution_count": 43,
   "metadata": {},
   "outputs": [],
   "source": [
    "data = data[(data['registration_year'] >= 1980) & (data['registration_year'] <= 2016)].reset_index(drop=True)"
   ]
  },
  {
   "cell_type": "code",
   "execution_count": 44,
   "metadata": {},
   "outputs": [
    {
     "name": "stdout",
     "output_type": "stream",
     "text": [
      "После удаления пропусков датасет уменьшился на 11.74%\n"
     ]
    }
   ],
   "source": [
    "print(f'После удаления пропусков датасет уменьшился на {1-data.shape[0]/start_len:.02%}')"
   ]
  },
  {
   "cell_type": "code",
   "execution_count": 45,
   "metadata": {},
   "outputs": [
    {
     "data": {
      "image/png": "[encoded data removed]",
      "text/plain": [
       "<Figure size 1080x21.6 with 1 Axes>"
      ]
     },
     "metadata": {},
     "output_type": "display_data"
    },
    {
     "data": {
      "image/png": "[encoded data removed]",
      "text/plain": [
       "<Figure size 1080x21.6 with 1 Axes>"
      ]
     },
     "metadata": {},
     "output_type": "display_data"
    },
    {
     "data": {
      "image/png": "[encoded data removed]",
      "text/plain": [
       "<Figure size 1080x21.6 with 1 Axes>"
      ]
     },
     "metadata": {},
     "output_type": "display_data"
    },
    {
     "data": {
      "image/png": "[encoded data removed]",
      "text/plain": [
       "<Figure size 1080x21.6 with 1 Axes>"
      ]
     },
     "metadata": {},
     "output_type": "display_data"
    }
   ],
   "source": [
    "#распределение числовых признаков\n",
    "for i in ['price','registration_year','power','kilometer']:\n",
    "    plt.figure(figsize=(15,.3))\n",
    "    sns.boxplot(data[i]);\n",
    "    plt.show()"
   ]
  },
  {
   "cell_type": "markdown",
   "metadata": {},
   "source": [
    "<div style=\"border:solid black 3px; padding: 10px\">\n",
    "<b> Выводы:</b>\n",
    "\n",
    "- Название столбцов приведены к нижнему регистру\n",
    "\n",
    "- Пропущенные значения в количественных признаках заполнены по медиане ближайших аналогов.\n",
    "\n",
    "- Аномальные значения признаков отброшены с учетом крайних значений усов.\n",
    "\n",
    "- Пропуски в типе автомобильного кузова, коробке передач, модели и типе используемого топлива заполнены по ближайшим аналогам.\n",
    "\n",
    "- Отсутствующая информация о ремонте автомобиля означает, что автомобиль не ремонтировался.\n",
    "\n",
    "- Столбцы DateCrawled, DateCreated, NumberOfPictures, PostalCode, LastSeen и registration_month не имеют значимости и удалены.\n",
    "\n",
    "- Признаки модель и бренд объединены в один."
   ]
  },
  {
   "cell_type": "markdown",
   "metadata": {},
   "source": [
    "## Обучение моделей"
   ]
  },
  {
   "cell_type": "markdown",
   "metadata": {},
   "source": [
    "### One-Hot Encoding"
   ]
  },
  {
   "cell_type": "markdown",
   "metadata": {},
   "source": [
    "Преобразуем категориальные признаки в численные техникой прямого кодирования One-Hot Encoding"
   ]
  },
  {
   "cell_type": "code",
   "execution_count": 46,
   "metadata": {
    "scrolled": true
   },
   "outputs": [],
   "source": [
    "# кодирование признаков ohe\n",
    "data_ohe = pd.get_dummies(data, drop_first=True)"
   ]
  },
  {
   "cell_type": "code",
   "execution_count": 47,
   "metadata": {},
   "outputs": [],
   "source": [
    "features_ohe = data_ohe.drop('price',axis=1)\n",
    "target_ohe = data_ohe['price']"
   ]
  },
  {
   "cell_type": "code",
   "execution_count": 48,
   "metadata": {},
   "outputs": [],
   "source": [
    "x_train_ohe, x_test_ohe, y_train_ohe, y_test_ohe = train_test_split(features_ohe, target_ohe,\n",
    "                                                            test_size=.25, random_state=12345)"
   ]
  },
  {
   "cell_type": "markdown",
   "metadata": {},
   "source": [
    "### Ordinal Encoder"
   ]
  },
  {
   "cell_type": "code",
   "execution_count": 49,
   "metadata": {},
   "outputs": [],
   "source": [
    "#Названия признаков\n",
    "cat_features = ['vehicle_type', 'gearbox', 'brand_model', 'fuel_type', 'repaired']\n",
    "quantity_features = ['power', 'registration_year', 'kilometer']"
   ]
  },
  {
   "cell_type": "code",
   "execution_count": 50,
   "metadata": {},
   "outputs": [],
   "source": [
    "features = data.drop('price',axis=1)\n",
    "target = data['price']\n",
    "\n",
    "encoder = OrdinalEncoder(categories = 'auto')\n",
    "\n",
    "features = pd.concat([pd.DataFrame(data = encoder.fit_transform(features[cat_features]),\n",
    "                                   columns = cat_features), features[quantity_features]], axis=1)"
   ]
  },
  {
   "cell_type": "code",
   "execution_count": 51,
   "metadata": {},
   "outputs": [],
   "source": [
    "x_train, x_test, y_train, y_test = train_test_split(features, target,\n",
    "                                                    test_size=.25, random_state=12345)"
   ]
  },
  {
   "cell_type": "markdown",
   "metadata": {},
   "source": [
    "Масштабирование признаков"
   ]
  },
  {
   "cell_type": "code",
   "execution_count": 52,
   "metadata": {},
   "outputs": [],
   "source": [
    "#Масштабирование признаков выборок\n",
    "scaler = StandardScaler()\n",
    "scaler.fit(x_train_ohe[quantity_features])\n",
    "\n",
    "x_train_ohe[quantity_features] = scaler.transform(x_train_ohe[quantity_features])\n",
    "x_test_ohe[quantity_features] = scaler.transform(x_test_ohe[quantity_features])\n",
    "\n",
    "x_train[quantity_features] = scaler.transform(x_train[quantity_features])\n",
    "x_test[quantity_features] = scaler.transform(x_test[quantity_features])"
   ]
  },
  {
   "cell_type": "markdown",
   "metadata": {},
   "source": [
    "## Анализ моделей"
   ]
  },
  {
   "cell_type": "markdown",
   "metadata": {},
   "source": [
    "### Линейная регрессия"
   ]
  },
  {
   "cell_type": "code",
   "execution_count": 62,
   "metadata": {},
   "outputs": [
    {
     "name": "stdout",
     "output_type": "stream",
     "text": [
      "CPU times: user 1min 29s, sys: 1min 12s, total: 2min 41s\n",
      "Wall time: 2min 45s\n"
     ]
    }
   ],
   "source": [
    "%%time\n",
    "line_Reg = LinearRegression()\n",
    "cross_val_line = cross_val_score(line_Reg,\n",
    "                                 features_ohe,\n",
    "                                 target_ohe,\n",
    "                                 scoring='neg_mean_squared_error',\n",
    "                                 n_jobs=-1,\n",
    "                                 cv=KFold(5, shuffle=True, random_state=12345))"
   ]
  },
  {
   "cell_type": "code",
   "execution_count": 63,
   "metadata": {},
   "outputs": [
    {
     "name": "stdout",
     "output_type": "stream",
     "text": [
      "CPU times: user 17.9 s, sys: 20.6 s, total: 38.5 s\n",
      "Wall time: 40.2 s\n"
     ]
    },
    {
     "data": {
      "text/plain": [
       "LinearRegression()"
      ]
     },
     "execution_count": 63,
     "metadata": {},
     "output_type": "execute_result"
    }
   ],
   "source": [
    "%%time\n",
    "line_Reg.fit(x_train_ohe, y_train_ohe)"
   ]
  },
  {
   "cell_type": "code",
   "execution_count": 64,
   "metadata": {},
   "outputs": [
    {
     "name": "stdout",
     "output_type": "stream",
     "text": [
      "<module 'time' (built-in)>\n",
      "CPU times: user 217 ms, sys: 229 ms, total: 446 ms\n",
      "Wall time: 485 ms\n"
     ]
    }
   ],
   "source": [
    "%%time\n",
    "line_Reg.predict(x_train_ohe)\n",
    "print(time)"
   ]
  },
  {
   "cell_type": "code",
   "execution_count": 65,
   "metadata": {},
   "outputs": [
    {
     "name": "stdout",
     "output_type": "stream",
     "text": [
      "rmse = 2081.40893329433\n"
     ]
    }
   ],
   "source": [
    "print('rmse =', np.mean(np.sqrt(np.abs(cross_val_line)))) "
   ]
  },
  {
   "cell_type": "markdown",
   "metadata": {},
   "source": [
    "### Decision Tree Regressor"
   ]
  },
  {
   "cell_type": "code",
   "execution_count": 59,
   "metadata": {},
   "outputs": [
    {
     "name": "stdout",
     "output_type": "stream",
     "text": [
      "Параметры модели:  {'max_depth': 15}\n",
      "rmse = 1522.6970104761688\n",
      "CPU times: user 19.5 s, sys: 0 ns, total: 19.5 s\n",
      "Wall time: 19.5 s\n"
     ]
    }
   ],
   "source": [
    "%%time\n",
    "params_dtr_grid = {\n",
    "    'max_depth' : range(1, 16)\n",
    "}\n",
    "\n",
    "grid_model_tree = GridSearchCV(DecisionTreeRegressor(random_state=12345),\n",
    "                               param_grid = params_dtr_grid,\n",
    "                               scoring='neg_mean_squared_error',\n",
    "                               cv=KFold(5, shuffle=True, random_state=12345),\n",
    "                               n_jobs=-1) \n",
    "\n",
    "grid_model_tree.fit(x_train, y_train)\n",
    "\n",
    "params_tree = grid_model_tree.best_params_\n",
    "\n",
    "decision_tree = DecisionTreeRegressor(**params_tree, random_state = 12345)\n",
    "\n",
    "rmse_model_decision_tree = np.mean(np.sqrt(np.abs(grid_model_tree.best_score_)))\n",
    "print('Параметры модели: ', grid_model_tree.best_params_)\n",
    "print('rmse =', rmse_model_decision_tree)"
   ]
  },
  {
   "cell_type": "code",
   "execution_count": 60,
   "metadata": {
    "scrolled": false
   },
   "outputs": [],
   "source": [
    "decision_tree_time_fit = grid_model_tree.cv_results_['mean_fit_time'].max()"
   ]
  },
  {
   "cell_type": "code",
   "execution_count": 61,
   "metadata": {},
   "outputs": [],
   "source": [
    "decision_tree_time_score = grid_model_tree.cv_results_['mean_score_time'].max()"
   ]
  },
  {
   "cell_type": "markdown",
   "metadata": {},
   "source": [
    "### Random Forest Regressor"
   ]
  },
  {
   "cell_type": "code",
   "execution_count": 75,
   "metadata": {},
   "outputs": [
    {
     "name": "stdout",
     "output_type": "stream",
     "text": [
      "Параметры модели:  {'max_depth': 15, 'n_estimators': 100}\n",
      "rmse = 1366.6948085408171\n",
      "CPU times: user 19min 26s, sys: 5.04 s, total: 19min 31s\n",
      "Wall time: 19min 35s\n"
     ]
    }
   ],
   "source": [
    "%%time\n",
    "param_rf_grid = {\n",
    "    'n_estimators' : range(80, 110, 10),\n",
    "    'max_depth' : range(13, 16)\n",
    "}\n",
    "\n",
    "grid_model_forest = GridSearchCV(RandomForestRegressor(random_state=12345),\n",
    "                                 param_grid = param_rf_grid, \n",
    "                                 scoring='neg_mean_squared_error',\n",
    "                                 cv=KFold(5, shuffle=True, random_state=12345), \n",
    "                                 n_jobs=-1) \n",
    "\n",
    "grid_model_forest.fit(x_train, y_train)\n",
    "\n",
    "params_forest = grid_model_forest.best_params_\n",
    "random_forest = RandomForestRegressor(**params_forest, random_state = 12345)\n",
    "\n",
    "rmse_model_random_forest = np.mean(np.sqrt(np.abs(grid_model_forest.best_score_)))\n",
    "print('Параметры модели: ', grid_model_forest.best_params_)\n",
    "print('rmse =', rmse_model_random_forest)"
   ]
  },
  {
   "cell_type": "code",
   "execution_count": 76,
   "metadata": {},
   "outputs": [],
   "source": [
    "random_forest_time_fit = grid_model_forest.cv_results_['mean_fit_time'].max()"
   ]
  },
  {
   "cell_type": "code",
   "execution_count": 77,
   "metadata": {},
   "outputs": [],
   "source": [
    "random_forest_time_score = grid_model_forest.cv_results_['mean_score_time'].max()"
   ]
  },
  {
   "cell_type": "markdown",
   "metadata": {},
   "source": [
    "### LightGBM "
   ]
  },
  {
   "cell_type": "code",
   "execution_count": 66,
   "metadata": {
    "scrolled": true
   },
   "outputs": [
    {
     "name": "stdout",
     "output_type": "stream",
     "text": [
      "Fitting 5 folds for each of 24 candidates, totalling 120 fits\n",
      "[CV 1/5; 1/24] START learning_rate=0.1, max_depth=10............................\n",
      "[CV 1/5; 1/24] END ..........learning_rate=0.1, max_depth=10; total time= 2.4min\n",
      "[CV 2/5; 1/24] START learning_rate=0.1, max_depth=10............................\n",
      "[CV 2/5; 1/24] END ..........learning_rate=0.1, max_depth=10; total time= 1.0min\n",
      "[CV 3/5; 1/24] START learning_rate=0.1, max_depth=10............................\n",
      "[CV 3/5; 1/24] END ..........learning_rate=0.1, max_depth=10; total time= 1.6min\n",
      "[CV 4/5; 1/24] START learning_rate=0.1, max_depth=10............................\n",
      "[CV 4/5; 1/24] END ..........learning_rate=0.1, max_depth=10; total time=   4.5s\n",
      "[CV 5/5; 1/24] START learning_rate=0.1, max_depth=10............................\n",
      "[CV 5/5; 1/24] END ..........learning_rate=0.1, max_depth=10; total time=   3.9s\n",
      "[CV 1/5; 2/24] START learning_rate=0.1, max_depth=13............................\n",
      "[CV 1/5; 2/24] END ..........learning_rate=0.1, max_depth=13; total time=   6.5s\n",
      "[CV 2/5; 2/24] START learning_rate=0.1, max_depth=13............................\n",
      "[CV 2/5; 2/24] END ..........learning_rate=0.1, max_depth=13; total time=   4.2s\n",
      "[CV 3/5; 2/24] START learning_rate=0.1, max_depth=13............................\n",
      "[CV 3/5; 2/24] END ..........learning_rate=0.1, max_depth=13; total time=   3.8s\n",
      "[CV 4/5; 2/24] START learning_rate=0.1, max_depth=13............................\n",
      "[CV 4/5; 2/24] END ..........learning_rate=0.1, max_depth=13; total time=   4.5s\n",
      "[CV 5/5; 2/24] START learning_rate=0.1, max_depth=13............................\n",
      "[CV 5/5; 2/24] END ..........learning_rate=0.1, max_depth=13; total time=   3.9s\n",
      "[CV 1/5; 3/24] START learning_rate=0.1, max_depth=16............................\n",
      "[CV 1/5; 3/24] END ..........learning_rate=0.1, max_depth=16; total time=   4.1s\n",
      "[CV 2/5; 3/24] START learning_rate=0.1, max_depth=16............................\n",
      "[CV 2/5; 3/24] END ..........learning_rate=0.1, max_depth=16; total time=   5.6s\n",
      "[CV 3/5; 3/24] START learning_rate=0.1, max_depth=16............................\n",
      "[CV 3/5; 3/24] END ..........learning_rate=0.1, max_depth=16; total time=  13.4s\n",
      "[CV 4/5; 3/24] START learning_rate=0.1, max_depth=16............................\n",
      "[CV 4/5; 3/24] END ..........learning_rate=0.1, max_depth=16; total time=   3.8s\n",
      "[CV 5/5; 3/24] START learning_rate=0.1, max_depth=16............................\n",
      "[CV 5/5; 3/24] END ..........learning_rate=0.1, max_depth=16; total time=   4.0s\n",
      "[CV 1/5; 4/24] START learning_rate=0.2, max_depth=10............................\n",
      "[CV 1/5; 4/24] END ..........learning_rate=0.2, max_depth=10; total time=   4.5s\n",
      "[CV 2/5; 4/24] START learning_rate=0.2, max_depth=10............................\n",
      "[CV 2/5; 4/24] END ..........learning_rate=0.2, max_depth=10; total time=   3.4s\n",
      "[CV 3/5; 4/24] START learning_rate=0.2, max_depth=10............................\n",
      "[CV 3/5; 4/24] END ..........learning_rate=0.2, max_depth=10; total time=   3.8s\n",
      "[CV 4/5; 4/24] START learning_rate=0.2, max_depth=10............................\n",
      "[CV 4/5; 4/24] END ..........learning_rate=0.2, max_depth=10; total time=   6.3s\n",
      "[CV 5/5; 4/24] START learning_rate=0.2, max_depth=10............................\n",
      "[CV 5/5; 4/24] END ..........learning_rate=0.2, max_depth=10; total time=   3.9s\n",
      "[CV 1/5; 5/24] START learning_rate=0.2, max_depth=13............................\n",
      "[CV 1/5; 5/24] END ..........learning_rate=0.2, max_depth=13; total time=   4.1s\n",
      "[CV 2/5; 5/24] START learning_rate=0.2, max_depth=13............................\n",
      "[CV 2/5; 5/24] END ..........learning_rate=0.2, max_depth=13; total time=   3.6s\n",
      "[CV 3/5; 5/24] START learning_rate=0.2, max_depth=13............................\n",
      "[CV 3/5; 5/24] END ..........learning_rate=0.2, max_depth=13; total time=   3.6s\n",
      "[CV 4/5; 5/24] START learning_rate=0.2, max_depth=13............................\n",
      "[CV 4/5; 5/24] END ..........learning_rate=0.2, max_depth=13; total time=   3.8s\n",
      "[CV 5/5; 5/24] START learning_rate=0.2, max_depth=13............................\n",
      "[CV 5/5; 5/24] END ..........learning_rate=0.2, max_depth=13; total time=   5.4s\n",
      "[CV 1/5; 6/24] START learning_rate=0.2, max_depth=16............................\n",
      "[CV 1/5; 6/24] END ..........learning_rate=0.2, max_depth=16; total time=   3.8s\n",
      "[CV 2/5; 6/24] START learning_rate=0.2, max_depth=16............................\n",
      "[CV 2/5; 6/24] END ..........learning_rate=0.2, max_depth=16; total time=   3.5s\n",
      "[CV 3/5; 6/24] START learning_rate=0.2, max_depth=16............................\n",
      "[CV 3/5; 6/24] END ..........learning_rate=0.2, max_depth=16; total time=   4.0s\n",
      "[CV 4/5; 6/24] START learning_rate=0.2, max_depth=16............................\n",
      "[CV 4/5; 6/24] END ..........learning_rate=0.2, max_depth=16; total time=   4.4s\n",
      "[CV 5/5; 6/24] START learning_rate=0.2, max_depth=16............................\n",
      "[CV 5/5; 6/24] END ..........learning_rate=0.2, max_depth=16; total time=   4.6s\n",
      "[CV 1/5; 7/24] START learning_rate=0.30000000000000004, max_depth=10............\n",
      "[CV 1/5; 7/24] END learning_rate=0.30000000000000004, max_depth=10; total time=   3.2s\n",
      "[CV 2/5; 7/24] START learning_rate=0.30000000000000004, max_depth=10............\n",
      "[CV 2/5; 7/24] END learning_rate=0.30000000000000004, max_depth=10; total time=   4.7s\n",
      "[CV 3/5; 7/24] START learning_rate=0.30000000000000004, max_depth=10............\n",
      "[CV 3/5; 7/24] END learning_rate=0.30000000000000004, max_depth=10; total time=   3.3s\n",
      "[CV 4/5; 7/24] START learning_rate=0.30000000000000004, max_depth=10............\n",
      "[CV 4/5; 7/24] END learning_rate=0.30000000000000004, max_depth=10; total time=   3.5s\n",
      "[CV 5/5; 7/24] START learning_rate=0.30000000000000004, max_depth=10............\n",
      "[CV 5/5; 7/24] END learning_rate=0.30000000000000004, max_depth=10; total time=   3.6s\n",
      "[CV 1/5; 8/24] START learning_rate=0.30000000000000004, max_depth=13............\n",
      "[CV 1/5; 8/24] END learning_rate=0.30000000000000004, max_depth=13; total time=   3.3s\n",
      "[CV 2/5; 8/24] START learning_rate=0.30000000000000004, max_depth=13............\n",
      "[CV 2/5; 8/24] END learning_rate=0.30000000000000004, max_depth=13; total time=   3.5s\n",
      "[CV 3/5; 8/24] START learning_rate=0.30000000000000004, max_depth=13............\n",
      "[CV 3/5; 8/24] END learning_rate=0.30000000000000004, max_depth=13; total time=   3.4s\n",
      "[CV 4/5; 8/24] START learning_rate=0.30000000000000004, max_depth=13............\n",
      "[CV 4/5; 8/24] END learning_rate=0.30000000000000004, max_depth=13; total time=   4.5s\n",
      "[CV 5/5; 8/24] START learning_rate=0.30000000000000004, max_depth=13............\n",
      "[CV 5/5; 8/24] END learning_rate=0.30000000000000004, max_depth=13; total time=   3.4s\n",
      "[CV 1/5; 9/24] START learning_rate=0.30000000000000004, max_depth=16............\n",
      "[CV 1/5; 9/24] END learning_rate=0.30000000000000004, max_depth=16; total time=   3.7s\n",
      "[CV 2/5; 9/24] START learning_rate=0.30000000000000004, max_depth=16............\n",
      "[CV 2/5; 9/24] END learning_rate=0.30000000000000004, max_depth=16; total time=   3.3s\n",
      "[CV 3/5; 9/24] START learning_rate=0.30000000000000004, max_depth=16............\n",
      "[CV 3/5; 9/24] END learning_rate=0.30000000000000004, max_depth=16; total time=   3.5s\n",
      "[CV 4/5; 9/24] START learning_rate=0.30000000000000004, max_depth=16............\n",
      "[CV 4/5; 9/24] END learning_rate=0.30000000000000004, max_depth=16; total time=   3.5s\n",
      "[CV 5/5; 9/24] START learning_rate=0.30000000000000004, max_depth=16............\n",
      "[CV 5/5; 9/24] END learning_rate=0.30000000000000004, max_depth=16; total time=   3.6s\n",
      "[CV 1/5; 10/24] START learning_rate=0.4, max_depth=10...........................\n",
      "[CV 1/5; 10/24] END .........learning_rate=0.4, max_depth=10; total time=   3.1s\n",
      "[CV 2/5; 10/24] START learning_rate=0.4, max_depth=10...........................\n",
      "[CV 2/5; 10/24] END .........learning_rate=0.4, max_depth=10; total time=   3.4s\n",
      "[CV 3/5; 10/24] START learning_rate=0.4, max_depth=10...........................\n",
      "[CV 3/5; 10/24] END .........learning_rate=0.4, max_depth=10; total time=   3.8s\n",
      "[CV 4/5; 10/24] START learning_rate=0.4, max_depth=10...........................\n",
      "[CV 4/5; 10/24] END .........learning_rate=0.4, max_depth=10; total time=   3.4s\n",
      "[CV 5/5; 10/24] START learning_rate=0.4, max_depth=10...........................\n",
      "[CV 5/5; 10/24] END .........learning_rate=0.4, max_depth=10; total time=   3.4s\n",
      "[CV 1/5; 11/24] START learning_rate=0.4, max_depth=13...........................\n",
      "[CV 1/5; 11/24] END .........learning_rate=0.4, max_depth=13; total time=   4.4s\n",
      "[CV 2/5; 11/24] START learning_rate=0.4, max_depth=13...........................\n",
      "[CV 2/5; 11/24] END .........learning_rate=0.4, max_depth=13; total time=  27.0s\n",
      "[CV 3/5; 11/24] START learning_rate=0.4, max_depth=13...........................\n",
      "[CV 3/5; 11/24] END .........learning_rate=0.4, max_depth=13; total time=  47.1s\n",
      "[CV 4/5; 11/24] START learning_rate=0.4, max_depth=13...........................\n",
      "[CV 4/5; 11/24] END .........learning_rate=0.4, max_depth=13; total time=  22.1s\n",
      "[CV 5/5; 11/24] START learning_rate=0.4, max_depth=13...........................\n",
      "[CV 5/5; 11/24] END .........learning_rate=0.4, max_depth=13; total time=  28.5s\n",
      "[CV 1/5; 12/24] START learning_rate=0.4, max_depth=16...........................\n",
      "[CV 1/5; 12/24] END .........learning_rate=0.4, max_depth=16; total time=  25.0s\n",
      "[CV 2/5; 12/24] START learning_rate=0.4, max_depth=16...........................\n",
      "[CV 2/5; 12/24] END .........learning_rate=0.4, max_depth=16; total time=  42.9s\n",
      "[CV 3/5; 12/24] START learning_rate=0.4, max_depth=16...........................\n",
      "[CV 3/5; 12/24] END .........learning_rate=0.4, max_depth=16; total time=  24.5s\n",
      "[CV 4/5; 12/24] START learning_rate=0.4, max_depth=16...........................\n",
      "[CV 4/5; 12/24] END .........learning_rate=0.4, max_depth=16; total time=   4.5s\n",
      "[CV 5/5; 12/24] START learning_rate=0.4, max_depth=16...........................\n",
      "[CV 5/5; 12/24] END .........learning_rate=0.4, max_depth=16; total time=   4.7s\n",
      "[CV 1/5; 13/24] START learning_rate=0.5, max_depth=10...........................\n",
      "[CV 1/5; 13/24] END .........learning_rate=0.5, max_depth=10; total time=   3.4s\n",
      "[CV 2/5; 13/24] START learning_rate=0.5, max_depth=10...........................\n",
      "[CV 2/5; 13/24] END .........learning_rate=0.5, max_depth=10; total time=  10.3s\n",
      "[CV 3/5; 13/24] START learning_rate=0.5, max_depth=10...........................\n",
      "[CV 3/5; 13/24] END .........learning_rate=0.5, max_depth=10; total time=  19.5s\n",
      "[CV 4/5; 13/24] START learning_rate=0.5, max_depth=10...........................\n",
      "[CV 4/5; 13/24] END .........learning_rate=0.5, max_depth=10; total time=  35.1s\n",
      "[CV 5/5; 13/24] START learning_rate=0.5, max_depth=10...........................\n",
      "[CV 5/5; 13/24] END .........learning_rate=0.5, max_depth=10; total time=  18.7s\n",
      "[CV 1/5; 14/24] START learning_rate=0.5, max_depth=13...........................\n",
      "[CV 1/5; 14/24] END .........learning_rate=0.5, max_depth=13; total time=   3.4s\n",
      "[CV 2/5; 14/24] START learning_rate=0.5, max_depth=13...........................\n",
      "[CV 2/5; 14/24] END .........learning_rate=0.5, max_depth=13; total time=   3.3s\n",
      "[CV 3/5; 14/24] START learning_rate=0.5, max_depth=13...........................\n",
      "[CV 3/5; 14/24] END .........learning_rate=0.5, max_depth=13; total time=   4.3s\n",
      "[CV 4/5; 14/24] START learning_rate=0.5, max_depth=13...........................\n",
      "[CV 4/5; 14/24] END .........learning_rate=0.5, max_depth=13; total time=   3.2s\n",
      "[CV 5/5; 14/24] START learning_rate=0.5, max_depth=13...........................\n",
      "[CV 5/5; 14/24] END .........learning_rate=0.5, max_depth=13; total time=   3.9s\n",
      "[CV 1/5; 15/24] START learning_rate=0.5, max_depth=16...........................\n",
      "[CV 1/5; 15/24] END .........learning_rate=0.5, max_depth=16; total time= 1.4min\n",
      "[CV 2/5; 15/24] START learning_rate=0.5, max_depth=16...........................\n",
      "[CV 2/5; 15/24] END .........learning_rate=0.5, max_depth=16; total time= 4.3min\n",
      "[CV 3/5; 15/24] START learning_rate=0.5, max_depth=16...........................\n",
      "[CV 3/5; 15/24] END .........learning_rate=0.5, max_depth=16; total time= 3.6min\n",
      "[CV 4/5; 15/24] START learning_rate=0.5, max_depth=16...........................\n",
      "[CV 4/5; 15/24] END .........learning_rate=0.5, max_depth=16; total time=  18.8s\n",
      "[CV 5/5; 15/24] START learning_rate=0.5, max_depth=16...........................\n",
      "[CV 5/5; 15/24] END .........learning_rate=0.5, max_depth=16; total time=   3.1s\n",
      "[CV 1/5; 16/24] START learning_rate=0.6, max_depth=10...........................\n",
      "[CV 1/5; 16/24] END .........learning_rate=0.6, max_depth=10; total time=   3.1s\n",
      "[CV 2/5; 16/24] START learning_rate=0.6, max_depth=10...........................\n",
      "[CV 2/5; 16/24] END .........learning_rate=0.6, max_depth=10; total time=   3.1s\n",
      "[CV 3/5; 16/24] START learning_rate=0.6, max_depth=10...........................\n",
      "[CV 3/5; 16/24] END .........learning_rate=0.6, max_depth=10; total time=   3.9s\n",
      "[CV 4/5; 16/24] START learning_rate=0.6, max_depth=10...........................\n",
      "[CV 4/5; 16/24] END .........learning_rate=0.6, max_depth=10; total time=   8.3s\n",
      "[CV 5/5; 16/24] START learning_rate=0.6, max_depth=10...........................\n",
      "[CV 5/5; 16/24] END .........learning_rate=0.6, max_depth=10; total time=   3.0s\n",
      "[CV 1/5; 17/24] START learning_rate=0.6, max_depth=13...........................\n",
      "[CV 1/5; 17/24] END .........learning_rate=0.6, max_depth=13; total time=   3.1s\n",
      "[CV 2/5; 17/24] START learning_rate=0.6, max_depth=13...........................\n",
      "[CV 2/5; 17/24] END .........learning_rate=0.6, max_depth=13; total time=   3.3s\n",
      "[CV 3/5; 17/24] START learning_rate=0.6, max_depth=13...........................\n",
      "[CV 3/5; 17/24] END .........learning_rate=0.6, max_depth=13; total time=   5.5s\n",
      "[CV 4/5; 17/24] START learning_rate=0.6, max_depth=13...........................\n",
      "[CV 4/5; 17/24] END .........learning_rate=0.6, max_depth=13; total time=   3.0s\n",
      "[CV 5/5; 17/24] START learning_rate=0.6, max_depth=13...........................\n",
      "[CV 5/5; 17/24] END .........learning_rate=0.6, max_depth=13; total time=   4.7s\n",
      "[CV 1/5; 18/24] START learning_rate=0.6, max_depth=16...........................\n",
      "[CV 1/5; 18/24] END .........learning_rate=0.6, max_depth=16; total time=   3.4s\n",
      "[CV 2/5; 18/24] START learning_rate=0.6, max_depth=16...........................\n",
      "[CV 2/5; 18/24] END .........learning_rate=0.6, max_depth=16; total time=   3.4s\n",
      "[CV 3/5; 18/24] START learning_rate=0.6, max_depth=16...........................\n",
      "[CV 3/5; 18/24] END .........learning_rate=0.6, max_depth=16; total time=   3.5s\n",
      "[CV 4/5; 18/24] START learning_rate=0.6, max_depth=16...........................\n",
      "[CV 4/5; 18/24] END .........learning_rate=0.6, max_depth=16; total time=   3.0s\n",
      "[CV 5/5; 18/24] START learning_rate=0.6, max_depth=16...........................\n",
      "[CV 5/5; 18/24] END .........learning_rate=0.6, max_depth=16; total time=   5.3s\n",
      "[CV 1/5; 19/24] START learning_rate=0.7000000000000001, max_depth=10............\n",
      "[CV 1/5; 19/24] END learning_rate=0.7000000000000001, max_depth=10; total time=   3.1s\n",
      "[CV 2/5; 19/24] START learning_rate=0.7000000000000001, max_depth=10............\n",
      "[CV 2/5; 19/24] END learning_rate=0.7000000000000001, max_depth=10; total time=   2.9s\n",
      "[CV 3/5; 19/24] START learning_rate=0.7000000000000001, max_depth=10............\n",
      "[CV 3/5; 19/24] END learning_rate=0.7000000000000001, max_depth=10; total time=   3.0s\n",
      "[CV 4/5; 19/24] START learning_rate=0.7000000000000001, max_depth=10............\n",
      "[CV 4/5; 19/24] END learning_rate=0.7000000000000001, max_depth=10; total time=   4.7s\n",
      "[CV 5/5; 19/24] START learning_rate=0.7000000000000001, max_depth=10............\n",
      "[CV 5/5; 19/24] END learning_rate=0.7000000000000001, max_depth=10; total time=   3.1s\n",
      "[CV 1/5; 20/24] START learning_rate=0.7000000000000001, max_depth=13............\n",
      "[CV 1/5; 20/24] END learning_rate=0.7000000000000001, max_depth=13; total time=   3.5s\n",
      "[CV 2/5; 20/24] START learning_rate=0.7000000000000001, max_depth=13............\n",
      "[CV 2/5; 20/24] END learning_rate=0.7000000000000001, max_depth=13; total time=   3.1s\n",
      "[CV 3/5; 20/24] START learning_rate=0.7000000000000001, max_depth=13............\n",
      "[CV 3/5; 20/24] END learning_rate=0.7000000000000001, max_depth=13; total time=   3.2s\n",
      "[CV 4/5; 20/24] START learning_rate=0.7000000000000001, max_depth=13............\n",
      "[CV 4/5; 20/24] END learning_rate=0.7000000000000001, max_depth=13; total time=   3.4s\n",
      "[CV 5/5; 20/24] START learning_rate=0.7000000000000001, max_depth=13............\n",
      "[CV 5/5; 20/24] END learning_rate=0.7000000000000001, max_depth=13; total time=   3.1s\n",
      "[CV 1/5; 21/24] START learning_rate=0.7000000000000001, max_depth=16............\n",
      "[CV 1/5; 21/24] END learning_rate=0.7000000000000001, max_depth=16; total time=   3.2s\n",
      "[CV 2/5; 21/24] START learning_rate=0.7000000000000001, max_depth=16............\n",
      "[CV 2/5; 21/24] END learning_rate=0.7000000000000001, max_depth=16; total time=   4.9s\n",
      "[CV 3/5; 21/24] START learning_rate=0.7000000000000001, max_depth=16............\n",
      "[CV 3/5; 21/24] END learning_rate=0.7000000000000001, max_depth=16; total time=   3.2s\n",
      "[CV 4/5; 21/24] START learning_rate=0.7000000000000001, max_depth=16............\n",
      "[CV 4/5; 21/24] END learning_rate=0.7000000000000001, max_depth=16; total time=   3.6s\n",
      "[CV 5/5; 21/24] START learning_rate=0.7000000000000001, max_depth=16............\n",
      "[CV 5/5; 21/24] END learning_rate=0.7000000000000001, max_depth=16; total time=   3.3s\n",
      "[CV 1/5; 22/24] START learning_rate=0.8, max_depth=10...........................\n",
      "[CV 1/5; 22/24] END .........learning_rate=0.8, max_depth=10; total time=   3.3s\n",
      "[CV 2/5; 22/24] START learning_rate=0.8, max_depth=10...........................\n",
      "[CV 2/5; 22/24] END .........learning_rate=0.8, max_depth=10; total time=   3.4s\n",
      "[CV 3/5; 22/24] START learning_rate=0.8, max_depth=10...........................\n",
      "[CV 3/5; 22/24] END .........learning_rate=0.8, max_depth=10; total time=   3.3s\n",
      "[CV 4/5; 22/24] START learning_rate=0.8, max_depth=10...........................\n",
      "[CV 4/5; 22/24] END .........learning_rate=0.8, max_depth=10; total time=   3.0s\n",
      "[CV 5/5; 22/24] START learning_rate=0.8, max_depth=10...........................\n",
      "[CV 5/5; 22/24] END .........learning_rate=0.8, max_depth=10; total time=   2.9s\n",
      "[CV 1/5; 23/24] START learning_rate=0.8, max_depth=13...........................\n",
      "[CV 1/5; 23/24] END .........learning_rate=0.8, max_depth=13; total time=   4.5s\n",
      "[CV 2/5; 23/24] START learning_rate=0.8, max_depth=13...........................\n",
      "[CV 2/5; 23/24] END .........learning_rate=0.8, max_depth=13; total time=   3.4s\n",
      "[CV 3/5; 23/24] START learning_rate=0.8, max_depth=13...........................\n",
      "[CV 3/5; 23/24] END .........learning_rate=0.8, max_depth=13; total time=   3.1s\n",
      "[CV 4/5; 23/24] START learning_rate=0.8, max_depth=13...........................\n",
      "[CV 4/5; 23/24] END .........learning_rate=0.8, max_depth=13; total time=   4.0s\n",
      "[CV 5/5; 23/24] START learning_rate=0.8, max_depth=13...........................\n",
      "[CV 5/5; 23/24] END .........learning_rate=0.8, max_depth=13; total time=   8.9s\n",
      "[CV 1/5; 24/24] START learning_rate=0.8, max_depth=16...........................\n",
      "[CV 1/5; 24/24] END .........learning_rate=0.8, max_depth=16; total time=   3.5s\n",
      "[CV 2/5; 24/24] START learning_rate=0.8, max_depth=16...........................\n",
      "[CV 2/5; 24/24] END .........learning_rate=0.8, max_depth=16; total time=   5.7s\n",
      "[CV 3/5; 24/24] START learning_rate=0.8, max_depth=16...........................\n",
      "[CV 3/5; 24/24] END .........learning_rate=0.8, max_depth=16; total time=   3.1s\n",
      "[CV 4/5; 24/24] START learning_rate=0.8, max_depth=16...........................\n",
      "[CV 4/5; 24/24] END .........learning_rate=0.8, max_depth=16; total time=   5.4s\n",
      "[CV 5/5; 24/24] START learning_rate=0.8, max_depth=16...........................\n",
      "[CV 5/5; 24/24] END .........learning_rate=0.8, max_depth=16; total time=   5.1s\n",
      "Параметры модели:  {'learning_rate': 0.5, 'max_depth': 13}\n",
      "rmse = 1352.4966339775583\n",
      "CPU times: user 26min 14s, sys: 1.35 s, total: 26min 16s\n",
      "Wall time: 26min 36s\n"
     ]
    }
   ],
   "source": [
    "%%time\n",
    "params = {\n",
    "    'max_depth' : range(10, 17, 3),\n",
    "    'learning_rate': np.arange(0.1, 0.9, 0.1)}\n",
    "\n",
    "grid_model_light = GridSearchCV(estimator=LGBMRegressor(random_state = 12345),\n",
    "                                param_grid=params,\n",
    "                                verbose=10,\n",
    "                                scoring='neg_mean_squared_error',\n",
    "                                cv=KFold(5, shuffle=True, random_state=12345),\n",
    "                                n_jobs=-1)                            \n",
    "                                \n",
    "grid_model_light.fit(x_train, y_train)\n",
    "\n",
    "params_light = grid_model_light.best_params_\n",
    "Lightgbm = LGBMRegressor(**params_light, random_state = 12345)\n",
    "\n",
    "rmse_model_lightgbm = np.mean(np.sqrt(np.abs(grid_model_light.best_score_)))\n",
    "\n",
    "print('Параметры модели: ', grid_model_light.best_params_)\n",
    "print('rmse =', rmse_model_lightgbm)"
   ]
  },
  {
   "cell_type": "code",
   "execution_count": 67,
   "metadata": {},
   "outputs": [],
   "source": [
    "LightGBM_time_fit = grid_model_light.cv_results_['mean_fit_time'].max()"
   ]
  },
  {
   "cell_type": "code",
   "execution_count": 68,
   "metadata": {},
   "outputs": [],
   "source": [
    "LightGBM_time_score = grid_model_light.cv_results_['mean_score_time'].max()"
   ]
  },
  {
   "cell_type": "markdown",
   "metadata": {},
   "source": [
    "### CatBoostRegressor"
   ]
  },
  {
   "cell_type": "code",
   "execution_count": 69,
   "metadata": {},
   "outputs": [],
   "source": [
    "features_cat = data.drop('price',axis=1)\n",
    "target_cat = data['price']"
   ]
  },
  {
   "cell_type": "code",
   "execution_count": 70,
   "metadata": {},
   "outputs": [],
   "source": [
    "x_train_cat, x_test_cat, y_train_cat, y_test_cat = train_test_split(features_cat, target_cat,\n",
    "                                                                    test_size=.25, random_state=12345)"
   ]
  },
  {
   "cell_type": "code",
   "execution_count": 71,
   "metadata": {
    "scrolled": true
   },
   "outputs": [
    {
     "name": "stdout",
     "output_type": "stream",
     "text": [
      "Fitting 5 folds for each of 3 candidates, totalling 15 fits\n",
      "[CV 1/5; 1/3] START max_depth=10................................................\n",
      "Learning rate set to 0.346447\n",
      "0:\tlearn: 2741.6061523\ttotal: 357ms\tremaining: 1m 11s\n",
      "10:\tlearn: 1515.5360222\ttotal: 2.55s\tremaining: 43.8s\n",
      "20:\tlearn: 1438.6270219\ttotal: 4.4s\tremaining: 37.5s\n",
      "30:\tlearn: 1397.3281412\ttotal: 6.45s\tremaining: 35.2s\n",
      "40:\tlearn: 1364.2511841\ttotal: 8.57s\tremaining: 33.3s\n",
      "50:\tlearn: 1342.8051341\ttotal: 10.8s\tremaining: 31.6s\n",
      "60:\tlearn: 1327.0661675\ttotal: 13s\tremaining: 29.5s\n",
      "70:\tlearn: 1310.7581179\ttotal: 15s\tremaining: 27.2s\n",
      "80:\tlearn: 1300.3850186\ttotal: 16.9s\tremaining: 24.8s\n",
      "90:\tlearn: 1283.8149534\ttotal: 19s\tremaining: 22.8s\n",
      "100:\tlearn: 1272.0330443\ttotal: 21.1s\tremaining: 20.7s\n",
      "110:\tlearn: 1260.5318594\ttotal: 23.3s\tremaining: 18.7s\n",
      "120:\tlearn: 1251.9919082\ttotal: 25.4s\tremaining: 16.6s\n",
      "130:\tlearn: 1241.9569059\ttotal: 27.6s\tremaining: 14.5s\n",
      "140:\tlearn: 1235.5272911\ttotal: 29.9s\tremaining: 12.5s\n",
      "150:\tlearn: 1228.7946266\ttotal: 32s\tremaining: 10.4s\n",
      "160:\tlearn: 1223.6306117\ttotal: 34s\tremaining: 8.23s\n",
      "170:\tlearn: 1219.0322520\ttotal: 36s\tremaining: 6.1s\n",
      "180:\tlearn: 1214.0206369\ttotal: 38.3s\tremaining: 4.02s\n",
      "190:\tlearn: 1207.8284692\ttotal: 40.6s\tremaining: 1.91s\n",
      "199:\tlearn: 1202.4933186\ttotal: 42.5s\tremaining: 0us\n",
      "[CV 1/5; 1/3] END ..............................max_depth=10; total time=  44.0s\n",
      "[CV 2/5; 1/3] START max_depth=10................................................\n",
      "Learning rate set to 0.346447\n",
      "0:\tlearn: 2732.7729360\ttotal: 296ms\tremaining: 58.9s\n",
      "10:\tlearn: 1505.4393436\ttotal: 2.54s\tremaining: 43.6s\n",
      "20:\tlearn: 1426.4787975\ttotal: 4.54s\tremaining: 38.7s\n",
      "30:\tlearn: 1392.2833695\ttotal: 6.41s\tremaining: 34.9s\n",
      "40:\tlearn: 1360.2182082\ttotal: 8.5s\tremaining: 33s\n",
      "50:\tlearn: 1339.6668525\ttotal: 10.6s\tremaining: 31s\n",
      "60:\tlearn: 1322.3025129\ttotal: 12.7s\tremaining: 28.8s\n",
      "70:\tlearn: 1308.8791812\ttotal: 14.8s\tremaining: 26.8s\n",
      "80:\tlearn: 1296.5046454\ttotal: 17s\tremaining: 24.9s\n",
      "90:\tlearn: 1285.9254708\ttotal: 19.1s\tremaining: 22.9s\n",
      "100:\tlearn: 1277.9122956\ttotal: 21.2s\tremaining: 20.8s\n",
      "110:\tlearn: 1269.0883042\ttotal: 23.4s\tremaining: 18.8s\n",
      "120:\tlearn: 1261.1910511\ttotal: 25.4s\tremaining: 16.6s\n",
      "130:\tlearn: 1250.4513185\ttotal: 27.6s\tremaining: 14.5s\n",
      "140:\tlearn: 1243.3659743\ttotal: 29.7s\tremaining: 12.4s\n",
      "150:\tlearn: 1237.3640425\ttotal: 31.9s\tremaining: 10.4s\n",
      "160:\tlearn: 1230.3985445\ttotal: 34.1s\tremaining: 8.27s\n",
      "170:\tlearn: 1224.4958976\ttotal: 36.4s\tremaining: 6.18s\n",
      "180:\tlearn: 1218.2207025\ttotal: 38.6s\tremaining: 4.05s\n",
      "190:\tlearn: 1211.8989045\ttotal: 40.8s\tremaining: 1.92s\n",
      "199:\tlearn: 1208.0274442\ttotal: 42.6s\tremaining: 0us\n",
      "[CV 2/5; 1/3] END ..............................max_depth=10; total time=  44.0s\n",
      "[CV 3/5; 1/3] START max_depth=10................................................\n",
      "Learning rate set to 0.346447\n",
      "0:\tlearn: 2731.5491400\ttotal: 283ms\tremaining: 56.3s\n",
      "10:\tlearn: 1506.0384912\ttotal: 2.38s\tremaining: 40.9s\n",
      "20:\tlearn: 1427.6175959\ttotal: 4.34s\tremaining: 37s\n",
      "30:\tlearn: 1388.8708827\ttotal: 6.32s\tremaining: 34.5s\n",
      "40:\tlearn: 1360.4441921\ttotal: 8.27s\tremaining: 32.1s\n",
      "50:\tlearn: 1339.2520651\ttotal: 10.2s\tremaining: 29.9s\n",
      "60:\tlearn: 1317.1423276\ttotal: 12.3s\tremaining: 28.1s\n",
      "70:\tlearn: 1307.7211579\ttotal: 14.3s\tremaining: 26s\n",
      "80:\tlearn: 1295.5561711\ttotal: 16.2s\tremaining: 23.8s\n",
      "90:\tlearn: 1283.7909112\ttotal: 18.2s\tremaining: 21.8s\n",
      "100:\tlearn: 1274.3357738\ttotal: 20.4s\tremaining: 20s\n",
      "110:\tlearn: 1264.0810940\ttotal: 22.5s\tremaining: 18.1s\n",
      "120:\tlearn: 1255.1971492\ttotal: 24.8s\tremaining: 16.2s\n",
      "130:\tlearn: 1247.7649935\ttotal: 26.9s\tremaining: 14.2s\n",
      "140:\tlearn: 1240.6134792\ttotal: 29s\tremaining: 12.2s\n",
      "150:\tlearn: 1234.4333627\ttotal: 31.1s\tremaining: 10.1s\n",
      "160:\tlearn: 1227.6533298\ttotal: 33.4s\tremaining: 8.1s\n",
      "170:\tlearn: 1219.7306475\ttotal: 35.7s\tremaining: 6.05s\n",
      "180:\tlearn: 1212.8275915\ttotal: 38s\tremaining: 3.98s\n",
      "190:\tlearn: 1204.7144828\ttotal: 40.3s\tremaining: 1.9s\n",
      "199:\tlearn: 1199.1034703\ttotal: 42.3s\tremaining: 0us\n",
      "[CV 3/5; 1/3] END ..............................max_depth=10; total time=  43.9s\n",
      "[CV 4/5; 1/3] START max_depth=10................................................\n",
      "Learning rate set to 0.346447\n",
      "0:\tlearn: 2733.0557059\ttotal: 311ms\tremaining: 1m 1s\n",
      "10:\tlearn: 1510.1636402\ttotal: 2.53s\tremaining: 43.5s\n",
      "20:\tlearn: 1434.4429297\ttotal: 4.51s\tremaining: 38.4s\n",
      "30:\tlearn: 1395.8185466\ttotal: 6.52s\tremaining: 35.5s\n",
      "40:\tlearn: 1366.9408896\ttotal: 8.48s\tremaining: 32.9s\n",
      "50:\tlearn: 1345.8646705\ttotal: 10.8s\tremaining: 31.5s\n",
      "60:\tlearn: 1332.9200499\ttotal: 12.6s\tremaining: 28.8s\n",
      "70:\tlearn: 1317.0139819\ttotal: 14.6s\tremaining: 26.5s\n",
      "80:\tlearn: 1304.4910658\ttotal: 16.8s\tremaining: 24.7s\n",
      "90:\tlearn: 1292.9974312\ttotal: 19.2s\tremaining: 23s\n",
      "100:\tlearn: 1283.4733286\ttotal: 21.4s\tremaining: 20.9s\n",
      "110:\tlearn: 1273.3605134\ttotal: 23.4s\tremaining: 18.8s\n",
      "120:\tlearn: 1264.1614448\ttotal: 25.6s\tremaining: 16.7s\n",
      "130:\tlearn: 1254.3062696\ttotal: 27.9s\tremaining: 14.7s\n",
      "140:\tlearn: 1246.3195514\ttotal: 29.9s\tremaining: 12.5s\n",
      "150:\tlearn: 1239.3146060\ttotal: 32.3s\tremaining: 10.5s\n",
      "160:\tlearn: 1232.9765036\ttotal: 34.5s\tremaining: 8.36s\n",
      "170:\tlearn: 1225.7787920\ttotal: 36.8s\tremaining: 6.23s\n",
      "180:\tlearn: 1219.3474781\ttotal: 39s\tremaining: 4.1s\n",
      "190:\tlearn: 1212.8740534\ttotal: 41.3s\tremaining: 1.95s\n",
      "199:\tlearn: 1207.6417119\ttotal: 43.4s\tremaining: 0us\n",
      "[CV 4/5; 1/3] END ..............................max_depth=10; total time=  44.9s\n",
      "[CV 5/5; 1/3] START max_depth=10................................................\n",
      "Learning rate set to 0.346447\n",
      "0:\tlearn: 2730.7598594\ttotal: 344ms\tremaining: 1m 8s\n",
      "10:\tlearn: 1505.1075992\ttotal: 2.68s\tremaining: 46s\n",
      "20:\tlearn: 1426.6813973\ttotal: 4.85s\tremaining: 41.3s\n",
      "30:\tlearn: 1388.6357134\ttotal: 7.07s\tremaining: 38.5s\n",
      "40:\tlearn: 1363.0701605\ttotal: 9.43s\tremaining: 36.6s\n",
      "50:\tlearn: 1341.2731863\ttotal: 11.8s\tremaining: 34.5s\n",
      "60:\tlearn: 1326.0690886\ttotal: 14.3s\tremaining: 32.5s\n",
      "70:\tlearn: 1312.2841949\ttotal: 16.6s\tremaining: 30.1s\n",
      "80:\tlearn: 1299.7070328\ttotal: 19s\tremaining: 27.9s\n",
      "90:\tlearn: 1287.3842832\ttotal: 21.3s\tremaining: 25.5s\n",
      "100:\tlearn: 1275.4674757\ttotal: 23.4s\tremaining: 22.9s\n",
      "110:\tlearn: 1267.7229193\ttotal: 25.8s\tremaining: 20.7s\n",
      "120:\tlearn: 1257.7316586\ttotal: 27.9s\tremaining: 18.2s\n",
      "130:\tlearn: 1248.7995841\ttotal: 30.1s\tremaining: 15.9s\n",
      "140:\tlearn: 1240.3957418\ttotal: 32.1s\tremaining: 13.4s\n",
      "150:\tlearn: 1233.1837645\ttotal: 34.2s\tremaining: 11.1s\n",
      "160:\tlearn: 1228.2945081\ttotal: 36.3s\tremaining: 8.79s\n",
      "170:\tlearn: 1222.6343726\ttotal: 38.4s\tremaining: 6.52s\n",
      "180:\tlearn: 1216.7719003\ttotal: 40.7s\tremaining: 4.28s\n",
      "190:\tlearn: 1210.7551924\ttotal: 42.9s\tremaining: 2.02s\n",
      "199:\tlearn: 1204.7041832\ttotal: 45.3s\tremaining: 0us\n",
      "[CV 5/5; 1/3] END ..............................max_depth=10; total time=  46.8s\n",
      "[CV 1/5; 2/3] START max_depth=13................................................\n",
      "Learning rate set to 0.346447\n",
      "0:\tlearn: 2688.1697603\ttotal: 525ms\tremaining: 1m 44s\n",
      "10:\tlearn: 1434.9055775\ttotal: 4.19s\tremaining: 1m 11s\n",
      "20:\tlearn: 1352.8198342\ttotal: 7.74s\tremaining: 1m 5s\n",
      "30:\tlearn: 1311.8677380\ttotal: 11.4s\tremaining: 1m 1s\n",
      "40:\tlearn: 1276.2014947\ttotal: 15.1s\tremaining: 58.5s\n",
      "50:\tlearn: 1248.9310910\ttotal: 19s\tremaining: 55.4s\n",
      "60:\tlearn: 1227.4223303\ttotal: 22.9s\tremaining: 52.2s\n",
      "70:\tlearn: 1210.0602694\ttotal: 26.9s\tremaining: 48.9s\n",
      "80:\tlearn: 1192.0596131\ttotal: 31.1s\tremaining: 45.6s\n",
      "90:\tlearn: 1177.6402913\ttotal: 35.1s\tremaining: 42s\n",
      "100:\tlearn: 1165.4416913\ttotal: 39.1s\tremaining: 38.4s\n",
      "110:\tlearn: 1152.2139449\ttotal: 43s\tremaining: 34.5s\n",
      "120:\tlearn: 1140.3333956\ttotal: 47.2s\tremaining: 30.8s\n",
      "130:\tlearn: 1128.3786308\ttotal: 51.6s\tremaining: 27.2s\n",
      "140:\tlearn: 1120.8180703\ttotal: 56.5s\tremaining: 23.7s\n",
      "150:\tlearn: 1112.8041896\ttotal: 1m 1s\tremaining: 19.8s\n",
      "160:\tlearn: 1105.5162680\ttotal: 1m 5s\tremaining: 16s\n",
      "170:\tlearn: 1099.8479443\ttotal: 1m 10s\tremaining: 11.9s\n",
      "180:\tlearn: 1094.0912156\ttotal: 1m 14s\tremaining: 7.82s\n",
      "190:\tlearn: 1089.8796947\ttotal: 1m 18s\tremaining: 3.71s\n",
      "199:\tlearn: 1084.0750599\ttotal: 1m 22s\tremaining: 0us\n",
      "[CV 1/5; 2/3] END ..............................max_depth=13; total time= 1.4min\n",
      "[CV 2/5; 2/3] START max_depth=13................................................\n",
      "Learning rate set to 0.346447\n",
      "0:\tlearn: 2692.8296259\ttotal: 504ms\tremaining: 1m 40s\n",
      "10:\tlearn: 1436.0803903\ttotal: 4.43s\tremaining: 1m 16s\n",
      "20:\tlearn: 1362.0117300\ttotal: 8.14s\tremaining: 1m 9s\n",
      "30:\tlearn: 1315.6601640\ttotal: 11.9s\tremaining: 1m 5s\n",
      "40:\tlearn: 1282.1101902\ttotal: 15.9s\tremaining: 1m 1s\n",
      "50:\tlearn: 1253.4637244\ttotal: 19.9s\tremaining: 58.2s\n",
      "60:\tlearn: 1231.4194364\ttotal: 24.1s\tremaining: 55s\n",
      "70:\tlearn: 1216.6631103\ttotal: 28.3s\tremaining: 51.5s\n",
      "80:\tlearn: 1200.5561739\ttotal: 32.2s\tremaining: 47.4s\n",
      "90:\tlearn: 1183.9910420\ttotal: 36.6s\tremaining: 43.9s\n",
      "100:\tlearn: 1170.0383772\ttotal: 40.5s\tremaining: 39.7s\n",
      "110:\tlearn: 1159.9854198\ttotal: 44.5s\tremaining: 35.6s\n",
      "120:\tlearn: 1148.6566577\ttotal: 48.6s\tremaining: 31.7s\n",
      "130:\tlearn: 1138.3226659\ttotal: 52.8s\tremaining: 27.8s\n",
      "140:\tlearn: 1128.6030310\ttotal: 57s\tremaining: 23.8s\n",
      "150:\tlearn: 1119.9261747\ttotal: 1m 1s\tremaining: 19.9s\n",
      "160:\tlearn: 1110.7113440\ttotal: 1m 5s\tremaining: 15.9s\n",
      "170:\tlearn: 1102.3541433\ttotal: 1m 9s\tremaining: 11.8s\n",
      "180:\tlearn: 1094.2357095\ttotal: 1m 14s\tremaining: 7.78s\n",
      "190:\tlearn: 1085.9203993\ttotal: 1m 18s\tremaining: 3.7s\n",
      "199:\tlearn: 1079.4934539\ttotal: 1m 22s\tremaining: 0us\n",
      "[CV 2/5; 2/3] END ..............................max_depth=13; total time= 1.4min\n",
      "[CV 3/5; 2/3] START max_depth=13................................................\n",
      "Learning rate set to 0.346447\n",
      "0:\tlearn: 2692.1548589\ttotal: 499ms\tremaining: 1m 39s\n",
      "10:\tlearn: 1430.0881535\ttotal: 4.23s\tremaining: 1m 12s\n",
      "20:\tlearn: 1355.3586598\ttotal: 8.27s\tremaining: 1m 10s\n",
      "30:\tlearn: 1311.5246704\ttotal: 12.2s\tremaining: 1m 6s\n",
      "40:\tlearn: 1274.5360156\ttotal: 16s\tremaining: 1m 2s\n",
      "50:\tlearn: 1249.3467952\ttotal: 19.9s\tremaining: 58.2s\n",
      "60:\tlearn: 1219.2996310\ttotal: 24s\tremaining: 54.7s\n",
      "70:\tlearn: 1202.9001806\ttotal: 28s\tremaining: 50.9s\n",
      "80:\tlearn: 1188.1451955\ttotal: 32.2s\tremaining: 47.3s\n",
      "90:\tlearn: 1176.1187402\ttotal: 36.4s\tremaining: 43.6s\n",
      "100:\tlearn: 1165.4122312\ttotal: 40.7s\tremaining: 39.9s\n",
      "110:\tlearn: 1150.1027932\ttotal: 44.8s\tremaining: 36s\n",
      "120:\tlearn: 1140.5606119\ttotal: 49s\tremaining: 32s\n",
      "130:\tlearn: 1131.9051651\ttotal: 53.2s\tremaining: 28s\n",
      "140:\tlearn: 1125.0447973\ttotal: 57.4s\tremaining: 24s\n",
      "150:\tlearn: 1116.3807410\ttotal: 1m 1s\tremaining: 20.1s\n",
      "160:\tlearn: 1105.9965528\ttotal: 1m 6s\tremaining: 16s\n",
      "170:\tlearn: 1096.7386153\ttotal: 1m 10s\tremaining: 12s\n",
      "180:\tlearn: 1088.3209262\ttotal: 1m 14s\tremaining: 7.84s\n",
      "190:\tlearn: 1082.5677139\ttotal: 1m 18s\tremaining: 3.72s\n",
      "199:\tlearn: 1078.2840834\ttotal: 1m 22s\tremaining: 0us\n",
      "[CV 3/5; 2/3] END ..............................max_depth=13; total time= 1.4min\n",
      "[CV 4/5; 2/3] START max_depth=13................................................\n",
      "Learning rate set to 0.346447\n",
      "0:\tlearn: 2692.5868775\ttotal: 516ms\tremaining: 1m 42s\n",
      "10:\tlearn: 1442.1008741\ttotal: 4.48s\tremaining: 1m 17s\n",
      "20:\tlearn: 1360.5483737\ttotal: 8.17s\tremaining: 1m 9s\n",
      "30:\tlearn: 1322.0999481\ttotal: 12.1s\tremaining: 1m 6s\n",
      "40:\tlearn: 1285.7828401\ttotal: 16.2s\tremaining: 1m 2s\n",
      "50:\tlearn: 1251.1873974\ttotal: 20.1s\tremaining: 58.7s\n",
      "60:\tlearn: 1228.0325505\ttotal: 24.1s\tremaining: 55s\n",
      "70:\tlearn: 1205.8780741\ttotal: 28.2s\tremaining: 51.2s\n",
      "80:\tlearn: 1189.2744260\ttotal: 32.2s\tremaining: 47.3s\n",
      "90:\tlearn: 1176.1195479\ttotal: 36s\tremaining: 43.1s\n",
      "100:\tlearn: 1164.7177337\ttotal: 40.1s\tremaining: 39.3s\n",
      "110:\tlearn: 1152.3410669\ttotal: 44.3s\tremaining: 35.5s\n",
      "120:\tlearn: 1141.6910357\ttotal: 48.5s\tremaining: 31.7s\n",
      "130:\tlearn: 1130.1672186\ttotal: 52.7s\tremaining: 27.8s\n",
      "140:\tlearn: 1122.8720699\ttotal: 57.1s\tremaining: 23.9s\n",
      "150:\tlearn: 1114.7785236\ttotal: 1m 1s\tremaining: 20s\n",
      "160:\tlearn: 1107.5544994\ttotal: 1m 5s\tremaining: 16s\n",
      "170:\tlearn: 1099.7366851\ttotal: 1m 9s\tremaining: 11.9s\n",
      "180:\tlearn: 1091.7767154\ttotal: 1m 14s\tremaining: 7.81s\n",
      "190:\tlearn: 1083.2592711\ttotal: 1m 18s\tremaining: 3.71s\n",
      "199:\tlearn: 1078.0729635\ttotal: 1m 22s\tremaining: 0us\n",
      "[CV 4/5; 2/3] END ..............................max_depth=13; total time= 1.4min\n",
      "[CV 5/5; 2/3] START max_depth=13................................................\n",
      "Learning rate set to 0.346447\n",
      "0:\tlearn: 2690.4001530\ttotal: 527ms\tremaining: 1m 44s\n",
      "10:\tlearn: 1429.2256009\ttotal: 4.38s\tremaining: 1m 15s\n",
      "20:\tlearn: 1352.0556995\ttotal: 8.2s\tremaining: 1m 9s\n",
      "30:\tlearn: 1310.1734639\ttotal: 12.1s\tremaining: 1m 6s\n",
      "40:\tlearn: 1284.3329153\ttotal: 15.4s\tremaining: 59.7s\n",
      "50:\tlearn: 1251.7576623\ttotal: 19.6s\tremaining: 57.2s\n",
      "60:\tlearn: 1230.8021020\ttotal: 23.7s\tremaining: 54s\n",
      "70:\tlearn: 1209.2792069\ttotal: 27.8s\tremaining: 50.5s\n",
      "80:\tlearn: 1195.1912582\ttotal: 32s\tremaining: 47s\n",
      "90:\tlearn: 1180.2486906\ttotal: 36.1s\tremaining: 43.3s\n",
      "100:\tlearn: 1167.2753466\ttotal: 40.2s\tremaining: 39.4s\n",
      "110:\tlearn: 1153.7806825\ttotal: 44.3s\tremaining: 35.5s\n",
      "120:\tlearn: 1140.5383572\ttotal: 48.3s\tremaining: 31.6s\n",
      "130:\tlearn: 1131.2269542\ttotal: 52.4s\tremaining: 27.6s\n",
      "140:\tlearn: 1118.5183596\ttotal: 56.6s\tremaining: 23.7s\n",
      "150:\tlearn: 1110.2006231\ttotal: 1m 1s\tremaining: 19.8s\n",
      "160:\tlearn: 1101.0058824\ttotal: 1m 5s\tremaining: 15.8s\n",
      "170:\tlearn: 1093.6498524\ttotal: 1m 9s\tremaining: 11.8s\n",
      "180:\tlearn: 1085.0166546\ttotal: 1m 13s\tremaining: 7.74s\n",
      "190:\tlearn: 1077.5665902\ttotal: 1m 18s\tremaining: 3.7s\n",
      "199:\tlearn: 1071.2655757\ttotal: 1m 22s\tremaining: 0us\n",
      "[CV 5/5; 2/3] END ..............................max_depth=13; total time= 1.4min\n",
      "[CV 1/5; 3/3] START max_depth=16................................................\n",
      "Learning rate set to 0.346447\n",
      "0:\tlearn: 2679.4227968\ttotal: 1.75s\tremaining: 5m 47s\n",
      "10:\tlearn: 1380.5122877\ttotal: 17.8s\tremaining: 5m 5s\n",
      "20:\tlearn: 1294.6539151\ttotal: 34s\tremaining: 4m 50s\n",
      "30:\tlearn: 1254.2960019\ttotal: 47.5s\tremaining: 4m 19s\n",
      "40:\tlearn: 1203.6058630\ttotal: 1m 5s\tremaining: 4m 12s\n",
      "50:\tlearn: 1161.7898423\ttotal: 1m 22s\tremaining: 4m\n",
      "60:\tlearn: 1134.9674182\ttotal: 1m 40s\tremaining: 3m 48s\n",
      "70:\tlearn: 1114.5151647\ttotal: 1m 58s\tremaining: 3m 34s\n",
      "80:\tlearn: 1096.4025160\ttotal: 2m 15s\tremaining: 3m 19s\n",
      "90:\tlearn: 1083.1525158\ttotal: 2m 34s\tremaining: 3m 4s\n",
      "100:\tlearn: 1068.6363002\ttotal: 2m 53s\tremaining: 2m 49s\n",
      "110:\tlearn: 1054.8739711\ttotal: 3m 11s\tremaining: 2m 33s\n",
      "120:\tlearn: 1043.3793794\ttotal: 3m 29s\tremaining: 2m 16s\n",
      "130:\tlearn: 1031.5351488\ttotal: 3m 47s\tremaining: 1m 59s\n",
      "140:\tlearn: 1023.7311249\ttotal: 4m 5s\tremaining: 1m 42s\n",
      "150:\tlearn: 1015.1392658\ttotal: 4m 25s\tremaining: 1m 26s\n",
      "160:\tlearn: 1005.4166133\ttotal: 4m 44s\tremaining: 1m 8s\n",
      "170:\tlearn: 998.4532443\ttotal: 5m 3s\tremaining: 51.4s\n",
      "180:\tlearn: 988.1503224\ttotal: 5m 22s\tremaining: 33.8s\n",
      "190:\tlearn: 982.6090756\ttotal: 5m 41s\tremaining: 16.1s\n",
      "199:\tlearn: 974.5912070\ttotal: 5m 58s\tremaining: 0us\n",
      "[CV 1/5; 3/3] END ..............................max_depth=16; total time= 6.0min\n",
      "[CV 2/5; 3/3] START max_depth=16................................................\n",
      "Learning rate set to 0.346447\n",
      "0:\tlearn: 2673.4066708\ttotal: 1.78s\tremaining: 5m 55s\n",
      "10:\tlearn: 1380.4148595\ttotal: 17.6s\tremaining: 5m 2s\n",
      "20:\tlearn: 1298.6103157\ttotal: 35.3s\tremaining: 5m\n",
      "30:\tlearn: 1249.6484501\ttotal: 51.8s\tremaining: 4m 42s\n",
      "40:\tlearn: 1202.4739662\ttotal: 1m 8s\tremaining: 4m 26s\n",
      "50:\tlearn: 1166.0431730\ttotal: 1m 26s\tremaining: 4m 12s\n",
      "60:\tlearn: 1140.2018737\ttotal: 1m 44s\tremaining: 3m 57s\n",
      "70:\tlearn: 1117.0764822\ttotal: 2m 2s\tremaining: 3m 42s\n",
      "80:\tlearn: 1102.4013986\ttotal: 2m 20s\tremaining: 3m 26s\n",
      "90:\tlearn: 1087.5659210\ttotal: 2m 38s\tremaining: 3m 10s\n",
      "100:\tlearn: 1074.2521280\ttotal: 2m 57s\tremaining: 2m 54s\n",
      "110:\tlearn: 1062.8038518\ttotal: 3m 15s\tremaining: 2m 36s\n",
      "120:\tlearn: 1047.2912505\ttotal: 3m 33s\tremaining: 2m 19s\n",
      "130:\tlearn: 1036.7697188\ttotal: 3m 52s\tremaining: 2m 2s\n",
      "140:\tlearn: 1026.1823197\ttotal: 4m 10s\tremaining: 1m 44s\n",
      "150:\tlearn: 1014.5362945\ttotal: 4m 28s\tremaining: 1m 27s\n",
      "160:\tlearn: 1003.8319530\ttotal: 4m 45s\tremaining: 1m 9s\n",
      "170:\tlearn: 993.4185379\ttotal: 5m 3s\tremaining: 51.4s\n",
      "180:\tlearn: 985.7280804\ttotal: 5m 21s\tremaining: 33.7s\n",
      "190:\tlearn: 979.5738412\ttotal: 5m 40s\tremaining: 16s\n",
      "199:\tlearn: 973.5240985\ttotal: 5m 57s\tremaining: 0us\n",
      "[CV 2/5; 3/3] END ..............................max_depth=16; total time= 6.0min\n",
      "[CV 3/5; 3/3] START max_depth=16................................................\n",
      "Learning rate set to 0.346447\n",
      "0:\tlearn: 2673.8545301\ttotal: 1.97s\tremaining: 6m 32s\n",
      "10:\tlearn: 1362.7104981\ttotal: 18.3s\tremaining: 5m 13s\n",
      "20:\tlearn: 1290.8997247\ttotal: 35.7s\tremaining: 5m 4s\n",
      "30:\tlearn: 1241.0237819\ttotal: 52.8s\tremaining: 4m 47s\n",
      "40:\tlearn: 1189.4436417\ttotal: 1m 10s\tremaining: 4m 32s\n",
      "50:\tlearn: 1160.8084000\ttotal: 1m 27s\tremaining: 4m 14s\n",
      "60:\tlearn: 1135.7457057\ttotal: 1m 44s\tremaining: 3m 58s\n",
      "70:\tlearn: 1112.8314359\ttotal: 2m 2s\tremaining: 3m 41s\n",
      "80:\tlearn: 1093.9850882\ttotal: 2m 19s\tremaining: 3m 24s\n",
      "90:\tlearn: 1078.3378725\ttotal: 2m 38s\tremaining: 3m 9s\n",
      "100:\tlearn: 1066.2963520\ttotal: 2m 56s\tremaining: 2m 53s\n",
      "110:\tlearn: 1054.6556204\ttotal: 3m 15s\tremaining: 2m 36s\n",
      "120:\tlearn: 1046.5287804\ttotal: 3m 33s\tremaining: 2m 19s\n",
      "130:\tlearn: 1034.1539227\ttotal: 3m 51s\tremaining: 2m 2s\n",
      "140:\tlearn: 1021.9226800\ttotal: 4m 9s\tremaining: 1m 44s\n",
      "150:\tlearn: 1011.4451363\ttotal: 4m 27s\tremaining: 1m 26s\n",
      "160:\tlearn: 1002.6441941\ttotal: 4m 45s\tremaining: 1m 9s\n",
      "170:\tlearn: 992.5396712\ttotal: 5m 3s\tremaining: 51.5s\n",
      "180:\tlearn: 986.9446717\ttotal: 5m 22s\tremaining: 33.8s\n",
      "190:\tlearn: 978.8670896\ttotal: 5m 41s\tremaining: 16.1s\n",
      "199:\tlearn: 971.3318440\ttotal: 5m 58s\tremaining: 0us\n",
      "[CV 3/5; 3/3] END ..............................max_depth=16; total time= 6.0min\n",
      "[CV 4/5; 3/3] START max_depth=16................................................\n",
      "Learning rate set to 0.346447\n",
      "0:\tlearn: 2672.6320404\ttotal: 1.79s\tremaining: 5m 57s\n",
      "10:\tlearn: 1368.0466296\ttotal: 17.1s\tremaining: 4m 54s\n",
      "20:\tlearn: 1288.9618917\ttotal: 33.8s\tremaining: 4m 47s\n",
      "30:\tlearn: 1235.6686239\ttotal: 50.2s\tremaining: 4m 33s\n",
      "40:\tlearn: 1195.8909124\ttotal: 1m 5s\tremaining: 4m 15s\n",
      "50:\tlearn: 1167.6886630\ttotal: 1m 21s\tremaining: 3m 56s\n",
      "60:\tlearn: 1136.1684181\ttotal: 1m 38s\tremaining: 3m 44s\n",
      "70:\tlearn: 1111.6337532\ttotal: 1m 56s\tremaining: 3m 30s\n",
      "80:\tlearn: 1092.4630713\ttotal: 2m 13s\tremaining: 3m 16s\n",
      "90:\tlearn: 1076.9512456\ttotal: 2m 32s\tremaining: 3m 2s\n",
      "100:\tlearn: 1063.8097045\ttotal: 2m 49s\tremaining: 2m 46s\n",
      "110:\tlearn: 1052.6236161\ttotal: 3m 7s\tremaining: 2m 30s\n",
      "120:\tlearn: 1039.3086750\ttotal: 3m 25s\tremaining: 2m 14s\n",
      "130:\tlearn: 1028.5189933\ttotal: 3m 43s\tremaining: 1m 57s\n",
      "140:\tlearn: 1017.3903025\ttotal: 4m\tremaining: 1m 40s\n",
      "150:\tlearn: 1007.0643642\ttotal: 4m 18s\tremaining: 1m 23s\n",
      "160:\tlearn: 997.3416937\ttotal: 4m 36s\tremaining: 1m 6s\n",
      "170:\tlearn: 990.7903732\ttotal: 4m 53s\tremaining: 49.8s\n",
      "180:\tlearn: 982.2575516\ttotal: 5m 11s\tremaining: 32.7s\n",
      "190:\tlearn: 975.8126423\ttotal: 5m 30s\tremaining: 15.6s\n",
      "199:\tlearn: 969.1811832\ttotal: 5m 46s\tremaining: 0us\n",
      "[CV 4/5; 3/3] END ..............................max_depth=16; total time= 5.8min\n",
      "[CV 5/5; 3/3] START max_depth=16................................................\n",
      "Learning rate set to 0.346447\n",
      "0:\tlearn: 2674.2778393\ttotal: 1.77s\tremaining: 5m 52s\n",
      "10:\tlearn: 1369.4335633\ttotal: 17.3s\tremaining: 4m 57s\n",
      "20:\tlearn: 1281.5453858\ttotal: 33.9s\tremaining: 4m 48s\n",
      "30:\tlearn: 1237.5256800\ttotal: 49.6s\tremaining: 4m 30s\n",
      "40:\tlearn: 1193.2046804\ttotal: 1m 5s\tremaining: 4m 14s\n",
      "50:\tlearn: 1158.1948076\ttotal: 1m 22s\tremaining: 4m 2s\n",
      "60:\tlearn: 1132.7543505\ttotal: 1m 38s\tremaining: 3m 45s\n",
      "70:\tlearn: 1112.8184026\ttotal: 1m 55s\tremaining: 3m 29s\n",
      "80:\tlearn: 1094.4035670\ttotal: 2m 12s\tremaining: 3m 15s\n",
      "90:\tlearn: 1075.5500590\ttotal: 2m 30s\tremaining: 3m\n",
      "100:\tlearn: 1061.2149011\ttotal: 2m 48s\tremaining: 2m 44s\n",
      "110:\tlearn: 1042.6741173\ttotal: 3m 7s\tremaining: 2m 30s\n",
      "120:\tlearn: 1030.6889333\ttotal: 3m 25s\tremaining: 2m 13s\n",
      "130:\tlearn: 1018.1548853\ttotal: 3m 43s\tremaining: 1m 57s\n",
      "140:\tlearn: 1008.3065562\ttotal: 4m\tremaining: 1m 40s\n",
      "150:\tlearn: 999.9185481\ttotal: 4m 17s\tremaining: 1m 23s\n",
      "160:\tlearn: 989.5014245\ttotal: 4m 34s\tremaining: 1m 6s\n",
      "170:\tlearn: 979.8819887\ttotal: 4m 52s\tremaining: 49.5s\n",
      "180:\tlearn: 970.2785817\ttotal: 5m 10s\tremaining: 32.5s\n",
      "190:\tlearn: 961.2625557\ttotal: 5m 27s\tremaining: 15.4s\n",
      "199:\tlearn: 953.2994014\ttotal: 5m 43s\tremaining: 0us\n",
      "[CV 5/5; 3/3] END ..............................max_depth=16; total time= 5.8min\n",
      "Learning rate set to 0.358879\n",
      "0:\tlearn: 2664.2355480\ttotal: 650ms\tremaining: 2m 9s\n",
      "10:\tlearn: 1429.4534369\ttotal: 5.46s\tremaining: 1m 33s\n",
      "20:\tlearn: 1362.5488253\ttotal: 10.3s\tremaining: 1m 28s\n",
      "30:\tlearn: 1308.5609944\ttotal: 15.3s\tremaining: 1m 23s\n",
      "40:\tlearn: 1279.2000548\ttotal: 20.1s\tremaining: 1m 18s\n",
      "50:\tlearn: 1250.6478365\ttotal: 25.2s\tremaining: 1m 13s\n",
      "60:\tlearn: 1229.3610661\ttotal: 30.1s\tremaining: 1m 8s\n",
      "70:\tlearn: 1209.4171259\ttotal: 35.3s\tremaining: 1m 4s\n",
      "80:\tlearn: 1195.6419504\ttotal: 40.2s\tremaining: 59.1s\n",
      "90:\tlearn: 1182.0192340\ttotal: 45.4s\tremaining: 54.4s\n",
      "100:\tlearn: 1172.2073323\ttotal: 51s\tremaining: 49.9s\n",
      "110:\tlearn: 1161.2624658\ttotal: 56.2s\tremaining: 45.1s\n",
      "120:\tlearn: 1151.6583965\ttotal: 1m 1s\tremaining: 40.1s\n",
      "130:\tlearn: 1142.5754809\ttotal: 1m 6s\tremaining: 34.9s\n",
      "140:\tlearn: 1134.8893700\ttotal: 1m 11s\tremaining: 30s\n",
      "150:\tlearn: 1125.6104115\ttotal: 1m 16s\tremaining: 24.9s\n",
      "160:\tlearn: 1118.1088652\ttotal: 1m 22s\tremaining: 20s\n",
      "170:\tlearn: 1111.7247539\ttotal: 1m 27s\tremaining: 14.9s\n",
      "180:\tlearn: 1104.5772785\ttotal: 1m 32s\tremaining: 9.74s\n",
      "190:\tlearn: 1097.8953532\ttotal: 1m 37s\tremaining: 4.6s\n",
      "199:\tlearn: 1091.1802433\ttotal: 1m 42s\tremaining: 0us\n",
      "Параметры модели: {'max_depth': 13}\n",
      "rmse = 1329.2193289147217\n"
     ]
    }
   ],
   "source": [
    "params_cat = {\n",
    "    'max_depth' : range(10, 17, 3)\n",
    "}\n",
    "grid_model_cat = GridSearchCV(estimator=CatBoostRegressor(loss_function='RMSE', iterations=200, random_state = 12345), \n",
    "                              param_grid=params_cat,\n",
    "                              verbose=10,\n",
    "                              scoring='neg_mean_squared_error',\n",
    "                              cv=KFold(5, shuffle=True, random_state=12345),\n",
    "                              n_jobs=-1)\n",
    "\n",
    "grid_model_cat.fit(x_train_cat, y_train_cat, cat_features=cat_features, verbose=10)\n",
    "\n",
    "params_cat = grid_model_cat.best_params_\n",
    "\n",
    "cat = CatBoostRegressor(**params_cat, loss_function='RMSE', iterations=200, random_state = 12345)\n",
    "\n",
    "rmse_model_cat = np.mean(np.sqrt(np.abs(grid_model_cat.best_score_)))\n",
    "\n",
    "print('Параметры модели:', grid_model_cat.best_params_)\n",
    "print('rmse =', rmse_model_cat)"
   ]
  },
  {
   "cell_type": "code",
   "execution_count": 72,
   "metadata": {},
   "outputs": [],
   "source": [
    "CatBoost_time_fit = grid_model_cat.cv_results_['mean_fit_time'].max()"
   ]
  },
  {
   "cell_type": "code",
   "execution_count": 73,
   "metadata": {},
   "outputs": [],
   "source": [
    "CatBoost_time_score = grid_model_cat.cv_results_['mean_score_time'].max()"
   ]
  },
  {
   "cell_type": "code",
   "execution_count": 78,
   "metadata": {},
   "outputs": [],
   "source": [
    "result = {'Линейная_регрессия':np.array([np.mean(np.sqrt(np.abs(cross_val_line))), 21.4, 0.418]),\n",
    "          \n",
    "          'Decision_Tree_Regressor':np.array([rmse_model_decision_tree, decision_tree_time_fit, decision_tree_time_score]),\n",
    "          \n",
    "          'Random_Forest_Regressor':np.array([rmse_model_random_forest, random_forest_time_fit, random_forest_time_score]),\n",
    "          \n",
    "          'Lightgbm':np.array([rmse_model_lightgbm, LightGBM_time_fit, LightGBM_time_score]),\n",
    "          \n",
    "          'Cat_Boost_Regressor':np.array([rmse_model_cat, CatBoost_time_fit, CatBoost_time_score])\n",
    "         } \n",
    "\n",
    "result_df=pd.DataFrame(result, index=['RMSE', 'Fit_Time', 'Score_Time'])"
   ]
  },
  {
   "cell_type": "code",
   "execution_count": 79,
   "metadata": {},
   "outputs": [
    {
     "data": {
      "text/html": [
       "<div>\n",
       "<style scoped>\n",
       "    .dataframe tbody tr th:only-of-type {\n",
       "        vertical-align: middle;\n",
       "    }\n",
       "\n",
       "    .dataframe tbody tr th {\n",
       "        vertical-align: top;\n",
       "    }\n",
       "\n",
       "    .dataframe thead th {\n",
       "        text-align: right;\n",
       "    }\n",
       "</style>\n",
       "<table border=\"1\" class=\"dataframe\">\n",
       "  <thead>\n",
       "    <tr style=\"text-align: right;\">\n",
       "      <th></th>\n",
       "      <th>Линейная_регрессия</th>\n",
       "      <th>Decision_Tree_Regressor</th>\n",
       "      <th>Random_Forest_Regressor</th>\n",
       "      <th>Lightgbm</th>\n",
       "      <th>Cat_Boost_Regressor</th>\n",
       "    </tr>\n",
       "  </thead>\n",
       "  <tbody>\n",
       "    <tr>\n",
       "      <th>RMSE</th>\n",
       "      <td>2081.408933</td>\n",
       "      <td>1522.697010</td>\n",
       "      <td>1366.694809</td>\n",
       "      <td>1352.496634</td>\n",
       "      <td>1329.219329</td>\n",
       "    </tr>\n",
       "    <tr>\n",
       "      <th>Fit_Time</th>\n",
       "      <td>21.400000</td>\n",
       "      <td>0.396272</td>\n",
       "      <td>29.119235</td>\n",
       "      <td>116.069976</td>\n",
       "      <td>356.163939</td>\n",
       "    </tr>\n",
       "    <tr>\n",
       "      <th>Score_Time</th>\n",
       "      <td>0.418000</td>\n",
       "      <td>0.011476</td>\n",
       "      <td>0.837756</td>\n",
       "      <td>0.384938</td>\n",
       "      <td>0.434788</td>\n",
       "    </tr>\n",
       "  </tbody>\n",
       "</table>\n",
       "</div>"
      ],
      "text/plain": [
       "            Линейная_регрессия  Decision_Tree_Regressor  \\\n",
       "RMSE               2081.408933              1522.697010   \n",
       "Fit_Time             21.400000                 0.396272   \n",
       "Score_Time            0.418000                 0.011476   \n",
       "\n",
       "            Random_Forest_Regressor     Lightgbm  Cat_Boost_Regressor  \n",
       "RMSE                    1366.694809  1352.496634          1329.219329  \n",
       "Fit_Time                  29.119235   116.069976           356.163939  \n",
       "Score_Time                 0.837756     0.384938             0.434788  "
      ]
     },
     "execution_count": 79,
     "metadata": {},
     "output_type": "execute_result"
    }
   ],
   "source": [
    "result_df"
   ]
  },
  {
   "cell_type": "markdown",
   "metadata": {},
   "source": [
    "## Тестирование лучшей модели"
   ]
  },
  {
   "cell_type": "code",
   "execution_count": 82,
   "metadata": {
    "scrolled": true
   },
   "outputs": [
    {
     "name": "stdout",
     "output_type": "stream",
     "text": [
      "Learning rate set to 0.358879\n",
      "0:\tlearn: 2664.2355480\ttotal: 724ms\tremaining: 2m 24s\n",
      "50:\tlearn: 1250.6478365\ttotal: 27.5s\tremaining: 1m 20s\n",
      "100:\tlearn: 1172.2073323\ttotal: 57s\tremaining: 55.9s\n",
      "150:\tlearn: 1125.6104115\ttotal: 1m 25s\tremaining: 27.8s\n",
      "199:\tlearn: 1091.1802433\ttotal: 1m 54s\tremaining: 0us\n",
      "rmse = 1328.1231845318994\n"
     ]
    }
   ],
   "source": [
    "cat.fit(x_train_cat, y_train_cat, cat_features=cat_features, verbose=50)\n",
    "predict_cat = cat.predict(x_test_cat)\n",
    "rmse = mean_squared_error(y_test_cat, predict_cat, squared=False)\n",
    "print('rmse =', rmse)"
   ]
  },
  {
   "cell_type": "code",
   "execution_count": 81,
   "metadata": {},
   "outputs": [
    {
     "data": {
      "image/png": "[encoded data removed]",
      "text/plain": [
       "<Figure size 432x288 with 1 Axes>"
      ]
     },
     "metadata": {},
     "output_type": "display_data"
    }
   ],
   "source": [
    "importance = cat.feature_importances_\n",
    "feature_list = x_train_cat.columns.to_list()\n",
    "feature_results = pd.Series(importance, index= feature_list).sort_values()\n",
    "\n",
    "fig, ax = plt.subplots()\n",
    "feature_results.plot.bar(rot=30)\n",
    "ax.set_title(\"Влияние признаков\")\n",
    "ax.set_xlabel(\"CatBoostRegressor\")\n",
    "fig.tight_layout()"
   ]
  },
  {
   "cell_type": "markdown",
   "metadata": {},
   "source": [
    "Качество предсказаний классических моделей замето ниже, градиентный бустинг справляется с этой задачей лучше. Поиск гиперпараметров занимает гораздо больше времени, чем обучение линейной регрессии и дерева решений.\n",
    "\n",
    "\n",
    "Наиболее важные признаки - `power`, `registration_year`, `brand_model`."
   ]
  },
  {
   "cell_type": "markdown",
   "metadata": {},
   "source": [
    "<div style=\"border:solid black 3px; padding: 10px\">\n",
    "<b> Выводы:</b>\n",
    "    \n",
    "- Наибольшую точность по метрике RMSE показала модель - <b>CatBoostRegressor</b>, ее и нужно рекомендовать заказчику для внедрения.\n",
    "    \n",
    "Модель <b>CatBoostRegressor</b>:\n",
    "- лучшие параметры были достигнуты при: 'max_depth': 13, 'learning_rate': 0.35, RMSE составило 1328 время обучения 348 c, время предсказания: 0,4 с"
   ]
  }
 ],
 "metadata": {
  "ExecuteTimeLog": [
   {
    "duration": 326,
    "start_time": "2022-12-17T18:38:34.535Z"
   },
   {
    "duration": 2,
    "start_time": "2022-12-17T18:38:42.167Z"
   },
   {
    "duration": 2864,
    "start_time": "2022-12-17T18:39:10.764Z"
   },
   {
    "duration": 20,
    "start_time": "2022-12-17T18:39:25.659Z"
   },
   {
    "duration": 138,
    "start_time": "2022-12-17T18:39:44.005Z"
   },
   {
    "duration": 97,
    "start_time": "2022-12-17T18:40:01.714Z"
   },
   {
    "duration": 35,
    "start_time": "2022-12-17T18:42:09.670Z"
   },
   {
    "duration": 60,
    "start_time": "2022-12-17T18:42:58.453Z"
   },
   {
    "duration": 7,
    "start_time": "2022-12-17T18:43:15.842Z"
   },
   {
    "duration": 4,
    "start_time": "2022-12-17T18:43:18.431Z"
   },
   {
    "duration": 820,
    "start_time": "2022-12-17T18:43:21.573Z"
   },
   {
    "duration": 2,
    "start_time": "2022-12-17T18:43:43.092Z"
   },
   {
    "duration": 816,
    "start_time": "2022-12-17T18:44:47.362Z"
   },
   {
    "duration": 3,
    "start_time": "2022-12-17T18:46:32.995Z"
   },
   {
    "duration": 211,
    "start_time": "2022-12-17T18:46:36.196Z"
   },
   {
    "duration": 1647,
    "start_time": "2022-12-20T19:19:33.888Z"
   },
   {
    "duration": 2955,
    "start_time": "2022-12-20T19:19:36.053Z"
   },
   {
    "duration": 22,
    "start_time": "2022-12-20T19:19:39.010Z"
   },
   {
    "duration": 6,
    "start_time": "2022-12-20T19:19:43.071Z"
   },
   {
    "duration": 120,
    "start_time": "2022-12-20T19:20:07.738Z"
   },
   {
    "duration": 1726,
    "start_time": "2022-12-21T19:08:38.949Z"
   },
   {
    "duration": 2933,
    "start_time": "2022-12-21T19:08:40.678Z"
   },
   {
    "duration": 25,
    "start_time": "2022-12-21T19:08:43.613Z"
   },
   {
    "duration": 6,
    "start_time": "2022-12-21T19:08:43.640Z"
   },
   {
    "duration": 16,
    "start_time": "2022-12-21T19:08:43.888Z"
   },
   {
    "duration": 129,
    "start_time": "2022-12-21T19:08:45.548Z"
   },
   {
    "duration": 741,
    "start_time": "2022-12-21T19:08:50.045Z"
   },
   {
    "duration": 609,
    "start_time": "2022-12-21T19:09:08.147Z"
   },
   {
    "duration": 126,
    "start_time": "2022-12-21T19:09:12.348Z"
   },
   {
    "duration": 660,
    "start_time": "2022-12-21T19:09:14.225Z"
   },
   {
    "duration": 126,
    "start_time": "2022-12-21T19:10:23.548Z"
   },
   {
    "duration": 521,
    "start_time": "2022-12-21T19:10:23.851Z"
   },
   {
    "duration": 496,
    "start_time": "2022-12-21T19:10:28.253Z"
   },
   {
    "duration": 412,
    "start_time": "2022-12-21T19:10:29.868Z"
   },
   {
    "duration": 535,
    "start_time": "2022-12-21T19:11:11.617Z"
   },
   {
    "duration": 373,
    "start_time": "2022-12-21T19:11:13.581Z"
   },
   {
    "duration": 371,
    "start_time": "2022-12-21T19:11:20.948Z"
   },
   {
    "duration": 404,
    "start_time": "2022-12-21T19:11:25.795Z"
   },
   {
    "duration": 395,
    "start_time": "2022-12-21T19:11:48.430Z"
   },
   {
    "duration": 377,
    "start_time": "2022-12-21T19:11:51.619Z"
   },
   {
    "duration": 22,
    "start_time": "2022-12-21T19:11:59.895Z"
   },
   {
    "duration": 1778,
    "start_time": "2022-12-21T19:12:03.441Z"
   },
   {
    "duration": 1835,
    "start_time": "2022-12-21T19:12:18.998Z"
   },
   {
    "duration": 1861,
    "start_time": "2022-12-21T19:12:27.867Z"
   },
   {
    "duration": 1279,
    "start_time": "2022-12-21T19:13:15.018Z"
   },
   {
    "duration": 82227,
    "start_time": "2022-12-21T19:14:40.497Z"
   },
   {
    "duration": 76577,
    "start_time": "2022-12-21T19:16:53.257Z"
   },
   {
    "duration": 68,
    "start_time": "2022-12-21T19:18:41.384Z"
   },
   {
    "duration": 72,
    "start_time": "2022-12-21T19:18:48.184Z"
   },
   {
    "duration": 71,
    "start_time": "2022-12-21T19:18:55.011Z"
   },
   {
    "duration": 69,
    "start_time": "2022-12-21T19:19:04.637Z"
   },
   {
    "duration": 25461,
    "start_time": "2022-12-21T19:19:07.844Z"
   },
   {
    "duration": 14433,
    "start_time": "2022-12-21T19:19:36.380Z"
   },
   {
    "duration": 1790,
    "start_time": "2022-12-21T19:19:52.504Z"
   },
   {
    "duration": 1771,
    "start_time": "2022-12-21T19:19:58.456Z"
   },
   {
    "duration": 1922,
    "start_time": "2022-12-21T19:20:06.399Z"
   },
   {
    "duration": 2267,
    "start_time": "2022-12-21T19:20:30.513Z"
   },
   {
    "duration": 1753,
    "start_time": "2022-12-21T19:20:38.951Z"
   },
   {
    "duration": 1829,
    "start_time": "2022-12-21T19:20:48.002Z"
   },
   {
    "duration": 1797,
    "start_time": "2022-12-21T19:21:18.847Z"
   },
   {
    "duration": 1834,
    "start_time": "2022-12-21T19:21:27.771Z"
   },
   {
    "duration": 1871,
    "start_time": "2022-12-21T19:21:39.243Z"
   },
   {
    "duration": 1865,
    "start_time": "2022-12-21T19:21:46.582Z"
   },
   {
    "duration": 1984,
    "start_time": "2022-12-21T19:22:17.368Z"
   },
   {
    "duration": 2507,
    "start_time": "2022-12-21T19:24:53.570Z"
   },
   {
    "duration": 1856,
    "start_time": "2022-12-21T19:25:12.064Z"
   },
   {
    "duration": 91,
    "start_time": "2022-12-21T19:25:17.583Z"
   },
   {
    "duration": 67,
    "start_time": "2022-12-21T19:25:29.288Z"
   },
   {
    "duration": 1849,
    "start_time": "2022-12-21T19:25:35.214Z"
   },
   {
    "duration": 75315,
    "start_time": "2022-12-21T19:25:48.558Z"
   },
   {
    "duration": 7770,
    "start_time": "2022-12-21T19:27:36.313Z"
   },
   {
    "duration": 1625,
    "start_time": "2022-12-21T19:28:50.473Z"
   },
   {
    "duration": 9822,
    "start_time": "2022-12-21T19:29:02.180Z"
   },
   {
    "duration": 1034,
    "start_time": "2022-12-21T19:29:33.237Z"
   },
   {
    "duration": 557,
    "start_time": "2022-12-21T19:32:28.478Z"
   },
   {
    "duration": 639,
    "start_time": "2022-12-21T19:32:34.794Z"
   },
   {
    "duration": 595,
    "start_time": "2022-12-21T19:32:39.140Z"
   },
   {
    "duration": 590,
    "start_time": "2022-12-21T19:32:48.387Z"
   },
   {
    "duration": 10,
    "start_time": "2022-12-21T19:33:58.790Z"
   },
   {
    "duration": 71,
    "start_time": "2022-12-21T19:34:09.125Z"
   },
   {
    "duration": 4,
    "start_time": "2022-12-21T19:34:12.676Z"
   },
   {
    "duration": 4,
    "start_time": "2022-12-21T19:34:18.343Z"
   },
   {
    "duration": 1101,
    "start_time": "2022-12-21T19:34:22.720Z"
   },
   {
    "duration": 124,
    "start_time": "2022-12-21T19:34:35.181Z"
   },
   {
    "duration": 726,
    "start_time": "2022-12-21T19:34:41.838Z"
   },
   {
    "duration": 13,
    "start_time": "2022-12-21T19:34:42.566Z"
   },
   {
    "duration": 4,
    "start_time": "2022-12-21T19:34:43.717Z"
   },
   {
    "duration": 136,
    "start_time": "2022-12-21T19:34:46.913Z"
   },
   {
    "duration": 578,
    "start_time": "2022-12-21T19:34:47.787Z"
   },
   {
    "duration": 7740,
    "start_time": "2022-12-21T19:34:52.960Z"
   },
   {
    "duration": 201,
    "start_time": "2022-12-21T19:38:37.326Z"
   },
   {
    "duration": 254,
    "start_time": "2022-12-21T19:39:11.124Z"
   },
   {
    "duration": 4,
    "start_time": "2022-12-21T19:39:50.711Z"
   },
   {
    "duration": 462,
    "start_time": "2022-12-21T19:40:47.664Z"
   },
   {
    "duration": 0,
    "start_time": "2022-12-21T19:41:33.550Z"
   },
   {
    "duration": 6828,
    "start_time": "2022-12-21T19:41:36.482Z"
   },
   {
    "duration": 3793,
    "start_time": "2022-12-21T19:43:12.656Z"
   },
   {
    "duration": 3866,
    "start_time": "2022-12-21T19:43:52.617Z"
   },
   {
    "duration": 4029,
    "start_time": "2022-12-21T19:44:09.339Z"
   },
   {
    "duration": 414,
    "start_time": "2022-12-21T19:44:56.609Z"
   },
   {
    "duration": 411,
    "start_time": "2022-12-21T19:45:11.420Z"
   },
   {
    "duration": 407,
    "start_time": "2022-12-21T19:45:49.117Z"
   },
   {
    "duration": 393,
    "start_time": "2022-12-21T19:45:59.084Z"
   },
   {
    "duration": 421,
    "start_time": "2022-12-21T19:46:05.581Z"
   },
   {
    "duration": 431,
    "start_time": "2022-12-21T19:46:11.427Z"
   },
   {
    "duration": 191,
    "start_time": "2022-12-21T19:49:02.776Z"
   },
   {
    "duration": 192,
    "start_time": "2022-12-21T19:50:42.870Z"
   },
   {
    "duration": 4,
    "start_time": "2022-12-21T19:51:57.058Z"
   },
   {
    "duration": 4284,
    "start_time": "2022-12-21T19:52:07.761Z"
   },
   {
    "duration": 998,
    "start_time": "2022-12-21T19:54:25.451Z"
   },
   {
    "duration": 995,
    "start_time": "2022-12-21T19:54:49.365Z"
   },
   {
    "duration": 4,
    "start_time": "2022-12-21T19:56:19.213Z"
   },
   {
    "duration": 231,
    "start_time": "2022-12-21T19:59:02.803Z"
   },
   {
    "duration": 12,
    "start_time": "2022-12-21T19:59:33.053Z"
   },
   {
    "duration": 586,
    "start_time": "2022-12-21T19:59:50.523Z"
   },
   {
    "duration": 6,
    "start_time": "2022-12-21T20:00:17.803Z"
   },
   {
    "duration": 72,
    "start_time": "2022-12-21T20:00:30.585Z"
   },
   {
    "duration": 191,
    "start_time": "2022-12-21T20:01:10.129Z"
   },
   {
    "duration": 100,
    "start_time": "2022-12-21T20:02:25.444Z"
   },
   {
    "duration": 760,
    "start_time": "2022-12-21T20:03:49.934Z"
   },
   {
    "duration": 4,
    "start_time": "2022-12-21T20:03:52.429Z"
   },
   {
    "duration": 13,
    "start_time": "2022-12-21T20:03:54.134Z"
   },
   {
    "duration": 128,
    "start_time": "2022-12-21T20:04:00.962Z"
   },
   {
    "duration": 431,
    "start_time": "2022-12-21T20:04:05.146Z"
   },
   {
    "duration": 22,
    "start_time": "2022-12-21T20:04:12.521Z"
   },
   {
    "duration": 76,
    "start_time": "2022-12-21T20:04:16.229Z"
   },
   {
    "duration": 66,
    "start_time": "2022-12-21T20:04:35.916Z"
   },
   {
    "duration": 110,
    "start_time": "2022-12-21T20:04:38.803Z"
   },
   {
    "duration": 110,
    "start_time": "2022-12-21T20:05:01.891Z"
   },
   {
    "duration": 113,
    "start_time": "2022-12-21T20:05:26.124Z"
   },
   {
    "duration": 4709,
    "start_time": "2022-12-21T20:06:19.265Z"
   },
   {
    "duration": 3,
    "start_time": "2022-12-21T20:06:49.658Z"
   },
   {
    "duration": 13,
    "start_time": "2022-12-21T20:07:16.229Z"
   },
   {
    "duration": 4,
    "start_time": "2022-12-21T20:07:31.041Z"
   },
   {
    "duration": 589,
    "start_time": "2022-12-21T20:07:32.349Z"
   },
   {
    "duration": 126,
    "start_time": "2022-12-21T20:08:18.728Z"
   },
   {
    "duration": 14839,
    "start_time": "2022-12-21T20:09:50.742Z"
   },
   {
    "duration": 6,
    "start_time": "2022-12-21T20:10:12.022Z"
   },
   {
    "duration": 34,
    "start_time": "2022-12-21T20:10:22.466Z"
   },
   {
    "duration": 120,
    "start_time": "2022-12-21T20:12:01.025Z"
   },
   {
    "duration": 425,
    "start_time": "2022-12-21T20:12:18.534Z"
   },
   {
    "duration": 1814,
    "start_time": "2022-12-22T17:15:25.789Z"
   },
   {
    "duration": 3536,
    "start_time": "2022-12-22T17:15:27.606Z"
   },
   {
    "duration": 19,
    "start_time": "2022-12-22T17:15:31.148Z"
   },
   {
    "duration": 6,
    "start_time": "2022-12-22T17:15:31.169Z"
   },
   {
    "duration": 17,
    "start_time": "2022-12-22T17:15:31.177Z"
   },
   {
    "duration": 135,
    "start_time": "2022-12-22T17:15:31.196Z"
   },
   {
    "duration": 707,
    "start_time": "2022-12-22T17:15:35.786Z"
   },
   {
    "duration": 8501,
    "start_time": "2022-12-22T17:15:47.889Z"
   },
   {
    "duration": 1229,
    "start_time": "2022-12-22T17:16:28.065Z"
   },
   {
    "duration": 122,
    "start_time": "2022-12-22T17:17:40.135Z"
   },
   {
    "duration": 483,
    "start_time": "2022-12-22T17:17:41.654Z"
   },
   {
    "duration": 354,
    "start_time": "2022-12-22T17:18:02.356Z"
   },
   {
    "duration": 507,
    "start_time": "2022-12-22T17:18:16.550Z"
   },
   {
    "duration": 20,
    "start_time": "2022-12-22T17:18:20.062Z"
   },
   {
    "duration": 16239,
    "start_time": "2022-12-22T17:21:28.200Z"
   },
   {
    "duration": 16,
    "start_time": "2022-12-22T17:21:50.782Z"
   },
   {
    "duration": 84,
    "start_time": "2022-12-22T17:22:06.251Z"
   },
   {
    "duration": 108,
    "start_time": "2022-12-22T17:22:42.919Z"
   },
   {
    "duration": 102,
    "start_time": "2022-12-22T17:23:39.073Z"
   },
   {
    "duration": 59,
    "start_time": "2022-12-22T17:24:48.692Z"
   },
   {
    "duration": 26,
    "start_time": "2022-12-22T17:25:56.874Z"
   },
   {
    "duration": 50,
    "start_time": "2022-12-22T17:26:01.001Z"
   },
   {
    "duration": 68,
    "start_time": "2022-12-22T17:28:19.584Z"
   },
   {
    "duration": 71,
    "start_time": "2022-12-22T17:29:05.515Z"
   },
   {
    "duration": 79,
    "start_time": "2022-12-22T17:29:22.988Z"
   },
   {
    "duration": 143,
    "start_time": "2022-12-22T17:29:41.687Z"
   },
   {
    "duration": 41,
    "start_time": "2022-12-22T17:29:48.949Z"
   },
   {
    "duration": 72,
    "start_time": "2022-12-22T17:30:10.556Z"
   },
   {
    "duration": 41,
    "start_time": "2022-12-22T17:32:16.771Z"
   },
   {
    "duration": 52,
    "start_time": "2022-12-22T17:32:35.756Z"
   },
   {
    "duration": 59,
    "start_time": "2022-12-22T17:33:00.891Z"
   },
   {
    "duration": 222,
    "start_time": "2022-12-22T17:33:19.719Z"
   },
   {
    "duration": 177,
    "start_time": "2022-12-22T17:33:32.566Z"
   },
   {
    "duration": 45,
    "start_time": "2022-12-22T17:33:37.068Z"
   },
   {
    "duration": 64,
    "start_time": "2022-12-22T17:34:00.166Z"
   },
   {
    "duration": 40,
    "start_time": "2022-12-22T17:34:34.870Z"
   },
   {
    "duration": 79,
    "start_time": "2022-12-22T17:35:05.457Z"
   },
   {
    "duration": 79,
    "start_time": "2022-12-22T17:35:12.120Z"
   },
   {
    "duration": 88,
    "start_time": "2022-12-22T17:35:53.899Z"
   },
   {
    "duration": 129,
    "start_time": "2022-12-22T17:36:15.422Z"
   },
   {
    "duration": 117,
    "start_time": "2022-12-22T17:36:25.565Z"
   },
   {
    "duration": 202,
    "start_time": "2022-12-22T17:36:27.898Z"
   },
   {
    "duration": 120,
    "start_time": "2022-12-22T17:36:30.316Z"
   },
   {
    "duration": 3,
    "start_time": "2022-12-22T17:38:06.905Z"
   },
   {
    "duration": 6,
    "start_time": "2022-12-22T17:38:09.768Z"
   },
   {
    "duration": 5,
    "start_time": "2022-12-22T17:38:14.612Z"
   },
   {
    "duration": 5,
    "start_time": "2022-12-22T17:41:02.193Z"
   },
   {
    "duration": 26,
    "start_time": "2022-12-22T17:41:12.274Z"
   },
   {
    "duration": 40,
    "start_time": "2022-12-22T17:41:18.412Z"
   },
   {
    "duration": 67,
    "start_time": "2022-12-22T17:41:24.617Z"
   },
   {
    "duration": 13,
    "start_time": "2022-12-22T17:41:57.991Z"
   },
   {
    "duration": 19,
    "start_time": "2022-12-22T17:44:25.676Z"
   },
   {
    "duration": 22,
    "start_time": "2022-12-22T17:44:57.020Z"
   },
   {
    "duration": 42,
    "start_time": "2022-12-22T17:44:59.160Z"
   },
   {
    "duration": 43,
    "start_time": "2022-12-22T17:45:22.378Z"
   },
   {
    "duration": 38,
    "start_time": "2022-12-22T17:45:39.779Z"
   },
   {
    "duration": 65,
    "start_time": "2022-12-22T18:24:25.916Z"
   },
   {
    "duration": 60,
    "start_time": "2022-12-22T18:25:32.842Z"
   },
   {
    "duration": 65,
    "start_time": "2022-12-22T18:25:57.971Z"
   },
   {
    "duration": 53,
    "start_time": "2022-12-22T19:51:54.672Z"
   },
   {
    "duration": 46,
    "start_time": "2022-12-22T19:52:50.586Z"
   },
   {
    "duration": 42,
    "start_time": "2022-12-22T19:52:53.506Z"
   },
   {
    "duration": 57,
    "start_time": "2022-12-22T19:52:59.948Z"
   },
   {
    "duration": 17,
    "start_time": "2022-12-22T19:56:36.038Z"
   },
   {
    "duration": 18,
    "start_time": "2022-12-22T19:56:44.260Z"
   },
   {
    "duration": 31,
    "start_time": "2022-12-22T19:56:54.348Z"
   },
   {
    "duration": 19,
    "start_time": "2022-12-22T19:56:58.945Z"
   },
   {
    "duration": 18,
    "start_time": "2022-12-22T19:57:09.904Z"
   },
   {
    "duration": 23878,
    "start_time": "2022-12-22T19:58:44.958Z"
   },
   {
    "duration": 174,
    "start_time": "2022-12-22T20:00:39.153Z"
   },
   {
    "duration": 625,
    "start_time": "2022-12-22T20:01:24.001Z"
   },
   {
    "duration": 20758,
    "start_time": "2022-12-22T20:01:46.892Z"
   },
   {
    "duration": 26,
    "start_time": "2022-12-22T20:02:12.263Z"
   },
   {
    "duration": 21,
    "start_time": "2022-12-22T20:02:25.867Z"
   },
   {
    "duration": 13,
    "start_time": "2022-12-22T20:02:32.572Z"
   },
   {
    "duration": 13,
    "start_time": "2022-12-22T20:02:40.956Z"
   },
   {
    "duration": 163,
    "start_time": "2022-12-22T20:03:19.694Z"
   },
   {
    "duration": 35,
    "start_time": "2022-12-22T20:03:44.069Z"
   },
   {
    "duration": 13,
    "start_time": "2022-12-22T20:03:47.956Z"
   },
   {
    "duration": 15386,
    "start_time": "2022-12-22T20:03:53.300Z"
   },
   {
    "duration": 34,
    "start_time": "2022-12-22T20:04:08.688Z"
   },
   {
    "duration": 13,
    "start_time": "2022-12-22T20:04:13.084Z"
   },
   {
    "duration": 736,
    "start_time": "2022-12-22T20:05:00.593Z"
   },
   {
    "duration": 4,
    "start_time": "2022-12-22T20:05:02.651Z"
   },
   {
    "duration": 416,
    "start_time": "2022-12-22T20:05:15.107Z"
   },
   {
    "duration": 19,
    "start_time": "2022-12-22T20:05:17.155Z"
   },
   {
    "duration": 29,
    "start_time": "2022-12-22T20:05:57.545Z"
   },
   {
    "duration": 23,
    "start_time": "2022-12-22T20:06:15.120Z"
   },
   {
    "duration": 13,
    "start_time": "2022-12-22T20:06:52.648Z"
   },
   {
    "duration": 15256,
    "start_time": "2022-12-22T20:06:58.498Z"
   },
   {
    "duration": 15437,
    "start_time": "2022-12-22T20:07:13.755Z"
   },
   {
    "duration": 30,
    "start_time": "2022-12-22T20:07:35.959Z"
   },
   {
    "duration": 14,
    "start_time": "2022-12-22T20:07:40.304Z"
   },
   {
    "duration": 15410,
    "start_time": "2022-12-22T20:08:31.442Z"
   },
   {
    "duration": 158,
    "start_time": "2022-12-22T20:09:06.765Z"
   },
   {
    "duration": 15599,
    "start_time": "2022-12-22T20:09:10.836Z"
   },
   {
    "duration": 185,
    "start_time": "2022-12-22T20:09:35.714Z"
   },
   {
    "duration": 22688,
    "start_time": "2022-12-22T20:09:38.371Z"
   },
   {
    "duration": 21270,
    "start_time": "2022-12-22T20:10:28.183Z"
   },
   {
    "duration": 160,
    "start_time": "2022-12-22T20:11:06.863Z"
   },
   {
    "duration": 15015,
    "start_time": "2022-12-22T20:12:02.392Z"
   },
   {
    "duration": 30,
    "start_time": "2022-12-22T20:16:00.767Z"
   },
   {
    "duration": 17,
    "start_time": "2022-12-22T20:16:04.038Z"
   },
   {
    "duration": 40,
    "start_time": "2022-12-22T20:16:24.010Z"
   },
   {
    "duration": 1905,
    "start_time": "2022-12-23T19:15:20.365Z"
   },
   {
    "duration": 3532,
    "start_time": "2022-12-23T19:15:22.273Z"
   },
   {
    "duration": 5,
    "start_time": "2022-12-23T19:15:25.808Z"
   },
   {
    "duration": 8900,
    "start_time": "2022-12-23T19:15:31.145Z"
   },
   {
    "duration": 1165,
    "start_time": "2022-12-23T19:15:40.048Z"
   },
   {
    "duration": 128,
    "start_time": "2022-12-23T19:15:41.215Z"
   },
   {
    "duration": 409,
    "start_time": "2022-12-23T19:15:41.345Z"
   },
   {
    "duration": 5,
    "start_time": "2022-12-23T19:15:41.758Z"
   },
   {
    "duration": 462,
    "start_time": "2022-12-23T19:15:46.600Z"
   },
   {
    "duration": 500,
    "start_time": "2022-12-23T19:15:47.760Z"
   },
   {
    "duration": 37,
    "start_time": "2022-12-23T19:15:49.045Z"
   },
   {
    "duration": 16818,
    "start_time": "2022-12-23T19:16:23.651Z"
   },
   {
    "duration": 40,
    "start_time": "2022-12-23T19:16:43.504Z"
   },
   {
    "duration": 57,
    "start_time": "2022-12-23T19:18:48.451Z"
   },
   {
    "duration": 26,
    "start_time": "2022-12-23T19:18:49.553Z"
   },
   {
    "duration": 6670,
    "start_time": "2022-12-23T19:20:31.051Z"
   },
   {
    "duration": 26158,
    "start_time": "2022-12-23T19:20:58.096Z"
   },
   {
    "duration": 44,
    "start_time": "2022-12-23T19:21:28.332Z"
   },
   {
    "duration": 995,
    "start_time": "2022-12-23T19:21:44.270Z"
   },
   {
    "duration": 5,
    "start_time": "2022-12-23T19:21:45.747Z"
   },
   {
    "duration": 364,
    "start_time": "2022-12-23T19:21:56.639Z"
   },
   {
    "duration": 459,
    "start_time": "2022-12-23T19:21:59.297Z"
   },
   {
    "duration": 482,
    "start_time": "2022-12-23T19:22:01.313Z"
   },
   {
    "duration": 18,
    "start_time": "2022-12-23T19:22:03.201Z"
   },
   {
    "duration": 27,
    "start_time": "2022-12-23T19:22:43.647Z"
   },
   {
    "duration": 19489,
    "start_time": "2022-12-23T19:22:49.955Z"
   },
   {
    "duration": 28,
    "start_time": "2022-12-23T19:23:12.945Z"
   },
   {
    "duration": 24506,
    "start_time": "2022-12-23T19:23:17.249Z"
   },
   {
    "duration": 16621,
    "start_time": "2022-12-23T19:24:07.263Z"
   },
   {
    "duration": 24931,
    "start_time": "2022-12-23T19:24:28.417Z"
   },
   {
    "duration": 75,
    "start_time": "2022-12-23T19:24:53.352Z"
   },
   {
    "duration": 28,
    "start_time": "2022-12-23T19:25:00.701Z"
   },
   {
    "duration": 293,
    "start_time": "2022-12-23T19:25:14.451Z"
   },
   {
    "duration": 932,
    "start_time": "2022-12-23T19:25:52.474Z"
   },
   {
    "duration": 24898,
    "start_time": "2022-12-23T19:25:56.846Z"
   },
   {
    "duration": 25860,
    "start_time": "2022-12-23T19:26:51.773Z"
   },
   {
    "duration": 40,
    "start_time": "2022-12-23T19:27:17.635Z"
   },
   {
    "duration": 34,
    "start_time": "2022-12-23T19:28:39.601Z"
   },
   {
    "duration": 31442,
    "start_time": "2022-12-23T19:28:49.312Z"
   },
   {
    "duration": 0,
    "start_time": "2022-12-23T19:29:20.756Z"
   },
   {
    "duration": 30831,
    "start_time": "2022-12-23T19:29:36.941Z"
   },
   {
    "duration": 0,
    "start_time": "2022-12-23T19:30:07.773Z"
   },
   {
    "duration": 27291,
    "start_time": "2022-12-23T19:30:55.006Z"
   },
   {
    "duration": 43,
    "start_time": "2022-12-23T19:31:22.300Z"
   },
   {
    "duration": 30729,
    "start_time": "2022-12-23T19:31:22.348Z"
   },
   {
    "duration": 28,
    "start_time": "2022-12-23T19:31:53.080Z"
   },
   {
    "duration": 32,
    "start_time": "2022-12-23T19:32:27.261Z"
   },
   {
    "duration": 33581,
    "start_time": "2022-12-23T19:32:53.556Z"
   },
   {
    "duration": 48,
    "start_time": "2022-12-23T19:33:27.139Z"
   },
   {
    "duration": 2187,
    "start_time": "2022-12-23T19:33:58.816Z"
   },
   {
    "duration": 100,
    "start_time": "2022-12-23T19:34:21.808Z"
   },
   {
    "duration": 35748,
    "start_time": "2022-12-23T19:34:25.706Z"
   },
   {
    "duration": 12,
    "start_time": "2022-12-23T19:54:36.307Z"
   },
   {
    "duration": 16,
    "start_time": "2022-12-23T19:55:13.903Z"
   },
   {
    "duration": 11,
    "start_time": "2022-12-23T20:01:53.460Z"
   },
   {
    "duration": 1123,
    "start_time": "2022-12-23T20:02:02.107Z"
   },
   {
    "duration": 26,
    "start_time": "2022-12-23T20:02:13.059Z"
   },
   {
    "duration": 65,
    "start_time": "2022-12-23T20:02:23.528Z"
   },
   {
    "duration": 68,
    "start_time": "2022-12-23T20:02:30.644Z"
   },
   {
    "duration": 63,
    "start_time": "2022-12-23T20:02:36.756Z"
   },
   {
    "duration": 4,
    "start_time": "2022-12-23T20:05:49.155Z"
   },
   {
    "duration": 4,
    "start_time": "2022-12-23T20:05:55.869Z"
   },
   {
    "duration": 73,
    "start_time": "2022-12-23T20:06:39.499Z"
   },
   {
    "duration": 71,
    "start_time": "2022-12-23T20:06:46.643Z"
   },
   {
    "duration": 85,
    "start_time": "2022-12-23T20:06:49.839Z"
   },
   {
    "duration": 68,
    "start_time": "2022-12-23T20:07:19.656Z"
   },
   {
    "duration": 66,
    "start_time": "2022-12-23T20:07:30.135Z"
   },
   {
    "duration": 78,
    "start_time": "2022-12-23T20:07:50.915Z"
   },
   {
    "duration": 78,
    "start_time": "2022-12-23T20:08:21.337Z"
   },
   {
    "duration": 102,
    "start_time": "2022-12-23T20:08:28.635Z"
   },
   {
    "duration": 74,
    "start_time": "2022-12-23T20:08:43.431Z"
   },
   {
    "duration": 12,
    "start_time": "2022-12-23T20:09:08.554Z"
   },
   {
    "duration": 3,
    "start_time": "2022-12-23T20:09:12.141Z"
   },
   {
    "duration": 4,
    "start_time": "2022-12-23T20:09:13.043Z"
   },
   {
    "duration": 3,
    "start_time": "2022-12-23T20:09:27.944Z"
   },
   {
    "duration": 3,
    "start_time": "2022-12-23T20:09:32.791Z"
   },
   {
    "duration": 3,
    "start_time": "2022-12-23T20:09:39.195Z"
   },
   {
    "duration": 88,
    "start_time": "2022-12-23T20:10:16.539Z"
   },
   {
    "duration": 4,
    "start_time": "2022-12-23T20:10:19.160Z"
   },
   {
    "duration": 62,
    "start_time": "2022-12-23T20:10:30.253Z"
   },
   {
    "duration": 64,
    "start_time": "2022-12-23T20:10:41.341Z"
   },
   {
    "duration": 35,
    "start_time": "2022-12-23T20:14:31.490Z"
   },
   {
    "duration": 6,
    "start_time": "2022-12-23T20:14:34.961Z"
   },
   {
    "duration": 94,
    "start_time": "2022-12-23T20:14:48.971Z"
   },
   {
    "duration": 6,
    "start_time": "2022-12-23T20:14:51.658Z"
   },
   {
    "duration": 65,
    "start_time": "2022-12-23T20:15:57.600Z"
   },
   {
    "duration": 20,
    "start_time": "2022-12-23T20:16:02.404Z"
   },
   {
    "duration": 1141,
    "start_time": "2022-12-23T20:17:29.772Z"
   },
   {
    "duration": 12,
    "start_time": "2022-12-23T20:17:39.152Z"
   },
   {
    "duration": 12,
    "start_time": "2022-12-23T20:17:49.762Z"
   },
   {
    "duration": 13,
    "start_time": "2022-12-23T20:17:55.849Z"
   },
   {
    "duration": 75,
    "start_time": "2022-12-23T20:18:34.751Z"
   },
   {
    "duration": 106,
    "start_time": "2022-12-23T20:18:40.457Z"
   },
   {
    "duration": 15,
    "start_time": "2022-12-23T20:25:29.656Z"
   },
   {
    "duration": 42,
    "start_time": "2022-12-24T08:44:34.101Z"
   },
   {
    "duration": 1614,
    "start_time": "2022-12-24T08:44:44.268Z"
   },
   {
    "duration": 2769,
    "start_time": "2022-12-24T08:44:45.884Z"
   },
   {
    "duration": 18,
    "start_time": "2022-12-24T08:44:48.654Z"
   },
   {
    "duration": 20,
    "start_time": "2022-12-24T08:44:48.674Z"
   },
   {
    "duration": 17,
    "start_time": "2022-12-24T08:44:48.696Z"
   },
   {
    "duration": 128,
    "start_time": "2022-12-24T08:44:48.715Z"
   },
   {
    "duration": 703,
    "start_time": "2022-12-24T08:44:48.845Z"
   },
   {
    "duration": 7364,
    "start_time": "2022-12-24T08:44:49.549Z"
   },
   {
    "duration": 1068,
    "start_time": "2022-12-24T08:44:56.915Z"
   },
   {
    "duration": 103,
    "start_time": "2022-12-24T08:44:57.985Z"
   },
   {
    "duration": 307,
    "start_time": "2022-12-24T08:44:58.089Z"
   },
   {
    "duration": 4,
    "start_time": "2022-12-24T08:44:58.398Z"
   },
   {
    "duration": 444,
    "start_time": "2022-12-24T08:44:58.403Z"
   },
   {
    "duration": 440,
    "start_time": "2022-12-24T08:44:58.848Z"
   },
   {
    "duration": 18,
    "start_time": "2022-12-24T08:44:59.289Z"
   },
   {
    "duration": 14315,
    "start_time": "2022-12-24T08:44:59.309Z"
   },
   {
    "duration": 23370,
    "start_time": "2022-12-24T08:45:13.626Z"
   },
   {
    "duration": 26745,
    "start_time": "2022-12-24T08:45:36.998Z"
   },
   {
    "duration": 29013,
    "start_time": "2022-12-24T08:46:03.744Z"
   },
   {
    "duration": 37,
    "start_time": "2022-12-24T08:46:32.759Z"
   },
   {
    "duration": 26,
    "start_time": "2022-12-24T08:46:32.797Z"
   },
   {
    "duration": 71,
    "start_time": "2022-12-24T08:46:32.824Z"
   },
   {
    "duration": 106,
    "start_time": "2022-12-24T08:46:32.897Z"
   },
   {
    "duration": 3,
    "start_time": "2022-12-24T08:46:33.005Z"
   },
   {
    "duration": 69,
    "start_time": "2022-12-24T08:46:33.009Z"
   },
   {
    "duration": 62,
    "start_time": "2022-12-24T08:46:33.080Z"
   },
   {
    "duration": 102,
    "start_time": "2022-12-24T08:46:33.144Z"
   },
   {
    "duration": 34,
    "start_time": "2022-12-24T08:46:33.249Z"
   },
   {
    "duration": 55,
    "start_time": "2022-12-24T08:46:33.284Z"
   },
   {
    "duration": 105,
    "start_time": "2022-12-24T09:08:51.947Z"
   },
   {
    "duration": 691,
    "start_time": "2022-12-24T09:09:29.366Z"
   },
   {
    "duration": 13,
    "start_time": "2022-12-24T09:09:30.597Z"
   },
   {
    "duration": 4,
    "start_time": "2022-12-24T09:09:31.946Z"
   },
   {
    "duration": 12,
    "start_time": "2022-12-24T09:09:32.158Z"
   },
   {
    "duration": 102,
    "start_time": "2022-12-24T09:09:32.358Z"
   },
   {
    "duration": 671,
    "start_time": "2022-12-24T09:09:33.114Z"
   },
   {
    "duration": 7210,
    "start_time": "2022-12-24T09:09:34.498Z"
   },
   {
    "duration": 997,
    "start_time": "2022-12-24T09:09:41.710Z"
   },
   {
    "duration": 107,
    "start_time": "2022-12-24T09:09:42.709Z"
   },
   {
    "duration": 321,
    "start_time": "2022-12-24T09:09:42.819Z"
   },
   {
    "duration": 3,
    "start_time": "2022-12-24T09:09:44.347Z"
   },
   {
    "duration": 391,
    "start_time": "2022-12-24T09:09:45.991Z"
   },
   {
    "duration": 423,
    "start_time": "2022-12-24T09:09:46.384Z"
   },
   {
    "duration": 21,
    "start_time": "2022-12-24T09:09:47.865Z"
   },
   {
    "duration": 15135,
    "start_time": "2022-12-24T09:09:48.550Z"
   },
   {
    "duration": 3605,
    "start_time": "2022-12-24T09:10:03.687Z"
   },
   {
    "duration": 5097,
    "start_time": "2022-12-24T09:10:07.294Z"
   },
   {
    "duration": 5449,
    "start_time": "2022-12-24T09:10:12.393Z"
   },
   {
    "duration": 26,
    "start_time": "2022-12-24T09:10:17.845Z"
   },
   {
    "duration": 28,
    "start_time": "2022-12-24T09:10:17.878Z"
   },
   {
    "duration": 71,
    "start_time": "2022-12-24T09:10:17.908Z"
   },
   {
    "duration": 79,
    "start_time": "2022-12-24T09:10:21.374Z"
   },
   {
    "duration": 3,
    "start_time": "2022-12-24T09:10:22.774Z"
   },
   {
    "duration": 2936,
    "start_time": "2022-12-24T09:11:00.574Z"
   },
   {
    "duration": 22,
    "start_time": "2022-12-24T09:11:07.244Z"
   },
   {
    "duration": 61,
    "start_time": "2022-12-24T09:11:08.956Z"
   },
   {
    "duration": 4,
    "start_time": "2022-12-24T09:11:15.657Z"
   },
   {
    "duration": 728,
    "start_time": "2022-12-24T09:11:21.295Z"
   },
   {
    "duration": 14,
    "start_time": "2022-12-24T09:11:22.025Z"
   },
   {
    "duration": 4,
    "start_time": "2022-12-24T09:11:22.441Z"
   },
   {
    "duration": 12,
    "start_time": "2022-12-24T09:11:22.640Z"
   },
   {
    "duration": 98,
    "start_time": "2022-12-24T09:11:22.843Z"
   },
   {
    "duration": 96,
    "start_time": "2022-12-24T09:11:31.543Z"
   },
   {
    "duration": 416,
    "start_time": "2022-12-24T09:11:34.099Z"
   },
   {
    "duration": 433,
    "start_time": "2022-12-24T09:11:34.554Z"
   },
   {
    "duration": 19,
    "start_time": "2022-12-24T09:11:35.521Z"
   },
   {
    "duration": 15336,
    "start_time": "2022-12-24T09:11:36.542Z"
   },
   {
    "duration": 3548,
    "start_time": "2022-12-24T09:11:51.880Z"
   },
   {
    "duration": 5178,
    "start_time": "2022-12-24T09:11:55.430Z"
   },
   {
    "duration": 3560,
    "start_time": "2022-12-24T09:12:00.611Z"
   },
   {
    "duration": 27,
    "start_time": "2022-12-24T09:12:04.173Z"
   },
   {
    "duration": 25,
    "start_time": "2022-12-24T09:12:04.202Z"
   },
   {
    "duration": 75,
    "start_time": "2022-12-24T09:12:04.229Z"
   },
   {
    "duration": 83,
    "start_time": "2022-12-24T09:12:18.537Z"
   },
   {
    "duration": 3,
    "start_time": "2022-12-24T09:12:18.852Z"
   },
   {
    "duration": 3,
    "start_time": "2022-12-24T09:12:22.392Z"
   },
   {
    "duration": 7163,
    "start_time": "2022-12-24T09:12:32.696Z"
   },
   {
    "duration": 1059,
    "start_time": "2022-12-24T09:12:58.995Z"
   },
   {
    "duration": 73,
    "start_time": "2022-12-24T09:13:18.427Z"
   },
   {
    "duration": 54,
    "start_time": "2022-12-24T09:13:19.537Z"
   },
   {
    "duration": 103,
    "start_time": "2022-12-24T09:13:21.712Z"
   },
   {
    "duration": 20,
    "start_time": "2022-12-24T09:13:27.994Z"
   },
   {
    "duration": 56,
    "start_time": "2022-12-24T09:13:29.322Z"
   },
   {
    "duration": 63,
    "start_time": "2022-12-24T09:13:57.726Z"
   },
   {
    "duration": 59,
    "start_time": "2022-12-24T09:14:04.261Z"
   },
   {
    "duration": 12,
    "start_time": "2022-12-24T09:14:59.047Z"
   },
   {
    "duration": 10,
    "start_time": "2022-12-24T09:15:13.559Z"
   },
   {
    "duration": 10,
    "start_time": "2022-12-24T09:15:28.919Z"
   },
   {
    "duration": 128,
    "start_time": "2022-12-24T09:15:32.824Z"
   },
   {
    "duration": 122,
    "start_time": "2022-12-24T09:15:41.492Z"
   },
   {
    "duration": 14,
    "start_time": "2022-12-24T09:20:13.368Z"
   },
   {
    "duration": 508,
    "start_time": "2022-12-24T09:20:19.891Z"
   },
   {
    "duration": 4,
    "start_time": "2022-12-24T09:23:22.862Z"
   },
   {
    "duration": 76,
    "start_time": "2022-12-24T09:27:26.909Z"
   },
   {
    "duration": 76,
    "start_time": "2022-12-24T09:28:02.572Z"
   },
   {
    "duration": 78,
    "start_time": "2022-12-24T09:28:44.910Z"
   },
   {
    "duration": 59,
    "start_time": "2022-12-24T09:29:33.221Z"
   },
   {
    "duration": 1159,
    "start_time": "2022-12-24T09:34:05.469Z"
   },
   {
    "duration": 10,
    "start_time": "2022-12-24T09:34:12.921Z"
   },
   {
    "duration": 12,
    "start_time": "2022-12-24T09:37:21.438Z"
   },
   {
    "duration": 11,
    "start_time": "2022-12-24T09:37:24.423Z"
   },
   {
    "duration": 27,
    "start_time": "2022-12-24T09:37:41.250Z"
   },
   {
    "duration": 18,
    "start_time": "2022-12-24T09:38:13.753Z"
   },
   {
    "duration": 17,
    "start_time": "2022-12-24T09:38:35.085Z"
   },
   {
    "duration": 32,
    "start_time": "2022-12-24T09:40:19.491Z"
   },
   {
    "duration": 33,
    "start_time": "2022-12-24T09:40:36.529Z"
   },
   {
    "duration": 63,
    "start_time": "2022-12-24T09:42:31.772Z"
   },
   {
    "duration": 43,
    "start_time": "2022-12-24T09:42:36.254Z"
   },
   {
    "duration": 342,
    "start_time": "2022-12-24T09:43:08.561Z"
   },
   {
    "duration": 132,
    "start_time": "2022-12-24T09:43:22.200Z"
   },
   {
    "duration": 34,
    "start_time": "2022-12-24T09:43:39.860Z"
   },
   {
    "duration": 141,
    "start_time": "2022-12-24T09:43:46.137Z"
   },
   {
    "duration": 300,
    "start_time": "2022-12-24T09:43:53.959Z"
   },
   {
    "duration": 184,
    "start_time": "2022-12-24T09:43:57.059Z"
   },
   {
    "duration": 30,
    "start_time": "2022-12-24T09:44:09.984Z"
   },
   {
    "duration": 26,
    "start_time": "2022-12-24T09:44:18.135Z"
   },
   {
    "duration": 24,
    "start_time": "2022-12-24T09:44:26.786Z"
   },
   {
    "duration": 150,
    "start_time": "2022-12-24T09:45:01.644Z"
   },
   {
    "duration": 17,
    "start_time": "2022-12-24T09:48:24.508Z"
   },
   {
    "duration": 163,
    "start_time": "2022-12-24T09:51:30.277Z"
   },
   {
    "duration": 182,
    "start_time": "2022-12-24T09:51:42.975Z"
   },
   {
    "duration": 185,
    "start_time": "2022-12-24T09:52:40.458Z"
   },
   {
    "duration": 280,
    "start_time": "2022-12-24T09:52:45.011Z"
   },
   {
    "duration": 68,
    "start_time": "2022-12-24T09:53:00.924Z"
   },
   {
    "duration": 61,
    "start_time": "2022-12-24T09:53:10.950Z"
   },
   {
    "duration": 9,
    "start_time": "2022-12-24T09:53:20.533Z"
   },
   {
    "duration": 21,
    "start_time": "2022-12-24T09:53:35.693Z"
   },
   {
    "duration": 9,
    "start_time": "2022-12-24T09:53:44.808Z"
   },
   {
    "duration": 9,
    "start_time": "2022-12-24T09:54:04.916Z"
   },
   {
    "duration": 145,
    "start_time": "2022-12-24T09:54:08.863Z"
   },
   {
    "duration": 56,
    "start_time": "2022-12-24T09:54:13.259Z"
   },
   {
    "duration": 59,
    "start_time": "2022-12-24T09:54:39.510Z"
   },
   {
    "duration": 1330,
    "start_time": "2022-12-24T09:55:10.332Z"
   },
   {
    "duration": 745,
    "start_time": "2022-12-24T09:55:11.664Z"
   },
   {
    "duration": 16,
    "start_time": "2022-12-24T09:55:12.410Z"
   },
   {
    "duration": 4,
    "start_time": "2022-12-24T09:55:12.427Z"
   },
   {
    "duration": 14,
    "start_time": "2022-12-24T09:55:12.433Z"
   },
   {
    "duration": 116,
    "start_time": "2022-12-24T09:55:12.449Z"
   },
   {
    "duration": 601,
    "start_time": "2022-12-24T09:55:12.566Z"
   },
   {
    "duration": 7614,
    "start_time": "2022-12-24T09:55:13.169Z"
   },
   {
    "duration": 1009,
    "start_time": "2022-12-24T09:55:20.785Z"
   },
   {
    "duration": 104,
    "start_time": "2022-12-24T09:55:21.796Z"
   },
   {
    "duration": 327,
    "start_time": "2022-12-24T09:55:21.902Z"
   },
   {
    "duration": 4,
    "start_time": "2022-12-24T09:55:22.230Z"
   },
   {
    "duration": 417,
    "start_time": "2022-12-24T09:55:22.235Z"
   },
   {
    "duration": 465,
    "start_time": "2022-12-24T09:55:22.655Z"
   },
   {
    "duration": 18,
    "start_time": "2022-12-24T09:55:23.122Z"
   },
   {
    "duration": 15071,
    "start_time": "2022-12-24T09:55:23.141Z"
   },
   {
    "duration": 3405,
    "start_time": "2022-12-24T09:55:38.214Z"
   },
   {
    "duration": 5422,
    "start_time": "2022-12-24T09:55:41.621Z"
   },
   {
    "duration": 3834,
    "start_time": "2022-12-24T09:55:47.044Z"
   },
   {
    "duration": 38,
    "start_time": "2022-12-24T09:55:50.880Z"
   },
   {
    "duration": 56,
    "start_time": "2022-12-24T09:55:50.920Z"
   },
   {
    "duration": 99,
    "start_time": "2022-12-24T09:55:50.979Z"
   },
   {
    "duration": 134,
    "start_time": "2022-12-24T09:55:51.079Z"
   },
   {
    "duration": 49,
    "start_time": "2022-12-24T09:55:51.215Z"
   },
   {
    "duration": 114,
    "start_time": "2022-12-24T09:55:51.266Z"
   },
   {
    "duration": 73,
    "start_time": "2022-12-24T09:55:51.382Z"
   },
   {
    "duration": 131,
    "start_time": "2022-12-24T09:55:51.456Z"
   },
   {
    "duration": 21,
    "start_time": "2022-12-24T09:55:51.589Z"
   },
   {
    "duration": 609,
    "start_time": "2022-12-24T09:55:51.613Z"
   },
   {
    "duration": 4,
    "start_time": "2022-12-24T09:55:52.224Z"
   },
   {
    "duration": 226,
    "start_time": "2022-12-24T09:55:52.230Z"
   },
   {
    "duration": 115,
    "start_time": "2022-12-24T09:55:52.457Z"
   },
   {
    "duration": 0,
    "start_time": "2022-12-24T09:55:52.573Z"
   },
   {
    "duration": 0,
    "start_time": "2022-12-24T09:55:52.578Z"
   },
   {
    "duration": 0,
    "start_time": "2022-12-24T09:55:52.579Z"
   },
   {
    "duration": 0,
    "start_time": "2022-12-24T09:55:52.580Z"
   },
   {
    "duration": 0,
    "start_time": "2022-12-24T09:55:52.581Z"
   },
   {
    "duration": 78,
    "start_time": "2022-12-24T09:56:01.289Z"
   },
   {
    "duration": 236,
    "start_time": "2022-12-24T09:56:25.572Z"
   },
   {
    "duration": 241,
    "start_time": "2022-12-24T09:56:26.574Z"
   },
   {
    "duration": 47,
    "start_time": "2022-12-24T09:58:43.542Z"
   },
   {
    "duration": 196,
    "start_time": "2022-12-24T09:58:48.171Z"
   },
   {
    "duration": 26758,
    "start_time": "2022-12-24T10:02:27.012Z"
   },
   {
    "duration": 206,
    "start_time": "2022-12-24T10:03:09.486Z"
   },
   {
    "duration": 16,
    "start_time": "2022-12-24T10:03:34.177Z"
   },
   {
    "duration": 10,
    "start_time": "2022-12-24T10:03:50.985Z"
   },
   {
    "duration": 21,
    "start_time": "2022-12-24T10:04:08.587Z"
   },
   {
    "duration": 23,
    "start_time": "2022-12-24T10:04:14.029Z"
   },
   {
    "duration": 17,
    "start_time": "2022-12-24T10:04:35.809Z"
   },
   {
    "duration": 9,
    "start_time": "2022-12-24T10:04:47.830Z"
   },
   {
    "duration": 12,
    "start_time": "2022-12-24T10:04:50.933Z"
   },
   {
    "duration": 23,
    "start_time": "2022-12-24T10:04:52.449Z"
   },
   {
    "duration": 31,
    "start_time": "2022-12-24T10:05:15.295Z"
   },
   {
    "duration": 8,
    "start_time": "2022-12-24T10:05:34.262Z"
   },
   {
    "duration": 8,
    "start_time": "2022-12-24T10:05:37.335Z"
   },
   {
    "duration": 8,
    "start_time": "2022-12-24T10:05:41.699Z"
   },
   {
    "duration": 8,
    "start_time": "2022-12-24T10:05:44.233Z"
   },
   {
    "duration": 10,
    "start_time": "2022-12-24T10:05:45.632Z"
   },
   {
    "duration": 19,
    "start_time": "2022-12-24T10:05:47.853Z"
   },
   {
    "duration": 7,
    "start_time": "2022-12-24T10:05:52.261Z"
   },
   {
    "duration": 20,
    "start_time": "2022-12-24T10:05:56.333Z"
   },
   {
    "duration": 16,
    "start_time": "2022-12-24T10:06:11.698Z"
   },
   {
    "duration": 219,
    "start_time": "2022-12-24T10:09:28.659Z"
   },
   {
    "duration": 223,
    "start_time": "2022-12-24T10:10:02.393Z"
   },
   {
    "duration": 16,
    "start_time": "2022-12-24T10:10:05.362Z"
   },
   {
    "duration": 260,
    "start_time": "2022-12-24T10:10:10.511Z"
   },
   {
    "duration": 50,
    "start_time": "2022-12-24T10:10:35.125Z"
   },
   {
    "duration": 1369,
    "start_time": "2022-12-24T10:12:02.106Z"
   },
   {
    "duration": 915,
    "start_time": "2022-12-24T10:12:03.477Z"
   },
   {
    "duration": 16,
    "start_time": "2022-12-24T10:12:04.394Z"
   },
   {
    "duration": 6,
    "start_time": "2022-12-24T10:12:04.412Z"
   },
   {
    "duration": 17,
    "start_time": "2022-12-24T10:12:04.420Z"
   },
   {
    "duration": 126,
    "start_time": "2022-12-24T10:12:04.438Z"
   },
   {
    "duration": 666,
    "start_time": "2022-12-24T10:12:04.566Z"
   },
   {
    "duration": 7358,
    "start_time": "2022-12-24T10:12:05.235Z"
   },
   {
    "duration": 1021,
    "start_time": "2022-12-24T10:12:12.594Z"
   },
   {
    "duration": 98,
    "start_time": "2022-12-24T10:12:13.617Z"
   },
   {
    "duration": 361,
    "start_time": "2022-12-24T10:12:13.717Z"
   },
   {
    "duration": 5,
    "start_time": "2022-12-24T10:12:14.080Z"
   },
   {
    "duration": 476,
    "start_time": "2022-12-24T10:12:14.087Z"
   },
   {
    "duration": 468,
    "start_time": "2022-12-24T10:12:14.566Z"
   },
   {
    "duration": 19,
    "start_time": "2022-12-24T10:12:15.036Z"
   },
   {
    "duration": 15473,
    "start_time": "2022-12-24T10:12:15.056Z"
   },
   {
    "duration": 3515,
    "start_time": "2022-12-24T10:12:30.531Z"
   },
   {
    "duration": 5218,
    "start_time": "2022-12-24T10:12:34.048Z"
   },
   {
    "duration": 3405,
    "start_time": "2022-12-24T10:12:39.267Z"
   },
   {
    "duration": 35,
    "start_time": "2022-12-24T10:12:42.674Z"
   },
   {
    "duration": 26,
    "start_time": "2022-12-24T10:12:42.711Z"
   },
   {
    "duration": 74,
    "start_time": "2022-12-24T10:12:42.739Z"
   },
   {
    "duration": 90,
    "start_time": "2022-12-24T10:12:42.815Z"
   },
   {
    "duration": 3,
    "start_time": "2022-12-24T10:12:42.907Z"
   },
   {
    "duration": 87,
    "start_time": "2022-12-24T10:12:42.911Z"
   },
   {
    "duration": 64,
    "start_time": "2022-12-24T10:12:43.000Z"
   },
   {
    "duration": 112,
    "start_time": "2022-12-24T10:12:43.066Z"
   },
   {
    "duration": 19,
    "start_time": "2022-12-24T10:12:43.180Z"
   },
   {
    "duration": 528,
    "start_time": "2022-12-24T10:12:43.200Z"
   },
   {
    "duration": 5,
    "start_time": "2022-12-24T10:12:43.729Z"
   },
   {
    "duration": 85,
    "start_time": "2022-12-24T10:12:43.735Z"
   },
   {
    "duration": 228,
    "start_time": "2022-12-24T10:12:43.821Z"
   },
   {
    "duration": 83,
    "start_time": "2022-12-24T10:12:44.052Z"
   },
   {
    "duration": 280,
    "start_time": "2022-12-24T10:12:44.136Z"
   },
   {
    "duration": 10530,
    "start_time": "2022-12-24T10:12:44.418Z"
   },
   {
    "duration": 193,
    "start_time": "2022-12-24T10:12:54.950Z"
   },
   {
    "duration": 111,
    "start_time": "2022-12-24T10:12:55.145Z"
   },
   {
    "duration": 1,
    "start_time": "2022-12-24T10:12:55.257Z"
   },
   {
    "duration": 0,
    "start_time": "2022-12-24T10:12:55.260Z"
   },
   {
    "duration": 0,
    "start_time": "2022-12-24T10:12:55.261Z"
   },
   {
    "duration": 0,
    "start_time": "2022-12-24T10:12:55.262Z"
   },
   {
    "duration": 127,
    "start_time": "2022-12-24T10:13:26.435Z"
   },
   {
    "duration": 209,
    "start_time": "2022-12-24T10:13:59.384Z"
   },
   {
    "duration": 7,
    "start_time": "2022-12-24T10:14:08.971Z"
   },
   {
    "duration": 19,
    "start_time": "2022-12-24T10:14:17.002Z"
   },
   {
    "duration": 1469,
    "start_time": "2022-12-24T10:14:45.089Z"
   },
   {
    "duration": 782,
    "start_time": "2022-12-24T10:14:46.560Z"
   },
   {
    "duration": 17,
    "start_time": "2022-12-24T10:14:47.343Z"
   },
   {
    "duration": 4,
    "start_time": "2022-12-24T10:14:47.362Z"
   },
   {
    "duration": 25,
    "start_time": "2022-12-24T10:14:47.367Z"
   },
   {
    "duration": 124,
    "start_time": "2022-12-24T10:14:47.393Z"
   },
   {
    "duration": 613,
    "start_time": "2022-12-24T10:14:47.519Z"
   },
   {
    "duration": 8024,
    "start_time": "2022-12-24T10:14:48.134Z"
   },
   {
    "duration": 1130,
    "start_time": "2022-12-24T10:14:56.159Z"
   },
   {
    "duration": 107,
    "start_time": "2022-12-24T10:14:57.291Z"
   },
   {
    "duration": 310,
    "start_time": "2022-12-24T10:14:57.400Z"
   },
   {
    "duration": 3,
    "start_time": "2022-12-24T10:14:57.712Z"
   },
   {
    "duration": 455,
    "start_time": "2022-12-24T10:14:57.717Z"
   },
   {
    "duration": 455,
    "start_time": "2022-12-24T10:14:58.177Z"
   },
   {
    "duration": 18,
    "start_time": "2022-12-24T10:14:58.633Z"
   },
   {
    "duration": 14708,
    "start_time": "2022-12-24T10:14:58.653Z"
   },
   {
    "duration": 3648,
    "start_time": "2022-12-24T10:15:13.363Z"
   },
   {
    "duration": 5484,
    "start_time": "2022-12-24T10:15:17.013Z"
   },
   {
    "duration": 3419,
    "start_time": "2022-12-24T10:15:22.498Z"
   },
   {
    "duration": 34,
    "start_time": "2022-12-24T10:15:25.919Z"
   },
   {
    "duration": 38,
    "start_time": "2022-12-24T10:15:25.955Z"
   },
   {
    "duration": 62,
    "start_time": "2022-12-24T10:15:25.995Z"
   },
   {
    "duration": 96,
    "start_time": "2022-12-24T10:15:26.058Z"
   },
   {
    "duration": 3,
    "start_time": "2022-12-24T10:15:26.156Z"
   },
   {
    "duration": 74,
    "start_time": "2022-12-24T10:15:26.160Z"
   },
   {
    "duration": 68,
    "start_time": "2022-12-24T10:15:26.236Z"
   },
   {
    "duration": 106,
    "start_time": "2022-12-24T10:15:26.306Z"
   },
   {
    "duration": 19,
    "start_time": "2022-12-24T10:15:26.414Z"
   },
   {
    "duration": 510,
    "start_time": "2022-12-24T10:15:26.435Z"
   },
   {
    "duration": 6,
    "start_time": "2022-12-24T10:15:26.947Z"
   },
   {
    "duration": 87,
    "start_time": "2022-12-24T10:15:26.954Z"
   },
   {
    "duration": 104,
    "start_time": "2022-12-24T10:15:27.043Z"
   },
   {
    "duration": 0,
    "start_time": "2022-12-24T10:15:27.149Z"
   },
   {
    "duration": 0,
    "start_time": "2022-12-24T10:15:27.150Z"
   },
   {
    "duration": 0,
    "start_time": "2022-12-24T10:15:27.151Z"
   },
   {
    "duration": 0,
    "start_time": "2022-12-24T10:15:27.152Z"
   },
   {
    "duration": 0,
    "start_time": "2022-12-24T10:15:27.153Z"
   },
   {
    "duration": 0,
    "start_time": "2022-12-24T10:15:27.154Z"
   },
   {
    "duration": 0,
    "start_time": "2022-12-24T10:15:27.155Z"
   },
   {
    "duration": 0,
    "start_time": "2022-12-24T10:15:27.156Z"
   },
   {
    "duration": 0,
    "start_time": "2022-12-24T10:15:27.157Z"
   },
   {
    "duration": 0,
    "start_time": "2022-12-24T10:15:27.158Z"
   },
   {
    "duration": 19,
    "start_time": "2022-12-24T10:15:39.889Z"
   },
   {
    "duration": 215,
    "start_time": "2022-12-24T10:16:20.129Z"
   },
   {
    "duration": 15,
    "start_time": "2022-12-24T10:16:21.460Z"
   },
   {
    "duration": 1633,
    "start_time": "2022-12-24T10:17:48.948Z"
   },
   {
    "duration": 938,
    "start_time": "2022-12-24T10:17:50.583Z"
   },
   {
    "duration": 18,
    "start_time": "2022-12-24T10:17:51.523Z"
   },
   {
    "duration": 22,
    "start_time": "2022-12-24T10:17:51.543Z"
   },
   {
    "duration": 24,
    "start_time": "2022-12-24T10:17:51.568Z"
   },
   {
    "duration": 143,
    "start_time": "2022-12-24T10:17:51.594Z"
   },
   {
    "duration": 601,
    "start_time": "2022-12-24T10:17:51.739Z"
   },
   {
    "duration": 7380,
    "start_time": "2022-12-24T10:17:52.341Z"
   },
   {
    "duration": 1058,
    "start_time": "2022-12-24T10:17:59.723Z"
   },
   {
    "duration": 99,
    "start_time": "2022-12-24T10:18:00.782Z"
   },
   {
    "duration": 350,
    "start_time": "2022-12-24T10:18:00.882Z"
   },
   {
    "duration": 3,
    "start_time": "2022-12-24T10:18:01.234Z"
   },
   {
    "duration": 448,
    "start_time": "2022-12-24T10:18:01.239Z"
   },
   {
    "duration": 450,
    "start_time": "2022-12-24T10:18:01.690Z"
   },
   {
    "duration": 21,
    "start_time": "2022-12-24T10:18:02.142Z"
   },
   {
    "duration": 14966,
    "start_time": "2022-12-24T10:18:02.164Z"
   },
   {
    "duration": 3904,
    "start_time": "2022-12-24T10:18:17.132Z"
   },
   {
    "duration": 5284,
    "start_time": "2022-12-24T10:18:21.038Z"
   },
   {
    "duration": 3423,
    "start_time": "2022-12-24T10:18:26.324Z"
   },
   {
    "duration": 43,
    "start_time": "2022-12-24T10:18:29.749Z"
   },
   {
    "duration": 28,
    "start_time": "2022-12-24T10:18:29.793Z"
   },
   {
    "duration": 68,
    "start_time": "2022-12-24T10:18:29.823Z"
   },
   {
    "duration": 100,
    "start_time": "2022-12-24T10:18:29.893Z"
   },
   {
    "duration": 3,
    "start_time": "2022-12-24T10:18:29.995Z"
   },
   {
    "duration": 82,
    "start_time": "2022-12-24T10:18:30.000Z"
   },
   {
    "duration": 65,
    "start_time": "2022-12-24T10:18:30.084Z"
   },
   {
    "duration": 109,
    "start_time": "2022-12-24T10:18:30.151Z"
   },
   {
    "duration": 30,
    "start_time": "2022-12-24T10:18:30.262Z"
   },
   {
    "duration": 520,
    "start_time": "2022-12-24T10:18:30.294Z"
   },
   {
    "duration": 5,
    "start_time": "2022-12-24T10:18:30.815Z"
   },
   {
    "duration": 116,
    "start_time": "2022-12-24T10:18:30.821Z"
   },
   {
    "duration": 28,
    "start_time": "2022-12-24T10:18:30.938Z"
   },
   {
    "duration": 245,
    "start_time": "2022-12-24T10:18:30.968Z"
   },
   {
    "duration": 0,
    "start_time": "2022-12-24T10:18:31.215Z"
   },
   {
    "duration": 0,
    "start_time": "2022-12-24T10:18:31.217Z"
   },
   {
    "duration": 0,
    "start_time": "2022-12-24T10:18:31.218Z"
   },
   {
    "duration": 0,
    "start_time": "2022-12-24T10:18:31.219Z"
   },
   {
    "duration": 0,
    "start_time": "2022-12-24T10:18:31.220Z"
   },
   {
    "duration": 0,
    "start_time": "2022-12-24T10:18:31.222Z"
   },
   {
    "duration": 0,
    "start_time": "2022-12-24T10:18:31.223Z"
   },
   {
    "duration": 0,
    "start_time": "2022-12-24T10:18:31.224Z"
   },
   {
    "duration": 0,
    "start_time": "2022-12-24T10:18:31.226Z"
   },
   {
    "duration": 97,
    "start_time": "2022-12-24T10:19:32.741Z"
   },
   {
    "duration": 107,
    "start_time": "2022-12-24T10:19:57.581Z"
   },
   {
    "duration": 107,
    "start_time": "2022-12-24T10:20:13.473Z"
   },
   {
    "duration": 224,
    "start_time": "2022-12-24T10:20:23.597Z"
   },
   {
    "duration": 221,
    "start_time": "2022-12-24T10:20:31.809Z"
   },
   {
    "duration": 89,
    "start_time": "2022-12-24T10:20:58.539Z"
   },
   {
    "duration": 104,
    "start_time": "2022-12-24T10:21:24.335Z"
   },
   {
    "duration": 114,
    "start_time": "2022-12-24T10:21:50.406Z"
   },
   {
    "duration": 18,
    "start_time": "2022-12-24T10:21:51.451Z"
   },
   {
    "duration": 209,
    "start_time": "2022-12-24T10:22:14.009Z"
   },
   {
    "duration": 72,
    "start_time": "2022-12-24T10:22:17.987Z"
   },
   {
    "duration": 7465,
    "start_time": "2022-12-24T10:22:27.890Z"
   },
   {
    "duration": 182,
    "start_time": "2022-12-24T10:22:36.340Z"
   },
   {
    "duration": 9,
    "start_time": "2022-12-24T10:23:19.788Z"
   },
   {
    "duration": 176,
    "start_time": "2022-12-24T10:23:22.645Z"
   },
   {
    "duration": 94,
    "start_time": "2022-12-24T10:23:38.440Z"
   },
   {
    "duration": 64,
    "start_time": "2022-12-24T10:23:41.090Z"
   },
   {
    "duration": 22442,
    "start_time": "2022-12-24T10:23:47.786Z"
   },
   {
    "duration": 7462,
    "start_time": "2022-12-24T10:25:50.465Z"
   },
   {
    "duration": 176,
    "start_time": "2022-12-24T10:26:00.283Z"
   },
   {
    "duration": 287,
    "start_time": "2022-12-24T10:26:14.042Z"
   },
   {
    "duration": 6,
    "start_time": "2022-12-24T10:26:25.511Z"
   },
   {
    "duration": 22,
    "start_time": "2022-12-24T10:26:37.469Z"
   },
   {
    "duration": 18,
    "start_time": "2022-12-24T10:26:59.356Z"
   },
   {
    "duration": 10,
    "start_time": "2022-12-24T10:27:09.337Z"
   },
   {
    "duration": 12,
    "start_time": "2022-12-24T10:36:26.129Z"
   },
   {
    "duration": 7,
    "start_time": "2022-12-24T10:37:08.281Z"
   },
   {
    "duration": 19,
    "start_time": "2022-12-24T10:39:07.338Z"
   },
   {
    "duration": 175,
    "start_time": "2022-12-24T10:39:11.884Z"
   },
   {
    "duration": 75,
    "start_time": "2022-12-24T10:44:16.570Z"
   },
   {
    "duration": 5,
    "start_time": "2022-12-24T10:45:08.967Z"
   },
   {
    "duration": 18,
    "start_time": "2022-12-24T10:45:13.681Z"
   },
   {
    "duration": 4,
    "start_time": "2022-12-24T10:45:25.148Z"
   },
   {
    "duration": 20,
    "start_time": "2022-12-24T10:45:29.866Z"
   },
   {
    "duration": 5,
    "start_time": "2022-12-24T10:45:36.948Z"
   },
   {
    "duration": 20,
    "start_time": "2022-12-24T10:45:38.943Z"
   },
   {
    "duration": 91,
    "start_time": "2022-12-24T10:59:47.453Z"
   },
   {
    "duration": 19,
    "start_time": "2022-12-24T10:59:47.753Z"
   },
   {
    "duration": 18,
    "start_time": "2022-12-24T11:00:27.278Z"
   },
   {
    "duration": 17,
    "start_time": "2022-12-24T11:00:32.442Z"
   },
   {
    "duration": 1581,
    "start_time": "2022-12-24T11:01:16.053Z"
   },
   {
    "duration": 877,
    "start_time": "2022-12-24T11:01:17.636Z"
   },
   {
    "duration": 17,
    "start_time": "2022-12-24T11:01:18.514Z"
   },
   {
    "duration": 4,
    "start_time": "2022-12-24T11:01:18.533Z"
   },
   {
    "duration": 17,
    "start_time": "2022-12-24T11:01:18.539Z"
   },
   {
    "duration": 143,
    "start_time": "2022-12-24T11:01:18.558Z"
   },
   {
    "duration": 634,
    "start_time": "2022-12-24T11:01:18.703Z"
   },
   {
    "duration": 7446,
    "start_time": "2022-12-24T11:01:19.339Z"
   },
   {
    "duration": 1068,
    "start_time": "2022-12-24T11:01:26.786Z"
   },
   {
    "duration": 97,
    "start_time": "2022-12-24T11:01:27.856Z"
   },
   {
    "duration": 316,
    "start_time": "2022-12-24T11:01:27.954Z"
   },
   {
    "duration": 7,
    "start_time": "2022-12-24T11:01:28.272Z"
   },
   {
    "duration": 450,
    "start_time": "2022-12-24T11:01:28.280Z"
   },
   {
    "duration": 515,
    "start_time": "2022-12-24T11:01:28.731Z"
   },
   {
    "duration": 20,
    "start_time": "2022-12-24T11:01:29.247Z"
   },
   {
    "duration": 14738,
    "start_time": "2022-12-24T11:01:29.269Z"
   },
   {
    "duration": 3631,
    "start_time": "2022-12-24T11:01:44.009Z"
   },
   {
    "duration": 5807,
    "start_time": "2022-12-24T11:01:47.642Z"
   },
   {
    "duration": 3513,
    "start_time": "2022-12-24T11:01:53.450Z"
   },
   {
    "duration": 39,
    "start_time": "2022-12-24T11:01:56.965Z"
   },
   {
    "duration": 41,
    "start_time": "2022-12-24T11:01:57.006Z"
   },
   {
    "duration": 66,
    "start_time": "2022-12-24T11:01:57.049Z"
   },
   {
    "duration": 99,
    "start_time": "2022-12-24T11:01:57.117Z"
   },
   {
    "duration": 3,
    "start_time": "2022-12-24T11:01:57.218Z"
   },
   {
    "duration": 99,
    "start_time": "2022-12-24T11:01:57.222Z"
   },
   {
    "duration": 75,
    "start_time": "2022-12-24T11:01:57.322Z"
   },
   {
    "duration": 108,
    "start_time": "2022-12-24T11:01:57.399Z"
   },
   {
    "duration": 19,
    "start_time": "2022-12-24T11:01:57.510Z"
   },
   {
    "duration": 523,
    "start_time": "2022-12-24T11:01:57.531Z"
   },
   {
    "duration": 4,
    "start_time": "2022-12-24T11:01:58.056Z"
   },
   {
    "duration": 132,
    "start_time": "2022-12-24T11:01:58.062Z"
   },
   {
    "duration": 59,
    "start_time": "2022-12-24T11:01:58.195Z"
   },
   {
    "duration": 7459,
    "start_time": "2022-12-24T11:01:58.255Z"
   },
   {
    "duration": 25,
    "start_time": "2022-12-24T11:02:05.716Z"
   },
   {
    "duration": 110,
    "start_time": "2022-12-24T11:02:05.743Z"
   },
   {
    "duration": 63,
    "start_time": "2022-12-24T11:02:05.854Z"
   },
   {
    "duration": 7175,
    "start_time": "2022-12-24T11:02:05.918Z"
   },
   {
    "duration": 10,
    "start_time": "2022-12-24T11:02:13.094Z"
   },
   {
    "duration": 32,
    "start_time": "2022-12-24T11:02:13.106Z"
   },
   {
    "duration": 125,
    "start_time": "2022-12-24T11:02:13.140Z"
   },
   {
    "duration": 83,
    "start_time": "2022-12-24T11:02:13.266Z"
   },
   {
    "duration": 7,
    "start_time": "2022-12-24T11:02:13.351Z"
   },
   {
    "duration": 9,
    "start_time": "2022-12-24T11:15:53.004Z"
   },
   {
    "duration": 1324,
    "start_time": "2022-12-24T11:16:19.533Z"
   },
   {
    "duration": 784,
    "start_time": "2022-12-24T11:16:20.859Z"
   },
   {
    "duration": 16,
    "start_time": "2022-12-24T11:16:21.644Z"
   },
   {
    "duration": 15,
    "start_time": "2022-12-24T11:16:21.662Z"
   },
   {
    "duration": 34,
    "start_time": "2022-12-24T11:16:21.679Z"
   },
   {
    "duration": 111,
    "start_time": "2022-12-24T11:16:21.714Z"
   },
   {
    "duration": 610,
    "start_time": "2022-12-24T11:16:21.827Z"
   },
   {
    "duration": 7314,
    "start_time": "2022-12-24T11:16:22.439Z"
   },
   {
    "duration": 1036,
    "start_time": "2022-12-24T11:16:29.755Z"
   },
   {
    "duration": 97,
    "start_time": "2022-12-24T11:16:30.794Z"
   },
   {
    "duration": 321,
    "start_time": "2022-12-24T11:16:30.893Z"
   },
   {
    "duration": 4,
    "start_time": "2022-12-24T11:16:31.216Z"
   },
   {
    "duration": 443,
    "start_time": "2022-12-24T11:16:31.221Z"
   },
   {
    "duration": 460,
    "start_time": "2022-12-24T11:16:31.665Z"
   },
   {
    "duration": 18,
    "start_time": "2022-12-24T11:16:32.127Z"
   },
   {
    "duration": 14898,
    "start_time": "2022-12-24T11:16:32.147Z"
   },
   {
    "duration": 3979,
    "start_time": "2022-12-24T11:16:47.047Z"
   },
   {
    "duration": 5413,
    "start_time": "2022-12-24T11:16:51.028Z"
   },
   {
    "duration": 3482,
    "start_time": "2022-12-24T11:16:56.443Z"
   },
   {
    "duration": 37,
    "start_time": "2022-12-24T11:16:59.926Z"
   },
   {
    "duration": 37,
    "start_time": "2022-12-24T11:16:59.965Z"
   },
   {
    "duration": 63,
    "start_time": "2022-12-24T11:17:00.004Z"
   },
   {
    "duration": 89,
    "start_time": "2022-12-24T11:17:00.077Z"
   },
   {
    "duration": 11,
    "start_time": "2022-12-24T11:17:00.168Z"
   },
   {
    "duration": 80,
    "start_time": "2022-12-24T11:17:00.181Z"
   },
   {
    "duration": 70,
    "start_time": "2022-12-24T11:17:00.262Z"
   },
   {
    "duration": 111,
    "start_time": "2022-12-24T11:17:00.333Z"
   },
   {
    "duration": 19,
    "start_time": "2022-12-24T11:17:00.447Z"
   },
   {
    "duration": 529,
    "start_time": "2022-12-24T11:17:00.479Z"
   },
   {
    "duration": 5,
    "start_time": "2022-12-24T11:17:01.010Z"
   },
   {
    "duration": 111,
    "start_time": "2022-12-24T11:17:01.017Z"
   },
   {
    "duration": 68,
    "start_time": "2022-12-24T11:17:01.130Z"
   },
   {
    "duration": 7289,
    "start_time": "2022-12-24T11:17:01.200Z"
   },
   {
    "duration": 18,
    "start_time": "2022-12-24T11:17:08.490Z"
   },
   {
    "duration": 118,
    "start_time": "2022-12-24T11:17:08.509Z"
   },
   {
    "duration": 62,
    "start_time": "2022-12-24T11:17:08.629Z"
   },
   {
    "duration": 7327,
    "start_time": "2022-12-24T11:17:08.693Z"
   },
   {
    "duration": 12,
    "start_time": "2022-12-24T11:17:16.021Z"
   },
   {
    "duration": 22,
    "start_time": "2022-12-24T11:17:16.035Z"
   },
   {
    "duration": 160,
    "start_time": "2022-12-24T11:17:16.059Z"
   },
   {
    "duration": 93,
    "start_time": "2022-12-24T11:17:16.221Z"
   },
   {
    "duration": 7,
    "start_time": "2022-12-24T11:17:16.316Z"
   },
   {
    "duration": 1464,
    "start_time": "2022-12-24T11:18:34.451Z"
   },
   {
    "duration": 777,
    "start_time": "2022-12-24T11:18:35.916Z"
   },
   {
    "duration": 19,
    "start_time": "2022-12-24T11:18:36.694Z"
   },
   {
    "duration": 4,
    "start_time": "2022-12-24T11:18:36.715Z"
   },
   {
    "duration": 16,
    "start_time": "2022-12-24T11:18:36.721Z"
   },
   {
    "duration": 135,
    "start_time": "2022-12-24T11:18:36.739Z"
   },
   {
    "duration": 605,
    "start_time": "2022-12-24T11:18:36.877Z"
   },
   {
    "duration": 540,
    "start_time": "2022-12-24T11:18:37.484Z"
   },
   {
    "duration": 0,
    "start_time": "2022-12-24T11:18:38.027Z"
   },
   {
    "duration": 0,
    "start_time": "2022-12-24T11:18:38.028Z"
   },
   {
    "duration": 0,
    "start_time": "2022-12-24T11:18:38.029Z"
   },
   {
    "duration": 0,
    "start_time": "2022-12-24T11:18:38.030Z"
   },
   {
    "duration": 1,
    "start_time": "2022-12-24T11:18:38.031Z"
   },
   {
    "duration": 0,
    "start_time": "2022-12-24T11:18:38.033Z"
   },
   {
    "duration": 0,
    "start_time": "2022-12-24T11:18:38.034Z"
   },
   {
    "duration": 0,
    "start_time": "2022-12-24T11:18:38.035Z"
   },
   {
    "duration": 0,
    "start_time": "2022-12-24T11:18:38.036Z"
   },
   {
    "duration": 0,
    "start_time": "2022-12-24T11:18:38.036Z"
   },
   {
    "duration": 0,
    "start_time": "2022-12-24T11:18:38.037Z"
   },
   {
    "duration": 0,
    "start_time": "2022-12-24T11:18:38.039Z"
   },
   {
    "duration": 0,
    "start_time": "2022-12-24T11:18:38.039Z"
   },
   {
    "duration": 0,
    "start_time": "2022-12-24T11:18:38.041Z"
   },
   {
    "duration": 0,
    "start_time": "2022-12-24T11:18:38.042Z"
   },
   {
    "duration": 0,
    "start_time": "2022-12-24T11:18:38.043Z"
   },
   {
    "duration": 0,
    "start_time": "2022-12-24T11:18:38.044Z"
   },
   {
    "duration": 0,
    "start_time": "2022-12-24T11:18:38.045Z"
   },
   {
    "duration": 0,
    "start_time": "2022-12-24T11:18:38.046Z"
   },
   {
    "duration": 0,
    "start_time": "2022-12-24T11:18:38.047Z"
   },
   {
    "duration": 0,
    "start_time": "2022-12-24T11:18:38.078Z"
   },
   {
    "duration": 0,
    "start_time": "2022-12-24T11:18:38.079Z"
   },
   {
    "duration": 0,
    "start_time": "2022-12-24T11:18:38.080Z"
   },
   {
    "duration": 0,
    "start_time": "2022-12-24T11:18:38.081Z"
   },
   {
    "duration": 0,
    "start_time": "2022-12-24T11:18:38.082Z"
   },
   {
    "duration": 0,
    "start_time": "2022-12-24T11:18:38.083Z"
   },
   {
    "duration": 0,
    "start_time": "2022-12-24T11:18:38.084Z"
   },
   {
    "duration": 0,
    "start_time": "2022-12-24T11:18:38.085Z"
   },
   {
    "duration": 0,
    "start_time": "2022-12-24T11:18:38.086Z"
   },
   {
    "duration": 0,
    "start_time": "2022-12-24T11:18:38.087Z"
   },
   {
    "duration": 0,
    "start_time": "2022-12-24T11:18:38.088Z"
   },
   {
    "duration": 0,
    "start_time": "2022-12-24T11:18:38.088Z"
   },
   {
    "duration": 0,
    "start_time": "2022-12-24T11:18:38.089Z"
   },
   {
    "duration": 0,
    "start_time": "2022-12-24T11:18:38.090Z"
   },
   {
    "duration": 1590,
    "start_time": "2022-12-24T11:18:48.080Z"
   },
   {
    "duration": 880,
    "start_time": "2022-12-24T11:18:49.672Z"
   },
   {
    "duration": 23,
    "start_time": "2022-12-24T11:18:50.554Z"
   },
   {
    "duration": 4,
    "start_time": "2022-12-24T11:18:50.580Z"
   },
   {
    "duration": 24,
    "start_time": "2022-12-24T11:18:50.587Z"
   },
   {
    "duration": 136,
    "start_time": "2022-12-24T11:18:50.613Z"
   },
   {
    "duration": 665,
    "start_time": "2022-12-24T11:18:50.752Z"
   },
   {
    "duration": 7446,
    "start_time": "2022-12-24T11:18:51.419Z"
   },
   {
    "duration": 1046,
    "start_time": "2022-12-24T11:18:58.867Z"
   },
   {
    "duration": 98,
    "start_time": "2022-12-24T11:18:59.915Z"
   },
   {
    "duration": 324,
    "start_time": "2022-12-24T11:19:00.015Z"
   },
   {
    "duration": 3,
    "start_time": "2022-12-24T11:19:00.341Z"
   },
   {
    "duration": 475,
    "start_time": "2022-12-24T11:19:00.346Z"
   },
   {
    "duration": 516,
    "start_time": "2022-12-24T11:19:00.824Z"
   },
   {
    "duration": 21,
    "start_time": "2022-12-24T11:19:01.342Z"
   },
   {
    "duration": 14604,
    "start_time": "2022-12-24T11:19:01.365Z"
   },
   {
    "duration": 3797,
    "start_time": "2022-12-24T11:19:15.970Z"
   },
   {
    "duration": 5402,
    "start_time": "2022-12-24T11:19:19.769Z"
   },
   {
    "duration": 3409,
    "start_time": "2022-12-24T11:19:25.173Z"
   },
   {
    "duration": 38,
    "start_time": "2022-12-24T11:19:28.583Z"
   },
   {
    "duration": 55,
    "start_time": "2022-12-24T11:19:28.623Z"
   },
   {
    "duration": 61,
    "start_time": "2022-12-24T11:19:28.680Z"
   },
   {
    "duration": 99,
    "start_time": "2022-12-24T11:19:28.742Z"
   },
   {
    "duration": 4,
    "start_time": "2022-12-24T11:19:28.843Z"
   },
   {
    "duration": 115,
    "start_time": "2022-12-24T11:19:28.848Z"
   },
   {
    "duration": 73,
    "start_time": "2022-12-24T11:19:28.965Z"
   },
   {
    "duration": 111,
    "start_time": "2022-12-24T11:19:29.040Z"
   },
   {
    "duration": 35,
    "start_time": "2022-12-24T11:19:29.153Z"
   },
   {
    "duration": 545,
    "start_time": "2022-12-24T11:19:29.190Z"
   },
   {
    "duration": 4,
    "start_time": "2022-12-24T11:19:29.737Z"
   },
   {
    "duration": 115,
    "start_time": "2022-12-24T11:19:29.742Z"
   },
   {
    "duration": 61,
    "start_time": "2022-12-24T11:19:29.859Z"
   },
   {
    "duration": 8212,
    "start_time": "2022-12-24T11:19:29.922Z"
   },
   {
    "duration": 43,
    "start_time": "2022-12-24T11:19:38.136Z"
   },
   {
    "duration": 111,
    "start_time": "2022-12-24T11:19:38.180Z"
   },
   {
    "duration": 0,
    "start_time": "2022-12-24T11:19:38.292Z"
   },
   {
    "duration": 0,
    "start_time": "2022-12-24T11:19:38.294Z"
   },
   {
    "duration": 1,
    "start_time": "2022-12-24T11:19:38.294Z"
   },
   {
    "duration": 0,
    "start_time": "2022-12-24T11:19:38.295Z"
   },
   {
    "duration": 0,
    "start_time": "2022-12-24T11:19:38.296Z"
   },
   {
    "duration": 0,
    "start_time": "2022-12-24T11:19:38.298Z"
   },
   {
    "duration": 0,
    "start_time": "2022-12-24T11:19:38.298Z"
   },
   {
    "duration": 109,
    "start_time": "2022-12-24T11:19:48.019Z"
   },
   {
    "duration": 4,
    "start_time": "2022-12-24T11:19:55.297Z"
   },
   {
    "duration": 62,
    "start_time": "2022-12-24T11:20:05.387Z"
   },
   {
    "duration": 3,
    "start_time": "2022-12-24T11:20:06.658Z"
   },
   {
    "duration": 6896,
    "start_time": "2022-12-24T11:20:25.945Z"
   },
   {
    "duration": 10,
    "start_time": "2022-12-24T11:20:32.843Z"
   },
   {
    "duration": 77,
    "start_time": "2022-12-24T11:20:44.731Z"
   },
   {
    "duration": 25,
    "start_time": "2022-12-24T11:20:49.271Z"
   },
   {
    "duration": 4,
    "start_time": "2022-12-24T11:20:51.704Z"
   },
   {
    "duration": 16,
    "start_time": "2022-12-24T11:21:10.478Z"
   },
   {
    "duration": 98,
    "start_time": "2022-12-24T11:21:27.599Z"
   },
   {
    "duration": 104,
    "start_time": "2022-12-24T11:21:28.292Z"
   },
   {
    "duration": 18,
    "start_time": "2022-12-24T11:21:28.852Z"
   },
   {
    "duration": 1379,
    "start_time": "2022-12-24T11:22:09.194Z"
   },
   {
    "duration": 778,
    "start_time": "2022-12-24T11:22:10.575Z"
   },
   {
    "duration": 16,
    "start_time": "2022-12-24T11:22:11.354Z"
   },
   {
    "duration": 4,
    "start_time": "2022-12-24T11:22:11.377Z"
   },
   {
    "duration": 14,
    "start_time": "2022-12-24T11:22:11.383Z"
   },
   {
    "duration": 122,
    "start_time": "2022-12-24T11:22:11.398Z"
   },
   {
    "duration": 593,
    "start_time": "2022-12-24T11:22:11.521Z"
   },
   {
    "duration": 7813,
    "start_time": "2022-12-24T11:22:12.116Z"
   },
   {
    "duration": 1062,
    "start_time": "2022-12-24T11:22:19.931Z"
   },
   {
    "duration": 106,
    "start_time": "2022-12-24T11:22:20.995Z"
   },
   {
    "duration": 316,
    "start_time": "2022-12-24T11:22:21.103Z"
   },
   {
    "duration": 4,
    "start_time": "2022-12-24T11:22:21.420Z"
   },
   {
    "duration": 499,
    "start_time": "2022-12-24T11:22:21.426Z"
   },
   {
    "duration": 495,
    "start_time": "2022-12-24T11:22:21.927Z"
   },
   {
    "duration": 25,
    "start_time": "2022-12-24T11:22:22.424Z"
   },
   {
    "duration": 15445,
    "start_time": "2022-12-24T11:22:22.451Z"
   },
   {
    "duration": 3777,
    "start_time": "2022-12-24T11:22:37.897Z"
   },
   {
    "duration": 5496,
    "start_time": "2022-12-24T11:22:41.675Z"
   },
   {
    "duration": 3906,
    "start_time": "2022-12-24T11:22:47.172Z"
   },
   {
    "duration": 43,
    "start_time": "2022-12-24T11:22:51.080Z"
   },
   {
    "duration": 32,
    "start_time": "2022-12-24T11:22:51.125Z"
   },
   {
    "duration": 93,
    "start_time": "2022-12-24T11:22:51.159Z"
   },
   {
    "duration": 114,
    "start_time": "2022-12-24T11:22:51.254Z"
   },
   {
    "duration": 9,
    "start_time": "2022-12-24T11:22:51.370Z"
   },
   {
    "duration": 82,
    "start_time": "2022-12-24T11:22:51.381Z"
   },
   {
    "duration": 83,
    "start_time": "2022-12-24T11:22:51.465Z"
   },
   {
    "duration": 118,
    "start_time": "2022-12-24T11:22:51.550Z"
   },
   {
    "duration": 21,
    "start_time": "2022-12-24T11:22:51.679Z"
   },
   {
    "duration": 557,
    "start_time": "2022-12-24T11:22:51.702Z"
   },
   {
    "duration": 4,
    "start_time": "2022-12-24T11:22:52.261Z"
   },
   {
    "duration": 107,
    "start_time": "2022-12-24T11:22:52.266Z"
   },
   {
    "duration": 61,
    "start_time": "2022-12-24T11:22:52.375Z"
   },
   {
    "duration": 7422,
    "start_time": "2022-12-24T11:22:52.437Z"
   },
   {
    "duration": 107,
    "start_time": "2022-12-24T11:22:59.861Z"
   },
   {
    "duration": 109,
    "start_time": "2022-12-24T11:22:59.969Z"
   },
   {
    "duration": 7191,
    "start_time": "2022-12-24T11:23:00.080Z"
   },
   {
    "duration": 13,
    "start_time": "2022-12-24T11:23:07.272Z"
   },
   {
    "duration": 36,
    "start_time": "2022-12-24T11:23:07.287Z"
   },
   {
    "duration": 21,
    "start_time": "2022-12-24T11:23:07.325Z"
   },
   {
    "duration": 137,
    "start_time": "2022-12-24T11:23:07.348Z"
   },
   {
    "duration": 70,
    "start_time": "2022-12-24T11:23:07.487Z"
   },
   {
    "duration": 0,
    "start_time": "2022-12-24T11:23:07.560Z"
   },
   {
    "duration": 47,
    "start_time": "2022-12-24T11:24:03.089Z"
   },
   {
    "duration": 17,
    "start_time": "2022-12-24T11:24:03.727Z"
   },
   {
    "duration": 17,
    "start_time": "2022-12-24T11:24:12.669Z"
   },
   {
    "duration": 68,
    "start_time": "2022-12-24T11:24:25.396Z"
   },
   {
    "duration": 17,
    "start_time": "2022-12-24T11:24:27.282Z"
   },
   {
    "duration": 107,
    "start_time": "2022-12-24T11:24:42.344Z"
   },
   {
    "duration": 19,
    "start_time": "2022-12-24T11:24:46.585Z"
   },
   {
    "duration": 466,
    "start_time": "2022-12-24T11:25:12.476Z"
   },
   {
    "duration": 225,
    "start_time": "2022-12-24T11:25:52.830Z"
   },
   {
    "duration": 13,
    "start_time": "2022-12-24T11:26:03.852Z"
   },
   {
    "duration": 1541,
    "start_time": "2022-12-24T11:27:25.013Z"
   },
   {
    "duration": 786,
    "start_time": "2022-12-24T11:27:26.556Z"
   },
   {
    "duration": 16,
    "start_time": "2022-12-24T11:27:27.343Z"
   },
   {
    "duration": 4,
    "start_time": "2022-12-24T11:27:27.360Z"
   },
   {
    "duration": 13,
    "start_time": "2022-12-24T11:27:27.377Z"
   },
   {
    "duration": 119,
    "start_time": "2022-12-24T11:27:27.391Z"
   },
   {
    "duration": 589,
    "start_time": "2022-12-24T11:27:27.512Z"
   },
   {
    "duration": 7523,
    "start_time": "2022-12-24T11:27:28.102Z"
   },
   {
    "duration": 1067,
    "start_time": "2022-12-24T11:27:35.627Z"
   },
   {
    "duration": 110,
    "start_time": "2022-12-24T11:27:36.696Z"
   },
   {
    "duration": 320,
    "start_time": "2022-12-24T11:27:36.808Z"
   },
   {
    "duration": 3,
    "start_time": "2022-12-24T11:27:37.130Z"
   },
   {
    "duration": 462,
    "start_time": "2022-12-24T11:27:37.135Z"
   },
   {
    "duration": 461,
    "start_time": "2022-12-24T11:27:37.599Z"
   },
   {
    "duration": 22,
    "start_time": "2022-12-24T11:27:38.062Z"
   },
   {
    "duration": 15475,
    "start_time": "2022-12-24T11:27:38.085Z"
   },
   {
    "duration": 3580,
    "start_time": "2022-12-24T11:27:53.562Z"
   },
   {
    "duration": 5542,
    "start_time": "2022-12-24T11:27:57.143Z"
   },
   {
    "duration": 3649,
    "start_time": "2022-12-24T11:28:02.686Z"
   },
   {
    "duration": 42,
    "start_time": "2022-12-24T11:28:06.337Z"
   },
   {
    "duration": 27,
    "start_time": "2022-12-24T11:28:06.381Z"
   },
   {
    "duration": 75,
    "start_time": "2022-12-24T11:28:06.410Z"
   },
   {
    "duration": 109,
    "start_time": "2022-12-24T11:28:06.487Z"
   },
   {
    "duration": 3,
    "start_time": "2022-12-24T11:28:06.598Z"
   },
   {
    "duration": 71,
    "start_time": "2022-12-24T11:28:06.603Z"
   },
   {
    "duration": 64,
    "start_time": "2022-12-24T11:28:06.678Z"
   },
   {
    "duration": 114,
    "start_time": "2022-12-24T11:28:06.744Z"
   },
   {
    "duration": 29,
    "start_time": "2022-12-24T11:28:06.862Z"
   },
   {
    "duration": 506,
    "start_time": "2022-12-24T11:28:06.893Z"
   },
   {
    "duration": 4,
    "start_time": "2022-12-24T11:28:07.400Z"
   },
   {
    "duration": 106,
    "start_time": "2022-12-24T11:28:07.406Z"
   },
   {
    "duration": 65,
    "start_time": "2022-12-24T11:28:07.513Z"
   },
   {
    "duration": 7180,
    "start_time": "2022-12-24T11:28:07.579Z"
   },
   {
    "duration": 104,
    "start_time": "2022-12-24T11:28:14.761Z"
   },
   {
    "duration": 64,
    "start_time": "2022-12-24T11:28:14.866Z"
   },
   {
    "duration": 7246,
    "start_time": "2022-12-24T11:28:14.932Z"
   },
   {
    "duration": 11,
    "start_time": "2022-12-24T11:28:22.179Z"
   },
   {
    "duration": 38,
    "start_time": "2022-12-24T11:28:22.191Z"
   },
   {
    "duration": 19,
    "start_time": "2022-12-24T11:28:22.230Z"
   },
   {
    "duration": 7,
    "start_time": "2022-12-24T11:28:22.277Z"
   },
   {
    "duration": 32,
    "start_time": "2022-12-24T11:28:22.286Z"
   },
   {
    "duration": 3,
    "start_time": "2022-12-24T11:28:22.320Z"
   },
   {
    "duration": 547,
    "start_time": "2022-12-24T11:28:22.324Z"
   },
   {
    "duration": 1032,
    "start_time": "2022-12-24T19:07:41.031Z"
   },
   {
    "duration": 12,
    "start_time": "2022-12-24T19:08:21.194Z"
   },
   {
    "duration": 18,
    "start_time": "2022-12-24T19:13:15.166Z"
   },
   {
    "duration": 25,
    "start_time": "2022-12-24T19:13:23.797Z"
   },
   {
    "duration": 11,
    "start_time": "2022-12-24T19:13:30.326Z"
   },
   {
    "duration": 55,
    "start_time": "2022-12-24T19:13:33.302Z"
   },
   {
    "duration": 25,
    "start_time": "2022-12-24T19:13:47.019Z"
   },
   {
    "duration": 64,
    "start_time": "2022-12-24T19:13:57.780Z"
   },
   {
    "duration": 21,
    "start_time": "2022-12-24T19:13:59.385Z"
   },
   {
    "duration": 52,
    "start_time": "2022-12-24T19:14:08.240Z"
   },
   {
    "duration": 4,
    "start_time": "2022-12-24T19:17:10.032Z"
   },
   {
    "duration": 48,
    "start_time": "2022-12-24T19:17:11.463Z"
   },
   {
    "duration": 17,
    "start_time": "2022-12-24T19:17:50.808Z"
   },
   {
    "duration": 990,
    "start_time": "2022-12-24T19:21:11.410Z"
   },
   {
    "duration": 4,
    "start_time": "2022-12-24T19:21:21.720Z"
   },
   {
    "duration": 11,
    "start_time": "2022-12-24T19:21:25.015Z"
   },
   {
    "duration": 1013,
    "start_time": "2022-12-24T19:21:28.466Z"
   },
   {
    "duration": 5,
    "start_time": "2022-12-24T19:23:04.576Z"
   },
   {
    "duration": 15,
    "start_time": "2022-12-24T19:23:06.493Z"
   },
   {
    "duration": 1069,
    "start_time": "2022-12-24T19:23:09.029Z"
   },
   {
    "duration": 19,
    "start_time": "2022-12-24T19:27:01.421Z"
   },
   {
    "duration": 210,
    "start_time": "2022-12-24T19:32:40.988Z"
   },
   {
    "duration": 111,
    "start_time": "2022-12-24T19:33:23.225Z"
   },
   {
    "duration": 3,
    "start_time": "2022-12-24T19:33:32.237Z"
   },
   {
    "duration": 4,
    "start_time": "2022-12-24T19:33:37.124Z"
   },
   {
    "duration": 4,
    "start_time": "2022-12-24T19:33:46.291Z"
   },
   {
    "duration": 5,
    "start_time": "2022-12-24T19:33:52.920Z"
   },
   {
    "duration": 5,
    "start_time": "2022-12-24T19:34:00.477Z"
   },
   {
    "duration": 5,
    "start_time": "2022-12-24T19:34:19.851Z"
   },
   {
    "duration": 4,
    "start_time": "2022-12-24T19:34:26.874Z"
   },
   {
    "duration": 329,
    "start_time": "2022-12-24T19:37:22.047Z"
   },
   {
    "duration": 378,
    "start_time": "2022-12-24T19:37:29.969Z"
   },
   {
    "duration": 1601,
    "start_time": "2022-12-25T09:12:03.599Z"
   },
   {
    "duration": 1029,
    "start_time": "2022-12-25T09:12:05.202Z"
   },
   {
    "duration": 18,
    "start_time": "2022-12-25T09:12:06.233Z"
   },
   {
    "duration": 4,
    "start_time": "2022-12-25T09:12:06.253Z"
   },
   {
    "duration": 15,
    "start_time": "2022-12-25T09:12:06.259Z"
   },
   {
    "duration": 121,
    "start_time": "2022-12-25T09:12:06.276Z"
   },
   {
    "duration": 659,
    "start_time": "2022-12-25T09:12:06.399Z"
   },
   {
    "duration": 7656,
    "start_time": "2022-12-25T09:12:07.060Z"
   },
   {
    "duration": 1098,
    "start_time": "2022-12-25T09:12:14.718Z"
   },
   {
    "duration": 118,
    "start_time": "2022-12-25T09:12:15.819Z"
   },
   {
    "duration": 390,
    "start_time": "2022-12-25T09:12:15.939Z"
   },
   {
    "duration": 4,
    "start_time": "2022-12-25T09:12:16.330Z"
   },
   {
    "duration": 425,
    "start_time": "2022-12-25T09:12:16.336Z"
   },
   {
    "duration": 443,
    "start_time": "2022-12-25T09:12:16.763Z"
   },
   {
    "duration": 149,
    "start_time": "2022-12-25T09:12:17.208Z"
   },
   {
    "duration": 15464,
    "start_time": "2022-12-25T09:12:17.358Z"
   },
   {
    "duration": 3733,
    "start_time": "2022-12-25T09:12:32.824Z"
   },
   {
    "duration": 6686,
    "start_time": "2022-12-25T09:12:36.559Z"
   },
   {
    "duration": 4261,
    "start_time": "2022-12-25T09:12:43.247Z"
   },
   {
    "duration": 43,
    "start_time": "2022-12-25T09:12:47.510Z"
   },
   {
    "duration": 43,
    "start_time": "2022-12-25T09:12:47.555Z"
   },
   {
    "duration": 63,
    "start_time": "2022-12-25T09:12:47.600Z"
   },
   {
    "duration": 88,
    "start_time": "2022-12-25T09:12:47.664Z"
   },
   {
    "duration": 3,
    "start_time": "2022-12-25T09:12:47.754Z"
   },
   {
    "duration": 78,
    "start_time": "2022-12-25T09:12:47.759Z"
   },
   {
    "duration": 40,
    "start_time": "2022-12-25T09:12:47.839Z"
   },
   {
    "duration": 120,
    "start_time": "2022-12-25T09:12:47.880Z"
   },
   {
    "duration": 16,
    "start_time": "2022-12-25T09:12:48.003Z"
   },
   {
    "duration": 1111,
    "start_time": "2022-12-25T09:12:48.021Z"
   },
   {
    "duration": 6,
    "start_time": "2022-12-25T09:12:49.134Z"
   },
   {
    "duration": 303,
    "start_time": "2022-12-25T09:12:49.142Z"
   },
   {
    "duration": 0,
    "start_time": "2022-12-25T09:12:49.497Z"
   },
   {
    "duration": 0,
    "start_time": "2022-12-25T09:12:49.498Z"
   },
   {
    "duration": 0,
    "start_time": "2022-12-25T09:12:49.499Z"
   },
   {
    "duration": 0,
    "start_time": "2022-12-25T09:12:49.500Z"
   },
   {
    "duration": 0,
    "start_time": "2022-12-25T09:12:49.501Z"
   },
   {
    "duration": 0,
    "start_time": "2022-12-25T09:12:49.502Z"
   },
   {
    "duration": 0,
    "start_time": "2022-12-25T09:12:49.502Z"
   },
   {
    "duration": 0,
    "start_time": "2022-12-25T09:12:49.503Z"
   },
   {
    "duration": 0,
    "start_time": "2022-12-25T09:12:49.505Z"
   },
   {
    "duration": 0,
    "start_time": "2022-12-25T09:12:49.505Z"
   },
   {
    "duration": 0,
    "start_time": "2022-12-25T09:12:49.507Z"
   },
   {
    "duration": 0,
    "start_time": "2022-12-25T09:12:49.508Z"
   },
   {
    "duration": 0,
    "start_time": "2022-12-25T09:12:49.509Z"
   },
   {
    "duration": 1,
    "start_time": "2022-12-25T09:12:49.509Z"
   },
   {
    "duration": 0,
    "start_time": "2022-12-25T09:12:49.511Z"
   },
   {
    "duration": 6,
    "start_time": "2022-12-25T09:14:14.859Z"
   },
   {
    "duration": 217,
    "start_time": "2022-12-25T09:14:15.904Z"
   },
   {
    "duration": 117,
    "start_time": "2022-12-25T09:14:16.887Z"
   },
   {
    "duration": 16229,
    "start_time": "2022-12-25T09:14:17.366Z"
   },
   {
    "duration": 205,
    "start_time": "2022-12-25T09:14:33.598Z"
   },
   {
    "duration": 131,
    "start_time": "2022-12-25T09:14:33.805Z"
   },
   {
    "duration": 15598,
    "start_time": "2022-12-25T09:14:33.938Z"
   },
   {
    "duration": 60,
    "start_time": "2022-12-25T09:14:49.538Z"
   },
   {
    "duration": 31,
    "start_time": "2022-12-25T09:14:49.600Z"
   },
   {
    "duration": 63,
    "start_time": "2022-12-25T09:14:49.633Z"
   },
   {
    "duration": 32,
    "start_time": "2022-12-25T09:14:49.698Z"
   },
   {
    "duration": 3,
    "start_time": "2022-12-25T09:14:49.731Z"
   },
   {
    "duration": 939,
    "start_time": "2022-12-25T09:14:49.795Z"
   },
   {
    "duration": 1770,
    "start_time": "2022-12-25T09:14:50.735Z"
   },
   {
    "duration": 403,
    "start_time": "2022-12-25T09:14:52.507Z"
   },
   {
    "duration": 382,
    "start_time": "2022-12-25T09:30:35.273Z"
   },
   {
    "duration": 5,
    "start_time": "2022-12-25T09:47:37.811Z"
   },
   {
    "duration": 19,
    "start_time": "2022-12-25T09:47:57.202Z"
   },
   {
    "duration": 3,
    "start_time": "2022-12-25T09:48:40.503Z"
   },
   {
    "duration": 50,
    "start_time": "2022-12-25T09:49:33.716Z"
   },
   {
    "duration": 29,
    "start_time": "2022-12-25T09:55:21.774Z"
   },
   {
    "duration": 48,
    "start_time": "2022-12-25T09:55:27.020Z"
   },
   {
    "duration": 689,
    "start_time": "2022-12-25T09:55:30.765Z"
   },
   {
    "duration": 1418,
    "start_time": "2022-12-25T09:56:18.860Z"
   },
   {
    "duration": 779,
    "start_time": "2022-12-25T09:56:20.280Z"
   },
   {
    "duration": 19,
    "start_time": "2022-12-25T09:56:21.064Z"
   },
   {
    "duration": 5,
    "start_time": "2022-12-25T09:56:21.096Z"
   },
   {
    "duration": 22,
    "start_time": "2022-12-25T09:56:21.102Z"
   },
   {
    "duration": 131,
    "start_time": "2022-12-25T09:56:21.126Z"
   },
   {
    "duration": 682,
    "start_time": "2022-12-25T09:56:21.259Z"
   },
   {
    "duration": 7993,
    "start_time": "2022-12-25T09:56:21.943Z"
   },
   {
    "duration": 1132,
    "start_time": "2022-12-25T09:56:29.939Z"
   },
   {
    "duration": 111,
    "start_time": "2022-12-25T09:56:31.073Z"
   },
   {
    "duration": 348,
    "start_time": "2022-12-25T09:56:31.186Z"
   },
   {
    "duration": 4,
    "start_time": "2022-12-25T09:56:31.536Z"
   },
   {
    "duration": 462,
    "start_time": "2022-12-25T09:56:31.542Z"
   },
   {
    "duration": 465,
    "start_time": "2022-12-25T09:56:32.006Z"
   },
   {
    "duration": 27,
    "start_time": "2022-12-25T09:56:32.473Z"
   },
   {
    "duration": 16556,
    "start_time": "2022-12-25T09:56:32.502Z"
   },
   {
    "duration": 3864,
    "start_time": "2022-12-25T09:56:49.060Z"
   },
   {
    "duration": 5859,
    "start_time": "2022-12-25T09:56:52.925Z"
   },
   {
    "duration": 3810,
    "start_time": "2022-12-25T09:56:58.787Z"
   },
   {
    "duration": 36,
    "start_time": "2022-12-25T09:57:02.599Z"
   },
   {
    "duration": 29,
    "start_time": "2022-12-25T09:57:02.637Z"
   },
   {
    "duration": 85,
    "start_time": "2022-12-25T09:57:02.668Z"
   },
   {
    "duration": 107,
    "start_time": "2022-12-25T09:57:02.755Z"
   },
   {
    "duration": 3,
    "start_time": "2022-12-25T09:57:02.864Z"
   },
   {
    "duration": 89,
    "start_time": "2022-12-25T09:57:02.869Z"
   },
   {
    "duration": 74,
    "start_time": "2022-12-25T09:57:02.960Z"
   },
   {
    "duration": 109,
    "start_time": "2022-12-25T09:57:03.040Z"
   },
   {
    "duration": 20,
    "start_time": "2022-12-25T09:57:03.151Z"
   },
   {
    "duration": 581,
    "start_time": "2022-12-25T09:57:03.173Z"
   },
   {
    "duration": 6,
    "start_time": "2022-12-25T09:57:03.755Z"
   },
   {
    "duration": 112,
    "start_time": "2022-12-25T09:57:03.763Z"
   },
   {
    "duration": 76,
    "start_time": "2022-12-25T09:57:03.877Z"
   },
   {
    "duration": 7891,
    "start_time": "2022-12-25T09:57:03.955Z"
   },
   {
    "duration": 106,
    "start_time": "2022-12-25T09:57:11.848Z"
   },
   {
    "duration": 69,
    "start_time": "2022-12-25T09:57:11.956Z"
   },
   {
    "duration": 7376,
    "start_time": "2022-12-25T09:57:12.027Z"
   },
   {
    "duration": 10,
    "start_time": "2022-12-25T09:57:19.405Z"
   },
   {
    "duration": 38,
    "start_time": "2022-12-25T09:57:19.417Z"
   },
   {
    "duration": 7,
    "start_time": "2022-12-25T09:57:19.457Z"
   },
   {
    "duration": 62,
    "start_time": "2022-12-25T09:57:19.466Z"
   },
   {
    "duration": 4,
    "start_time": "2022-12-25T09:57:19.530Z"
   },
   {
    "duration": 535,
    "start_time": "2022-12-25T09:57:19.536Z"
   },
   {
    "duration": 833,
    "start_time": "2022-12-25T09:57:20.073Z"
   },
   {
    "duration": 207,
    "start_time": "2022-12-25T09:57:20.908Z"
   },
   {
    "duration": 386,
    "start_time": "2022-12-25T09:57:21.117Z"
   },
   {
    "duration": 4,
    "start_time": "2022-12-25T09:57:21.504Z"
   },
   {
    "duration": 927,
    "start_time": "2022-12-25T09:57:21.510Z"
   },
   {
    "duration": 18,
    "start_time": "2022-12-25T09:59:29.554Z"
   },
   {
    "duration": 68,
    "start_time": "2022-12-25T10:04:48.297Z"
   },
   {
    "duration": 4,
    "start_time": "2022-12-25T10:05:20.710Z"
   },
   {
    "duration": 3,
    "start_time": "2022-12-25T10:06:02.920Z"
   },
   {
    "duration": 55,
    "start_time": "2022-12-25T10:06:10.948Z"
   },
   {
    "duration": 5,
    "start_time": "2022-12-25T10:06:12.234Z"
   },
   {
    "duration": 62,
    "start_time": "2022-12-25T10:06:13.346Z"
   },
   {
    "duration": 4,
    "start_time": "2022-12-25T10:06:14.450Z"
   },
   {
    "duration": 12,
    "start_time": "2022-12-25T10:09:19.256Z"
   },
   {
    "duration": 45,
    "start_time": "2022-12-25T18:56:29.716Z"
   },
   {
    "duration": 1569,
    "start_time": "2022-12-25T18:56:40.243Z"
   },
   {
    "duration": 2648,
    "start_time": "2022-12-25T18:56:41.814Z"
   },
   {
    "duration": 16,
    "start_time": "2022-12-25T18:56:44.464Z"
   },
   {
    "duration": 4,
    "start_time": "2022-12-25T18:56:44.482Z"
   },
   {
    "duration": 18,
    "start_time": "2022-12-25T18:56:44.488Z"
   },
   {
    "duration": 115,
    "start_time": "2022-12-25T18:56:44.507Z"
   },
   {
    "duration": 663,
    "start_time": "2022-12-25T18:56:44.623Z"
   },
   {
    "duration": 7893,
    "start_time": "2022-12-25T18:56:45.288Z"
   },
   {
    "duration": 1260,
    "start_time": "2022-12-25T18:56:53.183Z"
   },
   {
    "duration": 105,
    "start_time": "2022-12-25T18:56:54.447Z"
   },
   {
    "duration": 347,
    "start_time": "2022-12-25T18:56:54.554Z"
   },
   {
    "duration": 4,
    "start_time": "2022-12-25T18:56:54.903Z"
   },
   {
    "duration": 426,
    "start_time": "2022-12-25T18:56:54.922Z"
   },
   {
    "duration": 465,
    "start_time": "2022-12-25T18:56:55.349Z"
   },
   {
    "duration": 23,
    "start_time": "2022-12-25T18:56:55.816Z"
   },
   {
    "duration": 16550,
    "start_time": "2022-12-25T18:56:55.840Z"
   },
   {
    "duration": 3831,
    "start_time": "2022-12-25T18:57:12.392Z"
   },
   {
    "duration": 5710,
    "start_time": "2022-12-25T18:57:16.225Z"
   },
   {
    "duration": 3720,
    "start_time": "2022-12-25T18:57:21.937Z"
   },
   {
    "duration": 39,
    "start_time": "2022-12-25T18:57:25.659Z"
   },
   {
    "duration": 41,
    "start_time": "2022-12-25T18:57:25.700Z"
   },
   {
    "duration": 84,
    "start_time": "2022-12-25T18:57:25.743Z"
   },
   {
    "duration": 131,
    "start_time": "2022-12-25T18:57:25.829Z"
   },
   {
    "duration": 3,
    "start_time": "2022-12-25T18:57:25.962Z"
   },
   {
    "duration": 77,
    "start_time": "2022-12-25T18:57:25.967Z"
   },
   {
    "duration": 77,
    "start_time": "2022-12-25T18:57:26.045Z"
   },
   {
    "duration": 117,
    "start_time": "2022-12-25T18:57:26.123Z"
   },
   {
    "duration": 25,
    "start_time": "2022-12-25T18:57:26.247Z"
   },
   {
    "duration": 541,
    "start_time": "2022-12-25T18:57:26.275Z"
   },
   {
    "duration": 5,
    "start_time": "2022-12-25T18:57:26.821Z"
   },
   {
    "duration": 106,
    "start_time": "2022-12-25T18:57:26.827Z"
   },
   {
    "duration": 60,
    "start_time": "2022-12-25T18:57:26.935Z"
   },
   {
    "duration": 7576,
    "start_time": "2022-12-25T18:57:26.996Z"
   },
   {
    "duration": 98,
    "start_time": "2022-12-25T18:57:34.573Z"
   },
   {
    "duration": 72,
    "start_time": "2022-12-25T18:57:34.672Z"
   },
   {
    "duration": 6953,
    "start_time": "2022-12-25T18:57:34.746Z"
   },
   {
    "duration": 10,
    "start_time": "2022-12-25T18:57:41.701Z"
   },
   {
    "duration": 36,
    "start_time": "2022-12-25T18:57:41.721Z"
   },
   {
    "duration": 7,
    "start_time": "2022-12-25T18:57:41.758Z"
   },
   {
    "duration": 38,
    "start_time": "2022-12-25T18:57:41.767Z"
   },
   {
    "duration": 16,
    "start_time": "2022-12-25T18:57:41.807Z"
   },
   {
    "duration": 477,
    "start_time": "2022-12-25T18:57:41.825Z"
   },
   {
    "duration": 765,
    "start_time": "2022-12-25T18:57:42.304Z"
   },
   {
    "duration": 205,
    "start_time": "2022-12-25T18:57:43.071Z"
   },
   {
    "duration": 376,
    "start_time": "2022-12-25T18:57:43.278Z"
   },
   {
    "duration": 2,
    "start_time": "2022-12-25T18:57:43.656Z"
   },
   {
    "duration": 489,
    "start_time": "2022-12-25T18:57:43.659Z"
   },
   {
    "duration": 93,
    "start_time": "2022-12-25T18:57:44.150Z"
   },
   {
    "duration": 27,
    "start_time": "2022-12-25T18:57:44.246Z"
   },
   {
    "duration": 131,
    "start_time": "2022-12-25T18:57:44.275Z"
   },
   {
    "duration": 0,
    "start_time": "2022-12-25T18:57:44.407Z"
   },
   {
    "duration": 0,
    "start_time": "2022-12-25T18:57:44.409Z"
   },
   {
    "duration": 0,
    "start_time": "2022-12-25T18:57:44.410Z"
   },
   {
    "duration": 354,
    "start_time": "2022-12-25T19:01:14.436Z"
   },
   {
    "duration": 91,
    "start_time": "2022-12-25T19:02:32.132Z"
   },
   {
    "duration": 35,
    "start_time": "2022-12-25T19:02:33.388Z"
   },
   {
    "duration": 45,
    "start_time": "2022-12-25T19:07:06.337Z"
   },
   {
    "duration": 5,
    "start_time": "2022-12-25T19:07:09.016Z"
   },
   {
    "duration": 763,
    "start_time": "2022-12-25T19:07:46.630Z"
   },
   {
    "duration": 201,
    "start_time": "2022-12-25T19:07:47.395Z"
   },
   {
    "duration": 355,
    "start_time": "2022-12-25T19:07:47.598Z"
   },
   {
    "duration": 3,
    "start_time": "2022-12-25T19:07:49.338Z"
   },
   {
    "duration": 352,
    "start_time": "2022-12-25T19:07:49.605Z"
   },
   {
    "duration": 59,
    "start_time": "2022-12-25T19:07:50.244Z"
   },
   {
    "duration": 247,
    "start_time": "2022-12-25T19:07:53.086Z"
   },
   {
    "duration": 21,
    "start_time": "2022-12-25T19:07:54.907Z"
   },
   {
    "duration": 17,
    "start_time": "2022-12-25T19:07:59.990Z"
   },
   {
    "duration": 427,
    "start_time": "2022-12-25T19:11:45.913Z"
   },
   {
    "duration": 91,
    "start_time": "2022-12-25T19:12:14.977Z"
   },
   {
    "duration": 74,
    "start_time": "2022-12-25T19:12:28.559Z"
   },
   {
    "duration": 155,
    "start_time": "2022-12-25T19:12:32.720Z"
   },
   {
    "duration": 89,
    "start_time": "2022-12-25T19:12:44.871Z"
   },
   {
    "duration": 53,
    "start_time": "2022-12-25T19:13:01.017Z"
   },
   {
    "duration": 18,
    "start_time": "2022-12-25T19:15:18.221Z"
   },
   {
    "duration": 51,
    "start_time": "2022-12-25T19:15:22.425Z"
   },
   {
    "duration": 63,
    "start_time": "2022-12-25T19:15:26.427Z"
   },
   {
    "duration": 70,
    "start_time": "2022-12-25T19:16:23.608Z"
   },
   {
    "duration": 3,
    "start_time": "2022-12-25T19:16:24.764Z"
   },
   {
    "duration": 492,
    "start_time": "2022-12-25T19:16:26.485Z"
   },
   {
    "duration": 870,
    "start_time": "2022-12-25T19:16:29.482Z"
   },
   {
    "duration": 211,
    "start_time": "2022-12-25T19:16:30.355Z"
   },
   {
    "duration": 342,
    "start_time": "2022-12-25T19:16:30.567Z"
   },
   {
    "duration": 1488,
    "start_time": "2022-12-25T19:16:44.041Z"
   },
   {
    "duration": 814,
    "start_time": "2022-12-25T19:16:45.533Z"
   },
   {
    "duration": 18,
    "start_time": "2022-12-25T19:16:46.349Z"
   },
   {
    "duration": 4,
    "start_time": "2022-12-25T19:16:46.369Z"
   },
   {
    "duration": 16,
    "start_time": "2022-12-25T19:16:46.375Z"
   },
   {
    "duration": 158,
    "start_time": "2022-12-25T19:16:46.393Z"
   },
   {
    "duration": 650,
    "start_time": "2022-12-25T19:16:46.553Z"
   },
   {
    "duration": 8037,
    "start_time": "2022-12-25T19:16:47.205Z"
   },
   {
    "duration": 1193,
    "start_time": "2022-12-25T19:16:55.244Z"
   },
   {
    "duration": 111,
    "start_time": "2022-12-25T19:16:56.440Z"
   },
   {
    "duration": 354,
    "start_time": "2022-12-25T19:16:56.553Z"
   },
   {
    "duration": 17,
    "start_time": "2022-12-25T19:16:56.909Z"
   },
   {
    "duration": 479,
    "start_time": "2022-12-25T19:16:56.929Z"
   },
   {
    "duration": 509,
    "start_time": "2022-12-25T19:16:57.410Z"
   },
   {
    "duration": 26,
    "start_time": "2022-12-25T19:16:57.921Z"
   },
   {
    "duration": 16275,
    "start_time": "2022-12-25T19:16:57.949Z"
   },
   {
    "duration": 3705,
    "start_time": "2022-12-25T19:17:14.226Z"
   },
   {
    "duration": 5716,
    "start_time": "2022-12-25T19:17:17.933Z"
   },
   {
    "duration": 3711,
    "start_time": "2022-12-25T19:17:23.650Z"
   },
   {
    "duration": 38,
    "start_time": "2022-12-25T19:17:27.362Z"
   },
   {
    "duration": 45,
    "start_time": "2022-12-25T19:17:27.401Z"
   },
   {
    "duration": 62,
    "start_time": "2022-12-25T19:17:27.447Z"
   },
   {
    "duration": 98,
    "start_time": "2022-12-25T19:17:27.510Z"
   },
   {
    "duration": 12,
    "start_time": "2022-12-25T19:17:27.610Z"
   },
   {
    "duration": 73,
    "start_time": "2022-12-25T19:17:27.624Z"
   },
   {
    "duration": 78,
    "start_time": "2022-12-25T19:17:27.698Z"
   },
   {
    "duration": 111,
    "start_time": "2022-12-25T19:17:27.777Z"
   },
   {
    "duration": 31,
    "start_time": "2022-12-25T19:17:27.891Z"
   },
   {
    "duration": 524,
    "start_time": "2022-12-25T19:17:27.924Z"
   },
   {
    "duration": 5,
    "start_time": "2022-12-25T19:17:28.449Z"
   },
   {
    "duration": 106,
    "start_time": "2022-12-25T19:17:28.456Z"
   },
   {
    "duration": 79,
    "start_time": "2022-12-25T19:17:28.564Z"
   },
   {
    "duration": 7527,
    "start_time": "2022-12-25T19:17:28.645Z"
   },
   {
    "duration": 106,
    "start_time": "2022-12-25T19:17:36.173Z"
   },
   {
    "duration": 78,
    "start_time": "2022-12-25T19:17:36.281Z"
   },
   {
    "duration": 7148,
    "start_time": "2022-12-25T19:17:36.361Z"
   },
   {
    "duration": 19,
    "start_time": "2022-12-25T19:17:43.510Z"
   },
   {
    "duration": 40,
    "start_time": "2022-12-25T19:17:43.531Z"
   },
   {
    "duration": 6,
    "start_time": "2022-12-25T19:17:43.573Z"
   },
   {
    "duration": 45,
    "start_time": "2022-12-25T19:17:43.581Z"
   },
   {
    "duration": 71,
    "start_time": "2022-12-25T19:17:43.628Z"
   },
   {
    "duration": 3,
    "start_time": "2022-12-25T19:17:43.701Z"
   },
   {
    "duration": 547,
    "start_time": "2022-12-25T19:17:43.706Z"
   },
   {
    "duration": 758,
    "start_time": "2022-12-25T19:17:44.255Z"
   },
   {
    "duration": 205,
    "start_time": "2022-12-25T19:17:45.015Z"
   },
   {
    "duration": 419,
    "start_time": "2022-12-25T19:17:45.222Z"
   },
   {
    "duration": 0,
    "start_time": "2022-12-25T19:17:45.642Z"
   },
   {
    "duration": 0,
    "start_time": "2022-12-25T19:17:45.644Z"
   },
   {
    "duration": 0,
    "start_time": "2022-12-25T19:17:45.645Z"
   },
   {
    "duration": 0,
    "start_time": "2022-12-25T19:17:45.646Z"
   },
   {
    "duration": 0,
    "start_time": "2022-12-25T19:17:45.647Z"
   },
   {
    "duration": 0,
    "start_time": "2022-12-25T19:17:45.648Z"
   },
   {
    "duration": 365,
    "start_time": "2022-12-25T19:18:12.090Z"
   },
   {
    "duration": 3,
    "start_time": "2022-12-25T19:18:13.613Z"
   },
   {
    "duration": 487,
    "start_time": "2022-12-25T19:18:13.971Z"
   },
   {
    "duration": 14,
    "start_time": "2022-12-25T19:18:14.460Z"
   },
   {
    "duration": 9,
    "start_time": "2022-12-25T19:19:11.757Z"
   },
   {
    "duration": 50,
    "start_time": "2022-12-25T19:19:17.779Z"
   },
   {
    "duration": 20,
    "start_time": "2022-12-25T19:19:22.077Z"
   },
   {
    "duration": 52,
    "start_time": "2022-12-25T19:19:44.868Z"
   },
   {
    "duration": 220,
    "start_time": "2022-12-25T19:20:09.664Z"
   },
   {
    "duration": 52,
    "start_time": "2022-12-25T19:20:15.976Z"
   },
   {
    "duration": 30275,
    "start_time": "2022-12-25T19:20:18.752Z"
   },
   {
    "duration": 29640,
    "start_time": "2022-12-25T19:27:27.088Z"
   },
   {
    "duration": 1421,
    "start_time": "2022-12-25T19:39:29.999Z"
   },
   {
    "duration": 787,
    "start_time": "2022-12-25T19:39:31.423Z"
   },
   {
    "duration": 32,
    "start_time": "2022-12-25T19:39:32.211Z"
   },
   {
    "duration": 4,
    "start_time": "2022-12-25T19:39:32.244Z"
   },
   {
    "duration": 19,
    "start_time": "2022-12-25T19:39:32.249Z"
   },
   {
    "duration": 120,
    "start_time": "2022-12-25T19:39:32.269Z"
   },
   {
    "duration": 589,
    "start_time": "2022-12-25T19:39:32.391Z"
   },
   {
    "duration": 8054,
    "start_time": "2022-12-25T19:39:32.981Z"
   },
   {
    "duration": 1133,
    "start_time": "2022-12-25T19:39:41.037Z"
   },
   {
    "duration": 112,
    "start_time": "2022-12-25T19:39:42.174Z"
   },
   {
    "duration": 350,
    "start_time": "2022-12-25T19:39:42.288Z"
   },
   {
    "duration": 4,
    "start_time": "2022-12-25T19:39:42.640Z"
   },
   {
    "duration": 419,
    "start_time": "2022-12-25T19:39:42.645Z"
   },
   {
    "duration": 454,
    "start_time": "2022-12-25T19:39:43.066Z"
   },
   {
    "duration": 23,
    "start_time": "2022-12-25T19:39:43.521Z"
   },
   {
    "duration": 15535,
    "start_time": "2022-12-25T19:39:43.546Z"
   },
   {
    "duration": 3636,
    "start_time": "2022-12-25T19:39:59.082Z"
   },
   {
    "duration": 5777,
    "start_time": "2022-12-25T19:40:02.721Z"
   },
   {
    "duration": 3508,
    "start_time": "2022-12-25T19:40:08.500Z"
   },
   {
    "duration": 39,
    "start_time": "2022-12-25T19:40:12.010Z"
   },
   {
    "duration": 25,
    "start_time": "2022-12-25T19:40:12.051Z"
   },
   {
    "duration": 79,
    "start_time": "2022-12-25T19:40:12.078Z"
   },
   {
    "duration": 101,
    "start_time": "2022-12-25T19:40:12.159Z"
   },
   {
    "duration": 3,
    "start_time": "2022-12-25T19:40:12.262Z"
   },
   {
    "duration": 86,
    "start_time": "2022-12-25T19:40:12.267Z"
   },
   {
    "duration": 76,
    "start_time": "2022-12-25T19:40:12.354Z"
   },
   {
    "duration": 100,
    "start_time": "2022-12-25T19:40:12.435Z"
   },
   {
    "duration": 20,
    "start_time": "2022-12-25T19:40:12.538Z"
   },
   {
    "duration": 532,
    "start_time": "2022-12-25T19:40:12.560Z"
   },
   {
    "duration": 4,
    "start_time": "2022-12-25T19:40:13.094Z"
   },
   {
    "duration": 99,
    "start_time": "2022-12-25T19:40:13.099Z"
   },
   {
    "duration": 75,
    "start_time": "2022-12-25T19:40:13.200Z"
   },
   {
    "duration": 7369,
    "start_time": "2022-12-25T19:40:13.277Z"
   },
   {
    "duration": 101,
    "start_time": "2022-12-25T19:40:20.649Z"
   },
   {
    "duration": 57,
    "start_time": "2022-12-25T19:40:20.751Z"
   },
   {
    "duration": 8026,
    "start_time": "2022-12-25T19:40:20.809Z"
   },
   {
    "duration": 9,
    "start_time": "2022-12-25T19:40:28.837Z"
   },
   {
    "duration": 34,
    "start_time": "2022-12-25T19:40:28.848Z"
   },
   {
    "duration": 7,
    "start_time": "2022-12-25T19:40:28.883Z"
   },
   {
    "duration": 59,
    "start_time": "2022-12-25T19:40:28.892Z"
   },
   {
    "duration": 48,
    "start_time": "2022-12-25T19:40:28.953Z"
   },
   {
    "duration": 81,
    "start_time": "2022-12-25T19:40:29.003Z"
   },
   {
    "duration": 4,
    "start_time": "2022-12-25T19:40:29.085Z"
   },
   {
    "duration": 474,
    "start_time": "2022-12-25T19:40:29.090Z"
   },
   {
    "duration": 780,
    "start_time": "2022-12-25T19:40:29.566Z"
   },
   {
    "duration": 204,
    "start_time": "2022-12-25T19:40:30.348Z"
   },
   {
    "duration": 395,
    "start_time": "2022-12-25T19:40:30.555Z"
   },
   {
    "duration": 3,
    "start_time": "2022-12-25T19:40:30.952Z"
   },
   {
    "duration": 527,
    "start_time": "2022-12-25T19:40:30.957Z"
   },
   {
    "duration": 125,
    "start_time": "2022-12-25T19:40:31.486Z"
   },
   {
    "duration": 0,
    "start_time": "2022-12-25T19:40:31.612Z"
   },
   {
    "duration": 0,
    "start_time": "2022-12-25T19:40:31.613Z"
   },
   {
    "duration": 13,
    "start_time": "2022-12-25T19:41:40.720Z"
   },
   {
    "duration": 12,
    "start_time": "2022-12-25T19:41:48.477Z"
   },
   {
    "duration": 12,
    "start_time": "2022-12-25T19:42:19.446Z"
   },
   {
    "duration": 1366,
    "start_time": "2022-12-25T19:42:30.373Z"
   },
   {
    "duration": 727,
    "start_time": "2022-12-25T19:42:31.741Z"
   },
   {
    "duration": 15,
    "start_time": "2022-12-25T19:42:32.469Z"
   },
   {
    "duration": 12,
    "start_time": "2022-12-25T19:42:32.486Z"
   },
   {
    "duration": 26,
    "start_time": "2022-12-25T19:42:32.499Z"
   },
   {
    "duration": 125,
    "start_time": "2022-12-25T19:42:32.527Z"
   },
   {
    "duration": 583,
    "start_time": "2022-12-25T19:42:32.654Z"
   },
   {
    "duration": 7430,
    "start_time": "2022-12-25T19:42:33.238Z"
   },
   {
    "duration": 1052,
    "start_time": "2022-12-25T19:42:40.670Z"
   },
   {
    "duration": 102,
    "start_time": "2022-12-25T19:42:41.724Z"
   },
   {
    "duration": 313,
    "start_time": "2022-12-25T19:42:41.827Z"
   },
   {
    "duration": 4,
    "start_time": "2022-12-25T19:42:42.142Z"
   },
   {
    "duration": 419,
    "start_time": "2022-12-25T19:42:42.147Z"
   },
   {
    "duration": 441,
    "start_time": "2022-12-25T19:42:42.567Z"
   },
   {
    "duration": 22,
    "start_time": "2022-12-25T19:42:43.010Z"
   },
   {
    "duration": 15016,
    "start_time": "2022-12-25T19:42:43.033Z"
   },
   {
    "duration": 3618,
    "start_time": "2022-12-25T19:42:58.051Z"
   },
   {
    "duration": 5534,
    "start_time": "2022-12-25T19:43:01.671Z"
   },
   {
    "duration": 3542,
    "start_time": "2022-12-25T19:43:07.207Z"
   },
   {
    "duration": 38,
    "start_time": "2022-12-25T19:43:10.751Z"
   },
   {
    "duration": 42,
    "start_time": "2022-12-25T19:43:10.791Z"
   },
   {
    "duration": 67,
    "start_time": "2022-12-25T19:43:10.835Z"
   },
   {
    "duration": 101,
    "start_time": "2022-12-25T19:43:10.903Z"
   },
   {
    "duration": 3,
    "start_time": "2022-12-25T19:43:11.006Z"
   },
   {
    "duration": 81,
    "start_time": "2022-12-25T19:43:11.011Z"
   },
   {
    "duration": 74,
    "start_time": "2022-12-25T19:43:11.094Z"
   },
   {
    "duration": 105,
    "start_time": "2022-12-25T19:43:11.170Z"
   },
   {
    "duration": 19,
    "start_time": "2022-12-25T19:43:11.278Z"
   },
   {
    "duration": 569,
    "start_time": "2022-12-25T19:43:11.299Z"
   },
   {
    "duration": 5,
    "start_time": "2022-12-25T19:43:11.870Z"
   },
   {
    "duration": 99,
    "start_time": "2022-12-25T19:43:11.876Z"
   },
   {
    "duration": 67,
    "start_time": "2022-12-25T19:43:11.976Z"
   },
   {
    "duration": 7235,
    "start_time": "2022-12-25T19:43:12.045Z"
   },
   {
    "duration": 97,
    "start_time": "2022-12-25T19:43:19.282Z"
   },
   {
    "duration": 69,
    "start_time": "2022-12-25T19:43:19.380Z"
   },
   {
    "duration": 6846,
    "start_time": "2022-12-25T19:43:19.451Z"
   },
   {
    "duration": 11,
    "start_time": "2022-12-25T19:43:26.299Z"
   },
   {
    "duration": 37,
    "start_time": "2022-12-25T19:43:26.322Z"
   },
   {
    "duration": 8,
    "start_time": "2022-12-25T19:43:26.361Z"
   },
   {
    "duration": 56,
    "start_time": "2022-12-25T19:43:26.370Z"
   },
   {
    "duration": 49,
    "start_time": "2022-12-25T19:43:26.428Z"
   },
   {
    "duration": 2,
    "start_time": "2022-12-25T19:43:26.479Z"
   },
   {
    "duration": 9,
    "start_time": "2022-12-25T19:43:26.482Z"
   },
   {
    "duration": 469,
    "start_time": "2022-12-25T19:43:26.492Z"
   },
   {
    "duration": 718,
    "start_time": "2022-12-25T19:43:26.963Z"
   },
   {
    "duration": 198,
    "start_time": "2022-12-25T19:43:27.682Z"
   },
   {
    "duration": 363,
    "start_time": "2022-12-25T19:43:27.882Z"
   },
   {
    "duration": 3,
    "start_time": "2022-12-25T19:43:28.246Z"
   },
   {
    "duration": 474,
    "start_time": "2022-12-25T19:43:28.250Z"
   },
   {
    "duration": 56,
    "start_time": "2022-12-25T19:43:28.726Z"
   },
   {
    "duration": 252,
    "start_time": "2022-12-25T19:43:28.783Z"
   },
   {
    "duration": 474,
    "start_time": "2022-12-25T19:43:29.037Z"
   },
   {
    "duration": 1397,
    "start_time": "2022-12-25T19:45:24.130Z"
   },
   {
    "duration": 837,
    "start_time": "2022-12-25T19:45:25.529Z"
   },
   {
    "duration": 18,
    "start_time": "2022-12-25T19:45:26.368Z"
   },
   {
    "duration": 5,
    "start_time": "2022-12-25T19:45:26.387Z"
   },
   {
    "duration": 31,
    "start_time": "2022-12-25T19:45:26.394Z"
   },
   {
    "duration": 121,
    "start_time": "2022-12-25T19:45:26.427Z"
   },
   {
    "duration": 599,
    "start_time": "2022-12-25T19:45:26.550Z"
   },
   {
    "duration": 7596,
    "start_time": "2022-12-25T19:45:27.150Z"
   },
   {
    "duration": 1163,
    "start_time": "2022-12-25T19:45:34.748Z"
   },
   {
    "duration": 117,
    "start_time": "2022-12-25T19:45:35.913Z"
   },
   {
    "duration": 344,
    "start_time": "2022-12-25T19:45:36.032Z"
   },
   {
    "duration": 7,
    "start_time": "2022-12-25T19:45:36.378Z"
   },
   {
    "duration": 453,
    "start_time": "2022-12-25T19:45:36.387Z"
   },
   {
    "duration": 484,
    "start_time": "2022-12-25T19:45:36.844Z"
   },
   {
    "duration": 21,
    "start_time": "2022-12-25T19:45:37.330Z"
   },
   {
    "duration": 16942,
    "start_time": "2022-12-25T19:45:37.352Z"
   },
   {
    "duration": 3822,
    "start_time": "2022-12-25T19:45:54.296Z"
   },
   {
    "duration": 5957,
    "start_time": "2022-12-25T19:45:58.122Z"
   },
   {
    "duration": 4010,
    "start_time": "2022-12-25T19:46:04.081Z"
   },
   {
    "duration": 43,
    "start_time": "2022-12-25T19:46:08.093Z"
   },
   {
    "duration": 26,
    "start_time": "2022-12-25T19:46:08.137Z"
   },
   {
    "duration": 73,
    "start_time": "2022-12-25T19:46:08.164Z"
   },
   {
    "duration": 107,
    "start_time": "2022-12-25T19:46:08.238Z"
   },
   {
    "duration": 6,
    "start_time": "2022-12-25T19:46:08.347Z"
   },
   {
    "duration": 95,
    "start_time": "2022-12-25T19:46:08.355Z"
   },
   {
    "duration": 71,
    "start_time": "2022-12-25T19:46:08.452Z"
   },
   {
    "duration": 111,
    "start_time": "2022-12-25T19:46:08.525Z"
   },
   {
    "duration": 20,
    "start_time": "2022-12-25T19:46:08.638Z"
   },
   {
    "duration": 531,
    "start_time": "2022-12-25T19:46:08.660Z"
   },
   {
    "duration": 4,
    "start_time": "2022-12-25T19:46:09.193Z"
   },
   {
    "duration": 115,
    "start_time": "2022-12-25T19:46:09.199Z"
   },
   {
    "duration": 61,
    "start_time": "2022-12-25T19:46:09.316Z"
   },
   {
    "duration": 7643,
    "start_time": "2022-12-25T19:46:09.379Z"
   },
   {
    "duration": 113,
    "start_time": "2022-12-25T19:46:17.024Z"
   },
   {
    "duration": 122,
    "start_time": "2022-12-25T19:46:17.139Z"
   },
   {
    "duration": 7354,
    "start_time": "2022-12-25T19:46:17.263Z"
   },
   {
    "duration": 12,
    "start_time": "2022-12-25T19:46:24.618Z"
   },
   {
    "duration": 37,
    "start_time": "2022-12-25T19:46:24.631Z"
   },
   {
    "duration": 97,
    "start_time": "2022-12-25T19:46:24.669Z"
   },
   {
    "duration": 7,
    "start_time": "2022-12-25T19:46:24.768Z"
   },
   {
    "duration": 70,
    "start_time": "2022-12-25T19:46:24.779Z"
   },
   {
    "duration": 4,
    "start_time": "2022-12-25T19:46:24.852Z"
   },
   {
    "duration": 504,
    "start_time": "2022-12-25T19:46:24.857Z"
   },
   {
    "duration": 894,
    "start_time": "2022-12-25T19:46:25.363Z"
   },
   {
    "duration": 208,
    "start_time": "2022-12-25T19:46:26.259Z"
   },
   {
    "duration": 381,
    "start_time": "2022-12-25T19:46:26.468Z"
   },
   {
    "duration": 3,
    "start_time": "2022-12-25T19:46:26.850Z"
   },
   {
    "duration": 473,
    "start_time": "2022-12-25T19:46:26.854Z"
   },
   {
    "duration": 58,
    "start_time": "2022-12-25T19:46:27.328Z"
   },
   {
    "duration": 278,
    "start_time": "2022-12-25T19:46:27.388Z"
   },
   {
    "duration": 29743,
    "start_time": "2022-12-25T19:46:27.668Z"
   },
   {
    "duration": 26493,
    "start_time": "2022-12-25T19:48:44.034Z"
   },
   {
    "duration": 26669,
    "start_time": "2022-12-25T19:49:12.353Z"
   },
   {
    "duration": 1572,
    "start_time": "2022-12-27T18:01:00.811Z"
   },
   {
    "duration": 2887,
    "start_time": "2022-12-27T18:01:02.385Z"
   },
   {
    "duration": 16,
    "start_time": "2022-12-27T18:01:05.274Z"
   },
   {
    "duration": 5,
    "start_time": "2022-12-27T18:01:05.292Z"
   },
   {
    "duration": 119,
    "start_time": "2022-12-27T18:01:05.298Z"
   },
   {
    "duration": 647,
    "start_time": "2022-12-27T18:01:05.419Z"
   },
   {
    "duration": 2,
    "start_time": "2022-12-27T18:01:06.068Z"
   },
   {
    "duration": 7136,
    "start_time": "2022-12-27T18:01:06.072Z"
   },
   {
    "duration": 1006,
    "start_time": "2022-12-27T18:01:13.212Z"
   },
   {
    "duration": 96,
    "start_time": "2022-12-27T18:01:14.221Z"
   },
   {
    "duration": 306,
    "start_time": "2022-12-27T18:01:14.319Z"
   },
   {
    "duration": 4,
    "start_time": "2022-12-27T18:01:14.627Z"
   },
   {
    "duration": 414,
    "start_time": "2022-12-27T18:01:14.632Z"
   },
   {
    "duration": 456,
    "start_time": "2022-12-27T18:01:15.048Z"
   },
   {
    "duration": 20,
    "start_time": "2022-12-27T18:01:15.506Z"
   },
   {
    "duration": 15514,
    "start_time": "2022-12-27T18:01:15.527Z"
   },
   {
    "duration": 3709,
    "start_time": "2022-12-27T18:01:31.043Z"
   },
   {
    "duration": 5634,
    "start_time": "2022-12-27T18:01:34.755Z"
   },
   {
    "duration": 3558,
    "start_time": "2022-12-27T18:01:40.391Z"
   },
   {
    "duration": 36,
    "start_time": "2022-12-27T18:01:43.951Z"
   },
   {
    "duration": 36,
    "start_time": "2022-12-27T18:01:43.988Z"
   },
   {
    "duration": 130,
    "start_time": "2022-12-27T18:01:44.025Z"
   },
   {
    "duration": 93,
    "start_time": "2022-12-27T18:01:44.157Z"
   },
   {
    "duration": 4,
    "start_time": "2022-12-27T18:01:44.251Z"
   },
   {
    "duration": 79,
    "start_time": "2022-12-27T18:01:44.256Z"
   },
   {
    "duration": 63,
    "start_time": "2022-12-27T18:01:44.336Z"
   },
   {
    "duration": 112,
    "start_time": "2022-12-27T18:01:44.401Z"
   },
   {
    "duration": 18,
    "start_time": "2022-12-27T18:01:44.517Z"
   },
   {
    "duration": 542,
    "start_time": "2022-12-27T18:01:44.537Z"
   },
   {
    "duration": 4,
    "start_time": "2022-12-27T18:01:45.081Z"
   },
   {
    "duration": 108,
    "start_time": "2022-12-27T18:01:45.086Z"
   },
   {
    "duration": 60,
    "start_time": "2022-12-27T18:01:45.196Z"
   },
   {
    "duration": 7339,
    "start_time": "2022-12-27T18:01:45.258Z"
   },
   {
    "duration": 96,
    "start_time": "2022-12-27T18:01:52.599Z"
   },
   {
    "duration": 68,
    "start_time": "2022-12-27T18:01:52.696Z"
   },
   {
    "duration": 6782,
    "start_time": "2022-12-27T18:01:52.766Z"
   },
   {
    "duration": 10,
    "start_time": "2022-12-27T18:01:59.550Z"
   },
   {
    "duration": 35,
    "start_time": "2022-12-27T18:01:59.561Z"
   },
   {
    "duration": 83,
    "start_time": "2022-12-27T18:01:59.597Z"
   },
   {
    "duration": 6,
    "start_time": "2022-12-27T18:01:59.681Z"
   },
   {
    "duration": 71,
    "start_time": "2022-12-27T18:01:59.689Z"
   },
   {
    "duration": 3,
    "start_time": "2022-12-27T18:01:59.762Z"
   },
   {
    "duration": 453,
    "start_time": "2022-12-27T18:01:59.766Z"
   },
   {
    "duration": 890,
    "start_time": "2022-12-27T18:02:00.221Z"
   },
   {
    "duration": 210,
    "start_time": "2022-12-27T18:02:01.114Z"
   },
   {
    "duration": 364,
    "start_time": "2022-12-27T18:02:01.326Z"
   },
   {
    "duration": 2,
    "start_time": "2022-12-27T18:02:01.692Z"
   },
   {
    "duration": 490,
    "start_time": "2022-12-27T18:02:01.696Z"
   },
   {
    "duration": 62,
    "start_time": "2022-12-27T18:02:02.188Z"
   },
   {
    "duration": 247,
    "start_time": "2022-12-27T18:02:02.252Z"
   },
   {
    "duration": 33727,
    "start_time": "2022-12-27T18:02:02.501Z"
   },
   {
    "duration": 332,
    "start_time": "2022-12-27T18:02:36.231Z"
   },
   {
    "duration": 13458,
    "start_time": "2022-12-27T18:02:36.565Z"
   },
   {
    "duration": 842499,
    "start_time": "2022-12-27T18:02:50.031Z"
   },
   {
    "duration": 16888,
    "start_time": "2022-12-27T18:16:52.532Z"
   },
   {
    "duration": 3921,
    "start_time": "2022-12-27T18:17:09.422Z"
   },
   {
    "duration": 9,
    "start_time": "2022-12-27T18:17:13.345Z"
   },
   {
    "duration": 16,
    "start_time": "2022-12-27T18:17:13.356Z"
   },
   {
    "duration": 13,
    "start_time": "2022-12-27T18:17:13.373Z"
   },
   {
    "duration": 300609,
    "start_time": "2022-12-27T18:17:13.388Z"
   },
   {
    "duration": 247,
    "start_time": "2022-12-27T18:22:13.998Z"
   },
   {
    "duration": 13,
    "start_time": "2022-12-27T18:22:14.247Z"
   },
   {
    "duration": 96,
    "start_time": "2022-12-27T18:22:14.262Z"
   },
   {
    "duration": 539245,
    "start_time": "2022-12-27T18:22:14.360Z"
   },
   {
    "duration": 233,
    "start_time": "2022-12-27T18:31:13.607Z"
   },
   {
    "duration": 1709,
    "start_time": "2022-12-28T07:10:36.836Z"
   },
   {
    "duration": 2823,
    "start_time": "2022-12-28T07:10:38.548Z"
   },
   {
    "duration": 18,
    "start_time": "2022-12-28T07:10:41.372Z"
   },
   {
    "duration": 26,
    "start_time": "2022-12-28T07:10:41.392Z"
   },
   {
    "duration": 138,
    "start_time": "2022-12-28T07:10:41.420Z"
   },
   {
    "duration": 680,
    "start_time": "2022-12-28T07:10:41.560Z"
   },
   {
    "duration": 4,
    "start_time": "2022-12-28T07:10:42.242Z"
   },
   {
    "duration": 8213,
    "start_time": "2022-12-28T07:10:42.248Z"
   },
   {
    "duration": 1106,
    "start_time": "2022-12-28T07:10:50.463Z"
   },
   {
    "duration": 119,
    "start_time": "2022-12-28T07:10:51.572Z"
   },
   {
    "duration": 388,
    "start_time": "2022-12-28T07:10:51.694Z"
   },
   {
    "duration": 5,
    "start_time": "2022-12-28T07:10:52.083Z"
   },
   {
    "duration": 457,
    "start_time": "2022-12-28T07:10:52.089Z"
   },
   {
    "duration": 471,
    "start_time": "2022-12-28T07:10:52.547Z"
   },
   {
    "duration": 19,
    "start_time": "2022-12-28T07:10:53.020Z"
   },
   {
    "duration": 15975,
    "start_time": "2022-12-28T07:10:53.041Z"
   },
   {
    "duration": 3541,
    "start_time": "2022-12-28T07:11:09.018Z"
   },
   {
    "duration": 5397,
    "start_time": "2022-12-28T07:11:12.561Z"
   },
   {
    "duration": 3565,
    "start_time": "2022-12-28T07:11:17.960Z"
   },
   {
    "duration": 36,
    "start_time": "2022-12-28T07:11:21.528Z"
   },
   {
    "duration": 47,
    "start_time": "2022-12-28T07:11:21.566Z"
   },
   {
    "duration": 75,
    "start_time": "2022-12-28T07:11:21.622Z"
   },
   {
    "duration": 108,
    "start_time": "2022-12-28T07:11:21.698Z"
   },
   {
    "duration": 3,
    "start_time": "2022-12-28T07:11:21.808Z"
   },
   {
    "duration": 71,
    "start_time": "2022-12-28T07:11:21.822Z"
   },
   {
    "duration": 80,
    "start_time": "2022-12-28T07:11:21.895Z"
   },
   {
    "duration": 106,
    "start_time": "2022-12-28T07:11:21.976Z"
   },
   {
    "duration": 19,
    "start_time": "2022-12-28T07:11:22.086Z"
   },
   {
    "duration": 533,
    "start_time": "2022-12-28T07:11:22.123Z"
   },
   {
    "duration": 5,
    "start_time": "2022-12-28T07:11:22.657Z"
   },
   {
    "duration": 113,
    "start_time": "2022-12-28T07:11:22.664Z"
   },
   {
    "duration": 68,
    "start_time": "2022-12-28T07:11:22.779Z"
   },
   {
    "duration": 7603,
    "start_time": "2022-12-28T07:11:22.849Z"
   },
   {
    "duration": 115,
    "start_time": "2022-12-28T07:11:30.454Z"
   },
   {
    "duration": 69,
    "start_time": "2022-12-28T07:11:30.570Z"
   },
   {
    "duration": 7115,
    "start_time": "2022-12-28T07:11:30.641Z"
   },
   {
    "duration": 10,
    "start_time": "2022-12-28T07:11:37.758Z"
   },
   {
    "duration": 35,
    "start_time": "2022-12-28T07:11:37.769Z"
   },
   {
    "duration": 81,
    "start_time": "2022-12-28T07:11:37.821Z"
   },
   {
    "duration": 18,
    "start_time": "2022-12-28T07:11:37.904Z"
   },
   {
    "duration": 56,
    "start_time": "2022-12-28T07:11:37.923Z"
   },
   {
    "duration": 3,
    "start_time": "2022-12-28T07:11:37.981Z"
   },
   {
    "duration": 486,
    "start_time": "2022-12-28T07:11:37.985Z"
   },
   {
    "duration": 766,
    "start_time": "2022-12-28T07:11:38.472Z"
   },
   {
    "duration": 202,
    "start_time": "2022-12-28T07:11:39.240Z"
   },
   {
    "duration": 361,
    "start_time": "2022-12-28T07:11:39.443Z"
   },
   {
    "duration": 3,
    "start_time": "2022-12-28T07:11:39.806Z"
   },
   {
    "duration": 473,
    "start_time": "2022-12-28T07:11:39.810Z"
   },
   {
    "duration": 61,
    "start_time": "2022-12-28T07:11:40.285Z"
   },
   {
    "duration": 275,
    "start_time": "2022-12-28T07:11:40.348Z"
   },
   {
    "duration": 21102,
    "start_time": "2022-12-28T07:11:40.625Z"
   },
   {
    "duration": 382,
    "start_time": "2022-12-28T07:12:01.729Z"
   },
   {
    "duration": 13058,
    "start_time": "2022-12-28T07:12:02.113Z"
   },
   {
    "duration": 919852,
    "start_time": "2022-12-28T07:12:15.172Z"
   },
   {
    "duration": 19097,
    "start_time": "2022-12-28T07:27:35.025Z"
   },
   {
    "duration": 4720,
    "start_time": "2022-12-28T07:27:54.125Z"
   },
   {
    "duration": 9,
    "start_time": "2022-12-28T07:27:58.847Z"
   },
   {
    "duration": 18,
    "start_time": "2022-12-28T07:27:58.858Z"
   },
   {
    "duration": 2,
    "start_time": "2022-12-28T07:27:58.878Z"
   },
   {
    "duration": 326801,
    "start_time": "2022-12-28T07:27:58.881Z"
   },
   {
    "duration": 273,
    "start_time": "2022-12-28T07:33:25.684Z"
   },
   {
    "duration": 14,
    "start_time": "2022-12-28T07:33:25.958Z"
   },
   {
    "duration": 93,
    "start_time": "2022-12-28T07:33:25.973Z"
   },
   {
    "duration": 603167,
    "start_time": "2022-12-28T07:33:26.068Z"
   },
   {
    "duration": 187,
    "start_time": "2022-12-28T07:43:29.237Z"
   },
   {
    "duration": 5,
    "start_time": "2022-12-28T08:38:09.650Z"
   },
   {
    "duration": 14138,
    "start_time": "2022-12-28T08:44:37.422Z"
   },
   {
    "duration": 4,
    "start_time": "2022-12-28T08:47:36.996Z"
   },
   {
    "duration": 285,
    "start_time": "2022-12-28T08:51:02.444Z"
   },
   {
    "duration": 88,
    "start_time": "2022-12-28T08:51:11.832Z"
   },
   {
    "duration": 100,
    "start_time": "2022-12-28T08:51:39.501Z"
   },
   {
    "duration": 124,
    "start_time": "2022-12-28T08:57:47.198Z"
   },
   {
    "duration": 10,
    "start_time": "2022-12-28T08:57:56.294Z"
   },
   {
    "duration": 16277,
    "start_time": "2022-12-28T08:58:13.890Z"
   },
   {
    "duration": 4,
    "start_time": "2022-12-28T08:58:33.048Z"
   },
   {
    "duration": 10,
    "start_time": "2022-12-28T09:00:10.656Z"
   },
   {
    "duration": 5,
    "start_time": "2022-12-28T09:00:30.762Z"
   },
   {
    "duration": 12,
    "start_time": "2022-12-28T09:00:35.655Z"
   },
   {
    "duration": 4,
    "start_time": "2022-12-28T09:00:37.925Z"
   },
   {
    "duration": 5,
    "start_time": "2022-12-28T09:00:41.839Z"
   },
   {
    "duration": 6,
    "start_time": "2022-12-28T09:00:50.317Z"
   },
   {
    "duration": 81,
    "start_time": "2022-12-28T09:01:36.266Z"
   },
   {
    "duration": 5,
    "start_time": "2022-12-28T09:01:46.839Z"
   },
   {
    "duration": 87,
    "start_time": "2022-12-28T09:02:14.863Z"
   },
   {
    "duration": 76,
    "start_time": "2022-12-28T09:04:02.529Z"
   },
   {
    "duration": 15499,
    "start_time": "2022-12-28T09:11:19.731Z"
   },
   {
    "duration": 3,
    "start_time": "2022-12-28T09:11:35.232Z"
   },
   {
    "duration": 5,
    "start_time": "2022-12-28T09:11:47.812Z"
   },
   {
    "duration": 11,
    "start_time": "2022-12-28T09:11:52.234Z"
   },
   {
    "duration": 5,
    "start_time": "2022-12-28T09:11:52.727Z"
   },
   {
    "duration": 37108,
    "start_time": "2022-12-28T09:11:58.400Z"
   },
   {
    "duration": 5,
    "start_time": "2022-12-28T09:20:24.506Z"
   },
   {
    "duration": 14,
    "start_time": "2022-12-28T09:20:25.737Z"
   },
   {
    "duration": 6,
    "start_time": "2022-12-28T09:20:26.094Z"
   },
   {
    "duration": 17048,
    "start_time": "2022-12-28T09:27:56.044Z"
   },
   {
    "duration": 1613,
    "start_time": "2022-12-28T18:28:34.192Z"
   },
   {
    "duration": 3403,
    "start_time": "2022-12-28T18:28:35.807Z"
   },
   {
    "duration": 17,
    "start_time": "2022-12-28T18:28:39.211Z"
   },
   {
    "duration": 10,
    "start_time": "2022-12-28T18:28:39.230Z"
   },
   {
    "duration": 152,
    "start_time": "2022-12-28T18:28:39.242Z"
   },
   {
    "duration": 640,
    "start_time": "2022-12-28T18:28:39.396Z"
   },
   {
    "duration": 3,
    "start_time": "2022-12-28T18:28:40.037Z"
   },
   {
    "duration": 7624,
    "start_time": "2022-12-28T18:28:40.042Z"
   },
   {
    "duration": 1080,
    "start_time": "2022-12-28T18:28:47.667Z"
   },
   {
    "duration": 110,
    "start_time": "2022-12-28T18:28:48.750Z"
   },
   {
    "duration": 349,
    "start_time": "2022-12-28T18:28:48.862Z"
   },
   {
    "duration": 4,
    "start_time": "2022-12-28T18:28:49.213Z"
   },
   {
    "duration": 490,
    "start_time": "2022-12-28T18:28:49.219Z"
   },
   {
    "duration": 525,
    "start_time": "2022-12-28T18:28:49.711Z"
   },
   {
    "duration": 19,
    "start_time": "2022-12-28T18:28:50.238Z"
   },
   {
    "duration": 16942,
    "start_time": "2022-12-28T18:28:50.259Z"
   },
   {
    "duration": 3788,
    "start_time": "2022-12-28T18:29:07.203Z"
   },
   {
    "duration": 5797,
    "start_time": "2022-12-28T18:29:10.993Z"
   },
   {
    "duration": 3603,
    "start_time": "2022-12-28T18:29:16.792Z"
   },
   {
    "duration": 36,
    "start_time": "2022-12-28T18:29:20.398Z"
   },
   {
    "duration": 47,
    "start_time": "2022-12-28T18:29:20.435Z"
   },
   {
    "duration": 84,
    "start_time": "2022-12-28T18:29:20.484Z"
   },
   {
    "duration": 98,
    "start_time": "2022-12-28T18:29:20.570Z"
   },
   {
    "duration": 12,
    "start_time": "2022-12-28T18:29:20.669Z"
   },
   {
    "duration": 104,
    "start_time": "2022-12-28T18:29:20.689Z"
   },
   {
    "duration": 69,
    "start_time": "2022-12-28T18:29:20.795Z"
   },
   {
    "duration": 140,
    "start_time": "2022-12-28T18:29:20.865Z"
   },
   {
    "duration": 20,
    "start_time": "2022-12-28T18:29:21.009Z"
   },
   {
    "duration": 535,
    "start_time": "2022-12-28T18:29:21.031Z"
   },
   {
    "duration": 4,
    "start_time": "2022-12-28T18:29:21.568Z"
   },
   {
    "duration": 111,
    "start_time": "2022-12-28T18:29:21.578Z"
   },
   {
    "duration": 55,
    "start_time": "2022-12-28T18:29:21.691Z"
   },
   {
    "duration": 8058,
    "start_time": "2022-12-28T18:29:21.748Z"
   },
   {
    "duration": 112,
    "start_time": "2022-12-28T18:29:29.808Z"
   },
   {
    "duration": 69,
    "start_time": "2022-12-28T18:29:29.922Z"
   },
   {
    "duration": 7477,
    "start_time": "2022-12-28T18:29:29.993Z"
   },
   {
    "duration": 18,
    "start_time": "2022-12-28T18:29:37.471Z"
   },
   {
    "duration": 44,
    "start_time": "2022-12-28T18:29:37.492Z"
   },
   {
    "duration": 83,
    "start_time": "2022-12-28T18:29:37.538Z"
   },
   {
    "duration": 7,
    "start_time": "2022-12-28T18:29:37.622Z"
   },
   {
    "duration": 50,
    "start_time": "2022-12-28T18:29:37.631Z"
   },
   {
    "duration": 8,
    "start_time": "2022-12-28T18:29:37.682Z"
   },
   {
    "duration": 484,
    "start_time": "2022-12-28T18:29:37.691Z"
   },
   {
    "duration": 953,
    "start_time": "2022-12-28T18:29:38.179Z"
   },
   {
    "duration": 203,
    "start_time": "2022-12-28T18:29:39.134Z"
   },
   {
    "duration": 375,
    "start_time": "2022-12-28T18:29:39.339Z"
   },
   {
    "duration": 3,
    "start_time": "2022-12-28T18:29:39.716Z"
   },
   {
    "duration": 526,
    "start_time": "2022-12-28T18:29:39.720Z"
   },
   {
    "duration": 64,
    "start_time": "2022-12-28T18:29:40.247Z"
   },
   {
    "duration": 277,
    "start_time": "2022-12-28T18:29:40.313Z"
   },
   {
    "duration": 41489,
    "start_time": "2022-12-28T18:29:40.593Z"
   },
   {
    "duration": 313,
    "start_time": "2022-12-28T18:30:22.085Z"
   },
   {
    "duration": 19237,
    "start_time": "2022-12-28T18:30:22.400Z"
   },
   {
    "duration": 4,
    "start_time": "2022-12-28T18:30:41.639Z"
   },
   {
    "duration": 16,
    "start_time": "2022-12-28T18:30:41.644Z"
   },
   {
    "duration": 17,
    "start_time": "2022-12-28T18:30:41.662Z"
   },
   {
    "duration": 122,
    "start_time": "2022-12-28T18:30:41.686Z"
   },
   {
    "duration": 0,
    "start_time": "2022-12-28T18:30:41.809Z"
   },
   {
    "duration": 0,
    "start_time": "2022-12-28T18:30:41.811Z"
   },
   {
    "duration": 0,
    "start_time": "2022-12-28T18:30:41.812Z"
   },
   {
    "duration": 0,
    "start_time": "2022-12-28T18:30:41.813Z"
   },
   {
    "duration": 0,
    "start_time": "2022-12-28T18:30:41.815Z"
   },
   {
    "duration": 0,
    "start_time": "2022-12-28T18:30:41.816Z"
   },
   {
    "duration": 0,
    "start_time": "2022-12-28T18:30:41.817Z"
   },
   {
    "duration": 0,
    "start_time": "2022-12-28T18:30:41.818Z"
   },
   {
    "duration": 0,
    "start_time": "2022-12-28T18:30:41.820Z"
   },
   {
    "duration": 0,
    "start_time": "2022-12-28T18:30:41.821Z"
   },
   {
    "duration": 0,
    "start_time": "2022-12-28T18:30:41.821Z"
   },
   {
    "duration": 0,
    "start_time": "2022-12-28T18:30:41.823Z"
   },
   {
    "duration": 0,
    "start_time": "2022-12-28T18:30:41.824Z"
   },
   {
    "duration": 0,
    "start_time": "2022-12-28T18:30:41.825Z"
   },
   {
    "duration": 0,
    "start_time": "2022-12-28T18:30:41.826Z"
   },
   {
    "duration": 291,
    "start_time": "2022-12-28T18:38:27.159Z"
   },
   {
    "duration": 3,
    "start_time": "2022-12-28T18:38:29.886Z"
   },
   {
    "duration": 365,
    "start_time": "2022-12-28T18:38:32.630Z"
   },
   {
    "duration": 52,
    "start_time": "2022-12-28T18:38:47.482Z"
   },
   {
    "duration": 254,
    "start_time": "2022-12-28T18:39:09.046Z"
   },
   {
    "duration": 27670,
    "start_time": "2022-12-28T18:39:17.415Z"
   },
   {
    "duration": 25181,
    "start_time": "2022-12-28T18:40:29.304Z"
   },
   {
    "duration": 38662,
    "start_time": "2022-12-28T18:41:25.629Z"
   },
   {
    "duration": 21969,
    "start_time": "2022-12-28T18:44:24.609Z"
   },
   {
    "duration": 3,
    "start_time": "2022-12-28T18:45:31.440Z"
   },
   {
    "duration": 29647,
    "start_time": "2022-12-28T18:45:40.231Z"
   },
   {
    "duration": 4,
    "start_time": "2022-12-28T18:46:51.121Z"
   },
   {
    "duration": 9,
    "start_time": "2022-12-28T18:47:07.188Z"
   },
   {
    "duration": 6,
    "start_time": "2022-12-28T18:48:35.428Z"
   },
   {
    "duration": 9,
    "start_time": "2022-12-28T18:48:40.353Z"
   },
   {
    "duration": 13,
    "start_time": "2022-12-28T18:48:56.114Z"
   },
   {
    "duration": 241,
    "start_time": "2022-12-28T18:51:26.610Z"
   },
   {
    "duration": 212,
    "start_time": "2022-12-28T18:51:35.437Z"
   },
   {
    "duration": 242,
    "start_time": "2022-12-28T18:51:37.036Z"
   },
   {
    "duration": 223,
    "start_time": "2022-12-28T18:51:38.138Z"
   },
   {
    "duration": 219,
    "start_time": "2022-12-28T18:51:38.993Z"
   },
   {
    "duration": 259,
    "start_time": "2022-12-28T18:51:43.787Z"
   },
   {
    "duration": 219,
    "start_time": "2022-12-28T18:51:45.082Z"
   },
   {
    "duration": 221,
    "start_time": "2022-12-28T18:51:46.346Z"
   },
   {
    "duration": 18841,
    "start_time": "2022-12-28T18:53:05.537Z"
   },
   {
    "duration": 18,
    "start_time": "2022-12-28T18:53:44.481Z"
   },
   {
    "duration": 5,
    "start_time": "2022-12-28T18:53:45.267Z"
   },
   {
    "duration": 20793,
    "start_time": "2022-12-28T18:56:47.686Z"
   },
   {
    "duration": 18899,
    "start_time": "2022-12-28T18:58:21.929Z"
   },
   {
    "duration": 19112,
    "start_time": "2022-12-28T18:59:24.458Z"
   },
   {
    "duration": 14567,
    "start_time": "2022-12-28T19:00:33.892Z"
   },
   {
    "duration": 2415485,
    "start_time": "2022-12-28T19:06:58.793Z"
   },
   {
    "duration": 5,
    "start_time": "2022-12-28T20:41:37.306Z"
   },
   {
    "duration": 1901251,
    "start_time": "2022-12-28T20:43:51.664Z"
   },
   {
    "duration": 4,
    "start_time": "2022-12-28T21:16:13.827Z"
   },
   {
    "duration": 134,
    "start_time": "2022-12-28T21:16:15.272Z"
   },
   {
    "duration": 100,
    "start_time": "2022-12-28T21:16:22.240Z"
   },
   {
    "duration": 5,
    "start_time": "2022-12-28T21:16:43.420Z"
   },
   {
    "duration": 91,
    "start_time": "2022-12-28T21:16:48.504Z"
   },
   {
    "duration": 5,
    "start_time": "2022-12-28T21:17:31.647Z"
   },
   {
    "duration": 160011,
    "start_time": "2022-12-28T21:17:33.902Z"
   },
   {
    "duration": 5,
    "start_time": "2022-12-28T21:20:44.528Z"
   },
   {
    "duration": 122,
    "start_time": "2022-12-28T21:20:46.174Z"
   },
   {
    "duration": 2,
    "start_time": "2022-12-28T21:20:52.509Z"
   },
   {
    "duration": 5,
    "start_time": "2022-12-28T21:20:56.241Z"
   },
   {
    "duration": 17929,
    "start_time": "2022-12-28T21:20:57.524Z"
   },
   {
    "duration": 1563,
    "start_time": "2022-12-29T05:15:57.697Z"
   },
   {
    "duration": 985,
    "start_time": "2022-12-29T05:15:59.262Z"
   },
   {
    "duration": 16,
    "start_time": "2022-12-29T05:16:00.248Z"
   },
   {
    "duration": 20,
    "start_time": "2022-12-29T05:16:00.265Z"
   },
   {
    "duration": 144,
    "start_time": "2022-12-29T05:16:00.286Z"
   },
   {
    "duration": 642,
    "start_time": "2022-12-29T05:16:00.432Z"
   },
   {
    "duration": 3,
    "start_time": "2022-12-29T05:16:01.076Z"
   },
   {
    "duration": 7435,
    "start_time": "2022-12-29T05:16:01.081Z"
   },
   {
    "duration": 1003,
    "start_time": "2022-12-29T05:16:08.518Z"
   },
   {
    "duration": 112,
    "start_time": "2022-12-29T05:16:09.523Z"
   },
   {
    "duration": 358,
    "start_time": "2022-12-29T05:16:09.636Z"
   },
   {
    "duration": 3,
    "start_time": "2022-12-29T05:16:09.996Z"
   },
   {
    "duration": 421,
    "start_time": "2022-12-29T05:16:10.001Z"
   },
   {
    "duration": 472,
    "start_time": "2022-12-29T05:16:10.423Z"
   },
   {
    "duration": 27,
    "start_time": "2022-12-29T05:16:10.897Z"
   },
   {
    "duration": 14158,
    "start_time": "2022-12-29T05:16:10.926Z"
   },
   {
    "duration": 3439,
    "start_time": "2022-12-29T05:16:25.086Z"
   },
   {
    "duration": 5062,
    "start_time": "2022-12-29T05:16:28.527Z"
   },
   {
    "duration": 3349,
    "start_time": "2022-12-29T05:16:33.591Z"
   },
   {
    "duration": 34,
    "start_time": "2022-12-29T05:16:36.942Z"
   },
   {
    "duration": 33,
    "start_time": "2022-12-29T05:16:36.977Z"
   },
   {
    "duration": 80,
    "start_time": "2022-12-29T05:16:37.011Z"
   },
   {
    "duration": 110,
    "start_time": "2022-12-29T05:16:37.093Z"
   },
   {
    "duration": 3,
    "start_time": "2022-12-29T05:16:37.205Z"
   },
   {
    "duration": 76,
    "start_time": "2022-12-29T05:16:37.209Z"
   },
   {
    "duration": 73,
    "start_time": "2022-12-29T05:16:37.286Z"
   },
   {
    "duration": 92,
    "start_time": "2022-12-29T05:16:37.361Z"
   },
   {
    "duration": 18,
    "start_time": "2022-12-29T05:16:37.457Z"
   },
   {
    "duration": 487,
    "start_time": "2022-12-29T05:16:37.477Z"
   },
   {
    "duration": 4,
    "start_time": "2022-12-29T05:16:37.965Z"
   },
   {
    "duration": 92,
    "start_time": "2022-12-29T05:16:37.971Z"
   },
   {
    "duration": 66,
    "start_time": "2022-12-29T05:16:38.065Z"
   },
   {
    "duration": 7020,
    "start_time": "2022-12-29T05:16:38.133Z"
   },
   {
    "duration": 108,
    "start_time": "2022-12-29T05:16:45.155Z"
   },
   {
    "duration": 83,
    "start_time": "2022-12-29T05:16:45.266Z"
   },
   {
    "duration": 6485,
    "start_time": "2022-12-29T05:16:45.350Z"
   },
   {
    "duration": 9,
    "start_time": "2022-12-29T05:16:51.838Z"
   },
   {
    "duration": 35,
    "start_time": "2022-12-29T05:16:51.849Z"
   },
   {
    "duration": 96,
    "start_time": "2022-12-29T05:16:51.885Z"
   },
   {
    "duration": 6,
    "start_time": "2022-12-29T05:16:51.983Z"
   },
   {
    "duration": 68,
    "start_time": "2022-12-29T05:16:51.990Z"
   },
   {
    "duration": 3,
    "start_time": "2022-12-29T05:16:52.060Z"
   },
   {
    "duration": 458,
    "start_time": "2022-12-29T05:16:52.065Z"
   },
   {
    "duration": 2,
    "start_time": "2022-12-29T05:16:52.525Z"
   },
   {
    "duration": 644,
    "start_time": "2022-12-29T05:16:52.529Z"
   },
   {
    "duration": 201,
    "start_time": "2022-12-29T05:16:53.175Z"
   },
   {
    "duration": 296,
    "start_time": "2022-12-29T05:16:53.378Z"
   },
   {
    "duration": 3,
    "start_time": "2022-12-29T05:16:53.676Z"
   },
   {
    "duration": 129,
    "start_time": "2022-12-29T05:16:53.681Z"
   },
   {
    "duration": 0,
    "start_time": "2022-12-29T05:16:53.811Z"
   },
   {
    "duration": 0,
    "start_time": "2022-12-29T05:16:53.813Z"
   },
   {
    "duration": 0,
    "start_time": "2022-12-29T05:16:53.814Z"
   },
   {
    "duration": 0,
    "start_time": "2022-12-29T05:16:53.821Z"
   },
   {
    "duration": 0,
    "start_time": "2022-12-29T05:16:53.822Z"
   },
   {
    "duration": 0,
    "start_time": "2022-12-29T05:16:53.897Z"
   },
   {
    "duration": 0,
    "start_time": "2022-12-29T05:16:53.920Z"
   },
   {
    "duration": 0,
    "start_time": "2022-12-29T05:16:53.922Z"
   },
   {
    "duration": 0,
    "start_time": "2022-12-29T05:16:53.923Z"
   },
   {
    "duration": 0,
    "start_time": "2022-12-29T05:16:53.924Z"
   },
   {
    "duration": 0,
    "start_time": "2022-12-29T05:16:53.926Z"
   },
   {
    "duration": 0,
    "start_time": "2022-12-29T05:16:53.927Z"
   },
   {
    "duration": 0,
    "start_time": "2022-12-29T05:16:53.929Z"
   },
   {
    "duration": 0,
    "start_time": "2022-12-29T05:16:53.930Z"
   },
   {
    "duration": 1,
    "start_time": "2022-12-29T05:16:53.931Z"
   },
   {
    "duration": 0,
    "start_time": "2022-12-29T05:16:53.933Z"
   },
   {
    "duration": 0,
    "start_time": "2022-12-29T05:16:53.934Z"
   },
   {
    "duration": 0,
    "start_time": "2022-12-29T05:16:53.936Z"
   },
   {
    "duration": 0,
    "start_time": "2022-12-29T05:16:53.937Z"
   },
   {
    "duration": 0,
    "start_time": "2022-12-29T05:16:53.939Z"
   },
   {
    "duration": 0,
    "start_time": "2022-12-29T05:16:53.940Z"
   },
   {
    "duration": 26,
    "start_time": "2022-12-29T05:20:32.935Z"
   },
   {
    "duration": 3,
    "start_time": "2022-12-29T05:20:36.292Z"
   },
   {
    "duration": 382,
    "start_time": "2022-12-29T05:20:36.845Z"
   },
   {
    "duration": 46,
    "start_time": "2022-12-29T05:20:38.860Z"
   },
   {
    "duration": 242,
    "start_time": "2022-12-29T05:20:43.832Z"
   },
   {
    "duration": 24027,
    "start_time": "2022-12-29T05:20:51.204Z"
   },
   {
    "duration": 17805,
    "start_time": "2022-12-29T05:21:15.320Z"
   },
   {
    "duration": 2588650,
    "start_time": "2022-12-29T05:21:33.127Z"
   },
   {
    "duration": 9449,
    "start_time": "2022-12-29T06:04:44.088Z"
   },
   {
    "duration": 17824,
    "start_time": "2022-12-29T06:04:58.322Z"
   },
   {
    "duration": 4952655,
    "start_time": "2022-12-29T06:05:20.469Z"
   },
   {
    "duration": 10,
    "start_time": "2022-12-29T07:29:43.991Z"
   },
   {
    "duration": 62,
    "start_time": "2022-12-29T07:33:23.376Z"
   },
   {
    "duration": 685074,
    "start_time": "2022-12-29T07:33:34.457Z"
   },
   {
    "duration": 5248,
    "start_time": "2022-12-29T07:46:44.797Z"
   },
   {
    "duration": 11,
    "start_time": "2022-12-29T08:05:22.332Z"
   },
   {
    "duration": 9,
    "start_time": "2022-12-29T08:06:03.057Z"
   },
   {
    "duration": 9,
    "start_time": "2022-12-29T08:06:12.282Z"
   },
   {
    "duration": 4,
    "start_time": "2022-12-29T08:06:56.505Z"
   },
   {
    "duration": 4,
    "start_time": "2022-12-29T08:07:00.872Z"
   },
   {
    "duration": 4,
    "start_time": "2022-12-29T08:07:13.299Z"
   },
   {
    "duration": 4,
    "start_time": "2022-12-29T08:07:26.962Z"
   },
   {
    "duration": 4,
    "start_time": "2022-12-29T08:07:32.976Z"
   },
   {
    "duration": 4,
    "start_time": "2022-12-29T08:07:40.929Z"
   },
   {
    "duration": 4,
    "start_time": "2022-12-29T08:07:43.808Z"
   },
   {
    "duration": 4,
    "start_time": "2022-12-29T08:08:19.049Z"
   },
   {
    "duration": 4,
    "start_time": "2022-12-29T08:08:23.441Z"
   },
   {
    "duration": 4,
    "start_time": "2022-12-29T08:08:28.112Z"
   },
   {
    "duration": 3,
    "start_time": "2022-12-29T08:08:51.708Z"
   },
   {
    "duration": 8,
    "start_time": "2022-12-29T08:09:00.559Z"
   },
   {
    "duration": 5,
    "start_time": "2022-12-29T08:09:39.504Z"
   },
   {
    "duration": 5,
    "start_time": "2022-12-29T08:09:52.424Z"
   },
   {
    "duration": 4,
    "start_time": "2022-12-29T08:09:56.806Z"
   },
   {
    "duration": 3,
    "start_time": "2022-12-29T08:10:12.886Z"
   },
   {
    "duration": 4,
    "start_time": "2022-12-29T08:10:15.834Z"
   },
   {
    "duration": 19184,
    "start_time": "2022-12-29T08:10:29.966Z"
   },
   {
    "duration": 11,
    "start_time": "2022-12-29T08:11:23.499Z"
   },
   {
    "duration": 9635,
    "start_time": "2022-12-29T08:12:12.106Z"
   },
   {
    "duration": 14,
    "start_time": "2022-12-29T08:14:57.453Z"
   },
   {
    "duration": 820302,
    "start_time": "2022-12-29T08:15:27.529Z"
   },
   {
    "duration": 4667,
    "start_time": "2022-12-29T08:33:25.755Z"
   },
   {
    "duration": 30599,
    "start_time": "2022-12-29T08:35:07.861Z"
   },
   {
    "duration": 211,
    "start_time": "2022-12-29T08:38:16.466Z"
   },
   {
    "duration": 209,
    "start_time": "2022-12-29T08:39:03.054Z"
   },
   {
    "duration": 209,
    "start_time": "2022-12-29T08:39:46.877Z"
   },
   {
    "duration": 9,
    "start_time": "2022-12-29T08:54:24.520Z"
   },
   {
    "duration": 4,
    "start_time": "2022-12-29T08:54:51.606Z"
   },
   {
    "duration": 58,
    "start_time": "2022-12-29T08:54:55.263Z"
   },
   {
    "duration": 10,
    "start_time": "2022-12-29T08:54:58.468Z"
   },
   {
    "duration": 4,
    "start_time": "2022-12-29T08:55:07.506Z"
   },
   {
    "duration": 9,
    "start_time": "2022-12-29T08:56:05.011Z"
   },
   {
    "duration": 12,
    "start_time": "2022-12-29T08:56:08.705Z"
   },
   {
    "duration": 15,
    "start_time": "2022-12-29T08:56:10.714Z"
   },
   {
    "duration": 15,
    "start_time": "2022-12-29T08:56:24.366Z"
   },
   {
    "duration": 3768,
    "start_time": "2022-12-29T09:01:02.663Z"
   },
   {
    "duration": 40,
    "start_time": "2022-12-29T09:06:59.044Z"
   },
   {
    "duration": 12426,
    "start_time": "2022-12-29T09:07:02.525Z"
   },
   {
    "duration": 4,
    "start_time": "2022-12-29T09:07:38.521Z"
   },
   {
    "duration": 43,
    "start_time": "2022-12-29T09:10:07.316Z"
   },
   {
    "duration": 7218,
    "start_time": "2022-12-29T09:10:29.234Z"
   },
   {
    "duration": 15,
    "start_time": "2022-12-29T09:11:18.778Z"
   },
   {
    "duration": 14,
    "start_time": "2022-12-29T09:13:02.839Z"
   },
   {
    "duration": 79,
    "start_time": "2022-12-29T09:13:22.847Z"
   },
   {
    "duration": 16,
    "start_time": "2022-12-29T09:13:26.917Z"
   },
   {
    "duration": 2463916,
    "start_time": "2022-12-29T09:13:59.313Z"
   },
   {
    "duration": 1877,
    "start_time": "2022-12-29T09:55:15.908Z"
   },
   {
    "duration": 1922,
    "start_time": "2022-12-29T09:55:51.442Z"
   },
   {
    "duration": 114041,
    "start_time": "2022-12-29T09:56:28.727Z"
   },
   {
    "duration": 60,
    "start_time": "2022-12-29T09:58:26.657Z"
   },
   {
    "duration": 4,
    "start_time": "2022-12-29T09:58:29.055Z"
   },
   {
    "duration": 91351,
    "start_time": "2022-12-29T09:58:48.462Z"
   },
   {
    "duration": 289,
    "start_time": "2022-12-29T10:00:55.283Z"
   },
   {
    "duration": 271,
    "start_time": "2022-12-29T10:00:57.668Z"
   },
   {
    "duration": 3,
    "start_time": "2022-12-29T10:01:53.060Z"
   },
   {
    "duration": 4,
    "start_time": "2022-12-29T10:01:55.864Z"
   },
   {
    "duration": 4,
    "start_time": "2022-12-29T10:02:09.610Z"
   },
   {
    "duration": 5,
    "start_time": "2022-12-29T10:02:21.409Z"
   },
   {
    "duration": 4,
    "start_time": "2022-12-29T10:02:27.514Z"
   },
   {
    "duration": 5,
    "start_time": "2022-12-29T10:02:36.529Z"
   },
   {
    "duration": 246,
    "start_time": "2022-12-29T10:02:54.524Z"
   },
   {
    "duration": 239,
    "start_time": "2022-12-29T10:04:04.806Z"
   },
   {
    "duration": 208,
    "start_time": "2022-12-29T10:04:53.716Z"
   },
   {
    "duration": 348,
    "start_time": "2022-12-29T10:04:55.291Z"
   },
   {
    "duration": 224,
    "start_time": "2022-12-29T10:05:08.491Z"
   },
   {
    "duration": 35,
    "start_time": "2022-12-29T10:05:33.664Z"
   },
   {
    "duration": 249,
    "start_time": "2022-12-29T10:06:17.978Z"
   },
   {
    "duration": 238,
    "start_time": "2022-12-29T10:06:33.337Z"
   },
   {
    "duration": 243,
    "start_time": "2022-12-29T10:06:47.309Z"
   },
   {
    "duration": 238,
    "start_time": "2022-12-29T10:06:56.564Z"
   },
   {
    "duration": 245,
    "start_time": "2022-12-29T10:07:03.601Z"
   },
   {
    "duration": 294,
    "start_time": "2022-12-29T10:07:14.252Z"
   },
   {
    "duration": 234,
    "start_time": "2022-12-29T10:07:25.894Z"
   },
   {
    "duration": 251,
    "start_time": "2022-12-29T10:07:44.616Z"
   },
   {
    "duration": 43,
    "start_time": "2022-12-29T10:07:57.607Z"
   },
   {
    "duration": 260,
    "start_time": "2022-12-29T10:08:15.405Z"
   },
   {
    "duration": 39,
    "start_time": "2022-12-29T10:08:25.672Z"
   },
   {
    "duration": 4,
    "start_time": "2022-12-29T10:08:34.538Z"
   },
   {
    "duration": 294,
    "start_time": "2022-12-29T10:08:42.305Z"
   },
   {
    "duration": 228,
    "start_time": "2022-12-29T10:08:49.548Z"
   },
   {
    "duration": 250,
    "start_time": "2022-12-29T10:09:02.619Z"
   },
   {
    "duration": 337,
    "start_time": "2022-12-29T10:09:09.305Z"
   },
   {
    "duration": 245,
    "start_time": "2022-12-29T10:09:18.566Z"
   },
   {
    "duration": 223,
    "start_time": "2022-12-29T10:09:28.321Z"
   },
   {
    "duration": 260,
    "start_time": "2022-12-29T10:09:38.704Z"
   },
   {
    "duration": 255,
    "start_time": "2022-12-29T10:09:54.205Z"
   },
   {
    "duration": 265,
    "start_time": "2022-12-29T10:09:57.605Z"
   },
   {
    "duration": 248,
    "start_time": "2022-12-29T10:10:05.662Z"
   },
   {
    "duration": 241,
    "start_time": "2022-12-29T10:10:10.365Z"
   },
   {
    "duration": 239,
    "start_time": "2022-12-29T10:10:19.709Z"
   },
   {
    "duration": 229,
    "start_time": "2022-12-29T10:10:29.568Z"
   },
   {
    "duration": 10,
    "start_time": "2022-12-29T10:11:21.135Z"
   },
   {
    "duration": 3917,
    "start_time": "2022-12-29T10:11:30.114Z"
   },
   {
    "duration": 329,
    "start_time": "2022-12-29T10:11:38.982Z"
   },
   {
    "duration": 254,
    "start_time": "2022-12-29T10:12:16.748Z"
   },
   {
    "duration": 359,
    "start_time": "2022-12-29T10:12:19.362Z"
   },
   {
    "duration": 655,
    "start_time": "2022-12-29T10:12:24.861Z"
   },
   {
    "duration": 10,
    "start_time": "2022-12-29T10:13:52.125Z"
   },
   {
    "duration": 11,
    "start_time": "2022-12-29T10:13:57.235Z"
   },
   {
    "duration": 477,
    "start_time": "2022-12-29T10:13:59.380Z"
   },
   {
    "duration": 334,
    "start_time": "2022-12-29T10:14:03.221Z"
   },
   {
    "duration": 355,
    "start_time": "2022-12-29T10:14:40.449Z"
   },
   {
    "duration": 11,
    "start_time": "2022-12-29T10:15:07.629Z"
   },
   {
    "duration": 6,
    "start_time": "2022-12-29T10:15:11.607Z"
   },
   {
    "duration": 9,
    "start_time": "2022-12-29T10:15:20.000Z"
   },
   {
    "duration": 13,
    "start_time": "2022-12-29T10:16:12.824Z"
   },
   {
    "duration": 4,
    "start_time": "2022-12-29T10:16:27.193Z"
   },
   {
    "duration": 5,
    "start_time": "2022-12-29T10:16:35.323Z"
   },
   {
    "duration": 10,
    "start_time": "2022-12-29T10:16:42.379Z"
   },
   {
    "duration": 11,
    "start_time": "2022-12-29T10:16:47.156Z"
   },
   {
    "duration": 4,
    "start_time": "2022-12-29T10:16:51.353Z"
   },
   {
    "duration": 6,
    "start_time": "2022-12-29T10:16:57.428Z"
   },
   {
    "duration": 5,
    "start_time": "2022-12-29T10:17:38.346Z"
   },
   {
    "duration": 8,
    "start_time": "2022-12-29T10:17:39.137Z"
   },
   {
    "duration": 298,
    "start_time": "2022-12-29T10:28:44.366Z"
   },
   {
    "duration": 122,
    "start_time": "2022-12-29T10:28:54.397Z"
   },
   {
    "duration": 274,
    "start_time": "2022-12-29T10:28:58.750Z"
   },
   {
    "duration": 268,
    "start_time": "2022-12-29T10:29:01.603Z"
   },
   {
    "duration": 246,
    "start_time": "2022-12-29T10:29:13.129Z"
   },
   {
    "duration": 275,
    "start_time": "2022-12-29T10:29:19.783Z"
   },
   {
    "duration": 256,
    "start_time": "2022-12-29T10:29:29.113Z"
   },
   {
    "duration": 384,
    "start_time": "2022-12-29T10:29:58.754Z"
   },
   {
    "duration": 272,
    "start_time": "2022-12-29T10:30:24.599Z"
   },
   {
    "duration": 1546,
    "start_time": "2023-01-03T14:54:43.972Z"
   },
   {
    "duration": 1324,
    "start_time": "2023-01-03T14:54:50.868Z"
   },
   {
    "duration": 22,
    "start_time": "2023-01-03T14:54:52.484Z"
   },
   {
    "duration": 7,
    "start_time": "2023-01-03T14:54:53.794Z"
   },
   {
    "duration": 164,
    "start_time": "2023-01-03T14:54:57.375Z"
   },
   {
    "duration": 707,
    "start_time": "2023-01-03T14:54:58.453Z"
   },
   {
    "duration": 4,
    "start_time": "2023-01-03T14:55:03.192Z"
   },
   {
    "duration": 9075,
    "start_time": "2023-01-03T14:55:04.691Z"
   },
   {
    "duration": 1415,
    "start_time": "2023-01-03T14:55:13.768Z"
   },
   {
    "duration": 136,
    "start_time": "2023-01-03T14:55:20.751Z"
   },
   {
    "duration": 449,
    "start_time": "2023-01-03T14:55:22.958Z"
   },
   {
    "duration": 4,
    "start_time": "2023-01-03T14:55:23.409Z"
   },
   {
    "duration": 520,
    "start_time": "2023-01-03T14:55:31.109Z"
   },
   {
    "duration": 566,
    "start_time": "2023-01-03T14:55:33.395Z"
   },
   {
    "duration": 24,
    "start_time": "2023-01-03T14:55:41.494Z"
   },
   {
    "duration": 16962,
    "start_time": "2023-01-03T14:55:42.099Z"
   },
   {
    "duration": 4157,
    "start_time": "2023-01-03T14:55:59.064Z"
   },
   {
    "duration": 6099,
    "start_time": "2023-01-03T14:56:03.224Z"
   },
   {
    "duration": 4083,
    "start_time": "2023-01-03T14:56:09.326Z"
   },
   {
    "duration": 51,
    "start_time": "2023-01-03T14:56:13.412Z"
   },
   {
    "duration": 33,
    "start_time": "2023-01-03T14:56:13.465Z"
   },
   {
    "duration": 100,
    "start_time": "2023-01-03T14:56:13.500Z"
   },
   {
    "duration": 152,
    "start_time": "2023-01-03T14:56:13.601Z"
   },
   {
    "duration": 4,
    "start_time": "2023-01-03T14:56:13.754Z"
   },
   {
    "duration": 102,
    "start_time": "2023-01-03T14:56:13.760Z"
   },
   {
    "duration": 81,
    "start_time": "2023-01-03T14:56:13.864Z"
   },
   {
    "duration": 98,
    "start_time": "2023-01-03T14:56:16.902Z"
   },
   {
    "duration": 23,
    "start_time": "2023-01-03T14:56:27.723Z"
   },
   {
    "duration": 641,
    "start_time": "2023-01-03T14:56:37.890Z"
   },
   {
    "duration": 5,
    "start_time": "2023-01-03T14:56:42.374Z"
   },
   {
    "duration": 105,
    "start_time": "2023-01-03T14:56:44.455Z"
   },
   {
    "duration": 82,
    "start_time": "2023-01-03T14:56:50.877Z"
   },
   {
    "duration": 8608,
    "start_time": "2023-01-03T14:56:51.942Z"
   },
   {
    "duration": 104,
    "start_time": "2023-01-03T14:57:00.552Z"
   },
   {
    "duration": 78,
    "start_time": "2023-01-03T14:57:00.658Z"
   },
   {
    "duration": 8026,
    "start_time": "2023-01-03T14:57:00.747Z"
   },
   {
    "duration": 11,
    "start_time": "2023-01-03T14:57:08.776Z"
   },
   {
    "duration": 57,
    "start_time": "2023-01-03T14:57:08.789Z"
   },
   {
    "duration": 7,
    "start_time": "2023-01-03T14:58:04.196Z"
   },
   {
    "duration": 5,
    "start_time": "2023-01-03T14:58:16.367Z"
   },
   {
    "duration": 7,
    "start_time": "2023-01-03T14:58:23.146Z"
   },
   {
    "duration": 6,
    "start_time": "2023-01-03T14:58:31.828Z"
   },
   {
    "duration": 35,
    "start_time": "2023-01-03T15:01:47.393Z"
   },
   {
    "duration": 3,
    "start_time": "2023-01-03T15:01:48.630Z"
   },
   {
    "duration": 500,
    "start_time": "2023-01-03T15:02:04.828Z"
   },
   {
    "duration": 45,
    "start_time": "2023-01-03T15:04:10.626Z"
   },
   {
    "duration": 2,
    "start_time": "2023-01-03T15:04:24.886Z"
   },
   {
    "duration": 793,
    "start_time": "2023-01-03T15:36:59.434Z"
   },
   {
    "duration": 202,
    "start_time": "2023-01-03T15:37:01.777Z"
   },
   {
    "duration": 333,
    "start_time": "2023-01-03T15:37:02.452Z"
   },
   {
    "duration": 3,
    "start_time": "2023-01-03T15:37:04.168Z"
   },
   {
    "duration": 428,
    "start_time": "2023-01-03T15:37:04.570Z"
   },
   {
    "duration": 45,
    "start_time": "2023-01-03T15:37:05.770Z"
   },
   {
    "duration": 326,
    "start_time": "2023-01-03T15:37:12.356Z"
   },
   {
    "duration": 445,
    "start_time": "2023-01-03T15:37:17.236Z"
   },
   {
    "duration": 856,
    "start_time": "2023-01-03T15:37:36.274Z"
   },
   {
    "duration": 80,
    "start_time": "2023-01-03T15:37:43.308Z"
   },
   {
    "duration": 4,
    "start_time": "2023-01-03T15:37:44.574Z"
   },
   {
    "duration": 53,
    "start_time": "2023-01-03T15:37:47.949Z"
   },
   {
    "duration": 3,
    "start_time": "2023-01-03T15:37:48.712Z"
   },
   {
    "duration": 510,
    "start_time": "2023-01-03T15:37:49.621Z"
   },
   {
    "duration": 720,
    "start_time": "2023-01-03T15:37:53.721Z"
   },
   {
    "duration": 198,
    "start_time": "2023-01-03T15:37:55.215Z"
   },
   {
    "duration": 297,
    "start_time": "2023-01-03T15:37:55.430Z"
   },
   {
    "duration": 5,
    "start_time": "2023-01-03T15:37:56.094Z"
   },
   {
    "duration": 427,
    "start_time": "2023-01-03T15:37:56.329Z"
   },
   {
    "duration": 44,
    "start_time": "2023-01-03T15:37:57.490Z"
   },
   {
    "duration": 252,
    "start_time": "2023-01-03T15:37:58.252Z"
   },
   {
    "duration": 22382,
    "start_time": "2023-01-03T15:38:00.454Z"
   },
   {
    "duration": 11,
    "start_time": "2023-01-03T15:39:18.126Z"
   },
   {
    "duration": 16,
    "start_time": "2023-01-03T15:40:54.823Z"
   },
   {
    "duration": 9,
    "start_time": "2023-01-03T15:41:09.690Z"
   },
   {
    "duration": 15,
    "start_time": "2023-01-03T15:43:11.974Z"
   },
   {
    "duration": 9,
    "start_time": "2023-01-03T15:44:15.861Z"
   },
   {
    "duration": 93099,
    "start_time": "2023-01-03T15:45:01.140Z"
   },
   {
    "duration": 10,
    "start_time": "2023-01-03T15:46:41.870Z"
   },
   {
    "duration": 5,
    "start_time": "2023-01-03T15:47:16.375Z"
   },
   {
    "duration": 4,
    "start_time": "2023-01-03T15:48:25.478Z"
   },
   {
    "duration": 4,
    "start_time": "2023-01-03T15:49:35.230Z"
   },
   {
    "duration": 9,
    "start_time": "2023-01-03T15:52:41.292Z"
   },
   {
    "duration": 22180,
    "start_time": "2023-01-03T15:52:58.468Z"
   },
   {
    "duration": 486,
    "start_time": "2023-01-03T15:53:20.651Z"
   },
   {
    "duration": 4,
    "start_time": "2023-01-03T15:55:40.857Z"
   },
   {
    "duration": 4,
    "start_time": "2023-01-03T15:56:38.765Z"
   },
   {
    "duration": 765,
    "start_time": "2023-01-03T15:56:39.599Z"
   },
   {
    "duration": 14,
    "start_time": "2023-01-03T15:56:40.365Z"
   },
   {
    "duration": 23,
    "start_time": "2023-01-03T15:56:40.380Z"
   },
   {
    "duration": 128,
    "start_time": "2023-01-03T15:56:41.024Z"
   },
   {
    "duration": 636,
    "start_time": "2023-01-03T15:56:41.658Z"
   },
   {
    "duration": 4,
    "start_time": "2023-01-03T15:56:45.025Z"
   },
   {
    "duration": 131,
    "start_time": "2023-01-03T15:56:50.437Z"
   },
   {
    "duration": 420,
    "start_time": "2023-01-03T15:56:50.676Z"
   },
   {
    "duration": 4,
    "start_time": "2023-01-03T15:56:51.657Z"
   },
   {
    "duration": 411,
    "start_time": "2023-01-03T15:56:51.942Z"
   },
   {
    "duration": 420,
    "start_time": "2023-01-03T15:56:52.865Z"
   },
   {
    "duration": 22,
    "start_time": "2023-01-03T15:56:53.523Z"
   },
   {
    "duration": 15710,
    "start_time": "2023-01-03T15:56:54.057Z"
   },
   {
    "duration": 3645,
    "start_time": "2023-01-03T15:57:09.769Z"
   },
   {
    "duration": 5710,
    "start_time": "2023-01-03T15:57:13.416Z"
   },
   {
    "duration": 3953,
    "start_time": "2023-01-03T15:57:19.129Z"
   },
   {
    "duration": 26,
    "start_time": "2023-01-03T15:57:23.084Z"
   },
   {
    "duration": 40,
    "start_time": "2023-01-03T15:57:23.111Z"
   },
   {
    "duration": 97,
    "start_time": "2023-01-03T15:57:23.153Z"
   },
   {
    "duration": 113,
    "start_time": "2023-01-03T15:57:23.252Z"
   },
   {
    "duration": 3,
    "start_time": "2023-01-03T15:57:23.367Z"
   },
   {
    "duration": 81,
    "start_time": "2023-01-03T15:57:23.372Z"
   },
   {
    "duration": 51,
    "start_time": "2023-01-03T15:57:23.454Z"
   },
   {
    "duration": 106,
    "start_time": "2023-01-03T15:57:23.507Z"
   },
   {
    "duration": 31,
    "start_time": "2023-01-03T15:57:23.614Z"
   },
   {
    "duration": 5,
    "start_time": "2023-01-03T15:57:23.647Z"
   },
   {
    "duration": 114,
    "start_time": "2023-01-03T15:57:23.653Z"
   },
   {
    "duration": 70,
    "start_time": "2023-01-03T15:57:23.769Z"
   },
   {
    "duration": 7761,
    "start_time": "2023-01-03T15:57:23.841Z"
   },
   {
    "duration": 101,
    "start_time": "2023-01-03T15:57:31.603Z"
   },
   {
    "duration": 73,
    "start_time": "2023-01-03T15:57:31.706Z"
   },
   {
    "duration": 7625,
    "start_time": "2023-01-03T15:57:31.781Z"
   },
   {
    "duration": 10,
    "start_time": "2023-01-03T15:57:39.408Z"
   },
   {
    "duration": 47,
    "start_time": "2023-01-03T15:57:39.420Z"
   },
   {
    "duration": 97,
    "start_time": "2023-01-03T15:57:39.468Z"
   },
   {
    "duration": 7,
    "start_time": "2023-01-03T15:57:39.567Z"
   },
   {
    "duration": 47,
    "start_time": "2023-01-03T15:57:39.575Z"
   },
   {
    "duration": 3,
    "start_time": "2023-01-03T15:57:39.624Z"
   },
   {
    "duration": 586,
    "start_time": "2023-01-03T15:57:39.636Z"
   },
   {
    "duration": 724,
    "start_time": "2023-01-03T15:57:45.143Z"
   },
   {
    "duration": 202,
    "start_time": "2023-01-03T15:57:46.474Z"
   },
   {
    "duration": 322,
    "start_time": "2023-01-03T15:57:46.685Z"
   },
   {
    "duration": 3,
    "start_time": "2023-01-03T15:57:47.770Z"
   },
   {
    "duration": 473,
    "start_time": "2023-01-03T15:57:48.862Z"
   },
   {
    "duration": 44,
    "start_time": "2023-01-03T15:57:50.086Z"
   },
   {
    "duration": 256,
    "start_time": "2023-01-03T15:57:50.951Z"
   },
   {
    "duration": 103087,
    "start_time": "2023-01-03T15:58:10.054Z"
   },
   {
    "duration": 24129,
    "start_time": "2023-01-03T16:00:08.813Z"
   },
   {
    "duration": 493,
    "start_time": "2023-01-03T16:00:32.944Z"
   },
   {
    "duration": 95,
    "start_time": "2023-01-03T16:00:33.439Z"
   },
   {
    "duration": 32,
    "start_time": "2023-01-03T16:03:58.309Z"
   },
   {
    "duration": 25,
    "start_time": "2023-01-03T16:04:02.828Z"
   },
   {
    "duration": 108493,
    "start_time": "2023-01-03T16:04:10.651Z"
   },
   {
    "duration": 27347,
    "start_time": "2023-01-03T16:06:07.389Z"
   },
   {
    "duration": 405,
    "start_time": "2023-01-03T16:06:34.738Z"
   },
   {
    "duration": 92,
    "start_time": "2023-01-03T16:06:35.145Z"
   },
   {
    "duration": 170969,
    "start_time": "2023-01-03T16:06:47.479Z"
   },
   {
    "duration": 30294,
    "start_time": "2023-01-03T16:09:38.450Z"
   },
   {
    "duration": 495,
    "start_time": "2023-01-03T16:10:08.748Z"
   },
   {
    "duration": 93,
    "start_time": "2023-01-03T16:10:09.246Z"
   },
   {
    "duration": 4,
    "start_time": "2023-01-03T16:12:18.870Z"
   },
   {
    "duration": 421,
    "start_time": "2023-01-03T16:13:30.417Z"
   },
   {
    "duration": 30,
    "start_time": "2023-01-03T16:13:47.674Z"
   },
   {
    "duration": 446,
    "start_time": "2023-01-03T16:13:54.390Z"
   },
   {
    "duration": 462,
    "start_time": "2023-01-03T16:14:10.277Z"
   },
   {
    "duration": 419,
    "start_time": "2023-01-03T16:14:14.822Z"
   },
   {
    "duration": 4,
    "start_time": "2023-01-03T16:14:15.842Z"
   },
   {
    "duration": 423,
    "start_time": "2023-01-03T16:14:17.420Z"
   },
   {
    "duration": 340,
    "start_time": "2023-01-03T16:14:20.310Z"
   },
   {
    "duration": 3,
    "start_time": "2023-01-03T16:14:23.770Z"
   },
   {
    "duration": 447,
    "start_time": "2023-01-03T16:14:25.092Z"
   },
   {
    "duration": 425,
    "start_time": "2023-01-03T16:14:26.611Z"
   },
   {
    "duration": 487,
    "start_time": "2023-01-03T16:14:31.482Z"
   },
   {
    "duration": 523,
    "start_time": "2023-01-03T16:14:35.317Z"
   },
   {
    "duration": 402,
    "start_time": "2023-01-03T16:14:38.435Z"
   },
   {
    "duration": 18994,
    "start_time": "2023-01-03T16:16:21.078Z"
   },
   {
    "duration": 19255,
    "start_time": "2023-01-03T16:17:28.052Z"
   },
   {
    "duration": 484,
    "start_time": "2023-01-03T16:18:57.007Z"
   },
   {
    "duration": 21,
    "start_time": "2023-01-03T16:19:11.251Z"
   },
   {
    "duration": 6,
    "start_time": "2023-01-03T16:19:13.881Z"
   },
   {
    "duration": 462,
    "start_time": "2023-01-03T16:19:44.739Z"
   },
   {
    "duration": 3,
    "start_time": "2023-01-03T16:19:47.450Z"
   },
   {
    "duration": 537,
    "start_time": "2023-01-03T16:20:13.900Z"
   },
   {
    "duration": 4,
    "start_time": "2023-01-03T16:20:15.390Z"
   },
   {
    "duration": 4,
    "start_time": "2023-01-03T16:20:17.118Z"
   },
   {
    "duration": 4,
    "start_time": "2023-01-03T16:20:18.453Z"
   },
   {
    "duration": 526,
    "start_time": "2023-01-03T16:20:20.526Z"
   },
   {
    "duration": 5,
    "start_time": "2023-01-03T16:20:22.271Z"
   },
   {
    "duration": 468,
    "start_time": "2023-01-03T16:20:55.268Z"
   },
   {
    "duration": 20863,
    "start_time": "2023-01-03T16:22:19.492Z"
   },
   {
    "duration": 8,
    "start_time": "2023-01-03T16:22:44.022Z"
   },
   {
    "duration": 9,
    "start_time": "2023-01-03T16:23:15.586Z"
   },
   {
    "duration": 8,
    "start_time": "2023-01-03T16:31:08.849Z"
   },
   {
    "duration": 9,
    "start_time": "2023-01-03T16:31:26.191Z"
   },
   {
    "duration": 9,
    "start_time": "2023-01-03T16:31:31.933Z"
   },
   {
    "duration": 8,
    "start_time": "2023-01-03T16:31:36.390Z"
   },
   {
    "duration": 25,
    "start_time": "2023-01-03T16:31:51.547Z"
   },
   {
    "duration": 773,
    "start_time": "2023-01-03T16:33:27.316Z"
   },
   {
    "duration": 25,
    "start_time": "2023-01-03T16:33:31.061Z"
   },
   {
    "duration": 6,
    "start_time": "2023-01-03T16:36:20.489Z"
   },
   {
    "duration": 24,
    "start_time": "2023-01-03T16:36:26.071Z"
   },
   {
    "duration": 868,
    "start_time": "2023-01-03T16:36:39.302Z"
   },
   {
    "duration": 3,
    "start_time": "2023-01-03T16:36:47.383Z"
   },
   {
    "duration": 23,
    "start_time": "2023-01-03T16:36:49.702Z"
   },
   {
    "duration": 8,
    "start_time": "2023-01-03T16:37:41.534Z"
   },
   {
    "duration": 4,
    "start_time": "2023-01-03T16:37:59.406Z"
   },
   {
    "duration": 4,
    "start_time": "2023-01-03T16:38:05.527Z"
   },
   {
    "duration": 4,
    "start_time": "2023-01-03T16:38:24.093Z"
   },
   {
    "duration": 5,
    "start_time": "2023-01-03T16:38:30.777Z"
   },
   {
    "duration": 4,
    "start_time": "2023-01-03T16:38:39.113Z"
   },
   {
    "duration": 19406,
    "start_time": "2023-01-03T16:39:38.305Z"
   },
   {
    "duration": 4,
    "start_time": "2023-01-03T16:40:45.081Z"
   },
   {
    "duration": 4,
    "start_time": "2023-01-03T16:40:45.878Z"
   },
   {
    "duration": 19380,
    "start_time": "2023-01-03T16:41:18.372Z"
   },
   {
    "duration": 21629,
    "start_time": "2023-01-03T16:41:59.559Z"
   },
   {
    "duration": 385,
    "start_time": "2023-01-03T16:50:22.956Z"
   },
   {
    "duration": 22069,
    "start_time": "2023-01-03T16:50:25.874Z"
   },
   {
    "duration": 3,
    "start_time": "2023-01-03T16:56:09.360Z"
   },
   {
    "duration": 3,
    "start_time": "2023-01-03T16:56:09.688Z"
   },
   {
    "duration": 2922785,
    "start_time": "2023-01-03T16:56:23.439Z"
   },
   {
    "duration": 10,
    "start_time": "2023-01-03T17:45:06.226Z"
   },
   {
    "duration": 15,
    "start_time": "2023-01-03T17:45:06.237Z"
   },
   {
    "duration": 1110182,
    "start_time": "2023-01-03T17:45:06.254Z"
   },
   {
    "duration": 3,
    "start_time": "2023-01-03T18:03:36.437Z"
   },
   {
    "duration": 38,
    "start_time": "2023-01-03T18:03:36.442Z"
   },
   {
    "duration": 4158,
    "start_time": "2023-01-03T18:03:36.481Z"
   },
   {
    "duration": 14,
    "start_time": "2023-01-03T18:03:40.641Z"
   },
   {
    "duration": 113,
    "start_time": "2023-01-03T18:03:40.657Z"
   },
   {
    "duration": 2592526,
    "start_time": "2023-01-03T18:03:40.772Z"
   },
   {
    "duration": 2,
    "start_time": "2023-01-03T18:46:53.300Z"
   },
   {
    "duration": 16,
    "start_time": "2023-01-03T18:46:53.304Z"
   },
   {
    "duration": 97278,
    "start_time": "2023-01-03T18:46:53.322Z"
   },
   {
    "duration": 312,
    "start_time": "2023-01-03T18:48:30.602Z"
   },
   {
    "duration": 280,
    "start_time": "2023-01-03T18:48:30.916Z"
   },
   {
    "duration": 12,
    "start_time": "2023-01-03T18:48:31.197Z"
   },
   {
    "duration": 0,
    "start_time": "2023-01-03T18:48:31.210Z"
   },
   {
    "duration": 7,
    "start_time": "2023-01-03T18:49:36.758Z"
   },
   {
    "duration": 10,
    "start_time": "2023-01-03T18:49:40.149Z"
   },
   {
    "duration": 4,
    "start_time": "2023-01-03T18:50:11.024Z"
   },
   {
    "duration": 6,
    "start_time": "2023-01-03T18:50:13.392Z"
   },
   {
    "duration": 10,
    "start_time": "2023-01-03T18:50:14.421Z"
   },
   {
    "duration": 6,
    "start_time": "2023-01-03T18:53:30.516Z"
   },
   {
    "duration": 4,
    "start_time": "2023-01-03T18:53:47.038Z"
   },
   {
    "duration": 6,
    "start_time": "2023-01-03T18:53:57.463Z"
   },
   {
    "duration": 10,
    "start_time": "2023-01-03T18:54:46.942Z"
   },
   {
    "duration": 4,
    "start_time": "2023-01-03T18:56:52.152Z"
   },
   {
    "duration": 10,
    "start_time": "2023-01-03T18:56:58.428Z"
   },
   {
    "duration": 20242,
    "start_time": "2023-01-03T18:57:23.878Z"
   },
   {
    "duration": 21058,
    "start_time": "2023-01-03T18:57:57.574Z"
   },
   {
    "duration": 20309,
    "start_time": "2023-01-03T18:58:33.669Z"
   },
   {
    "duration": 20769,
    "start_time": "2023-01-03T18:59:00.520Z"
   },
   {
    "duration": 14,
    "start_time": "2023-01-03T18:59:22.532Z"
   },
   {
    "duration": 9,
    "start_time": "2023-01-03T18:59:34.093Z"
   },
   {
    "duration": 5,
    "start_time": "2023-01-03T18:59:35.960Z"
   },
   {
    "duration": 5,
    "start_time": "2023-01-03T18:59:45.948Z"
   },
   {
    "duration": 9,
    "start_time": "2023-01-03T19:00:26.555Z"
   },
   {
    "duration": 4,
    "start_time": "2023-01-03T19:01:33.189Z"
   },
   {
    "duration": 8,
    "start_time": "2023-01-03T19:01:52.460Z"
   },
   {
    "duration": 19833,
    "start_time": "2023-01-03T19:04:08.794Z"
   },
   {
    "duration": 6,
    "start_time": "2023-01-03T19:05:13.550Z"
   },
   {
    "duration": 10,
    "start_time": "2023-01-03T19:05:14.712Z"
   },
   {
    "duration": 5,
    "start_time": "2023-01-03T19:05:16.297Z"
   },
   {
    "duration": 16,
    "start_time": "2023-01-03T19:05:16.712Z"
   },
   {
    "duration": 20560,
    "start_time": "2023-01-03T19:05:52.478Z"
   },
   {
    "duration": 2,
    "start_time": "2023-01-03T19:06:13.041Z"
   },
   {
    "duration": 11,
    "start_time": "2023-01-03T19:06:13.045Z"
   },
   {
    "duration": 19109,
    "start_time": "2023-01-03T19:06:19.642Z"
   },
   {
    "duration": 6,
    "start_time": "2023-01-03T19:06:47.469Z"
   },
   {
    "duration": 10,
    "start_time": "2023-01-03T19:06:48.537Z"
   },
   {
    "duration": 1451,
    "start_time": "2023-01-03T19:17:22.710Z"
   },
   {
    "duration": 884,
    "start_time": "2023-01-03T19:17:24.164Z"
   },
   {
    "duration": 18,
    "start_time": "2023-01-03T19:17:25.049Z"
   },
   {
    "duration": 15,
    "start_time": "2023-01-03T19:17:25.069Z"
   },
   {
    "duration": 184,
    "start_time": "2023-01-03T19:17:25.086Z"
   },
   {
    "duration": 631,
    "start_time": "2023-01-03T19:17:25.272Z"
   },
   {
    "duration": 5,
    "start_time": "2023-01-03T19:17:25.905Z"
   },
   {
    "duration": 7846,
    "start_time": "2023-01-03T19:17:25.912Z"
   },
   {
    "duration": 1120,
    "start_time": "2023-01-03T19:17:33.759Z"
   },
   {
    "duration": 131,
    "start_time": "2023-01-03T19:17:34.881Z"
   },
   {
    "duration": 426,
    "start_time": "2023-01-03T19:17:35.014Z"
   },
   {
    "duration": 5,
    "start_time": "2023-01-03T19:17:35.442Z"
   },
   {
    "duration": 524,
    "start_time": "2023-01-03T19:17:35.448Z"
   },
   {
    "duration": 552,
    "start_time": "2023-01-03T19:17:35.977Z"
   },
   {
    "duration": 25,
    "start_time": "2023-01-03T19:17:36.531Z"
   },
   {
    "duration": 16816,
    "start_time": "2023-01-03T19:17:36.558Z"
   },
   {
    "duration": 3925,
    "start_time": "2023-01-03T19:17:53.376Z"
   },
   {
    "duration": 6972,
    "start_time": "2023-01-03T19:17:57.303Z"
   },
   {
    "duration": 3781,
    "start_time": "2023-01-03T19:18:04.277Z"
   },
   {
    "duration": 38,
    "start_time": "2023-01-03T19:18:08.061Z"
   },
   {
    "duration": 71,
    "start_time": "2023-01-03T19:18:08.101Z"
   },
   {
    "duration": 86,
    "start_time": "2023-01-03T19:18:08.173Z"
   },
   {
    "duration": 175,
    "start_time": "2023-01-03T19:18:08.261Z"
   },
   {
    "duration": 3,
    "start_time": "2023-01-03T19:18:08.438Z"
   },
   {
    "duration": 207,
    "start_time": "2023-01-03T19:18:08.443Z"
   },
   {
    "duration": 126,
    "start_time": "2023-01-03T19:18:08.652Z"
   },
   {
    "duration": 256,
    "start_time": "2023-01-03T19:18:08.780Z"
   },
   {
    "duration": 20,
    "start_time": "2023-01-03T19:18:09.038Z"
   },
   {
    "duration": 1133,
    "start_time": "2023-01-03T19:18:09.059Z"
   },
   {
    "duration": 5,
    "start_time": "2023-01-03T19:18:10.234Z"
   },
   {
    "duration": 137,
    "start_time": "2023-01-03T19:18:10.241Z"
   },
   {
    "duration": 80,
    "start_time": "2023-01-03T19:18:10.380Z"
   },
   {
    "duration": 8313,
    "start_time": "2023-01-03T19:18:10.462Z"
   },
   {
    "duration": 107,
    "start_time": "2023-01-03T19:18:18.777Z"
   },
   {
    "duration": 73,
    "start_time": "2023-01-03T19:18:18.886Z"
   },
   {
    "duration": 7136,
    "start_time": "2023-01-03T19:18:18.961Z"
   },
   {
    "duration": 9,
    "start_time": "2023-01-03T19:18:26.100Z"
   },
   {
    "duration": 51,
    "start_time": "2023-01-03T19:18:26.111Z"
   },
   {
    "duration": 89,
    "start_time": "2023-01-03T19:18:26.164Z"
   },
   {
    "duration": 6,
    "start_time": "2023-01-03T19:18:26.255Z"
   },
   {
    "duration": 75,
    "start_time": "2023-01-03T19:18:26.265Z"
   },
   {
    "duration": 4,
    "start_time": "2023-01-03T19:18:26.342Z"
   },
   {
    "duration": 496,
    "start_time": "2023-01-03T19:18:26.347Z"
   },
   {
    "duration": 673,
    "start_time": "2023-01-03T19:18:26.845Z"
   },
   {
    "duration": 206,
    "start_time": "2023-01-03T19:18:27.520Z"
   },
   {
    "duration": 299,
    "start_time": "2023-01-03T19:18:27.727Z"
   },
   {
    "duration": 7,
    "start_time": "2023-01-03T19:18:28.029Z"
   },
   {
    "duration": 403,
    "start_time": "2023-01-03T19:18:28.037Z"
   },
   {
    "duration": 42,
    "start_time": "2023-01-03T19:18:28.442Z"
   },
   {
    "duration": 352,
    "start_time": "2023-01-03T19:18:28.486Z"
   },
   {
    "duration": 3,
    "start_time": "2023-01-03T19:18:28.840Z"
   },
   {
    "duration": 158,
    "start_time": "2023-01-03T19:18:28.845Z"
   },
   {
    "duration": 64,
    "start_time": "2023-01-03T19:18:29.005Z"
   },
   {
    "duration": 47,
    "start_time": "2023-01-03T19:18:29.071Z"
   },
   {
    "duration": 9,
    "start_time": "2023-01-03T19:18:29.120Z"
   },
   {
    "duration": 0,
    "start_time": "2023-01-03T19:18:29.131Z"
   },
   {
    "duration": 0,
    "start_time": "2023-01-03T19:18:29.132Z"
   },
   {
    "duration": 0,
    "start_time": "2023-01-03T19:18:29.133Z"
   },
   {
    "duration": 0,
    "start_time": "2023-01-03T19:18:29.134Z"
   },
   {
    "duration": 0,
    "start_time": "2023-01-03T19:18:29.135Z"
   },
   {
    "duration": 0,
    "start_time": "2023-01-03T19:18:29.136Z"
   },
   {
    "duration": 0,
    "start_time": "2023-01-03T19:18:29.137Z"
   },
   {
    "duration": 0,
    "start_time": "2023-01-03T19:18:29.138Z"
   },
   {
    "duration": 0,
    "start_time": "2023-01-03T19:18:29.139Z"
   },
   {
    "duration": 0,
    "start_time": "2023-01-03T19:18:29.140Z"
   },
   {
    "duration": 0,
    "start_time": "2023-01-03T19:18:29.141Z"
   },
   {
    "duration": 0,
    "start_time": "2023-01-03T19:18:29.141Z"
   },
   {
    "duration": 1,
    "start_time": "2023-01-03T19:18:29.142Z"
   },
   {
    "duration": 0,
    "start_time": "2023-01-03T19:18:29.144Z"
   },
   {
    "duration": 0,
    "start_time": "2023-01-03T19:18:29.145Z"
   },
   {
    "duration": 0,
    "start_time": "2023-01-03T19:18:29.146Z"
   },
   {
    "duration": 0,
    "start_time": "2023-01-03T19:18:29.147Z"
   },
   {
    "duration": 0,
    "start_time": "2023-01-03T19:18:29.148Z"
   },
   {
    "duration": 0,
    "start_time": "2023-01-03T19:18:29.149Z"
   },
   {
    "duration": 0,
    "start_time": "2023-01-03T19:18:29.149Z"
   },
   {
    "duration": 3,
    "start_time": "2023-01-03T19:20:43.197Z"
   },
   {
    "duration": 144736,
    "start_time": "2023-01-03T19:20:44.501Z"
   },
   {
    "duration": 30903,
    "start_time": "2023-01-03T19:23:09.240Z"
   },
   {
    "duration": 489,
    "start_time": "2023-01-03T19:23:40.146Z"
   },
   {
    "duration": 5,
    "start_time": "2023-01-03T19:23:40.638Z"
   },
   {
    "duration": 19648,
    "start_time": "2023-01-03T19:23:59.041Z"
   },
   {
    "duration": 3,
    "start_time": "2023-01-03T19:24:18.692Z"
   },
   {
    "duration": 15,
    "start_time": "2023-01-03T19:24:18.696Z"
   },
   {
    "duration": 1115849,
    "start_time": "2023-01-03T19:24:18.713Z"
   },
   {
    "duration": 3,
    "start_time": "2023-01-03T19:42:54.564Z"
   },
   {
    "duration": 17,
    "start_time": "2023-01-03T19:42:54.569Z"
   },
   {
    "duration": 5933368,
    "start_time": "2023-01-03T19:42:54.587Z"
   },
   {
    "duration": 0,
    "start_time": "2023-01-03T21:21:47.957Z"
   },
   {
    "duration": 0,
    "start_time": "2023-01-03T21:21:47.958Z"
   },
   {
    "duration": 0,
    "start_time": "2023-01-03T21:21:47.959Z"
   },
   {
    "duration": 0,
    "start_time": "2023-01-03T21:21:47.960Z"
   },
   {
    "duration": 0,
    "start_time": "2023-01-03T21:21:47.961Z"
   },
   {
    "duration": 0,
    "start_time": "2023-01-03T21:21:47.962Z"
   },
   {
    "duration": 0,
    "start_time": "2023-01-03T21:21:47.964Z"
   },
   {
    "duration": 0,
    "start_time": "2023-01-03T21:21:47.965Z"
   },
   {
    "duration": 0,
    "start_time": "2023-01-03T21:21:47.967Z"
   },
   {
    "duration": 0,
    "start_time": "2023-01-03T21:21:47.968Z"
   },
   {
    "duration": 0,
    "start_time": "2023-01-03T21:21:47.969Z"
   },
   {
    "duration": 0,
    "start_time": "2023-01-03T21:21:47.970Z"
   },
   {
    "duration": 0,
    "start_time": "2023-01-03T21:21:47.971Z"
   },
   {
    "duration": 1889,
    "start_time": "2023-01-04T15:25:09.551Z"
   },
   {
    "duration": 3096,
    "start_time": "2023-01-04T15:25:11.443Z"
   },
   {
    "duration": 19,
    "start_time": "2023-01-04T15:25:14.541Z"
   },
   {
    "duration": 8,
    "start_time": "2023-01-04T15:25:14.562Z"
   },
   {
    "duration": 158,
    "start_time": "2023-01-04T15:25:14.572Z"
   },
   {
    "duration": 730,
    "start_time": "2023-01-04T15:25:14.732Z"
   },
   {
    "duration": 6,
    "start_time": "2023-01-04T15:25:15.465Z"
   },
   {
    "duration": 8629,
    "start_time": "2023-01-04T15:25:15.474Z"
   },
   {
    "duration": 1307,
    "start_time": "2023-01-04T15:25:24.106Z"
   },
   {
    "duration": 142,
    "start_time": "2023-01-04T15:25:25.416Z"
   },
   {
    "duration": 456,
    "start_time": "2023-01-04T15:25:25.560Z"
   },
   {
    "duration": 5,
    "start_time": "2023-01-04T15:25:26.019Z"
   },
   {
    "duration": 539,
    "start_time": "2023-01-04T15:25:26.026Z"
   },
   {
    "duration": 596,
    "start_time": "2023-01-04T15:25:26.566Z"
   },
   {
    "duration": 27,
    "start_time": "2023-01-04T15:25:27.165Z"
   },
   {
    "duration": 18061,
    "start_time": "2023-01-04T15:25:27.195Z"
   },
   {
    "duration": 4360,
    "start_time": "2023-01-04T15:25:45.259Z"
   },
   {
    "duration": 6301,
    "start_time": "2023-01-04T15:25:49.622Z"
   },
   {
    "duration": 4321,
    "start_time": "2023-01-04T15:25:55.926Z"
   },
   {
    "duration": 54,
    "start_time": "2023-01-04T15:26:00.250Z"
   },
   {
    "duration": 67,
    "start_time": "2023-01-04T15:26:00.306Z"
   },
   {
    "duration": 117,
    "start_time": "2023-01-04T15:26:00.376Z"
   },
   {
    "duration": 156,
    "start_time": "2023-01-04T15:26:00.495Z"
   },
   {
    "duration": 5,
    "start_time": "2023-01-04T15:26:00.654Z"
   },
   {
    "duration": 109,
    "start_time": "2023-01-04T15:26:00.661Z"
   },
   {
    "duration": 86,
    "start_time": "2023-01-04T15:26:00.772Z"
   },
   {
    "duration": 129,
    "start_time": "2023-01-04T15:26:00.860Z"
   },
   {
    "duration": 24,
    "start_time": "2023-01-04T15:26:00.996Z"
   },
   {
    "duration": 694,
    "start_time": "2023-01-04T15:26:01.023Z"
   },
   {
    "duration": 5,
    "start_time": "2023-01-04T15:26:01.720Z"
   },
   {
    "duration": 144,
    "start_time": "2023-01-04T15:26:01.727Z"
   },
   {
    "duration": 103,
    "start_time": "2023-01-04T15:26:01.873Z"
   },
   {
    "duration": 8971,
    "start_time": "2023-01-04T15:26:01.979Z"
   },
   {
    "duration": 123,
    "start_time": "2023-01-04T15:26:10.953Z"
   },
   {
    "duration": 87,
    "start_time": "2023-01-04T15:26:11.078Z"
   },
   {
    "duration": 8301,
    "start_time": "2023-01-04T15:26:11.167Z"
   },
   {
    "duration": 14,
    "start_time": "2023-01-04T15:26:19.471Z"
   },
   {
    "duration": 62,
    "start_time": "2023-01-04T15:26:19.489Z"
   },
   {
    "duration": 115,
    "start_time": "2023-01-04T15:26:19.553Z"
   },
   {
    "duration": 9,
    "start_time": "2023-01-04T15:26:19.671Z"
   },
   {
    "duration": 91,
    "start_time": "2023-01-04T15:26:19.683Z"
   },
   {
    "duration": 4,
    "start_time": "2023-01-04T15:26:19.776Z"
   },
   {
    "duration": 700,
    "start_time": "2023-01-04T15:26:19.783Z"
   },
   {
    "duration": 1154,
    "start_time": "2023-01-04T15:26:20.485Z"
   },
   {
    "duration": 211,
    "start_time": "2023-01-04T15:26:21.641Z"
   },
   {
    "duration": 336,
    "start_time": "2023-01-04T15:26:21.854Z"
   },
   {
    "duration": 4,
    "start_time": "2023-01-04T15:26:22.192Z"
   },
   {
    "duration": 552,
    "start_time": "2023-01-04T15:26:22.198Z"
   },
   {
    "duration": 48,
    "start_time": "2023-01-04T15:26:22.753Z"
   },
   {
    "duration": 396,
    "start_time": "2023-01-04T15:26:22.803Z"
   },
   {
    "duration": 4,
    "start_time": "2023-01-04T15:26:23.201Z"
   },
   {
    "duration": 172947,
    "start_time": "2023-01-04T15:26:23.207Z"
   },
   {
    "duration": 27802,
    "start_time": "2023-01-04T15:29:16.160Z"
   },
   {
    "duration": 495,
    "start_time": "2023-01-04T15:29:43.964Z"
   },
   {
    "duration": 87,
    "start_time": "2023-01-04T15:29:44.464Z"
   },
   {
    "duration": 22387,
    "start_time": "2023-01-04T15:29:44.554Z"
   },
   {
    "duration": 9,
    "start_time": "2023-01-04T15:30:06.943Z"
   },
   {
    "duration": 9,
    "start_time": "2023-01-04T15:30:06.955Z"
   },
   {
    "duration": 1264650,
    "start_time": "2023-01-04T15:30:06.967Z"
   },
   {
    "duration": 5,
    "start_time": "2023-01-04T15:51:11.619Z"
   },
   {
    "duration": 10,
    "start_time": "2023-01-04T15:51:11.626Z"
   },
   {
    "duration": 3241915,
    "start_time": "2023-01-04T15:51:11.639Z"
   },
   {
    "duration": 3,
    "start_time": "2023-01-04T16:45:13.556Z"
   },
   {
    "duration": 7,
    "start_time": "2023-01-04T16:45:13.561Z"
   },
   {
    "duration": 11,
    "start_time": "2023-01-04T16:45:13.569Z"
   },
   {
    "duration": 19,
    "start_time": "2023-01-04T16:45:13.582Z"
   },
   {
    "duration": 114,
    "start_time": "2023-01-04T16:45:13.602Z"
   },
   {
    "duration": 2708293,
    "start_time": "2023-01-04T16:45:13.718Z"
   },
   {
    "duration": 3,
    "start_time": "2023-01-04T17:30:22.013Z"
   },
   {
    "duration": 9,
    "start_time": "2023-01-04T17:30:22.017Z"
   },
   {
    "duration": 239,
    "start_time": "2023-01-04T17:30:22.028Z"
   },
   {
    "duration": 0,
    "start_time": "2023-01-04T17:30:22.269Z"
   },
   {
    "duration": 0,
    "start_time": "2023-01-04T17:30:22.271Z"
   },
   {
    "duration": 0,
    "start_time": "2023-01-04T17:30:22.272Z"
   },
   {
    "duration": 0,
    "start_time": "2023-01-04T17:30:22.274Z"
   },
   {
    "duration": 17,
    "start_time": "2023-01-04T17:31:14.281Z"
   },
   {
    "duration": 6,
    "start_time": "2023-01-04T17:31:16.465Z"
   },
   {
    "duration": 12,
    "start_time": "2023-01-04T17:31:17.548Z"
   },
   {
    "duration": 100619,
    "start_time": "2023-01-04T17:32:14.574Z"
   },
   {
    "duration": 263,
    "start_time": "2023-01-04T17:38:54.532Z"
   },
   {
    "duration": 1179499,
    "start_time": "2023-01-04T17:39:11.885Z"
   },
   {
    "duration": 3,
    "start_time": "2023-01-04T17:58:51.386Z"
   },
   {
    "duration": 22,
    "start_time": "2023-01-04T17:58:51.391Z"
   },
   {
    "duration": 1515042,
    "start_time": "2023-01-04T17:58:51.416Z"
   },
   {
    "duration": 3,
    "start_time": "2023-01-04T18:24:06.460Z"
   },
   {
    "duration": 8,
    "start_time": "2023-01-04T18:24:06.465Z"
   },
   {
    "duration": 5,
    "start_time": "2023-01-04T18:24:06.475Z"
   },
   {
    "duration": 24,
    "start_time": "2023-01-04T18:24:06.551Z"
   },
   {
    "duration": 97,
    "start_time": "2023-01-04T18:24:06.577Z"
   },
   {
    "duration": 87970,
    "start_time": "2023-01-04T18:24:06.677Z"
   },
   {
    "duration": 0,
    "start_time": "2023-01-04T18:25:34.649Z"
   },
   {
    "duration": 0,
    "start_time": "2023-01-04T18:25:34.650Z"
   },
   {
    "duration": 0,
    "start_time": "2023-01-04T18:25:34.651Z"
   },
   {
    "duration": 0,
    "start_time": "2023-01-04T18:25:34.652Z"
   },
   {
    "duration": 0,
    "start_time": "2023-01-04T18:25:34.653Z"
   },
   {
    "duration": 0,
    "start_time": "2023-01-04T18:25:34.654Z"
   },
   {
    "duration": 0,
    "start_time": "2023-01-04T18:25:34.655Z"
   },
   {
    "duration": 2564762,
    "start_time": "2023-01-04T18:25:44.319Z"
   },
   {
    "duration": 4,
    "start_time": "2023-01-04T19:08:29.084Z"
   },
   {
    "duration": 5,
    "start_time": "2023-01-04T19:08:29.090Z"
   },
   {
    "duration": 5,
    "start_time": "2023-01-04T19:08:29.098Z"
   },
   {
    "duration": 9,
    "start_time": "2023-01-04T19:08:29.105Z"
   },
   {
    "duration": 37,
    "start_time": "2023-01-04T19:08:29.116Z"
   },
   {
    "duration": 106660,
    "start_time": "2023-01-04T19:08:29.155Z"
   },
   {
    "duration": 279,
    "start_time": "2023-01-04T19:10:15.816Z"
   },
   {
    "duration": 2522735,
    "start_time": "2023-01-04T19:10:52.915Z"
   },
   {
    "duration": 3,
    "start_time": "2023-01-04T19:52:55.653Z"
   },
   {
    "duration": 10,
    "start_time": "2023-01-04T19:52:55.657Z"
   },
   {
    "duration": 6,
    "start_time": "2023-01-04T19:52:55.669Z"
   },
   {
    "duration": 9,
    "start_time": "2023-01-04T19:52:55.677Z"
   },
   {
    "duration": 13,
    "start_time": "2023-01-04T19:52:55.688Z"
   },
   {
    "duration": 102346,
    "start_time": "2023-01-04T20:00:38.413Z"
   },
   {
    "duration": 260,
    "start_time": "2023-01-04T20:02:20.761Z"
   },
   {
    "duration": 56,
    "start_time": "2023-03-24T18:42:10.162Z"
   },
   {
    "duration": 1432,
    "start_time": "2023-03-24T18:42:11.381Z"
   },
   {
    "duration": 3,
    "start_time": "2023-03-24T18:42:12.815Z"
   },
   {
    "duration": 2918,
    "start_time": "2023-03-24T18:42:13.358Z"
   },
   {
    "duration": 16,
    "start_time": "2023-03-24T18:42:16.278Z"
   },
   {
    "duration": 4,
    "start_time": "2023-03-24T18:42:16.296Z"
   },
   {
    "duration": 130,
    "start_time": "2023-03-24T18:42:16.303Z"
   },
   {
    "duration": 710,
    "start_time": "2023-03-24T18:42:16.435Z"
   },
   {
    "duration": 8049,
    "start_time": "2023-03-24T18:42:43.538Z"
   },
   {
    "duration": 1085,
    "start_time": "2023-03-24T18:43:02.972Z"
   },
   {
    "duration": 1028,
    "start_time": "2023-03-24T18:43:06.669Z"
   },
   {
    "duration": 101,
    "start_time": "2023-03-24T18:43:16.549Z"
   },
   {
    "duration": 346,
    "start_time": "2023-03-24T18:43:19.043Z"
   },
   {
    "duration": 4,
    "start_time": "2023-03-24T18:43:22.987Z"
   },
   {
    "duration": 460,
    "start_time": "2023-03-24T18:43:23.699Z"
   },
   {
    "duration": 486,
    "start_time": "2023-03-24T18:43:25.211Z"
   },
   {
    "duration": 22,
    "start_time": "2023-03-24T18:43:34.261Z"
   },
   {
    "duration": 16796,
    "start_time": "2023-03-24T18:43:36.469Z"
   },
   {
    "duration": 3707,
    "start_time": "2023-03-24T18:43:53.267Z"
   },
   {
    "duration": 6007,
    "start_time": "2023-03-24T18:43:56.977Z"
   },
   {
    "duration": 3950,
    "start_time": "2023-03-24T18:44:02.987Z"
   },
   {
    "duration": 39,
    "start_time": "2023-03-24T18:44:06.939Z"
   },
   {
    "duration": 47,
    "start_time": "2023-03-24T18:44:06.980Z"
   },
   {
    "duration": 76,
    "start_time": "2023-03-24T18:44:07.029Z"
   },
   {
    "duration": 135,
    "start_time": "2023-03-24T18:44:07.106Z"
   },
   {
    "duration": 4,
    "start_time": "2023-03-24T18:44:07.243Z"
   },
   {
    "duration": 92,
    "start_time": "2023-03-24T18:44:07.249Z"
   },
   {
    "duration": 71,
    "start_time": "2023-03-24T18:44:08.273Z"
   },
   {
    "duration": 117,
    "start_time": "2023-03-24T18:44:09.848Z"
   },
   {
    "duration": 27,
    "start_time": "2023-03-24T18:44:12.111Z"
   },
   {
    "duration": 551,
    "start_time": "2023-03-24T18:44:15.437Z"
   },
   {
    "duration": 4,
    "start_time": "2023-03-24T18:44:17.901Z"
   },
   {
    "duration": 119,
    "start_time": "2023-03-24T18:44:18.197Z"
   },
   {
    "duration": 95,
    "start_time": "2023-03-24T18:44:19.475Z"
   },
   {
    "duration": 8411,
    "start_time": "2023-03-24T18:44:19.900Z"
   },
   {
    "duration": 106,
    "start_time": "2023-03-24T18:44:28.313Z"
   },
   {
    "duration": 65,
    "start_time": "2023-03-24T18:44:28.421Z"
   },
   {
    "duration": 8048,
    "start_time": "2023-03-24T18:44:28.489Z"
   },
   {
    "duration": 11,
    "start_time": "2023-03-24T18:44:36.539Z"
   },
   {
    "duration": 47,
    "start_time": "2023-03-24T18:44:36.552Z"
   },
   {
    "duration": 99,
    "start_time": "2023-03-24T18:44:36.601Z"
   },
   {
    "duration": 8,
    "start_time": "2023-03-24T18:44:36.703Z"
   },
   {
    "duration": 56,
    "start_time": "2023-03-24T18:44:36.726Z"
   },
   {
    "duration": 5,
    "start_time": "2023-03-24T18:44:36.784Z"
   },
   {
    "duration": 581,
    "start_time": "2023-03-24T18:44:36.791Z"
   },
   {
    "duration": 983,
    "start_time": "2023-03-24T18:44:54.398Z"
   },
   {
    "duration": 194,
    "start_time": "2023-03-24T18:45:05.848Z"
   },
   {
    "duration": 310,
    "start_time": "2023-03-24T18:45:06.929Z"
   },
   {
    "duration": 3,
    "start_time": "2023-03-24T18:45:09.910Z"
   },
   {
    "duration": 526,
    "start_time": "2023-03-24T18:45:10.247Z"
   },
   {
    "duration": 51,
    "start_time": "2023-03-24T18:45:22.465Z"
   },
   {
    "duration": 345,
    "start_time": "2023-03-24T18:45:24.998Z"
   },
   {
    "duration": 0,
    "start_time": "2023-03-24T18:48:46.208Z"
   },
   {
    "duration": 0,
    "start_time": "2023-03-24T18:48:46.212Z"
   },
   {
    "duration": 1,
    "start_time": "2023-03-24T18:48:46.214Z"
   },
   {
    "duration": 1,
    "start_time": "2023-03-24T18:48:46.216Z"
   },
   {
    "duration": 10902,
    "start_time": "2023-03-24T18:48:48.865Z"
   },
   {
    "duration": 9,
    "start_time": "2023-03-24T18:49:03.667Z"
   },
   {
    "duration": 19503,
    "start_time": "2023-03-24T18:49:08.884Z"
   },
   {
    "duration": 3,
    "start_time": "2023-03-24T18:49:32.764Z"
   },
   {
    "duration": 3,
    "start_time": "2023-03-24T18:49:32.981Z"
   },
   {
    "duration": 165766,
    "start_time": "2023-03-24T18:49:35.564Z"
   },
   {
    "duration": 40201,
    "start_time": "2023-03-24T18:52:21.332Z"
   },
   {
    "duration": 489,
    "start_time": "2023-03-24T18:53:01.536Z"
   },
   {
    "duration": 4,
    "start_time": "2023-03-24T18:53:02.027Z"
   },
   {
    "duration": 1596896,
    "start_time": "2023-03-24T18:53:02.033Z"
   },
   {
    "duration": 4,
    "start_time": "2023-03-24T19:19:38.931Z"
   },
   {
    "duration": 3,
    "start_time": "2023-03-24T19:19:38.936Z"
   },
   {
    "duration": 16,
    "start_time": "2023-03-24T19:19:38.940Z"
   },
   {
    "duration": 140,
    "start_time": "2023-03-24T19:19:38.958Z"
   },
   {
    "duration": 2533774,
    "start_time": "2023-03-24T19:19:39.100Z"
   },
   {
    "duration": 3,
    "start_time": "2023-03-24T20:01:52.876Z"
   },
   {
    "duration": 7,
    "start_time": "2023-03-24T20:01:52.880Z"
   },
   {
    "duration": 11,
    "start_time": "2023-03-24T20:01:52.889Z"
   },
   {
    "duration": 0,
    "start_time": "2023-03-24T20:01:52.901Z"
   },
   {
    "duration": 0,
    "start_time": "2023-03-24T20:01:52.902Z"
   },
   {
    "duration": 1,
    "start_time": "2023-03-24T20:01:52.903Z"
   },
   {
    "duration": 1175346,
    "start_time": "2023-03-24T20:05:37.118Z"
   },
   {
    "duration": 2,
    "start_time": "2023-03-24T20:25:12.466Z"
   },
   {
    "duration": 5,
    "start_time": "2023-03-24T20:25:12.470Z"
   },
   {
    "duration": 7,
    "start_time": "2023-03-24T20:25:12.477Z"
   },
   {
    "duration": 10,
    "start_time": "2023-03-24T20:25:12.486Z"
   },
   {
    "duration": 116805,
    "start_time": "2023-03-24T20:25:12.498Z"
   },
   {
    "duration": 278,
    "start_time": "2023-03-24T20:27:09.305Z"
   },
   {
    "duration": 116113,
    "start_time": "2023-03-24T20:27:23.518Z"
   }
  ],
  "kernelspec": {
   "display_name": "Python 3 (ipykernel)",
   "language": "python",
   "name": "python3"
  },
  "language_info": {
   "codemirror_mode": {
    "name": "ipython",
    "version": 3
   },
   "file_extension": ".py",
   "mimetype": "text/x-python",
   "name": "python",
   "nbconvert_exporter": "python",
   "pygments_lexer": "ipython3",
   "version": "3.9.5"
  },
  "toc": {
   "base_numbering": 1,
   "nav_menu": {},
   "number_sections": true,
   "sideBar": true,
   "skip_h1_title": true,
   "title_cell": "Table of Contents",
   "title_sidebar": "Contents",
   "toc_cell": false,
   "toc_position": {
    "height": "calc(100% - 180px)",
    "left": "10px",
    "top": "150px",
    "width": "313px"
   },
   "toc_section_display": true,
   "toc_window_display": true
  }
 },
 "nbformat": 4,
 "nbformat_minor": 2
}
