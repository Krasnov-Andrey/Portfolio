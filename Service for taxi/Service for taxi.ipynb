{
 "cells": [
  {
   "cell_type": "markdown",
   "metadata": {},
   "source": [
    "#  Прогнозирование заказов такси"
   ]
  },
  {
   "cell_type": "markdown",
   "metadata": {
    "toc": true
   },
   "source": [
    "<h1>Содержание<span class=\"tocSkip\"></span></h1>\n",
    "<div class=\"toc\"><ul class=\"toc-item\"><li><span><a href=\"#Подготовка\" data-toc-modified-id=\"Подготовка-1\"><span class=\"toc-item-num\">1&nbsp;&nbsp;</span>Подготовка</a></span></li><li><span><a href=\"#Анализ\" data-toc-modified-id=\"Анализ-2\"><span class=\"toc-item-num\">2&nbsp;&nbsp;</span>Анализ</a></span><ul class=\"toc-item\"><li><span><a href=\"#Стационарность-ряда\" data-toc-modified-id=\"Стационарность-ряда-2.1\"><span class=\"toc-item-num\">2.1&nbsp;&nbsp;</span>Стационарность ряда</a></span></li></ul></li><li><span><a href=\"#Обучение\" data-toc-modified-id=\"Обучение-3\"><span class=\"toc-item-num\">3&nbsp;&nbsp;</span>Обучение</a></span><ul class=\"toc-item\"><li><span><a href=\"#Линейная-регрессия\" data-toc-modified-id=\"Линейная-регрессия-3.1\"><span class=\"toc-item-num\">3.1&nbsp;&nbsp;</span>Линейная регрессия</a></span></li><li><span><a href=\"#Случайный-лес\" data-toc-modified-id=\"Случайный-лес-3.2\"><span class=\"toc-item-num\">3.2&nbsp;&nbsp;</span>Случайный лес</a></span></li><li><span><a href=\"#CatBoostRegressor\" data-toc-modified-id=\"CatBoostRegressor-3.3\"><span class=\"toc-item-num\">3.3&nbsp;&nbsp;</span>CatBoostRegressor</a></span></li></ul></li><li><span><a href=\"#Тестирование\" data-toc-modified-id=\"Тестирование-4\"><span class=\"toc-item-num\">4&nbsp;&nbsp;</span>Тестирование</a></span></li></ul></div>"
   ]
  },
  {
   "cell_type": "markdown",
   "metadata": {},
   "source": [
    "Компания «Чётенькое такси» собрала исторические данные о заказах такси в аэропортах. Чтобы привлекать больше водителей в период пиковой нагрузки, нужно спрогнозировать количество заказов такси на следующий час. Постройте модель для такого предсказания.\n",
    "\n",
    "Значение метрики *RMSE* на тестовой выборке должно быть не больше 48.\n",
    "\n",
    "Вам нужно:\n",
    "\n",
    "1. Загрузить данные и выполнить их ресемплирование по одному часу.\n",
    "2. Проанализировать данные.\n",
    "3. Обучить разные модели с различными гиперпараметрами. Сделать тестовую выборку размером 10% от исходных данных.\n",
    "4. Проверить данные на тестовой выборке и сделать выводы.\n",
    "\n",
    "\n",
    "Данные лежат в файле `taxi.csv`. Количество заказов находится в столбце `num_orders` (от англ. *number of orders*, «число заказов»)."
   ]
  },
  {
   "cell_type": "markdown",
   "metadata": {},
   "source": [
    "## Подготовка"
   ]
  },
  {
   "cell_type": "code",
   "execution_count": 1,
   "metadata": {},
   "outputs": [],
   "source": [
    "#импорт библиотек\n",
    "import pandas as pd\n",
    "import numpy as np\n",
    "import matplotlib.pyplot as plt\n",
    "import seaborn as sns\n",
    "\n",
    "from statsmodels.tsa.seasonal import seasonal_decompose\n",
    "from sklearn.model_selection import train_test_split, GridSearchCV, KFold, cross_val_score, TimeSeriesSplit\n",
    "from sklearn.linear_model import LinearRegression\n",
    "from sklearn.ensemble import RandomForestRegressor\n",
    "from catboost import CatBoostRegressor\n",
    "\n",
    "from sklearn.metrics import mean_squared_error "
   ]
  },
  {
   "cell_type": "code",
   "execution_count": 2,
   "metadata": {},
   "outputs": [],
   "source": [
    "data = pd.read_csv('/datasets/taxi.csv', parse_dates=[0], index_col=0)"
   ]
  },
  {
   "cell_type": "code",
   "execution_count": 3,
   "metadata": {},
   "outputs": [],
   "source": [
    "data.sort_index(inplace=True)"
   ]
  },
  {
   "cell_type": "code",
   "execution_count": 4,
   "metadata": {},
   "outputs": [
    {
     "data": {
      "text/html": [
       "<div>\n",
       "<style scoped>\n",
       "    .dataframe tbody tr th:only-of-type {\n",
       "        vertical-align: middle;\n",
       "    }\n",
       "\n",
       "    .dataframe tbody tr th {\n",
       "        vertical-align: top;\n",
       "    }\n",
       "\n",
       "    .dataframe thead th {\n",
       "        text-align: right;\n",
       "    }\n",
       "</style>\n",
       "<table border=\"1\" class=\"dataframe\">\n",
       "  <thead>\n",
       "    <tr style=\"text-align: right;\">\n",
       "      <th></th>\n",
       "      <th>num_orders</th>\n",
       "    </tr>\n",
       "    <tr>\n",
       "      <th>datetime</th>\n",
       "      <th></th>\n",
       "    </tr>\n",
       "  </thead>\n",
       "  <tbody>\n",
       "    <tr>\n",
       "      <th>2018-03-01 00:00:00</th>\n",
       "      <td>9</td>\n",
       "    </tr>\n",
       "    <tr>\n",
       "      <th>2018-03-01 00:10:00</th>\n",
       "      <td>14</td>\n",
       "    </tr>\n",
       "    <tr>\n",
       "      <th>2018-03-01 00:20:00</th>\n",
       "      <td>28</td>\n",
       "    </tr>\n",
       "    <tr>\n",
       "      <th>2018-03-01 00:30:00</th>\n",
       "      <td>20</td>\n",
       "    </tr>\n",
       "    <tr>\n",
       "      <th>2018-03-01 00:40:00</th>\n",
       "      <td>32</td>\n",
       "    </tr>\n",
       "  </tbody>\n",
       "</table>\n",
       "</div>"
      ],
      "text/plain": [
       "                     num_orders\n",
       "datetime                       \n",
       "2018-03-01 00:00:00           9\n",
       "2018-03-01 00:10:00          14\n",
       "2018-03-01 00:20:00          28\n",
       "2018-03-01 00:30:00          20\n",
       "2018-03-01 00:40:00          32"
      ]
     },
     "execution_count": 4,
     "metadata": {},
     "output_type": "execute_result"
    }
   ],
   "source": [
    "data.head()"
   ]
  },
  {
   "cell_type": "code",
   "execution_count": 5,
   "metadata": {
    "scrolled": true
   },
   "outputs": [
    {
     "name": "stdout",
     "output_type": "stream",
     "text": [
      "<class 'pandas.core.frame.DataFrame'>\n",
      "DatetimeIndex: 26496 entries, 2018-03-01 00:00:00 to 2018-08-31 23:50:00\n",
      "Data columns (total 1 columns):\n",
      " #   Column      Non-Null Count  Dtype\n",
      "---  ------      --------------  -----\n",
      " 0   num_orders  26496 non-null  int64\n",
      "dtypes: int64(1)\n",
      "memory usage: 414.0 KB\n"
     ]
    }
   ],
   "source": [
    "data.info()"
   ]
  },
  {
   "cell_type": "markdown",
   "metadata": {},
   "source": [
    "## Анализ"
   ]
  },
  {
   "cell_type": "code",
   "execution_count": 6,
   "metadata": {
    "scrolled": false
   },
   "outputs": [
    {
     "data": {
      "image/png": "[encoded data removed]",
      "text/plain": [
       "<Figure size 1080x504 with 1 Axes>"
      ]
     },
     "metadata": {
      "needs_background": "light"
     },
     "output_type": "display_data"
    }
   ],
   "source": [
    "data.plot(figsize=(15,7))\n",
    "plt.title('Количество заказов по дням')\n",
    "plt.legend();"
   ]
  },
  {
   "cell_type": "code",
   "execution_count": 7,
   "metadata": {},
   "outputs": [],
   "source": [
    "df = data.resample('1H').sum()"
   ]
  },
  {
   "cell_type": "code",
   "execution_count": 8,
   "metadata": {
    "scrolled": false
   },
   "outputs": [
    {
     "data": {
      "image/png": "[encoded data removed]",
      "text/plain": [
       "<Figure size 1080x504 with 1 Axes>"
      ]
     },
     "metadata": {
      "needs_background": "light"
     },
     "output_type": "display_data"
    }
   ],
   "source": [
    "df.plot(figsize=(15,7))\n",
    "plt.title('Количество заказов по дням')\n",
    "plt.legend();"
   ]
  },
  {
   "cell_type": "code",
   "execution_count": 9,
   "metadata": {
    "scrolled": true
   },
   "outputs": [],
   "source": [
    "decomposed = seasonal_decompose(df)"
   ]
  },
  {
   "cell_type": "code",
   "execution_count": 10,
   "metadata": {
    "scrolled": false
   },
   "outputs": [
    {
     "data": {
      "image/png": "[encoded data removed]",
      "text/plain": [
       "<Figure size 1080x1080 with 4 Axes>"
      ]
     },
     "metadata": {
      "needs_background": "light"
     },
     "output_type": "display_data"
    }
   ],
   "source": [
    "plt.figure(figsize=(15,15))\n",
    "plt.subplot(411)\n",
    "decomposed.trend.plot(ax=plt.gca())\n",
    "plt.title('Trend')\n",
    "plt.subplot(412)\n",
    "decomposed.seasonal['2018-03-01':'2018-03-14'].plot(ax=plt.gca())\n",
    "plt.title('Seasonality')\n",
    "plt.subplot(413)\n",
    "decomposed.seasonal['2018-03-01':'2018-03-02'].plot(ax=plt.gca())\n",
    "plt.title('Seasonality_day')\n",
    "plt.subplot(414)\n",
    "decomposed.resid.plot(ax=plt.gca()) \n",
    "plt.title('Residuals')\n",
    "plt.tight_layout()"
   ]
  },
  {
   "cell_type": "markdown",
   "metadata": {},
   "source": [
    "По данным графикам можно сделать вывод, что присутствует сезонность и восходящий тренд. Такси реже заказывают в 6 утра, а пик заказов приходится на полночь."
   ]
  },
  {
   "cell_type": "markdown",
   "metadata": {},
   "source": [
    "### Стационарность ряда"
   ]
  },
  {
   "cell_type": "markdown",
   "metadata": {},
   "source": [
    "Проверим ряд на стационарность"
   ]
  },
  {
   "cell_type": "code",
   "execution_count": 11,
   "metadata": {},
   "outputs": [
    {
     "data": {
      "image/png": "[encoded data removed]",
      "text/plain": [
       "<Figure size 1080x504 with 1 Axes>"
      ]
     },
     "metadata": {
      "needs_background": "light"
     },
     "output_type": "display_data"
    }
   ],
   "source": [
    "#Построим график средней и СКО\n",
    "df['mean'] = df['num_orders'].rolling(24).mean()\n",
    "df['std'] = df['num_orders'].rolling(24).std()\n",
    "df[['mean', 'std']].plot(figsize=(15,7));"
   ]
  },
  {
   "cell_type": "markdown",
   "metadata": {},
   "source": [
    "Ряд не стационарный у него меняется среднее значение и стандартное отклонение. Для прогнозирования нужно будет его привести к стационарному виду."
   ]
  },
  {
   "cell_type": "code",
   "execution_count": 12,
   "metadata": {},
   "outputs": [],
   "source": [
    "df=df.drop(['mean', 'std'],axis=1)"
   ]
  },
  {
   "cell_type": "markdown",
   "metadata": {},
   "source": [
    "## Обучение"
   ]
  },
  {
   "cell_type": "code",
   "execution_count": 13,
   "metadata": {},
   "outputs": [],
   "source": [
    "def make_features(df, max_lag, rolling_mean_size):\n",
    "    df['month'] = df.index.month\n",
    "    df['day'] = df.index.day\n",
    "    df['dayofweek'] = df.index.dayofweek\n",
    "    df['hour'] = df.index.hour\n",
    "        \n",
    "    for lag in range(1, max_lag + 1):\n",
    "        df['lag_{}'.format(lag)] = df['num_orders'].shift(lag)\n",
    "\n",
    "    df['mean'] = df['num_orders'].shift().rolling(rolling_mean_size).mean()\n",
    "    df.dropna(inplace=True)\n"
   ]
  },
  {
   "cell_type": "code",
   "execution_count": 14,
   "metadata": {},
   "outputs": [],
   "source": [
    "make_features(df, 168, 168)"
   ]
  },
  {
   "cell_type": "code",
   "execution_count": 15,
   "metadata": {},
   "outputs": [
    {
     "data": {
      "text/html": [
       "<div>\n",
       "<style scoped>\n",
       "    .dataframe tbody tr th:only-of-type {\n",
       "        vertical-align: middle;\n",
       "    }\n",
       "\n",
       "    .dataframe tbody tr th {\n",
       "        vertical-align: top;\n",
       "    }\n",
       "\n",
       "    .dataframe thead th {\n",
       "        text-align: right;\n",
       "    }\n",
       "</style>\n",
       "<table border=\"1\" class=\"dataframe\">\n",
       "  <thead>\n",
       "    <tr style=\"text-align: right;\">\n",
       "      <th></th>\n",
       "      <th>num_orders</th>\n",
       "      <th>month</th>\n",
       "      <th>day</th>\n",
       "      <th>dayofweek</th>\n",
       "      <th>hour</th>\n",
       "      <th>lag_1</th>\n",
       "      <th>lag_2</th>\n",
       "      <th>lag_3</th>\n",
       "      <th>lag_4</th>\n",
       "      <th>lag_5</th>\n",
       "      <th>...</th>\n",
       "      <th>lag_160</th>\n",
       "      <th>lag_161</th>\n",
       "      <th>lag_162</th>\n",
       "      <th>lag_163</th>\n",
       "      <th>lag_164</th>\n",
       "      <th>lag_165</th>\n",
       "      <th>lag_166</th>\n",
       "      <th>lag_167</th>\n",
       "      <th>lag_168</th>\n",
       "      <th>mean</th>\n",
       "    </tr>\n",
       "    <tr>\n",
       "      <th>datetime</th>\n",
       "      <th></th>\n",
       "      <th></th>\n",
       "      <th></th>\n",
       "      <th></th>\n",
       "      <th></th>\n",
       "      <th></th>\n",
       "      <th></th>\n",
       "      <th></th>\n",
       "      <th></th>\n",
       "      <th></th>\n",
       "      <th></th>\n",
       "      <th></th>\n",
       "      <th></th>\n",
       "      <th></th>\n",
       "      <th></th>\n",
       "      <th></th>\n",
       "      <th></th>\n",
       "      <th></th>\n",
       "      <th></th>\n",
       "      <th></th>\n",
       "      <th></th>\n",
       "    </tr>\n",
       "  </thead>\n",
       "  <tbody>\n",
       "    <tr>\n",
       "      <th>2018-03-08 00:00:00</th>\n",
       "      <td>143</td>\n",
       "      <td>3</td>\n",
       "      <td>8</td>\n",
       "      <td>3</td>\n",
       "      <td>0</td>\n",
       "      <td>94.0</td>\n",
       "      <td>127.0</td>\n",
       "      <td>108.0</td>\n",
       "      <td>76.0</td>\n",
       "      <td>50.0</td>\n",
       "      <td>...</td>\n",
       "      <td>34.0</td>\n",
       "      <td>15.0</td>\n",
       "      <td>12.0</td>\n",
       "      <td>6.0</td>\n",
       "      <td>43.0</td>\n",
       "      <td>66.0</td>\n",
       "      <td>71.0</td>\n",
       "      <td>85.0</td>\n",
       "      <td>124.0</td>\n",
       "      <td>54.226190</td>\n",
       "    </tr>\n",
       "    <tr>\n",
       "      <th>2018-03-08 01:00:00</th>\n",
       "      <td>78</td>\n",
       "      <td>3</td>\n",
       "      <td>8</td>\n",
       "      <td>3</td>\n",
       "      <td>1</td>\n",
       "      <td>143.0</td>\n",
       "      <td>94.0</td>\n",
       "      <td>127.0</td>\n",
       "      <td>108.0</td>\n",
       "      <td>76.0</td>\n",
       "      <td>...</td>\n",
       "      <td>69.0</td>\n",
       "      <td>34.0</td>\n",
       "      <td>15.0</td>\n",
       "      <td>12.0</td>\n",
       "      <td>6.0</td>\n",
       "      <td>43.0</td>\n",
       "      <td>66.0</td>\n",
       "      <td>71.0</td>\n",
       "      <td>85.0</td>\n",
       "      <td>54.339286</td>\n",
       "    </tr>\n",
       "    <tr>\n",
       "      <th>2018-03-08 02:00:00</th>\n",
       "      <td>65</td>\n",
       "      <td>3</td>\n",
       "      <td>8</td>\n",
       "      <td>3</td>\n",
       "      <td>2</td>\n",
       "      <td>78.0</td>\n",
       "      <td>143.0</td>\n",
       "      <td>94.0</td>\n",
       "      <td>127.0</td>\n",
       "      <td>108.0</td>\n",
       "      <td>...</td>\n",
       "      <td>64.0</td>\n",
       "      <td>69.0</td>\n",
       "      <td>34.0</td>\n",
       "      <td>15.0</td>\n",
       "      <td>12.0</td>\n",
       "      <td>6.0</td>\n",
       "      <td>43.0</td>\n",
       "      <td>66.0</td>\n",
       "      <td>71.0</td>\n",
       "      <td>54.297619</td>\n",
       "    </tr>\n",
       "    <tr>\n",
       "      <th>2018-03-08 03:00:00</th>\n",
       "      <td>68</td>\n",
       "      <td>3</td>\n",
       "      <td>8</td>\n",
       "      <td>3</td>\n",
       "      <td>3</td>\n",
       "      <td>65.0</td>\n",
       "      <td>78.0</td>\n",
       "      <td>143.0</td>\n",
       "      <td>94.0</td>\n",
       "      <td>127.0</td>\n",
       "      <td>...</td>\n",
       "      <td>96.0</td>\n",
       "      <td>64.0</td>\n",
       "      <td>69.0</td>\n",
       "      <td>34.0</td>\n",
       "      <td>15.0</td>\n",
       "      <td>12.0</td>\n",
       "      <td>6.0</td>\n",
       "      <td>43.0</td>\n",
       "      <td>66.0</td>\n",
       "      <td>54.261905</td>\n",
       "    </tr>\n",
       "    <tr>\n",
       "      <th>2018-03-08 04:00:00</th>\n",
       "      <td>60</td>\n",
       "      <td>3</td>\n",
       "      <td>8</td>\n",
       "      <td>3</td>\n",
       "      <td>4</td>\n",
       "      <td>68.0</td>\n",
       "      <td>65.0</td>\n",
       "      <td>78.0</td>\n",
       "      <td>143.0</td>\n",
       "      <td>94.0</td>\n",
       "      <td>...</td>\n",
       "      <td>30.0</td>\n",
       "      <td>96.0</td>\n",
       "      <td>64.0</td>\n",
       "      <td>69.0</td>\n",
       "      <td>34.0</td>\n",
       "      <td>15.0</td>\n",
       "      <td>12.0</td>\n",
       "      <td>6.0</td>\n",
       "      <td>43.0</td>\n",
       "      <td>54.273810</td>\n",
       "    </tr>\n",
       "  </tbody>\n",
       "</table>\n",
       "<p>5 rows × 174 columns</p>\n",
       "</div>"
      ],
      "text/plain": [
       "                     num_orders  month  day  dayofweek  hour  lag_1  lag_2  \\\n",
       "datetime                                                                     \n",
       "2018-03-08 00:00:00         143      3    8          3     0   94.0  127.0   \n",
       "2018-03-08 01:00:00          78      3    8          3     1  143.0   94.0   \n",
       "2018-03-08 02:00:00          65      3    8          3     2   78.0  143.0   \n",
       "2018-03-08 03:00:00          68      3    8          3     3   65.0   78.0   \n",
       "2018-03-08 04:00:00          60      3    8          3     4   68.0   65.0   \n",
       "\n",
       "                     lag_3  lag_4  lag_5  ...  lag_160  lag_161  lag_162  \\\n",
       "datetime                                  ...                              \n",
       "2018-03-08 00:00:00  108.0   76.0   50.0  ...     34.0     15.0     12.0   \n",
       "2018-03-08 01:00:00  127.0  108.0   76.0  ...     69.0     34.0     15.0   \n",
       "2018-03-08 02:00:00   94.0  127.0  108.0  ...     64.0     69.0     34.0   \n",
       "2018-03-08 03:00:00  143.0   94.0  127.0  ...     96.0     64.0     69.0   \n",
       "2018-03-08 04:00:00   78.0  143.0   94.0  ...     30.0     96.0     64.0   \n",
       "\n",
       "                     lag_163  lag_164  lag_165  lag_166  lag_167  lag_168  \\\n",
       "datetime                                                                    \n",
       "2018-03-08 00:00:00      6.0     43.0     66.0     71.0     85.0    124.0   \n",
       "2018-03-08 01:00:00     12.0      6.0     43.0     66.0     71.0     85.0   \n",
       "2018-03-08 02:00:00     15.0     12.0      6.0     43.0     66.0     71.0   \n",
       "2018-03-08 03:00:00     34.0     15.0     12.0      6.0     43.0     66.0   \n",
       "2018-03-08 04:00:00     69.0     34.0     15.0     12.0      6.0     43.0   \n",
       "\n",
       "                          mean  \n",
       "datetime                        \n",
       "2018-03-08 00:00:00  54.226190  \n",
       "2018-03-08 01:00:00  54.339286  \n",
       "2018-03-08 02:00:00  54.297619  \n",
       "2018-03-08 03:00:00  54.261905  \n",
       "2018-03-08 04:00:00  54.273810  \n",
       "\n",
       "[5 rows x 174 columns]"
      ]
     },
     "execution_count": 15,
     "metadata": {},
     "output_type": "execute_result"
    }
   ],
   "source": [
    "df.head()"
   ]
  },
  {
   "cell_type": "code",
   "execution_count": 16,
   "metadata": {},
   "outputs": [],
   "source": [
    "train, test = train_test_split(df, shuffle=False, test_size=0.1, random_state=12345)\n",
    "\n",
    "features = train.drop('num_orders',axis=1)\n",
    "target = train['num_orders']\n",
    "\n",
    "features_test = test.drop('num_orders',axis=1)\n",
    "target_test = test['num_orders']"
   ]
  },
  {
   "cell_type": "markdown",
   "metadata": {},
   "source": [
    "### Линейная регрессия"
   ]
  },
  {
   "cell_type": "code",
   "execution_count": 17,
   "metadata": {},
   "outputs": [
    {
     "name": "stdout",
     "output_type": "stream",
     "text": [
      "rmse = 22.73293269988398\n",
      "CPU times: user 913 ms, sys: 1.43 s, total: 2.35 s\n",
      "Wall time: 2.92 s\n"
     ]
    }
   ],
   "source": [
    "%%time\n",
    "model_line = LinearRegression()\n",
    "cross_val_line = cross_val_score(model_line,\n",
    "                                 features,\n",
    "                                 target,\n",
    "                                 scoring='neg_mean_squared_error',\n",
    "                                 n_jobs=-1,\n",
    "                                 cv=TimeSeriesSplit(n_splits=5))\n",
    "\n",
    "model_line.fit(features, target)\n",
    "print('rmse =', np.mean(np.sqrt(np.abs(cross_val_line)))) "
   ]
  },
  {
   "cell_type": "markdown",
   "metadata": {},
   "source": [
    "### Случайный лес"
   ]
  },
  {
   "cell_type": "code",
   "execution_count": 18,
   "metadata": {
    "scrolled": true
   },
   "outputs": [
    {
     "name": "stdout",
     "output_type": "stream",
     "text": [
      "Параметры модели:  {'max_depth': 10, 'n_estimators': 100}\n",
      "rmse = 24.092768042433672\n",
      "CPU times: user 1min 27s, sys: 212 ms, total: 1min 27s\n",
      "Wall time: 3min 4s\n"
     ]
    }
   ],
   "source": [
    "%%time\n",
    "parametrs = {\"max_depth\": [2,10],\n",
    "             \"n_estimators\":[10,100,10]}\n",
    "\n",
    "grid_model_forest = GridSearchCV(RandomForestRegressor(random_state=12345),\n",
    "                                 parametrs,\n",
    "                                 scoring='neg_mean_squared_error',\n",
    "                                 cv = TimeSeriesSplit(n_splits=3),\n",
    "                                 n_jobs=-1)\n",
    "\n",
    "grid_model_forest.fit(features, target)\n",
    "\n",
    "params_forest = grid_model_forest.best_params_\n",
    "random_forest = RandomForestRegressor(**params_forest, random_state = 12345)\n",
    "\n",
    "rmse_model_random_forest = np.mean(np.sqrt(np.abs(grid_model_forest.best_score_)))\n",
    "print('Параметры модели: ', grid_model_forest.best_params_)\n",
    "print('rmse =', rmse_model_random_forest)"
   ]
  },
  {
   "cell_type": "markdown",
   "metadata": {},
   "source": [
    "### CatBoostRegressor"
   ]
  },
  {
   "cell_type": "code",
   "execution_count": 19,
   "metadata": {
    "scrolled": true
   },
   "outputs": [
    {
     "name": "stdout",
     "output_type": "stream",
     "text": [
      "Fitting 3 folds for each of 5 candidates, totalling 15 fits\n",
      "[CV 1/3; 1/5] START max_depth=2.................................................\n",
      "Learning rate set to 0.054346\n",
      "0:\tlearn: 28.8928990\ttotal: 51.9ms\tremaining: 36.3s\n",
      "100:\tlearn: 16.2918085\ttotal: 878ms\tremaining: 5.21s\n",
      "200:\tlearn: 14.7235807\ttotal: 1.6s\tremaining: 3.98s\n",
      "300:\tlearn: 13.5450842\ttotal: 2.29s\tremaining: 3.04s\n",
      "400:\tlearn: 12.6123949\ttotal: 3.14s\tremaining: 2.34s\n",
      "500:\tlearn: 11.8316885\ttotal: 3.78s\tremaining: 1.5s\n",
      "600:\tlearn: 11.1727507\ttotal: 4.7s\tremaining: 775ms\n",
      "699:\tlearn: 10.6233327\ttotal: 5.45s\tremaining: 0us\n",
      "[CV 1/3; 1/5] END ...............................max_depth=2; total time=   8.1s\n",
      "[CV 2/3; 1/5] START max_depth=2.................................................\n",
      "Learning rate set to 0.060621\n",
      "0:\tlearn: 32.1287515\ttotal: 6.97ms\tremaining: 4.88s\n",
      "100:\tlearn: 17.8064851\ttotal: 1.09s\tremaining: 6.5s\n",
      "200:\tlearn: 16.4777944\ttotal: 2.18s\tremaining: 5.41s\n",
      "300:\tlearn: 15.6808002\ttotal: 3.2s\tremaining: 4.25s\n",
      "400:\tlearn: 15.0075716\ttotal: 4.4s\tremaining: 3.28s\n",
      "500:\tlearn: 14.4799626\ttotal: 5.47s\tremaining: 2.17s\n",
      "600:\tlearn: 14.0149823\ttotal: 6.61s\tremaining: 1.09s\n",
      "699:\tlearn: 13.5655767\ttotal: 7.67s\tremaining: 0us\n",
      "[CV 2/3; 1/5] END ...............................max_depth=2; total time=   9.6s\n",
      "[CV 3/3; 1/5] START max_depth=2.................................................\n",
      "Learning rate set to 0.064627\n",
      "0:\tlearn: 32.9842270\ttotal: 7.62ms\tremaining: 5.33s\n",
      "100:\tlearn: 18.6862569\ttotal: 1.22s\tremaining: 7.21s\n",
      "200:\tlearn: 17.7318303\ttotal: 2.4s\tremaining: 5.96s\n",
      "300:\tlearn: 17.1025509\ttotal: 3.69s\tremaining: 4.89s\n",
      "400:\tlearn: 16.5972382\ttotal: 4.94s\tremaining: 3.68s\n",
      "500:\tlearn: 16.1413928\ttotal: 6.27s\tremaining: 2.49s\n",
      "600:\tlearn: 15.7161139\ttotal: 7.54s\tremaining: 1.24s\n",
      "699:\tlearn: 15.3322928\ttotal: 8.7s\tremaining: 0us\n",
      "[CV 3/3; 1/5] END ...............................max_depth=2; total time=  10.9s\n",
      "[CV 1/3; 2/5] START max_depth=4.................................................\n",
      "Learning rate set to 0.054346\n",
      "0:\tlearn: 28.7895045\ttotal: 16ms\tremaining: 11.1s\n",
      "100:\tlearn: 14.9105288\ttotal: 2.11s\tremaining: 12.5s\n",
      "200:\tlearn: 12.3951799\ttotal: 3.97s\tremaining: 9.86s\n",
      "300:\tlearn: 10.4152807\ttotal: 6.1s\tremaining: 8.09s\n",
      "400:\tlearn: 8.8828747\ttotal: 8.16s\tremaining: 6.08s\n",
      "500:\tlearn: 7.5700494\ttotal: 10.2s\tremaining: 4.07s\n",
      "600:\tlearn: 6.5177177\ttotal: 12.4s\tremaining: 2.04s\n",
      "699:\tlearn: 5.6504256\ttotal: 14.8s\tremaining: 0us\n",
      "[CV 1/3; 2/5] END ...............................max_depth=4; total time=  18.1s\n",
      "[CV 2/3; 2/5] START max_depth=4.................................................\n",
      "Learning rate set to 0.060621\n",
      "0:\tlearn: 32.0451103\ttotal: 16ms\tremaining: 11.2s\n",
      "100:\tlearn: 16.5570654\ttotal: 3.05s\tremaining: 18.1s\n",
      "200:\tlearn: 14.6207098\ttotal: 5.78s\tremaining: 14.3s\n",
      "300:\tlearn: 13.1041628\ttotal: 8.74s\tremaining: 11.6s\n",
      "400:\tlearn: 11.8973758\ttotal: 11.6s\tremaining: 8.62s\n",
      "500:\tlearn: 10.8575047\ttotal: 14.3s\tremaining: 5.69s\n",
      "600:\tlearn: 9.8835643\ttotal: 16.9s\tremaining: 2.78s\n",
      "699:\tlearn: 8.9813601\ttotal: 19.8s\tremaining: 0us\n",
      "[CV 2/3; 2/5] END ...............................max_depth=4; total time=  22.4s\n",
      "[CV 3/3; 2/5] START max_depth=4.................................................\n",
      "Learning rate set to 0.064627\n",
      "0:\tlearn: 32.8846861\ttotal: 22.8ms\tremaining: 16s\n",
      "100:\tlearn: 17.7094317\ttotal: 3.42s\tremaining: 20.3s\n",
      "200:\tlearn: 16.0986124\ttotal: 6.79s\tremaining: 16.9s\n",
      "300:\tlearn: 14.9003489\ttotal: 10s\tremaining: 13.3s\n",
      "400:\tlearn: 13.8959200\ttotal: 13.2s\tremaining: 9.81s\n",
      "500:\tlearn: 12.8606757\ttotal: 16.4s\tremaining: 6.5s\n",
      "600:\tlearn: 12.0020880\ttotal: 19.5s\tremaining: 3.21s\n",
      "699:\tlearn: 11.2068223\ttotal: 23.1s\tremaining: 0us\n",
      "[CV 3/3; 2/5] END ...............................max_depth=4; total time=  25.2s\n",
      "[CV 1/3; 3/5] START max_depth=6.................................................\n",
      "Learning rate set to 0.054346\n",
      "0:\tlearn: 28.7782895\ttotal: 85.3ms\tremaining: 59.6s\n",
      "100:\tlearn: 13.1563211\ttotal: 6.11s\tremaining: 36.2s\n",
      "200:\tlearn: 9.7569938\ttotal: 12.2s\tremaining: 30.4s\n",
      "300:\tlearn: 7.1686103\ttotal: 18.2s\tremaining: 24.1s\n",
      "400:\tlearn: 5.3885155\ttotal: 24.3s\tremaining: 18.1s\n",
      "500:\tlearn: 4.0190819\ttotal: 30s\tremaining: 11.9s\n",
      "600:\tlearn: 3.0125329\ttotal: 36s\tremaining: 5.94s\n",
      "699:\tlearn: 2.2364377\ttotal: 42.1s\tremaining: 0us\n",
      "[CV 1/3; 3/5] END ...............................max_depth=6; total time=  45.9s\n",
      "[CV 2/3; 3/5] START max_depth=6.................................................\n",
      "Learning rate set to 0.060621\n",
      "0:\tlearn: 32.0496497\ttotal: 106ms\tremaining: 1m 13s\n",
      "100:\tlearn: 15.1102997\ttotal: 7.38s\tremaining: 43.7s\n",
      "200:\tlearn: 12.4844867\ttotal: 14.9s\tremaining: 37.1s\n",
      "300:\tlearn: 10.3588492\ttotal: 22.3s\tremaining: 29.5s\n",
      "400:\tlearn: 8.7088103\ttotal: 30.1s\tremaining: 22.4s\n",
      "500:\tlearn: 7.4211877\ttotal: 37.8s\tremaining: 15s\n",
      "600:\tlearn: 6.2946823\ttotal: 45.5s\tremaining: 7.49s\n",
      "699:\tlearn: 5.3448513\ttotal: 53.1s\tremaining: 0us\n",
      "[CV 2/3; 3/5] END ...............................max_depth=6; total time=  55.9s\n",
      "[CV 3/3; 3/5] START max_depth=6.................................................\n",
      "Learning rate set to 0.064627\n",
      "0:\tlearn: 32.8886644\ttotal: 96.2ms\tremaining: 1m 7s\n",
      "100:\tlearn: 16.5808316\ttotal: 8.23s\tremaining: 48.8s\n",
      "200:\tlearn: 14.3358642\ttotal: 16.6s\tremaining: 41.3s\n",
      "300:\tlearn: 12.3655852\ttotal: 25s\tremaining: 33.1s\n",
      "400:\tlearn: 10.8168184\ttotal: 33.2s\tremaining: 24.8s\n",
      "500:\tlearn: 9.4489621\ttotal: 42.1s\tremaining: 16.7s\n",
      "600:\tlearn: 8.2916148\ttotal: 52s\tremaining: 8.57s\n",
      "699:\tlearn: 7.3115878\ttotal: 1m 1s\tremaining: 0us\n",
      "[CV 3/3; 3/5] END ...............................max_depth=6; total time= 1.1min\n",
      "[CV 1/3; 4/5] START max_depth=8.................................................\n",
      "Learning rate set to 0.054346\n",
      "0:\tlearn: 28.7748009\ttotal: 275ms\tremaining: 3m 12s\n",
      "100:\tlearn: 10.9954339\ttotal: 25s\tremaining: 2m 28s\n",
      "200:\tlearn: 6.6499139\ttotal: 55s\tremaining: 2m 16s\n",
      "300:\tlearn: 4.2676056\ttotal: 1m 16s\tremaining: 1m 41s\n",
      "400:\tlearn: 2.6751702\ttotal: 1m 35s\tremaining: 1m 11s\n",
      "500:\tlearn: 1.6376246\ttotal: 1m 54s\tremaining: 45.6s\n",
      "600:\tlearn: 0.9888908\ttotal: 2m 15s\tremaining: 22.4s\n",
      "699:\tlearn: 0.6111212\ttotal: 2m 34s\tremaining: 0us\n",
      "[CV 1/3; 4/5] END ...............................max_depth=8; total time= 2.6min\n",
      "[CV 2/3; 4/5] START max_depth=8.................................................\n",
      "Learning rate set to 0.060621\n",
      "0:\tlearn: 31.9951094\ttotal: 308ms\tremaining: 3m 35s\n",
      "100:\tlearn: 13.3292500\ttotal: 19.8s\tremaining: 1m 57s\n",
      "200:\tlearn: 9.8755495\ttotal: 48.3s\tremaining: 1m 59s\n",
      "300:\tlearn: 7.3615351\ttotal: 1m 22s\tremaining: 1m 49s\n",
      "400:\tlearn: 5.5500005\ttotal: 2m\tremaining: 1m 29s\n",
      "500:\tlearn: 4.1854230\ttotal: 2m 35s\tremaining: 1m 1s\n",
      "600:\tlearn: 3.1639568\ttotal: 3m 11s\tremaining: 31.6s\n",
      "699:\tlearn: 2.4230264\ttotal: 3m 47s\tremaining: 0us\n",
      "[CV 2/3; 4/5] END ...............................max_depth=8; total time= 3.9min\n",
      "[CV 3/3; 4/5] START max_depth=8.................................................\n",
      "Learning rate set to 0.064627\n",
      "0:\tlearn: 32.8282081\ttotal: 580ms\tremaining: 6m 45s\n",
      "100:\tlearn: 14.7334269\ttotal: 38.9s\tremaining: 3m 50s\n",
      "200:\tlearn: 11.9331114\ttotal: 1m 16s\tremaining: 3m 8s\n",
      "300:\tlearn: 9.3794540\ttotal: 1m 54s\tremaining: 2m 31s\n",
      "400:\tlearn: 7.3927701\ttotal: 2m 49s\tremaining: 2m 6s\n",
      "500:\tlearn: 5.8597053\ttotal: 3m 48s\tremaining: 1m 30s\n",
      "600:\tlearn: 4.7526266\ttotal: 4m 59s\tremaining: 49.4s\n",
      "699:\tlearn: 3.8687889\ttotal: 6m 8s\tremaining: 0us\n",
      "[CV 3/3; 4/5] END ...............................max_depth=8; total time= 6.3min\n",
      "[CV 1/3; 5/5] START max_depth=10................................................\n",
      "Learning rate set to 0.054346\n",
      "0:\tlearn: 28.8042307\ttotal: 2.11s\tremaining: 24m 35s\n",
      "100:\tlearn: 8.7701064\ttotal: 2m 6s\tremaining: 12m 28s\n",
      "200:\tlearn: 4.0644860\ttotal: 4m 9s\tremaining: 10m 19s\n",
      "300:\tlearn: 1.9938382\ttotal: 6m 1s\tremaining: 7m 58s\n",
      "400:\tlearn: 0.9870234\ttotal: 8m 15s\tremaining: 6m 9s\n",
      "500:\tlearn: 0.4827625\ttotal: 9m 30s\tremaining: 3m 46s\n",
      "600:\tlearn: 0.2348279\ttotal: 10m 51s\tremaining: 1m 47s\n",
      "699:\tlearn: 0.1164495\ttotal: 12m\tremaining: 0us\n",
      "[CV 1/3; 5/5] END ..............................max_depth=10; total time=12.1min\n",
      "[CV 2/3; 5/5] START max_depth=10................................................\n",
      "Learning rate set to 0.060621\n",
      "0:\tlearn: 32.0076833\ttotal: 947ms\tremaining: 11m 2s\n",
      "100:\tlearn: 10.9064401\ttotal: 1m 26s\tremaining: 8m 31s\n",
      "200:\tlearn: 6.8267946\ttotal: 2m 39s\tremaining: 6m 35s\n",
      "300:\tlearn: 4.1606944\ttotal: 3m 35s\tremaining: 4m 45s\n",
      "400:\tlearn: 2.6353656\ttotal: 4m 32s\tremaining: 3m 23s\n",
      "500:\tlearn: 1.6174039\ttotal: 5m 29s\tremaining: 2m 10s\n",
      "600:\tlearn: 1.0453854\ttotal: 6m 25s\tremaining: 1m 3s\n",
      "699:\tlearn: 0.6826598\ttotal: 7m 22s\tremaining: 0us\n",
      "[CV 2/3; 5/5] END ..............................max_depth=10; total time= 7.4min\n",
      "[CV 3/3; 5/5] START max_depth=10................................................\n",
      "Learning rate set to 0.064627\n",
      "0:\tlearn: 32.8224231\ttotal: 585ms\tremaining: 6m 48s\n",
      "100:\tlearn: 12.2204988\ttotal: 1m 1s\tremaining: 6m 6s\n",
      "200:\tlearn: 8.7630043\ttotal: 2m 2s\tremaining: 5m 3s\n",
      "300:\tlearn: 5.8830827\ttotal: 3m 5s\tremaining: 4m 5s\n",
      "400:\tlearn: 4.1639652\ttotal: 4m 9s\tremaining: 3m 5s\n",
      "500:\tlearn: 2.8764195\ttotal: 5m 28s\tremaining: 2m 10s\n",
      "600:\tlearn: 2.0084005\ttotal: 5m 59s\tremaining: 59.2s\n",
      "699:\tlearn: 1.3912417\ttotal: 6m 30s\tremaining: 0us\n",
      "[CV 3/3; 5/5] END ..............................max_depth=10; total time= 6.6min\n",
      "Learning rate set to 0.067629\n",
      "0:\tlearn: 37.4057045\ttotal: 15ms\tremaining: 10.5s\n",
      "100:\tlearn: 19.9250872\ttotal: 1.62s\tremaining: 9.59s\n",
      "200:\tlearn: 18.2723159\ttotal: 3.11s\tremaining: 7.72s\n",
      "300:\tlearn: 17.0236492\ttotal: 4.61s\tremaining: 6.11s\n",
      "400:\tlearn: 15.9976434\ttotal: 6.07s\tremaining: 4.53s\n",
      "500:\tlearn: 15.0623115\ttotal: 7.5s\tremaining: 2.98s\n",
      "600:\tlearn: 14.1791389\ttotal: 8.94s\tremaining: 1.47s\n",
      "699:\tlearn: 13.4048903\ttotal: 10.5s\tremaining: 0us\n",
      "rmse = 23.953169990954862\n",
      "CPU times: user 16min 19s, sys: 5.51 s, total: 16min 25s\n",
      "Wall time: 43min 26s\n"
     ]
    }
   ],
   "source": [
    "%%time\n",
    "params_cat = {\n",
    "    'max_depth' : range(2, 11, 2)\n",
    "}\n",
    "\n",
    "grid_model_cat = GridSearchCV(estimator=CatBoostRegressor(loss_function='RMSE', iterations=700, random_state = 12345), \n",
    "                              param_grid=params_cat,\n",
    "                              verbose=100,\n",
    "                              scoring='neg_mean_squared_error',\n",
    "                              cv=TimeSeriesSplit(n_splits=3),\n",
    "                              n_jobs=-1)\n",
    "\n",
    "grid_model_cat.fit(features, target, verbose=100)\n",
    "\n",
    "params_cat = grid_model_cat.best_params_\n",
    "\n",
    "cat = CatBoostRegressor(**params_cat, loss_function='RMSE', iterations=700, random_state = 12345)\n",
    "\n",
    "rmse_model_cat = np.mean(np.sqrt(np.abs(grid_model_cat.best_score_)))\n",
    "\n",
    "print('rmse =', rmse_model_cat)"
   ]
  },
  {
   "cell_type": "code",
   "execution_count": 20,
   "metadata": {
    "scrolled": true
   },
   "outputs": [
    {
     "data": {
      "text/html": [
       "<div>\n",
       "<style scoped>\n",
       "    .dataframe tbody tr th:only-of-type {\n",
       "        vertical-align: middle;\n",
       "    }\n",
       "\n",
       "    .dataframe tbody tr th {\n",
       "        vertical-align: top;\n",
       "    }\n",
       "\n",
       "    .dataframe thead th {\n",
       "        text-align: right;\n",
       "    }\n",
       "</style>\n",
       "<table border=\"1\" class=\"dataframe\">\n",
       "  <thead>\n",
       "    <tr style=\"text-align: right;\">\n",
       "      <th></th>\n",
       "      <th>rmse</th>\n",
       "    </tr>\n",
       "  </thead>\n",
       "  <tbody>\n",
       "    <tr>\n",
       "      <th>Linear_Regression</th>\n",
       "      <td>22.732933</td>\n",
       "    </tr>\n",
       "    <tr>\n",
       "      <th>Random_Forest_Regressor</th>\n",
       "      <td>24.092768</td>\n",
       "    </tr>\n",
       "    <tr>\n",
       "      <th>Cat_Boost_Regressor</th>\n",
       "      <td>23.953170</td>\n",
       "    </tr>\n",
       "  </tbody>\n",
       "</table>\n",
       "</div>"
      ],
      "text/plain": [
       "                              rmse\n",
       "Linear_Regression        22.732933\n",
       "Random_Forest_Regressor  24.092768\n",
       "Cat_Boost_Regressor      23.953170"
      ]
     },
     "execution_count": 20,
     "metadata": {},
     "output_type": "execute_result"
    }
   ],
   "source": [
    "df_result=pd.DataFrame(np.array([np.mean(np.sqrt(np.abs(cross_val_line))),\n",
    "                                 rmse_model_random_forest,\n",
    "                                 rmse_model_cat]),\n",
    "                       index=['Linear_Regression','Random_Forest_Regressor','Cat_Boost_Regressor'])\n",
    "df_result.set_axis(['rmse'],axis='columns',inplace=True)\n",
    "df_result"
   ]
  },
  {
   "cell_type": "markdown",
   "metadata": {},
   "source": [
    "Лучшие результаты RMSE на валидационной выборке получились на модели Linear_Regression."
   ]
  },
  {
   "cell_type": "markdown",
   "metadata": {},
   "source": [
    "## Тестирование"
   ]
  },
  {
   "cell_type": "code",
   "execution_count": 21,
   "metadata": {},
   "outputs": [],
   "source": [
    "# Линейная модель\n",
    "predict_line = model_line.predict(features_test)\n",
    "rmse_line = mean_squared_error(target_test, predict_line, squared=False)"
   ]
  },
  {
   "cell_type": "code",
   "execution_count": 22,
   "metadata": {},
   "outputs": [
    {
     "data": {
      "text/plain": [
       "35.36268291192508"
      ]
     },
     "execution_count": 22,
     "metadata": {},
     "output_type": "execute_result"
    }
   ],
   "source": [
    "rmse_line"
   ]
  },
  {
   "cell_type": "code",
   "execution_count": 23,
   "metadata": {},
   "outputs": [
    {
     "name": "stderr",
     "output_type": "stream",
     "text": [
      "/opt/conda/lib/python3.9/site-packages/seaborn/_decorators.py:36: FutureWarning: Pass the following variables as keyword args: x, y. From version 0.12, the only valid positional argument will be `data`, and passing other arguments without an explicit keyword will result in an error or misinterpretation.\n",
      "  warnings.warn(\n"
     ]
    },
    {
     "data": {
      "text/plain": [
       "<AxesSubplot:xlabel='num_orders'>"
      ]
     },
     "execution_count": 23,
     "metadata": {},
     "output_type": "execute_result"
    },
    {
     "data": {
      "image/png": "[encoded data removed]",
      "text/plain": [
       "<Figure size 720x720 with 1 Axes>"
      ]
     },
     "metadata": {
      "needs_background": "light"
     },
     "output_type": "display_data"
    }
   ],
   "source": [
    "plt.figure( figsize= (10 , 10 )) \n",
    "sns.regplot(target_test,  model_line.predict(features_test), scatter_kws= {\"s\":  10 }) "
   ]
  },
  {
   "cell_type": "code",
   "execution_count": 24,
   "metadata": {},
   "outputs": [],
   "source": [
    "pred_previous = test['num_orders'].shift(fill_value=train.iloc[-1][0])\n",
    "rmse_previous = mean_squared_error(test['num_orders'], pred_previous, squared=False)"
   ]
  },
  {
   "cell_type": "code",
   "execution_count": 25,
   "metadata": {},
   "outputs": [
    {
     "data": {
      "image/png": "[encoded data removed]",
      "text/plain": [
       "<Figure size 1224x720 with 1 Axes>"
      ]
     },
     "metadata": {
      "needs_background": "light"
     },
     "output_type": "display_data"
    }
   ],
   "source": [
    "plt.title('Количество заказов по дням')\n",
    "pd.Series(target_test.values).plot(figsize=(17,10));\n",
    "plt.plot(predict_line);"
   ]
  },
  {
   "cell_type": "markdown",
   "metadata": {},
   "source": [
    "**Вывод**\n",
    "\n",
    "Проведен анализ и подготовлены данные для обучения моделей. Путем проверки моделей на тестовых выборках, определено, что модель Linear_Regressio имеет лучшие показатели по RMSE."
   ]
  }
 ],
 "metadata": {
  "ExecuteTimeLog": [
   {
    "duration": 1190,
    "start_time": "2023-01-05T12:15:43.709Z"
   },
   {
    "duration": 128,
    "start_time": "2023-01-05T12:15:52.854Z"
   },
   {
    "duration": 134,
    "start_time": "2023-01-05T12:16:08.076Z"
   },
   {
    "duration": 2,
    "start_time": "2023-01-05T12:16:18.843Z"
   },
   {
    "duration": 11,
    "start_time": "2023-01-05T12:16:28.525Z"
   },
   {
    "duration": 9,
    "start_time": "2023-01-05T12:16:41.049Z"
   },
   {
    "duration": 550,
    "start_time": "2023-01-05T12:16:56.268Z"
   },
   {
    "duration": 7,
    "start_time": "2023-01-05T12:32:13.696Z"
   },
   {
    "duration": 8,
    "start_time": "2023-01-05T12:32:20.612Z"
   },
   {
    "duration": 177,
    "start_time": "2023-01-05T12:32:31.072Z"
   },
   {
    "duration": 9,
    "start_time": "2023-01-05T12:32:51.926Z"
   },
   {
    "duration": 386,
    "start_time": "2023-01-05T12:59:15.984Z"
   },
   {
    "duration": 572,
    "start_time": "2023-01-05T13:00:12.213Z"
   },
   {
    "duration": 245,
    "start_time": "2023-01-05T13:01:08.464Z"
   },
   {
    "duration": 630,
    "start_time": "2023-01-05T13:04:03.538Z"
   },
   {
    "duration": 579,
    "start_time": "2023-01-05T13:04:14.699Z"
   },
   {
    "duration": 235,
    "start_time": "2023-01-05T13:04:27.655Z"
   },
   {
    "duration": 27,
    "start_time": "2023-01-05T13:06:15.439Z"
   },
   {
    "duration": 6,
    "start_time": "2023-01-05T13:06:21.926Z"
   },
   {
    "duration": 352,
    "start_time": "2023-01-05T13:06:30.815Z"
   },
   {
    "duration": 5,
    "start_time": "2023-01-05T13:07:51.325Z"
   },
   {
    "duration": 254,
    "start_time": "2023-01-05T13:07:52.972Z"
   },
   {
    "duration": 4,
    "start_time": "2023-01-05T13:08:15.110Z"
   },
   {
    "duration": 245,
    "start_time": "2023-01-05T13:08:16.063Z"
   },
   {
    "duration": 1703,
    "start_time": "2023-01-05T20:20:54.764Z"
   },
   {
    "duration": 210,
    "start_time": "2023-01-05T20:20:56.818Z"
   },
   {
    "duration": 3,
    "start_time": "2023-01-05T20:20:57.108Z"
   },
   {
    "duration": 11,
    "start_time": "2023-01-05T20:20:57.394Z"
   },
   {
    "duration": 14,
    "start_time": "2023-01-05T20:20:58.388Z"
   },
   {
    "duration": 804,
    "start_time": "2023-01-05T20:20:59.703Z"
   },
   {
    "duration": 9,
    "start_time": "2023-01-05T20:21:01.246Z"
   },
   {
    "duration": 298,
    "start_time": "2023-01-05T20:21:01.758Z"
   },
   {
    "duration": 6,
    "start_time": "2023-01-05T20:21:26.000Z"
   },
   {
    "duration": 324,
    "start_time": "2023-01-05T20:21:26.267Z"
   },
   {
    "duration": 129,
    "start_time": "2023-01-05T20:22:01.797Z"
   },
   {
    "duration": 12,
    "start_time": "2023-01-05T20:23:24.131Z"
   },
   {
    "duration": 1506,
    "start_time": "2023-01-06T09:02:12.065Z"
   },
   {
    "duration": 114,
    "start_time": "2023-01-06T09:02:13.572Z"
   },
   {
    "duration": 3,
    "start_time": "2023-01-06T09:02:13.687Z"
   },
   {
    "duration": 9,
    "start_time": "2023-01-06T09:02:13.914Z"
   },
   {
    "duration": 9,
    "start_time": "2023-01-06T09:02:15.546Z"
   },
   {
    "duration": 669,
    "start_time": "2023-01-06T09:02:16.548Z"
   },
   {
    "duration": 8,
    "start_time": "2023-01-06T09:03:11.980Z"
   },
   {
    "duration": 258,
    "start_time": "2023-01-06T09:03:13.112Z"
   },
   {
    "duration": 131,
    "start_time": "2023-01-06T09:03:31.750Z"
   },
   {
    "duration": 7,
    "start_time": "2023-01-06T09:05:24.996Z"
   },
   {
    "duration": 232,
    "start_time": "2023-01-06T09:06:25.861Z"
   },
   {
    "duration": 13,
    "start_time": "2023-01-06T09:07:45.687Z"
   },
   {
    "duration": 175,
    "start_time": "2023-01-06T09:08:11.962Z"
   },
   {
    "duration": 187,
    "start_time": "2023-01-06T09:08:19.926Z"
   },
   {
    "duration": 181,
    "start_time": "2023-01-06T09:08:55.957Z"
   },
   {
    "duration": 183,
    "start_time": "2023-01-06T09:09:00.817Z"
   },
   {
    "duration": 887,
    "start_time": "2023-01-06T09:10:44.028Z"
   },
   {
    "duration": 623,
    "start_time": "2023-01-06T09:11:16.091Z"
   },
   {
    "duration": 634,
    "start_time": "2023-01-06T09:14:45.758Z"
   },
   {
    "duration": 767,
    "start_time": "2023-01-06T09:16:54.766Z"
   },
   {
    "duration": 715,
    "start_time": "2023-01-06T09:17:11.505Z"
   },
   {
    "duration": 986,
    "start_time": "2023-01-06T09:17:22.498Z"
   },
   {
    "duration": 21,
    "start_time": "2023-01-06T09:26:21.439Z"
   },
   {
    "duration": 407,
    "start_time": "2023-01-06T09:26:42.914Z"
   },
   {
    "duration": 328,
    "start_time": "2023-01-06T09:27:14.307Z"
   },
   {
    "duration": 258,
    "start_time": "2023-01-06T09:27:22.663Z"
   },
   {
    "duration": 8,
    "start_time": "2023-01-06T09:33:50.791Z"
   },
   {
    "duration": 11,
    "start_time": "2023-01-06T09:33:57.238Z"
   },
   {
    "duration": 8,
    "start_time": "2023-01-06T09:34:08.293Z"
   },
   {
    "duration": 4,
    "start_time": "2023-01-06T09:34:39.619Z"
   },
   {
    "duration": 193,
    "start_time": "2023-01-06T09:34:52.904Z"
   },
   {
    "duration": 277,
    "start_time": "2023-01-06T09:35:03.945Z"
   },
   {
    "duration": 7,
    "start_time": "2023-01-06T09:35:20.309Z"
   },
   {
    "duration": 196,
    "start_time": "2023-01-06T09:35:21.658Z"
   },
   {
    "duration": 317,
    "start_time": "2023-01-06T09:35:45.538Z"
   },
   {
    "duration": 270,
    "start_time": "2023-01-06T09:35:57.394Z"
   },
   {
    "duration": 311,
    "start_time": "2023-01-06T09:36:00.406Z"
   },
   {
    "duration": 9,
    "start_time": "2023-01-06T09:52:36.125Z"
   },
   {
    "duration": 4,
    "start_time": "2023-01-06T09:52:39.025Z"
   },
   {
    "duration": 10,
    "start_time": "2023-01-06T09:52:39.693Z"
   },
   {
    "duration": 21,
    "start_time": "2023-01-06T09:52:44.133Z"
   },
   {
    "duration": 7,
    "start_time": "2023-01-06T09:53:16.208Z"
   },
   {
    "duration": 5,
    "start_time": "2023-01-06T09:53:21.510Z"
   },
   {
    "duration": 18,
    "start_time": "2023-01-06T09:53:23.849Z"
   },
   {
    "duration": 21,
    "start_time": "2023-01-06T09:54:56.321Z"
   },
   {
    "duration": 10,
    "start_time": "2023-01-06T09:55:45.091Z"
   },
   {
    "duration": 7,
    "start_time": "2023-01-06T09:55:45.525Z"
   },
   {
    "duration": 26,
    "start_time": "2023-01-06T09:55:45.948Z"
   },
   {
    "duration": 6,
    "start_time": "2023-01-06T09:56:46.785Z"
   },
   {
    "duration": 5,
    "start_time": "2023-01-06T09:56:47.242Z"
   },
   {
    "duration": 107,
    "start_time": "2023-01-06T09:56:47.647Z"
   },
   {
    "duration": 4,
    "start_time": "2023-01-06T09:57:21.505Z"
   },
   {
    "duration": 51,
    "start_time": "2023-01-06T09:57:23.313Z"
   },
   {
    "duration": 3,
    "start_time": "2023-01-06T09:57:23.667Z"
   },
   {
    "duration": 9,
    "start_time": "2023-01-06T09:57:24.009Z"
   },
   {
    "duration": 8,
    "start_time": "2023-01-06T09:57:25.579Z"
   },
   {
    "duration": 609,
    "start_time": "2023-01-06T09:57:26.410Z"
   },
   {
    "duration": 7,
    "start_time": "2023-01-06T09:57:27.020Z"
   },
   {
    "duration": 254,
    "start_time": "2023-01-06T09:57:27.234Z"
   },
   {
    "duration": 6,
    "start_time": "2023-01-06T09:57:27.497Z"
   },
   {
    "duration": 979,
    "start_time": "2023-01-06T09:57:27.753Z"
   },
   {
    "duration": 375,
    "start_time": "2023-01-06T09:57:30.016Z"
   },
   {
    "duration": 7,
    "start_time": "2023-01-06T09:57:30.872Z"
   },
   {
    "duration": 340,
    "start_time": "2023-01-06T09:57:31.915Z"
   },
   {
    "duration": 3,
    "start_time": "2023-01-06T09:57:34.231Z"
   },
   {
    "duration": 13,
    "start_time": "2023-01-06T09:58:46.499Z"
   },
   {
    "duration": 10,
    "start_time": "2023-01-06T09:58:50.048Z"
   },
   {
    "duration": 5,
    "start_time": "2023-01-06T09:59:03.666Z"
   },
   {
    "duration": 10,
    "start_time": "2023-01-06T09:59:04.284Z"
   },
   {
    "duration": 10,
    "start_time": "2023-01-06T09:59:06.659Z"
   },
   {
    "duration": 2,
    "start_time": "2023-01-06T09:59:08.035Z"
   },
   {
    "duration": 27,
    "start_time": "2023-01-06T09:59:22.472Z"
   },
   {
    "duration": 7,
    "start_time": "2023-01-06T09:59:37.933Z"
   },
   {
    "duration": 228,
    "start_time": "2023-01-06T09:59:39.019Z"
   },
   {
    "duration": 8,
    "start_time": "2023-01-06T09:59:41.950Z"
   },
   {
    "duration": 934,
    "start_time": "2023-01-06T09:59:42.654Z"
   },
   {
    "duration": 257,
    "start_time": "2023-01-06T09:59:44.223Z"
   },
   {
    "duration": 6,
    "start_time": "2023-01-06T09:59:45.248Z"
   },
   {
    "duration": 399,
    "start_time": "2023-01-06T09:59:47.686Z"
   },
   {
    "duration": 12,
    "start_time": "2023-01-06T09:59:52.508Z"
   },
   {
    "duration": 10,
    "start_time": "2023-01-06T10:00:56.272Z"
   },
   {
    "duration": 12,
    "start_time": "2023-01-06T10:00:58.358Z"
   },
   {
    "duration": 3,
    "start_time": "2023-01-06T10:01:03.100Z"
   },
   {
    "duration": 4,
    "start_time": "2023-01-06T10:01:21.207Z"
   },
   {
    "duration": 12,
    "start_time": "2023-01-06T10:01:21.734Z"
   },
   {
    "duration": 9,
    "start_time": "2023-01-06T10:01:22.112Z"
   },
   {
    "duration": 33,
    "start_time": "2023-01-06T10:01:22.765Z"
   },
   {
    "duration": 5,
    "start_time": "2023-01-06T10:04:17.696Z"
   },
   {
    "duration": 30,
    "start_time": "2023-01-06T10:04:22.564Z"
   },
   {
    "duration": 42,
    "start_time": "2023-01-06T10:04:41.057Z"
   },
   {
    "duration": 3,
    "start_time": "2023-01-06T10:04:41.297Z"
   },
   {
    "duration": 7,
    "start_time": "2023-01-06T10:04:41.536Z"
   },
   {
    "duration": 10,
    "start_time": "2023-01-06T10:04:41.773Z"
   },
   {
    "duration": 601,
    "start_time": "2023-01-06T10:04:42.186Z"
   },
   {
    "duration": 6,
    "start_time": "2023-01-06T10:04:42.796Z"
   },
   {
    "duration": 238,
    "start_time": "2023-01-06T10:04:42.804Z"
   },
   {
    "duration": 8,
    "start_time": "2023-01-06T10:04:43.043Z"
   },
   {
    "duration": 1106,
    "start_time": "2023-01-06T10:04:43.052Z"
   },
   {
    "duration": 267,
    "start_time": "2023-01-06T10:04:44.160Z"
   },
   {
    "duration": 8,
    "start_time": "2023-01-06T10:04:44.428Z"
   },
   {
    "duration": 362,
    "start_time": "2023-01-06T10:04:44.438Z"
   },
   {
    "duration": 4,
    "start_time": "2023-01-06T10:04:51.246Z"
   },
   {
    "duration": 31,
    "start_time": "2023-01-06T10:05:09.092Z"
   },
   {
    "duration": 7,
    "start_time": "2023-01-06T10:05:18.703Z"
   },
   {
    "duration": 22,
    "start_time": "2023-01-06T10:05:20.519Z"
   },
   {
    "duration": 6,
    "start_time": "2023-01-06T10:05:50.634Z"
   },
   {
    "duration": 232,
    "start_time": "2023-01-06T10:05:51.027Z"
   },
   {
    "duration": 7,
    "start_time": "2023-01-06T10:05:51.316Z"
   },
   {
    "duration": 1117,
    "start_time": "2023-01-06T10:05:51.521Z"
   },
   {
    "duration": 265,
    "start_time": "2023-01-06T10:05:52.640Z"
   },
   {
    "duration": 6,
    "start_time": "2023-01-06T10:05:52.907Z"
   },
   {
    "duration": 282,
    "start_time": "2023-01-06T10:05:53.177Z"
   },
   {
    "duration": 3,
    "start_time": "2023-01-06T10:05:55.423Z"
   },
   {
    "duration": 3,
    "start_time": "2023-01-06T10:05:56.224Z"
   },
   {
    "duration": 34,
    "start_time": "2023-01-06T10:05:57.541Z"
   },
   {
    "duration": 4,
    "start_time": "2023-01-06T10:13:59.295Z"
   },
   {
    "duration": 12,
    "start_time": "2023-01-06T10:13:59.740Z"
   },
   {
    "duration": 22,
    "start_time": "2023-01-06T10:14:06.430Z"
   },
   {
    "duration": 4,
    "start_time": "2023-01-06T10:14:10.719Z"
   },
   {
    "duration": 11,
    "start_time": "2023-01-06T10:14:11.133Z"
   },
   {
    "duration": 22,
    "start_time": "2023-01-06T10:14:11.813Z"
   },
   {
    "duration": 4,
    "start_time": "2023-01-06T10:14:12.935Z"
   },
   {
    "duration": 10,
    "start_time": "2023-01-06T10:14:13.221Z"
   },
   {
    "duration": 21,
    "start_time": "2023-01-06T10:14:14.070Z"
   },
   {
    "duration": 4,
    "start_time": "2023-01-06T10:14:16.523Z"
   },
   {
    "duration": 12,
    "start_time": "2023-01-06T10:14:16.723Z"
   },
   {
    "duration": 24,
    "start_time": "2023-01-06T10:14:17.211Z"
   },
   {
    "duration": 4,
    "start_time": "2023-01-06T10:14:18.633Z"
   },
   {
    "duration": 11,
    "start_time": "2023-01-06T10:14:18.818Z"
   },
   {
    "duration": 24,
    "start_time": "2023-01-06T10:14:19.705Z"
   },
   {
    "duration": 4,
    "start_time": "2023-01-06T10:14:22.936Z"
   },
   {
    "duration": 11,
    "start_time": "2023-01-06T10:14:23.172Z"
   },
   {
    "duration": 23,
    "start_time": "2023-01-06T10:14:24.388Z"
   },
   {
    "duration": 4,
    "start_time": "2023-01-06T10:14:38.429Z"
   },
   {
    "duration": 11,
    "start_time": "2023-01-06T10:14:38.705Z"
   },
   {
    "duration": 28,
    "start_time": "2023-01-06T10:14:40.088Z"
   },
   {
    "duration": 5,
    "start_time": "2023-01-06T10:17:44.978Z"
   },
   {
    "duration": 7,
    "start_time": "2023-01-06T10:18:50.547Z"
   },
   {
    "duration": 81,
    "start_time": "2023-01-06T10:19:42.104Z"
   },
   {
    "duration": 95,
    "start_time": "2023-01-06T10:19:54.695Z"
   },
   {
    "duration": 13,
    "start_time": "2023-01-06T10:20:17.423Z"
   },
   {
    "duration": 7,
    "start_time": "2023-01-06T10:20:31.235Z"
   },
   {
    "duration": 21,
    "start_time": "2023-01-06T10:20:31.900Z"
   },
   {
    "duration": 9,
    "start_time": "2023-01-06T10:20:37.718Z"
   },
   {
    "duration": 1437,
    "start_time": "2023-01-06T10:21:23.293Z"
   },
   {
    "duration": 51,
    "start_time": "2023-01-06T10:21:24.732Z"
   },
   {
    "duration": 4,
    "start_time": "2023-01-06T10:21:24.785Z"
   },
   {
    "duration": 31,
    "start_time": "2023-01-06T10:21:24.791Z"
   },
   {
    "duration": 17,
    "start_time": "2023-01-06T10:21:24.824Z"
   },
   {
    "duration": 757,
    "start_time": "2023-01-06T10:21:24.842Z"
   },
   {
    "duration": 9,
    "start_time": "2023-01-06T10:21:25.601Z"
   },
   {
    "duration": 315,
    "start_time": "2023-01-06T10:21:25.611Z"
   },
   {
    "duration": 9,
    "start_time": "2023-01-06T10:21:25.928Z"
   },
   {
    "duration": 1013,
    "start_time": "2023-01-06T10:21:25.938Z"
   },
   {
    "duration": 283,
    "start_time": "2023-01-06T10:21:26.953Z"
   },
   {
    "duration": 6,
    "start_time": "2023-01-06T10:21:27.237Z"
   },
   {
    "duration": 383,
    "start_time": "2023-01-06T10:21:27.245Z"
   },
   {
    "duration": 4,
    "start_time": "2023-01-06T10:21:27.632Z"
   },
   {
    "duration": 8,
    "start_time": "2023-01-06T10:21:27.637Z"
   },
   {
    "duration": 24,
    "start_time": "2023-01-06T10:21:27.646Z"
   },
   {
    "duration": 37,
    "start_time": "2023-01-06T10:21:27.671Z"
   },
   {
    "duration": 7,
    "start_time": "2023-01-06T10:21:27.710Z"
   },
   {
    "duration": 22,
    "start_time": "2023-01-06T10:21:27.719Z"
   },
   {
    "duration": 9,
    "start_time": "2023-01-06T10:22:18.124Z"
   },
   {
    "duration": 10,
    "start_time": "2023-01-06T10:23:34.391Z"
   },
   {
    "duration": 12,
    "start_time": "2023-01-06T10:23:59.986Z"
   },
   {
    "duration": 1366,
    "start_time": "2023-01-06T10:24:09.758Z"
   },
   {
    "duration": 46,
    "start_time": "2023-01-06T10:24:11.126Z"
   },
   {
    "duration": 3,
    "start_time": "2023-01-06T10:24:11.173Z"
   },
   {
    "duration": 11,
    "start_time": "2023-01-06T10:24:11.177Z"
   },
   {
    "duration": 9,
    "start_time": "2023-01-06T10:24:11.190Z"
   },
   {
    "duration": 696,
    "start_time": "2023-01-06T10:24:11.200Z"
   },
   {
    "duration": 9,
    "start_time": "2023-01-06T10:24:11.897Z"
   },
   {
    "duration": 291,
    "start_time": "2023-01-06T10:24:11.907Z"
   },
   {
    "duration": 7,
    "start_time": "2023-01-06T10:24:12.199Z"
   },
   {
    "duration": 969,
    "start_time": "2023-01-06T10:24:12.208Z"
   },
   {
    "duration": 273,
    "start_time": "2023-01-06T10:24:13.179Z"
   },
   {
    "duration": 5,
    "start_time": "2023-01-06T10:24:13.454Z"
   },
   {
    "duration": 365,
    "start_time": "2023-01-06T10:24:13.461Z"
   },
   {
    "duration": 4,
    "start_time": "2023-01-06T10:24:13.827Z"
   },
   {
    "duration": 6,
    "start_time": "2023-01-06T10:24:13.832Z"
   },
   {
    "duration": 21,
    "start_time": "2023-01-06T10:24:13.839Z"
   },
   {
    "duration": 37,
    "start_time": "2023-01-06T10:24:13.861Z"
   },
   {
    "duration": 6,
    "start_time": "2023-01-06T10:24:13.899Z"
   },
   {
    "duration": 12,
    "start_time": "2023-01-06T10:24:13.906Z"
   },
   {
    "duration": 1433,
    "start_time": "2023-01-06T10:25:04.774Z"
   },
   {
    "duration": 47,
    "start_time": "2023-01-06T10:25:06.209Z"
   },
   {
    "duration": 4,
    "start_time": "2023-01-06T10:25:06.257Z"
   },
   {
    "duration": 24,
    "start_time": "2023-01-06T10:25:06.262Z"
   },
   {
    "duration": 9,
    "start_time": "2023-01-06T10:25:06.288Z"
   },
   {
    "duration": 713,
    "start_time": "2023-01-06T10:25:06.299Z"
   },
   {
    "duration": 10,
    "start_time": "2023-01-06T10:25:07.013Z"
   },
   {
    "duration": 298,
    "start_time": "2023-01-06T10:25:07.024Z"
   },
   {
    "duration": 6,
    "start_time": "2023-01-06T10:25:07.324Z"
   },
   {
    "duration": 965,
    "start_time": "2023-01-06T10:25:07.332Z"
   },
   {
    "duration": 283,
    "start_time": "2023-01-06T10:25:08.298Z"
   },
   {
    "duration": 15,
    "start_time": "2023-01-06T10:25:08.582Z"
   },
   {
    "duration": 380,
    "start_time": "2023-01-06T10:25:08.598Z"
   },
   {
    "duration": 3,
    "start_time": "2023-01-06T10:25:08.981Z"
   },
   {
    "duration": 4,
    "start_time": "2023-01-06T10:25:08.998Z"
   },
   {
    "duration": 29,
    "start_time": "2023-01-06T10:25:09.004Z"
   },
   {
    "duration": 38,
    "start_time": "2023-01-06T10:25:09.034Z"
   },
   {
    "duration": 27,
    "start_time": "2023-01-06T10:25:09.074Z"
   },
   {
    "duration": 205,
    "start_time": "2023-01-06T10:25:09.102Z"
   },
   {
    "duration": 29,
    "start_time": "2023-01-06T10:25:30.317Z"
   },
   {
    "duration": 33,
    "start_time": "2023-01-06T10:25:31.321Z"
   },
   {
    "duration": 7,
    "start_time": "2023-01-06T10:25:32.395Z"
   },
   {
    "duration": 186,
    "start_time": "2023-01-06T10:25:32.715Z"
   },
   {
    "duration": 174,
    "start_time": "2023-01-06T11:23:19.151Z"
   },
   {
    "duration": 4,
    "start_time": "2023-01-06T11:23:42.888Z"
   },
   {
    "duration": 1083,
    "start_time": "2023-01-06T11:23:45.819Z"
   },
   {
    "duration": 1379,
    "start_time": "2023-01-06T11:25:07.917Z"
   },
   {
    "duration": 1273,
    "start_time": "2023-01-06T11:25:37.634Z"
   },
   {
    "duration": 1267,
    "start_time": "2023-01-06T11:25:46.933Z"
   },
   {
    "duration": 54,
    "start_time": "2023-01-06T11:27:39.185Z"
   },
   {
    "duration": 1389,
    "start_time": "2023-01-06T11:27:51.109Z"
   },
   {
    "duration": 147,
    "start_time": "2023-01-06T11:28:34.768Z"
   },
   {
    "duration": 28,
    "start_time": "2023-01-06T11:28:52.573Z"
   },
   {
    "duration": 405,
    "start_time": "2023-01-06T11:29:17.531Z"
   },
   {
    "duration": 442,
    "start_time": "2023-01-06T11:29:36.205Z"
   },
   {
    "duration": 436,
    "start_time": "2023-01-06T11:29:53.521Z"
   },
   {
    "duration": 10,
    "start_time": "2023-01-06T11:30:35.550Z"
   },
   {
    "duration": 7,
    "start_time": "2023-01-06T11:30:41.891Z"
   },
   {
    "duration": 28,
    "start_time": "2023-01-06T11:31:06.675Z"
   },
   {
    "duration": 1509,
    "start_time": "2023-01-06T11:31:10.487Z"
   },
   {
    "duration": 30,
    "start_time": "2023-01-06T11:31:13.067Z"
   },
   {
    "duration": 3540,
    "start_time": "2023-01-06T11:31:26.470Z"
   },
   {
    "duration": 4,
    "start_time": "2023-01-06T11:31:50.325Z"
   },
   {
    "duration": 4,
    "start_time": "2023-01-06T11:31:55.767Z"
   },
   {
    "duration": 5,
    "start_time": "2023-01-06T11:32:11.623Z"
   },
   {
    "duration": 1823,
    "start_time": "2023-01-06T11:32:20.578Z"
   },
   {
    "duration": 6,
    "start_time": "2023-01-06T11:32:24.716Z"
   },
   {
    "duration": 4,
    "start_time": "2023-01-06T11:32:36.714Z"
   },
   {
    "duration": 4,
    "start_time": "2023-01-06T11:32:38.316Z"
   },
   {
    "duration": 2947,
    "start_time": "2023-01-06T11:33:20.351Z"
   },
   {
    "duration": 8,
    "start_time": "2023-01-06T11:33:38.000Z"
   },
   {
    "duration": 403,
    "start_time": "2023-01-06T11:33:40.821Z"
   },
   {
    "duration": 10,
    "start_time": "2023-01-06T11:34:08.355Z"
   },
   {
    "duration": 8,
    "start_time": "2023-01-06T11:34:25.438Z"
   },
   {
    "duration": 15,
    "start_time": "2023-01-06T11:34:46.823Z"
   },
   {
    "duration": 547,
    "start_time": "2023-01-06T11:34:56.577Z"
   },
   {
    "duration": 8,
    "start_time": "2023-01-06T11:39:07.034Z"
   },
   {
    "duration": 3,
    "start_time": "2023-01-06T11:42:43.647Z"
   },
   {
    "duration": 10184,
    "start_time": "2023-01-06T11:42:50.349Z"
   },
   {
    "duration": 7469,
    "start_time": "2023-01-06T11:43:38.632Z"
   },
   {
    "duration": 11,
    "start_time": "2023-01-06T11:47:50.483Z"
   },
   {
    "duration": 38750,
    "start_time": "2023-01-06T11:48:11.542Z"
   },
   {
    "duration": 38674,
    "start_time": "2023-01-06T11:54:23.976Z"
   },
   {
    "duration": 36,
    "start_time": "2023-01-06T11:56:39.313Z"
   },
   {
    "duration": 1181,
    "start_time": "2023-01-06T11:56:52.118Z"
   },
   {
    "duration": 1491,
    "start_time": "2023-01-06T11:56:59.119Z"
   },
   {
    "duration": 1612,
    "start_time": "2023-01-06T11:57:14.690Z"
   },
   {
    "duration": 21225,
    "start_time": "2023-01-06T12:02:43.641Z"
   },
   {
    "duration": 11,
    "start_time": "2023-01-06T12:04:28.525Z"
   },
   {
    "duration": 4,
    "start_time": "2023-01-06T12:04:55.556Z"
   },
   {
    "duration": 9639,
    "start_time": "2023-01-06T12:04:57.908Z"
   },
   {
    "duration": 63,
    "start_time": "2023-01-06T12:06:53.673Z"
   },
   {
    "duration": 24,
    "start_time": "2023-01-06T12:07:16.252Z"
   },
   {
    "duration": 3,
    "start_time": "2023-01-06T12:07:19.529Z"
   },
   {
    "duration": 61,
    "start_time": "2023-01-06T12:07:20.386Z"
   },
   {
    "duration": 1386,
    "start_time": "2023-01-06T12:11:40.984Z"
   },
   {
    "duration": 46,
    "start_time": "2023-01-06T12:11:42.372Z"
   },
   {
    "duration": 3,
    "start_time": "2023-01-06T12:11:42.419Z"
   },
   {
    "duration": 13,
    "start_time": "2023-01-06T12:11:42.424Z"
   },
   {
    "duration": 11,
    "start_time": "2023-01-06T12:11:42.439Z"
   },
   {
    "duration": 748,
    "start_time": "2023-01-06T12:11:42.452Z"
   },
   {
    "duration": 8,
    "start_time": "2023-01-06T12:11:43.202Z"
   },
   {
    "duration": 299,
    "start_time": "2023-01-06T12:11:43.211Z"
   },
   {
    "duration": 8,
    "start_time": "2023-01-06T12:11:43.512Z"
   },
   {
    "duration": 1080,
    "start_time": "2023-01-06T12:11:43.523Z"
   },
   {
    "duration": 344,
    "start_time": "2023-01-06T12:11:44.606Z"
   },
   {
    "duration": 5,
    "start_time": "2023-01-06T12:11:44.952Z"
   },
   {
    "duration": 421,
    "start_time": "2023-01-06T12:11:44.959Z"
   },
   {
    "duration": 4,
    "start_time": "2023-01-06T12:11:45.382Z"
   },
   {
    "duration": 12,
    "start_time": "2023-01-06T12:11:45.387Z"
   },
   {
    "duration": 55,
    "start_time": "2023-01-06T12:11:45.400Z"
   },
   {
    "duration": 29,
    "start_time": "2023-01-06T12:11:45.457Z"
   },
   {
    "duration": 12,
    "start_time": "2023-01-06T12:11:45.487Z"
   },
   {
    "duration": 11,
    "start_time": "2023-01-06T12:11:45.501Z"
   },
   {
    "duration": 988,
    "start_time": "2023-01-06T12:11:45.514Z"
   },
   {
    "duration": 21809,
    "start_time": "2023-01-06T12:11:46.504Z"
   },
   {
    "duration": 3,
    "start_time": "2023-01-06T12:12:08.315Z"
   },
   {
    "duration": 125,
    "start_time": "2023-01-06T12:12:08.319Z"
   },
   {
    "duration": 0,
    "start_time": "2023-01-06T12:12:08.446Z"
   },
   {
    "duration": 0,
    "start_time": "2023-01-06T12:12:08.447Z"
   },
   {
    "duration": 69416,
    "start_time": "2023-01-06T12:12:54.506Z"
   },
   {
    "duration": 76,
    "start_time": "2023-01-06T12:15:43.722Z"
   },
   {
    "duration": 566,
    "start_time": "2023-01-06T12:15:44.700Z"
   },
   {
    "duration": 1409,
    "start_time": "2023-01-06T12:30:07.298Z"
   },
   {
    "duration": 1641235,
    "start_time": "2023-01-06T12:33:58.053Z"
   },
   {
    "duration": 246463,
    "start_time": "2023-01-06T13:01:49.982Z"
   },
   {
    "duration": 16716,
    "start_time": "2023-01-06T13:08:47.466Z"
   },
   {
    "duration": 20201,
    "start_time": "2023-01-06T13:10:15.137Z"
   },
   {
    "duration": 20301,
    "start_time": "2023-01-06T13:32:14.407Z"
   },
   {
    "duration": 19965,
    "start_time": "2023-01-06T13:32:43.522Z"
   },
   {
    "duration": 6,
    "start_time": "2023-01-06T13:33:23.531Z"
   },
   {
    "duration": 28,
    "start_time": "2023-01-06T13:33:29.780Z"
   },
   {
    "duration": 19730,
    "start_time": "2023-01-06T13:33:43.253Z"
   },
   {
    "duration": 3,
    "start_time": "2023-01-06T13:35:28.538Z"
   },
   {
    "duration": 8263,
    "start_time": "2023-01-06T13:36:33.106Z"
   },
   {
    "duration": 6405,
    "start_time": "2023-01-06T13:40:02.332Z"
   },
   {
    "duration": 6455,
    "start_time": "2023-01-06T13:40:14.564Z"
   },
   {
    "duration": 11,
    "start_time": "2023-01-06T13:40:39.566Z"
   },
   {
    "duration": 197,
    "start_time": "2023-01-06T13:41:08.960Z"
   },
   {
    "duration": 449,
    "start_time": "2023-01-06T13:41:19.533Z"
   },
   {
    "duration": 240,
    "start_time": "2023-01-06T13:41:35.790Z"
   },
   {
    "duration": 1861,
    "start_time": "2023-01-06T13:42:52.504Z"
   },
   {
    "duration": 233,
    "start_time": "2023-01-06T13:43:16.582Z"
   },
   {
    "duration": 12,
    "start_time": "2023-01-06T13:45:30.718Z"
   },
   {
    "duration": 67,
    "start_time": "2023-01-06T13:45:36.335Z"
   },
   {
    "duration": 9,
    "start_time": "2023-01-06T13:45:38.390Z"
   },
   {
    "duration": 1855,
    "start_time": "2023-01-06T13:45:50.984Z"
   },
   {
    "duration": 6343,
    "start_time": "2023-01-06T13:45:54.514Z"
   },
   {
    "duration": 7,
    "start_time": "2023-01-06T13:46:00.858Z"
   },
   {
    "duration": 1299,
    "start_time": "2023-01-06T13:48:21.847Z"
   },
   {
    "duration": 49,
    "start_time": "2023-01-06T13:48:23.147Z"
   },
   {
    "duration": 4,
    "start_time": "2023-01-06T13:48:23.197Z"
   },
   {
    "duration": 14,
    "start_time": "2023-01-06T13:48:23.203Z"
   },
   {
    "duration": 11,
    "start_time": "2023-01-06T13:48:23.219Z"
   },
   {
    "duration": 753,
    "start_time": "2023-01-06T13:48:23.231Z"
   },
   {
    "duration": 18,
    "start_time": "2023-01-06T13:48:23.985Z"
   },
   {
    "duration": 269,
    "start_time": "2023-01-06T13:48:24.005Z"
   },
   {
    "duration": 6,
    "start_time": "2023-01-06T13:48:24.276Z"
   },
   {
    "duration": 1066,
    "start_time": "2023-01-06T13:48:24.285Z"
   },
   {
    "duration": 278,
    "start_time": "2023-01-06T13:48:25.353Z"
   },
   {
    "duration": 7,
    "start_time": "2023-01-06T13:48:25.633Z"
   },
   {
    "duration": 394,
    "start_time": "2023-01-06T13:48:25.642Z"
   },
   {
    "duration": 4,
    "start_time": "2023-01-06T13:48:26.038Z"
   },
   {
    "duration": 6,
    "start_time": "2023-01-06T13:48:26.043Z"
   },
   {
    "duration": 49,
    "start_time": "2023-01-06T13:48:26.050Z"
   },
   {
    "duration": 27,
    "start_time": "2023-01-06T13:48:26.100Z"
   },
   {
    "duration": 6,
    "start_time": "2023-01-06T13:48:26.129Z"
   },
   {
    "duration": 3,
    "start_time": "2023-01-06T13:48:26.136Z"
   },
   {
    "duration": 1066,
    "start_time": "2023-01-06T13:48:26.140Z"
   },
   {
    "duration": 21210,
    "start_time": "2023-01-06T13:48:27.304Z"
   },
   {
    "duration": 247148,
    "start_time": "2023-01-06T13:48:48.516Z"
   },
   {
    "duration": 8,
    "start_time": "2023-01-06T13:52:55.666Z"
   },
   {
    "duration": 555,
    "start_time": "2023-01-06T13:52:55.676Z"
   },
   {
    "duration": 6407,
    "start_time": "2023-01-06T13:52:56.232Z"
   },
   {
    "duration": 248,
    "start_time": "2023-01-06T13:53:02.642Z"
   },
   {
    "duration": 3718,
    "start_time": "2023-01-06T13:53:02.892Z"
   },
   {
    "duration": 254,
    "start_time": "2023-01-06T13:53:06.614Z"
   },
   {
    "duration": 8,
    "start_time": "2023-01-06T13:53:06.869Z"
   },
   {
    "duration": 5,
    "start_time": "2023-01-06T13:53:13.860Z"
   },
   {
    "duration": 105,
    "start_time": "2023-01-06T13:54:39.718Z"
   },
   {
    "duration": 4,
    "start_time": "2023-01-06T13:54:41.214Z"
   },
   {
    "duration": 12,
    "start_time": "2023-01-06T13:54:50.780Z"
   },
   {
    "duration": 16,
    "start_time": "2023-01-06T13:54:59.446Z"
   },
   {
    "duration": 7,
    "start_time": "2023-01-06T13:55:31.517Z"
   },
   {
    "duration": 5,
    "start_time": "2023-01-06T13:55:41.553Z"
   },
   {
    "duration": 5,
    "start_time": "2023-01-06T13:55:48.359Z"
   },
   {
    "duration": 6,
    "start_time": "2023-01-06T13:56:06.587Z"
   },
   {
    "duration": 6,
    "start_time": "2023-01-06T13:56:11.817Z"
   },
   {
    "duration": 5,
    "start_time": "2023-01-06T13:56:29.262Z"
   },
   {
    "duration": 4,
    "start_time": "2023-01-06T13:56:41.301Z"
   },
   {
    "duration": 10,
    "start_time": "2023-01-06T14:04:44.852Z"
   },
   {
    "duration": 6,
    "start_time": "2023-01-06T14:06:17.100Z"
   },
   {
    "duration": 10,
    "start_time": "2023-01-06T14:10:47.947Z"
   },
   {
    "duration": 5,
    "start_time": "2023-01-06T14:10:50.102Z"
   },
   {
    "duration": 7,
    "start_time": "2023-01-06T14:10:51.309Z"
   },
   {
    "duration": 7,
    "start_time": "2023-01-06T14:11:06.519Z"
   },
   {
    "duration": 1352,
    "start_time": "2023-01-06T14:11:16.977Z"
   },
   {
    "duration": 46,
    "start_time": "2023-01-06T14:11:18.331Z"
   },
   {
    "duration": 3,
    "start_time": "2023-01-06T14:11:18.378Z"
   },
   {
    "duration": 23,
    "start_time": "2023-01-06T14:11:18.382Z"
   },
   {
    "duration": 12,
    "start_time": "2023-01-06T14:11:18.406Z"
   },
   {
    "duration": 719,
    "start_time": "2023-01-06T14:11:18.420Z"
   },
   {
    "duration": 9,
    "start_time": "2023-01-06T14:11:19.141Z"
   },
   {
    "duration": 299,
    "start_time": "2023-01-06T14:11:19.151Z"
   },
   {
    "duration": 9,
    "start_time": "2023-01-06T14:11:19.452Z"
   },
   {
    "duration": 955,
    "start_time": "2023-01-06T14:11:19.464Z"
   },
   {
    "duration": 271,
    "start_time": "2023-01-06T14:11:20.421Z"
   },
   {
    "duration": 6,
    "start_time": "2023-01-06T14:11:20.695Z"
   },
   {
    "duration": 394,
    "start_time": "2023-01-06T14:11:20.703Z"
   },
   {
    "duration": 3,
    "start_time": "2023-01-06T14:11:21.099Z"
   },
   {
    "duration": 13,
    "start_time": "2023-01-06T14:11:21.104Z"
   },
   {
    "duration": 68,
    "start_time": "2023-01-06T14:11:21.118Z"
   },
   {
    "duration": 29,
    "start_time": "2023-01-06T14:11:21.187Z"
   },
   {
    "duration": 7,
    "start_time": "2023-01-06T14:11:21.217Z"
   },
   {
    "duration": 1080,
    "start_time": "2023-01-06T14:11:21.226Z"
   },
   {
    "duration": 20262,
    "start_time": "2023-01-06T14:11:22.308Z"
   },
   {
    "duration": 246217,
    "start_time": "2023-01-06T14:11:42.572Z"
   },
   {
    "duration": 14,
    "start_time": "2023-01-06T14:15:48.790Z"
   },
   {
    "duration": 538,
    "start_time": "2023-01-06T14:15:48.897Z"
   },
   {
    "duration": 6330,
    "start_time": "2023-01-06T14:15:49.437Z"
   },
   {
    "duration": 249,
    "start_time": "2023-01-06T14:15:55.768Z"
   },
   {
    "duration": 3448,
    "start_time": "2023-01-06T14:15:56.020Z"
   },
   {
    "duration": 249,
    "start_time": "2023-01-06T14:15:59.470Z"
   },
   {
    "duration": 4,
    "start_time": "2023-01-06T14:15:59.721Z"
   },
   {
    "duration": 14,
    "start_time": "2023-01-06T14:15:59.727Z"
   },
   {
    "duration": 1586,
    "start_time": "2023-01-09T18:55:06.099Z"
   },
   {
    "duration": 175,
    "start_time": "2023-01-09T18:55:19.015Z"
   },
   {
    "duration": 3,
    "start_time": "2023-01-09T18:55:19.264Z"
   },
   {
    "duration": 10,
    "start_time": "2023-01-09T18:55:19.574Z"
   },
   {
    "duration": 11,
    "start_time": "2023-01-09T18:55:21.459Z"
   },
   {
    "duration": 798,
    "start_time": "2023-01-09T18:55:23.953Z"
   },
   {
    "duration": 10,
    "start_time": "2023-01-09T18:55:25.939Z"
   },
   {
    "duration": 322,
    "start_time": "2023-01-09T18:55:27.251Z"
   },
   {
    "duration": 7,
    "start_time": "2023-01-09T18:55:33.138Z"
   },
   {
    "duration": 1223,
    "start_time": "2023-01-09T18:55:34.503Z"
   },
   {
    "duration": 281,
    "start_time": "2023-01-09T18:56:10.703Z"
   },
   {
    "duration": 3,
    "start_time": "2023-01-09T19:06:10.551Z"
   },
   {
    "duration": 3,
    "start_time": "2023-01-09T19:06:10.761Z"
   },
   {
    "duration": 4,
    "start_time": "2023-01-09T19:06:21.505Z"
   },
   {
    "duration": 181,
    "start_time": "2023-01-09T19:09:34.120Z"
   },
   {
    "duration": 3,
    "start_time": "2023-01-09T19:09:56.534Z"
   },
   {
    "duration": 7,
    "start_time": "2023-01-09T19:10:02.318Z"
   },
   {
    "duration": 176,
    "start_time": "2023-01-09T19:10:03.936Z"
   },
   {
    "duration": 44,
    "start_time": "2023-01-09T19:10:05.161Z"
   },
   {
    "duration": 44,
    "start_time": "2023-01-09T19:10:26.074Z"
   },
   {
    "duration": 3,
    "start_time": "2023-01-09T19:10:26.373Z"
   },
   {
    "duration": 8,
    "start_time": "2023-01-09T19:10:26.659Z"
   },
   {
    "duration": 12,
    "start_time": "2023-01-09T19:10:26.974Z"
   },
   {
    "duration": 688,
    "start_time": "2023-01-09T19:10:28.103Z"
   },
   {
    "duration": 7,
    "start_time": "2023-01-09T19:10:28.793Z"
   },
   {
    "duration": 282,
    "start_time": "2023-01-09T19:10:28.802Z"
   },
   {
    "duration": 10,
    "start_time": "2023-01-09T19:10:29.086Z"
   },
   {
    "duration": 1202,
    "start_time": "2023-01-09T19:10:29.098Z"
   },
   {
    "duration": 423,
    "start_time": "2023-01-09T19:10:30.303Z"
   },
   {
    "duration": 3,
    "start_time": "2023-01-09T19:10:30.728Z"
   },
   {
    "duration": 40,
    "start_time": "2023-01-09T19:10:30.733Z"
   },
   {
    "duration": 23,
    "start_time": "2023-01-09T19:10:30.775Z"
   },
   {
    "duration": 4,
    "start_time": "2023-01-09T19:10:34.950Z"
   },
   {
    "duration": 13,
    "start_time": "2023-01-09T19:10:43.353Z"
   },
   {
    "duration": 4,
    "start_time": "2023-01-09T19:10:57.908Z"
   },
   {
    "duration": 13,
    "start_time": "2023-01-09T19:11:07.113Z"
   },
   {
    "duration": 51,
    "start_time": "2023-01-09T19:11:12.799Z"
   },
   {
    "duration": 41,
    "start_time": "2023-01-09T19:11:13.782Z"
   },
   {
    "duration": 51,
    "start_time": "2023-01-09T19:11:26.259Z"
   },
   {
    "duration": 4,
    "start_time": "2023-01-09T19:11:26.856Z"
   },
   {
    "duration": 21,
    "start_time": "2023-01-09T19:11:26.862Z"
   },
   {
    "duration": 34,
    "start_time": "2023-01-09T19:11:26.885Z"
   },
   {
    "duration": 637,
    "start_time": "2023-01-09T19:11:26.921Z"
   },
   {
    "duration": 6,
    "start_time": "2023-01-09T19:11:27.561Z"
   },
   {
    "duration": 272,
    "start_time": "2023-01-09T19:11:27.577Z"
   },
   {
    "duration": 8,
    "start_time": "2023-01-09T19:11:27.851Z"
   },
   {
    "duration": 1090,
    "start_time": "2023-01-09T19:11:27.861Z"
   },
   {
    "duration": 432,
    "start_time": "2023-01-09T19:11:28.953Z"
   },
   {
    "duration": 2,
    "start_time": "2023-01-09T19:11:29.387Z"
   },
   {
    "duration": 5,
    "start_time": "2023-01-09T19:11:29.391Z"
   },
   {
    "duration": 8,
    "start_time": "2023-01-09T19:11:29.398Z"
   },
   {
    "duration": 5,
    "start_time": "2023-01-09T19:11:30.505Z"
   },
   {
    "duration": 9,
    "start_time": "2023-01-09T19:11:33.758Z"
   },
   {
    "duration": 52,
    "start_time": "2023-01-09T19:11:40.482Z"
   },
   {
    "duration": 41,
    "start_time": "2023-01-09T19:11:42.113Z"
   },
   {
    "duration": 35,
    "start_time": "2023-01-09T19:11:53.712Z"
   },
   {
    "duration": 28,
    "start_time": "2023-01-09T19:11:57.744Z"
   },
   {
    "duration": 1407,
    "start_time": "2023-01-09T19:12:12.029Z"
   },
   {
    "duration": 50,
    "start_time": "2023-01-09T19:12:13.437Z"
   },
   {
    "duration": 3,
    "start_time": "2023-01-09T19:12:13.488Z"
   },
   {
    "duration": 14,
    "start_time": "2023-01-09T19:12:13.493Z"
   },
   {
    "duration": 15,
    "start_time": "2023-01-09T19:12:13.508Z"
   },
   {
    "duration": 821,
    "start_time": "2023-01-09T19:12:13.525Z"
   },
   {
    "duration": 8,
    "start_time": "2023-01-09T19:12:14.348Z"
   },
   {
    "duration": 303,
    "start_time": "2023-01-09T19:12:14.358Z"
   },
   {
    "duration": 9,
    "start_time": "2023-01-09T19:12:14.664Z"
   },
   {
    "duration": 1060,
    "start_time": "2023-01-09T19:12:14.678Z"
   },
   {
    "duration": 307,
    "start_time": "2023-01-09T19:12:15.741Z"
   },
   {
    "duration": 2,
    "start_time": "2023-01-09T19:12:16.050Z"
   },
   {
    "duration": 7,
    "start_time": "2023-01-09T19:12:16.054Z"
   },
   {
    "duration": 15,
    "start_time": "2023-01-09T19:12:16.063Z"
   },
   {
    "duration": 4,
    "start_time": "2023-01-09T19:12:16.079Z"
   },
   {
    "duration": 126,
    "start_time": "2023-01-09T19:12:16.085Z"
   },
   {
    "duration": 0,
    "start_time": "2023-01-09T19:12:16.213Z"
   },
   {
    "duration": 0,
    "start_time": "2023-01-09T19:12:16.214Z"
   },
   {
    "duration": 0,
    "start_time": "2023-01-09T19:12:16.215Z"
   },
   {
    "duration": 0,
    "start_time": "2023-01-09T19:12:16.216Z"
   },
   {
    "duration": 0,
    "start_time": "2023-01-09T19:12:16.217Z"
   },
   {
    "duration": 0,
    "start_time": "2023-01-09T19:12:16.218Z"
   },
   {
    "duration": 0,
    "start_time": "2023-01-09T19:12:16.219Z"
   },
   {
    "duration": 0,
    "start_time": "2023-01-09T19:12:16.221Z"
   },
   {
    "duration": 0,
    "start_time": "2023-01-09T19:12:16.222Z"
   },
   {
    "duration": 0,
    "start_time": "2023-01-09T19:12:16.223Z"
   },
   {
    "duration": 0,
    "start_time": "2023-01-09T19:12:16.225Z"
   },
   {
    "duration": 0,
    "start_time": "2023-01-09T19:12:16.226Z"
   },
   {
    "duration": 0,
    "start_time": "2023-01-09T19:12:16.227Z"
   },
   {
    "duration": 11,
    "start_time": "2023-01-09T19:12:59.912Z"
   },
   {
    "duration": 10,
    "start_time": "2023-01-09T19:13:02.695Z"
   },
   {
    "duration": 12,
    "start_time": "2023-01-09T19:13:04.205Z"
   },
   {
    "duration": 13,
    "start_time": "2023-01-09T19:13:06.175Z"
   },
   {
    "duration": 55,
    "start_time": "2023-01-09T19:13:07.322Z"
   },
   {
    "duration": 5,
    "start_time": "2023-01-09T19:13:32.717Z"
   },
   {
    "duration": 44,
    "start_time": "2023-01-09T19:13:34.526Z"
   },
   {
    "duration": 29,
    "start_time": "2023-01-09T19:13:36.860Z"
   },
   {
    "duration": 42,
    "start_time": "2023-01-09T19:13:38.340Z"
   },
   {
    "duration": 1503,
    "start_time": "2023-01-09T19:13:50.658Z"
   },
   {
    "duration": 50,
    "start_time": "2023-01-09T19:13:52.163Z"
   },
   {
    "duration": 3,
    "start_time": "2023-01-09T19:13:52.215Z"
   },
   {
    "duration": 15,
    "start_time": "2023-01-09T19:13:52.220Z"
   },
   {
    "duration": 13,
    "start_time": "2023-01-09T19:13:52.237Z"
   },
   {
    "duration": 826,
    "start_time": "2023-01-09T19:13:52.252Z"
   },
   {
    "duration": 8,
    "start_time": "2023-01-09T19:13:53.080Z"
   },
   {
    "duration": 328,
    "start_time": "2023-01-09T19:13:53.090Z"
   },
   {
    "duration": 8,
    "start_time": "2023-01-09T19:13:53.419Z"
   },
   {
    "duration": 1152,
    "start_time": "2023-01-09T19:13:53.431Z"
   },
   {
    "duration": 288,
    "start_time": "2023-01-09T19:13:54.585Z"
   },
   {
    "duration": 2,
    "start_time": "2023-01-09T19:13:54.877Z"
   },
   {
    "duration": 25,
    "start_time": "2023-01-09T19:13:54.881Z"
   },
   {
    "duration": 156,
    "start_time": "2023-01-09T19:13:54.908Z"
   },
   {
    "duration": 0,
    "start_time": "2023-01-09T19:13:55.066Z"
   },
   {
    "duration": 0,
    "start_time": "2023-01-09T19:13:55.069Z"
   },
   {
    "duration": 0,
    "start_time": "2023-01-09T19:13:55.070Z"
   },
   {
    "duration": 0,
    "start_time": "2023-01-09T19:13:55.078Z"
   },
   {
    "duration": 0,
    "start_time": "2023-01-09T19:13:55.079Z"
   },
   {
    "duration": 0,
    "start_time": "2023-01-09T19:13:55.081Z"
   },
   {
    "duration": 0,
    "start_time": "2023-01-09T19:13:55.082Z"
   },
   {
    "duration": 0,
    "start_time": "2023-01-09T19:13:55.083Z"
   },
   {
    "duration": 0,
    "start_time": "2023-01-09T19:13:55.085Z"
   },
   {
    "duration": 0,
    "start_time": "2023-01-09T19:13:55.086Z"
   },
   {
    "duration": 0,
    "start_time": "2023-01-09T19:13:55.087Z"
   },
   {
    "duration": 0,
    "start_time": "2023-01-09T19:13:55.089Z"
   },
   {
    "duration": 0,
    "start_time": "2023-01-09T19:13:55.090Z"
   },
   {
    "duration": 0,
    "start_time": "2023-01-09T19:13:55.091Z"
   },
   {
    "duration": 0,
    "start_time": "2023-01-09T19:13:55.092Z"
   },
   {
    "duration": 5,
    "start_time": "2023-01-09T19:17:30.165Z"
   },
   {
    "duration": 5,
    "start_time": "2023-01-09T19:17:32.115Z"
   },
   {
    "duration": 54,
    "start_time": "2023-01-09T19:17:35.335Z"
   },
   {
    "duration": 45,
    "start_time": "2023-01-09T19:17:35.916Z"
   },
   {
    "duration": 1572,
    "start_time": "2023-01-09T19:19:37.054Z"
   },
   {
    "duration": 52,
    "start_time": "2023-01-09T19:19:38.628Z"
   },
   {
    "duration": 4,
    "start_time": "2023-01-09T19:19:38.682Z"
   },
   {
    "duration": 68,
    "start_time": "2023-01-09T19:19:38.688Z"
   },
   {
    "duration": 32,
    "start_time": "2023-01-09T19:19:38.758Z"
   },
   {
    "duration": 871,
    "start_time": "2023-01-09T19:19:38.791Z"
   },
   {
    "duration": 17,
    "start_time": "2023-01-09T19:19:39.664Z"
   },
   {
    "duration": 364,
    "start_time": "2023-01-09T19:19:39.682Z"
   },
   {
    "duration": 8,
    "start_time": "2023-01-09T19:19:40.048Z"
   },
   {
    "duration": 1185,
    "start_time": "2023-01-09T19:19:40.059Z"
   },
   {
    "duration": 321,
    "start_time": "2023-01-09T19:19:41.246Z"
   },
   {
    "duration": 3,
    "start_time": "2023-01-09T19:19:41.577Z"
   },
   {
    "duration": 54,
    "start_time": "2023-01-09T19:19:41.582Z"
   },
   {
    "duration": 170,
    "start_time": "2023-01-09T19:19:41.638Z"
   },
   {
    "duration": 0,
    "start_time": "2023-01-09T19:19:41.810Z"
   },
   {
    "duration": 0,
    "start_time": "2023-01-09T19:19:41.811Z"
   },
   {
    "duration": 0,
    "start_time": "2023-01-09T19:19:41.811Z"
   },
   {
    "duration": 0,
    "start_time": "2023-01-09T19:19:41.813Z"
   },
   {
    "duration": 0,
    "start_time": "2023-01-09T19:19:41.814Z"
   },
   {
    "duration": 0,
    "start_time": "2023-01-09T19:19:41.815Z"
   },
   {
    "duration": 0,
    "start_time": "2023-01-09T19:19:41.816Z"
   },
   {
    "duration": 0,
    "start_time": "2023-01-09T19:19:41.817Z"
   },
   {
    "duration": 0,
    "start_time": "2023-01-09T19:19:41.818Z"
   },
   {
    "duration": 0,
    "start_time": "2023-01-09T19:19:41.819Z"
   },
   {
    "duration": 0,
    "start_time": "2023-01-09T19:19:41.820Z"
   },
   {
    "duration": 0,
    "start_time": "2023-01-09T19:19:41.822Z"
   },
   {
    "duration": 1,
    "start_time": "2023-01-09T19:19:41.823Z"
   },
   {
    "duration": 0,
    "start_time": "2023-01-09T19:19:41.825Z"
   },
   {
    "duration": 0,
    "start_time": "2023-01-09T19:19:41.826Z"
   },
   {
    "duration": 4,
    "start_time": "2023-01-09T19:19:47.595Z"
   },
   {
    "duration": 10,
    "start_time": "2023-01-09T19:19:50.345Z"
   },
   {
    "duration": 5,
    "start_time": "2023-01-09T19:19:54.338Z"
   },
   {
    "duration": 12,
    "start_time": "2023-01-09T19:19:55.961Z"
   },
   {
    "duration": 9,
    "start_time": "2023-01-09T19:20:06.195Z"
   },
   {
    "duration": 13,
    "start_time": "2023-01-09T19:20:07.875Z"
   },
   {
    "duration": 12,
    "start_time": "2023-01-09T19:20:12.900Z"
   },
   {
    "duration": 14,
    "start_time": "2023-01-09T19:20:14.849Z"
   },
   {
    "duration": 14,
    "start_time": "2023-01-09T19:20:30.448Z"
   },
   {
    "duration": 7,
    "start_time": "2023-01-09T19:20:37.453Z"
   },
   {
    "duration": 17,
    "start_time": "2023-01-09T19:20:38.661Z"
   },
   {
    "duration": 5,
    "start_time": "2023-01-09T19:20:55.703Z"
   },
   {
    "duration": 24,
    "start_time": "2023-01-09T19:20:58.295Z"
   },
   {
    "duration": 5,
    "start_time": "2023-01-09T19:21:00.830Z"
   },
   {
    "duration": 21,
    "start_time": "2023-01-09T19:21:01.905Z"
   },
   {
    "duration": 10,
    "start_time": "2023-01-09T19:21:11.388Z"
   },
   {
    "duration": 47,
    "start_time": "2023-01-09T19:21:12.123Z"
   },
   {
    "duration": 31,
    "start_time": "2023-01-09T19:21:14.797Z"
   },
   {
    "duration": 8,
    "start_time": "2023-01-09T19:21:23.908Z"
   },
   {
    "duration": 1104,
    "start_time": "2023-01-09T19:21:31.901Z"
   },
   {
    "duration": 23375,
    "start_time": "2023-01-09T19:21:36.805Z"
   },
   {
    "duration": 277936,
    "start_time": "2023-01-09T19:22:13.200Z"
   },
   {
    "duration": 14,
    "start_time": "2023-01-09T19:26:51.138Z"
   },
   {
    "duration": 22,
    "start_time": "2023-01-09T19:29:14.049Z"
   },
   {
    "duration": 9,
    "start_time": "2023-01-09T19:29:26.048Z"
   },
   {
    "duration": 85,
    "start_time": "2023-01-09T19:30:44.995Z"
   },
   {
    "duration": 472,
    "start_time": "2023-01-09T19:30:46.804Z"
   },
   {
    "duration": 7449,
    "start_time": "2023-01-09T19:30:55.009Z"
   },
   {
    "duration": 302,
    "start_time": "2023-01-09T19:31:02.460Z"
   },
   {
    "duration": 4391,
    "start_time": "2023-01-09T19:31:02.764Z"
   },
   {
    "duration": 301,
    "start_time": "2023-01-09T19:31:07.157Z"
   },
   {
    "duration": 5,
    "start_time": "2023-01-09T19:31:07.460Z"
   },
   {
    "duration": 7,
    "start_time": "2023-01-09T19:31:26.244Z"
   },
   {
    "duration": 10,
    "start_time": "2023-01-09T19:31:49.908Z"
   },
   {
    "duration": 126,
    "start_time": "2023-01-09T19:31:54.499Z"
   },
   {
    "duration": 126,
    "start_time": "2023-01-09T19:32:07.616Z"
   },
   {
    "duration": 267,
    "start_time": "2023-01-09T19:32:18.772Z"
   },
   {
    "duration": 162,
    "start_time": "2023-01-09T19:32:35.340Z"
   },
   {
    "duration": 8,
    "start_time": "2023-01-09T19:32:48.056Z"
   },
   {
    "duration": 10,
    "start_time": "2023-01-09T19:32:57.200Z"
   },
   {
    "duration": 10,
    "start_time": "2023-01-09T19:33:15.310Z"
   },
   {
    "duration": 10,
    "start_time": "2023-01-09T19:33:24.004Z"
   },
   {
    "duration": 140,
    "start_time": "2023-01-09T19:33:38.635Z"
   },
   {
    "duration": 126,
    "start_time": "2023-01-09T19:33:53.068Z"
   },
   {
    "duration": 174,
    "start_time": "2023-01-09T19:34:17.926Z"
   },
   {
    "duration": 138,
    "start_time": "2023-01-09T19:34:43.665Z"
   },
   {
    "duration": 1627,
    "start_time": "2023-01-09T19:43:52.073Z"
   },
   {
    "duration": 309,
    "start_time": "2023-01-09T19:43:54.503Z"
   },
   {
    "duration": 3,
    "start_time": "2023-01-09T19:43:54.814Z"
   },
   {
    "duration": 11,
    "start_time": "2023-01-09T19:43:55.160Z"
   },
   {
    "duration": 13,
    "start_time": "2023-01-09T19:43:56.338Z"
   },
   {
    "duration": 831,
    "start_time": "2023-01-09T19:43:57.011Z"
   },
   {
    "duration": 8,
    "start_time": "2023-01-09T19:43:57.867Z"
   },
   {
    "duration": 298,
    "start_time": "2023-01-09T19:43:58.067Z"
   },
   {
    "duration": 8,
    "start_time": "2023-01-09T19:43:59.376Z"
   },
   {
    "duration": 1198,
    "start_time": "2023-01-09T19:43:59.640Z"
   },
   {
    "duration": 291,
    "start_time": "2023-01-09T19:44:01.487Z"
   },
   {
    "duration": 2,
    "start_time": "2023-01-09T19:44:03.963Z"
   },
   {
    "duration": 2,
    "start_time": "2023-01-09T19:44:04.286Z"
   },
   {
    "duration": 4,
    "start_time": "2023-01-09T19:44:06.498Z"
   },
   {
    "duration": 4,
    "start_time": "2023-01-09T19:44:08.396Z"
   },
   {
    "duration": 52,
    "start_time": "2023-01-09T19:44:11.539Z"
   },
   {
    "duration": 26,
    "start_time": "2023-01-09T19:44:18.378Z"
   },
   {
    "duration": 8,
    "start_time": "2023-01-09T19:44:21.294Z"
   },
   {
    "duration": 1296,
    "start_time": "2023-01-09T19:44:24.928Z"
   },
   {
    "duration": 75,
    "start_time": "2023-01-09T19:44:36.123Z"
   },
   {
    "duration": 20999,
    "start_time": "2023-01-09T19:44:41.706Z"
   },
   {
    "duration": 266514,
    "start_time": "2023-01-09T19:45:56.036Z"
   },
   {
    "duration": 8,
    "start_time": "2023-01-09T19:50:22.552Z"
   },
   {
    "duration": 9,
    "start_time": "2023-01-09T19:51:54.882Z"
   },
   {
    "duration": 459,
    "start_time": "2023-01-09T19:51:59.531Z"
   },
   {
    "duration": 6477,
    "start_time": "2023-01-09T19:52:02.362Z"
   },
   {
    "duration": 283,
    "start_time": "2023-01-09T19:52:08.840Z"
   },
   {
    "duration": 4197,
    "start_time": "2023-01-09T19:52:09.125Z"
   },
   {
    "duration": 274,
    "start_time": "2023-01-09T19:52:22.965Z"
   },
   {
    "duration": 5,
    "start_time": "2023-01-09T19:52:32.978Z"
   },
   {
    "duration": 241,
    "start_time": "2023-01-09T19:52:44.152Z"
   },
   {
    "duration": 162,
    "start_time": "2023-01-09T19:53:16.910Z"
   },
   {
    "duration": 90,
    "start_time": "2023-01-09T19:53:30.642Z"
   },
   {
    "duration": 136,
    "start_time": "2023-01-09T19:53:41.499Z"
   },
   {
    "duration": 144,
    "start_time": "2023-01-09T19:53:53.454Z"
   },
   {
    "duration": 126,
    "start_time": "2023-01-09T19:54:02.584Z"
   },
   {
    "duration": 121,
    "start_time": "2023-01-09T19:54:14.910Z"
   },
   {
    "duration": 126,
    "start_time": "2023-01-09T19:54:18.313Z"
   },
   {
    "duration": 121,
    "start_time": "2023-01-09T19:54:21.841Z"
   },
   {
    "duration": 115,
    "start_time": "2023-01-09T19:55:06.546Z"
   },
   {
    "duration": 110,
    "start_time": "2023-01-09T19:55:33.123Z"
   },
   {
    "duration": 117,
    "start_time": "2023-01-09T19:55:47.157Z"
   },
   {
    "duration": 167,
    "start_time": "2023-01-09T19:56:27.181Z"
   },
   {
    "duration": 175,
    "start_time": "2023-01-09T19:56:34.053Z"
   },
   {
    "duration": 206,
    "start_time": "2023-01-09T19:56:41.269Z"
   },
   {
    "duration": 219,
    "start_time": "2023-01-09T19:56:44.892Z"
   },
   {
    "duration": 299,
    "start_time": "2023-01-09T19:56:58.076Z"
   },
   {
    "duration": 111,
    "start_time": "2023-01-09T19:57:27.984Z"
   },
   {
    "duration": 27,
    "start_time": "2023-01-09T19:57:28.559Z"
   },
   {
    "duration": 1272,
    "start_time": "2023-01-09T19:57:33.747Z"
   },
   {
    "duration": 1488,
    "start_time": "2023-01-09T19:57:53.557Z"
   },
   {
    "duration": 51,
    "start_time": "2023-01-09T19:57:55.046Z"
   },
   {
    "duration": 3,
    "start_time": "2023-01-09T19:57:55.099Z"
   },
   {
    "duration": 36,
    "start_time": "2023-01-09T19:57:55.104Z"
   },
   {
    "duration": 47,
    "start_time": "2023-01-09T19:57:55.142Z"
   },
   {
    "duration": 822,
    "start_time": "2023-01-09T19:57:55.191Z"
   },
   {
    "duration": 8,
    "start_time": "2023-01-09T19:57:56.015Z"
   },
   {
    "duration": 316,
    "start_time": "2023-01-09T19:57:56.025Z"
   },
   {
    "duration": 10,
    "start_time": "2023-01-09T19:57:56.343Z"
   },
   {
    "duration": 1495,
    "start_time": "2023-01-09T19:57:56.356Z"
   },
   {
    "duration": 664,
    "start_time": "2023-01-09T19:57:57.852Z"
   },
   {
    "duration": 3,
    "start_time": "2023-01-09T19:57:58.518Z"
   },
   {
    "duration": 10,
    "start_time": "2023-01-09T19:57:58.522Z"
   },
   {
    "duration": 8,
    "start_time": "2023-01-09T19:57:58.534Z"
   },
   {
    "duration": 6,
    "start_time": "2023-01-09T19:57:58.544Z"
   },
   {
    "duration": 280,
    "start_time": "2023-01-09T19:57:58.552Z"
   },
   {
    "duration": 90,
    "start_time": "2023-01-09T19:57:58.834Z"
   },
   {
    "duration": 17,
    "start_time": "2023-01-09T19:57:58.926Z"
   },
   {
    "duration": 2481,
    "start_time": "2023-01-09T19:57:58.945Z"
   },
   {
    "duration": 66851,
    "start_time": "2023-01-09T19:58:01.514Z"
   },
   {
    "duration": 863450,
    "start_time": "2023-01-09T19:59:08.367Z"
   },
   {
    "duration": 9,
    "start_time": "2023-01-09T20:13:31.819Z"
   },
   {
    "duration": 115,
    "start_time": "2023-01-09T20:13:31.829Z"
   },
   {
    "duration": 0,
    "start_time": "2023-01-09T20:13:31.945Z"
   },
   {
    "duration": 0,
    "start_time": "2023-01-09T20:13:31.947Z"
   },
   {
    "duration": 0,
    "start_time": "2023-01-09T20:13:31.948Z"
   },
   {
    "duration": 0,
    "start_time": "2023-01-09T20:13:31.949Z"
   },
   {
    "duration": 0,
    "start_time": "2023-01-09T20:13:31.950Z"
   },
   {
    "duration": 0,
    "start_time": "2023-01-09T20:13:31.951Z"
   },
   {
    "duration": 0,
    "start_time": "2023-01-09T20:13:31.952Z"
   },
   {
    "duration": 9,
    "start_time": "2023-01-09T20:16:57.523Z"
   },
   {
    "duration": 435,
    "start_time": "2023-01-09T20:21:15.487Z"
   },
   {
    "duration": 192,
    "start_time": "2023-01-09T20:21:45.848Z"
   },
   {
    "duration": 20834,
    "start_time": "2023-01-09T20:22:26.709Z"
   },
   {
    "duration": 11060,
    "start_time": "2023-01-09T20:22:47.545Z"
   },
   {
    "duration": 5,
    "start_time": "2023-01-09T20:22:58.606Z"
   },
   {
    "duration": 4,
    "start_time": "2023-01-09T20:23:01.079Z"
   },
   {
    "duration": 4,
    "start_time": "2023-01-09T20:23:11.459Z"
   },
   {
    "duration": 4,
    "start_time": "2023-01-09T20:23:24.786Z"
   },
   {
    "duration": 3,
    "start_time": "2023-01-09T20:23:43.310Z"
   },
   {
    "duration": 179,
    "start_time": "2023-01-09T20:23:48.644Z"
   },
   {
    "duration": 232,
    "start_time": "2023-01-09T20:23:58.834Z"
   },
   {
    "duration": 197,
    "start_time": "2023-01-09T20:24:09.774Z"
   },
   {
    "duration": 198,
    "start_time": "2023-01-09T20:24:36.851Z"
   },
   {
    "duration": 3169,
    "start_time": "2023-03-25T07:53:00.491Z"
   },
   {
    "duration": 108,
    "start_time": "2023-03-25T07:53:05.165Z"
   },
   {
    "duration": 4,
    "start_time": "2023-03-25T07:53:05.357Z"
   },
   {
    "duration": 11,
    "start_time": "2023-03-25T07:53:05.551Z"
   },
   {
    "duration": 13,
    "start_time": "2023-03-25T07:53:07.055Z"
   },
   {
    "duration": 1970,
    "start_time": "2023-03-25T07:53:08.067Z"
   },
   {
    "duration": 9,
    "start_time": "2023-03-25T07:53:10.759Z"
   },
   {
    "duration": 649,
    "start_time": "2023-03-25T07:53:11.226Z"
   },
   {
    "duration": 12,
    "start_time": "2023-03-25T07:53:11.919Z"
   },
   {
    "duration": 2531,
    "start_time": "2023-03-25T07:53:11.933Z"
   },
   {
    "duration": 724,
    "start_time": "2023-03-25T07:53:14.517Z"
   },
   {
    "duration": 4,
    "start_time": "2023-03-25T07:53:15.243Z"
   },
   {
    "duration": 70,
    "start_time": "2023-03-25T07:53:15.249Z"
   },
   {
    "duration": 322,
    "start_time": "2023-03-25T07:53:15.322Z"
   },
   {
    "duration": 88,
    "start_time": "2023-03-25T07:53:15.647Z"
   },
   {
    "duration": 23,
    "start_time": "2023-03-25T07:53:15.737Z"
   },
   {
    "duration": 3007,
    "start_time": "2023-03-25T07:53:18.512Z"
   },
   {
    "duration": 184282,
    "start_time": "2023-03-25T07:53:32.379Z"
   },
   {
    "duration": 2606012,
    "start_time": "2023-03-25T07:56:36.717Z"
   },
   {
    "duration": 9,
    "start_time": "2023-03-25T08:40:02.731Z"
   },
   {
    "duration": 26,
    "start_time": "2023-03-25T08:40:02.742Z"
   },
   {
    "duration": 103,
    "start_time": "2023-03-25T08:40:02.817Z"
   },
   {
    "duration": 460,
    "start_time": "2023-03-25T08:40:02.921Z"
   },
   {
    "duration": 5,
    "start_time": "2023-03-25T08:40:03.383Z"
   },
   {
    "duration": 211,
    "start_time": "2023-03-25T08:40:03.389Z"
   }
  ],
  "kernelspec": {
   "display_name": "Python 3 (ipykernel)",
   "language": "python",
   "name": "python3"
  },
  "language_info": {
   "codemirror_mode": {
    "name": "ipython",
    "version": 3
   },
   "file_extension": ".py",
   "mimetype": "text/x-python",
   "name": "python",
   "nbconvert_exporter": "python",
   "pygments_lexer": "ipython3",
   "version": "3.9.5"
  },
  "toc": {
   "base_numbering": 1,
   "nav_menu": {},
   "number_sections": true,
   "sideBar": true,
   "skip_h1_title": true,
   "title_cell": "Содержание",
   "title_sidebar": "Contents",
   "toc_cell": true,
   "toc_position": {},
   "toc_section_display": true,
   "toc_window_display": true
  }
 },
 "nbformat": 4,
 "nbformat_minor": 2
}
