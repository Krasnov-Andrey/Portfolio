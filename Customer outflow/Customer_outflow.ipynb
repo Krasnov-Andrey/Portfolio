{
 "cells": [
  {
   "cell_type": "markdown",
   "metadata": {},
   "source": [
    "# Прогнозирование оттока клиентов из банка"
   ]
  },
  {
   "cell_type": "markdown",
   "metadata": {},
   "source": [
    "# Отток клиентов"
   ]
  },
  {
   "cell_type": "markdown",
   "metadata": {},
   "source": [
    "Из «Бета-Банка» стали уходить клиенты. Каждый месяц. Немного, но заметно. Банковские маркетологи посчитали: сохранять текущих клиентов дешевле, чем привлекать новых.\n",
    "\n",
    "Нужно спрогнозировать, уйдёт клиент из банка в ближайшее время или нет. Вам предоставлены исторические данные о поведении клиентов и расторжении договоров с банком. \n",
    "\n",
    "Постройте модель с предельно большим значением *F1*-меры. Чтобы сдать проект успешно, нужно довести метрику до 0.59. Проверьте *F1*-меру на тестовой выборке самостоятельно.\n",
    "\n",
    "Дополнительно измеряйте *AUC-ROC*, сравнивайте её значение с *F1*-мерой.\n",
    "\n",
    "Источник данных: [https://www.kaggle.com/barelydedicated/bank-customer-churn-modeling](https://www.kaggle.com/barelydedicated/bank-customer-churn-modeling)"
   ]
  },
  {
   "cell_type": "markdown",
   "metadata": {},
   "source": [
    "**Цель:**\n",
    "\n",
    "Получить прогноз ухода клиентов из «Бета-Банка» в ближайшее время."
   ]
  },
  {
   "cell_type": "markdown",
   "metadata": {},
   "source": [
    "# План работы\n",
    "\n",
    "1. Загрузить и подготовить данные:\n",
    "  - Загрузить данные\n",
    "  - Исследовать характеристики\n",
    "  - Исследовать на дисбаланс классов\n",
    "  - Устранить дисбаланс при наличии.\n",
    "  - Подготовить массив признаков по технологии TF-IDF\n",
    "2. Обучить разные модели:\n",
    " - Разбить на обучающую и тестовую выборки\n",
    " - Логистическая регрессия - обучить и протестировать\n",
    " - DecisionTreeClassifier - обучить и протестировать \n",
    " - Случайный лес - обучить и протестировать\n",
    "3. Сделать выводы:\n",
    " - Выбрать лучшую модель\n",
    " - Сделать выводы по работе"
   ]
  },
  {
   "cell_type": "markdown",
   "metadata": {
    "toc": true
   },
   "source": [
    "<h1>Содержание<span class=\"tocSkip\"></span></h1>\n",
    "<div class=\"toc\"><ul class=\"toc-item\"><li><span><a href=\"#Подготовка-данных\" data-toc-modified-id=\"Подготовка-данных-1\"><span class=\"toc-item-num\">1&nbsp;&nbsp;</span>Подготовка данных</a></span><ul class=\"toc-item\"><li><span><a href=\"#Общая-информация-о-данных\" data-toc-modified-id=\"Общая-информация-о-данных-1.1\"><span class=\"toc-item-num\">1.1&nbsp;&nbsp;</span>Общая информация о данных</a></span></li><li><span><a href=\"#Предобработка-данных\" data-toc-modified-id=\"Предобработка-данных-1.2\"><span class=\"toc-item-num\">1.2&nbsp;&nbsp;</span>Предобработка данных</a></span></li><li><span><a href=\"#One-Hot-Encoding\" data-toc-modified-id=\"One-Hot-Encoding-1.3\"><span class=\"toc-item-num\">1.3&nbsp;&nbsp;</span>One-Hot Encoding</a></span></li></ul></li><li><span><a href=\"#Исследование-задачи\" data-toc-modified-id=\"Исследование-задачи-2\"><span class=\"toc-item-num\">2&nbsp;&nbsp;</span>Исследование задачи</a></span><ul class=\"toc-item\"><li><span><a href=\"#Модель-Logistic-Regression\" data-toc-modified-id=\"Модель-Logistic-Regression-2.1\"><span class=\"toc-item-num\">2.1&nbsp;&nbsp;</span>Модель Logistic Regression</a></span></li><li><span><a href=\"#Модель-DecisionTreeClassifier\" data-toc-modified-id=\"Модель-DecisionTreeClassifier-2.2\"><span class=\"toc-item-num\">2.2&nbsp;&nbsp;</span>Модель DecisionTreeClassifier</a></span></li><li><span><a href=\"#Random-Forest-Classifier\" data-toc-modified-id=\"Random-Forest-Classifier-2.3\"><span class=\"toc-item-num\">2.3&nbsp;&nbsp;</span>Random Forest Classifier</a></span></li></ul></li><li><span><a href=\"#Борьба-с-дисбалансом\" data-toc-modified-id=\"Борьба-с-дисбалансом-3\"><span class=\"toc-item-num\">3&nbsp;&nbsp;</span>Борьба с дисбалансом</a></span><ul class=\"toc-item\"><li><span><a href=\"#Взвешивание-классов\" data-toc-modified-id=\"Взвешивание-классов-3.1\"><span class=\"toc-item-num\">3.1&nbsp;&nbsp;</span>Взвешивание классов</a></span><ul class=\"toc-item\"><li><span><a href=\"#Модель-Logistic-Regression\" data-toc-modified-id=\"Модель-Logistic-Regression-3.1.1\"><span class=\"toc-item-num\">3.1.1&nbsp;&nbsp;</span>Модель Logistic Regression</a></span></li><li><span><a href=\"#Модель-DecisionTreeClassifier\" data-toc-modified-id=\"Модель-DecisionTreeClassifier-3.1.2\"><span class=\"toc-item-num\">3.1.2&nbsp;&nbsp;</span>Модель DecisionTreeClassifier</a></span></li><li><span><a href=\"#Random-Forest-Classifier\" data-toc-modified-id=\"Random-Forest-Classifier-3.1.3\"><span class=\"toc-item-num\">3.1.3&nbsp;&nbsp;</span>Random Forest Classifier</a></span></li></ul></li><li><span><a href=\"#Увеличение-выборки-(upsampling)\" data-toc-modified-id=\"Увеличение-выборки-(upsampling)-3.2\"><span class=\"toc-item-num\">3.2&nbsp;&nbsp;</span>Увеличение выборки (upsampling)</a></span><ul class=\"toc-item\"><li><span><a href=\"#Модель-Logistic-Regression\" data-toc-modified-id=\"Модель-Logistic-Regression-3.2.1\"><span class=\"toc-item-num\">3.2.1&nbsp;&nbsp;</span>Модель Logistic Regression</a></span></li><li><span><a href=\"#Модель-DecisionTreeClassifier\" data-toc-modified-id=\"Модель-DecisionTreeClassifier-3.2.2\"><span class=\"toc-item-num\">3.2.2&nbsp;&nbsp;</span>Модель DecisionTreeClassifier</a></span></li><li><span><a href=\"#Random-Forest-Classifier\" data-toc-modified-id=\"Random-Forest-Classifier-3.2.3\"><span class=\"toc-item-num\">3.2.3&nbsp;&nbsp;</span>Random Forest Classifier</a></span></li></ul></li><li><span><a href=\"#Уменьшение--выборки-(downsampling)\" data-toc-modified-id=\"Уменьшение--выборки-(downsampling)-3.3\"><span class=\"toc-item-num\">3.3&nbsp;&nbsp;</span>Уменьшение  выборки (downsampling)</a></span><ul class=\"toc-item\"><li><span><a href=\"#Модель-Logistic-Regression\" data-toc-modified-id=\"Модель-Logistic-Regression-3.3.1\"><span class=\"toc-item-num\">3.3.1&nbsp;&nbsp;</span>Модель Logistic Regression</a></span></li><li><span><a href=\"#Модель-DecisionTreeClassifier\" data-toc-modified-id=\"Модель-DecisionTreeClassifier-3.3.2\"><span class=\"toc-item-num\">3.3.2&nbsp;&nbsp;</span>Модель DecisionTreeClassifier</a></span></li><li><span><a href=\"#Random-Forest-Classifier\" data-toc-modified-id=\"Random-Forest-Classifier-3.3.3\"><span class=\"toc-item-num\">3.3.3&nbsp;&nbsp;</span>Random Forest Classifier</a></span></li></ul></li><li><span><a href=\"#Исследование-метрики-AUC-ROC\" data-toc-modified-id=\"Исследование-метрики-AUC-ROC-3.4\"><span class=\"toc-item-num\">3.4&nbsp;&nbsp;</span>Исследование метрики AUC-ROC</a></span></li></ul></li><li><span><a href=\"#Тестирование-моделей\" data-toc-modified-id=\"Тестирование-моделей-4\"><span class=\"toc-item-num\">4&nbsp;&nbsp;</span>Тестирование моделей</a></span></li><li><span><a href=\"#Вывод\" data-toc-modified-id=\"Вывод-5\"><span class=\"toc-item-num\">5&nbsp;&nbsp;</span>Вывод</a></span></li></ul></div>"
   ]
  },
  {
   "cell_type": "markdown",
   "metadata": {},
   "source": [
    "## Подготовка данных"
   ]
  },
  {
   "cell_type": "markdown",
   "metadata": {},
   "source": [
    "### Общая информация о данных"
   ]
  },
  {
   "cell_type": "code",
   "execution_count": 1,
   "metadata": {},
   "outputs": [],
   "source": [
    "#Импорт библиотек\n",
    "import pandas as pd\n",
    "import numpy as np\n",
    "import matplotlib.pyplot as plt\n",
    "import seaborn as sns\n",
    "import random\n",
    "#Импорт моделей\n",
    "from sklearn.tree import DecisionTreeClassifier\n",
    "from sklearn.ensemble import RandomForestClassifier\n",
    "from sklearn.linear_model import LogisticRegression\n",
    "#Импорт tools\n",
    "from sklearn.preprocessing import StandardScaler \n",
    "from sklearn.metrics import accuracy_score, recall_score, precision_score, f1_score, roc_auc_score, roc_curve\n",
    "from sklearn.model_selection import train_test_split\n",
    "from sklearn.utils import shuffle\n",
    "from sklearn.metrics import confusion_matrix"
   ]
  },
  {
   "cell_type": "code",
   "execution_count": 2,
   "metadata": {},
   "outputs": [],
   "source": [
    "#Отображение всех столбцов в таблицах, точность данных 2 знака\n",
    "pd.options.display.max_columns = 100\n",
    "pd.set_option(\"display.precision\", 2)\n",
    "pd.options.mode.chained_assignment = None"
   ]
  },
  {
   "cell_type": "code",
   "execution_count": 3,
   "metadata": {
    "scrolled": false
   },
   "outputs": [
    {
     "data": {
      "text/html": [
       "<div>\n",
       "<style scoped>\n",
       "    .dataframe tbody tr th:only-of-type {\n",
       "        vertical-align: middle;\n",
       "    }\n",
       "\n",
       "    .dataframe tbody tr th {\n",
       "        vertical-align: top;\n",
       "    }\n",
       "\n",
       "    .dataframe thead th {\n",
       "        text-align: right;\n",
       "    }\n",
       "</style>\n",
       "<table border=\"1\" class=\"dataframe\">\n",
       "  <thead>\n",
       "    <tr style=\"text-align: right;\">\n",
       "      <th></th>\n",
       "      <th>RowNumber</th>\n",
       "      <th>CustomerId</th>\n",
       "      <th>Surname</th>\n",
       "      <th>CreditScore</th>\n",
       "      <th>Geography</th>\n",
       "      <th>Gender</th>\n",
       "      <th>Age</th>\n",
       "      <th>Tenure</th>\n",
       "      <th>Balance</th>\n",
       "      <th>NumOfProducts</th>\n",
       "      <th>HasCrCard</th>\n",
       "      <th>IsActiveMember</th>\n",
       "      <th>EstimatedSalary</th>\n",
       "      <th>Exited</th>\n",
       "    </tr>\n",
       "  </thead>\n",
       "  <tbody>\n",
       "    <tr>\n",
       "      <th>0</th>\n",
       "      <td>1</td>\n",
       "      <td>15634602</td>\n",
       "      <td>Hargrave</td>\n",
       "      <td>619</td>\n",
       "      <td>France</td>\n",
       "      <td>Female</td>\n",
       "      <td>42</td>\n",
       "      <td>2.0</td>\n",
       "      <td>0.00</td>\n",
       "      <td>1</td>\n",
       "      <td>1</td>\n",
       "      <td>1</td>\n",
       "      <td>101348.88</td>\n",
       "      <td>1</td>\n",
       "    </tr>\n",
       "    <tr>\n",
       "      <th>1</th>\n",
       "      <td>2</td>\n",
       "      <td>15647311</td>\n",
       "      <td>Hill</td>\n",
       "      <td>608</td>\n",
       "      <td>Spain</td>\n",
       "      <td>Female</td>\n",
       "      <td>41</td>\n",
       "      <td>1.0</td>\n",
       "      <td>83807.86</td>\n",
       "      <td>1</td>\n",
       "      <td>0</td>\n",
       "      <td>1</td>\n",
       "      <td>112542.58</td>\n",
       "      <td>0</td>\n",
       "    </tr>\n",
       "    <tr>\n",
       "      <th>2</th>\n",
       "      <td>3</td>\n",
       "      <td>15619304</td>\n",
       "      <td>Onio</td>\n",
       "      <td>502</td>\n",
       "      <td>France</td>\n",
       "      <td>Female</td>\n",
       "      <td>42</td>\n",
       "      <td>8.0</td>\n",
       "      <td>159660.80</td>\n",
       "      <td>3</td>\n",
       "      <td>1</td>\n",
       "      <td>0</td>\n",
       "      <td>113931.57</td>\n",
       "      <td>1</td>\n",
       "    </tr>\n",
       "    <tr>\n",
       "      <th>3</th>\n",
       "      <td>4</td>\n",
       "      <td>15701354</td>\n",
       "      <td>Boni</td>\n",
       "      <td>699</td>\n",
       "      <td>France</td>\n",
       "      <td>Female</td>\n",
       "      <td>39</td>\n",
       "      <td>1.0</td>\n",
       "      <td>0.00</td>\n",
       "      <td>2</td>\n",
       "      <td>0</td>\n",
       "      <td>0</td>\n",
       "      <td>93826.63</td>\n",
       "      <td>0</td>\n",
       "    </tr>\n",
       "    <tr>\n",
       "      <th>4</th>\n",
       "      <td>5</td>\n",
       "      <td>15737888</td>\n",
       "      <td>Mitchell</td>\n",
       "      <td>850</td>\n",
       "      <td>Spain</td>\n",
       "      <td>Female</td>\n",
       "      <td>43</td>\n",
       "      <td>2.0</td>\n",
       "      <td>125510.82</td>\n",
       "      <td>1</td>\n",
       "      <td>1</td>\n",
       "      <td>1</td>\n",
       "      <td>79084.10</td>\n",
       "      <td>0</td>\n",
       "    </tr>\n",
       "  </tbody>\n",
       "</table>\n",
       "</div>"
      ],
      "text/plain": [
       "   RowNumber  CustomerId   Surname  CreditScore Geography  Gender  Age  \\\n",
       "0          1    15634602  Hargrave          619    France  Female   42   \n",
       "1          2    15647311      Hill          608     Spain  Female   41   \n",
       "2          3    15619304      Onio          502    France  Female   42   \n",
       "3          4    15701354      Boni          699    France  Female   39   \n",
       "4          5    15737888  Mitchell          850     Spain  Female   43   \n",
       "\n",
       "   Tenure    Balance  NumOfProducts  HasCrCard  IsActiveMember  \\\n",
       "0     2.0       0.00              1          1               1   \n",
       "1     1.0   83807.86              1          0               1   \n",
       "2     8.0  159660.80              3          1               0   \n",
       "3     1.0       0.00              2          0               0   \n",
       "4     2.0  125510.82              1          1               1   \n",
       "\n",
       "   EstimatedSalary  Exited  \n",
       "0        101348.88       1  \n",
       "1        112542.58       0  \n",
       "2        113931.57       1  \n",
       "3         93826.63       0  \n",
       "4         79084.10       0  "
      ]
     },
     "execution_count": 3,
     "metadata": {},
     "output_type": "execute_result"
    }
   ],
   "source": [
    "#Загрузка данных\n",
    "data = pd.read_csv('/datasets/Churn.csv')\n",
    "data.head()"
   ]
  },
  {
   "cell_type": "code",
   "execution_count": 4,
   "metadata": {
    "scrolled": false
   },
   "outputs": [
    {
     "name": "stdout",
     "output_type": "stream",
     "text": [
      "<class 'pandas.core.frame.DataFrame'>\n",
      "RangeIndex: 10000 entries, 0 to 9999\n",
      "Data columns (total 14 columns):\n",
      " #   Column           Non-Null Count  Dtype  \n",
      "---  ------           --------------  -----  \n",
      " 0   RowNumber        10000 non-null  int64  \n",
      " 1   CustomerId       10000 non-null  int64  \n",
      " 2   Surname          10000 non-null  object \n",
      " 3   CreditScore      10000 non-null  int64  \n",
      " 4   Geography        10000 non-null  object \n",
      " 5   Gender           10000 non-null  object \n",
      " 6   Age              10000 non-null  int64  \n",
      " 7   Tenure           9091 non-null   float64\n",
      " 8   Balance          10000 non-null  float64\n",
      " 9   NumOfProducts    10000 non-null  int64  \n",
      " 10  HasCrCard        10000 non-null  int64  \n",
      " 11  IsActiveMember   10000 non-null  int64  \n",
      " 12  EstimatedSalary  10000 non-null  float64\n",
      " 13  Exited           10000 non-null  int64  \n",
      "dtypes: float64(3), int64(8), object(3)\n",
      "memory usage: 1.1+ MB\n",
      "None\n"
     ]
    },
    {
     "data": {
      "text/html": [
       "<div>\n",
       "<style scoped>\n",
       "    .dataframe tbody tr th:only-of-type {\n",
       "        vertical-align: middle;\n",
       "    }\n",
       "\n",
       "    .dataframe tbody tr th {\n",
       "        vertical-align: top;\n",
       "    }\n",
       "\n",
       "    .dataframe thead th {\n",
       "        text-align: right;\n",
       "    }\n",
       "</style>\n",
       "<table border=\"1\" class=\"dataframe\">\n",
       "  <thead>\n",
       "    <tr style=\"text-align: right;\">\n",
       "      <th></th>\n",
       "      <th>RowNumber</th>\n",
       "      <th>CustomerId</th>\n",
       "      <th>CreditScore</th>\n",
       "      <th>Age</th>\n",
       "      <th>Tenure</th>\n",
       "      <th>Balance</th>\n",
       "      <th>NumOfProducts</th>\n",
       "      <th>HasCrCard</th>\n",
       "      <th>IsActiveMember</th>\n",
       "      <th>EstimatedSalary</th>\n",
       "      <th>Exited</th>\n",
       "    </tr>\n",
       "  </thead>\n",
       "  <tbody>\n",
       "    <tr>\n",
       "      <th>count</th>\n",
       "      <td>10000.00</td>\n",
       "      <td>1.00e+04</td>\n",
       "      <td>10000.00</td>\n",
       "      <td>10000.00</td>\n",
       "      <td>9091.00</td>\n",
       "      <td>10000.00</td>\n",
       "      <td>10000.00</td>\n",
       "      <td>10000.00</td>\n",
       "      <td>10000.00</td>\n",
       "      <td>10000.00</td>\n",
       "      <td>10000.0</td>\n",
       "    </tr>\n",
       "    <tr>\n",
       "      <th>mean</th>\n",
       "      <td>5000.50</td>\n",
       "      <td>1.57e+07</td>\n",
       "      <td>650.53</td>\n",
       "      <td>38.92</td>\n",
       "      <td>5.00</td>\n",
       "      <td>76485.89</td>\n",
       "      <td>1.53</td>\n",
       "      <td>0.71</td>\n",
       "      <td>0.52</td>\n",
       "      <td>100090.24</td>\n",
       "      <td>0.2</td>\n",
       "    </tr>\n",
       "    <tr>\n",
       "      <th>std</th>\n",
       "      <td>2886.90</td>\n",
       "      <td>7.19e+04</td>\n",
       "      <td>96.65</td>\n",
       "      <td>10.49</td>\n",
       "      <td>2.89</td>\n",
       "      <td>62397.41</td>\n",
       "      <td>0.58</td>\n",
       "      <td>0.46</td>\n",
       "      <td>0.50</td>\n",
       "      <td>57510.49</td>\n",
       "      <td>0.4</td>\n",
       "    </tr>\n",
       "    <tr>\n",
       "      <th>min</th>\n",
       "      <td>1.00</td>\n",
       "      <td>1.56e+07</td>\n",
       "      <td>350.00</td>\n",
       "      <td>18.00</td>\n",
       "      <td>0.00</td>\n",
       "      <td>0.00</td>\n",
       "      <td>1.00</td>\n",
       "      <td>0.00</td>\n",
       "      <td>0.00</td>\n",
       "      <td>11.58</td>\n",
       "      <td>0.0</td>\n",
       "    </tr>\n",
       "    <tr>\n",
       "      <th>25%</th>\n",
       "      <td>2500.75</td>\n",
       "      <td>1.56e+07</td>\n",
       "      <td>584.00</td>\n",
       "      <td>32.00</td>\n",
       "      <td>2.00</td>\n",
       "      <td>0.00</td>\n",
       "      <td>1.00</td>\n",
       "      <td>0.00</td>\n",
       "      <td>0.00</td>\n",
       "      <td>51002.11</td>\n",
       "      <td>0.0</td>\n",
       "    </tr>\n",
       "    <tr>\n",
       "      <th>50%</th>\n",
       "      <td>5000.50</td>\n",
       "      <td>1.57e+07</td>\n",
       "      <td>652.00</td>\n",
       "      <td>37.00</td>\n",
       "      <td>5.00</td>\n",
       "      <td>97198.54</td>\n",
       "      <td>1.00</td>\n",
       "      <td>1.00</td>\n",
       "      <td>1.00</td>\n",
       "      <td>100193.91</td>\n",
       "      <td>0.0</td>\n",
       "    </tr>\n",
       "    <tr>\n",
       "      <th>75%</th>\n",
       "      <td>7500.25</td>\n",
       "      <td>1.58e+07</td>\n",
       "      <td>718.00</td>\n",
       "      <td>44.00</td>\n",
       "      <td>7.00</td>\n",
       "      <td>127644.24</td>\n",
       "      <td>2.00</td>\n",
       "      <td>1.00</td>\n",
       "      <td>1.00</td>\n",
       "      <td>149388.25</td>\n",
       "      <td>0.0</td>\n",
       "    </tr>\n",
       "    <tr>\n",
       "      <th>max</th>\n",
       "      <td>10000.00</td>\n",
       "      <td>1.58e+07</td>\n",
       "      <td>850.00</td>\n",
       "      <td>92.00</td>\n",
       "      <td>10.00</td>\n",
       "      <td>250898.09</td>\n",
       "      <td>4.00</td>\n",
       "      <td>1.00</td>\n",
       "      <td>1.00</td>\n",
       "      <td>199992.48</td>\n",
       "      <td>1.0</td>\n",
       "    </tr>\n",
       "  </tbody>\n",
       "</table>\n",
       "</div>"
      ],
      "text/plain": [
       "       RowNumber  CustomerId  CreditScore       Age   Tenure    Balance  \\\n",
       "count   10000.00    1.00e+04     10000.00  10000.00  9091.00   10000.00   \n",
       "mean     5000.50    1.57e+07       650.53     38.92     5.00   76485.89   \n",
       "std      2886.90    7.19e+04        96.65     10.49     2.89   62397.41   \n",
       "min         1.00    1.56e+07       350.00     18.00     0.00       0.00   \n",
       "25%      2500.75    1.56e+07       584.00     32.00     2.00       0.00   \n",
       "50%      5000.50    1.57e+07       652.00     37.00     5.00   97198.54   \n",
       "75%      7500.25    1.58e+07       718.00     44.00     7.00  127644.24   \n",
       "max     10000.00    1.58e+07       850.00     92.00    10.00  250898.09   \n",
       "\n",
       "       NumOfProducts  HasCrCard  IsActiveMember  EstimatedSalary   Exited  \n",
       "count       10000.00   10000.00        10000.00         10000.00  10000.0  \n",
       "mean            1.53       0.71            0.52        100090.24      0.2  \n",
       "std             0.58       0.46            0.50         57510.49      0.4  \n",
       "min             1.00       0.00            0.00            11.58      0.0  \n",
       "25%             1.00       0.00            0.00         51002.11      0.0  \n",
       "50%             1.00       1.00            1.00        100193.91      0.0  \n",
       "75%             2.00       1.00            1.00        149388.25      0.0  \n",
       "max             4.00       1.00            1.00        199992.48      1.0  "
      ]
     },
     "execution_count": 4,
     "metadata": {},
     "output_type": "execute_result"
    }
   ],
   "source": [
    "#общая информация о данных\n",
    "print(data.info())\n",
    "data.describe()"
   ]
  },
  {
   "cell_type": "markdown",
   "metadata": {},
   "source": [
    "В датасете 10 тысяч строк и 14 столбцов. Имеются пропуски в столбце `Tenure`, чуть менее 10% от общей выборки."
   ]
  },
  {
   "cell_type": "markdown",
   "metadata": {},
   "source": [
    "**Признаки**\n",
    "- RowNumber — индекс строки в данных\n",
    "- CustomerId — уникальный идентификатор клиента\n",
    "- Surname — фамилия\n",
    "- CreditScore — кредитный рейтинг\n",
    "- Geography — страна проживания\n",
    "- Gender — пол\n",
    "- Age — возраст\n",
    "- Tenure — сколько лет человек является клиентом банка\n",
    "- Balance — баланс на счёте\n",
    "- NumOfProducts — количество продуктов банка, используемых клиентом\n",
    "- HasCrCard — наличие кредитной карты\n",
    "- IsActiveMember — активность клиента\n",
    "- EstimatedSalary — предполагаемая зарплата\n",
    "\n",
    "**Целевой признак**\n",
    "- Exited — факт ухода клиента"
   ]
  },
  {
   "cell_type": "markdown",
   "metadata": {},
   "source": [
    "**Проверка корреляции данных**"
   ]
  },
  {
   "cell_type": "code",
   "execution_count": 5,
   "metadata": {
    "scrolled": false
   },
   "outputs": [
    {
     "data": {
      "image/png": "[encoded data removed]",
      "text/plain": [
       "<Figure size 1080x504 with 2 Axes>"
      ]
     },
     "metadata": {
      "needs_background": "light"
     },
     "output_type": "display_data"
    }
   ],
   "source": [
    "# Корреляция параметров\n",
    "plt.figure(figsize=(15, 7))\n",
    "sns.heatmap(data.corr(), annot=True, fmt=\".1f\", cmap='RdYlGn');"
   ]
  },
  {
   "cell_type": "markdown",
   "metadata": {},
   "source": [
    "Коэффициенты Пирсона менее 0.5, корреляция отсутствует, данные удалять нет необходимости."
   ]
  },
  {
   "cell_type": "markdown",
   "metadata": {},
   "source": [
    "<div style=\"border:solid black 3px; padding: 10px\">\n",
    "<b> Выводы:</b>\n",
    "\n",
    "- Некорректные название столбцов\n",
    "- Есть пропуски. Нужно разобраться что с ними делать (заменять/удалять/не трогать)\n",
    "- Необходимо провести проверку на дубликаты\n",
    "- Корреляция в данных отсутствует"
   ]
  },
  {
   "cell_type": "markdown",
   "metadata": {},
   "source": [
    "### Предобработка данных"
   ]
  },
  {
   "cell_type": "code",
   "execution_count": 6,
   "metadata": {},
   "outputs": [
    {
     "name": "stderr",
     "output_type": "stream",
     "text": [
      "/tmp/ipykernel_205/3846741158.py:1: FutureWarning: The default value of regex will change from True to False in a future version.\n",
      "  data.columns = data.columns.str.replace(r\"([A-Z])\", r\" \\1\").str.lower().str.replace(' ', '_').str[1:]\n"
     ]
    }
   ],
   "source": [
    "data.columns = data.columns.str.replace(r\"([A-Z])\", r\" \\1\").str.lower().str.replace(' ', '_').str[1:]"
   ]
  },
  {
   "cell_type": "code",
   "execution_count": 7,
   "metadata": {
    "scrolled": true
   },
   "outputs": [
    {
     "data": {
      "text/plain": [
       "row_number            0\n",
       "customer_id           0\n",
       "surname               0\n",
       "credit_score          0\n",
       "geography             0\n",
       "gender                0\n",
       "age                   0\n",
       "tenure              909\n",
       "balance               0\n",
       "num_of_products       0\n",
       "has_cr_card           0\n",
       "is_active_member      0\n",
       "estimated_salary      0\n",
       "exited                0\n",
       "dtype: int64"
      ]
     },
     "execution_count": 7,
     "metadata": {},
     "output_type": "execute_result"
    }
   ],
   "source": [
    "# Количество пропущенных значений\n",
    "data.isna().sum()"
   ]
  },
  {
   "cell_type": "markdown",
   "metadata": {},
   "source": [
    "В столбце `tenure` (период сотруднечества с банком) 909 пропусков, что менее 10 % от датасета. Заполение медианой приведет к искажению данных, восстановить данные также не представляется возможным. Чтобы не терять данные предлогается заполнить пропуски случайным значением в диапазоне от 0 до 10."
   ]
  },
  {
   "cell_type": "code",
   "execution_count": 8,
   "metadata": {
    "scrolled": true
   },
   "outputs": [
    {
     "data": {
      "text/html": [
       "<div>\n",
       "<style scoped>\n",
       "    .dataframe tbody tr th:only-of-type {\n",
       "        vertical-align: middle;\n",
       "    }\n",
       "\n",
       "    .dataframe tbody tr th {\n",
       "        vertical-align: top;\n",
       "    }\n",
       "\n",
       "    .dataframe thead th {\n",
       "        text-align: right;\n",
       "    }\n",
       "</style>\n",
       "<table border=\"1\" class=\"dataframe\">\n",
       "  <thead>\n",
       "    <tr style=\"text-align: right;\">\n",
       "      <th></th>\n",
       "      <th>row_number</th>\n",
       "      <th>customer_id</th>\n",
       "      <th>surname</th>\n",
       "      <th>credit_score</th>\n",
       "      <th>geography</th>\n",
       "      <th>gender</th>\n",
       "      <th>age</th>\n",
       "      <th>tenure</th>\n",
       "      <th>balance</th>\n",
       "      <th>num_of_products</th>\n",
       "      <th>has_cr_card</th>\n",
       "      <th>is_active_member</th>\n",
       "      <th>estimated_salary</th>\n",
       "      <th>exited</th>\n",
       "    </tr>\n",
       "  </thead>\n",
       "  <tbody>\n",
       "    <tr>\n",
       "      <th>30</th>\n",
       "      <td>31</td>\n",
       "      <td>15589475</td>\n",
       "      <td>Azikiwe</td>\n",
       "      <td>591</td>\n",
       "      <td>Spain</td>\n",
       "      <td>Female</td>\n",
       "      <td>39</td>\n",
       "      <td>NaN</td>\n",
       "      <td>0.00</td>\n",
       "      <td>3</td>\n",
       "      <td>1</td>\n",
       "      <td>0</td>\n",
       "      <td>140469.38</td>\n",
       "      <td>1</td>\n",
       "    </tr>\n",
       "    <tr>\n",
       "      <th>48</th>\n",
       "      <td>49</td>\n",
       "      <td>15766205</td>\n",
       "      <td>Yin</td>\n",
       "      <td>550</td>\n",
       "      <td>Germany</td>\n",
       "      <td>Male</td>\n",
       "      <td>38</td>\n",
       "      <td>NaN</td>\n",
       "      <td>103391.38</td>\n",
       "      <td>1</td>\n",
       "      <td>0</td>\n",
       "      <td>1</td>\n",
       "      <td>90878.13</td>\n",
       "      <td>0</td>\n",
       "    </tr>\n",
       "    <tr>\n",
       "      <th>51</th>\n",
       "      <td>52</td>\n",
       "      <td>15768193</td>\n",
       "      <td>Trevisani</td>\n",
       "      <td>585</td>\n",
       "      <td>Germany</td>\n",
       "      <td>Male</td>\n",
       "      <td>36</td>\n",
       "      <td>NaN</td>\n",
       "      <td>146050.97</td>\n",
       "      <td>2</td>\n",
       "      <td>0</td>\n",
       "      <td>0</td>\n",
       "      <td>86424.57</td>\n",
       "      <td>0</td>\n",
       "    </tr>\n",
       "    <tr>\n",
       "      <th>53</th>\n",
       "      <td>54</td>\n",
       "      <td>15702298</td>\n",
       "      <td>Parkhill</td>\n",
       "      <td>655</td>\n",
       "      <td>Germany</td>\n",
       "      <td>Male</td>\n",
       "      <td>41</td>\n",
       "      <td>NaN</td>\n",
       "      <td>125561.97</td>\n",
       "      <td>1</td>\n",
       "      <td>0</td>\n",
       "      <td>0</td>\n",
       "      <td>164040.94</td>\n",
       "      <td>1</td>\n",
       "    </tr>\n",
       "    <tr>\n",
       "      <th>60</th>\n",
       "      <td>61</td>\n",
       "      <td>15651280</td>\n",
       "      <td>Hunter</td>\n",
       "      <td>742</td>\n",
       "      <td>Germany</td>\n",
       "      <td>Male</td>\n",
       "      <td>35</td>\n",
       "      <td>NaN</td>\n",
       "      <td>136857.00</td>\n",
       "      <td>1</td>\n",
       "      <td>0</td>\n",
       "      <td>0</td>\n",
       "      <td>84509.57</td>\n",
       "      <td>0</td>\n",
       "    </tr>\n",
       "    <tr>\n",
       "      <th>...</th>\n",
       "      <td>...</td>\n",
       "      <td>...</td>\n",
       "      <td>...</td>\n",
       "      <td>...</td>\n",
       "      <td>...</td>\n",
       "      <td>...</td>\n",
       "      <td>...</td>\n",
       "      <td>...</td>\n",
       "      <td>...</td>\n",
       "      <td>...</td>\n",
       "      <td>...</td>\n",
       "      <td>...</td>\n",
       "      <td>...</td>\n",
       "      <td>...</td>\n",
       "    </tr>\n",
       "    <tr>\n",
       "      <th>9944</th>\n",
       "      <td>9945</td>\n",
       "      <td>15703923</td>\n",
       "      <td>Cameron</td>\n",
       "      <td>744</td>\n",
       "      <td>Germany</td>\n",
       "      <td>Male</td>\n",
       "      <td>41</td>\n",
       "      <td>NaN</td>\n",
       "      <td>190409.34</td>\n",
       "      <td>2</td>\n",
       "      <td>1</td>\n",
       "      <td>1</td>\n",
       "      <td>138361.48</td>\n",
       "      <td>0</td>\n",
       "    </tr>\n",
       "    <tr>\n",
       "      <th>9956</th>\n",
       "      <td>9957</td>\n",
       "      <td>15707861</td>\n",
       "      <td>Nucci</td>\n",
       "      <td>520</td>\n",
       "      <td>France</td>\n",
       "      <td>Female</td>\n",
       "      <td>46</td>\n",
       "      <td>NaN</td>\n",
       "      <td>85216.61</td>\n",
       "      <td>1</td>\n",
       "      <td>1</td>\n",
       "      <td>0</td>\n",
       "      <td>117369.52</td>\n",
       "      <td>1</td>\n",
       "    </tr>\n",
       "    <tr>\n",
       "      <th>9964</th>\n",
       "      <td>9965</td>\n",
       "      <td>15642785</td>\n",
       "      <td>Douglas</td>\n",
       "      <td>479</td>\n",
       "      <td>France</td>\n",
       "      <td>Male</td>\n",
       "      <td>34</td>\n",
       "      <td>NaN</td>\n",
       "      <td>117593.48</td>\n",
       "      <td>2</td>\n",
       "      <td>0</td>\n",
       "      <td>0</td>\n",
       "      <td>113308.29</td>\n",
       "      <td>0</td>\n",
       "    </tr>\n",
       "    <tr>\n",
       "      <th>9985</th>\n",
       "      <td>9986</td>\n",
       "      <td>15586914</td>\n",
       "      <td>Nepean</td>\n",
       "      <td>659</td>\n",
       "      <td>France</td>\n",
       "      <td>Male</td>\n",
       "      <td>36</td>\n",
       "      <td>NaN</td>\n",
       "      <td>123841.49</td>\n",
       "      <td>2</td>\n",
       "      <td>1</td>\n",
       "      <td>0</td>\n",
       "      <td>96833.00</td>\n",
       "      <td>0</td>\n",
       "    </tr>\n",
       "    <tr>\n",
       "      <th>9999</th>\n",
       "      <td>10000</td>\n",
       "      <td>15628319</td>\n",
       "      <td>Walker</td>\n",
       "      <td>792</td>\n",
       "      <td>France</td>\n",
       "      <td>Female</td>\n",
       "      <td>28</td>\n",
       "      <td>NaN</td>\n",
       "      <td>130142.79</td>\n",
       "      <td>1</td>\n",
       "      <td>1</td>\n",
       "      <td>0</td>\n",
       "      <td>38190.78</td>\n",
       "      <td>0</td>\n",
       "    </tr>\n",
       "  </tbody>\n",
       "</table>\n",
       "<p>909 rows × 14 columns</p>\n",
       "</div>"
      ],
      "text/plain": [
       "      row_number  customer_id    surname  credit_score geography  gender  age  \\\n",
       "30            31     15589475    Azikiwe           591     Spain  Female   39   \n",
       "48            49     15766205        Yin           550   Germany    Male   38   \n",
       "51            52     15768193  Trevisani           585   Germany    Male   36   \n",
       "53            54     15702298   Parkhill           655   Germany    Male   41   \n",
       "60            61     15651280     Hunter           742   Germany    Male   35   \n",
       "...          ...          ...        ...           ...       ...     ...  ...   \n",
       "9944        9945     15703923    Cameron           744   Germany    Male   41   \n",
       "9956        9957     15707861      Nucci           520    France  Female   46   \n",
       "9964        9965     15642785    Douglas           479    France    Male   34   \n",
       "9985        9986     15586914     Nepean           659    France    Male   36   \n",
       "9999       10000     15628319     Walker           792    France  Female   28   \n",
       "\n",
       "      tenure    balance  num_of_products  has_cr_card  is_active_member  \\\n",
       "30       NaN       0.00                3            1                 0   \n",
       "48       NaN  103391.38                1            0                 1   \n",
       "51       NaN  146050.97                2            0                 0   \n",
       "53       NaN  125561.97                1            0                 0   \n",
       "60       NaN  136857.00                1            0                 0   \n",
       "...      ...        ...              ...          ...               ...   \n",
       "9944     NaN  190409.34                2            1                 1   \n",
       "9956     NaN   85216.61                1            1                 0   \n",
       "9964     NaN  117593.48                2            0                 0   \n",
       "9985     NaN  123841.49                2            1                 0   \n",
       "9999     NaN  130142.79                1            1                 0   \n",
       "\n",
       "      estimated_salary  exited  \n",
       "30           140469.38       1  \n",
       "48            90878.13       0  \n",
       "51            86424.57       0  \n",
       "53           164040.94       1  \n",
       "60            84509.57       0  \n",
       "...                ...     ...  \n",
       "9944         138361.48       0  \n",
       "9956         117369.52       1  \n",
       "9964         113308.29       0  \n",
       "9985          96833.00       0  \n",
       "9999          38190.78       0  \n",
       "\n",
       "[909 rows x 14 columns]"
      ]
     },
     "execution_count": 8,
     "metadata": {},
     "output_type": "execute_result"
    }
   ],
   "source": [
    "data[data['tenure'].isna()]"
   ]
  },
  {
   "cell_type": "code",
   "execution_count": 9,
   "metadata": {},
   "outputs": [],
   "source": [
    "#Распределение до замены пропусков\n",
    "a = data['tenure'].value_counts()"
   ]
  },
  {
   "cell_type": "code",
   "execution_count": 10,
   "metadata": {},
   "outputs": [],
   "source": [
    "#Замена пропусков на случайные числа из диапазона 0-10\n",
    "data.loc[data['tenure'].isna(), 'tenure'] = data['tenure'].apply(lambda x: random.randint(0, 10))"
   ]
  },
  {
   "cell_type": "code",
   "execution_count": 11,
   "metadata": {},
   "outputs": [],
   "source": [
    "#Распределение после замены пропусков\n",
    "b = data['tenure'].value_counts()"
   ]
  },
  {
   "cell_type": "code",
   "execution_count": 12,
   "metadata": {
    "scrolled": false
   },
   "outputs": [
    {
     "data": {
      "image/png": "[encoded data removed]",
      "text/plain": [
       "<Figure size 1440x504 with 1 Axes>"
      ]
     },
     "metadata": {
      "needs_background": "light"
     },
     "output_type": "display_data"
    }
   ],
   "source": [
    "#Распределение после замены пропусков\n",
    "plt.figure(figsize=(20, 7))\n",
    "plt.bar(b.index, b, color='r', alpha=0.7, width=0.8, label='после замены')\n",
    "plt.bar(a.index, a, color='b', alpha=0.7, width=0.8, label='до замены')\n",
    "plt.xlabel('Кол-во лет обслуживания', fontsize=17)\n",
    "plt.ylabel('Кол-во клиентов', fontsize=17)\n",
    "plt.grid()\n",
    "plt.title('Кол-во лет взаимодействия клиентов с банком', fontsize=17)\n",
    "plt.legend(loc='upper left', fontsize=15)\n",
    "plt.xticks(fontsize=15)\n",
    "plt.yticks(fontsize=15)\n",
    "plt.show()"
   ]
  },
  {
   "cell_type": "code",
   "execution_count": 13,
   "metadata": {},
   "outputs": [
    {
     "data": {
      "text/plain": [
       "0"
      ]
     },
     "execution_count": 13,
     "metadata": {},
     "output_type": "execute_result"
    }
   ],
   "source": [
    "# подсчёт явных дубликатов\n",
    "data.duplicated().sum()"
   ]
  },
  {
   "cell_type": "markdown",
   "metadata": {},
   "source": [
    "Явные дубликаты отсутствуют"
   ]
  },
  {
   "cell_type": "code",
   "execution_count": 14,
   "metadata": {},
   "outputs": [
    {
     "data": {
      "text/plain": [
       "10000"
      ]
     },
     "execution_count": 14,
     "metadata": {},
     "output_type": "execute_result"
    }
   ],
   "source": [
    "len(data['customer_id'].unique())"
   ]
  },
  {
   "cell_type": "markdown",
   "metadata": {},
   "source": [
    "В датасете присутствуют столбцы с лишней информацией, чтобы не перенагружать модель их следует удалить.\n",
    "\n",
    "- row_number — столбец дублирует индекс\n",
    "- customer_id — id пользователя, повторений в датасете нет, можно удалить.\n",
    "- surname — категориальные данные, столбец не несет полезной информации для модели."
   ]
  },
  {
   "cell_type": "code",
   "execution_count": 15,
   "metadata": {},
   "outputs": [],
   "source": [
    "#удаление лишних столбцов\n",
    "data = data.drop(['row_number', 'customer_id', 'surname'], axis=1)"
   ]
  },
  {
   "cell_type": "markdown",
   "metadata": {},
   "source": [
    "Для оценки целевого признака, проведем анализ датасета по различным признакам"
   ]
  },
  {
   "cell_type": "code",
   "execution_count": 16,
   "metadata": {
    "scrolled": false
   },
   "outputs": [
    {
     "data": {
      "image/png": "[encoded data removed]",
      "text/plain": [
       "<Figure size 864x720 with 5 Axes>"
      ]
     },
     "metadata": {
      "needs_background": "light"
     },
     "output_type": "display_data"
    }
   ],
   "source": [
    "#Соотношение клиентов по различным признакам\n",
    "plt.figure(figsize=(12,10))\n",
    "columns = ['has_cr_card', 'gender', 'is_active_member', 'num_of_products', 'geography']\n",
    "for i in range(5):\n",
    "    plt.subplot(3, 2, i+1)\n",
    "    sns.countplot(x=columns[i], hue='exited', data=data)\n",
    "    plt.ylabel('Кол-во клиентов')\n",
    "    plt.legend([\"Not Exited\", \"Exited\"])\n",
    "plt.show()"
   ]
  },
  {
   "cell_type": "code",
   "execution_count": 17,
   "metadata": {
    "scrolled": false
   },
   "outputs": [
    {
     "data": {
      "image/png": "[encoded data removed]",
      "text/plain": [
       "<Figure size 720x432 with 1 Axes>"
      ]
     },
     "metadata": {
      "needs_background": "light"
     },
     "output_type": "display_data"
    }
   ],
   "source": [
    "data['exited'].value_counts().plot(kind='bar',grid=True,figsize=(10,6),title='Соотношение клиентов', rot='0');"
   ]
  },
  {
   "cell_type": "code",
   "execution_count": 18,
   "metadata": {
    "scrolled": true
   },
   "outputs": [
    {
     "data": {
      "text/plain": [
       "0    0.8\n",
       "1    0.2\n",
       "Name: exited, dtype: float64"
      ]
     },
     "execution_count": 18,
     "metadata": {},
     "output_type": "execute_result"
    }
   ],
   "source": [
    "#Проверка сбалансированности\n",
    "data['exited'].value_counts(normalize=True)"
   ]
  },
  {
   "cell_type": "markdown",
   "metadata": {},
   "source": [
    "Такое распределение говорит, что присутствует дисбаланс в целевом признаке. Соотношение очень несбалансировано: 0 ~ 80% и 1 ~ 20%. Далее проведем исследование моделей без учета дисбаланса классов."
   ]
  },
  {
   "cell_type": "markdown",
   "metadata": {},
   "source": [
    "### One-Hot Encoding"
   ]
  },
  {
   "cell_type": "markdown",
   "metadata": {},
   "source": [
    "Преобразуем категориальные признаки в численные техникой прямого кодирования One-Hot Encoding."
   ]
  },
  {
   "cell_type": "code",
   "execution_count": 19,
   "metadata": {
    "scrolled": false
   },
   "outputs": [
    {
     "data": {
      "text/html": [
       "<div>\n",
       "<style scoped>\n",
       "    .dataframe tbody tr th:only-of-type {\n",
       "        vertical-align: middle;\n",
       "    }\n",
       "\n",
       "    .dataframe tbody tr th {\n",
       "        vertical-align: top;\n",
       "    }\n",
       "\n",
       "    .dataframe thead th {\n",
       "        text-align: right;\n",
       "    }\n",
       "</style>\n",
       "<table border=\"1\" class=\"dataframe\">\n",
       "  <thead>\n",
       "    <tr style=\"text-align: right;\">\n",
       "      <th></th>\n",
       "      <th>credit_score</th>\n",
       "      <th>age</th>\n",
       "      <th>tenure</th>\n",
       "      <th>balance</th>\n",
       "      <th>num_of_products</th>\n",
       "      <th>has_cr_card</th>\n",
       "      <th>is_active_member</th>\n",
       "      <th>estimated_salary</th>\n",
       "      <th>exited</th>\n",
       "      <th>geography_Germany</th>\n",
       "      <th>geography_Spain</th>\n",
       "      <th>gender_Male</th>\n",
       "    </tr>\n",
       "  </thead>\n",
       "  <tbody>\n",
       "    <tr>\n",
       "      <th>0</th>\n",
       "      <td>619</td>\n",
       "      <td>42</td>\n",
       "      <td>2.0</td>\n",
       "      <td>0.00</td>\n",
       "      <td>1</td>\n",
       "      <td>1</td>\n",
       "      <td>1</td>\n",
       "      <td>101348.88</td>\n",
       "      <td>1</td>\n",
       "      <td>0</td>\n",
       "      <td>0</td>\n",
       "      <td>0</td>\n",
       "    </tr>\n",
       "    <tr>\n",
       "      <th>1</th>\n",
       "      <td>608</td>\n",
       "      <td>41</td>\n",
       "      <td>1.0</td>\n",
       "      <td>83807.86</td>\n",
       "      <td>1</td>\n",
       "      <td>0</td>\n",
       "      <td>1</td>\n",
       "      <td>112542.58</td>\n",
       "      <td>0</td>\n",
       "      <td>0</td>\n",
       "      <td>1</td>\n",
       "      <td>0</td>\n",
       "    </tr>\n",
       "    <tr>\n",
       "      <th>2</th>\n",
       "      <td>502</td>\n",
       "      <td>42</td>\n",
       "      <td>8.0</td>\n",
       "      <td>159660.80</td>\n",
       "      <td>3</td>\n",
       "      <td>1</td>\n",
       "      <td>0</td>\n",
       "      <td>113931.57</td>\n",
       "      <td>1</td>\n",
       "      <td>0</td>\n",
       "      <td>0</td>\n",
       "      <td>0</td>\n",
       "    </tr>\n",
       "    <tr>\n",
       "      <th>3</th>\n",
       "      <td>699</td>\n",
       "      <td>39</td>\n",
       "      <td>1.0</td>\n",
       "      <td>0.00</td>\n",
       "      <td>2</td>\n",
       "      <td>0</td>\n",
       "      <td>0</td>\n",
       "      <td>93826.63</td>\n",
       "      <td>0</td>\n",
       "      <td>0</td>\n",
       "      <td>0</td>\n",
       "      <td>0</td>\n",
       "    </tr>\n",
       "    <tr>\n",
       "      <th>4</th>\n",
       "      <td>850</td>\n",
       "      <td>43</td>\n",
       "      <td>2.0</td>\n",
       "      <td>125510.82</td>\n",
       "      <td>1</td>\n",
       "      <td>1</td>\n",
       "      <td>1</td>\n",
       "      <td>79084.10</td>\n",
       "      <td>0</td>\n",
       "      <td>0</td>\n",
       "      <td>1</td>\n",
       "      <td>0</td>\n",
       "    </tr>\n",
       "  </tbody>\n",
       "</table>\n",
       "</div>"
      ],
      "text/plain": [
       "   credit_score  age  tenure    balance  num_of_products  has_cr_card  \\\n",
       "0           619   42     2.0       0.00                1            1   \n",
       "1           608   41     1.0   83807.86                1            0   \n",
       "2           502   42     8.0  159660.80                3            1   \n",
       "3           699   39     1.0       0.00                2            0   \n",
       "4           850   43     2.0  125510.82                1            1   \n",
       "\n",
       "   is_active_member  estimated_salary  exited  geography_Germany  \\\n",
       "0                 1         101348.88       1                  0   \n",
       "1                 1         112542.58       0                  0   \n",
       "2                 0         113931.57       1                  0   \n",
       "3                 0          93826.63       0                  0   \n",
       "4                 1          79084.10       0                  0   \n",
       "\n",
       "   geography_Spain  gender_Male  \n",
       "0                0            0  \n",
       "1                1            0  \n",
       "2                0            0  \n",
       "3                0            0  \n",
       "4                1            0  "
      ]
     },
     "execution_count": 19,
     "metadata": {},
     "output_type": "execute_result"
    }
   ],
   "source": [
    "# кодирование признаков ohe\n",
    "data_ohe = pd.get_dummies(data, drop_first=True)\n",
    "data_ohe.head()"
   ]
  },
  {
   "cell_type": "markdown",
   "metadata": {},
   "source": [
    "Разделим датасет на 3 выборки : обучающую, валидационную и тестовую с соотношением 60:20:20."
   ]
  },
  {
   "cell_type": "code",
   "execution_count": 20,
   "metadata": {},
   "outputs": [],
   "source": [
    "target = data_ohe['exited']\n",
    "features = data_ohe.drop('exited', axis=1)\n",
    "\n",
    "# Разделение датасета на обучающую, валидационную и тестовую выборки\n",
    "features_train, features_test_valid, target_train, target_test_valid = train_test_split(\n",
    "    features, target, test_size=0.4, random_state=12345)"
   ]
  },
  {
   "cell_type": "code",
   "execution_count": 21,
   "metadata": {},
   "outputs": [],
   "source": [
    "#разделение данных на тестовую и валидационную\n",
    "features_valid, features_test, target_valid, target_test = train_test_split(\n",
    "    features_test_valid, target_test_valid, test_size=0.5, random_state=12345)"
   ]
  },
  {
   "cell_type": "markdown",
   "metadata": {},
   "source": [
    "Проверка разделения выборок"
   ]
  },
  {
   "cell_type": "code",
   "execution_count": 22,
   "metadata": {},
   "outputs": [
    {
     "data": {
      "text/plain": [
       "0    0.8\n",
       "1    0.2\n",
       "Name: exited, dtype: float64"
      ]
     },
     "metadata": {},
     "output_type": "display_data"
    },
    {
     "data": {
      "text/plain": [
       "0    0.79\n",
       "1    0.21\n",
       "Name: exited, dtype: float64"
      ]
     },
     "execution_count": 22,
     "metadata": {},
     "output_type": "execute_result"
    }
   ],
   "source": [
    "display(target_train.value_counts(normalize=True))\n",
    "target_test_valid.value_counts(normalize=True)"
   ]
  },
  {
   "cell_type": "code",
   "execution_count": 23,
   "metadata": {},
   "outputs": [
    {
     "data": {
      "text/plain": [
       "0    0.79\n",
       "1    0.21\n",
       "Name: exited, dtype: float64"
      ]
     },
     "metadata": {},
     "output_type": "display_data"
    },
    {
     "data": {
      "text/plain": [
       "0    0.79\n",
       "1    0.21\n",
       "Name: exited, dtype: float64"
      ]
     },
     "execution_count": 23,
     "metadata": {},
     "output_type": "execute_result"
    }
   ],
   "source": [
    "display(target_valid.value_counts(normalize=True))\n",
    "target_test.value_counts(normalize=True)"
   ]
  },
  {
   "cell_type": "code",
   "execution_count": 24,
   "metadata": {},
   "outputs": [
    {
     "name": "stdout",
     "output_type": "stream",
     "text": [
      "Доля тренировочного датасета составляет 60.0%\n",
      "Доля валидационного датасета составляет 20.0%\n",
      "Доля тестового датасета составляет 20.0%\n"
     ]
    }
   ],
   "source": [
    "part_data_train = target_train.shape[0] / data_ohe.shape[0]\n",
    "part_data_valid = target_valid.shape[0] / data_ohe.shape[0]\n",
    "part_data_test = target_test.shape[0] / data_ohe.shape[0]\n",
    "print(f'Доля тренировочного датасета составляет {part_data_train:.01%}') \n",
    "print(f'Доля валидационного датасета составляет {part_data_valid:.01%}') \n",
    "print(f'Доля тестового датасета составляет {part_data_test:.01%}') "
   ]
  },
  {
   "cell_type": "markdown",
   "metadata": {},
   "source": [
    "Чтобы избежать ловушки масштабирования приведем признаки к одному масштабу."
   ]
  },
  {
   "cell_type": "code",
   "execution_count": 25,
   "metadata": {},
   "outputs": [],
   "source": [
    "numeric=['credit_score','age','tenure','balance', 'num_of_products', 'estimated_salary']\n",
    "\n",
    "#Масштабирование признаков выборок\n",
    "scaler = StandardScaler()\n",
    "scaler.fit(features_train[numeric])\n",
    "\n",
    "features_train[numeric] = scaler.transform(features_train[numeric])\n",
    "features_valid[numeric] = scaler.transform(features_valid[numeric]) \n",
    "features_test[numeric] = scaler.transform(features_test[numeric])"
   ]
  },
  {
   "cell_type": "code",
   "execution_count": 26,
   "metadata": {},
   "outputs": [
    {
     "data": {
      "text/html": [
       "<div>\n",
       "<style scoped>\n",
       "    .dataframe tbody tr th:only-of-type {\n",
       "        vertical-align: middle;\n",
       "    }\n",
       "\n",
       "    .dataframe tbody tr th {\n",
       "        vertical-align: top;\n",
       "    }\n",
       "\n",
       "    .dataframe thead th {\n",
       "        text-align: right;\n",
       "    }\n",
       "</style>\n",
       "<table border=\"1\" class=\"dataframe\">\n",
       "  <thead>\n",
       "    <tr style=\"text-align: right;\">\n",
       "      <th></th>\n",
       "      <th>credit_score</th>\n",
       "      <th>age</th>\n",
       "      <th>tenure</th>\n",
       "      <th>balance</th>\n",
       "      <th>num_of_products</th>\n",
       "      <th>has_cr_card</th>\n",
       "      <th>is_active_member</th>\n",
       "      <th>estimated_salary</th>\n",
       "      <th>geography_Germany</th>\n",
       "      <th>geography_Spain</th>\n",
       "      <th>gender_Male</th>\n",
       "    </tr>\n",
       "  </thead>\n",
       "  <tbody>\n",
       "    <tr>\n",
       "      <th>7479</th>\n",
       "      <td>-0.89</td>\n",
       "      <td>-0.37</td>\n",
       "      <td>1.02</td>\n",
       "      <td>1.23</td>\n",
       "      <td>-0.89</td>\n",
       "      <td>1</td>\n",
       "      <td>0</td>\n",
       "      <td>-0.19</td>\n",
       "      <td>0</td>\n",
       "      <td>1</td>\n",
       "      <td>1</td>\n",
       "    </tr>\n",
       "    <tr>\n",
       "      <th>3411</th>\n",
       "      <td>0.61</td>\n",
       "      <td>-0.18</td>\n",
       "      <td>1.02</td>\n",
       "      <td>0.60</td>\n",
       "      <td>-0.89</td>\n",
       "      <td>0</td>\n",
       "      <td>0</td>\n",
       "      <td>-0.33</td>\n",
       "      <td>0</td>\n",
       "      <td>0</td>\n",
       "      <td>0</td>\n",
       "    </tr>\n",
       "    <tr>\n",
       "      <th>6027</th>\n",
       "      <td>2.05</td>\n",
       "      <td>0.48</td>\n",
       "      <td>-0.70</td>\n",
       "      <td>1.03</td>\n",
       "      <td>0.83</td>\n",
       "      <td>0</td>\n",
       "      <td>1</td>\n",
       "      <td>1.50</td>\n",
       "      <td>1</td>\n",
       "      <td>0</td>\n",
       "      <td>1</td>\n",
       "    </tr>\n",
       "    <tr>\n",
       "      <th>1247</th>\n",
       "      <td>-1.46</td>\n",
       "      <td>-1.42</td>\n",
       "      <td>0.33</td>\n",
       "      <td>-1.23</td>\n",
       "      <td>0.83</td>\n",
       "      <td>1</td>\n",
       "      <td>0</td>\n",
       "      <td>-1.07</td>\n",
       "      <td>0</td>\n",
       "      <td>0</td>\n",
       "      <td>1</td>\n",
       "    </tr>\n",
       "    <tr>\n",
       "      <th>3716</th>\n",
       "      <td>0.13</td>\n",
       "      <td>-1.13</td>\n",
       "      <td>-1.04</td>\n",
       "      <td>1.14</td>\n",
       "      <td>-0.89</td>\n",
       "      <td>0</td>\n",
       "      <td>0</td>\n",
       "      <td>1.52</td>\n",
       "      <td>1</td>\n",
       "      <td>0</td>\n",
       "      <td>0</td>\n",
       "    </tr>\n",
       "    <tr>\n",
       "      <th>...</th>\n",
       "      <td>...</td>\n",
       "      <td>...</td>\n",
       "      <td>...</td>\n",
       "      <td>...</td>\n",
       "      <td>...</td>\n",
       "      <td>...</td>\n",
       "      <td>...</td>\n",
       "      <td>...</td>\n",
       "      <td>...</td>\n",
       "      <td>...</td>\n",
       "      <td>...</td>\n",
       "    </tr>\n",
       "    <tr>\n",
       "      <th>4478</th>\n",
       "      <td>-1.07</td>\n",
       "      <td>-0.75</td>\n",
       "      <td>-0.35</td>\n",
       "      <td>-1.23</td>\n",
       "      <td>0.83</td>\n",
       "      <td>0</td>\n",
       "      <td>1</td>\n",
       "      <td>-1.28</td>\n",
       "      <td>0</td>\n",
       "      <td>0</td>\n",
       "      <td>1</td>\n",
       "    </tr>\n",
       "    <tr>\n",
       "      <th>4094</th>\n",
       "      <td>-1.45</td>\n",
       "      <td>-0.94</td>\n",
       "      <td>1.71</td>\n",
       "      <td>-1.23</td>\n",
       "      <td>0.83</td>\n",
       "      <td>0</td>\n",
       "      <td>1</td>\n",
       "      <td>-1.28</td>\n",
       "      <td>0</td>\n",
       "      <td>0</td>\n",
       "      <td>1</td>\n",
       "    </tr>\n",
       "    <tr>\n",
       "      <th>3492</th>\n",
       "      <td>0.03</td>\n",
       "      <td>0.58</td>\n",
       "      <td>-1.04</td>\n",
       "      <td>-0.31</td>\n",
       "      <td>-0.89</td>\n",
       "      <td>0</td>\n",
       "      <td>1</td>\n",
       "      <td>-0.90</td>\n",
       "      <td>0</td>\n",
       "      <td>0</td>\n",
       "      <td>0</td>\n",
       "    </tr>\n",
       "    <tr>\n",
       "      <th>2177</th>\n",
       "      <td>0.15</td>\n",
       "      <td>-1.42</td>\n",
       "      <td>-0.35</td>\n",
       "      <td>-1.23</td>\n",
       "      <td>0.83</td>\n",
       "      <td>0</td>\n",
       "      <td>1</td>\n",
       "      <td>-1.13</td>\n",
       "      <td>0</td>\n",
       "      <td>0</td>\n",
       "      <td>0</td>\n",
       "    </tr>\n",
       "    <tr>\n",
       "      <th>4578</th>\n",
       "      <td>0.40</td>\n",
       "      <td>-0.09</td>\n",
       "      <td>-1.39</td>\n",
       "      <td>-1.23</td>\n",
       "      <td>0.83</td>\n",
       "      <td>0</td>\n",
       "      <td>0</td>\n",
       "      <td>-0.95</td>\n",
       "      <td>0</td>\n",
       "      <td>0</td>\n",
       "      <td>1</td>\n",
       "    </tr>\n",
       "  </tbody>\n",
       "</table>\n",
       "<p>6000 rows × 11 columns</p>\n",
       "</div>"
      ],
      "text/plain": [
       "      credit_score   age  tenure  balance  num_of_products  has_cr_card  \\\n",
       "7479         -0.89 -0.37    1.02     1.23            -0.89            1   \n",
       "3411          0.61 -0.18    1.02     0.60            -0.89            0   \n",
       "6027          2.05  0.48   -0.70     1.03             0.83            0   \n",
       "1247         -1.46 -1.42    0.33    -1.23             0.83            1   \n",
       "3716          0.13 -1.13   -1.04     1.14            -0.89            0   \n",
       "...            ...   ...     ...      ...              ...          ...   \n",
       "4478         -1.07 -0.75   -0.35    -1.23             0.83            0   \n",
       "4094         -1.45 -0.94    1.71    -1.23             0.83            0   \n",
       "3492          0.03  0.58   -1.04    -0.31            -0.89            0   \n",
       "2177          0.15 -1.42   -0.35    -1.23             0.83            0   \n",
       "4578          0.40 -0.09   -1.39    -1.23             0.83            0   \n",
       "\n",
       "      is_active_member  estimated_salary  geography_Germany  geography_Spain  \\\n",
       "7479                 0             -0.19                  0                1   \n",
       "3411                 0             -0.33                  0                0   \n",
       "6027                 1              1.50                  1                0   \n",
       "1247                 0             -1.07                  0                0   \n",
       "3716                 0              1.52                  1                0   \n",
       "...                ...               ...                ...              ...   \n",
       "4478                 1             -1.28                  0                0   \n",
       "4094                 1             -1.28                  0                0   \n",
       "3492                 1             -0.90                  0                0   \n",
       "2177                 1             -1.13                  0                0   \n",
       "4578                 0             -0.95                  0                0   \n",
       "\n",
       "      gender_Male  \n",
       "7479            1  \n",
       "3411            0  \n",
       "6027            1  \n",
       "1247            1  \n",
       "3716            0  \n",
       "...           ...  \n",
       "4478            1  \n",
       "4094            1  \n",
       "3492            0  \n",
       "2177            0  \n",
       "4578            1  \n",
       "\n",
       "[6000 rows x 11 columns]"
      ]
     },
     "execution_count": 26,
     "metadata": {},
     "output_type": "execute_result"
    }
   ],
   "source": [
    "features_train"
   ]
  },
  {
   "cell_type": "markdown",
   "metadata": {},
   "source": [
    "## Исследование задачи"
   ]
  },
  {
   "cell_type": "markdown",
   "metadata": {},
   "source": [
    "Для обучения используем три модели:\n",
    "- **LogisticRegression**\n",
    "- **DecisionTreeClassifier**\n",
    "- **RandomForestClassifier**\n"
   ]
  },
  {
   "cell_type": "code",
   "execution_count": 27,
   "metadata": {},
   "outputs": [],
   "source": [
    "#Функция вывода метрик \n",
    "def print_metrics(target_valid, prediction):\n",
    "    Accuracy_result = accuracy_score(target_valid, prediction)\n",
    "    Recall_result = recall_score(target_valid, prediction)\n",
    "    Precision_result = precision_score(target_valid, prediction)\n",
    "    F1_result = f1_score(target_valid, prediction)\n",
    "    AUC_ROC_result = roc_auc_score(target_valid, prediction)\n",
    "           \n",
    "    print(f'Accuracy: {Accuracy_result:.01%}')\n",
    "    print(f'Recall: {Recall_result:.01%}')\n",
    "    print(f'Precision: {Precision_result:.01%}')\n",
    "    print(f'F1: {F1_result:.01%}')"
   ]
  },
  {
   "cell_type": "markdown",
   "metadata": {},
   "source": [
    "### Модель Logistic Regression"
   ]
  },
  {
   "cell_type": "code",
   "execution_count": 28,
   "metadata": {},
   "outputs": [
    {
     "name": "stdout",
     "output_type": "stream",
     "text": [
      "Accuracy: 80.2%\n",
      "Recall: 23.4%\n",
      "Precision: 56.6%\n",
      "F1: 33.2%\n"
     ]
    }
   ],
   "source": [
    "logistic_model = LogisticRegression(random_state=12345, solver='liblinear', max_iter=1000)\n",
    "\n",
    "logistic_model.fit(features_train, target_train)# обучение модели\n",
    "\n",
    "logistic_predictions_valid = logistic_model.predict(features_valid)# предсказания модели\n",
    "   \n",
    "# качество модели \n",
    "print_metrics(target_valid, logistic_predictions_valid)"
   ]
  },
  {
   "cell_type": "markdown",
   "metadata": {},
   "source": [
    "### Модель DecisionTreeClassifier"
   ]
  },
  {
   "cell_type": "code",
   "execution_count": 29,
   "metadata": {},
   "outputs": [
    {
     "name": "stdout",
     "output_type": "stream",
     "text": [
      "Accuracy: 84.8%\n",
      "Recall: 48.3%\n",
      "Precision: 69.7%\n",
      "F1: 57.1%\n",
      "Глубина дерева: 9\n"
     ]
    }
   ],
   "source": [
    "best_tree_model = None\n",
    "best_tree_result = 0\n",
    "\n",
    "for depth in range(1, 11):\n",
    "    tree_model = DecisionTreeClassifier(random_state=12345, max_depth=depth) # обучение модели с заданной глубиной дерева\n",
    "    tree_model.fit(features_train, target_train)# обучение модели\n",
    "      \n",
    "    tree_predictions_valid = tree_model.predict(features_valid)# предсказания модели\n",
    "    \n",
    "    tree_result = f1_score(target_valid, tree_predictions_valid) # качество модели \n",
    "        \n",
    "    if tree_result > best_tree_result:\n",
    "        best_tree_model = tree_model\n",
    "        best_tree_result = tree_result\n",
    "        depth_tree = depth\n",
    "        best_tree_predictions_valid = best_tree_model.predict(features_valid)\n",
    "\n",
    "print_metrics(target_valid, best_tree_predictions_valid)\n",
    "print(f'Глубина дерева: {depth_tree}')"
   ]
  },
  {
   "cell_type": "markdown",
   "metadata": {},
   "source": [
    "### Random Forest Classifier"
   ]
  },
  {
   "cell_type": "code",
   "execution_count": 30,
   "metadata": {},
   "outputs": [
    {
     "name": "stdout",
     "output_type": "stream",
     "text": [
      "Кол-во деревьев: 20\n",
      "Глубина дерева: 10\n",
      "Accuracy: 86.4%\n",
      "Recall: 45.0%\n",
      "Precision: 81.4%\n",
      "F1: 57.9%\n"
     ]
    }
   ],
   "source": [
    "best_forest_model = None\n",
    "best_forest_result = 0\n",
    "\n",
    "for est in range(10, 51, 10):\n",
    "    for depth in range (1, 12):\n",
    "        forest_model = RandomForestClassifier(random_state=12345, n_estimators=est, max_depth=depth) #обучение модели с заданным количеством деревьев\n",
    "        forest_model.fit(features_train, target_train)# обучение модели\n",
    "    \n",
    "        forest_predictions_valid = forest_model.predict(features_valid)# предсказания модели\n",
    "        \n",
    "        forest_result = f1_score(target_valid, forest_predictions_valid) # качество модели \n",
    "                          \n",
    "        if forest_result > best_forest_result:\n",
    "            best_forest_model = forest_model\n",
    "            best_forest_result = forest_result\n",
    "            forest_depth_tree = depth\n",
    "            forest_est = est      \n",
    "            best_forest_predictions_valid = best_forest_model.predict(features_valid)\n",
    "        \n",
    "print(f'Кол-во деревьев: {forest_est}')        \n",
    "print(f'Глубина дерева: {forest_depth_tree}')   \n",
    "\n",
    "print_metrics(target_valid, best_forest_predictions_valid)"
   ]
  },
  {
   "cell_type": "markdown",
   "metadata": {},
   "source": [
    "## Борьба с дисбалансом"
   ]
  },
  {
   "cell_type": "markdown",
   "metadata": {},
   "source": [
    "### Взвешивание классов"
   ]
  },
  {
   "cell_type": "markdown",
   "metadata": {},
   "source": [
    "Придадим объектам редкого класса больший вес используем `class_weight='balanced'`."
   ]
  },
  {
   "cell_type": "markdown",
   "metadata": {},
   "source": [
    "#### Модель Logistic Regression"
   ]
  },
  {
   "cell_type": "code",
   "execution_count": 31,
   "metadata": {},
   "outputs": [
    {
     "name": "stdout",
     "output_type": "stream",
     "text": [
      "Accuracy: 70.0%\n",
      "Recall: 67.9%\n",
      "Precision: 37.9%\n",
      "F1: 48.6%\n"
     ]
    }
   ],
   "source": [
    "logistic_model = LogisticRegression(class_weight='balanced', random_state=12345, solver='liblinear', max_iter=1000)\n",
    "\n",
    "logistic_model.fit(features_train, target_train)# обучение модели\n",
    "\n",
    "logistic_predictions_valid_balanced = logistic_model.predict(features_valid)# предсказания модели\n",
    "   \n",
    "# качество модели \n",
    "print_metrics(target_valid, logistic_predictions_valid_balanced)"
   ]
  },
  {
   "cell_type": "markdown",
   "metadata": {},
   "source": [
    "#### Модель DecisionTreeClassifier"
   ]
  },
  {
   "cell_type": "code",
   "execution_count": 32,
   "metadata": {},
   "outputs": [
    {
     "name": "stdout",
     "output_type": "stream",
     "text": [
      "Глубина дерева: 5\n",
      "Accuracy: 81.0%\n",
      "Recall: 67.0%\n",
      "Precision: 53.6%\n",
      "F1: 59.6%\n"
     ]
    }
   ],
   "source": [
    "best_tree_model = None\n",
    "best_tree_result = 0\n",
    "\n",
    "for depth in range(1, 11):\n",
    "    tree_model = DecisionTreeClassifier(class_weight='balanced', random_state=12345, max_depth=depth) # обучение модели с заданной глубиной дерева\n",
    "    tree_model.fit(features_train, target_train)# обучение модели\n",
    "      \n",
    "    tree_predictions_valid = tree_model.predict(features_valid)# предсказания модели\n",
    "    \n",
    "    tree_result = f1_score(target_valid, tree_predictions_valid) # качество модели \n",
    "        \n",
    "    if tree_result > best_tree_result:\n",
    "        best_tree_model = tree_model\n",
    "        best_tree_result = tree_result\n",
    "        depth_tree = depth\n",
    "        best_tree_predictions_valid_balanced = best_tree_model.predict(features_valid)\n",
    "\n",
    "print(f'Глубина дерева: {depth_tree}')\n",
    "\n",
    "print_metrics(target_valid, best_tree_predictions_valid_balanced)"
   ]
  },
  {
   "cell_type": "markdown",
   "metadata": {},
   "source": [
    "#### Random Forest Classifier"
   ]
  },
  {
   "cell_type": "code",
   "execution_count": 33,
   "metadata": {
    "scrolled": false
   },
   "outputs": [
    {
     "name": "stdout",
     "output_type": "stream",
     "text": [
      "Кол-во деревьев: 50\n",
      "Глубина дерева: 9\n",
      "Accuracy: 83.8%\n",
      "Recall: 65.3%\n",
      "Precision: 60.4%\n",
      "F1: 62.8%\n"
     ]
    }
   ],
   "source": [
    "best_forest_model = None\n",
    "best_forest_result = 0\n",
    "\n",
    "for est in range(10, 51, 10):\n",
    "    for depth in range (1, 12):\n",
    "        forest_model = RandomForestClassifier(class_weight='balanced', random_state=12345, n_estimators=est, max_depth=depth) #обучение модели с заданным количеством деревьев\n",
    "        forest_model.fit(features_train, target_train)# обучение модели\n",
    "    \n",
    "        forest_predictions_valid = forest_model.predict(features_valid)# предсказания модели\n",
    "        \n",
    "        forest_result = f1_score(target_valid, forest_predictions_valid) # качество модели \n",
    "                          \n",
    "        if forest_result > best_forest_result:\n",
    "            best_forest_model = forest_model\n",
    "            best_forest_result = forest_result\n",
    "            forest_depth_tree = depth\n",
    "            forest_est = est      \n",
    "            best_forest_predictions_valid_balanced = best_forest_model.predict(features_valid)\n",
    "        \n",
    "print(f'Кол-во деревьев: {forest_est}')        \n",
    "print(f'Глубина дерева: {forest_depth_tree}')   \n",
    "\n",
    "print_metrics(target_valid, best_forest_predictions_valid_balanced)"
   ]
  },
  {
   "cell_type": "code",
   "execution_count": 34,
   "metadata": {},
   "outputs": [
    {
     "data": {
      "text/plain": [
       "array([[1278,  299],\n",
       "       [ 340,   83]])"
      ]
     },
     "execution_count": 34,
     "metadata": {},
     "output_type": "execute_result"
    }
   ],
   "source": [
    "#матрица ошибок\n",
    "confusion_matrix(target_test, forest_predictions_valid)"
   ]
  },
  {
   "cell_type": "code",
   "execution_count": 35,
   "metadata": {},
   "outputs": [
    {
     "data": {
      "text/plain": [
       "382"
      ]
     },
     "execution_count": 35,
     "metadata": {},
     "output_type": "execute_result"
    }
   ],
   "source": [
    "forest_predictions_valid.sum()"
   ]
  },
  {
   "cell_type": "markdown",
   "metadata": {},
   "source": [
    "### Увеличение выборки (upsampling) "
   ]
  },
  {
   "cell_type": "markdown",
   "metadata": {},
   "source": [
    "Увеличим объекты редкого класса и переобучим модели."
   ]
  },
  {
   "cell_type": "code",
   "execution_count": 36,
   "metadata": {},
   "outputs": [],
   "source": [
    "def upsample(features, target, repeat=10):\n",
    "    features_zeros = features[target == 0]\n",
    "    features_ones = features[target == 1]\n",
    "    target_zeros = target[target == 0]\n",
    "    target_ones = target[target == 1]\n",
    "\n",
    "    features_upsampled = pd.concat([features_zeros] + [features_ones] * repeat)\n",
    "    target_upsampled = pd.concat([target_zeros] + [target_ones] * repeat)\n",
    "    \n",
    "    features_upsampled, target_upsampled = shuffle(\n",
    "        features_upsampled, target_upsampled, random_state=12345)\n",
    "    \n",
    "    return features_upsampled, target_upsampled"
   ]
  },
  {
   "cell_type": "code",
   "execution_count": 37,
   "metadata": {},
   "outputs": [],
   "source": [
    "features_upsampled, target_upsampled = upsample(features_train, target_train, repeat=4)"
   ]
  },
  {
   "cell_type": "code",
   "execution_count": 38,
   "metadata": {},
   "outputs": [
    {
     "name": "stdout",
     "output_type": "stream",
     "text": [
      "0    0.5\n",
      "1    0.5\n",
      "Name: exited, dtype: float64\n"
     ]
    }
   ],
   "source": [
    "#проверка масшатирования\n",
    "print(target_upsampled.value_counts(normalize = 1))"
   ]
  },
  {
   "cell_type": "markdown",
   "metadata": {},
   "source": [
    "#### Модель Logistic Regression"
   ]
  },
  {
   "cell_type": "code",
   "execution_count": 39,
   "metadata": {},
   "outputs": [
    {
     "name": "stdout",
     "output_type": "stream",
     "text": [
      "Accuracy: 70.0%\n",
      "Recall: 67.9%\n",
      "Precision: 37.9%\n",
      "F1: 48.6%\n"
     ]
    }
   ],
   "source": [
    "logistic_model_upsam = LogisticRegression(solver='liblinear', random_state=12345)\n",
    "logistic_model_upsam.fit(features_upsampled, target_upsampled)\n",
    "\n",
    "logistic_predictions_valid_upsam = logistic_model_upsam.predict(features_valid)\n",
    "\n",
    "print_metrics(target_valid, logistic_predictions_valid_upsam)"
   ]
  },
  {
   "cell_type": "markdown",
   "metadata": {},
   "source": [
    "#### Модель DecisionTreeClassifier"
   ]
  },
  {
   "cell_type": "code",
   "execution_count": 40,
   "metadata": {},
   "outputs": [
    {
     "name": "stdout",
     "output_type": "stream",
     "text": [
      "Глубина дерева: 5\n",
      "Accuracy: 81.0%\n",
      "Recall: 67.0%\n",
      "Precision: 53.6%\n",
      "F1: 59.6%\n"
     ]
    }
   ],
   "source": [
    "best_tree_model_upsam = None\n",
    "best_tree_result_upsam = 0\n",
    "\n",
    "for depth in range(1, 11):\n",
    "    tree_model = DecisionTreeClassifier(random_state=12345, max_depth=depth) # обучение модели с заданной глубиной дерева\n",
    "    tree_model.fit(features_upsampled, target_upsampled)# обучение модели\n",
    "      \n",
    "    tree_predictions_valid = tree_model.predict(features_valid)# предсказания модели\n",
    "    \n",
    "    tree_result = f1_score(target_valid, tree_predictions_valid) # качество модели \n",
    "        \n",
    "    if tree_result > best_tree_result_upsam:\n",
    "        best_tree_model_upsam = tree_model\n",
    "        best_tree_result_upsam = tree_result\n",
    "        depth_tree_upsam = depth\n",
    "        best_tree_predictions_valid_upsam = tree_model.predict(features_valid)\n",
    "        \n",
    "print(f'Глубина дерева: {depth_tree_upsam}')\n",
    "\n",
    "print_metrics(target_valid, best_tree_predictions_valid_upsam)"
   ]
  },
  {
   "cell_type": "markdown",
   "metadata": {},
   "source": [
    "#### Random Forest Classifier"
   ]
  },
  {
   "cell_type": "code",
   "execution_count": 41,
   "metadata": {
    "scrolled": false
   },
   "outputs": [
    {
     "name": "stdout",
     "output_type": "stream",
     "text": [
      "Кол-во деревьев: 80\n",
      "Глубина дерева: 10\n",
      "Accuracy: 83.0%\n",
      "Recall: 68.2%\n",
      "Precision: 57.9%\n",
      "F1: 62.6%\n"
     ]
    }
   ],
   "source": [
    "best_forest_model_upsam = None\n",
    "best_forest_result_upsam = 0\n",
    "\n",
    "for est in range(10, 101, 10):\n",
    "    for depth in range (1, 11):\n",
    "        forest_model = RandomForestClassifier(random_state=12345, n_estimators=est, max_depth=depth) #обучение модели с заданным количеством деревьев\n",
    "        forest_model.fit(features_upsampled, target_upsampled)# обучение модели\n",
    "    \n",
    "        forest_predictions_valid = forest_model.predict(features_valid)# предсказания модели\n",
    "        \n",
    "        forest_result = f1_score(target_valid, forest_predictions_valid) # качество модели \n",
    "                          \n",
    "        if forest_result > best_forest_result_upsam:\n",
    "            best_forest_model_upsam = forest_model\n",
    "            best_forest_result_upsam = forest_result\n",
    "            forest_depth_tree_upsam = depth\n",
    "            forest_est_upsam = est      \n",
    "            best_forest_predictions_valid_upsam = forest_model.predict(features_valid)       \n",
    "\n",
    "print(f'Кол-во деревьев: {forest_est_upsam}')        \n",
    "print(f'Глубина дерева: {forest_depth_tree_upsam}')   \n",
    "\n",
    "print_metrics(target_valid, best_forest_predictions_valid_upsam)"
   ]
  },
  {
   "cell_type": "markdown",
   "metadata": {},
   "source": [
    "### Уменьшение  выборки (downsampling) "
   ]
  },
  {
   "cell_type": "markdown",
   "metadata": {},
   "source": [
    "Уменьшеним кол-во нулей"
   ]
  },
  {
   "cell_type": "code",
   "execution_count": 42,
   "metadata": {},
   "outputs": [],
   "source": [
    "def downsample(features, target, fraction):\n",
    "    features_zeros = features[target == 0]\n",
    "    features_ones = features[target == 1]\n",
    "    target_zeros = target[target == 0]\n",
    "    target_ones = target[target == 1]\n",
    "\n",
    "    features_zeros = features_zeros.sample(frac=fraction, random_state=12345)\n",
    "    target_zeros = target_zeros.sample(frac=fraction, random_state=12345)\n",
    "    \n",
    "    features_downsampled = pd.concat([features_zeros] + [features_ones])\n",
    "    target_downsampled = pd.concat([target_zeros] + [target_ones])\n",
    "    \n",
    "    features_downsampled, target_downsampled = shuffle(features_downsampled, target_downsampled, random_state=12345)\n",
    "    return features_downsampled, target_downsampled"
   ]
  },
  {
   "cell_type": "code",
   "execution_count": 43,
   "metadata": {},
   "outputs": [],
   "source": [
    "features_downsampled, target_downsampled = downsample(features_train, target_train, 0.25)"
   ]
  },
  {
   "cell_type": "code",
   "execution_count": 44,
   "metadata": {},
   "outputs": [
    {
     "name": "stdout",
     "output_type": "stream",
     "text": [
      "0    1201\n",
      "1    1196\n",
      "Name: exited, dtype: int64\n"
     ]
    }
   ],
   "source": [
    "#проверка масшатирования\n",
    "print(target_downsampled.value_counts())"
   ]
  },
  {
   "cell_type": "markdown",
   "metadata": {},
   "source": [
    "#### Модель Logistic Regression"
   ]
  },
  {
   "cell_type": "code",
   "execution_count": 45,
   "metadata": {},
   "outputs": [
    {
     "name": "stdout",
     "output_type": "stream",
     "text": [
      "Accuracy: 70.0%\n",
      "Recall: 66.5%\n",
      "Precision: 37.6%\n",
      "F1: 48.1%\n"
     ]
    }
   ],
   "source": [
    "logistic_model_down = LogisticRegression(solver='liblinear', random_state=12345)\n",
    "logistic_model_down.fit(features_downsampled, target_downsampled)\n",
    "\n",
    "logistic_predictions_valid_down = logistic_model_down.predict(features_valid)\n",
    "\n",
    "print_metrics(target_valid, logistic_predictions_valid_down)"
   ]
  },
  {
   "cell_type": "markdown",
   "metadata": {},
   "source": [
    "#### Модель DecisionTreeClassifier"
   ]
  },
  {
   "cell_type": "code",
   "execution_count": 46,
   "metadata": {},
   "outputs": [
    {
     "name": "stdout",
     "output_type": "stream",
     "text": [
      "Глубина дерева: 5\n",
      "Accuracy: 79.9%\n",
      "Recall: 70.1%\n",
      "Precision: 51.4%\n",
      "F1: 59.3%\n"
     ]
    }
   ],
   "source": [
    "best_tree_model_down = None\n",
    "best_tree_result_down = 0\n",
    "\n",
    "for depth in range(1, 11):\n",
    "    tree_model = DecisionTreeClassifier(random_state=12345, max_depth=depth) # обучение модели с заданной глубиной дерева\n",
    "    tree_model.fit(features_downsampled, target_downsampled)# обучение модели\n",
    "      \n",
    "    tree_predictions_valid = tree_model.predict(features_valid)# предсказания модели\n",
    "    \n",
    "    tree_result = f1_score(target_valid, tree_predictions_valid) # качество модели \n",
    "        \n",
    "    if tree_result > best_tree_result_down:\n",
    "        best_tree_model_down = tree_model\n",
    "        best_tree_result_down = tree_result\n",
    "        depth_tree_down = depth\n",
    "        best_tree_predictions_valid_down = tree_model.predict(features_valid)\n",
    "        \n",
    "print(f'Глубина дерева: {depth_tree}')\n",
    "\n",
    "print_metrics(target_valid, best_tree_predictions_valid_down)"
   ]
  },
  {
   "cell_type": "markdown",
   "metadata": {},
   "source": [
    "#### Random Forest Classifier"
   ]
  },
  {
   "cell_type": "code",
   "execution_count": 47,
   "metadata": {},
   "outputs": [
    {
     "name": "stdout",
     "output_type": "stream",
     "text": [
      "Кол-во деревьев: 10\n",
      "Глубина дерева: 4\n",
      "Accuracy: 80.5%\n",
      "Recall: 72.2%\n",
      "Precision: 52.3%\n",
      "F1: 60.7%\n"
     ]
    }
   ],
   "source": [
    "best_forest_model_down = None\n",
    "best_forest_result_down = 0\n",
    "\n",
    "for est in range(10, 151, 10):\n",
    "    for depth in range (1, 11):\n",
    "        forest_model = RandomForestClassifier(random_state=12345, n_estimators=est, max_depth=depth) #обучение модели с заданным количеством деревьев\n",
    "        forest_model.fit(features_downsampled, target_downsampled)# обучение модели\n",
    "    \n",
    "        forest_predictions_valid = forest_model.predict(features_valid)# предсказания модели\n",
    "        \n",
    "        forest_result = f1_score(target_valid, forest_predictions_valid) # качество модели \n",
    "                          \n",
    "        if forest_result > best_forest_result_down:\n",
    "            best_forest_model_down = forest_model\n",
    "            best_forest_result_down = forest_result\n",
    "            forest_depth_tree_down = depth\n",
    "            forest_est_down = est      \n",
    "            best_forest_predictions_valid_down = forest_model.predict(features_valid)       \n",
    "            \n",
    "print(f'Кол-во деревьев: {forest_est_down}')        \n",
    "print(f'Глубина дерева: {forest_depth_tree_down}')   \n",
    "\n",
    "print_metrics(target_valid, best_forest_predictions_valid_down)"
   ]
  },
  {
   "cell_type": "markdown",
   "metadata": {},
   "source": [
    "Результирующая таблица"
   ]
  },
  {
   "cell_type": "code",
   "execution_count": 48,
   "metadata": {},
   "outputs": [],
   "source": [
    "result = {'Дерево Решения':np.array([f1_score(target_valid, best_tree_predictions_valid),\n",
    "                                              f1_score(target_valid, best_tree_predictions_valid_balanced),\n",
    "                                              f1_score(target_valid, best_tree_predictions_valid_upsam),\n",
    "                                              f1_score(target_valid, best_tree_predictions_valid_down)]),\n",
    "          'Случайный лес':np.array([f1_score(target_valid, best_forest_predictions_valid),\n",
    "                                              f1_score(target_valid, best_forest_predictions_valid),\n",
    "                                              f1_score(target_valid, best_forest_predictions_valid_upsam),\n",
    "                                              f1_score(target_valid, best_forest_predictions_valid_down)]),\n",
    "          'Логистическая регрессия':np.array([f1_score(target_valid, logistic_predictions_valid),\n",
    "                                              f1_score(target_valid, logistic_predictions_valid_balanced),\n",
    "                                              f1_score(target_valid, logistic_predictions_valid_upsam),\n",
    "                                              f1_score(target_valid, logistic_predictions_valid_down)])\n",
    "         } \n",
    "result_df=pd.DataFrame(result, index=['Без учета баланса', 'Взвешивание классов', 'Увеличение выборки', 'Уменьшение выборки'])"
   ]
  },
  {
   "cell_type": "code",
   "execution_count": 49,
   "metadata": {},
   "outputs": [
    {
     "data": {
      "text/html": [
       "<div>\n",
       "<style scoped>\n",
       "    .dataframe tbody tr th:only-of-type {\n",
       "        vertical-align: middle;\n",
       "    }\n",
       "\n",
       "    .dataframe tbody tr th {\n",
       "        vertical-align: top;\n",
       "    }\n",
       "\n",
       "    .dataframe thead th {\n",
       "        text-align: right;\n",
       "    }\n",
       "</style>\n",
       "<table border=\"1\" class=\"dataframe\">\n",
       "  <thead>\n",
       "    <tr style=\"text-align: right;\">\n",
       "      <th></th>\n",
       "      <th>Дерево Решения</th>\n",
       "      <th>Случайный лес</th>\n",
       "      <th>Логистическая регрессия</th>\n",
       "    </tr>\n",
       "  </thead>\n",
       "  <tbody>\n",
       "    <tr>\n",
       "      <th>Без учета баланса</th>\n",
       "      <td>0.57</td>\n",
       "      <td>0.58</td>\n",
       "      <td>0.33</td>\n",
       "    </tr>\n",
       "    <tr>\n",
       "      <th>Взвешивание классов</th>\n",
       "      <td>0.60</td>\n",
       "      <td>0.58</td>\n",
       "      <td>0.49</td>\n",
       "    </tr>\n",
       "    <tr>\n",
       "      <th>Увеличение выборки</th>\n",
       "      <td>0.60</td>\n",
       "      <td>0.63</td>\n",
       "      <td>0.49</td>\n",
       "    </tr>\n",
       "    <tr>\n",
       "      <th>Уменьшение выборки</th>\n",
       "      <td>0.59</td>\n",
       "      <td>0.61</td>\n",
       "      <td>0.48</td>\n",
       "    </tr>\n",
       "  </tbody>\n",
       "</table>\n",
       "</div>"
      ],
      "text/plain": [
       "                     Дерево Решения  Случайный лес  Логистическая регрессия\n",
       "Без учета баланса              0.57           0.58                     0.33\n",
       "Взвешивание классов            0.60           0.58                     0.49\n",
       "Увеличение выборки             0.60           0.63                     0.49\n",
       "Уменьшение выборки             0.59           0.61                     0.48"
      ]
     },
     "execution_count": 49,
     "metadata": {},
     "output_type": "execute_result"
    }
   ],
   "source": [
    "result_df"
   ]
  },
  {
   "cell_type": "code",
   "execution_count": 50,
   "metadata": {},
   "outputs": [
    {
     "data": {
      "image/png": "[encoded data removed]",
      "text/plain": [
       "<Figure size 1080x504 with 2 Axes>"
      ]
     },
     "metadata": {
      "needs_background": "light"
     },
     "output_type": "display_data"
    }
   ],
   "source": [
    "plt.figure(figsize=(15, 7))\n",
    "sns.heatmap(result_df, annot=True, fmt=\".4f\", cmap='RdYlGn');"
   ]
  },
  {
   "cell_type": "markdown",
   "metadata": {},
   "source": [
    "### Исследование метрики AUC-ROC"
   ]
  },
  {
   "cell_type": "markdown",
   "metadata": {},
   "source": [
    "Расчитаем метрику AUC-ROC для лучших результатов всех моделей"
   ]
  },
  {
   "cell_type": "markdown",
   "metadata": {},
   "source": [
    "**Модель Logistic Regression**"
   ]
  },
  {
   "cell_type": "code",
   "execution_count": 51,
   "metadata": {},
   "outputs": [
    {
     "data": {
      "text/plain": [
       "0.7610589224469057"
      ]
     },
     "execution_count": 51,
     "metadata": {},
     "output_type": "execute_result"
    }
   ],
   "source": [
    "probabilities_valid_log = logistic_model_down.predict_proba(features_valid)\n",
    "probabilities_one_valid_log = probabilities_valid_log[:, 1]\n",
    "\n",
    "fpr_log, tpr_log, thresholds = roc_curve(target_valid, probabilities_one_valid_log)\n",
    "\n",
    "roc_auc_score(target_valid, probabilities_one_valid_log)"
   ]
  },
  {
   "cell_type": "markdown",
   "metadata": {},
   "source": [
    "**Модель DecisionTreeClassifier**"
   ]
  },
  {
   "cell_type": "code",
   "execution_count": 52,
   "metadata": {},
   "outputs": [
    {
     "data": {
      "text/plain": [
       "0.8317918690531638"
      ]
     },
     "execution_count": 52,
     "metadata": {},
     "output_type": "execute_result"
    }
   ],
   "source": [
    "probabilities_valid_tree = best_tree_model.predict_proba(features_valid)\n",
    "probabilities_one_valid_tree = probabilities_valid_tree[:, 1]\n",
    "\n",
    "fpr_tree, tpr_tree, thresholds = roc_curve(target_valid, probabilities_one_valid_tree)\n",
    "\n",
    "roc_auc_score(target_valid, probabilities_one_valid_tree)"
   ]
  },
  {
   "cell_type": "markdown",
   "metadata": {},
   "source": [
    "**Модель Random Forest Classifier**"
   ]
  },
  {
   "cell_type": "code",
   "execution_count": 53,
   "metadata": {},
   "outputs": [
    {
     "data": {
      "text/plain": [
       "0.8514916615754994"
      ]
     },
     "execution_count": 53,
     "metadata": {},
     "output_type": "execute_result"
    }
   ],
   "source": [
    "probabilities_valid_forest = best_forest_model_upsam.predict_proba(features_valid)\n",
    "probabilities_one_valid_forest = probabilities_valid_forest[:, 1]\n",
    "\n",
    "fpr_forest, tpr_forest, thresholds = roc_curve(target_valid, probabilities_one_valid_forest)\n",
    "\n",
    "roc_auc_score(target_valid, probabilities_one_valid_forest)"
   ]
  },
  {
   "cell_type": "code",
   "execution_count": 54,
   "metadata": {},
   "outputs": [
    {
     "data": {
      "text/plain": [
       "<Figure size 432x288 with 0 Axes>"
      ]
     },
     "metadata": {},
     "output_type": "display_data"
    },
    {
     "data": {
      "image/png": "[encoded data removed]",
      "text/plain": [
       "<Figure size 720x504 with 1 Axes>"
      ]
     },
     "metadata": {
      "needs_background": "light"
     },
     "output_type": "display_data"
    }
   ],
   "source": [
    "plt.figure()\n",
    "\n",
    "plt.figure(figsize=(10,7))\n",
    "plt.xlim([0.0, 1.0])\n",
    "plt.ylim([0.0, 1.0])\n",
    "\n",
    "# ROC-кривая случайной модели\n",
    "plt.plot([0, 1], [0, 1], linestyle='--')\n",
    "\n",
    "# ROC-кривые моделей\n",
    "plt.plot(fpr_log, tpr_log)\n",
    "plt.plot(fpr_tree, tpr_tree)\n",
    "plt.plot(fpr_forest, tpr_forest)\n",
    "\n",
    "plt.xlabel('False Positive Rate', fontsize=17)\n",
    "plt.ylabel('True Positive Rate', fontsize=17)\n",
    "plt.title('ROC-кривая', fontsize=17)\n",
    "plt.xticks(fontsize=15)\n",
    "plt.yticks(fontsize=15)\n",
    "plt.legend(('Случайная модель', 'Логистическая регрессия', 'Дерево решений', 'Случайный лес'), loc= 'upper left') \n",
    "plt.show()"
   ]
  },
  {
   "cell_type": "markdown",
   "metadata": {},
   "source": [
    "Лучшее значение метрики auc_roc у модели Случайный лес"
   ]
  },
  {
   "cell_type": "markdown",
   "metadata": {},
   "source": [
    "## Тестирование моделей"
   ]
  },
  {
   "cell_type": "markdown",
   "metadata": {},
   "source": [
    "Пришло время проверить результаты работы алгоритмов классификации на тестовой выборке. Посмотрим метрики для лучших моделей."
   ]
  },
  {
   "cell_type": "markdown",
   "metadata": {},
   "source": [
    "**Модель Logistic Regression**"
   ]
  },
  {
   "cell_type": "code",
   "execution_count": 55,
   "metadata": {},
   "outputs": [
    {
     "name": "stdout",
     "output_type": "stream",
     "text": [
      "Accuracy: 70.0%\n",
      "Recall: 67.4%\n",
      "Precision: 38.1%\n",
      "F1: 48.7%\n",
      "AUC-ROC: 0.69\n"
     ]
    }
   ],
   "source": [
    "logistic_regression_test = logistic_model_down.predict(features_test)\n",
    "logistic_regression_result = round(roc_auc_score(target_test, logistic_regression_test), 2)\n",
    "\n",
    "print_metrics(target_test, logistic_regression_test)\n",
    "print(f'AUC-ROC: {logistic_regression_result}') "
   ]
  },
  {
   "cell_type": "markdown",
   "metadata": {},
   "source": [
    "**Модель DecisionTreeClassifier**"
   ]
  },
  {
   "cell_type": "code",
   "execution_count": 56,
   "metadata": {},
   "outputs": [
    {
     "name": "stdout",
     "output_type": "stream",
     "text": [
      "Accuracy: 79.9%\n",
      "Recall: 66.4%\n",
      "Precision: 51.9%\n",
      "F1: 58.3%\n",
      "AUC-ROC: 0.75\n"
     ]
    }
   ],
   "source": [
    "tree_predictions_test = best_tree_model.predict(features_test)\n",
    "tree_predictions_result = round(roc_auc_score(target_test, tree_predictions_test), 2)\n",
    "\n",
    "print_metrics(target_test, tree_predictions_test)\n",
    "print(f'AUC-ROC: {tree_predictions_result}') "
   ]
  },
  {
   "cell_type": "markdown",
   "metadata": {},
   "source": [
    "**Модель Random Forest Classifier**"
   ]
  },
  {
   "cell_type": "code",
   "execution_count": 57,
   "metadata": {},
   "outputs": [
    {
     "name": "stdout",
     "output_type": "stream",
     "text": [
      "Accuracy: 83.0%\n",
      "Recall: 64.5%\n",
      "Precision: 59.0%\n",
      "F1: 61.6%\n",
      "AUC-ROC: 0.76\n"
     ]
    }
   ],
   "source": [
    "forest_predictions_test = best_forest_model.predict(features_test)\n",
    "forest_predictions_result = round(roc_auc_score(target_test, forest_predictions_test), 2)\n",
    "\n",
    "print_metrics(target_test, forest_predictions_test)\n",
    "print(f'AUC-ROC: {forest_predictions_result}') "
   ]
  },
  {
   "cell_type": "markdown",
   "metadata": {},
   "source": [
    "## Вывод"
   ]
  },
  {
   "cell_type": "markdown",
   "metadata": {},
   "source": [
    "<div style=\"border:solid black 3px; padding: 10px\">\n",
    "    \n",
    "    В данных наблюдался значительный дисбаланс (80% на 20%). Все модели характеризовались высокой степенью точности и низким качеством F1 меры.\n",
    "    \n",
    "    Рассматривая данные с учетом дисбаланса и без учета дисбаланса тремя моделями можно сделать вывод, что самая точная модель Случайный лес. При увеличении целевого признака методом upsampling, глубине деревьев 9 и кол-ве деревьев 80 значение F1 меры составило = 0,62 на валидной и 0,6 на тестовой выборках. Все модели после балансировки показывают более лучшие результаты метрики F1. Худший результат у модели Логистическая регрессия. "
   ]
  }
 ],
 "metadata": {
  "ExecuteTimeLog": [
   {
    "duration": 1038,
    "start_time": "2022-10-19T11:20:30.335Z"
   },
   {
    "duration": 51,
    "start_time": "2022-10-19T11:20:32.022Z"
   },
   {
    "duration": 43,
    "start_time": "2022-10-19T11:20:43.649Z"
   },
   {
    "duration": 2,
    "start_time": "2022-10-19T11:27:56.010Z"
   },
   {
    "duration": 30,
    "start_time": "2022-10-19T11:27:57.054Z"
   },
   {
    "duration": 3,
    "start_time": "2022-10-19T11:28:01.038Z"
   },
   {
    "duration": 36,
    "start_time": "2022-10-19T11:28:01.547Z"
   },
   {
    "duration": 2,
    "start_time": "2022-10-19T11:28:04.131Z"
   },
   {
    "duration": 34,
    "start_time": "2022-10-19T11:28:05.195Z"
   },
   {
    "duration": 2,
    "start_time": "2022-10-19T11:28:08.031Z"
   },
   {
    "duration": 37,
    "start_time": "2022-10-19T11:28:08.462Z"
   },
   {
    "duration": 3,
    "start_time": "2022-10-19T11:28:11.367Z"
   },
   {
    "duration": 38,
    "start_time": "2022-10-19T11:28:11.858Z"
   },
   {
    "duration": 3,
    "start_time": "2022-10-19T11:28:13.989Z"
   },
   {
    "duration": 39,
    "start_time": "2022-10-19T11:28:14.330Z"
   },
   {
    "duration": 2,
    "start_time": "2022-10-19T11:28:27.595Z"
   },
   {
    "duration": 36,
    "start_time": "2022-10-19T11:28:28.148Z"
   },
   {
    "duration": 7,
    "start_time": "2022-10-19T11:29:16.702Z"
   },
   {
    "duration": 361,
    "start_time": "2022-10-19T11:30:15.678Z"
   },
   {
    "duration": 9,
    "start_time": "2022-10-19T11:30:38.671Z"
   },
   {
    "duration": 17,
    "start_time": "2022-10-19T11:30:41.716Z"
   },
   {
    "duration": 19,
    "start_time": "2022-10-19T11:31:07.014Z"
   },
   {
    "duration": 11,
    "start_time": "2022-10-19T11:31:49.840Z"
   },
   {
    "duration": 4,
    "start_time": "2022-10-19T11:32:51.603Z"
   },
   {
    "duration": 43,
    "start_time": "2022-10-19T18:56:46.519Z"
   },
   {
    "duration": 19,
    "start_time": "2022-10-19T20:23:25.125Z"
   },
   {
    "duration": 1650,
    "start_time": "2022-10-20T07:32:17.001Z"
   },
   {
    "duration": 3,
    "start_time": "2022-10-20T07:32:21.028Z"
   },
   {
    "duration": 177,
    "start_time": "2022-10-20T07:32:25.456Z"
   },
   {
    "duration": 48,
    "start_time": "2022-10-20T07:32:29.398Z"
   },
   {
    "duration": 474,
    "start_time": "2022-10-20T07:32:42.052Z"
   },
   {
    "duration": 979,
    "start_time": "2022-10-20T07:34:21.001Z"
   },
   {
    "duration": 951,
    "start_time": "2022-10-20T07:34:34.259Z"
   },
   {
    "duration": 1024,
    "start_time": "2022-10-20T07:35:24.798Z"
   },
   {
    "duration": 961,
    "start_time": "2022-10-20T07:35:31.152Z"
   },
   {
    "duration": 987,
    "start_time": "2022-10-20T07:42:48.893Z"
   },
   {
    "duration": 988,
    "start_time": "2022-10-20T07:50:12.960Z"
   },
   {
    "duration": 136,
    "start_time": "2022-10-20T07:51:20.423Z"
   },
   {
    "duration": 3,
    "start_time": "2022-10-20T07:52:08.069Z"
   },
   {
    "duration": 927,
    "start_time": "2022-10-20T07:52:11.976Z"
   },
   {
    "duration": 3,
    "start_time": "2022-10-20T07:53:55.504Z"
   },
   {
    "duration": 5,
    "start_time": "2022-10-20T08:01:42.983Z"
   },
   {
    "duration": 8,
    "start_time": "2022-10-20T08:02:06.260Z"
   },
   {
    "duration": 12,
    "start_time": "2022-10-20T08:04:37.079Z"
   },
   {
    "duration": 3,
    "start_time": "2022-10-20T08:05:26.273Z"
   },
   {
    "duration": 20,
    "start_time": "2022-10-20T08:05:33.282Z"
   },
   {
    "duration": 4,
    "start_time": "2022-10-20T08:05:46.616Z"
   },
   {
    "duration": 7,
    "start_time": "2022-10-20T08:05:50.236Z"
   },
   {
    "duration": 1225,
    "start_time": "2022-10-20T08:09:25.935Z"
   },
   {
    "duration": 25,
    "start_time": "2022-10-20T08:09:36.524Z"
   },
   {
    "duration": 4,
    "start_time": "2022-10-20T08:09:44.077Z"
   },
   {
    "duration": 4,
    "start_time": "2022-10-20T08:17:22.785Z"
   },
   {
    "duration": 3,
    "start_time": "2022-10-20T08:17:26.383Z"
   },
   {
    "duration": 7,
    "start_time": "2022-10-20T08:17:29.447Z"
   },
   {
    "duration": 1360,
    "start_time": "2022-10-20T08:17:41.495Z"
   },
   {
    "duration": 2,
    "start_time": "2022-10-20T08:17:42.857Z"
   },
   {
    "duration": 53,
    "start_time": "2022-10-20T08:17:42.861Z"
   },
   {
    "duration": 50,
    "start_time": "2022-10-20T08:17:42.916Z"
   },
   {
    "duration": 968,
    "start_time": "2022-10-20T08:17:42.968Z"
   },
   {
    "duration": 4,
    "start_time": "2022-10-20T08:17:43.938Z"
   },
   {
    "duration": 4,
    "start_time": "2022-10-20T08:17:43.943Z"
   },
   {
    "duration": 11,
    "start_time": "2022-10-20T08:17:43.949Z"
   },
   {
    "duration": 31,
    "start_time": "2022-10-20T08:17:43.961Z"
   },
   {
    "duration": 12,
    "start_time": "2022-10-20T08:17:43.993Z"
   },
   {
    "duration": 4,
    "start_time": "2022-10-20T08:17:44.006Z"
   },
   {
    "duration": 200,
    "start_time": "2022-10-20T08:29:50.979Z"
   },
   {
    "duration": 251,
    "start_time": "2022-10-20T08:29:59.240Z"
   },
   {
    "duration": 139,
    "start_time": "2022-10-20T08:30:01.664Z"
   },
   {
    "duration": 9,
    "start_time": "2022-10-20T08:34:45.933Z"
   },
   {
    "duration": 22,
    "start_time": "2022-10-20T08:34:56.814Z"
   },
   {
    "duration": 5,
    "start_time": "2022-10-20T08:53:51.324Z"
   },
   {
    "duration": 5,
    "start_time": "2022-10-20T08:54:19.353Z"
   },
   {
    "duration": 7,
    "start_time": "2022-10-20T08:54:33.718Z"
   },
   {
    "duration": 1582,
    "start_time": "2022-10-20T13:58:46.230Z"
   },
   {
    "duration": 4,
    "start_time": "2022-10-20T13:59:28.574Z"
   },
   {
    "duration": 109,
    "start_time": "2022-10-20T13:59:30.168Z"
   },
   {
    "duration": 3,
    "start_time": "2022-10-20T13:59:51.536Z"
   },
   {
    "duration": 68,
    "start_time": "2022-10-20T13:59:52.918Z"
   },
   {
    "duration": 3,
    "start_time": "2022-10-20T13:59:58.762Z"
   },
   {
    "duration": 37,
    "start_time": "2022-10-20T14:00:00.564Z"
   },
   {
    "duration": 3,
    "start_time": "2022-10-20T14:00:08.443Z"
   },
   {
    "duration": 36,
    "start_time": "2022-10-20T14:00:09.619Z"
   },
   {
    "duration": 4,
    "start_time": "2022-10-20T14:00:16.350Z"
   },
   {
    "duration": 36,
    "start_time": "2022-10-20T14:00:17.251Z"
   },
   {
    "duration": 4,
    "start_time": "2022-10-20T14:13:00.620Z"
   },
   {
    "duration": 3,
    "start_time": "2022-10-20T14:13:02.601Z"
   },
   {
    "duration": 1282,
    "start_time": "2022-10-20T14:13:03.260Z"
   },
   {
    "duration": 912,
    "start_time": "2022-10-20T14:13:57.267Z"
   },
   {
    "duration": 38,
    "start_time": "2022-10-20T14:14:11.427Z"
   },
   {
    "duration": 49,
    "start_time": "2022-10-20T14:14:14.633Z"
   },
   {
    "duration": 1027,
    "start_time": "2022-10-20T14:14:20.111Z"
   },
   {
    "duration": 4,
    "start_time": "2022-10-20T14:14:25.305Z"
   },
   {
    "duration": 4,
    "start_time": "2022-10-20T14:14:25.836Z"
   },
   {
    "duration": 12,
    "start_time": "2022-10-20T14:14:26.275Z"
   },
   {
    "duration": 53,
    "start_time": "2022-10-20T14:14:27.893Z"
   },
   {
    "duration": 21,
    "start_time": "2022-10-20T14:14:35.605Z"
   },
   {
    "duration": 4,
    "start_time": "2022-10-20T14:14:38.605Z"
   },
   {
    "duration": 7,
    "start_time": "2022-10-20T14:14:46.393Z"
   },
   {
    "duration": 140,
    "start_time": "2022-10-20T14:14:51.652Z"
   },
   {
    "duration": 4,
    "start_time": "2022-10-20T14:15:12.341Z"
   },
   {
    "duration": 7,
    "start_time": "2022-10-20T14:15:13.071Z"
   },
   {
    "duration": 133,
    "start_time": "2022-10-20T14:15:15.954Z"
   },
   {
    "duration": 17,
    "start_time": "2022-10-20T14:15:23.384Z"
   },
   {
    "duration": 11,
    "start_time": "2022-10-20T14:15:29.922Z"
   },
   {
    "duration": 14,
    "start_time": "2022-10-20T14:15:36.378Z"
   },
   {
    "duration": 4,
    "start_time": "2022-10-20T14:15:41.206Z"
   },
   {
    "duration": 6,
    "start_time": "2022-10-20T14:15:48.834Z"
   },
   {
    "duration": 4,
    "start_time": "2022-10-20T14:15:50.652Z"
   },
   {
    "duration": 6,
    "start_time": "2022-10-20T14:15:51.961Z"
   },
   {
    "duration": 4,
    "start_time": "2022-10-20T14:15:57.569Z"
   },
   {
    "duration": 6,
    "start_time": "2022-10-20T14:15:59.473Z"
   },
   {
    "duration": 129,
    "start_time": "2022-10-20T14:16:01.070Z"
   },
   {
    "duration": 1328,
    "start_time": "2022-10-20T14:16:22.460Z"
   },
   {
    "duration": 3,
    "start_time": "2022-10-20T14:16:23.790Z"
   },
   {
    "duration": 60,
    "start_time": "2022-10-20T14:16:23.794Z"
   },
   {
    "duration": 60,
    "start_time": "2022-10-20T14:16:23.856Z"
   },
   {
    "duration": 995,
    "start_time": "2022-10-20T14:16:23.919Z"
   },
   {
    "duration": 4,
    "start_time": "2022-10-20T14:16:24.916Z"
   },
   {
    "duration": 16,
    "start_time": "2022-10-20T14:16:24.921Z"
   },
   {
    "duration": 9,
    "start_time": "2022-10-20T14:16:24.939Z"
   },
   {
    "duration": 20,
    "start_time": "2022-10-20T14:16:24.950Z"
   },
   {
    "duration": 118,
    "start_time": "2022-10-20T14:16:24.971Z"
   },
   {
    "duration": 0,
    "start_time": "2022-10-20T14:16:25.091Z"
   },
   {
    "duration": 0,
    "start_time": "2022-10-20T14:16:25.092Z"
   },
   {
    "duration": 0,
    "start_time": "2022-10-20T14:16:25.093Z"
   },
   {
    "duration": 0,
    "start_time": "2022-10-20T14:16:25.094Z"
   },
   {
    "duration": 0,
    "start_time": "2022-10-20T14:16:25.096Z"
   },
   {
    "duration": 0,
    "start_time": "2022-10-20T14:16:25.097Z"
   },
   {
    "duration": 0,
    "start_time": "2022-10-20T14:16:25.098Z"
   },
   {
    "duration": 5,
    "start_time": "2022-10-20T14:16:40.368Z"
   },
   {
    "duration": 6,
    "start_time": "2022-10-20T14:16:41.629Z"
   },
   {
    "duration": 151,
    "start_time": "2022-10-20T14:16:46.468Z"
   },
   {
    "duration": 12,
    "start_time": "2022-10-20T14:16:52.380Z"
   },
   {
    "duration": 1492,
    "start_time": "2022-10-20T14:17:13.908Z"
   },
   {
    "duration": 3,
    "start_time": "2022-10-20T14:17:15.401Z"
   },
   {
    "duration": 48,
    "start_time": "2022-10-20T14:17:15.405Z"
   },
   {
    "duration": 50,
    "start_time": "2022-10-20T14:17:15.455Z"
   },
   {
    "duration": 1097,
    "start_time": "2022-10-20T14:17:15.507Z"
   },
   {
    "duration": 5,
    "start_time": "2022-10-20T14:17:16.606Z"
   },
   {
    "duration": 8,
    "start_time": "2022-10-20T14:17:16.613Z"
   },
   {
    "duration": 17,
    "start_time": "2022-10-20T14:17:16.623Z"
   },
   {
    "duration": 28,
    "start_time": "2022-10-20T14:17:16.642Z"
   },
   {
    "duration": 132,
    "start_time": "2022-10-20T14:17:16.673Z"
   },
   {
    "duration": 0,
    "start_time": "2022-10-20T14:17:16.808Z"
   },
   {
    "duration": 0,
    "start_time": "2022-10-20T14:17:16.809Z"
   },
   {
    "duration": 0,
    "start_time": "2022-10-20T14:17:16.811Z"
   },
   {
    "duration": 0,
    "start_time": "2022-10-20T14:17:16.812Z"
   },
   {
    "duration": 0,
    "start_time": "2022-10-20T14:17:16.813Z"
   },
   {
    "duration": 0,
    "start_time": "2022-10-20T14:17:16.814Z"
   },
   {
    "duration": 0,
    "start_time": "2022-10-20T14:17:16.815Z"
   },
   {
    "duration": 7,
    "start_time": "2022-10-20T14:17:25.007Z"
   },
   {
    "duration": 150,
    "start_time": "2022-10-20T14:17:27.546Z"
   },
   {
    "duration": 5,
    "start_time": "2022-10-20T14:17:36.176Z"
   },
   {
    "duration": 6,
    "start_time": "2022-10-20T14:17:37.888Z"
   },
   {
    "duration": 38,
    "start_time": "2022-10-20T14:19:36.044Z"
   },
   {
    "duration": 115,
    "start_time": "2022-10-20T14:19:37.404Z"
   },
   {
    "duration": 951,
    "start_time": "2022-10-20T14:19:42.294Z"
   },
   {
    "duration": 4,
    "start_time": "2022-10-20T14:19:44.544Z"
   },
   {
    "duration": 4,
    "start_time": "2022-10-20T14:19:45.000Z"
   },
   {
    "duration": 8,
    "start_time": "2022-10-20T14:19:45.423Z"
   },
   {
    "duration": 20,
    "start_time": "2022-10-20T14:19:48.049Z"
   },
   {
    "duration": 3,
    "start_time": "2022-10-20T14:19:51.678Z"
   },
   {
    "duration": 6,
    "start_time": "2022-10-20T14:19:54.280Z"
   },
   {
    "duration": 12,
    "start_time": "2022-10-20T14:20:01.456Z"
   },
   {
    "duration": 190,
    "start_time": "2022-10-20T14:20:06.362Z"
   },
   {
    "duration": 44,
    "start_time": "2022-10-20T14:22:36.740Z"
   },
   {
    "duration": 51,
    "start_time": "2022-10-20T14:22:39.053Z"
   },
   {
    "duration": 4,
    "start_time": "2022-10-20T14:22:44.737Z"
   },
   {
    "duration": 4,
    "start_time": "2022-10-20T14:22:45.926Z"
   },
   {
    "duration": 8,
    "start_time": "2022-10-20T14:22:46.613Z"
   },
   {
    "duration": 22,
    "start_time": "2022-10-20T14:22:49.004Z"
   },
   {
    "duration": 5,
    "start_time": "2022-10-20T14:22:52.020Z"
   },
   {
    "duration": 6,
    "start_time": "2022-10-20T14:22:53.539Z"
   },
   {
    "duration": 6,
    "start_time": "2022-10-20T14:23:17.805Z"
   },
   {
    "duration": 8,
    "start_time": "2022-10-20T14:23:20.497Z"
   },
   {
    "duration": 3,
    "start_time": "2022-10-20T14:23:23.022Z"
   },
   {
    "duration": 52,
    "start_time": "2022-10-20T14:23:23.983Z"
   },
   {
    "duration": 5,
    "start_time": "2022-10-20T14:23:27.302Z"
   },
   {
    "duration": 3,
    "start_time": "2022-10-20T14:23:27.737Z"
   },
   {
    "duration": 9,
    "start_time": "2022-10-20T14:23:28.197Z"
   },
   {
    "duration": 22,
    "start_time": "2022-10-20T14:23:30.314Z"
   },
   {
    "duration": 4,
    "start_time": "2022-10-20T14:23:32.837Z"
   },
   {
    "duration": 8,
    "start_time": "2022-10-20T14:23:33.782Z"
   },
   {
    "duration": 182,
    "start_time": "2022-10-20T14:23:36.358Z"
   },
   {
    "duration": 49,
    "start_time": "2022-10-20T14:30:02.812Z"
   },
   {
    "duration": 39,
    "start_time": "2022-10-20T14:30:04.766Z"
   },
   {
    "duration": 49,
    "start_time": "2022-10-20T14:30:05.784Z"
   },
   {
    "duration": 5,
    "start_time": "2022-10-20T14:30:10.115Z"
   },
   {
    "duration": 3,
    "start_time": "2022-10-20T14:30:10.761Z"
   },
   {
    "duration": 8,
    "start_time": "2022-10-20T14:30:12.488Z"
   },
   {
    "duration": 13,
    "start_time": "2022-10-20T14:30:17.089Z"
   },
   {
    "duration": 259,
    "start_time": "2022-10-20T14:30:26.131Z"
   },
   {
    "duration": 3,
    "start_time": "2022-10-20T14:30:51.109Z"
   },
   {
    "duration": 256,
    "start_time": "2022-10-20T14:30:56.192Z"
   },
   {
    "duration": 482,
    "start_time": "2022-10-20T14:31:34.884Z"
   },
   {
    "duration": 8,
    "start_time": "2022-10-20T14:35:39.561Z"
   },
   {
    "duration": 7,
    "start_time": "2022-10-20T14:35:42.307Z"
   },
   {
    "duration": 135,
    "start_time": "2022-10-20T14:35:50.638Z"
   },
   {
    "duration": 8,
    "start_time": "2022-10-20T14:36:02.881Z"
   },
   {
    "duration": 7,
    "start_time": "2022-10-20T14:36:03.474Z"
   },
   {
    "duration": 3,
    "start_time": "2022-10-20T14:36:07.873Z"
   },
   {
    "duration": 2,
    "start_time": "2022-10-20T14:36:08.541Z"
   },
   {
    "duration": 37,
    "start_time": "2022-10-20T14:36:09.260Z"
   },
   {
    "duration": 5,
    "start_time": "2022-10-20T14:36:11.523Z"
   },
   {
    "duration": 3,
    "start_time": "2022-10-20T14:36:11.909Z"
   },
   {
    "duration": 7,
    "start_time": "2022-10-20T14:36:15.026Z"
   },
   {
    "duration": 6,
    "start_time": "2022-10-20T14:36:15.623Z"
   },
   {
    "duration": 163,
    "start_time": "2022-10-20T14:36:19.677Z"
   },
   {
    "duration": 14,
    "start_time": "2022-10-20T14:39:04.910Z"
   },
   {
    "duration": 37,
    "start_time": "2022-10-20T14:39:10.886Z"
   },
   {
    "duration": 4,
    "start_time": "2022-10-20T14:39:15.046Z"
   },
   {
    "duration": 3,
    "start_time": "2022-10-20T14:39:15.462Z"
   },
   {
    "duration": 15,
    "start_time": "2022-10-20T14:39:19.221Z"
   },
   {
    "duration": 6,
    "start_time": "2022-10-20T14:39:20.168Z"
   },
   {
    "duration": 147,
    "start_time": "2022-10-20T14:39:22.709Z"
   },
   {
    "duration": 38,
    "start_time": "2022-10-20T14:40:13.145Z"
   },
   {
    "duration": 4,
    "start_time": "2022-10-20T14:40:16.841Z"
   },
   {
    "duration": 3,
    "start_time": "2022-10-20T14:40:17.279Z"
   },
   {
    "duration": 7,
    "start_time": "2022-10-20T14:40:17.821Z"
   },
   {
    "duration": 16,
    "start_time": "2022-10-20T14:40:20.874Z"
   },
   {
    "duration": 7,
    "start_time": "2022-10-20T14:40:22.530Z"
   },
   {
    "duration": 147,
    "start_time": "2022-10-20T14:40:25.242Z"
   },
   {
    "duration": 4,
    "start_time": "2022-10-20T14:40:56.989Z"
   },
   {
    "duration": 4,
    "start_time": "2022-10-20T14:40:58.232Z"
   },
   {
    "duration": 4,
    "start_time": "2022-10-20T14:40:58.973Z"
   },
   {
    "duration": 4,
    "start_time": "2022-10-20T14:41:00.481Z"
   },
   {
    "duration": 5,
    "start_time": "2022-10-20T14:41:03.300Z"
   },
   {
    "duration": 4,
    "start_time": "2022-10-20T14:41:05.158Z"
   },
   {
    "duration": 4,
    "start_time": "2022-10-20T14:41:05.973Z"
   },
   {
    "duration": 4,
    "start_time": "2022-10-20T14:41:07.955Z"
   },
   {
    "duration": 6,
    "start_time": "2022-10-20T14:41:08.456Z"
   },
   {
    "duration": 5,
    "start_time": "2022-10-20T14:41:10.398Z"
   },
   {
    "duration": 5,
    "start_time": "2022-10-20T14:41:11.237Z"
   },
   {
    "duration": 4,
    "start_time": "2022-10-20T14:41:11.912Z"
   },
   {
    "duration": 3,
    "start_time": "2022-10-20T14:41:12.622Z"
   },
   {
    "duration": 3,
    "start_time": "2022-10-20T14:41:13.228Z"
   },
   {
    "duration": 4,
    "start_time": "2022-10-20T14:41:13.906Z"
   },
   {
    "duration": 4,
    "start_time": "2022-10-20T14:41:14.521Z"
   },
   {
    "duration": 4,
    "start_time": "2022-10-20T14:41:15.134Z"
   },
   {
    "duration": 4,
    "start_time": "2022-10-20T14:41:15.765Z"
   },
   {
    "duration": 5,
    "start_time": "2022-10-20T14:41:17.540Z"
   },
   {
    "duration": 6,
    "start_time": "2022-10-20T14:41:18.235Z"
   },
   {
    "duration": 4,
    "start_time": "2022-10-20T14:41:19.124Z"
   },
   {
    "duration": 4,
    "start_time": "2022-10-20T14:41:19.865Z"
   },
   {
    "duration": 4,
    "start_time": "2022-10-20T14:41:20.536Z"
   },
   {
    "duration": 4,
    "start_time": "2022-10-20T14:41:21.090Z"
   },
   {
    "duration": 3,
    "start_time": "2022-10-20T14:41:21.665Z"
   },
   {
    "duration": 4,
    "start_time": "2022-10-20T14:41:22.209Z"
   },
   {
    "duration": 43,
    "start_time": "2022-10-20T14:41:37.948Z"
   },
   {
    "duration": 47,
    "start_time": "2022-10-20T14:41:39.975Z"
   },
   {
    "duration": 4,
    "start_time": "2022-10-20T14:41:42.851Z"
   },
   {
    "duration": 3,
    "start_time": "2022-10-20T14:41:43.325Z"
   },
   {
    "duration": 22,
    "start_time": "2022-10-20T14:41:45.223Z"
   },
   {
    "duration": 7,
    "start_time": "2022-10-20T14:41:46.379Z"
   },
   {
    "duration": 145,
    "start_time": "2022-10-20T14:41:55.563Z"
   },
   {
    "duration": 26,
    "start_time": "2022-10-20T14:42:16.172Z"
   },
   {
    "duration": 12,
    "start_time": "2022-10-20T14:42:18.962Z"
   },
   {
    "duration": 5,
    "start_time": "2022-10-20T14:42:20.497Z"
   },
   {
    "duration": 142,
    "start_time": "2022-10-20T14:44:45.061Z"
   },
   {
    "duration": 6,
    "start_time": "2022-10-20T14:48:08.083Z"
   },
   {
    "duration": 158,
    "start_time": "2022-10-20T14:48:11.572Z"
   },
   {
    "duration": 63,
    "start_time": "2022-10-20T14:48:49.648Z"
   },
   {
    "duration": 20,
    "start_time": "2022-10-20T14:48:53.224Z"
   },
   {
    "duration": 22,
    "start_time": "2022-10-20T14:49:08.966Z"
   },
   {
    "duration": 1362,
    "start_time": "2022-10-20T14:49:45.679Z"
   },
   {
    "duration": 3,
    "start_time": "2022-10-20T14:49:47.042Z"
   },
   {
    "duration": 46,
    "start_time": "2022-10-20T14:49:47.047Z"
   },
   {
    "duration": 48,
    "start_time": "2022-10-20T14:49:47.096Z"
   },
   {
    "duration": 989,
    "start_time": "2022-10-20T14:49:47.146Z"
   },
   {
    "duration": 4,
    "start_time": "2022-10-20T14:49:48.136Z"
   },
   {
    "duration": 11,
    "start_time": "2022-10-20T14:49:48.142Z"
   },
   {
    "duration": 24,
    "start_time": "2022-10-20T14:49:48.155Z"
   },
   {
    "duration": 34,
    "start_time": "2022-10-20T14:49:48.181Z"
   },
   {
    "duration": 7,
    "start_time": "2022-10-20T14:49:48.218Z"
   },
   {
    "duration": 21,
    "start_time": "2022-10-20T14:49:48.226Z"
   },
   {
    "duration": 12,
    "start_time": "2022-10-20T14:49:48.248Z"
   },
   {
    "duration": 169,
    "start_time": "2022-10-20T14:49:48.262Z"
   },
   {
    "duration": 11,
    "start_time": "2022-10-20T14:49:48.434Z"
   },
   {
    "duration": 31,
    "start_time": "2022-10-20T14:49:48.447Z"
   },
   {
    "duration": 5,
    "start_time": "2022-10-20T14:49:48.480Z"
   },
   {
    "duration": 162,
    "start_time": "2022-10-20T14:49:48.487Z"
   },
   {
    "duration": 231,
    "start_time": "2022-10-20T14:50:34.301Z"
   },
   {
    "duration": 9,
    "start_time": "2022-10-20T14:50:53.719Z"
   },
   {
    "duration": 20,
    "start_time": "2022-10-20T14:50:57.461Z"
   },
   {
    "duration": 20,
    "start_time": "2022-10-20T14:51:01.970Z"
   },
   {
    "duration": 15,
    "start_time": "2022-10-20T14:51:09.535Z"
   },
   {
    "duration": 21,
    "start_time": "2022-10-20T14:51:14.096Z"
   },
   {
    "duration": 6,
    "start_time": "2022-10-20T14:51:29.370Z"
   },
   {
    "duration": 6,
    "start_time": "2022-10-20T14:51:33.405Z"
   },
   {
    "duration": 113,
    "start_time": "2022-10-20T14:52:20.613Z"
   },
   {
    "duration": 132,
    "start_time": "2022-10-20T14:53:15.245Z"
   },
   {
    "duration": 5110,
    "start_time": "2022-10-20T14:53:25.480Z"
   },
   {
    "duration": 905,
    "start_time": "2022-10-20T14:53:47.265Z"
   },
   {
    "duration": 167,
    "start_time": "2022-10-20T14:53:54.473Z"
   },
   {
    "duration": 141,
    "start_time": "2022-10-20T14:55:05.017Z"
   },
   {
    "duration": 14328,
    "start_time": "2022-10-20T14:55:20.312Z"
   },
   {
    "duration": 21,
    "start_time": "2022-10-20T14:57:19.337Z"
   },
   {
    "duration": 10,
    "start_time": "2022-10-20T14:58:04.846Z"
   },
   {
    "duration": 164,
    "start_time": "2022-10-20T14:58:06.591Z"
   },
   {
    "duration": 140,
    "start_time": "2022-10-20T14:58:23.600Z"
   },
   {
    "duration": 10,
    "start_time": "2022-10-20T14:59:54.408Z"
   },
   {
    "duration": 713,
    "start_time": "2022-10-20T14:59:55.190Z"
   },
   {
    "duration": 8,
    "start_time": "2022-10-20T15:00:17.726Z"
   },
   {
    "duration": 150,
    "start_time": "2022-10-20T15:00:19.720Z"
   },
   {
    "duration": 1659,
    "start_time": "2022-10-20T15:00:33.413Z"
   },
   {
    "duration": 1063,
    "start_time": "2022-10-20T15:00:57.374Z"
   },
   {
    "duration": 140,
    "start_time": "2022-10-20T15:01:01.595Z"
   },
   {
    "duration": 9,
    "start_time": "2022-10-20T15:01:09.536Z"
   },
   {
    "duration": 1413,
    "start_time": "2022-10-20T15:01:10.544Z"
   },
   {
    "duration": 1464,
    "start_time": "2022-10-20T15:01:17.961Z"
   },
   {
    "duration": 173,
    "start_time": "2022-10-20T17:42:07.735Z"
   },
   {
    "duration": 167,
    "start_time": "2022-10-20T17:42:21.857Z"
   },
   {
    "duration": 168,
    "start_time": "2022-10-20T17:42:31.424Z"
   },
   {
    "duration": 221,
    "start_time": "2022-10-20T17:44:45.689Z"
   },
   {
    "duration": 219,
    "start_time": "2022-10-20T17:44:52.389Z"
   },
   {
    "duration": 231,
    "start_time": "2022-10-20T17:45:08.503Z"
   },
   {
    "duration": 254,
    "start_time": "2022-10-20T17:45:21.265Z"
   },
   {
    "duration": 23138,
    "start_time": "2022-10-20T17:45:31.200Z"
   },
   {
    "duration": 177,
    "start_time": "2022-10-20T17:46:05.256Z"
   },
   {
    "duration": 176,
    "start_time": "2022-10-20T17:46:40.975Z"
   },
   {
    "duration": 207,
    "start_time": "2022-10-20T17:46:49.658Z"
   },
   {
    "duration": 178,
    "start_time": "2022-10-20T17:46:59.349Z"
   },
   {
    "duration": 15,
    "start_time": "2022-10-20T17:51:08.030Z"
   },
   {
    "duration": 15,
    "start_time": "2022-10-20T17:51:40.812Z"
   },
   {
    "duration": 161,
    "start_time": "2022-10-20T17:52:51.406Z"
   },
   {
    "duration": 15,
    "start_time": "2022-10-20T17:54:28.783Z"
   },
   {
    "duration": 1440,
    "start_time": "2022-10-20T17:54:47.538Z"
   },
   {
    "duration": 3,
    "start_time": "2022-10-20T17:54:48.980Z"
   },
   {
    "duration": 45,
    "start_time": "2022-10-20T17:54:48.985Z"
   },
   {
    "duration": 50,
    "start_time": "2022-10-20T17:54:49.032Z"
   },
   {
    "duration": 1013,
    "start_time": "2022-10-20T17:54:49.084Z"
   },
   {
    "duration": 4,
    "start_time": "2022-10-20T17:54:50.099Z"
   },
   {
    "duration": 9,
    "start_time": "2022-10-20T17:54:50.105Z"
   },
   {
    "duration": 17,
    "start_time": "2022-10-20T17:54:50.116Z"
   },
   {
    "duration": 21,
    "start_time": "2022-10-20T17:54:50.135Z"
   },
   {
    "duration": 5,
    "start_time": "2022-10-20T17:54:50.159Z"
   },
   {
    "duration": 27,
    "start_time": "2022-10-20T17:54:50.166Z"
   },
   {
    "duration": 5,
    "start_time": "2022-10-20T17:54:50.195Z"
   },
   {
    "duration": 223,
    "start_time": "2022-10-20T17:54:50.202Z"
   },
   {
    "duration": 357,
    "start_time": "2022-10-20T17:54:50.426Z"
   },
   {
    "duration": 0,
    "start_time": "2022-10-20T17:54:50.784Z"
   },
   {
    "duration": 0,
    "start_time": "2022-10-20T17:54:50.786Z"
   },
   {
    "duration": 0,
    "start_time": "2022-10-20T17:54:50.787Z"
   },
   {
    "duration": 0,
    "start_time": "2022-10-20T17:54:50.788Z"
   },
   {
    "duration": 210,
    "start_time": "2022-10-20T17:56:13.626Z"
   },
   {
    "duration": 196,
    "start_time": "2022-10-20T17:56:23.155Z"
   },
   {
    "duration": 202,
    "start_time": "2022-10-20T17:56:37.461Z"
   },
   {
    "duration": 197,
    "start_time": "2022-10-20T17:56:49.834Z"
   },
   {
    "duration": 216,
    "start_time": "2022-10-20T17:57:08.603Z"
   },
   {
    "duration": 200,
    "start_time": "2022-10-20T17:57:17.968Z"
   },
   {
    "duration": 221,
    "start_time": "2022-10-20T17:57:54.049Z"
   },
   {
    "duration": 45,
    "start_time": "2022-10-20T17:58:12.872Z"
   },
   {
    "duration": 213,
    "start_time": "2022-10-20T17:58:20.614Z"
   },
   {
    "duration": 236,
    "start_time": "2022-10-20T17:58:32.611Z"
   },
   {
    "duration": 238,
    "start_time": "2022-10-20T17:58:49.926Z"
   },
   {
    "duration": 55,
    "start_time": "2022-10-20T20:01:57.551Z"
   },
   {
    "duration": 1627,
    "start_time": "2022-10-20T20:02:06.922Z"
   },
   {
    "duration": 3,
    "start_time": "2022-10-20T20:02:08.551Z"
   },
   {
    "duration": 76,
    "start_time": "2022-10-20T20:02:08.557Z"
   },
   {
    "duration": 47,
    "start_time": "2022-10-20T20:02:08.634Z"
   },
   {
    "duration": 1070,
    "start_time": "2022-10-20T20:02:08.683Z"
   },
   {
    "duration": 5,
    "start_time": "2022-10-20T20:02:09.756Z"
   },
   {
    "duration": 13,
    "start_time": "2022-10-20T20:02:09.763Z"
   },
   {
    "duration": 17,
    "start_time": "2022-10-20T20:02:09.777Z"
   },
   {
    "duration": 20,
    "start_time": "2022-10-20T20:02:09.796Z"
   },
   {
    "duration": 4,
    "start_time": "2022-10-20T20:02:09.817Z"
   },
   {
    "duration": 17,
    "start_time": "2022-10-20T20:02:09.833Z"
   },
   {
    "duration": 8,
    "start_time": "2022-10-20T20:02:09.852Z"
   },
   {
    "duration": 251,
    "start_time": "2022-10-20T20:02:09.862Z"
   },
   {
    "duration": 130,
    "start_time": "2022-10-20T20:02:10.115Z"
   },
   {
    "duration": 0,
    "start_time": "2022-10-20T20:02:10.247Z"
   },
   {
    "duration": 0,
    "start_time": "2022-10-20T20:02:10.249Z"
   },
   {
    "duration": 0,
    "start_time": "2022-10-20T20:02:10.251Z"
   },
   {
    "duration": 336,
    "start_time": "2022-10-20T20:02:48.694Z"
   },
   {
    "duration": 242,
    "start_time": "2022-10-20T20:02:57.288Z"
   },
   {
    "duration": 217,
    "start_time": "2022-10-20T20:03:24.578Z"
   },
   {
    "duration": 232,
    "start_time": "2022-10-20T20:03:32.559Z"
   },
   {
    "duration": 250,
    "start_time": "2022-10-20T20:03:36.009Z"
   },
   {
    "duration": 217,
    "start_time": "2022-10-20T20:03:55.453Z"
   },
   {
    "duration": 11,
    "start_time": "2022-10-20T20:04:01.618Z"
   },
   {
    "duration": 974,
    "start_time": "2022-10-20T20:04:22.550Z"
   },
   {
    "duration": 9,
    "start_time": "2022-10-20T20:10:14.957Z"
   },
   {
    "duration": 5,
    "start_time": "2022-10-20T20:10:23.876Z"
   },
   {
    "duration": 5,
    "start_time": "2022-10-20T20:10:44.022Z"
   },
   {
    "duration": 6,
    "start_time": "2022-10-20T20:17:49.703Z"
   },
   {
    "duration": 49,
    "start_time": "2022-10-22T08:48:44.802Z"
   },
   {
    "duration": 1551,
    "start_time": "2022-10-22T08:48:54.931Z"
   },
   {
    "duration": 3,
    "start_time": "2022-10-22T08:48:56.484Z"
   },
   {
    "duration": 201,
    "start_time": "2022-10-22T08:48:56.489Z"
   },
   {
    "duration": 46,
    "start_time": "2022-10-22T08:48:56.692Z"
   },
   {
    "duration": 965,
    "start_time": "2022-10-22T08:48:56.740Z"
   },
   {
    "duration": 5,
    "start_time": "2022-10-22T08:48:57.706Z"
   },
   {
    "duration": 12,
    "start_time": "2022-10-22T08:48:57.712Z"
   },
   {
    "duration": 7,
    "start_time": "2022-10-22T08:48:57.725Z"
   },
   {
    "duration": 19,
    "start_time": "2022-10-22T08:48:57.733Z"
   },
   {
    "duration": 3,
    "start_time": "2022-10-22T08:48:57.754Z"
   },
   {
    "duration": 14,
    "start_time": "2022-10-22T08:48:57.758Z"
   },
   {
    "duration": 4,
    "start_time": "2022-10-22T08:48:57.773Z"
   },
   {
    "duration": 260,
    "start_time": "2022-10-22T08:48:57.778Z"
   },
   {
    "duration": 12,
    "start_time": "2022-10-22T08:48:58.041Z"
   },
   {
    "duration": 4,
    "start_time": "2022-10-22T08:48:58.055Z"
   },
   {
    "duration": 279,
    "start_time": "2022-10-22T08:48:58.061Z"
   },
   {
    "duration": 0,
    "start_time": "2022-10-22T08:48:58.342Z"
   },
   {
    "duration": 486,
    "start_time": "2022-10-22T08:49:24.181Z"
   },
   {
    "duration": 21,
    "start_time": "2022-10-22T08:49:39.237Z"
   },
   {
    "duration": 203,
    "start_time": "2022-10-22T08:49:43.622Z"
   },
   {
    "duration": 200,
    "start_time": "2022-10-22T08:49:48.378Z"
   },
   {
    "duration": 209,
    "start_time": "2022-10-22T08:49:53.104Z"
   },
   {
    "duration": 205,
    "start_time": "2022-10-22T08:49:59.809Z"
   },
   {
    "duration": 584,
    "start_time": "2022-10-22T08:50:03.599Z"
   },
   {
    "duration": 539,
    "start_time": "2022-10-22T08:50:31.421Z"
   },
   {
    "duration": 523,
    "start_time": "2022-10-22T08:50:38.581Z"
   },
   {
    "duration": 583,
    "start_time": "2022-10-22T09:02:31.450Z"
   },
   {
    "duration": 722,
    "start_time": "2022-10-22T09:03:21.817Z"
   },
   {
    "duration": 5,
    "start_time": "2022-10-22T09:07:19.876Z"
   },
   {
    "duration": 480,
    "start_time": "2022-10-22T09:08:03.544Z"
   },
   {
    "duration": 69,
    "start_time": "2022-10-22T17:27:19.936Z"
   },
   {
    "duration": 2165,
    "start_time": "2022-10-22T17:27:26.670Z"
   },
   {
    "duration": 4,
    "start_time": "2022-10-22T17:27:28.838Z"
   },
   {
    "duration": 307,
    "start_time": "2022-10-22T17:27:28.844Z"
   },
   {
    "duration": 62,
    "start_time": "2022-10-22T17:27:29.155Z"
   },
   {
    "duration": 1260,
    "start_time": "2022-10-22T17:27:29.223Z"
   },
   {
    "duration": 5,
    "start_time": "2022-10-22T17:27:30.490Z"
   },
   {
    "duration": 73,
    "start_time": "2022-10-22T17:27:30.496Z"
   },
   {
    "duration": 81,
    "start_time": "2022-10-22T17:27:30.571Z"
   },
   {
    "duration": 56,
    "start_time": "2022-10-22T17:27:30.655Z"
   },
   {
    "duration": 33,
    "start_time": "2022-10-22T17:27:30.723Z"
   },
   {
    "duration": 81,
    "start_time": "2022-10-22T17:27:30.759Z"
   },
   {
    "duration": 17,
    "start_time": "2022-10-22T17:27:30.842Z"
   },
   {
    "duration": 297,
    "start_time": "2022-10-22T17:27:30.861Z"
   },
   {
    "duration": 15,
    "start_time": "2022-10-22T17:27:31.160Z"
   },
   {
    "duration": 10,
    "start_time": "2022-10-22T17:27:31.188Z"
   },
   {
    "duration": 821,
    "start_time": "2022-10-22T17:27:31.199Z"
   },
   {
    "duration": 1840,
    "start_time": "2022-10-22T17:27:32.030Z"
   },
   {
    "duration": 650,
    "start_time": "2022-10-22T17:28:24.922Z"
   },
   {
    "duration": 41477,
    "start_time": "2022-10-22T17:29:46.766Z"
   },
   {
    "duration": 129,
    "start_time": "2022-10-22T17:30:31.969Z"
   },
   {
    "duration": 141,
    "start_time": "2022-10-22T17:30:38.619Z"
   },
   {
    "duration": 133,
    "start_time": "2022-10-22T17:34:39.780Z"
   },
   {
    "duration": 4,
    "start_time": "2022-10-22T17:34:56.554Z"
   },
   {
    "duration": 7,
    "start_time": "2022-10-22T17:34:58.298Z"
   },
   {
    "duration": 198,
    "start_time": "2022-10-22T17:35:11.701Z"
   },
   {
    "duration": 108,
    "start_time": "2022-10-22T17:35:23.292Z"
   },
   {
    "duration": 107,
    "start_time": "2022-10-22T17:36:19.453Z"
   },
   {
    "duration": 123,
    "start_time": "2022-10-22T17:36:41.748Z"
   },
   {
    "duration": 237,
    "start_time": "2022-10-22T17:37:58.615Z"
   },
   {
    "duration": 11,
    "start_time": "2022-10-22T17:38:15.240Z"
   },
   {
    "duration": 10,
    "start_time": "2022-10-22T17:38:26.016Z"
   },
   {
    "duration": 9595,
    "start_time": "2022-10-22T17:38:34.659Z"
   },
   {
    "duration": 124,
    "start_time": "2022-10-22T17:40:27.149Z"
   },
   {
    "duration": 118,
    "start_time": "2022-10-22T17:40:38.214Z"
   },
   {
    "duration": 114,
    "start_time": "2022-10-22T17:40:45.228Z"
   },
   {
    "duration": 21,
    "start_time": "2022-10-22T17:42:27.676Z"
   },
   {
    "duration": 26,
    "start_time": "2022-10-22T17:42:32.099Z"
   },
   {
    "duration": 133,
    "start_time": "2022-10-22T17:42:35.596Z"
   },
   {
    "duration": 175,
    "start_time": "2022-10-22T17:43:25.173Z"
   },
   {
    "duration": 152,
    "start_time": "2022-10-22T17:43:33.764Z"
   },
   {
    "duration": 161,
    "start_time": "2022-10-22T17:44:06.611Z"
   },
   {
    "duration": 167,
    "start_time": "2022-10-22T17:47:50.613Z"
   },
   {
    "duration": 121,
    "start_time": "2022-10-22T17:48:01.259Z"
   },
   {
    "duration": 115,
    "start_time": "2022-10-22T17:48:55.745Z"
   },
   {
    "duration": 148,
    "start_time": "2022-10-22T17:49:20.816Z"
   },
   {
    "duration": 97,
    "start_time": "2022-10-22T19:02:15.922Z"
   },
   {
    "duration": 98,
    "start_time": "2022-10-22T19:02:39.839Z"
   },
   {
    "duration": 6,
    "start_time": "2022-10-22T19:02:50.700Z"
   },
   {
    "duration": 4,
    "start_time": "2022-10-22T19:02:55.863Z"
   },
   {
    "duration": 5,
    "start_time": "2022-10-22T19:03:01.778Z"
   },
   {
    "duration": 5,
    "start_time": "2022-10-22T19:03:06.771Z"
   },
   {
    "duration": 105,
    "start_time": "2022-10-22T19:03:13.186Z"
   },
   {
    "duration": 85,
    "start_time": "2022-10-22T19:07:41.105Z"
   },
   {
    "duration": 4493,
    "start_time": "2022-10-22T19:07:57.311Z"
   },
   {
    "duration": 14,
    "start_time": "2022-10-22T19:08:43.665Z"
   },
   {
    "duration": 142,
    "start_time": "2022-10-22T19:09:07.561Z"
   },
   {
    "duration": 102,
    "start_time": "2022-10-22T19:09:14.187Z"
   },
   {
    "duration": 14,
    "start_time": "2022-10-22T19:09:27.615Z"
   },
   {
    "duration": 15,
    "start_time": "2022-10-22T19:09:30.369Z"
   },
   {
    "duration": 108,
    "start_time": "2022-10-22T19:09:46.558Z"
   },
   {
    "duration": 98,
    "start_time": "2022-10-22T19:09:52.121Z"
   },
   {
    "duration": 1461,
    "start_time": "2022-10-22T19:10:09.980Z"
   },
   {
    "duration": 109,
    "start_time": "2022-10-22T19:11:13.488Z"
   },
   {
    "duration": 66,
    "start_time": "2022-10-22T19:11:28.705Z"
   },
   {
    "duration": 105,
    "start_time": "2022-10-22T19:11:31.897Z"
   },
   {
    "duration": 5,
    "start_time": "2022-10-22T19:11:57.911Z"
   },
   {
    "duration": 119,
    "start_time": "2022-10-22T19:12:21.122Z"
   },
   {
    "duration": 11,
    "start_time": "2022-10-22T19:16:12.563Z"
   },
   {
    "duration": 123,
    "start_time": "2022-10-22T19:16:15.281Z"
   },
   {
    "duration": 120,
    "start_time": "2022-10-22T19:17:30.566Z"
   },
   {
    "duration": 131,
    "start_time": "2022-10-22T19:17:36.327Z"
   },
   {
    "duration": 123,
    "start_time": "2022-10-22T19:17:40.711Z"
   },
   {
    "duration": 116,
    "start_time": "2022-10-22T19:17:42.665Z"
   },
   {
    "duration": 1728,
    "start_time": "2022-10-23T18:59:57.582Z"
   },
   {
    "duration": 9,
    "start_time": "2022-10-23T18:59:59.313Z"
   },
   {
    "duration": 67,
    "start_time": "2022-10-23T18:59:59.326Z"
   },
   {
    "duration": 46,
    "start_time": "2022-10-23T18:59:59.395Z"
   },
   {
    "duration": 963,
    "start_time": "2022-10-23T18:59:59.443Z"
   },
   {
    "duration": 13,
    "start_time": "2022-10-23T19:00:00.407Z"
   },
   {
    "duration": 35,
    "start_time": "2022-10-23T19:00:00.422Z"
   },
   {
    "duration": 28,
    "start_time": "2022-10-23T19:00:00.459Z"
   },
   {
    "duration": 49,
    "start_time": "2022-10-23T19:00:00.490Z"
   },
   {
    "duration": 9,
    "start_time": "2022-10-23T19:00:00.540Z"
   },
   {
    "duration": 44,
    "start_time": "2022-10-23T19:00:00.550Z"
   },
   {
    "duration": 5,
    "start_time": "2022-10-23T19:00:00.596Z"
   },
   {
    "duration": 253,
    "start_time": "2022-10-23T19:00:00.603Z"
   },
   {
    "duration": 13,
    "start_time": "2022-10-23T19:00:00.858Z"
   },
   {
    "duration": 18,
    "start_time": "2022-10-23T19:00:00.873Z"
   },
   {
    "duration": 8,
    "start_time": "2022-10-23T19:00:00.893Z"
   },
   {
    "duration": 589,
    "start_time": "2022-10-23T19:00:00.903Z"
   },
   {
    "duration": 124,
    "start_time": "2022-10-23T19:00:01.494Z"
   },
   {
    "duration": 7,
    "start_time": "2022-10-23T19:00:01.620Z"
   },
   {
    "duration": 143,
    "start_time": "2022-10-23T19:00:01.629Z"
   },
   {
    "duration": 6,
    "start_time": "2022-10-23T19:01:13.197Z"
   },
   {
    "duration": 9,
    "start_time": "2022-10-23T19:23:54.224Z"
   },
   {
    "duration": 26,
    "start_time": "2022-10-23T19:23:58.003Z"
   },
   {
    "duration": 18,
    "start_time": "2022-10-23T19:24:18.160Z"
   },
   {
    "duration": 11,
    "start_time": "2022-10-23T19:24:24.979Z"
   },
   {
    "duration": 1546,
    "start_time": "2022-10-25T18:51:00.109Z"
   },
   {
    "duration": 0,
    "start_time": "2022-10-25T18:51:01.657Z"
   },
   {
    "duration": 0,
    "start_time": "2022-10-25T18:51:01.658Z"
   },
   {
    "duration": 0,
    "start_time": "2022-10-25T18:51:01.659Z"
   },
   {
    "duration": 0,
    "start_time": "2022-10-25T18:51:01.660Z"
   },
   {
    "duration": 0,
    "start_time": "2022-10-25T18:51:01.661Z"
   },
   {
    "duration": 0,
    "start_time": "2022-10-25T18:51:01.661Z"
   },
   {
    "duration": 0,
    "start_time": "2022-10-25T18:51:01.662Z"
   },
   {
    "duration": 0,
    "start_time": "2022-10-25T18:51:01.677Z"
   },
   {
    "duration": 0,
    "start_time": "2022-10-25T18:51:01.677Z"
   },
   {
    "duration": 0,
    "start_time": "2022-10-25T18:51:01.679Z"
   },
   {
    "duration": 0,
    "start_time": "2022-10-25T18:51:01.680Z"
   },
   {
    "duration": 0,
    "start_time": "2022-10-25T18:51:01.680Z"
   },
   {
    "duration": 0,
    "start_time": "2022-10-25T18:51:01.681Z"
   },
   {
    "duration": 0,
    "start_time": "2022-10-25T18:51:01.682Z"
   },
   {
    "duration": 0,
    "start_time": "2022-10-25T18:51:01.683Z"
   },
   {
    "duration": 0,
    "start_time": "2022-10-25T18:51:01.684Z"
   },
   {
    "duration": 0,
    "start_time": "2022-10-25T18:51:01.685Z"
   },
   {
    "duration": 0,
    "start_time": "2022-10-25T18:51:01.686Z"
   },
   {
    "duration": 0,
    "start_time": "2022-10-25T18:51:01.687Z"
   },
   {
    "duration": 0,
    "start_time": "2022-10-25T18:51:01.688Z"
   },
   {
    "duration": 0,
    "start_time": "2022-10-25T18:51:01.689Z"
   },
   {
    "duration": 0,
    "start_time": "2022-10-25T18:51:01.690Z"
   },
   {
    "duration": 0,
    "start_time": "2022-10-25T18:51:01.691Z"
   },
   {
    "duration": 0,
    "start_time": "2022-10-25T18:51:01.692Z"
   },
   {
    "duration": 0,
    "start_time": "2022-10-25T18:51:01.693Z"
   },
   {
    "duration": 0,
    "start_time": "2022-10-25T18:51:01.694Z"
   },
   {
    "duration": 1273,
    "start_time": "2022-10-25T18:51:45.196Z"
   },
   {
    "duration": 3,
    "start_time": "2022-10-25T18:51:46.471Z"
   },
   {
    "duration": 183,
    "start_time": "2022-10-25T18:51:46.475Z"
   },
   {
    "duration": 44,
    "start_time": "2022-10-25T18:51:46.659Z"
   },
   {
    "duration": 872,
    "start_time": "2022-10-25T18:51:46.705Z"
   },
   {
    "duration": 4,
    "start_time": "2022-10-25T18:51:47.578Z"
   },
   {
    "duration": 11,
    "start_time": "2022-10-25T18:51:47.583Z"
   },
   {
    "duration": 11,
    "start_time": "2022-10-25T18:51:47.595Z"
   },
   {
    "duration": 20,
    "start_time": "2022-10-25T18:51:47.607Z"
   },
   {
    "duration": 51,
    "start_time": "2022-10-25T18:51:47.628Z"
   },
   {
    "duration": 36,
    "start_time": "2022-10-25T18:51:47.681Z"
   },
   {
    "duration": 8,
    "start_time": "2022-10-25T18:51:47.719Z"
   },
   {
    "duration": 481,
    "start_time": "2022-10-25T18:51:47.729Z"
   },
   {
    "duration": 64,
    "start_time": "2022-10-25T18:51:48.213Z"
   },
   {
    "duration": 5,
    "start_time": "2022-10-25T18:51:48.278Z"
   },
   {
    "duration": 5,
    "start_time": "2022-10-25T18:51:48.285Z"
   },
   {
    "duration": 1124,
    "start_time": "2022-10-25T18:51:48.292Z"
   },
   {
    "duration": 130,
    "start_time": "2022-10-25T18:51:49.418Z"
   },
   {
    "duration": 5,
    "start_time": "2022-10-25T18:51:49.549Z"
   },
   {
    "duration": 129,
    "start_time": "2022-10-25T18:51:49.556Z"
   },
   {
    "duration": 16,
    "start_time": "2022-10-25T18:51:49.686Z"
   },
   {
    "duration": 113,
    "start_time": "2022-10-25T18:51:49.703Z"
   },
   {
    "duration": 0,
    "start_time": "2022-10-25T18:51:49.817Z"
   },
   {
    "duration": 0,
    "start_time": "2022-10-25T18:51:49.818Z"
   },
   {
    "duration": 0,
    "start_time": "2022-10-25T18:51:49.819Z"
   },
   {
    "duration": 0,
    "start_time": "2022-10-25T18:51:49.820Z"
   },
   {
    "duration": 0,
    "start_time": "2022-10-25T18:51:49.821Z"
   },
   {
    "duration": 9,
    "start_time": "2022-10-25T18:55:02.489Z"
   },
   {
    "duration": 6,
    "start_time": "2022-10-25T18:55:04.672Z"
   },
   {
    "duration": 12,
    "start_time": "2022-10-25T18:55:05.421Z"
   },
   {
    "duration": 9,
    "start_time": "2022-10-25T18:55:18.439Z"
   },
   {
    "duration": 8,
    "start_time": "2022-10-25T18:55:32.905Z"
   },
   {
    "duration": 10,
    "start_time": "2022-10-25T18:55:53.115Z"
   },
   {
    "duration": 8,
    "start_time": "2022-10-25T18:56:37.572Z"
   },
   {
    "duration": 8,
    "start_time": "2022-10-25T18:56:39.344Z"
   },
   {
    "duration": 24,
    "start_time": "2022-10-25T18:56:47.515Z"
   },
   {
    "duration": 8,
    "start_time": "2022-10-25T18:58:11.874Z"
   },
   {
    "duration": 7,
    "start_time": "2022-10-25T18:58:43.145Z"
   },
   {
    "duration": 13,
    "start_time": "2022-10-25T18:58:44.071Z"
   },
   {
    "duration": 8,
    "start_time": "2022-10-25T18:58:45.459Z"
   },
   {
    "duration": 10,
    "start_time": "2022-10-25T18:58:47.260Z"
   },
   {
    "duration": 31,
    "start_time": "2022-10-25T18:58:56.177Z"
   },
   {
    "duration": 37,
    "start_time": "2022-10-25T18:59:49.222Z"
   },
   {
    "duration": 34,
    "start_time": "2022-10-25T18:59:52.191Z"
   },
   {
    "duration": 5,
    "start_time": "2022-10-25T18:59:59.011Z"
   },
   {
    "duration": 46,
    "start_time": "2022-10-25T19:00:18.587Z"
   },
   {
    "duration": 25,
    "start_time": "2022-10-25T19:04:30.594Z"
   },
   {
    "duration": 6,
    "start_time": "2022-10-25T19:12:42.649Z"
   },
   {
    "duration": 21,
    "start_time": "2022-10-25T19:15:42.309Z"
   },
   {
    "duration": 19,
    "start_time": "2022-10-25T19:19:06.497Z"
   },
   {
    "duration": 16,
    "start_time": "2022-10-25T19:20:12.292Z"
   },
   {
    "duration": 7,
    "start_time": "2022-10-25T19:20:57.648Z"
   },
   {
    "duration": 5,
    "start_time": "2022-10-25T19:20:58.993Z"
   },
   {
    "duration": 9,
    "start_time": "2022-10-25T19:20:59.839Z"
   },
   {
    "duration": 8,
    "start_time": "2022-10-25T19:21:01.503Z"
   },
   {
    "duration": 4,
    "start_time": "2022-10-25T19:21:02.633Z"
   },
   {
    "duration": 26,
    "start_time": "2022-10-25T19:21:04.534Z"
   },
   {
    "duration": 15,
    "start_time": "2022-10-25T19:21:09.408Z"
   },
   {
    "duration": 20,
    "start_time": "2022-10-25T19:21:14.551Z"
   },
   {
    "duration": 25,
    "start_time": "2022-10-25T19:21:57.920Z"
   },
   {
    "duration": 20,
    "start_time": "2022-10-25T19:22:58.739Z"
   },
   {
    "duration": 70,
    "start_time": "2022-10-25T19:23:45.390Z"
   },
   {
    "duration": 91,
    "start_time": "2022-10-25T19:23:53.669Z"
   },
   {
    "duration": 19,
    "start_time": "2022-10-25T19:24:07.352Z"
   },
   {
    "duration": 2,
    "start_time": "2022-10-25T19:24:50.233Z"
   },
   {
    "duration": 13,
    "start_time": "2022-10-25T19:26:37.632Z"
   },
   {
    "duration": 1683,
    "start_time": "2022-10-26T19:23:23.313Z"
   },
   {
    "duration": 3,
    "start_time": "2022-10-26T19:23:24.998Z"
   },
   {
    "duration": 97,
    "start_time": "2022-10-26T19:23:25.002Z"
   },
   {
    "duration": 45,
    "start_time": "2022-10-26T19:23:25.101Z"
   },
   {
    "duration": 1000,
    "start_time": "2022-10-26T19:23:25.148Z"
   },
   {
    "duration": 6,
    "start_time": "2022-10-26T19:23:26.150Z"
   },
   {
    "duration": 8,
    "start_time": "2022-10-26T19:23:26.157Z"
   },
   {
    "duration": 12,
    "start_time": "2022-10-26T19:23:26.167Z"
   },
   {
    "duration": 53,
    "start_time": "2022-10-26T19:23:26.181Z"
   },
   {
    "duration": 4,
    "start_time": "2022-10-26T19:23:26.237Z"
   },
   {
    "duration": 31,
    "start_time": "2022-10-26T19:23:26.243Z"
   },
   {
    "duration": 11,
    "start_time": "2022-10-26T19:23:26.276Z"
   },
   {
    "duration": 259,
    "start_time": "2022-10-26T19:23:26.289Z"
   },
   {
    "duration": 14,
    "start_time": "2022-10-26T19:23:26.549Z"
   },
   {
    "duration": 5,
    "start_time": "2022-10-26T19:23:26.565Z"
   },
   {
    "duration": 11,
    "start_time": "2022-10-26T19:23:26.571Z"
   },
   {
    "duration": 577,
    "start_time": "2022-10-26T19:23:26.584Z"
   },
   {
    "duration": 132,
    "start_time": "2022-10-26T19:23:27.163Z"
   },
   {
    "duration": 13,
    "start_time": "2022-10-26T19:23:27.297Z"
   },
   {
    "duration": 146,
    "start_time": "2022-10-26T19:23:27.312Z"
   },
   {
    "duration": 8,
    "start_time": "2022-10-26T19:23:27.459Z"
   },
   {
    "duration": 21,
    "start_time": "2022-10-26T19:23:27.468Z"
   },
   {
    "duration": 18,
    "start_time": "2022-10-26T19:23:27.491Z"
   },
   {
    "duration": 6,
    "start_time": "2022-10-26T19:23:27.510Z"
   },
   {
    "duration": 10,
    "start_time": "2022-10-26T19:23:27.517Z"
   },
   {
    "duration": 8,
    "start_time": "2022-10-26T19:23:27.529Z"
   },
   {
    "duration": 4,
    "start_time": "2022-10-26T19:23:27.539Z"
   },
   {
    "duration": 66,
    "start_time": "2022-10-26T19:23:27.547Z"
   },
   {
    "duration": 4,
    "start_time": "2022-10-26T19:23:27.615Z"
   },
   {
    "duration": 91,
    "start_time": "2022-10-26T19:23:27.621Z"
   },
   {
    "duration": 288,
    "start_time": "2022-10-26T19:23:27.713Z"
   },
   {
    "duration": 90686,
    "start_time": "2022-10-26T19:23:28.003Z"
   },
   {
    "duration": 4,
    "start_time": "2022-10-26T19:24:58.690Z"
   },
   {
    "duration": 118,
    "start_time": "2022-10-26T19:24:58.695Z"
   },
   {
    "duration": 296,
    "start_time": "2022-10-26T19:24:58.821Z"
   },
   {
    "duration": 92548,
    "start_time": "2022-10-26T19:24:59.119Z"
   },
   {
    "duration": 14,
    "start_time": "2022-10-26T19:26:31.668Z"
   },
   {
    "duration": 97,
    "start_time": "2022-10-26T19:26:50.016Z"
   },
   {
    "duration": 25,
    "start_time": "2022-10-26T19:27:07.452Z"
   },
   {
    "duration": 198,
    "start_time": "2022-10-26T19:29:12.838Z"
   },
   {
    "duration": 227,
    "start_time": "2022-10-26T19:29:23.004Z"
   },
   {
    "duration": 203,
    "start_time": "2022-10-26T19:29:46.832Z"
   },
   {
    "duration": 27404,
    "start_time": "2022-10-26T19:32:30.454Z"
   },
   {
    "duration": 27169,
    "start_time": "2022-10-26T19:34:21.344Z"
   },
   {
    "duration": 7699,
    "start_time": "2022-10-26T19:35:08.997Z"
   },
   {
    "duration": 200,
    "start_time": "2022-10-26T19:37:33.606Z"
   },
   {
    "duration": 25,
    "start_time": "2022-10-26T19:37:49.065Z"
   },
   {
    "duration": 217,
    "start_time": "2022-10-26T19:39:51.769Z"
   },
   {
    "duration": 7,
    "start_time": "2022-10-26T19:40:57.829Z"
   },
   {
    "duration": 7740,
    "start_time": "2022-10-26T19:41:39.563Z"
   },
   {
    "duration": 19,
    "start_time": "2022-10-26T19:42:53.102Z"
   },
   {
    "duration": 8,
    "start_time": "2022-10-26T19:43:07.044Z"
   },
   {
    "duration": 7858,
    "start_time": "2022-10-26T19:43:32.568Z"
   },
   {
    "duration": 17,
    "start_time": "2022-10-26T19:44:01.141Z"
   },
   {
    "duration": 18,
    "start_time": "2022-10-26T19:48:55.680Z"
   },
   {
    "duration": 1292,
    "start_time": "2022-10-26T19:50:37.164Z"
   },
   {
    "duration": 3,
    "start_time": "2022-10-26T19:50:38.457Z"
   },
   {
    "duration": 59,
    "start_time": "2022-10-26T19:50:38.462Z"
   },
   {
    "duration": 46,
    "start_time": "2022-10-26T19:50:38.522Z"
   },
   {
    "duration": 944,
    "start_time": "2022-10-26T19:50:38.569Z"
   },
   {
    "duration": 4,
    "start_time": "2022-10-26T19:50:39.514Z"
   },
   {
    "duration": 8,
    "start_time": "2022-10-26T19:50:39.519Z"
   },
   {
    "duration": 9,
    "start_time": "2022-10-26T19:50:39.529Z"
   },
   {
    "duration": 19,
    "start_time": "2022-10-26T19:50:39.539Z"
   },
   {
    "duration": 3,
    "start_time": "2022-10-26T19:50:39.561Z"
   },
   {
    "duration": 17,
    "start_time": "2022-10-26T19:50:39.565Z"
   },
   {
    "duration": 26,
    "start_time": "2022-10-26T19:50:39.583Z"
   },
   {
    "duration": 233,
    "start_time": "2022-10-26T19:50:39.610Z"
   },
   {
    "duration": 13,
    "start_time": "2022-10-26T19:50:39.844Z"
   },
   {
    "duration": 4,
    "start_time": "2022-10-26T19:50:39.859Z"
   },
   {
    "duration": 6,
    "start_time": "2022-10-26T19:50:39.864Z"
   },
   {
    "duration": 589,
    "start_time": "2022-10-26T19:50:39.871Z"
   },
   {
    "duration": 119,
    "start_time": "2022-10-26T19:50:40.462Z"
   },
   {
    "duration": 5,
    "start_time": "2022-10-26T19:50:40.583Z"
   },
   {
    "duration": 134,
    "start_time": "2022-10-26T19:50:40.590Z"
   },
   {
    "duration": 6,
    "start_time": "2022-10-26T19:50:40.726Z"
   },
   {
    "duration": 27,
    "start_time": "2022-10-26T19:50:40.733Z"
   },
   {
    "duration": 6,
    "start_time": "2022-10-26T19:50:40.761Z"
   },
   {
    "duration": 5,
    "start_time": "2022-10-26T19:50:40.769Z"
   },
   {
    "duration": 8,
    "start_time": "2022-10-26T19:50:40.775Z"
   },
   {
    "duration": 30,
    "start_time": "2022-10-26T19:50:40.784Z"
   },
   {
    "duration": 4,
    "start_time": "2022-10-26T19:50:40.816Z"
   },
   {
    "duration": 26,
    "start_time": "2022-10-26T19:50:40.823Z"
   },
   {
    "duration": 4,
    "start_time": "2022-10-26T19:50:40.850Z"
   },
   {
    "duration": 56,
    "start_time": "2022-10-26T19:50:40.856Z"
   },
   {
    "duration": 292,
    "start_time": "2022-10-26T19:50:40.914Z"
   },
   {
    "duration": 8545,
    "start_time": "2022-10-26T19:50:41.209Z"
   },
   {
    "duration": 7707,
    "start_time": "2022-10-26T19:50:49.756Z"
   },
   {
    "duration": 22,
    "start_time": "2022-10-26T19:50:57.464Z"
   },
   {
    "duration": 4,
    "start_time": "2022-10-26T19:50:57.487Z"
   },
   {
    "duration": 120,
    "start_time": "2022-10-26T19:50:57.492Z"
   },
   {
    "duration": 287,
    "start_time": "2022-10-26T19:50:57.613Z"
   },
   {
    "duration": 88082,
    "start_time": "2022-10-26T19:50:57.902Z"
   },
   {
    "duration": 11,
    "start_time": "2022-10-26T19:52:25.985Z"
   },
   {
    "duration": 5,
    "start_time": "2022-10-26T19:54:14.083Z"
   },
   {
    "duration": 122,
    "start_time": "2022-10-26T19:54:29.412Z"
   },
   {
    "duration": 4,
    "start_time": "2022-10-26T19:55:06.906Z"
   },
   {
    "duration": 4,
    "start_time": "2022-10-26T19:55:59.336Z"
   },
   {
    "duration": 8,
    "start_time": "2022-10-26T19:56:36.148Z"
   },
   {
    "duration": 12,
    "start_time": "2022-10-26T19:58:26.192Z"
   },
   {
    "duration": 11,
    "start_time": "2022-10-26T19:58:53.128Z"
   },
   {
    "duration": 10,
    "start_time": "2022-10-26T19:59:00.050Z"
   },
   {
    "duration": 1340,
    "start_time": "2022-10-26T19:59:22.615Z"
   },
   {
    "duration": 2,
    "start_time": "2022-10-26T19:59:23.957Z"
   },
   {
    "duration": 58,
    "start_time": "2022-10-26T19:59:23.961Z"
   },
   {
    "duration": 44,
    "start_time": "2022-10-26T19:59:24.021Z"
   },
   {
    "duration": 982,
    "start_time": "2022-10-26T19:59:24.066Z"
   },
   {
    "duration": 4,
    "start_time": "2022-10-26T19:59:25.050Z"
   },
   {
    "duration": 7,
    "start_time": "2022-10-26T19:59:25.055Z"
   },
   {
    "duration": 18,
    "start_time": "2022-10-26T19:59:25.063Z"
   },
   {
    "duration": 24,
    "start_time": "2022-10-26T19:59:25.082Z"
   },
   {
    "duration": 3,
    "start_time": "2022-10-26T19:59:25.110Z"
   },
   {
    "duration": 20,
    "start_time": "2022-10-26T19:59:25.114Z"
   },
   {
    "duration": 3,
    "start_time": "2022-10-26T19:59:25.136Z"
   },
   {
    "duration": 238,
    "start_time": "2022-10-26T19:59:25.140Z"
   },
   {
    "duration": 11,
    "start_time": "2022-10-26T19:59:25.380Z"
   },
   {
    "duration": 16,
    "start_time": "2022-10-26T19:59:25.393Z"
   },
   {
    "duration": 3,
    "start_time": "2022-10-26T19:59:25.411Z"
   },
   {
    "duration": 558,
    "start_time": "2022-10-26T19:59:25.416Z"
   },
   {
    "duration": 111,
    "start_time": "2022-10-26T19:59:25.976Z"
   },
   {
    "duration": 6,
    "start_time": "2022-10-26T19:59:26.088Z"
   },
   {
    "duration": 146,
    "start_time": "2022-10-26T19:59:26.095Z"
   },
   {
    "duration": 7,
    "start_time": "2022-10-26T19:59:26.243Z"
   },
   {
    "duration": 19,
    "start_time": "2022-10-26T19:59:26.252Z"
   },
   {
    "duration": 12,
    "start_time": "2022-10-26T19:59:26.273Z"
   },
   {
    "duration": 23,
    "start_time": "2022-10-26T19:59:26.286Z"
   },
   {
    "duration": 9,
    "start_time": "2022-10-26T19:59:26.310Z"
   },
   {
    "duration": 10,
    "start_time": "2022-10-26T19:59:26.320Z"
   },
   {
    "duration": 7,
    "start_time": "2022-10-26T19:59:26.332Z"
   },
   {
    "duration": 30,
    "start_time": "2022-10-26T19:59:26.342Z"
   },
   {
    "duration": 4,
    "start_time": "2022-10-26T19:59:26.373Z"
   },
   {
    "duration": 52,
    "start_time": "2022-10-26T19:59:26.379Z"
   },
   {
    "duration": 286,
    "start_time": "2022-10-26T19:59:26.510Z"
   },
   {
    "duration": 7517,
    "start_time": "2022-10-26T19:59:26.797Z"
   },
   {
    "duration": 8427,
    "start_time": "2022-10-26T19:59:34.316Z"
   },
   {
    "duration": 17,
    "start_time": "2022-10-26T19:59:42.745Z"
   },
   {
    "duration": 127,
    "start_time": "2022-10-26T19:59:42.764Z"
   },
   {
    "duration": 0,
    "start_time": "2022-10-26T19:59:42.893Z"
   },
   {
    "duration": 0,
    "start_time": "2022-10-26T19:59:42.894Z"
   },
   {
    "duration": 0,
    "start_time": "2022-10-26T19:59:42.895Z"
   },
   {
    "duration": 0,
    "start_time": "2022-10-26T19:59:42.896Z"
   },
   {
    "duration": 0,
    "start_time": "2022-10-26T19:59:42.909Z"
   },
   {
    "duration": 0,
    "start_time": "2022-10-26T19:59:42.910Z"
   },
   {
    "duration": 19,
    "start_time": "2022-10-26T19:59:52.109Z"
   },
   {
    "duration": 8,
    "start_time": "2022-10-26T19:59:52.794Z"
   },
   {
    "duration": 19,
    "start_time": "2022-10-26T19:59:54.208Z"
   },
   {
    "duration": 10,
    "start_time": "2022-10-26T19:59:56.208Z"
   },
   {
    "duration": 5,
    "start_time": "2022-10-26T20:00:03.804Z"
   },
   {
    "duration": 4,
    "start_time": "2022-10-26T20:00:08.484Z"
   },
   {
    "duration": 10,
    "start_time": "2022-10-26T20:00:29.302Z"
   },
   {
    "duration": 9,
    "start_time": "2022-10-26T20:00:30.656Z"
   },
   {
    "duration": 9,
    "start_time": "2022-10-26T20:00:31.845Z"
   },
   {
    "duration": 8,
    "start_time": "2022-10-26T20:00:32.869Z"
   },
   {
    "duration": 8,
    "start_time": "2022-10-26T20:00:37.317Z"
   },
   {
    "duration": 7676,
    "start_time": "2022-10-26T20:00:43.087Z"
   },
   {
    "duration": 18,
    "start_time": "2022-10-26T20:00:54.309Z"
   },
   {
    "duration": 10,
    "start_time": "2022-10-26T20:00:56.437Z"
   },
   {
    "duration": 23,
    "start_time": "2022-10-26T20:01:12.897Z"
   },
   {
    "duration": 1394,
    "start_time": "2022-10-26T20:01:43.401Z"
   },
   {
    "duration": 4,
    "start_time": "2022-10-26T20:01:44.796Z"
   },
   {
    "duration": 58,
    "start_time": "2022-10-26T20:01:44.801Z"
   },
   {
    "duration": 44,
    "start_time": "2022-10-26T20:01:44.861Z"
   },
   {
    "duration": 899,
    "start_time": "2022-10-26T20:01:44.907Z"
   },
   {
    "duration": 5,
    "start_time": "2022-10-26T20:01:45.809Z"
   },
   {
    "duration": 4,
    "start_time": "2022-10-26T20:01:45.816Z"
   },
   {
    "duration": 13,
    "start_time": "2022-10-26T20:01:45.821Z"
   },
   {
    "duration": 19,
    "start_time": "2022-10-26T20:01:45.835Z"
   },
   {
    "duration": 3,
    "start_time": "2022-10-26T20:01:45.856Z"
   },
   {
    "duration": 15,
    "start_time": "2022-10-26T20:01:45.861Z"
   },
   {
    "duration": 33,
    "start_time": "2022-10-26T20:01:45.878Z"
   },
   {
    "duration": 232,
    "start_time": "2022-10-26T20:01:45.913Z"
   },
   {
    "duration": 12,
    "start_time": "2022-10-26T20:01:46.147Z"
   },
   {
    "duration": 3,
    "start_time": "2022-10-26T20:01:46.161Z"
   },
   {
    "duration": 5,
    "start_time": "2022-10-26T20:01:46.166Z"
   },
   {
    "duration": 597,
    "start_time": "2022-10-26T20:01:46.173Z"
   },
   {
    "duration": 117,
    "start_time": "2022-10-26T20:01:46.771Z"
   },
   {
    "duration": 5,
    "start_time": "2022-10-26T20:01:46.890Z"
   },
   {
    "duration": 151,
    "start_time": "2022-10-26T20:01:46.897Z"
   },
   {
    "duration": 6,
    "start_time": "2022-10-26T20:01:47.050Z"
   },
   {
    "duration": 20,
    "start_time": "2022-10-26T20:01:47.058Z"
   },
   {
    "duration": 7,
    "start_time": "2022-10-26T20:01:47.079Z"
   },
   {
    "duration": 5,
    "start_time": "2022-10-26T20:01:47.109Z"
   },
   {
    "duration": 11,
    "start_time": "2022-10-26T20:01:47.116Z"
   },
   {
    "duration": 10,
    "start_time": "2022-10-26T20:01:47.129Z"
   },
   {
    "duration": 4,
    "start_time": "2022-10-26T20:01:47.140Z"
   },
   {
    "duration": 27,
    "start_time": "2022-10-26T20:01:47.148Z"
   },
   {
    "duration": 3,
    "start_time": "2022-10-26T20:01:47.177Z"
   },
   {
    "duration": 52,
    "start_time": "2022-10-26T20:01:47.182Z"
   },
   {
    "duration": 289,
    "start_time": "2022-10-26T20:01:47.309Z"
   },
   {
    "duration": 7515,
    "start_time": "2022-10-26T20:01:47.600Z"
   },
   {
    "duration": 7558,
    "start_time": "2022-10-26T20:01:55.117Z"
   },
   {
    "duration": 15,
    "start_time": "2022-10-26T20:02:02.676Z"
   },
   {
    "duration": 16,
    "start_time": "2022-10-26T20:02:02.693Z"
   },
   {
    "duration": 4,
    "start_time": "2022-10-26T20:02:02.710Z"
   },
   {
    "duration": 96,
    "start_time": "2022-10-26T20:02:02.716Z"
   },
   {
    "duration": 292,
    "start_time": "2022-10-26T20:02:02.813Z"
   },
   {
    "duration": 90317,
    "start_time": "2022-10-26T20:02:03.106Z"
   },
   {
    "duration": 53,
    "start_time": "2022-10-26T20:03:33.425Z"
   },
   {
    "duration": 4,
    "start_time": "2022-10-26T20:04:15.565Z"
   },
   {
    "duration": 6,
    "start_time": "2022-10-26T20:04:20.783Z"
   },
   {
    "duration": 4,
    "start_time": "2022-10-26T20:04:49.669Z"
   },
   {
    "duration": 55,
    "start_time": "2022-10-26T20:04:55.174Z"
   },
   {
    "duration": 5,
    "start_time": "2022-10-26T20:04:56.975Z"
   },
   {
    "duration": 57,
    "start_time": "2022-10-26T20:04:57.847Z"
   },
   {
    "duration": 7,
    "start_time": "2022-10-26T20:04:58.629Z"
   },
   {
    "duration": 53,
    "start_time": "2022-10-26T20:04:59.467Z"
   },
   {
    "duration": 7,
    "start_time": "2022-10-26T20:05:01.213Z"
   },
   {
    "duration": 4,
    "start_time": "2022-10-26T20:05:02.559Z"
   },
   {
    "duration": 4,
    "start_time": "2022-10-26T20:05:04.635Z"
   },
   {
    "duration": 7659,
    "start_time": "2022-10-26T20:05:07.079Z"
   },
   {
    "duration": 17,
    "start_time": "2022-10-26T20:05:18.056Z"
   },
   {
    "duration": 6,
    "start_time": "2022-10-26T20:05:20.584Z"
   },
   {
    "duration": 5,
    "start_time": "2022-10-26T20:05:22.713Z"
   },
   {
    "duration": 7,
    "start_time": "2022-10-26T20:05:24.316Z"
   },
   {
    "duration": 5,
    "start_time": "2022-10-26T20:05:24.947Z"
   },
   {
    "duration": 7,
    "start_time": "2022-10-26T20:05:26.671Z"
   },
   {
    "duration": 4,
    "start_time": "2022-10-26T20:05:27.848Z"
   },
   {
    "duration": 17,
    "start_time": "2022-10-26T20:05:28.843Z"
   },
   {
    "duration": 7,
    "start_time": "2022-10-26T20:05:29.644Z"
   },
   {
    "duration": 4,
    "start_time": "2022-10-26T20:05:30.341Z"
   },
   {
    "duration": 1616,
    "start_time": "2022-10-27T17:55:46.099Z"
   },
   {
    "duration": 3,
    "start_time": "2022-10-27T17:55:47.717Z"
   },
   {
    "duration": 168,
    "start_time": "2022-10-27T17:55:47.721Z"
   },
   {
    "duration": 47,
    "start_time": "2022-10-27T17:55:47.891Z"
   },
   {
    "duration": 1013,
    "start_time": "2022-10-27T17:55:47.939Z"
   },
   {
    "duration": 5,
    "start_time": "2022-10-27T17:55:48.954Z"
   },
   {
    "duration": 3,
    "start_time": "2022-10-27T17:55:48.961Z"
   },
   {
    "duration": 10,
    "start_time": "2022-10-27T17:55:48.966Z"
   },
   {
    "duration": 33,
    "start_time": "2022-10-27T17:55:48.977Z"
   },
   {
    "duration": 3,
    "start_time": "2022-10-27T17:55:49.014Z"
   },
   {
    "duration": 31,
    "start_time": "2022-10-27T17:55:49.018Z"
   },
   {
    "duration": 5,
    "start_time": "2022-10-27T17:55:49.051Z"
   },
   {
    "duration": 223,
    "start_time": "2022-10-27T17:55:49.058Z"
   },
   {
    "duration": 17,
    "start_time": "2022-10-27T17:55:49.283Z"
   },
   {
    "duration": 4,
    "start_time": "2022-10-27T17:55:49.301Z"
   },
   {
    "duration": 5,
    "start_time": "2022-10-27T17:55:49.306Z"
   },
   {
    "duration": 680,
    "start_time": "2022-10-27T17:55:49.313Z"
   },
   {
    "duration": 237,
    "start_time": "2022-10-27T17:55:49.996Z"
   },
   {
    "duration": 56,
    "start_time": "2022-10-27T17:55:50.235Z"
   },
   {
    "duration": 235,
    "start_time": "2022-10-27T17:55:50.293Z"
   },
   {
    "duration": 6,
    "start_time": "2022-10-27T17:55:50.529Z"
   },
   {
    "duration": 69,
    "start_time": "2022-10-27T17:55:50.536Z"
   },
   {
    "duration": 7,
    "start_time": "2022-10-27T17:55:50.606Z"
   },
   {
    "duration": 4,
    "start_time": "2022-10-27T17:55:50.614Z"
   },
   {
    "duration": 9,
    "start_time": "2022-10-27T17:55:50.620Z"
   },
   {
    "duration": 64,
    "start_time": "2022-10-27T17:55:50.631Z"
   },
   {
    "duration": 4,
    "start_time": "2022-10-27T17:55:50.696Z"
   },
   {
    "duration": 24,
    "start_time": "2022-10-27T17:55:50.704Z"
   },
   {
    "duration": 4,
    "start_time": "2022-10-27T17:55:50.730Z"
   },
   {
    "duration": 102,
    "start_time": "2022-10-27T17:55:50.790Z"
   },
   {
    "duration": 416,
    "start_time": "2022-10-27T17:55:50.894Z"
   },
   {
    "duration": 7074,
    "start_time": "2022-10-27T17:55:51.311Z"
   },
   {
    "duration": 27,
    "start_time": "2022-10-27T17:55:58.390Z"
   },
   {
    "duration": 363,
    "start_time": "2022-10-27T17:55:58.418Z"
   },
   {
    "duration": 7029,
    "start_time": "2022-10-27T17:55:58.782Z"
   },
   {
    "duration": 29,
    "start_time": "2022-10-27T17:56:05.812Z"
   },
   {
    "duration": 6,
    "start_time": "2022-10-27T17:56:05.843Z"
   },
   {
    "duration": 4,
    "start_time": "2022-10-27T17:56:05.850Z"
   },
   {
    "duration": 10,
    "start_time": "2022-10-27T17:56:05.855Z"
   },
   {
    "duration": 31,
    "start_time": "2022-10-27T17:56:05.866Z"
   },
   {
    "duration": 201,
    "start_time": "2022-10-27T17:56:05.899Z"
   },
   {
    "duration": 217,
    "start_time": "2022-10-27T17:56:06.102Z"
   },
   {
    "duration": 108237,
    "start_time": "2022-10-27T17:56:06.321Z"
   },
   {
    "duration": 4,
    "start_time": "2022-10-27T17:57:54.560Z"
   },
   {
    "duration": 13,
    "start_time": "2022-10-27T17:57:54.565Z"
   },
   {
    "duration": 111,
    "start_time": "2022-10-27T17:57:54.580Z"
   },
   {
    "duration": 187,
    "start_time": "2022-10-27T17:57:54.693Z"
   },
   {
    "duration": 51023,
    "start_time": "2022-10-27T17:57:54.881Z"
   },
   {
    "duration": 86,
    "start_time": "2022-10-27T17:58:45.906Z"
   },
   {
    "duration": 321,
    "start_time": "2022-10-27T17:58:45.994Z"
   },
   {
    "duration": 145,
    "start_time": "2022-10-27T17:58:46.316Z"
   },
   {
    "duration": 137,
    "start_time": "2022-10-27T17:58:46.463Z"
   },
   {
    "duration": 0,
    "start_time": "2022-10-27T17:58:46.602Z"
   },
   {
    "duration": 0,
    "start_time": "2022-10-27T17:58:46.604Z"
   },
   {
    "duration": 0,
    "start_time": "2022-10-27T17:58:46.604Z"
   },
   {
    "duration": 0,
    "start_time": "2022-10-27T17:58:46.605Z"
   },
   {
    "duration": 0,
    "start_time": "2022-10-27T17:58:46.606Z"
   },
   {
    "duration": 0,
    "start_time": "2022-10-27T17:58:46.607Z"
   },
   {
    "duration": 0,
    "start_time": "2022-10-27T17:58:46.608Z"
   },
   {
    "duration": 0,
    "start_time": "2022-10-27T17:58:46.610Z"
   },
   {
    "duration": 0,
    "start_time": "2022-10-27T17:58:46.611Z"
   },
   {
    "duration": 0,
    "start_time": "2022-10-27T17:58:46.612Z"
   },
   {
    "duration": 89,
    "start_time": "2022-10-27T17:59:42.381Z"
   },
   {
    "duration": 4,
    "start_time": "2022-10-27T17:59:59.838Z"
   },
   {
    "duration": 9,
    "start_time": "2022-10-27T18:00:00.644Z"
   },
   {
    "duration": 55,
    "start_time": "2022-10-27T18:00:05.884Z"
   },
   {
    "duration": 55,
    "start_time": "2022-10-27T18:00:08.518Z"
   },
   {
    "duration": 212,
    "start_time": "2022-10-27T18:00:15.149Z"
   },
   {
    "duration": 24,
    "start_time": "2022-10-27T20:36:10.555Z"
   },
   {
    "duration": 34,
    "start_time": "2022-10-27T20:36:13.317Z"
   },
   {
    "duration": 25,
    "start_time": "2022-10-27T20:37:32.288Z"
   },
   {
    "duration": 166,
    "start_time": "2022-10-27T20:39:13.859Z"
   },
   {
    "duration": 164,
    "start_time": "2022-10-27T20:39:54.145Z"
   },
   {
    "duration": 164,
    "start_time": "2022-10-27T20:39:56.944Z"
   },
   {
    "duration": 193,
    "start_time": "2022-10-27T20:40:01.122Z"
   },
   {
    "duration": 188,
    "start_time": "2022-10-27T20:40:03.566Z"
   },
   {
    "duration": 188,
    "start_time": "2022-10-27T20:40:04.793Z"
   },
   {
    "duration": 55,
    "start_time": "2022-10-27T20:40:17.277Z"
   },
   {
    "duration": 53,
    "start_time": "2022-10-27T20:40:20.765Z"
   },
   {
    "duration": 7125,
    "start_time": "2022-10-27T20:40:22.448Z"
   },
   {
    "duration": 31,
    "start_time": "2022-10-27T20:40:44.083Z"
   },
   {
    "duration": 7,
    "start_time": "2022-10-27T20:40:46.868Z"
   },
   {
    "duration": 5,
    "start_time": "2022-10-27T20:40:47.896Z"
   },
   {
    "duration": 4,
    "start_time": "2022-10-27T20:40:49.746Z"
   },
   {
    "duration": 7,
    "start_time": "2022-10-27T20:40:51.266Z"
   },
   {
    "duration": 30,
    "start_time": "2022-10-27T20:41:02.506Z"
   },
   {
    "duration": 9,
    "start_time": "2022-10-27T20:41:03.992Z"
   },
   {
    "duration": 4,
    "start_time": "2022-10-27T20:41:04.772Z"
   },
   {
    "duration": 35,
    "start_time": "2022-10-27T20:41:25.879Z"
   },
   {
    "duration": 33,
    "start_time": "2022-10-27T20:41:39.777Z"
   },
   {
    "duration": 49,
    "start_time": "2022-10-27T20:41:46.844Z"
   },
   {
    "duration": 227,
    "start_time": "2022-10-27T20:41:57.669Z"
   },
   {
    "duration": 54,
    "start_time": "2022-10-27T20:42:06.051Z"
   },
   {
    "duration": 5,
    "start_time": "2022-10-27T20:42:28.774Z"
   },
   {
    "duration": 5,
    "start_time": "2022-10-27T20:43:01.696Z"
   },
   {
    "duration": 6,
    "start_time": "2022-10-27T20:43:11.473Z"
   },
   {
    "duration": 39,
    "start_time": "2022-10-27T20:43:15.366Z"
   },
   {
    "duration": 39,
    "start_time": "2022-10-27T20:44:53.053Z"
   },
   {
    "duration": 49,
    "start_time": "2022-10-27T20:45:37.742Z"
   },
   {
    "duration": 219,
    "start_time": "2022-10-27T20:47:04.512Z"
   },
   {
    "duration": 217,
    "start_time": "2022-10-27T20:48:28.168Z"
   },
   {
    "duration": 212,
    "start_time": "2022-10-27T20:48:38.656Z"
   },
   {
    "duration": 6,
    "start_time": "2022-10-27T20:49:20.825Z"
   },
   {
    "duration": 218,
    "start_time": "2022-10-27T20:50:03.045Z"
   },
   {
    "duration": 178,
    "start_time": "2022-10-27T20:50:15.753Z"
   },
   {
    "duration": 29720,
    "start_time": "2022-10-27T20:53:00.914Z"
   },
   {
    "duration": 218,
    "start_time": "2022-10-27T20:56:52.573Z"
   },
   {
    "duration": 254,
    "start_time": "2022-10-27T20:56:58.570Z"
   },
   {
    "duration": 29275,
    "start_time": "2022-10-27T20:58:35.751Z"
   },
   {
    "duration": 27,
    "start_time": "2022-10-27T20:59:46.068Z"
   },
   {
    "duration": 81,
    "start_time": "2022-10-27T20:59:53.311Z"
   },
   {
    "duration": 199,
    "start_time": "2022-10-27T21:00:30.892Z"
   },
   {
    "duration": 19,
    "start_time": "2022-10-27T21:02:16.697Z"
   },
   {
    "duration": 5,
    "start_time": "2022-10-27T21:02:21.840Z"
   },
   {
    "duration": 5,
    "start_time": "2022-10-27T21:02:25.272Z"
   },
   {
    "duration": 93,
    "start_time": "2022-10-27T21:03:19.999Z"
   },
   {
    "duration": 106,
    "start_time": "2022-10-27T21:03:38.690Z"
   },
   {
    "duration": 106,
    "start_time": "2022-10-27T21:04:28.236Z"
   },
   {
    "duration": 108,
    "start_time": "2022-10-27T21:04:50.749Z"
   },
   {
    "duration": 112,
    "start_time": "2022-10-27T21:05:16.213Z"
   },
   {
    "duration": 115,
    "start_time": "2022-10-27T21:06:20.708Z"
   },
   {
    "duration": 107,
    "start_time": "2022-10-27T21:06:43.656Z"
   },
   {
    "duration": 30334,
    "start_time": "2022-10-27T21:07:55.131Z"
   },
   {
    "duration": 30083,
    "start_time": "2022-10-27T21:08:57.073Z"
   },
   {
    "duration": 13,
    "start_time": "2022-10-27T21:11:58.799Z"
   },
   {
    "duration": 1581,
    "start_time": "2022-10-28T16:46:46.311Z"
   },
   {
    "duration": 3,
    "start_time": "2022-10-28T16:46:47.894Z"
   },
   {
    "duration": 133,
    "start_time": "2022-10-28T16:46:47.902Z"
   },
   {
    "duration": 52,
    "start_time": "2022-10-28T16:46:48.037Z"
   },
   {
    "duration": 1114,
    "start_time": "2022-10-28T16:46:48.091Z"
   },
   {
    "duration": 5,
    "start_time": "2022-10-28T16:46:49.207Z"
   },
   {
    "duration": 10,
    "start_time": "2022-10-28T16:46:49.214Z"
   },
   {
    "duration": 35,
    "start_time": "2022-10-28T16:46:49.225Z"
   },
   {
    "duration": 28,
    "start_time": "2022-10-28T16:46:49.263Z"
   },
   {
    "duration": 4,
    "start_time": "2022-10-28T16:46:49.292Z"
   },
   {
    "duration": 30,
    "start_time": "2022-10-28T16:46:49.298Z"
   },
   {
    "duration": 26,
    "start_time": "2022-10-28T16:46:49.330Z"
   },
   {
    "duration": 225,
    "start_time": "2022-10-28T16:46:49.358Z"
   },
   {
    "duration": 12,
    "start_time": "2022-10-28T16:46:49.584Z"
   },
   {
    "duration": 4,
    "start_time": "2022-10-28T16:46:49.598Z"
   },
   {
    "duration": 28,
    "start_time": "2022-10-28T16:46:49.603Z"
   },
   {
    "duration": 597,
    "start_time": "2022-10-28T16:46:49.634Z"
   },
   {
    "duration": 111,
    "start_time": "2022-10-28T16:46:50.235Z"
   },
   {
    "duration": 6,
    "start_time": "2022-10-28T16:46:50.348Z"
   },
   {
    "duration": 129,
    "start_time": "2022-10-28T16:46:50.356Z"
   },
   {
    "duration": 6,
    "start_time": "2022-10-28T16:46:50.487Z"
   },
   {
    "duration": 39,
    "start_time": "2022-10-28T16:46:50.494Z"
   },
   {
    "duration": 7,
    "start_time": "2022-10-28T16:46:50.535Z"
   },
   {
    "duration": 10,
    "start_time": "2022-10-28T16:46:50.543Z"
   },
   {
    "duration": 12,
    "start_time": "2022-10-28T16:46:50.554Z"
   },
   {
    "duration": 9,
    "start_time": "2022-10-28T16:46:50.567Z"
   },
   {
    "duration": 5,
    "start_time": "2022-10-28T16:46:50.579Z"
   },
   {
    "duration": 48,
    "start_time": "2022-10-28T16:46:50.585Z"
   },
   {
    "duration": 4,
    "start_time": "2022-10-28T16:46:50.635Z"
   },
   {
    "duration": 89,
    "start_time": "2022-10-28T16:46:50.641Z"
   },
   {
    "duration": 267,
    "start_time": "2022-10-28T16:46:50.732Z"
   },
   {
    "duration": 10784,
    "start_time": "2022-10-28T16:46:51.001Z"
   },
   {
    "duration": 72,
    "start_time": "2022-10-28T16:47:01.787Z"
   },
   {
    "duration": 317,
    "start_time": "2022-10-28T16:47:01.861Z"
   },
   {
    "duration": 7254,
    "start_time": "2022-10-28T16:47:02.180Z"
   },
   {
    "duration": 115,
    "start_time": "2022-10-28T16:47:09.435Z"
   },
   {
    "duration": 0,
    "start_time": "2022-10-28T16:47:09.551Z"
   },
   {
    "duration": 0,
    "start_time": "2022-10-28T16:47:09.552Z"
   },
   {
    "duration": 0,
    "start_time": "2022-10-28T16:47:09.553Z"
   },
   {
    "duration": 0,
    "start_time": "2022-10-28T16:47:09.554Z"
   },
   {
    "duration": 0,
    "start_time": "2022-10-28T16:47:09.555Z"
   },
   {
    "duration": 0,
    "start_time": "2022-10-28T16:47:09.556Z"
   },
   {
    "duration": 0,
    "start_time": "2022-10-28T16:47:09.557Z"
   },
   {
    "duration": 0,
    "start_time": "2022-10-28T16:47:09.558Z"
   },
   {
    "duration": 0,
    "start_time": "2022-10-28T16:47:09.559Z"
   },
   {
    "duration": 0,
    "start_time": "2022-10-28T16:47:09.560Z"
   },
   {
    "duration": 0,
    "start_time": "2022-10-28T16:47:09.561Z"
   },
   {
    "duration": 0,
    "start_time": "2022-10-28T16:47:09.562Z"
   },
   {
    "duration": 0,
    "start_time": "2022-10-28T16:47:09.563Z"
   },
   {
    "duration": 0,
    "start_time": "2022-10-28T16:47:09.564Z"
   },
   {
    "duration": 0,
    "start_time": "2022-10-28T16:47:09.565Z"
   },
   {
    "duration": 0,
    "start_time": "2022-10-28T16:47:09.566Z"
   },
   {
    "duration": 0,
    "start_time": "2022-10-28T16:47:09.567Z"
   },
   {
    "duration": 0,
    "start_time": "2022-10-28T16:47:09.568Z"
   },
   {
    "duration": 0,
    "start_time": "2022-10-28T16:47:09.568Z"
   },
   {
    "duration": 0,
    "start_time": "2022-10-28T16:47:09.569Z"
   },
   {
    "duration": 0,
    "start_time": "2022-10-28T16:47:09.571Z"
   },
   {
    "duration": 0,
    "start_time": "2022-10-28T16:47:09.572Z"
   },
   {
    "duration": 0,
    "start_time": "2022-10-28T16:47:09.573Z"
   },
   {
    "duration": 5,
    "start_time": "2022-10-28T16:51:12.000Z"
   },
   {
    "duration": 14,
    "start_time": "2022-10-28T16:51:15.322Z"
   },
   {
    "duration": 5,
    "start_time": "2022-10-28T16:51:23.194Z"
   },
   {
    "duration": 4,
    "start_time": "2022-10-28T16:51:24.744Z"
   },
   {
    "duration": 7,
    "start_time": "2022-10-28T16:51:26.459Z"
   },
   {
    "duration": 4,
    "start_time": "2022-10-28T16:51:28.243Z"
   },
   {
    "duration": 7170,
    "start_time": "2022-10-28T16:51:29.271Z"
   },
   {
    "duration": 6,
    "start_time": "2022-10-28T16:51:41.485Z"
   },
   {
    "duration": 4,
    "start_time": "2022-10-28T16:51:42.260Z"
   },
   {
    "duration": 189,
    "start_time": "2022-10-28T16:51:44.578Z"
   },
   {
    "duration": 190,
    "start_time": "2022-10-28T16:52:03.115Z"
   },
   {
    "duration": 37,
    "start_time": "2022-10-28T16:52:08.892Z"
   },
   {
    "duration": 1340,
    "start_time": "2022-10-28T16:52:15.478Z"
   },
   {
    "duration": 8,
    "start_time": "2022-10-28T16:52:16.820Z"
   },
   {
    "duration": 67,
    "start_time": "2022-10-28T16:52:16.830Z"
   },
   {
    "duration": 54,
    "start_time": "2022-10-28T16:52:16.899Z"
   },
   {
    "duration": 1909,
    "start_time": "2022-10-28T16:52:16.954Z"
   },
   {
    "duration": 7,
    "start_time": "2022-10-28T16:52:18.865Z"
   },
   {
    "duration": 10,
    "start_time": "2022-10-28T16:52:18.930Z"
   },
   {
    "duration": 27,
    "start_time": "2022-10-28T16:52:18.942Z"
   },
   {
    "duration": 66,
    "start_time": "2022-10-28T16:52:18.971Z"
   },
   {
    "duration": 5,
    "start_time": "2022-10-28T16:52:19.039Z"
   },
   {
    "duration": 82,
    "start_time": "2022-10-28T16:52:19.046Z"
   },
   {
    "duration": 7,
    "start_time": "2022-10-28T16:52:19.130Z"
   },
   {
    "duration": 305,
    "start_time": "2022-10-28T16:52:19.139Z"
   },
   {
    "duration": 13,
    "start_time": "2022-10-28T16:52:19.446Z"
   },
   {
    "duration": 4,
    "start_time": "2022-10-28T16:52:19.461Z"
   },
   {
    "duration": 6,
    "start_time": "2022-10-28T16:52:19.466Z"
   },
   {
    "duration": 608,
    "start_time": "2022-10-28T16:52:19.474Z"
   },
   {
    "duration": 125,
    "start_time": "2022-10-28T16:52:20.083Z"
   },
   {
    "duration": 25,
    "start_time": "2022-10-28T16:52:20.210Z"
   },
   {
    "duration": 131,
    "start_time": "2022-10-28T16:52:20.237Z"
   },
   {
    "duration": 7,
    "start_time": "2022-10-28T16:52:20.369Z"
   },
   {
    "duration": 43,
    "start_time": "2022-10-28T16:52:20.377Z"
   },
   {
    "duration": 10,
    "start_time": "2022-10-28T16:52:20.431Z"
   },
   {
    "duration": 15,
    "start_time": "2022-10-28T16:52:20.443Z"
   },
   {
    "duration": 12,
    "start_time": "2022-10-28T16:52:20.460Z"
   },
   {
    "duration": 9,
    "start_time": "2022-10-28T16:52:20.474Z"
   },
   {
    "duration": 6,
    "start_time": "2022-10-28T16:52:20.485Z"
   },
   {
    "duration": 42,
    "start_time": "2022-10-28T16:52:20.495Z"
   },
   {
    "duration": 4,
    "start_time": "2022-10-28T16:52:20.539Z"
   },
   {
    "duration": 87,
    "start_time": "2022-10-28T16:52:20.545Z"
   },
   {
    "duration": 266,
    "start_time": "2022-10-28T16:52:20.633Z"
   },
   {
    "duration": 7326,
    "start_time": "2022-10-28T16:52:20.900Z"
   },
   {
    "duration": 29,
    "start_time": "2022-10-28T16:52:28.227Z"
   },
   {
    "duration": 282,
    "start_time": "2022-10-28T16:52:28.325Z"
   },
   {
    "duration": 7072,
    "start_time": "2022-10-28T16:52:28.609Z"
   },
   {
    "duration": 5,
    "start_time": "2022-10-28T16:52:35.683Z"
   },
   {
    "duration": 16,
    "start_time": "2022-10-28T16:52:35.690Z"
   },
   {
    "duration": 32,
    "start_time": "2022-10-28T16:52:35.707Z"
   },
   {
    "duration": 22,
    "start_time": "2022-10-28T16:52:35.742Z"
   },
   {
    "duration": 14,
    "start_time": "2022-10-28T16:52:35.766Z"
   },
   {
    "duration": 65,
    "start_time": "2022-10-28T16:52:35.782Z"
   },
   {
    "duration": 385,
    "start_time": "2022-10-28T16:52:35.849Z"
   },
   {
    "duration": 29354,
    "start_time": "2022-10-28T16:52:36.238Z"
   },
   {
    "duration": 4,
    "start_time": "2022-10-28T16:53:05.594Z"
   },
   {
    "duration": 47,
    "start_time": "2022-10-28T16:53:05.600Z"
   },
   {
    "duration": 22,
    "start_time": "2022-10-28T16:53:05.648Z"
   },
   {
    "duration": 59,
    "start_time": "2022-10-28T16:53:05.672Z"
   },
   {
    "duration": 253,
    "start_time": "2022-10-28T16:53:05.733Z"
   },
   {
    "duration": 37344,
    "start_time": "2022-10-28T16:53:05.988Z"
   },
   {
    "duration": 21,
    "start_time": "2022-10-28T16:53:43.336Z"
   },
   {
    "duration": 12,
    "start_time": "2022-10-28T16:53:43.359Z"
   },
   {
    "duration": 386,
    "start_time": "2022-10-28T16:53:43.372Z"
   },
   {
    "duration": 90,
    "start_time": "2022-10-28T16:53:43.759Z"
   },
   {
    "duration": 41,
    "start_time": "2022-10-28T16:53:43.921Z"
   },
   {
    "duration": 48,
    "start_time": "2022-10-28T16:53:43.963Z"
   },
   {
    "duration": 225,
    "start_time": "2022-10-28T16:53:44.012Z"
   },
   {
    "duration": 102,
    "start_time": "2022-10-28T16:53:44.238Z"
   },
   {
    "duration": 126,
    "start_time": "2022-10-28T16:53:44.343Z"
   },
   {
    "duration": 32,
    "start_time": "2022-10-28T16:53:44.471Z"
   },
   {
    "duration": 306,
    "start_time": "2022-10-28T16:54:19.558Z"
   },
   {
    "duration": 402,
    "start_time": "2022-10-28T16:54:26.479Z"
   },
   {
    "duration": 335,
    "start_time": "2022-10-28T16:54:36.784Z"
   },
   {
    "duration": 346,
    "start_time": "2022-10-28T16:54:49.713Z"
   },
   {
    "duration": 387,
    "start_time": "2022-10-28T16:54:57.487Z"
   },
   {
    "duration": 366,
    "start_time": "2022-10-28T16:56:08.835Z"
   },
   {
    "duration": 365,
    "start_time": "2022-10-28T16:56:15.477Z"
   },
   {
    "duration": 171,
    "start_time": "2022-10-28T16:57:51.252Z"
   },
   {
    "duration": 298,
    "start_time": "2022-10-28T16:58:09.647Z"
   },
   {
    "duration": 201,
    "start_time": "2022-10-28T16:58:43.470Z"
   },
   {
    "duration": 196,
    "start_time": "2022-10-28T16:59:20.992Z"
   },
   {
    "duration": 34,
    "start_time": "2022-10-28T17:01:32.740Z"
   },
   {
    "duration": 32,
    "start_time": "2022-10-28T17:01:37.269Z"
   },
   {
    "duration": 33,
    "start_time": "2022-10-28T17:02:00.876Z"
   },
   {
    "duration": 34,
    "start_time": "2022-10-28T17:02:24.572Z"
   },
   {
    "duration": 12,
    "start_time": "2022-10-28T17:02:55.904Z"
   },
   {
    "duration": 45,
    "start_time": "2022-10-28T17:03:19.602Z"
   },
   {
    "duration": 16,
    "start_time": "2022-10-28T17:03:25.317Z"
   },
   {
    "duration": 41,
    "start_time": "2022-10-28T17:03:28.962Z"
   },
   {
    "duration": 16,
    "start_time": "2022-10-28T17:04:47.174Z"
   },
   {
    "duration": 47,
    "start_time": "2022-10-28T17:04:48.940Z"
   },
   {
    "duration": 1855,
    "start_time": "2022-10-28T17:04:59.658Z"
   },
   {
    "duration": 4,
    "start_time": "2022-10-28T17:05:01.515Z"
   },
   {
    "duration": 120,
    "start_time": "2022-10-28T17:05:01.520Z"
   },
   {
    "duration": 55,
    "start_time": "2022-10-28T17:05:01.642Z"
   },
   {
    "duration": 1141,
    "start_time": "2022-10-28T17:05:01.698Z"
   },
   {
    "duration": 5,
    "start_time": "2022-10-28T17:05:02.842Z"
   },
   {
    "duration": 34,
    "start_time": "2022-10-28T17:05:02.850Z"
   },
   {
    "duration": 45,
    "start_time": "2022-10-28T17:05:02.886Z"
   },
   {
    "duration": 60,
    "start_time": "2022-10-28T17:05:02.932Z"
   },
   {
    "duration": 51,
    "start_time": "2022-10-28T17:05:02.996Z"
   },
   {
    "duration": 42,
    "start_time": "2022-10-28T17:05:03.050Z"
   },
   {
    "duration": 69,
    "start_time": "2022-10-28T17:05:03.093Z"
   },
   {
    "duration": 327,
    "start_time": "2022-10-28T17:05:03.164Z"
   },
   {
    "duration": 13,
    "start_time": "2022-10-28T17:05:03.494Z"
   },
   {
    "duration": 47,
    "start_time": "2022-10-28T17:05:03.508Z"
   },
   {
    "duration": 48,
    "start_time": "2022-10-28T17:05:03.557Z"
   },
   {
    "duration": 762,
    "start_time": "2022-10-28T17:05:03.607Z"
   },
   {
    "duration": 140,
    "start_time": "2022-10-28T17:05:04.371Z"
   },
   {
    "duration": 22,
    "start_time": "2022-10-28T17:05:04.512Z"
   },
   {
    "duration": 216,
    "start_time": "2022-10-28T17:05:04.541Z"
   },
   {
    "duration": 7,
    "start_time": "2022-10-28T17:05:04.759Z"
   },
   {
    "duration": 48,
    "start_time": "2022-10-28T17:05:04.769Z"
   },
   {
    "duration": 29,
    "start_time": "2022-10-28T17:05:04.819Z"
   },
   {
    "duration": 36,
    "start_time": "2022-10-28T17:05:04.850Z"
   },
   {
    "duration": 37,
    "start_time": "2022-10-28T17:05:04.888Z"
   },
   {
    "duration": 59,
    "start_time": "2022-10-28T17:05:04.926Z"
   },
   {
    "duration": 37,
    "start_time": "2022-10-28T17:05:04.987Z"
   },
   {
    "duration": 77,
    "start_time": "2022-10-28T17:05:05.028Z"
   },
   {
    "duration": 5,
    "start_time": "2022-10-28T17:05:05.107Z"
   },
   {
    "duration": 118,
    "start_time": "2022-10-28T17:05:05.114Z"
   },
   {
    "duration": 280,
    "start_time": "2022-10-28T17:05:05.236Z"
   },
   {
    "duration": 8179,
    "start_time": "2022-10-28T17:05:05.520Z"
   },
   {
    "duration": 123,
    "start_time": "2022-10-28T17:05:13.701Z"
   },
   {
    "duration": 306,
    "start_time": "2022-10-28T17:05:13.827Z"
   },
   {
    "duration": 7823,
    "start_time": "2022-10-28T17:05:14.142Z"
   },
   {
    "duration": 7,
    "start_time": "2022-10-28T17:05:21.967Z"
   },
   {
    "duration": 7,
    "start_time": "2022-10-28T17:05:21.976Z"
   },
   {
    "duration": 9,
    "start_time": "2022-10-28T17:05:21.985Z"
   },
   {
    "duration": 29,
    "start_time": "2022-10-28T17:05:21.996Z"
   },
   {
    "duration": 7,
    "start_time": "2022-10-28T17:05:22.032Z"
   },
   {
    "duration": 86,
    "start_time": "2022-10-28T17:05:22.041Z"
   },
   {
    "duration": 313,
    "start_time": "2022-10-28T17:05:22.129Z"
   },
   {
    "duration": 33033,
    "start_time": "2022-10-28T17:05:22.444Z"
   },
   {
    "duration": 6,
    "start_time": "2022-10-28T17:05:55.479Z"
   },
   {
    "duration": 21,
    "start_time": "2022-10-28T17:05:55.487Z"
   },
   {
    "duration": 15,
    "start_time": "2022-10-28T17:05:55.511Z"
   },
   {
    "duration": 38,
    "start_time": "2022-10-28T17:05:55.528Z"
   },
   {
    "duration": 234,
    "start_time": "2022-10-28T17:05:55.620Z"
   },
   {
    "duration": 32249,
    "start_time": "2022-10-28T17:05:55.856Z"
   },
   {
    "duration": 33,
    "start_time": "2022-10-28T17:06:28.107Z"
   },
   {
    "duration": 21,
    "start_time": "2022-10-28T17:06:28.142Z"
   },
   {
    "duration": 395,
    "start_time": "2022-10-28T17:06:28.165Z"
   },
   {
    "duration": 19,
    "start_time": "2022-10-28T17:06:28.563Z"
   },
   {
    "duration": 129,
    "start_time": "2022-10-28T17:06:28.622Z"
   },
   {
    "duration": 42,
    "start_time": "2022-10-28T17:06:28.753Z"
   },
   {
    "duration": 249,
    "start_time": "2022-10-28T17:06:28.796Z"
   },
   {
    "duration": 176,
    "start_time": "2022-10-28T17:06:29.050Z"
   },
   {
    "duration": 187,
    "start_time": "2022-10-28T17:06:29.228Z"
   },
   {
    "duration": 0,
    "start_time": "2022-10-28T17:06:29.417Z"
   },
   {
    "duration": 18,
    "start_time": "2022-10-28T17:06:58.644Z"
   },
   {
    "duration": 37,
    "start_time": "2022-10-28T17:07:02.341Z"
   },
   {
    "duration": 64,
    "start_time": "2022-10-28T19:46:31.101Z"
   },
   {
    "duration": 53,
    "start_time": "2022-12-25T09:13:01.878Z"
   },
   {
    "duration": 1351,
    "start_time": "2022-12-25T09:13:17.496Z"
   },
   {
    "duration": 3,
    "start_time": "2022-12-25T09:13:18.850Z"
   },
   {
    "duration": 129,
    "start_time": "2022-12-25T09:13:18.854Z"
   },
   {
    "duration": 54,
    "start_time": "2022-12-25T09:13:18.985Z"
   },
   {
    "duration": 1028,
    "start_time": "2022-12-25T09:13:19.041Z"
   },
   {
    "duration": 4,
    "start_time": "2022-12-25T09:13:20.071Z"
   },
   {
    "duration": 14,
    "start_time": "2022-12-25T09:13:20.076Z"
   },
   {
    "duration": 11,
    "start_time": "2022-12-25T09:13:20.091Z"
   },
   {
    "duration": 20,
    "start_time": "2022-12-25T09:13:20.104Z"
   },
   {
    "duration": 4,
    "start_time": "2022-12-25T09:13:20.126Z"
   },
   {
    "duration": 18,
    "start_time": "2022-12-25T09:13:20.131Z"
   },
   {
    "duration": 3,
    "start_time": "2022-12-25T09:13:20.151Z"
   },
   {
    "duration": 262,
    "start_time": "2022-12-25T09:13:20.155Z"
   },
   {
    "duration": 11,
    "start_time": "2022-12-25T09:13:20.419Z"
   },
   {
    "duration": 6,
    "start_time": "2022-12-25T09:13:20.431Z"
   },
   {
    "duration": 9,
    "start_time": "2022-12-25T09:13:20.439Z"
   },
   {
    "duration": 621,
    "start_time": "2022-12-25T09:13:20.449Z"
   },
   {
    "duration": 126,
    "start_time": "2022-12-25T09:13:21.072Z"
   },
   {
    "duration": 5,
    "start_time": "2022-12-25T09:13:21.200Z"
   },
   {
    "duration": 150,
    "start_time": "2022-12-25T09:13:21.206Z"
   },
   {
    "duration": 6,
    "start_time": "2022-12-25T09:13:21.358Z"
   },
   {
    "duration": 40,
    "start_time": "2022-12-25T09:13:21.365Z"
   },
   {
    "duration": 8,
    "start_time": "2022-12-25T09:13:21.407Z"
   },
   {
    "duration": 6,
    "start_time": "2022-12-25T09:13:21.416Z"
   },
   {
    "duration": 10,
    "start_time": "2022-12-25T09:13:21.424Z"
   },
   {
    "duration": 10,
    "start_time": "2022-12-25T09:13:21.436Z"
   },
   {
    "duration": 5,
    "start_time": "2022-12-25T09:13:21.447Z"
   },
   {
    "duration": 28,
    "start_time": "2022-12-25T09:13:21.499Z"
   },
   {
    "duration": 4,
    "start_time": "2022-12-25T09:13:21.529Z"
   },
   {
    "duration": 165,
    "start_time": "2022-12-25T09:13:21.534Z"
   },
   {
    "duration": 197,
    "start_time": "2022-12-25T09:13:21.701Z"
   },
   {
    "duration": 2041,
    "start_time": "2022-12-25T09:13:21.900Z"
   },
   {
    "duration": 0,
    "start_time": "2022-12-25T09:13:23.943Z"
   },
   {
    "duration": 0,
    "start_time": "2022-12-25T09:13:23.945Z"
   },
   {
    "duration": 0,
    "start_time": "2022-12-25T09:13:23.946Z"
   },
   {
    "duration": 0,
    "start_time": "2022-12-25T09:13:23.947Z"
   },
   {
    "duration": 0,
    "start_time": "2022-12-25T09:13:23.948Z"
   },
   {
    "duration": 0,
    "start_time": "2022-12-25T09:13:23.949Z"
   },
   {
    "duration": 0,
    "start_time": "2022-12-25T09:13:23.950Z"
   },
   {
    "duration": 0,
    "start_time": "2022-12-25T09:13:23.951Z"
   },
   {
    "duration": 0,
    "start_time": "2022-12-25T09:13:23.952Z"
   },
   {
    "duration": 0,
    "start_time": "2022-12-25T09:13:23.954Z"
   },
   {
    "duration": 0,
    "start_time": "2022-12-25T09:13:23.954Z"
   },
   {
    "duration": 0,
    "start_time": "2022-12-25T09:13:23.956Z"
   },
   {
    "duration": 0,
    "start_time": "2022-12-25T09:13:23.957Z"
   },
   {
    "duration": 0,
    "start_time": "2022-12-25T09:13:23.958Z"
   },
   {
    "duration": 0,
    "start_time": "2022-12-25T09:13:23.959Z"
   },
   {
    "duration": 0,
    "start_time": "2022-12-25T09:13:23.960Z"
   },
   {
    "duration": 0,
    "start_time": "2022-12-25T09:13:23.996Z"
   },
   {
    "duration": 0,
    "start_time": "2022-12-25T09:13:23.997Z"
   },
   {
    "duration": 0,
    "start_time": "2022-12-25T09:13:23.998Z"
   },
   {
    "duration": 0,
    "start_time": "2022-12-25T09:13:24.000Z"
   },
   {
    "duration": 1,
    "start_time": "2022-12-25T09:13:24.000Z"
   },
   {
    "duration": 0,
    "start_time": "2022-12-25T09:13:24.002Z"
   },
   {
    "duration": 0,
    "start_time": "2022-12-25T09:13:24.003Z"
   },
   {
    "duration": 0,
    "start_time": "2022-12-25T09:13:24.004Z"
   },
   {
    "duration": 0,
    "start_time": "2022-12-25T09:13:24.005Z"
   },
   {
    "duration": 0,
    "start_time": "2022-12-25T09:13:24.006Z"
   },
   {
    "duration": 0,
    "start_time": "2022-12-25T09:13:24.007Z"
   },
   {
    "duration": 1484,
    "start_time": "2022-12-25T09:13:35.009Z"
   },
   {
    "duration": 3,
    "start_time": "2022-12-25T09:13:36.495Z"
   },
   {
    "duration": 58,
    "start_time": "2022-12-25T09:13:36.499Z"
   },
   {
    "duration": 50,
    "start_time": "2022-12-25T09:13:36.559Z"
   },
   {
    "duration": 997,
    "start_time": "2022-12-25T09:13:36.611Z"
   },
   {
    "duration": 4,
    "start_time": "2022-12-25T09:13:37.610Z"
   },
   {
    "duration": 5,
    "start_time": "2022-12-25T09:13:37.616Z"
   },
   {
    "duration": 9,
    "start_time": "2022-12-25T09:13:37.623Z"
   },
   {
    "duration": 22,
    "start_time": "2022-12-25T09:13:37.633Z"
   },
   {
    "duration": 3,
    "start_time": "2022-12-25T09:13:37.657Z"
   },
   {
    "duration": 46,
    "start_time": "2022-12-25T09:13:37.661Z"
   },
   {
    "duration": 5,
    "start_time": "2022-12-25T09:13:37.708Z"
   },
   {
    "duration": 247,
    "start_time": "2022-12-25T09:13:37.714Z"
   },
   {
    "duration": 12,
    "start_time": "2022-12-25T09:13:37.962Z"
   },
   {
    "duration": 4,
    "start_time": "2022-12-25T09:13:37.976Z"
   },
   {
    "duration": 4,
    "start_time": "2022-12-25T09:13:37.996Z"
   },
   {
    "duration": 612,
    "start_time": "2022-12-25T09:13:38.001Z"
   },
   {
    "duration": 126,
    "start_time": "2022-12-25T09:13:38.615Z"
   },
   {
    "duration": 5,
    "start_time": "2022-12-25T09:13:38.743Z"
   },
   {
    "duration": 149,
    "start_time": "2022-12-25T09:13:38.750Z"
   },
   {
    "duration": 6,
    "start_time": "2022-12-25T09:13:38.900Z"
   },
   {
    "duration": 20,
    "start_time": "2022-12-25T09:13:38.908Z"
   },
   {
    "duration": 7,
    "start_time": "2022-12-25T09:13:38.930Z"
   },
   {
    "duration": 6,
    "start_time": "2022-12-25T09:13:38.938Z"
   },
   {
    "duration": 10,
    "start_time": "2022-12-25T09:13:38.945Z"
   },
   {
    "duration": 46,
    "start_time": "2022-12-25T09:13:38.956Z"
   },
   {
    "duration": 5,
    "start_time": "2022-12-25T09:13:39.003Z"
   },
   {
    "duration": 28,
    "start_time": "2022-12-25T09:13:39.012Z"
   },
   {
    "duration": 4,
    "start_time": "2022-12-25T09:13:39.042Z"
   },
   {
    "duration": 152,
    "start_time": "2022-12-25T09:13:39.047Z"
   },
   {
    "duration": 189,
    "start_time": "2022-12-25T09:13:39.201Z"
   },
   {
    "duration": 7432,
    "start_time": "2022-12-25T09:13:39.396Z"
   },
   {
    "duration": 67,
    "start_time": "2022-12-25T09:13:46.830Z"
   },
   {
    "duration": 300,
    "start_time": "2022-12-25T09:13:46.899Z"
   },
   {
    "duration": 7127,
    "start_time": "2022-12-25T09:13:47.201Z"
   },
   {
    "duration": 6,
    "start_time": "2022-12-25T09:13:54.330Z"
   },
   {
    "duration": 13,
    "start_time": "2022-12-25T09:13:54.337Z"
   },
   {
    "duration": 32,
    "start_time": "2022-12-25T09:13:54.352Z"
   },
   {
    "duration": 24,
    "start_time": "2022-12-25T09:13:54.385Z"
   },
   {
    "duration": 4,
    "start_time": "2022-12-25T09:13:54.410Z"
   },
   {
    "duration": 82,
    "start_time": "2022-12-25T09:13:54.416Z"
   },
   {
    "duration": 306,
    "start_time": "2022-12-25T09:13:54.500Z"
   },
   {
    "duration": 38530,
    "start_time": "2022-12-25T09:13:54.808Z"
   },
   {
    "duration": 57,
    "start_time": "2022-12-25T09:14:33.340Z"
   },
   {
    "duration": 11,
    "start_time": "2022-12-25T09:14:33.399Z"
   },
   {
    "duration": 4,
    "start_time": "2022-12-25T09:14:33.412Z"
   },
   {
    "duration": 85,
    "start_time": "2022-12-25T09:14:33.417Z"
   },
   {
    "duration": 303,
    "start_time": "2022-12-25T09:14:33.504Z"
   },
   {
    "duration": 40694,
    "start_time": "2022-12-25T09:14:33.809Z"
   },
   {
    "duration": 21,
    "start_time": "2022-12-25T09:15:14.505Z"
   },
   {
    "duration": 8,
    "start_time": "2022-12-25T09:15:14.527Z"
   },
   {
    "duration": 334,
    "start_time": "2022-12-25T09:15:14.536Z"
   },
   {
    "duration": 29,
    "start_time": "2022-12-25T09:15:14.872Z"
   },
   {
    "duration": 96,
    "start_time": "2022-12-25T09:15:14.903Z"
   },
   {
    "duration": 105,
    "start_time": "2022-12-25T09:15:15.001Z"
   },
   {
    "duration": 215,
    "start_time": "2022-12-25T09:15:15.108Z"
   },
   {
    "duration": 78,
    "start_time": "2022-12-25T09:15:15.324Z"
   },
   {
    "duration": 99,
    "start_time": "2022-12-25T09:15:15.404Z"
   },
   {
    "duration": 28,
    "start_time": "2022-12-25T09:15:15.505Z"
   },
   {
    "duration": 1406,
    "start_time": "2022-12-25T19:05:03.493Z"
   },
   {
    "duration": 3,
    "start_time": "2022-12-25T19:05:05.951Z"
   },
   {
    "duration": 154,
    "start_time": "2022-12-25T19:05:06.122Z"
   },
   {
    "duration": 50,
    "start_time": "2022-12-25T19:05:06.290Z"
   },
   {
    "duration": 3,
    "start_time": "2022-12-25T19:05:10.539Z"
   },
   {
    "duration": 3,
    "start_time": "2022-12-25T19:05:10.751Z"
   },
   {
    "duration": 9,
    "start_time": "2022-12-25T19:05:11.508Z"
   },
   {
    "duration": 21,
    "start_time": "2022-12-25T19:05:12.434Z"
   },
   {
    "duration": 4,
    "start_time": "2022-12-25T19:05:12.676Z"
   },
   {
    "duration": 17,
    "start_time": "2022-12-25T19:05:14.258Z"
   },
   {
    "duration": 3,
    "start_time": "2022-12-25T19:05:14.849Z"
   },
   {
    "duration": 224,
    "start_time": "2022-12-25T19:05:15.268Z"
   },
   {
    "duration": 11,
    "start_time": "2022-12-25T19:05:16.643Z"
   },
   {
    "duration": 5,
    "start_time": "2022-12-25T19:05:17.605Z"
   },
   {
    "duration": 4,
    "start_time": "2022-12-25T19:05:18.746Z"
   },
   {
    "duration": 587,
    "start_time": "2022-12-25T19:05:21.108Z"
   },
   {
    "duration": 121,
    "start_time": "2022-12-25T19:05:21.697Z"
   },
   {
    "duration": 5,
    "start_time": "2022-12-25T19:05:21.822Z"
   },
   {
    "duration": 121,
    "start_time": "2022-12-25T19:05:21.894Z"
   },
   {
    "duration": 6,
    "start_time": "2022-12-25T19:05:24.445Z"
   },
   {
    "duration": 18,
    "start_time": "2022-12-25T19:05:26.180Z"
   },
   {
    "duration": 9,
    "start_time": "2022-12-25T19:05:28.182Z"
   },
   {
    "duration": 5,
    "start_time": "2022-12-25T19:05:29.081Z"
   },
   {
    "duration": 10,
    "start_time": "2022-12-25T19:05:30.422Z"
   },
   {
    "duration": 9,
    "start_time": "2022-12-25T19:05:31.182Z"
   },
   {
    "duration": 4,
    "start_time": "2022-12-25T19:05:32.707Z"
   },
   {
    "duration": 27,
    "start_time": "2022-12-25T19:05:33.772Z"
   },
   {
    "duration": 17,
    "start_time": "2022-12-25T19:05:34.665Z"
   },
   {
    "duration": 1647,
    "start_time": "2023-03-24T10:14:29.171Z"
   },
   {
    "duration": 3,
    "start_time": "2023-03-24T10:14:30.820Z"
   },
   {
    "duration": 190,
    "start_time": "2023-03-24T10:14:30.982Z"
   },
   {
    "duration": 61,
    "start_time": "2023-03-24T10:14:32.053Z"
   },
   {
    "duration": 1045,
    "start_time": "2023-03-24T10:14:35.005Z"
   },
   {
    "duration": 4,
    "start_time": "2023-03-24T10:15:08.838Z"
   },
   {
    "duration": 7,
    "start_time": "2023-03-24T10:15:34.804Z"
   },
   {
    "duration": 7,
    "start_time": "2023-03-24T10:18:34.902Z"
   },
   {
    "duration": 6,
    "start_time": "2023-03-24T10:18:52.264Z"
   },
   {
    "duration": 8,
    "start_time": "2023-03-24T10:19:02.022Z"
   },
   {
    "duration": 6,
    "start_time": "2023-03-24T10:19:06.758Z"
   },
   {
    "duration": 6,
    "start_time": "2023-03-24T10:19:11.608Z"
   },
   {
    "duration": 7,
    "start_time": "2023-03-24T10:20:41.160Z"
   },
   {
    "duration": 305,
    "start_time": "2023-03-24T10:20:55.012Z"
   },
   {
    "duration": 224,
    "start_time": "2023-03-24T10:20:59.349Z"
   },
   {
    "duration": 7,
    "start_time": "2023-03-24T10:21:01.535Z"
   },
   {
    "duration": 6,
    "start_time": "2023-03-24T10:21:10.915Z"
   },
   {
    "duration": 5,
    "start_time": "2023-03-24T10:21:24.095Z"
   },
   {
    "duration": 226,
    "start_time": "2023-03-24T10:21:33.090Z"
   },
   {
    "duration": 6,
    "start_time": "2023-03-24T10:21:37.140Z"
   },
   {
    "duration": 6,
    "start_time": "2023-03-24T10:22:06.643Z"
   },
   {
    "duration": 6,
    "start_time": "2023-03-24T10:22:15.383Z"
   },
   {
    "duration": 6,
    "start_time": "2023-03-24T10:22:32.868Z"
   },
   {
    "duration": 9,
    "start_time": "2023-03-24T10:22:37.139Z"
   },
   {
    "duration": 5,
    "start_time": "2023-03-24T10:23:25.945Z"
   },
   {
    "duration": 4,
    "start_time": "2023-03-24T10:23:27.971Z"
   },
   {
    "duration": 3,
    "start_time": "2023-03-24T10:26:22.914Z"
   },
   {
    "duration": 3,
    "start_time": "2023-03-24T10:26:24.522Z"
   },
   {
    "duration": 3,
    "start_time": "2023-03-24T10:26:32.549Z"
   },
   {
    "duration": 48,
    "start_time": "2023-03-24T10:26:33.966Z"
   },
   {
    "duration": 46,
    "start_time": "2023-03-24T10:26:34.971Z"
   }
  ],
  "kernelspec": {
   "display_name": "Python 3 (ipykernel)",
   "language": "python",
   "name": "python3"
  },
  "language_info": {
   "codemirror_mode": {
    "name": "ipython",
    "version": 3
   },
   "file_extension": ".py",
   "mimetype": "text/x-python",
   "name": "python",
   "nbconvert_exporter": "python",
   "pygments_lexer": "ipython3",
   "version": "3.9.5"
  },
  "toc": {
   "base_numbering": 1,
   "nav_menu": {},
   "number_sections": true,
   "sideBar": true,
   "skip_h1_title": true,
   "title_cell": "Содержание",
   "title_sidebar": "Contents",
   "toc_cell": true,
   "toc_position": {
    "height": "calc(100% - 180px)",
    "left": "10px",
    "top": "150px",
    "width": "313px"
   },
   "toc_section_display": true,
   "toc_window_display": true
  }
 },
 "nbformat": 4,
 "nbformat_minor": 2
}
