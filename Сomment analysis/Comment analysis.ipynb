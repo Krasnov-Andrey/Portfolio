{
 "cells": [
  {
   "cell_type": "markdown",
   "metadata": {},
   "source": [
    "# Проект для «Викишоп»"
   ]
  },
  {
   "cell_type": "markdown",
   "metadata": {
    "toc": true
   },
   "source": [
    "<h1>Содержание<span class=\"tocSkip\"></span></h1>\n",
    "<div class=\"toc\"><ul class=\"toc-item\"><li><span><a href=\"#Подготовка\" data-toc-modified-id=\"Подготовка-1\"><span class=\"toc-item-num\">1&nbsp;&nbsp;</span>Подготовка</a></span><ul class=\"toc-item\"><li><span><a href=\"#Очистка-данных\" data-toc-modified-id=\"Очистка-данных-1.1\"><span class=\"toc-item-num\">1.1&nbsp;&nbsp;</span>Очистка данных</a></span></li></ul></li><li><span><a href=\"#Обучение\" data-toc-modified-id=\"Обучение-2\"><span class=\"toc-item-num\">2&nbsp;&nbsp;</span>Обучение</a></span></li><li><span><a href=\"#Выводы\" data-toc-modified-id=\"Выводы-3\"><span class=\"toc-item-num\">3&nbsp;&nbsp;</span>Выводы</a></span></li><li><span><a href=\"#Чек-лист-проверки\" data-toc-modified-id=\"Чек-лист-проверки-4\"><span class=\"toc-item-num\">4&nbsp;&nbsp;</span>Чек-лист проверки</a></span></li></ul></div>"
   ]
  },
  {
   "cell_type": "markdown",
   "metadata": {},
   "source": [
    "Интернет-магазин «Викишоп» запускает новый сервис. Теперь пользователи могут редактировать и дополнять описания товаров, как в вики-сообществах. То есть клиенты предлагают свои правки и комментируют изменения других. Магазину нужен инструмент, который будет искать токсичные комментарии и отправлять их на модерацию. \n",
    "\n",
    "Обучите модель классифицировать комментарии на позитивные и негативные. В вашем распоряжении набор данных с разметкой о токсичности правок.\n",
    "\n",
    "Постройте модель со значением метрики качества *F1* не меньше 0.75. \n",
    "\n",
    "**Инструкция по выполнению проекта**\n",
    "\n",
    "1. Загрузите и подготовьте данные.\n",
    "2. Обучите разные модели. \n",
    "3. Сделайте выводы.\n",
    "\n",
    "Для выполнения проекта применять *BERT* необязательно, но вы можете попробовать.\n",
    "\n",
    "**Описание данных**\n",
    "\n",
    "Данные находятся в файле `toxic_comments.csv`. Столбец *text* в нём содержит текст комментария, а *toxic* — целевой признак."
   ]
  },
  {
   "cell_type": "markdown",
   "metadata": {},
   "source": [
    "## Подготовка"
   ]
  },
  {
   "cell_type": "code",
   "execution_count": 1,
   "metadata": {
    "scrolled": true
   },
   "outputs": [
    {
     "name": "stderr",
     "output_type": "stream",
     "text": [
      "[nltk_data] Downloading package stopwords to /home/jovyan/nltk_data...\n",
      "[nltk_data]   Package stopwords is already up-to-date!\n"
     ]
    }
   ],
   "source": [
    "import numpy as np\n",
    "import pandas as pd\n",
    "from tqdm.notebook import tqdm\n",
    "tqdm.pandas()\n",
    "\n",
    "from sklearn.linear_model import LogisticRegression\n",
    "from sklearn.ensemble import RandomForestClassifier\n",
    "\n",
    "from sklearn.model_selection import train_test_split, GridSearchCV\n",
    "from sklearn.feature_extraction.text import TfidfVectorizer\n",
    "from sklearn.metrics import f1_score\n",
    "\n",
    "from sklearn.pipeline import make_pipeline, Pipeline\n",
    "from nltk.tokenize import RegexpTokenizer\n",
    "from nltk.stem import SnowballStemmer\n",
    "\n",
    "import re\n",
    "from nltk.corpus import stopwords as nltk_stopwords\n",
    "from nltk.stem import WordNetLemmatizer \n",
    "\n",
    "import nltk\n",
    "nltk.download('stopwords')\n",
    "stopwords = set(nltk_stopwords.words('english'))\n",
    "\n",
    "import warnings\n",
    "warnings.filterwarnings('ignore')\n",
    "pd.set_option('display.max_colwidth', 1000)"
   ]
  },
  {
   "cell_type": "code",
   "execution_count": 2,
   "metadata": {},
   "outputs": [],
   "source": [
    "data = pd.read_csv('/datasets/toxic_comments.csv')"
   ]
  },
  {
   "cell_type": "code",
   "execution_count": 3,
   "metadata": {},
   "outputs": [
    {
     "name": "stdout",
     "output_type": "stream",
     "text": [
      "<class 'pandas.core.frame.DataFrame'>\n",
      "RangeIndex: 159292 entries, 0 to 159291\n",
      "Data columns (total 3 columns):\n",
      " #   Column      Non-Null Count   Dtype \n",
      "---  ------      --------------   ----- \n",
      " 0   Unnamed: 0  159292 non-null  int64 \n",
      " 1   text        159292 non-null  object\n",
      " 2   toxic       159292 non-null  int64 \n",
      "dtypes: int64(2), object(1)\n",
      "memory usage: 3.6+ MB\n"
     ]
    }
   ],
   "source": [
    "data.info()"
   ]
  },
  {
   "cell_type": "code",
   "execution_count": 4,
   "metadata": {
    "scrolled": true
   },
   "outputs": [
    {
     "data": {
      "text/html": [
       "<div>\n",
       "<style scoped>\n",
       "    .dataframe tbody tr th:only-of-type {\n",
       "        vertical-align: middle;\n",
       "    }\n",
       "\n",
       "    .dataframe tbody tr th {\n",
       "        vertical-align: top;\n",
       "    }\n",
       "\n",
       "    .dataframe thead th {\n",
       "        text-align: right;\n",
       "    }\n",
       "</style>\n",
       "<table border=\"1\" class=\"dataframe\">\n",
       "  <thead>\n",
       "    <tr style=\"text-align: right;\">\n",
       "      <th></th>\n",
       "      <th>Unnamed: 0</th>\n",
       "      <th>text</th>\n",
       "      <th>toxic</th>\n",
       "    </tr>\n",
       "  </thead>\n",
       "  <tbody>\n",
       "    <tr>\n",
       "      <th>0</th>\n",
       "      <td>0</td>\n",
       "      <td>Explanation\\nWhy the edits made under my username Hardcore Metallica Fan were reverted? They weren't vandalisms, just closure on some GAs after I voted at New York Dolls FAC. And please don't remove the template from the talk page since I'm retired now.89.205.38.27</td>\n",
       "      <td>0</td>\n",
       "    </tr>\n",
       "    <tr>\n",
       "      <th>1</th>\n",
       "      <td>1</td>\n",
       "      <td>D'aww! He matches this background colour I'm seemingly stuck with. Thanks.  (talk) 21:51, January 11, 2016 (UTC)</td>\n",
       "      <td>0</td>\n",
       "    </tr>\n",
       "    <tr>\n",
       "      <th>2</th>\n",
       "      <td>2</td>\n",
       "      <td>Hey man, I'm really not trying to edit war. It's just that this guy is constantly removing relevant information and talking to me through edits instead of my talk page. He seems to care more about the formatting than the actual info.</td>\n",
       "      <td>0</td>\n",
       "    </tr>\n",
       "    <tr>\n",
       "      <th>3</th>\n",
       "      <td>3</td>\n",
       "      <td>\"\\nMore\\nI can't make any real suggestions on improvement - I wondered if the section statistics should be later on, or a subsection of \"\"types of accidents\"\"  -I think the references may need tidying so that they are all in the exact same format ie date format etc. I can do that later on, if no-one else does first - if you have any preferences for formatting style on references or want to do it yourself please let me know.\\n\\nThere appears to be a backlog on articles for review so I guess there may be a delay until a reviewer turns up. It's listed in the relevant form eg Wikipedia:Good_article_nominations#Transport  \"</td>\n",
       "      <td>0</td>\n",
       "    </tr>\n",
       "    <tr>\n",
       "      <th>4</th>\n",
       "      <td>4</td>\n",
       "      <td>You, sir, are my hero. Any chance you remember what page that's on?</td>\n",
       "      <td>0</td>\n",
       "    </tr>\n",
       "  </tbody>\n",
       "</table>\n",
       "</div>"
      ],
      "text/plain": [
       "   Unnamed: 0  \\\n",
       "0           0   \n",
       "1           1   \n",
       "2           2   \n",
       "3           3   \n",
       "4           4   \n",
       "\n",
       "                                                                                                                                                                                                                                                                                                                                                                                                                                                                                                                                                                                                                                                 text  \\\n",
       "0                                                                                                                                                                                                                                                                                                                                                                           Explanation\\nWhy the edits made under my username Hardcore Metallica Fan were reverted? They weren't vandalisms, just closure on some GAs after I voted at New York Dolls FAC. And please don't remove the template from the talk page since I'm retired now.89.205.38.27   \n",
       "1                                                                                                                                                                                                                                                                                                                                                                                                                                                                                                                                    D'aww! He matches this background colour I'm seemingly stuck with. Thanks.  (talk) 21:51, January 11, 2016 (UTC)   \n",
       "2                                                                                                                                                                                                                                                                                                                                                                                                           Hey man, I'm really not trying to edit war. It's just that this guy is constantly removing relevant information and talking to me through edits instead of my talk page. He seems to care more about the formatting than the actual info.   \n",
       "3  \"\\nMore\\nI can't make any real suggestions on improvement - I wondered if the section statistics should be later on, or a subsection of \"\"types of accidents\"\"  -I think the references may need tidying so that they are all in the exact same format ie date format etc. I can do that later on, if no-one else does first - if you have any preferences for formatting style on references or want to do it yourself please let me know.\\n\\nThere appears to be a backlog on articles for review so I guess there may be a delay until a reviewer turns up. It's listed in the relevant form eg Wikipedia:Good_article_nominations#Transport  \"   \n",
       "4                                                                                                                                                                                                                                                                                                                                                                                                                                                                                                                                                                                 You, sir, are my hero. Any chance you remember what page that's on?   \n",
       "\n",
       "   toxic  \n",
       "0      0  \n",
       "1      0  \n",
       "2      0  \n",
       "3      0  \n",
       "4      0  "
      ]
     },
     "execution_count": 4,
     "metadata": {},
     "output_type": "execute_result"
    }
   ],
   "source": [
    "data.head()"
   ]
  },
  {
   "cell_type": "code",
   "execution_count": 5,
   "metadata": {},
   "outputs": [
    {
     "data": {
      "image/png": "[encoded data removed]",
      "text/plain": [
       "<Figure size 720x432 with 1 Axes>"
      ]
     },
     "metadata": {
      "needs_background": "light"
     },
     "output_type": "display_data"
    }
   ],
   "source": [
    "data['toxic'].value_counts(normalize=True).plot(kind='bar',\n",
    "                                                grid=True, rot ='0',\n",
    "                                                figsize=(10,6),\n",
    "                                                title='Соотношение комментариев');"
   ]
  },
  {
   "cell_type": "markdown",
   "metadata": {},
   "source": [
    "Присутствует дисбаланс классов 90%-10%,восстановим баланс перед обучением моделей."
   ]
  },
  {
   "cell_type": "markdown",
   "metadata": {},
   "source": [
    "### Очистка данных"
   ]
  },
  {
   "cell_type": "code",
   "execution_count": 6,
   "metadata": {},
   "outputs": [],
   "source": [
    "def clean_text(text):\n",
    "    text = text.lower()\n",
    "    text = re.sub(r\"what's\", \"what is \", text)\n",
    "    text = re.sub(r\"that's\", \"that is \", text)\n",
    "    text = re.sub(r\"\\'s\", \" \", text)\n",
    "    text = re.sub(r\"\\'ve\", \" have \", text)\n",
    "    text = re.sub(r\"can't\", \"cannot \", text)\n",
    "    text = re.sub(r\"n't\", \" not \", text)\n",
    "    text = re.sub(r\"i'm\", \"i am \", text)\n",
    "    text = re.sub(r\"\\'re\", \" are \", text)\n",
    "    text = re.sub(r\"\\'d\", \" would \", text)\n",
    "    text = re.sub(r\"\\'ll\", \" will \", text)\n",
    "    text = re.sub('\\W', ' ', text)\n",
    "    text = re.sub('\\s+', ' ', text)\n",
    "    text = text.strip(' ')\n",
    "    return text"
   ]
  },
  {
   "cell_type": "code",
   "execution_count": 7,
   "metadata": {},
   "outputs": [
    {
     "data": {
      "application/vnd.jupyter.widget-view+json": {
       "model_id": "5c78747982e14d15a8eb3ec659f0c624",
       "version_major": 2,
       "version_minor": 0
      },
      "text/plain": [
       "  0%|          | 0/159292 [00:00<?, ?it/s]"
      ]
     },
     "metadata": {},
     "output_type": "display_data"
    }
   ],
   "source": [
    "data['text'] = data['text'].progress_apply(clean_text)"
   ]
  },
  {
   "cell_type": "code",
   "execution_count": 8,
   "metadata": {},
   "outputs": [],
   "source": [
    "data['text'] = data['text'].str.replace('_', ' ').str[:]"
   ]
  },
  {
   "cell_type": "code",
   "execution_count": 9,
   "metadata": {
    "scrolled": true
   },
   "outputs": [
    {
     "data": {
      "text/html": [
       "<div>\n",
       "<style scoped>\n",
       "    .dataframe tbody tr th:only-of-type {\n",
       "        vertical-align: middle;\n",
       "    }\n",
       "\n",
       "    .dataframe tbody tr th {\n",
       "        vertical-align: top;\n",
       "    }\n",
       "\n",
       "    .dataframe thead th {\n",
       "        text-align: right;\n",
       "    }\n",
       "</style>\n",
       "<table border=\"1\" class=\"dataframe\">\n",
       "  <thead>\n",
       "    <tr style=\"text-align: right;\">\n",
       "      <th></th>\n",
       "      <th>Unnamed: 0</th>\n",
       "      <th>text</th>\n",
       "      <th>toxic</th>\n",
       "    </tr>\n",
       "  </thead>\n",
       "  <tbody>\n",
       "    <tr>\n",
       "      <th>0</th>\n",
       "      <td>0</td>\n",
       "      <td>explanation why the edits made under my username hardcore metallica fan were reverted they were not vandalisms just closure on some gas after i voted at new york dolls fac and please do not remove the template from the talk page since i am retired now 89 205 38 27</td>\n",
       "      <td>0</td>\n",
       "    </tr>\n",
       "    <tr>\n",
       "      <th>1</th>\n",
       "      <td>1</td>\n",
       "      <td>d aww he matches this background colour i am seemingly stuck with thanks talk 21 51 january 11 2016 utc</td>\n",
       "      <td>0</td>\n",
       "    </tr>\n",
       "    <tr>\n",
       "      <th>2</th>\n",
       "      <td>2</td>\n",
       "      <td>hey man i am really not trying to edit war it just that this guy is constantly removing relevant information and talking to me through edits instead of my talk page he seems to care more about the formatting than the actual info</td>\n",
       "      <td>0</td>\n",
       "    </tr>\n",
       "    <tr>\n",
       "      <th>3</th>\n",
       "      <td>3</td>\n",
       "      <td>more i cannot make any real suggestions on improvement i wondered if the section statistics should be later on or a subsection of types of accidents i think the references may need tidying so that they are all in the exact same format ie date format etc i can do that later on if no one else does first if you have any preferences for formatting style on references or want to do it yourself please let me know there appears to be a backlog on articles for review so i guess there may be a delay until a reviewer turns up it listed in the relevant form eg wikipedia good article nominations transport</td>\n",
       "      <td>0</td>\n",
       "    </tr>\n",
       "    <tr>\n",
       "      <th>4</th>\n",
       "      <td>4</td>\n",
       "      <td>you sir are my hero any chance you remember what page that is on</td>\n",
       "      <td>0</td>\n",
       "    </tr>\n",
       "    <tr>\n",
       "      <th>...</th>\n",
       "      <td>...</td>\n",
       "      <td>...</td>\n",
       "      <td>...</td>\n",
       "    </tr>\n",
       "    <tr>\n",
       "      <th>159287</th>\n",
       "      <td>159446</td>\n",
       "      <td>and for the second time of asking when your view completely contradicts the coverage in reliable sources why should anyone care what you feel you cannot even give a consistent argument is the opening only supposed to mention significant aspects or the most significant ones</td>\n",
       "      <td>0</td>\n",
       "    </tr>\n",
       "    <tr>\n",
       "      <th>159288</th>\n",
       "      <td>159447</td>\n",
       "      <td>you should be ashamed of yourself that is a horrible thing you put on my talk page 128 61 19 93</td>\n",
       "      <td>0</td>\n",
       "    </tr>\n",
       "    <tr>\n",
       "      <th>159289</th>\n",
       "      <td>159448</td>\n",
       "      <td>spitzer umm theres no actual article for prostitution ring crunch captain</td>\n",
       "      <td>0</td>\n",
       "    </tr>\n",
       "    <tr>\n",
       "      <th>159290</th>\n",
       "      <td>159449</td>\n",
       "      <td>and it looks like it was actually you who put on the speedy to have the first version deleted now that i look at it</td>\n",
       "      <td>0</td>\n",
       "    </tr>\n",
       "    <tr>\n",
       "      <th>159291</th>\n",
       "      <td>159450</td>\n",
       "      <td>and i really do not think you understand i came here and my idea was bad right away what kind of community goes you have bad ideas go away instead of helping rewrite them</td>\n",
       "      <td>0</td>\n",
       "    </tr>\n",
       "  </tbody>\n",
       "</table>\n",
       "<p>159292 rows × 3 columns</p>\n",
       "</div>"
      ],
      "text/plain": [
       "        Unnamed: 0  \\\n",
       "0                0   \n",
       "1                1   \n",
       "2                2   \n",
       "3                3   \n",
       "4                4   \n",
       "...            ...   \n",
       "159287      159446   \n",
       "159288      159447   \n",
       "159289      159448   \n",
       "159290      159449   \n",
       "159291      159450   \n",
       "\n",
       "                                                                                                                                                                                                                                                                                                                                                                                                                                                                                                                                                                                                                            text  \\\n",
       "0                                                                                                                                                                                                                                                                                                                                                       explanation why the edits made under my username hardcore metallica fan were reverted they were not vandalisms just closure on some gas after i voted at new york dolls fac and please do not remove the template from the talk page since i am retired now 89 205 38 27   \n",
       "1                                                                                                                                                                                                                                                                                                                                                                                                                                                                                                                        d aww he matches this background colour i am seemingly stuck with thanks talk 21 51 january 11 2016 utc   \n",
       "2                                                                                                                                                                                                                                                                                                                                                                                           hey man i am really not trying to edit war it just that this guy is constantly removing relevant information and talking to me through edits instead of my talk page he seems to care more about the formatting than the actual info   \n",
       "3       more i cannot make any real suggestions on improvement i wondered if the section statistics should be later on or a subsection of types of accidents i think the references may need tidying so that they are all in the exact same format ie date format etc i can do that later on if no one else does first if you have any preferences for formatting style on references or want to do it yourself please let me know there appears to be a backlog on articles for review so i guess there may be a delay until a reviewer turns up it listed in the relevant form eg wikipedia good article nominations transport   \n",
       "4                                                                                                                                                                                                                                                                                                                                                                                                                                                                                                                                                               you sir are my hero any chance you remember what page that is on   \n",
       "...                                                                                                                                                                                                                                                                                                                                                                                                                                                                                                                                                                                                                          ...   \n",
       "159287                                                                                                                                                                                                                                                                                                                                         and for the second time of asking when your view completely contradicts the coverage in reliable sources why should anyone care what you feel you cannot even give a consistent argument is the opening only supposed to mention significant aspects or the most significant ones   \n",
       "159288                                                                                                                                                                                                                                                                                                                                                                                                                                                                                                                           you should be ashamed of yourself that is a horrible thing you put on my talk page 128 61 19 93   \n",
       "159289                                                                                                                                                                                                                                                                                                                                                                                                                                                                                                                                                 spitzer umm theres no actual article for prostitution ring crunch captain   \n",
       "159290                                                                                                                                                                                                                                                                                                                                                                                                                                                                                                       and it looks like it was actually you who put on the speedy to have the first version deleted now that i look at it   \n",
       "159291                                                                                                                                                                                                                                                                                                                                                                                                                                                and i really do not think you understand i came here and my idea was bad right away what kind of community goes you have bad ideas go away instead of helping rewrite them   \n",
       "\n",
       "        toxic  \n",
       "0           0  \n",
       "1           0  \n",
       "2           0  \n",
       "3           0  \n",
       "4           0  \n",
       "...       ...  \n",
       "159287      0  \n",
       "159288      0  \n",
       "159289      0  \n",
       "159290      0  \n",
       "159291      0  \n",
       "\n",
       "[159292 rows x 3 columns]"
      ]
     },
     "execution_count": 9,
     "metadata": {},
     "output_type": "execute_result"
    }
   ],
   "source": [
    "data"
   ]
  },
  {
   "cell_type": "code",
   "execution_count": 10,
   "metadata": {
    "scrolled": true
   },
   "outputs": [],
   "source": [
    "tokenizer = RegexpTokenizer(r'\\w+')"
   ]
  },
  {
   "cell_type": "code",
   "execution_count": 11,
   "metadata": {},
   "outputs": [
    {
     "data": {
      "application/vnd.jupyter.widget-view+json": {
       "model_id": "7633c3f461a94c9597c6d296e0f8cf24",
       "version_major": 2,
       "version_minor": 0
      },
      "text/plain": [
       "  0%|          | 0/159292 [00:00<?, ?it/s]"
      ]
     },
     "metadata": {},
     "output_type": "display_data"
    }
   ],
   "source": [
    "data[\"tokens\"] = data[\"text\"].progress_apply(tokenizer.tokenize)"
   ]
  },
  {
   "cell_type": "code",
   "execution_count": 12,
   "metadata": {},
   "outputs": [],
   "source": [
    "wn = nltk.WordNetLemmatizer()\n",
    "stopwords.remove('not')\n",
    "snowball = SnowballStemmer(language=\"english\")\n",
    "ps = nltk.stem.porter.PorterStemmer()"
   ]
  },
  {
   "cell_type": "code",
   "execution_count": 13,
   "metadata": {},
   "outputs": [
    {
     "data": {
      "application/vnd.jupyter.widget-view+json": {
       "model_id": "f1435e107f5c4502948a86e3485934a7",
       "version_major": 2,
       "version_minor": 0
      },
      "text/plain": [
       "  0%|          | 0/159292 [00:00<?, ?it/s]"
      ]
     },
     "metadata": {},
     "output_type": "display_data"
    }
   ],
   "source": [
    "text_list = []\n",
    "for token in tqdm(data['tokens']):\n",
    "    text = [word for word in token if word not in stopwords]\n",
    "    text = [snowball.stem(word) for word in text]\n",
    "    text = ' '.join(text)\n",
    "    text_list.append(text)\n",
    "    del text\n",
    "df = pd.concat([data,pd.Series(text_list)],axis=1)"
   ]
  },
  {
   "cell_type": "code",
   "execution_count": 14,
   "metadata": {},
   "outputs": [],
   "source": [
    "df.columns = ['0', 'text', 'toxic', 'tokens','lemm_text']"
   ]
  },
  {
   "cell_type": "code",
   "execution_count": 15,
   "metadata": {},
   "outputs": [],
   "source": [
    "df = df.drop('0', axis=1)"
   ]
  },
  {
   "cell_type": "code",
   "execution_count": 16,
   "metadata": {},
   "outputs": [
    {
     "data": {
      "text/html": [
       "<div>\n",
       "<style scoped>\n",
       "    .dataframe tbody tr th:only-of-type {\n",
       "        vertical-align: middle;\n",
       "    }\n",
       "\n",
       "    .dataframe tbody tr th {\n",
       "        vertical-align: top;\n",
       "    }\n",
       "\n",
       "    .dataframe thead th {\n",
       "        text-align: right;\n",
       "    }\n",
       "</style>\n",
       "<table border=\"1\" class=\"dataframe\">\n",
       "  <thead>\n",
       "    <tr style=\"text-align: right;\">\n",
       "      <th></th>\n",
       "      <th>text</th>\n",
       "      <th>toxic</th>\n",
       "      <th>tokens</th>\n",
       "      <th>lemm_text</th>\n",
       "    </tr>\n",
       "  </thead>\n",
       "  <tbody>\n",
       "    <tr>\n",
       "      <th>0</th>\n",
       "      <td>explanation why the edits made under my username hardcore metallica fan were reverted they were not vandalisms just closure on some gas after i voted at new york dolls fac and please do not remove the template from the talk page since i am retired now 89 205 38 27</td>\n",
       "      <td>0</td>\n",
       "      <td>[explanation, why, the, edits, made, under, my, username, hardcore, metallica, fan, were, reverted, they, were, not, vandalisms, just, closure, on, some, gas, after, i, voted, at, new, york, dolls, fac, and, please, do, not, remove, the, template, from, the, talk, page, since, i, am, retired, now, 89, 205, 38, 27]</td>\n",
       "      <td>explan edit made usernam hardcor metallica fan revert not vandal closur gas vote new york doll fac pleas not remov templat talk page sinc retir 89 205 38 27</td>\n",
       "    </tr>\n",
       "    <tr>\n",
       "      <th>1</th>\n",
       "      <td>d aww he matches this background colour i am seemingly stuck with thanks talk 21 51 january 11 2016 utc</td>\n",
       "      <td>0</td>\n",
       "      <td>[d, aww, he, matches, this, background, colour, i, am, seemingly, stuck, with, thanks, talk, 21, 51, january, 11, 2016, utc]</td>\n",
       "      <td>aww match background colour seem stuck thank talk 21 51 januari 11 2016 utc</td>\n",
       "    </tr>\n",
       "    <tr>\n",
       "      <th>2</th>\n",
       "      <td>hey man i am really not trying to edit war it just that this guy is constantly removing relevant information and talking to me through edits instead of my talk page he seems to care more about the formatting than the actual info</td>\n",
       "      <td>0</td>\n",
       "      <td>[hey, man, i, am, really, not, trying, to, edit, war, it, just, that, this, guy, is, constantly, removing, relevant, information, and, talking, to, me, through, edits, instead, of, my, talk, page, he, seems, to, care, more, about, the, formatting, than, the, actual, info]</td>\n",
       "      <td>hey man realli not tri edit war guy constant remov relev inform talk edit instead talk page seem care format actual info</td>\n",
       "    </tr>\n",
       "    <tr>\n",
       "      <th>3</th>\n",
       "      <td>more i cannot make any real suggestions on improvement i wondered if the section statistics should be later on or a subsection of types of accidents i think the references may need tidying so that they are all in the exact same format ie date format etc i can do that later on if no one else does first if you have any preferences for formatting style on references or want to do it yourself please let me know there appears to be a backlog on articles for review so i guess there may be a delay until a reviewer turns up it listed in the relevant form eg wikipedia good article nominations transport</td>\n",
       "      <td>0</td>\n",
       "      <td>[more, i, cannot, make, any, real, suggestions, on, improvement, i, wondered, if, the, section, statistics, should, be, later, on, or, a, subsection, of, types, of, accidents, i, think, the, references, may, need, tidying, so, that, they, are, all, in, the, exact, same, format, ie, date, format, etc, i, can, do, that, later, on, if, no, one, else, does, first, if, you, have, any, preferences, for, formatting, style, on, references, or, want, to, do, it, yourself, please, let, me, know, there, appears, to, be, a, backlog, on, articles, for, review, so, i, guess, there, may, be, a, delay, until, a, reviewer, ...]</td>\n",
       "      <td>cannot make real suggest improv wonder section statist later subsect type accid think refer may need tidi exact format ie date format etc later one els first prefer format style refer want pleas let know appear backlog articl review guess may delay review turn list relev form eg wikipedia good articl nomin transport</td>\n",
       "    </tr>\n",
       "    <tr>\n",
       "      <th>4</th>\n",
       "      <td>you sir are my hero any chance you remember what page that is on</td>\n",
       "      <td>0</td>\n",
       "      <td>[you, sir, are, my, hero, any, chance, you, remember, what, page, that, is, on]</td>\n",
       "      <td>sir hero chanc rememb page</td>\n",
       "    </tr>\n",
       "    <tr>\n",
       "      <th>...</th>\n",
       "      <td>...</td>\n",
       "      <td>...</td>\n",
       "      <td>...</td>\n",
       "      <td>...</td>\n",
       "    </tr>\n",
       "    <tr>\n",
       "      <th>159287</th>\n",
       "      <td>and for the second time of asking when your view completely contradicts the coverage in reliable sources why should anyone care what you feel you cannot even give a consistent argument is the opening only supposed to mention significant aspects or the most significant ones</td>\n",
       "      <td>0</td>\n",
       "      <td>[and, for, the, second, time, of, asking, when, your, view, completely, contradicts, the, coverage, in, reliable, sources, why, should, anyone, care, what, you, feel, you, cannot, even, give, a, consistent, argument, is, the, opening, only, supposed, to, mention, significant, aspects, or, the, most, significant, ones]</td>\n",
       "      <td>second time ask view complet contradict coverag reliabl sourc anyon care feel cannot even give consist argument open suppos mention signific aspect signific one</td>\n",
       "    </tr>\n",
       "    <tr>\n",
       "      <th>159288</th>\n",
       "      <td>you should be ashamed of yourself that is a horrible thing you put on my talk page 128 61 19 93</td>\n",
       "      <td>0</td>\n",
       "      <td>[you, should, be, ashamed, of, yourself, that, is, a, horrible, thing, you, put, on, my, talk, page, 128, 61, 19, 93]</td>\n",
       "      <td>asham horribl thing put talk page 128 61 19 93</td>\n",
       "    </tr>\n",
       "    <tr>\n",
       "      <th>159289</th>\n",
       "      <td>spitzer umm theres no actual article for prostitution ring crunch captain</td>\n",
       "      <td>0</td>\n",
       "      <td>[spitzer, umm, theres, no, actual, article, for, prostitution, ring, crunch, captain]</td>\n",
       "      <td>spitzer umm there actual articl prostitut ring crunch captain</td>\n",
       "    </tr>\n",
       "    <tr>\n",
       "      <th>159290</th>\n",
       "      <td>and it looks like it was actually you who put on the speedy to have the first version deleted now that i look at it</td>\n",
       "      <td>0</td>\n",
       "      <td>[and, it, looks, like, it, was, actually, you, who, put, on, the, speedy, to, have, the, first, version, deleted, now, that, i, look, at, it]</td>\n",
       "      <td>look like actual put speedi first version delet look</td>\n",
       "    </tr>\n",
       "    <tr>\n",
       "      <th>159291</th>\n",
       "      <td>and i really do not think you understand i came here and my idea was bad right away what kind of community goes you have bad ideas go away instead of helping rewrite them</td>\n",
       "      <td>0</td>\n",
       "      <td>[and, i, really, do, not, think, you, understand, i, came, here, and, my, idea, was, bad, right, away, what, kind, of, community, goes, you, have, bad, ideas, go, away, instead, of, helping, rewrite, them]</td>\n",
       "      <td>realli not think understand came idea bad right away kind communiti goe bad idea go away instead help rewrit</td>\n",
       "    </tr>\n",
       "  </tbody>\n",
       "</table>\n",
       "<p>159292 rows × 4 columns</p>\n",
       "</div>"
      ],
      "text/plain": [
       "                                                                                                                                                                                                                                                                                                                                                                                                                                                                                                                                                                                                                            text  \\\n",
       "0                                                                                                                                                                                                                                                                                                                                                       explanation why the edits made under my username hardcore metallica fan were reverted they were not vandalisms just closure on some gas after i voted at new york dolls fac and please do not remove the template from the talk page since i am retired now 89 205 38 27   \n",
       "1                                                                                                                                                                                                                                                                                                                                                                                                                                                                                                                        d aww he matches this background colour i am seemingly stuck with thanks talk 21 51 january 11 2016 utc   \n",
       "2                                                                                                                                                                                                                                                                                                                                                                                           hey man i am really not trying to edit war it just that this guy is constantly removing relevant information and talking to me through edits instead of my talk page he seems to care more about the formatting than the actual info   \n",
       "3       more i cannot make any real suggestions on improvement i wondered if the section statistics should be later on or a subsection of types of accidents i think the references may need tidying so that they are all in the exact same format ie date format etc i can do that later on if no one else does first if you have any preferences for formatting style on references or want to do it yourself please let me know there appears to be a backlog on articles for review so i guess there may be a delay until a reviewer turns up it listed in the relevant form eg wikipedia good article nominations transport   \n",
       "4                                                                                                                                                                                                                                                                                                                                                                                                                                                                                                                                                               you sir are my hero any chance you remember what page that is on   \n",
       "...                                                                                                                                                                                                                                                                                                                                                                                                                                                                                                                                                                                                                          ...   \n",
       "159287                                                                                                                                                                                                                                                                                                                                         and for the second time of asking when your view completely contradicts the coverage in reliable sources why should anyone care what you feel you cannot even give a consistent argument is the opening only supposed to mention significant aspects or the most significant ones   \n",
       "159288                                                                                                                                                                                                                                                                                                                                                                                                                                                                                                                           you should be ashamed of yourself that is a horrible thing you put on my talk page 128 61 19 93   \n",
       "159289                                                                                                                                                                                                                                                                                                                                                                                                                                                                                                                                                 spitzer umm theres no actual article for prostitution ring crunch captain   \n",
       "159290                                                                                                                                                                                                                                                                                                                                                                                                                                                                                                       and it looks like it was actually you who put on the speedy to have the first version deleted now that i look at it   \n",
       "159291                                                                                                                                                                                                                                                                                                                                                                                                                                                and i really do not think you understand i came here and my idea was bad right away what kind of community goes you have bad ideas go away instead of helping rewrite them   \n",
       "\n",
       "        toxic  \\\n",
       "0           0   \n",
       "1           0   \n",
       "2           0   \n",
       "3           0   \n",
       "4           0   \n",
       "...       ...   \n",
       "159287      0   \n",
       "159288      0   \n",
       "159289      0   \n",
       "159290      0   \n",
       "159291      0   \n",
       "\n",
       "                                                                                                                                                                                                                                                                                                                                                                                                                                                                                                                                                                                                                                            tokens  \\\n",
       "0                                                                                                                                                                                                                                                                                                                      [explanation, why, the, edits, made, under, my, username, hardcore, metallica, fan, were, reverted, they, were, not, vandalisms, just, closure, on, some, gas, after, i, voted, at, new, york, dolls, fac, and, please, do, not, remove, the, template, from, the, talk, page, since, i, am, retired, now, 89, 205, 38, 27]   \n",
       "1                                                                                                                                                                                                                                                                                                                                                                                                                                                                                                                     [d, aww, he, matches, this, background, colour, i, am, seemingly, stuck, with, thanks, talk, 21, 51, january, 11, 2016, utc]   \n",
       "2                                                                                                                                                                                                                                                                                                                                                                 [hey, man, i, am, really, not, trying, to, edit, war, it, just, that, this, guy, is, constantly, removing, relevant, information, and, talking, to, me, through, edits, instead, of, my, talk, page, he, seems, to, care, more, about, the, formatting, than, the, actual, info]   \n",
       "3       [more, i, cannot, make, any, real, suggestions, on, improvement, i, wondered, if, the, section, statistics, should, be, later, on, or, a, subsection, of, types, of, accidents, i, think, the, references, may, need, tidying, so, that, they, are, all, in, the, exact, same, format, ie, date, format, etc, i, can, do, that, later, on, if, no, one, else, does, first, if, you, have, any, preferences, for, formatting, style, on, references, or, want, to, do, it, yourself, please, let, me, know, there, appears, to, be, a, backlog, on, articles, for, review, so, i, guess, there, may, be, a, delay, until, a, reviewer, ...]   \n",
       "4                                                                                                                                                                                                                                                                                                                                                                                                                                                                                                                                                                  [you, sir, are, my, hero, any, chance, you, remember, what, page, that, is, on]   \n",
       "...                                                                                                                                                                                                                                                                                                                                                                                                                                                                                                                                                                                                                                            ...   \n",
       "159287                                                                                                                                                                                                                                                                                                             [and, for, the, second, time, of, asking, when, your, view, completely, contradicts, the, coverage, in, reliable, sources, why, should, anyone, care, what, you, feel, you, cannot, even, give, a, consistent, argument, is, the, opening, only, supposed, to, mention, significant, aspects, or, the, most, significant, ones]   \n",
       "159288                                                                                                                                                                                                                                                                                                                                                                                                                                                                                                                       [you, should, be, ashamed, of, yourself, that, is, a, horrible, thing, you, put, on, my, talk, page, 128, 61, 19, 93]   \n",
       "159289                                                                                                                                                                                                                                                                                                                                                                                                                                                                                                                                                       [spitzer, umm, theres, no, actual, article, for, prostitution, ring, crunch, captain]   \n",
       "159290                                                                                                                                                                                                                                                                                                                                                                                                                                                                                               [and, it, looks, like, it, was, actually, you, who, put, on, the, speedy, to, have, the, first, version, deleted, now, that, i, look, at, it]   \n",
       "159291                                                                                                                                                                                                                                                                                                                                                                                                                               [and, i, really, do, not, think, you, understand, i, came, here, and, my, idea, was, bad, right, away, what, kind, of, community, goes, you, have, bad, ideas, go, away, instead, of, helping, rewrite, them]   \n",
       "\n",
       "                                                                                                                                                                                                                                                                                                                            lemm_text  \n",
       "0                                                                                                                                                                        explan edit made usernam hardcor metallica fan revert not vandal closur gas vote new york doll fac pleas not remov templat talk page sinc retir 89 205 38 27  \n",
       "1                                                                                                                                                                                                                                                         aww match background colour seem stuck thank talk 21 51 januari 11 2016 utc  \n",
       "2                                                                                                                                                                                                            hey man realli not tri edit war guy constant remov relev inform talk edit instead talk page seem care format actual info  \n",
       "3       cannot make real suggest improv wonder section statist later subsect type accid think refer may need tidi exact format ie date format etc later one els first prefer format style refer want pleas let know appear backlog articl review guess may delay review turn list relev form eg wikipedia good articl nomin transport  \n",
       "4                                                                                                                                                                                                                                                                                                          sir hero chanc rememb page  \n",
       "...                                                                                                                                                                                                                                                                                                                               ...  \n",
       "159287                                                                                                                                                               second time ask view complet contradict coverag reliabl sourc anyon care feel cannot even give consist argument open suppos mention signific aspect signific one  \n",
       "159288                                                                                                                                                                                                                                                                                 asham horribl thing put talk page 128 61 19 93  \n",
       "159289                                                                                                                                                                                                                                                                  spitzer umm there actual articl prostitut ring crunch captain  \n",
       "159290                                                                                                                                                                                                                                                                           look like actual put speedi first version delet look  \n",
       "159291                                                                                                                                                                                                                   realli not think understand came idea bad right away kind communiti goe bad idea go away instead help rewrit  \n",
       "\n",
       "[159292 rows x 4 columns]"
      ]
     },
     "execution_count": 16,
     "metadata": {},
     "output_type": "execute_result"
    }
   ],
   "source": [
    "df"
   ]
  },
  {
   "cell_type": "code",
   "execution_count": 17,
   "metadata": {},
   "outputs": [],
   "source": [
    "count_tf_idf = TfidfVectorizer(stop_words=stopwords) "
   ]
  },
  {
   "cell_type": "markdown",
   "metadata": {},
   "source": [
    "## Обучение"
   ]
  },
  {
   "cell_type": "code",
   "execution_count": 18,
   "metadata": {},
   "outputs": [],
   "source": [
    "train, test = train_test_split(df[['lemm_text','toxic']],\n",
    "                               test_size=0.1,\n",
    "                               shuffle=True,\n",
    "                               random_state=12345,\n",
    "                               stratify=df['toxic'])"
   ]
  },
  {
   "cell_type": "code",
   "execution_count": 19,
   "metadata": {},
   "outputs": [],
   "source": [
    "def train_test(df):\n",
    "    X =  df['lemm_text']\n",
    "    \n",
    "    y = df['toxic']\n",
    "    return X,y\n",
    "X_train, y_train = train_test(train)\n",
    "X_test, y_test = train_test(test)"
   ]
  },
  {
   "cell_type": "code",
   "execution_count": 20,
   "metadata": {},
   "outputs": [
    {
     "name": "stdout",
     "output_type": "stream",
     "text": [
      "{'logreg__C': 8}\n",
      "0.7636551195038923\n",
      "CPU times: user 4min 5s, sys: 2min 36s, total: 6min 42s\n",
      "Wall time: 12min 46s\n"
     ]
    }
   ],
   "source": [
    "%%time\n",
    "\n",
    "pipe = Pipeline([\n",
    "    ('tfidf', TfidfVectorizer(stop_words=stopwords)),\n",
    "    ('logreg',LogisticRegression(penalty = 'l2',\n",
    "                                 solver='liblinear',\n",
    "                                 class_weight='balanced',\n",
    "                                 random_state=12345))])\n",
    "\n",
    "params = {'logreg__C': [6, 7, 8]}\n",
    "\n",
    "grid = GridSearchCV(estimator=pipe,\n",
    "                    param_grid=params,\n",
    "                    cv=5, scoring='f1',\n",
    "                    n_jobs=-1,\n",
    "                    refit=False)\n",
    "\n",
    "grid.fit(X_train, y_train)\n",
    "best_paramms = grid.best_params_\n",
    "\n",
    "print(best_paramms)\n",
    "print(grid.best_score_)"
   ]
  },
  {
   "cell_type": "code",
   "execution_count": 21,
   "metadata": {},
   "outputs": [
    {
     "name": "stdout",
     "output_type": "stream",
     "text": [
      "{'classifier__class_weight': 'balanced', 'classifier__max_depth': 11, 'classifier__n_estimators': 110}\n",
      "0.3576958187936091\n"
     ]
    }
   ],
   "source": [
    "pipe_f = Pipeline([\n",
    "    ('tfidf', TfidfVectorizer(stop_words=stopwords)),\n",
    "    ('classifier', RandomForestClassifier(random_state=12345))])\n",
    "\n",
    "params_f = {'classifier__max_depth': [9, 10, 11],\n",
    "            'classifier__n_estimators': [70, 90, 110],\n",
    "            'classifier__class_weight':['balanced']}\n",
    "\n",
    "grid_f = GridSearchCV(estimator=pipe_f,\n",
    "                      param_grid=params_f,\n",
    "                      cv=5, scoring='f1',\n",
    "                      n_jobs=-1,\n",
    "                      refit=False)\n",
    "\n",
    "grid_f.fit(X_train, y_train)\n",
    "best_paramms_f = grid_f.best_params_\n",
    "\n",
    "print(best_paramms_f)\n",
    "print(grid_f.best_score_)"
   ]
  },
  {
   "cell_type": "code",
   "execution_count": 22,
   "metadata": {},
   "outputs": [
    {
     "name": "stdout",
     "output_type": "stream",
     "text": [
      "Значение метрики F1 0.7695345557122709\n"
     ]
    }
   ],
   "source": [
    "pipe2 = Pipeline([('TfIdf',TfidfVectorizer(stop_words=stopwords)),\n",
    "                  ('logreg',LogisticRegression(C=8, penalty = 'l2',\n",
    "                                               solver='liblinear',\n",
    "                                               class_weight='balanced',\n",
    "                                               random_state=12345))])\n",
    "\n",
    "pipe2.fit(X_train, y_train)\n",
    "y_pred = pipe2.predict(X_test)\n",
    "print(\"Значение метрики F1\",f1_score(y_test, y_pred))"
   ]
  },
  {
   "cell_type": "markdown",
   "metadata": {},
   "source": [
    "## Выводы"
   ]
  },
  {
   "cell_type": "markdown",
   "metadata": {},
   "source": [
    "Датасэт из 159292 комментариев, с дисбалансом, 10% токсичные,  90% как не токсичные. С помощью регулярных выражений были убраны символы, кавычки, ссылки и сокращения. Проведена токенизация и лемматизация. Лучшее значение метрики F1 достигнуто на модели LogisticRegression, значение на тесте составило 0.7699"
   ]
  }
 ],
 "metadata": {
  "ExecuteTimeLog": [
   {
    "duration": 427,
    "start_time": "2023-01-17T19:40:09.563Z"
   },
   {
    "duration": 3807,
    "start_time": "2023-01-17T19:40:43.662Z"
   },
   {
    "duration": 35,
    "start_time": "2023-01-17T19:40:47.471Z"
   },
   {
    "duration": 18,
    "start_time": "2023-01-17T19:40:57.671Z"
   },
   {
    "duration": 12,
    "start_time": "2023-01-17T19:41:25.055Z"
   },
   {
    "duration": 7,
    "start_time": "2023-01-17T19:41:45.301Z"
   },
   {
    "duration": 7,
    "start_time": "2023-01-17T19:41:48.876Z"
   },
   {
    "duration": 4471,
    "start_time": "2023-01-18T19:44:56.704Z"
   },
   {
    "duration": 3464,
    "start_time": "2023-01-18T19:45:10.273Z"
   },
   {
    "duration": 33,
    "start_time": "2023-01-18T19:45:13.739Z"
   },
   {
    "duration": 13,
    "start_time": "2023-01-18T19:45:13.773Z"
   },
   {
    "duration": 4,
    "start_time": "2023-01-18T19:47:18.899Z"
   },
   {
    "duration": 7,
    "start_time": "2023-01-18T19:47:21.466Z"
   },
   {
    "duration": 3036,
    "start_time": "2023-01-19T18:54:44.405Z"
   },
   {
    "duration": 10,
    "start_time": "2023-01-19T18:55:26.691Z"
   },
   {
    "duration": 15,
    "start_time": "2023-01-19T18:55:34.849Z"
   },
   {
    "duration": 14,
    "start_time": "2023-01-19T18:55:46.748Z"
   },
   {
    "duration": 8,
    "start_time": "2023-01-19T18:56:02.492Z"
   },
   {
    "duration": 4,
    "start_time": "2023-01-19T18:56:04.244Z"
   },
   {
    "duration": 3,
    "start_time": "2023-01-19T18:56:05.867Z"
   },
   {
    "duration": 5,
    "start_time": "2023-01-19T18:56:11.235Z"
   },
   {
    "duration": 7,
    "start_time": "2023-01-19T18:56:24.253Z"
   },
   {
    "duration": 5,
    "start_time": "2023-01-19T18:56:25.264Z"
   },
   {
    "duration": 7,
    "start_time": "2023-01-19T18:57:19.695Z"
   },
   {
    "duration": 4,
    "start_time": "2023-01-19T18:57:21.377Z"
   },
   {
    "duration": 7,
    "start_time": "2023-01-19T18:57:22.811Z"
   },
   {
    "duration": 3214,
    "start_time": "2023-01-19T18:57:29.065Z"
   },
   {
    "duration": 30,
    "start_time": "2023-01-19T18:57:32.280Z"
   },
   {
    "duration": 16,
    "start_time": "2023-01-19T18:57:32.311Z"
   },
   {
    "duration": 12,
    "start_time": "2023-01-19T18:57:55.358Z"
   },
   {
    "duration": 449,
    "start_time": "2023-01-19T18:57:59.036Z"
   },
   {
    "duration": 29,
    "start_time": "2023-01-19T18:58:48.219Z"
   },
   {
    "duration": 74,
    "start_time": "2023-01-19T18:59:13.036Z"
   },
   {
    "duration": 1118,
    "start_time": "2023-01-19T18:59:15.567Z"
   },
   {
    "duration": 1120,
    "start_time": "2023-01-19T18:59:24.051Z"
   },
   {
    "duration": 1134,
    "start_time": "2023-01-19T18:59:35.200Z"
   },
   {
    "duration": 8,
    "start_time": "2023-01-19T19:00:53.984Z"
   },
   {
    "duration": 5,
    "start_time": "2023-01-19T19:03:04.580Z"
   },
   {
    "duration": 14,
    "start_time": "2023-01-19T19:03:47.821Z"
   },
   {
    "duration": 7617,
    "start_time": "2023-01-19T19:03:56.056Z"
   },
   {
    "duration": 13,
    "start_time": "2023-01-19T19:04:03.675Z"
   },
   {
    "duration": 280,
    "start_time": "2023-01-19T19:09:17.343Z"
   },
   {
    "duration": 13,
    "start_time": "2023-01-19T19:09:22.460Z"
   },
   {
    "duration": 6730,
    "start_time": "2023-01-19T19:10:46.620Z"
   },
   {
    "duration": 250,
    "start_time": "2023-01-19T19:10:53.353Z"
   },
   {
    "duration": 10,
    "start_time": "2023-01-19T19:10:53.605Z"
   },
   {
    "duration": 4,
    "start_time": "2023-01-19T19:16:15.909Z"
   },
   {
    "duration": 17437,
    "start_time": "2023-01-19T19:16:17.487Z"
   },
   {
    "duration": 14,
    "start_time": "2023-01-19T19:16:34.926Z"
   },
   {
    "duration": 660,
    "start_time": "2023-01-19T19:17:19.720Z"
   },
   {
    "duration": 8,
    "start_time": "2023-01-19T19:17:23.664Z"
   },
   {
    "duration": 5,
    "start_time": "2023-01-19T19:17:26.545Z"
   },
   {
    "duration": 19101,
    "start_time": "2023-01-19T19:17:27.504Z"
   },
   {
    "duration": 10,
    "start_time": "2023-01-19T19:17:46.607Z"
   },
   {
    "duration": 715,
    "start_time": "2023-01-19T19:18:04.753Z"
   },
   {
    "duration": 11,
    "start_time": "2023-01-19T19:18:06.777Z"
   },
   {
    "duration": 255,
    "start_time": "2023-01-19T19:18:09.921Z"
   },
   {
    "duration": 10,
    "start_time": "2023-01-19T19:18:10.937Z"
   },
   {
    "duration": 771,
    "start_time": "2023-01-19T19:18:28.844Z"
   },
   {
    "duration": 10,
    "start_time": "2023-01-19T19:18:33.899Z"
   },
   {
    "duration": 4,
    "start_time": "2023-01-19T19:18:37.776Z"
   },
   {
    "duration": 7894,
    "start_time": "2023-01-19T19:18:40.021Z"
   },
   {
    "duration": 12,
    "start_time": "2023-01-19T19:18:49.142Z"
   },
   {
    "duration": 228,
    "start_time": "2023-01-19T19:19:05.401Z"
   },
   {
    "duration": 11,
    "start_time": "2023-01-19T19:19:07.780Z"
   },
   {
    "duration": 223,
    "start_time": "2023-01-19T19:19:13.923Z"
   },
   {
    "duration": 58,
    "start_time": "2023-01-19T19:19:14.497Z"
   },
   {
    "duration": 6592,
    "start_time": "2023-01-19T19:20:00.064Z"
   },
   {
    "duration": 6444,
    "start_time": "2023-01-19T19:20:17.596Z"
   },
   {
    "duration": 16,
    "start_time": "2023-01-19T19:36:22.987Z"
   },
   {
    "duration": 12,
    "start_time": "2023-01-19T19:37:00.370Z"
   },
   {
    "duration": 16038,
    "start_time": "2023-01-19T19:37:09.054Z"
   },
   {
    "duration": 22,
    "start_time": "2023-01-19T19:37:33.026Z"
   },
   {
    "duration": 16,
    "start_time": "2023-01-19T19:37:49.021Z"
   },
   {
    "duration": 3373,
    "start_time": "2023-01-19T19:37:57.255Z"
   },
   {
    "duration": 753,
    "start_time": "2023-01-19T19:38:00.631Z"
   },
   {
    "duration": 33,
    "start_time": "2023-01-19T19:38:01.386Z"
   },
   {
    "duration": 51,
    "start_time": "2023-01-19T19:38:01.422Z"
   },
   {
    "duration": 357,
    "start_time": "2023-01-19T19:38:01.475Z"
   },
   {
    "duration": 9,
    "start_time": "2023-01-19T19:38:01.837Z"
   },
   {
    "duration": 35,
    "start_time": "2023-01-19T19:38:01.848Z"
   },
   {
    "duration": 8698,
    "start_time": "2023-01-19T19:38:01.885Z"
   },
   {
    "duration": 254,
    "start_time": "2023-01-19T19:38:10.585Z"
   },
   {
    "duration": 11,
    "start_time": "2023-01-19T19:38:10.843Z"
   },
   {
    "duration": 11227,
    "start_time": "2023-01-19T19:38:10.856Z"
   },
   {
    "duration": 169,
    "start_time": "2023-01-19T19:38:22.086Z"
   },
   {
    "duration": 0,
    "start_time": "2023-01-19T19:38:22.256Z"
   },
   {
    "duration": 15,
    "start_time": "2023-01-19T19:38:27.141Z"
   },
   {
    "duration": 315,
    "start_time": "2023-01-19T19:40:03.488Z"
   },
   {
    "duration": 355,
    "start_time": "2023-01-19T19:40:10.493Z"
   },
   {
    "duration": 159,
    "start_time": "2023-01-19T19:40:13.394Z"
   },
   {
    "duration": 12230,
    "start_time": "2023-01-19T19:40:16.424Z"
   },
   {
    "duration": 74,
    "start_time": "2023-01-19T19:40:48.892Z"
   },
   {
    "duration": 917,
    "start_time": "2023-01-19T19:40:52.084Z"
   },
   {
    "duration": 58,
    "start_time": "2023-01-19T19:41:07.713Z"
   },
   {
    "duration": 11571,
    "start_time": "2023-01-19T19:41:39.569Z"
   },
   {
    "duration": 10,
    "start_time": "2023-01-19T19:44:30.302Z"
   },
   {
    "duration": 2747,
    "start_time": "2023-01-19T19:44:35.383Z"
   },
   {
    "duration": 676,
    "start_time": "2023-01-19T19:44:38.132Z"
   },
   {
    "duration": 30,
    "start_time": "2023-01-19T19:44:38.810Z"
   },
   {
    "duration": 13,
    "start_time": "2023-01-19T19:44:38.842Z"
   },
   {
    "duration": 310,
    "start_time": "2023-01-19T19:44:38.857Z"
   },
   {
    "duration": 9,
    "start_time": "2023-01-19T19:44:40.368Z"
   },
   {
    "duration": 5,
    "start_time": "2023-01-19T19:44:42.272Z"
   },
   {
    "duration": 7620,
    "start_time": "2023-01-19T19:44:43.108Z"
   },
   {
    "duration": 226,
    "start_time": "2023-01-19T19:44:50.730Z"
   },
   {
    "duration": 11,
    "start_time": "2023-01-19T19:44:50.958Z"
   },
   {
    "duration": 10,
    "start_time": "2023-01-19T19:44:50.970Z"
   },
   {
    "duration": 3302,
    "start_time": "2023-01-19T19:45:08.087Z"
   },
   {
    "duration": 4111,
    "start_time": "2023-01-19T19:45:47.564Z"
   },
   {
    "duration": 20,
    "start_time": "2023-01-19T19:45:54.707Z"
   },
   {
    "duration": 2610,
    "start_time": "2023-01-19T19:47:14.477Z"
   },
   {
    "duration": 693,
    "start_time": "2023-01-19T19:47:17.089Z"
   },
   {
    "duration": 28,
    "start_time": "2023-01-19T19:47:17.783Z"
   },
   {
    "duration": 38,
    "start_time": "2023-01-19T19:47:17.813Z"
   },
   {
    "duration": 421,
    "start_time": "2023-01-19T19:47:17.856Z"
   },
   {
    "duration": 8,
    "start_time": "2023-01-19T19:47:18.279Z"
   },
   {
    "duration": 5,
    "start_time": "2023-01-19T19:47:18.289Z"
   },
   {
    "duration": 7893,
    "start_time": "2023-01-19T19:47:18.296Z"
   },
   {
    "duration": 257,
    "start_time": "2023-01-19T19:47:26.190Z"
   },
   {
    "duration": 11,
    "start_time": "2023-01-19T19:47:26.449Z"
   },
   {
    "duration": 162,
    "start_time": "2023-01-19T19:47:26.462Z"
   },
   {
    "duration": 0,
    "start_time": "2023-01-19T19:47:26.625Z"
   },
   {
    "duration": 0,
    "start_time": "2023-01-19T19:47:26.626Z"
   },
   {
    "duration": 0,
    "start_time": "2023-01-19T19:47:26.637Z"
   },
   {
    "duration": 5,
    "start_time": "2023-01-19T19:47:28.898Z"
   },
   {
    "duration": 4,
    "start_time": "2023-01-19T19:48:07.339Z"
   },
   {
    "duration": 68,
    "start_time": "2023-01-19T19:48:15.720Z"
   },
   {
    "duration": 617,
    "start_time": "2023-01-19T19:48:45.168Z"
   },
   {
    "duration": 4,
    "start_time": "2023-01-19T19:49:00.876Z"
   },
   {
    "duration": 4,
    "start_time": "2023-01-19T19:50:22.402Z"
   },
   {
    "duration": 4,
    "start_time": "2023-01-19T19:50:42.750Z"
   },
   {
    "duration": 20,
    "start_time": "2023-01-19T19:50:45.439Z"
   },
   {
    "duration": 3024,
    "start_time": "2023-01-19T19:51:05.142Z"
   },
   {
    "duration": 10,
    "start_time": "2023-01-19T19:51:16.062Z"
   },
   {
    "duration": 13,
    "start_time": "2023-01-19T19:51:22.569Z"
   },
   {
    "duration": 3730,
    "start_time": "2023-01-19T19:51:32.984Z"
   },
   {
    "duration": 3497,
    "start_time": "2023-01-19T19:51:49.285Z"
   },
   {
    "duration": 12,
    "start_time": "2023-01-19T19:52:05.777Z"
   },
   {
    "duration": 3,
    "start_time": "2023-01-19T19:53:27.945Z"
   },
   {
    "duration": 15,
    "start_time": "2023-01-19T19:54:14.372Z"
   },
   {
    "duration": 16,
    "start_time": "2023-01-19T19:54:50.255Z"
   },
   {
    "duration": 35863,
    "start_time": "2023-01-19T19:55:01.847Z"
   },
   {
    "duration": 21,
    "start_time": "2023-01-19T19:55:38.759Z"
   },
   {
    "duration": 8,
    "start_time": "2023-01-19T19:55:49.108Z"
   },
   {
    "duration": 17,
    "start_time": "2023-01-19T19:55:55.341Z"
   },
   {
    "duration": 50892,
    "start_time": "2023-01-19T19:56:08.392Z"
   },
   {
    "duration": 26,
    "start_time": "2023-01-19T19:57:05.819Z"
   },
   {
    "duration": 327,
    "start_time": "2023-01-19T20:05:16.008Z"
   },
   {
    "duration": 4,
    "start_time": "2023-01-19T20:05:19.793Z"
   },
   {
    "duration": 26772,
    "start_time": "2023-01-19T20:05:20.611Z"
   },
   {
    "duration": 6,
    "start_time": "2023-01-19T20:06:00.707Z"
   },
   {
    "duration": 54047,
    "start_time": "2023-01-19T20:06:39.553Z"
   },
   {
    "duration": 350,
    "start_time": "2023-01-19T20:07:33.602Z"
   },
   {
    "duration": 0,
    "start_time": "2023-01-19T20:07:33.954Z"
   },
   {
    "duration": 2807,
    "start_time": "2023-01-19T20:08:13.799Z"
   },
   {
    "duration": 743,
    "start_time": "2023-01-19T20:08:16.608Z"
   },
   {
    "duration": 33,
    "start_time": "2023-01-19T20:08:17.353Z"
   },
   {
    "duration": 12,
    "start_time": "2023-01-19T20:08:17.388Z"
   },
   {
    "duration": 366,
    "start_time": "2023-01-19T20:08:17.402Z"
   },
   {
    "duration": 8,
    "start_time": "2023-01-19T20:08:17.770Z"
   },
   {
    "duration": 6,
    "start_time": "2023-01-19T20:08:17.780Z"
   },
   {
    "duration": 8606,
    "start_time": "2023-01-19T20:08:17.787Z"
   },
   {
    "duration": 254,
    "start_time": "2023-01-19T20:08:26.395Z"
   },
   {
    "duration": 12,
    "start_time": "2023-01-19T20:08:26.651Z"
   },
   {
    "duration": 6,
    "start_time": "2023-01-19T20:08:26.664Z"
   },
   {
    "duration": 13,
    "start_time": "2023-01-19T20:08:26.671Z"
   },
   {
    "duration": 3275,
    "start_time": "2023-01-19T20:08:26.685Z"
   },
   {
    "duration": 3,
    "start_time": "2023-01-19T20:08:29.962Z"
   },
   {
    "duration": 54968,
    "start_time": "2023-01-19T20:08:29.967Z"
   },
   {
    "duration": 470,
    "start_time": "2023-01-19T20:09:24.940Z"
   },
   {
    "duration": 0,
    "start_time": "2023-01-19T20:09:25.412Z"
   },
   {
    "duration": 17,
    "start_time": "2023-01-19T20:10:32.115Z"
   },
   {
    "duration": 4,
    "start_time": "2023-01-19T20:10:44.716Z"
   },
   {
    "duration": 18,
    "start_time": "2023-01-19T20:10:46.461Z"
   },
   {
    "duration": 73,
    "start_time": "2023-01-19T20:11:13.623Z"
   },
   {
    "duration": 12,
    "start_time": "2023-01-19T20:11:42.335Z"
   },
   {
    "duration": 33,
    "start_time": "2023-01-19T20:11:44.810Z"
   },
   {
    "duration": 18,
    "start_time": "2023-01-19T20:11:55.387Z"
   },
   {
    "duration": 2460,
    "start_time": "2023-01-21T16:47:34.307Z"
   },
   {
    "duration": 2997,
    "start_time": "2023-01-21T16:47:36.769Z"
   },
   {
    "duration": 27,
    "start_time": "2023-01-21T16:47:39.768Z"
   },
   {
    "duration": 31,
    "start_time": "2023-01-21T16:47:39.797Z"
   },
   {
    "duration": 464,
    "start_time": "2023-01-21T16:47:39.829Z"
   },
   {
    "duration": 8,
    "start_time": "2023-01-21T16:47:40.295Z"
   },
   {
    "duration": 7,
    "start_time": "2023-01-21T16:47:40.305Z"
   },
   {
    "duration": 7920,
    "start_time": "2023-01-21T16:47:40.313Z"
   },
   {
    "duration": 225,
    "start_time": "2023-01-21T16:47:48.236Z"
   },
   {
    "duration": 11,
    "start_time": "2023-01-21T16:47:48.462Z"
   },
   {
    "duration": 875,
    "start_time": "2023-01-21T16:47:48.474Z"
   },
   {
    "duration": 0,
    "start_time": "2023-01-21T16:47:49.351Z"
   },
   {
    "duration": 0,
    "start_time": "2023-01-21T16:47:49.352Z"
   },
   {
    "duration": 13,
    "start_time": "2023-01-21T16:48:43.492Z"
   },
   {
    "duration": 10,
    "start_time": "2023-01-21T16:49:30.135Z"
   },
   {
    "duration": 2313,
    "start_time": "2023-01-21T16:49:40.972Z"
   },
   {
    "duration": 676,
    "start_time": "2023-01-21T16:49:43.287Z"
   },
   {
    "duration": 23,
    "start_time": "2023-01-21T16:49:43.965Z"
   },
   {
    "duration": 12,
    "start_time": "2023-01-21T16:49:43.989Z"
   },
   {
    "duration": 310,
    "start_time": "2023-01-21T16:49:44.003Z"
   },
   {
    "duration": 8,
    "start_time": "2023-01-21T16:49:44.314Z"
   },
   {
    "duration": 13,
    "start_time": "2023-01-21T16:49:44.324Z"
   },
   {
    "duration": 7486,
    "start_time": "2023-01-21T16:49:44.339Z"
   },
   {
    "duration": 196,
    "start_time": "2023-01-21T16:49:51.827Z"
   },
   {
    "duration": 13,
    "start_time": "2023-01-21T16:49:52.025Z"
   },
   {
    "duration": 4,
    "start_time": "2023-01-21T16:49:52.039Z"
   },
   {
    "duration": 6,
    "start_time": "2023-01-21T16:49:52.045Z"
   },
   {
    "duration": 3012,
    "start_time": "2023-01-21T16:49:52.053Z"
   },
   {
    "duration": 28,
    "start_time": "2023-01-21T16:49:55.069Z"
   },
   {
    "duration": 3,
    "start_time": "2023-01-21T16:49:55.098Z"
   },
   {
    "duration": 50920,
    "start_time": "2023-01-21T16:49:55.102Z"
   },
   {
    "duration": 4,
    "start_time": "2023-01-21T16:50:46.024Z"
   },
   {
    "duration": 85,
    "start_time": "2023-01-21T16:50:46.029Z"
   },
   {
    "duration": 22,
    "start_time": "2023-01-21T16:50:46.116Z"
   },
   {
    "duration": 188,
    "start_time": "2023-01-21T16:50:46.140Z"
   },
   {
    "duration": 14,
    "start_time": "2023-01-21T16:50:54.424Z"
   },
   {
    "duration": 5,
    "start_time": "2023-01-21T17:02:26.869Z"
   },
   {
    "duration": 5,
    "start_time": "2023-01-21T17:02:34.501Z"
   },
   {
    "duration": 193,
    "start_time": "2023-01-21T17:02:56.075Z"
   },
   {
    "duration": 2653,
    "start_time": "2023-01-21T17:04:04.121Z"
   },
   {
    "duration": 3127,
    "start_time": "2023-01-21T17:04:06.776Z"
   },
   {
    "duration": 30,
    "start_time": "2023-01-21T17:04:09.905Z"
   },
   {
    "duration": 12,
    "start_time": "2023-01-21T17:04:09.937Z"
   },
   {
    "duration": 310,
    "start_time": "2023-01-21T17:04:09.952Z"
   },
   {
    "duration": 7,
    "start_time": "2023-01-21T17:04:10.264Z"
   },
   {
    "duration": 6,
    "start_time": "2023-01-21T17:04:10.273Z"
   },
   {
    "duration": 7593,
    "start_time": "2023-01-21T17:04:10.281Z"
   },
   {
    "duration": 258,
    "start_time": "2023-01-21T17:04:17.876Z"
   },
   {
    "duration": 11,
    "start_time": "2023-01-21T17:04:18.136Z"
   },
   {
    "duration": 5,
    "start_time": "2023-01-21T17:04:18.149Z"
   },
   {
    "duration": 3219,
    "start_time": "2023-01-21T17:04:18.156Z"
   },
   {
    "duration": 29,
    "start_time": "2023-01-21T17:04:21.377Z"
   },
   {
    "duration": 3,
    "start_time": "2023-01-21T17:04:21.408Z"
   },
   {
    "duration": 50897,
    "start_time": "2023-01-21T17:04:21.412Z"
   },
   {
    "duration": 3,
    "start_time": "2023-01-21T17:05:12.311Z"
   },
   {
    "duration": 104,
    "start_time": "2023-01-21T17:05:12.315Z"
   },
   {
    "duration": 34,
    "start_time": "2023-01-21T17:05:12.422Z"
   },
   {
    "duration": 6,
    "start_time": "2023-01-21T17:05:12.458Z"
   },
   {
    "duration": 52,
    "start_time": "2023-01-21T17:14:16.147Z"
   },
   {
    "duration": 2551,
    "start_time": "2023-01-21T17:14:26.825Z"
   },
   {
    "duration": 2312,
    "start_time": "2023-01-21T17:14:41.821Z"
   },
   {
    "duration": 3045,
    "start_time": "2023-01-21T17:14:44.135Z"
   },
   {
    "duration": 25,
    "start_time": "2023-01-21T17:14:47.182Z"
   },
   {
    "duration": 19,
    "start_time": "2023-01-21T17:14:47.208Z"
   },
   {
    "duration": 301,
    "start_time": "2023-01-21T17:14:47.229Z"
   },
   {
    "duration": 8,
    "start_time": "2023-01-21T17:14:47.536Z"
   },
   {
    "duration": 5,
    "start_time": "2023-01-21T17:14:47.545Z"
   },
   {
    "duration": 7751,
    "start_time": "2023-01-21T17:14:47.551Z"
   },
   {
    "duration": 185,
    "start_time": "2023-01-21T17:14:55.304Z"
   },
   {
    "duration": 10,
    "start_time": "2023-01-21T17:14:55.491Z"
   },
   {
    "duration": 12,
    "start_time": "2023-01-21T17:14:55.503Z"
   },
   {
    "duration": 3077,
    "start_time": "2023-01-21T17:14:55.516Z"
   },
   {
    "duration": 3,
    "start_time": "2023-01-21T17:14:58.594Z"
   },
   {
    "duration": 53513,
    "start_time": "2023-01-21T17:14:58.600Z"
   },
   {
    "duration": 3,
    "start_time": "2023-01-21T17:15:52.114Z"
   },
   {
    "duration": 87,
    "start_time": "2023-01-21T17:15:52.118Z"
   },
   {
    "duration": 15,
    "start_time": "2023-01-21T17:15:52.206Z"
   },
   {
    "duration": 14,
    "start_time": "2023-01-21T17:15:52.223Z"
   },
   {
    "duration": 60,
    "start_time": "2023-01-21T17:15:52.238Z"
   },
   {
    "duration": 10,
    "start_time": "2023-01-21T17:16:54.342Z"
   },
   {
    "duration": 9,
    "start_time": "2023-01-21T17:17:05.024Z"
   },
   {
    "duration": 6,
    "start_time": "2023-01-21T17:17:38.635Z"
   },
   {
    "duration": 150,
    "start_time": "2023-01-21T17:18:07.431Z"
   },
   {
    "duration": 3,
    "start_time": "2023-01-21T17:20:32.695Z"
   },
   {
    "duration": 5,
    "start_time": "2023-01-21T17:20:36.672Z"
   },
   {
    "duration": 5,
    "start_time": "2023-01-21T17:20:40.684Z"
   },
   {
    "duration": 11,
    "start_time": "2023-01-21T17:21:15.895Z"
   },
   {
    "duration": 6,
    "start_time": "2023-01-21T17:21:24.665Z"
   },
   {
    "duration": 13,
    "start_time": "2023-01-21T17:22:04.242Z"
   },
   {
    "duration": 9,
    "start_time": "2023-01-21T17:22:13.046Z"
   },
   {
    "duration": 458,
    "start_time": "2023-01-21T17:24:39.790Z"
   },
   {
    "duration": 422,
    "start_time": "2023-01-21T17:25:01.478Z"
   },
   {
    "duration": 3,
    "start_time": "2023-01-21T17:25:13.115Z"
   },
   {
    "duration": 728,
    "start_time": "2023-01-21T17:25:22.379Z"
   },
   {
    "duration": 44,
    "start_time": "2023-01-21T17:25:24.882Z"
   },
   {
    "duration": 28,
    "start_time": "2023-01-21T17:25:32.730Z"
   },
   {
    "duration": 11,
    "start_time": "2023-01-21T17:25:36.198Z"
   },
   {
    "duration": 2357,
    "start_time": "2023-01-21T17:26:06.540Z"
   },
   {
    "duration": 699,
    "start_time": "2023-01-21T17:26:08.899Z"
   },
   {
    "duration": 26,
    "start_time": "2023-01-21T17:26:09.599Z"
   },
   {
    "duration": 21,
    "start_time": "2023-01-21T17:26:09.626Z"
   },
   {
    "duration": 293,
    "start_time": "2023-01-21T17:26:09.650Z"
   },
   {
    "duration": 8,
    "start_time": "2023-01-21T17:26:09.945Z"
   },
   {
    "duration": 14,
    "start_time": "2023-01-21T17:26:09.954Z"
   },
   {
    "duration": 7648,
    "start_time": "2023-01-21T17:26:09.970Z"
   },
   {
    "duration": 199,
    "start_time": "2023-01-21T17:26:17.620Z"
   },
   {
    "duration": 11,
    "start_time": "2023-01-21T17:26:17.820Z"
   },
   {
    "duration": 34,
    "start_time": "2023-01-21T17:26:17.838Z"
   },
   {
    "duration": 3123,
    "start_time": "2023-01-21T17:26:17.874Z"
   },
   {
    "duration": 3,
    "start_time": "2023-01-21T17:26:20.999Z"
   },
   {
    "duration": 51598,
    "start_time": "2023-01-21T17:26:21.016Z"
   },
   {
    "duration": 3,
    "start_time": "2023-01-21T17:27:12.616Z"
   },
   {
    "duration": 93,
    "start_time": "2023-01-21T17:27:12.621Z"
   },
   {
    "duration": 14,
    "start_time": "2023-01-21T17:27:12.715Z"
   },
   {
    "duration": 8,
    "start_time": "2023-01-21T17:27:12.731Z"
   },
   {
    "duration": 61,
    "start_time": "2023-01-21T17:27:12.740Z"
   },
   {
    "duration": 34,
    "start_time": "2023-01-21T17:27:12.803Z"
   },
   {
    "duration": 2,
    "start_time": "2023-01-21T17:27:12.839Z"
   },
   {
    "duration": 1439,
    "start_time": "2023-01-21T17:27:12.843Z"
   },
   {
    "duration": 156,
    "start_time": "2023-01-21T17:27:14.283Z"
   },
   {
    "duration": 0,
    "start_time": "2023-01-21T17:27:14.441Z"
   },
   {
    "duration": 0,
    "start_time": "2023-01-21T17:27:14.443Z"
   },
   {
    "duration": 4200,
    "start_time": "2023-01-21T17:28:26.353Z"
   },
   {
    "duration": 44,
    "start_time": "2023-01-21T17:28:39.476Z"
   },
   {
    "duration": 2516,
    "start_time": "2023-01-21T17:29:03.402Z"
   },
   {
    "duration": 3228,
    "start_time": "2023-01-21T17:29:05.920Z"
   },
   {
    "duration": 31,
    "start_time": "2023-01-21T17:29:09.149Z"
   },
   {
    "duration": 11,
    "start_time": "2023-01-21T17:29:09.182Z"
   },
   {
    "duration": 298,
    "start_time": "2023-01-21T17:29:09.195Z"
   },
   {
    "duration": 6,
    "start_time": "2023-01-21T17:29:09.495Z"
   },
   {
    "duration": 9,
    "start_time": "2023-01-21T17:29:09.503Z"
   },
   {
    "duration": 7530,
    "start_time": "2023-01-21T17:29:09.513Z"
   },
   {
    "duration": 202,
    "start_time": "2023-01-21T17:29:17.045Z"
   },
   {
    "duration": 11,
    "start_time": "2023-01-21T17:29:17.249Z"
   },
   {
    "duration": 15,
    "start_time": "2023-01-21T17:29:17.261Z"
   },
   {
    "duration": 3122,
    "start_time": "2023-01-21T17:29:17.277Z"
   },
   {
    "duration": 16,
    "start_time": "2023-01-21T17:29:20.401Z"
   },
   {
    "duration": 50505,
    "start_time": "2023-01-21T17:29:20.419Z"
   },
   {
    "duration": 2,
    "start_time": "2023-01-21T17:30:10.926Z"
   },
   {
    "duration": 89,
    "start_time": "2023-01-21T17:30:10.930Z"
   },
   {
    "duration": 25,
    "start_time": "2023-01-21T17:30:11.021Z"
   },
   {
    "duration": 8,
    "start_time": "2023-01-21T17:30:11.048Z"
   },
   {
    "duration": 87,
    "start_time": "2023-01-21T17:30:11.057Z"
   },
   {
    "duration": 16,
    "start_time": "2023-01-21T17:30:11.146Z"
   },
   {
    "duration": 2,
    "start_time": "2023-01-21T17:30:11.164Z"
   },
   {
    "duration": 1115,
    "start_time": "2023-01-21T17:30:11.168Z"
   },
   {
    "duration": 2917,
    "start_time": "2023-01-21T17:30:12.284Z"
   },
   {
    "duration": 2566,
    "start_time": "2023-01-21T17:31:40.108Z"
   },
   {
    "duration": 2973,
    "start_time": "2023-01-21T17:31:42.676Z"
   },
   {
    "duration": 32,
    "start_time": "2023-01-21T17:31:45.652Z"
   },
   {
    "duration": 13,
    "start_time": "2023-01-21T17:31:45.687Z"
   },
   {
    "duration": 341,
    "start_time": "2023-01-21T17:31:45.701Z"
   },
   {
    "duration": 7,
    "start_time": "2023-01-21T17:31:46.043Z"
   },
   {
    "duration": 4,
    "start_time": "2023-01-21T17:31:46.052Z"
   },
   {
    "duration": 7522,
    "start_time": "2023-01-21T17:31:46.058Z"
   },
   {
    "duration": 211,
    "start_time": "2023-01-21T17:31:53.582Z"
   },
   {
    "duration": 10,
    "start_time": "2023-01-21T17:31:53.796Z"
   },
   {
    "duration": 7,
    "start_time": "2023-01-21T17:31:53.808Z"
   },
   {
    "duration": 3112,
    "start_time": "2023-01-21T17:31:53.816Z"
   },
   {
    "duration": 21,
    "start_time": "2023-01-21T17:31:56.929Z"
   },
   {
    "duration": 52533,
    "start_time": "2023-01-21T17:31:56.952Z"
   },
   {
    "duration": 3,
    "start_time": "2023-01-21T17:32:49.486Z"
   },
   {
    "duration": 93,
    "start_time": "2023-01-21T17:32:49.490Z"
   },
   {
    "duration": 20,
    "start_time": "2023-01-21T17:32:49.585Z"
   },
   {
    "duration": 8,
    "start_time": "2023-01-21T17:32:49.607Z"
   },
   {
    "duration": 69,
    "start_time": "2023-01-21T17:32:49.616Z"
   },
   {
    "duration": 14,
    "start_time": "2023-01-21T17:32:49.687Z"
   },
   {
    "duration": 3,
    "start_time": "2023-01-21T17:32:49.702Z"
   },
   {
    "duration": 899,
    "start_time": "2023-01-21T17:32:49.706Z"
   },
   {
    "duration": 2027,
    "start_time": "2023-01-21T17:32:50.607Z"
   },
   {
    "duration": 2451,
    "start_time": "2023-01-21T17:34:06.821Z"
   },
   {
    "duration": 3043,
    "start_time": "2023-01-21T17:34:09.274Z"
   },
   {
    "duration": 35,
    "start_time": "2023-01-21T17:34:12.318Z"
   },
   {
    "duration": 15,
    "start_time": "2023-01-21T17:34:12.355Z"
   },
   {
    "duration": 355,
    "start_time": "2023-01-21T17:34:12.372Z"
   },
   {
    "duration": 13,
    "start_time": "2023-01-21T17:34:12.729Z"
   },
   {
    "duration": 5,
    "start_time": "2023-01-21T17:34:12.744Z"
   },
   {
    "duration": 8383,
    "start_time": "2023-01-21T17:34:12.750Z"
   },
   {
    "duration": 224,
    "start_time": "2023-01-21T17:34:21.137Z"
   },
   {
    "duration": 11,
    "start_time": "2023-01-21T17:34:21.363Z"
   },
   {
    "duration": 5,
    "start_time": "2023-01-21T17:34:21.375Z"
   },
   {
    "duration": 3218,
    "start_time": "2023-01-21T17:34:21.381Z"
   },
   {
    "duration": 4,
    "start_time": "2023-01-21T17:34:24.600Z"
   },
   {
    "duration": 51162,
    "start_time": "2023-01-21T17:34:24.620Z"
   },
   {
    "duration": 3,
    "start_time": "2023-01-21T17:35:15.786Z"
   },
   {
    "duration": 139,
    "start_time": "2023-01-21T17:35:15.791Z"
   },
   {
    "duration": 27,
    "start_time": "2023-01-21T17:35:15.932Z"
   },
   {
    "duration": 6,
    "start_time": "2023-01-21T17:35:15.960Z"
   },
   {
    "duration": 127,
    "start_time": "2023-01-21T17:35:15.968Z"
   },
   {
    "duration": 16,
    "start_time": "2023-01-21T17:35:16.097Z"
   },
   {
    "duration": 4,
    "start_time": "2023-01-21T17:35:16.115Z"
   },
   {
    "duration": 853,
    "start_time": "2023-01-21T17:35:16.121Z"
   },
   {
    "duration": 2072,
    "start_time": "2023-01-21T17:35:16.976Z"
   },
   {
    "duration": 2457,
    "start_time": "2023-01-21T17:35:58.178Z"
   },
   {
    "duration": 3159,
    "start_time": "2023-01-21T17:36:00.638Z"
   },
   {
    "duration": 27,
    "start_time": "2023-01-21T17:36:03.798Z"
   },
   {
    "duration": 15,
    "start_time": "2023-01-21T17:36:03.827Z"
   },
   {
    "duration": 309,
    "start_time": "2023-01-21T17:36:03.844Z"
   },
   {
    "duration": 8,
    "start_time": "2023-01-21T17:36:04.155Z"
   },
   {
    "duration": 4,
    "start_time": "2023-01-21T17:36:04.165Z"
   },
   {
    "duration": 7584,
    "start_time": "2023-01-21T17:36:04.171Z"
   },
   {
    "duration": 220,
    "start_time": "2023-01-21T17:36:11.757Z"
   },
   {
    "duration": 11,
    "start_time": "2023-01-21T17:36:11.979Z"
   },
   {
    "duration": 9,
    "start_time": "2023-01-21T17:36:11.992Z"
   },
   {
    "duration": 3223,
    "start_time": "2023-01-21T17:36:12.003Z"
   },
   {
    "duration": 16,
    "start_time": "2023-01-21T17:36:15.227Z"
   },
   {
    "duration": 52338,
    "start_time": "2023-01-21T17:36:15.245Z"
   },
   {
    "duration": 3,
    "start_time": "2023-01-21T17:37:07.585Z"
   },
   {
    "duration": 94,
    "start_time": "2023-01-21T17:37:07.589Z"
   },
   {
    "duration": 20,
    "start_time": "2023-01-21T17:37:07.685Z"
   },
   {
    "duration": 9,
    "start_time": "2023-01-21T17:37:07.707Z"
   },
   {
    "duration": 73,
    "start_time": "2023-01-21T17:37:07.717Z"
   },
   {
    "duration": 10,
    "start_time": "2023-01-21T17:37:07.792Z"
   },
   {
    "duration": 8,
    "start_time": "2023-01-21T17:37:07.803Z"
   },
   {
    "duration": 585,
    "start_time": "2023-01-21T17:37:07.812Z"
   },
   {
    "duration": 819,
    "start_time": "2023-01-21T17:37:08.399Z"
   },
   {
    "duration": 1532,
    "start_time": "2023-01-21T17:37:09.220Z"
   },
   {
    "duration": 62,
    "start_time": "2023-01-21T17:37:10.753Z"
   },
   {
    "duration": 78987,
    "start_time": "2023-01-21T17:38:25.958Z"
   },
   {
    "duration": 2442,
    "start_time": "2023-01-21T17:41:33.660Z"
   },
   {
    "duration": 3086,
    "start_time": "2023-01-21T17:41:36.104Z"
   },
   {
    "duration": 28,
    "start_time": "2023-01-21T17:41:39.191Z"
   },
   {
    "duration": 43,
    "start_time": "2023-01-21T17:41:39.221Z"
   },
   {
    "duration": 299,
    "start_time": "2023-01-21T17:41:39.267Z"
   },
   {
    "duration": 9,
    "start_time": "2023-01-21T17:41:39.568Z"
   },
   {
    "duration": 22,
    "start_time": "2023-01-21T17:41:39.579Z"
   },
   {
    "duration": 7430,
    "start_time": "2023-01-21T17:41:39.602Z"
   },
   {
    "duration": 208,
    "start_time": "2023-01-21T17:41:47.034Z"
   },
   {
    "duration": 12,
    "start_time": "2023-01-21T17:41:47.244Z"
   },
   {
    "duration": 6,
    "start_time": "2023-01-21T17:41:47.257Z"
   },
   {
    "duration": 3140,
    "start_time": "2023-01-21T17:41:47.264Z"
   },
   {
    "duration": 15,
    "start_time": "2023-01-21T17:41:50.406Z"
   },
   {
    "duration": 50334,
    "start_time": "2023-01-21T17:41:50.424Z"
   },
   {
    "duration": 3,
    "start_time": "2023-01-21T17:42:40.759Z"
   },
   {
    "duration": 89,
    "start_time": "2023-01-21T17:42:40.764Z"
   },
   {
    "duration": 21,
    "start_time": "2023-01-21T17:42:40.855Z"
   },
   {
    "duration": 4,
    "start_time": "2023-01-21T17:42:40.877Z"
   },
   {
    "duration": 75,
    "start_time": "2023-01-21T17:42:40.882Z"
   },
   {
    "duration": 10,
    "start_time": "2023-01-21T17:42:40.959Z"
   },
   {
    "duration": 7,
    "start_time": "2023-01-21T17:42:40.970Z"
   },
   {
    "duration": 444,
    "start_time": "2023-01-21T17:42:40.978Z"
   },
   {
    "duration": 828,
    "start_time": "2023-01-21T17:42:41.423Z"
   },
   {
    "duration": 1597,
    "start_time": "2023-01-21T17:42:42.253Z"
   },
   {
    "duration": 62886,
    "start_time": "2023-01-21T17:42:43.852Z"
   },
   {
    "duration": 827,
    "start_time": "2023-01-21T17:43:46.739Z"
   },
   {
    "duration": 2487,
    "start_time": "2023-01-21T17:47:56.847Z"
   },
   {
    "duration": 3051,
    "start_time": "2023-01-21T17:47:59.336Z"
   },
   {
    "duration": 35,
    "start_time": "2023-01-21T17:48:02.389Z"
   },
   {
    "duration": 16,
    "start_time": "2023-01-21T17:48:02.426Z"
   },
   {
    "duration": 328,
    "start_time": "2023-01-21T17:48:02.444Z"
   },
   {
    "duration": 7,
    "start_time": "2023-01-21T17:48:02.774Z"
   },
   {
    "duration": 12,
    "start_time": "2023-01-21T17:48:02.782Z"
   },
   {
    "duration": 7394,
    "start_time": "2023-01-21T17:48:02.795Z"
   },
   {
    "duration": 208,
    "start_time": "2023-01-21T17:48:10.191Z"
   },
   {
    "duration": 10,
    "start_time": "2023-01-21T17:48:10.401Z"
   },
   {
    "duration": 4,
    "start_time": "2023-01-21T17:48:10.412Z"
   },
   {
    "duration": 3167,
    "start_time": "2023-01-21T17:48:10.418Z"
   },
   {
    "duration": 3,
    "start_time": "2023-01-21T17:48:13.587Z"
   },
   {
    "duration": 50802,
    "start_time": "2023-01-21T17:48:13.605Z"
   },
   {
    "duration": 2,
    "start_time": "2023-01-21T17:49:04.409Z"
   },
   {
    "duration": 98,
    "start_time": "2023-01-21T17:49:04.413Z"
   },
   {
    "duration": 14,
    "start_time": "2023-01-21T17:49:04.513Z"
   },
   {
    "duration": 3,
    "start_time": "2023-01-21T17:49:04.538Z"
   },
   {
    "duration": 69,
    "start_time": "2023-01-21T17:49:04.543Z"
   },
   {
    "duration": 23,
    "start_time": "2023-01-21T17:49:04.614Z"
   },
   {
    "duration": 6,
    "start_time": "2023-01-21T17:49:04.638Z"
   },
   {
    "duration": 335,
    "start_time": "2023-01-21T17:49:04.645Z"
   },
   {
    "duration": 833,
    "start_time": "2023-01-21T17:49:04.982Z"
   },
   {
    "duration": 1503,
    "start_time": "2023-01-21T17:49:05.816Z"
   },
   {
    "duration": 76516,
    "start_time": "2023-01-21T17:49:07.321Z"
   },
   {
    "duration": 485,
    "start_time": "2023-01-21T17:50:23.839Z"
   },
   {
    "duration": 740,
    "start_time": "2023-01-21T17:50:24.326Z"
   },
   {
    "duration": 1073,
    "start_time": "2023-01-21T17:50:25.068Z"
   },
   {
    "duration": 8,
    "start_time": "2023-01-21T17:50:26.143Z"
   },
   {
    "duration": 4,
    "start_time": "2023-01-21T17:52:05.774Z"
   },
   {
    "duration": 42,
    "start_time": "2023-01-21T17:52:12.570Z"
   },
   {
    "duration": 3,
    "start_time": "2023-01-21T17:52:27.482Z"
   },
   {
    "duration": 35,
    "start_time": "2023-01-21T17:53:54.966Z"
   },
   {
    "duration": 74,
    "start_time": "2023-01-21T17:54:03.692Z"
   },
   {
    "duration": 12,
    "start_time": "2023-01-21T17:54:05.385Z"
   },
   {
    "duration": 8,
    "start_time": "2023-01-21T17:54:05.659Z"
   },
   {
    "duration": 42,
    "start_time": "2023-01-21T17:54:12.756Z"
   },
   {
    "duration": 2513,
    "start_time": "2023-01-21T17:54:19.839Z"
   },
   {
    "duration": 3029,
    "start_time": "2023-01-21T17:54:22.354Z"
   },
   {
    "duration": 29,
    "start_time": "2023-01-21T17:54:25.384Z"
   },
   {
    "duration": 15,
    "start_time": "2023-01-21T17:54:25.415Z"
   },
   {
    "duration": 351,
    "start_time": "2023-01-21T17:54:25.438Z"
   },
   {
    "duration": 7,
    "start_time": "2023-01-21T17:54:25.791Z"
   },
   {
    "duration": 6,
    "start_time": "2023-01-21T17:54:25.799Z"
   },
   {
    "duration": 7647,
    "start_time": "2023-01-21T17:54:25.806Z"
   },
   {
    "duration": 241,
    "start_time": "2023-01-21T17:54:33.455Z"
   },
   {
    "duration": 11,
    "start_time": "2023-01-21T17:54:33.698Z"
   },
   {
    "duration": 5,
    "start_time": "2023-01-21T17:54:33.711Z"
   },
   {
    "duration": 3195,
    "start_time": "2023-01-21T17:54:33.717Z"
   },
   {
    "duration": 3,
    "start_time": "2023-01-21T17:54:36.914Z"
   },
   {
    "duration": 50525,
    "start_time": "2023-01-21T17:54:36.938Z"
   },
   {
    "duration": 3,
    "start_time": "2023-01-21T17:55:27.464Z"
   },
   {
    "duration": 95,
    "start_time": "2023-01-21T17:55:27.468Z"
   },
   {
    "duration": 15,
    "start_time": "2023-01-21T17:55:27.564Z"
   },
   {
    "duration": 21,
    "start_time": "2023-01-21T17:55:27.581Z"
   },
   {
    "duration": 65,
    "start_time": "2023-01-21T17:55:27.603Z"
   },
   {
    "duration": 10,
    "start_time": "2023-01-21T17:55:27.670Z"
   },
   {
    "duration": 16,
    "start_time": "2023-01-21T17:55:27.681Z"
   },
   {
    "duration": 339,
    "start_time": "2023-01-21T17:55:27.698Z"
   },
   {
    "duration": 835,
    "start_time": "2023-01-21T17:55:28.039Z"
   },
   {
    "duration": 1540,
    "start_time": "2023-01-21T17:55:28.876Z"
   },
   {
    "duration": 68932,
    "start_time": "2023-01-21T17:55:30.418Z"
   },
   {
    "duration": 87,
    "start_time": "2023-01-21T17:56:39.352Z"
   },
   {
    "duration": 227,
    "start_time": "2023-01-21T17:56:39.441Z"
   },
   {
    "duration": 0,
    "start_time": "2023-01-21T17:56:39.669Z"
   },
   {
    "duration": 0,
    "start_time": "2023-01-21T17:56:39.671Z"
   },
   {
    "duration": 0,
    "start_time": "2023-01-21T17:56:39.672Z"
   },
   {
    "duration": 0,
    "start_time": "2023-01-21T17:56:39.674Z"
   },
   {
    "duration": 0,
    "start_time": "2023-01-21T17:56:39.675Z"
   },
   {
    "duration": 48,
    "start_time": "2023-01-21T17:58:27.696Z"
   },
   {
    "duration": 41,
    "start_time": "2023-01-21T17:59:46.735Z"
   },
   {
    "duration": 2435,
    "start_time": "2023-01-21T17:59:53.913Z"
   },
   {
    "duration": 3018,
    "start_time": "2023-01-21T17:59:56.349Z"
   },
   {
    "duration": 22,
    "start_time": "2023-01-21T17:59:59.368Z"
   },
   {
    "duration": 12,
    "start_time": "2023-01-21T17:59:59.391Z"
   },
   {
    "duration": 298,
    "start_time": "2023-01-21T17:59:59.405Z"
   },
   {
    "duration": 6,
    "start_time": "2023-01-21T17:59:59.705Z"
   },
   {
    "duration": 4,
    "start_time": "2023-01-21T17:59:59.713Z"
   },
   {
    "duration": 7438,
    "start_time": "2023-01-21T17:59:59.718Z"
   },
   {
    "duration": 169,
    "start_time": "2023-01-21T18:00:07.158Z"
   },
   {
    "duration": 15,
    "start_time": "2023-01-21T18:00:07.329Z"
   },
   {
    "duration": 6,
    "start_time": "2023-01-21T18:00:07.345Z"
   },
   {
    "duration": 3046,
    "start_time": "2023-01-21T18:00:07.352Z"
   },
   {
    "duration": 3,
    "start_time": "2023-01-21T18:00:10.400Z"
   },
   {
    "duration": 50297,
    "start_time": "2023-01-21T18:00:10.419Z"
   },
   {
    "duration": 4,
    "start_time": "2023-01-21T18:01:00.718Z"
   },
   {
    "duration": 135,
    "start_time": "2023-01-21T18:01:00.723Z"
   },
   {
    "duration": 16,
    "start_time": "2023-01-21T18:01:00.859Z"
   },
   {
    "duration": 23,
    "start_time": "2023-01-21T18:01:00.876Z"
   },
   {
    "duration": 124,
    "start_time": "2023-01-21T18:01:00.900Z"
   },
   {
    "duration": 11,
    "start_time": "2023-01-21T18:01:01.026Z"
   },
   {
    "duration": 54,
    "start_time": "2023-01-21T18:01:01.038Z"
   },
   {
    "duration": 364,
    "start_time": "2023-01-21T18:01:01.094Z"
   },
   {
    "duration": 849,
    "start_time": "2023-01-21T18:01:01.459Z"
   },
   {
    "duration": 1603,
    "start_time": "2023-01-21T18:01:02.310Z"
   },
   {
    "duration": 57831,
    "start_time": "2023-01-21T18:01:03.915Z"
   },
   {
    "duration": 1581,
    "start_time": "2023-01-21T18:02:01.838Z"
   },
   {
    "duration": 158,
    "start_time": "2023-01-21T18:02:03.421Z"
   },
   {
    "duration": 0,
    "start_time": "2023-01-21T18:02:03.581Z"
   },
   {
    "duration": 0,
    "start_time": "2023-01-21T18:02:03.582Z"
   },
   {
    "duration": 0,
    "start_time": "2023-01-21T18:02:03.583Z"
   },
   {
    "duration": 0,
    "start_time": "2023-01-21T18:02:03.585Z"
   },
   {
    "duration": 0,
    "start_time": "2023-01-21T18:02:03.586Z"
   },
   {
    "duration": 47,
    "start_time": "2023-01-21T18:03:47.005Z"
   },
   {
    "duration": 5,
    "start_time": "2023-01-21T18:04:10.102Z"
   },
   {
    "duration": 442,
    "start_time": "2023-01-21T18:04:18.308Z"
   },
   {
    "duration": 767,
    "start_time": "2023-01-21T18:04:21.553Z"
   },
   {
    "duration": 43,
    "start_time": "2023-01-21T18:04:23.224Z"
   },
   {
    "duration": 5,
    "start_time": "2023-01-21T18:04:30.116Z"
   },
   {
    "duration": 5,
    "start_time": "2023-01-21T18:04:43.693Z"
   },
   {
    "duration": 905,
    "start_time": "2023-01-21T18:04:59.537Z"
   },
   {
    "duration": 96,
    "start_time": "2023-01-21T18:05:00.444Z"
   },
   {
    "duration": 4,
    "start_time": "2023-01-21T18:05:05.499Z"
   },
   {
    "duration": 7,
    "start_time": "2023-01-21T18:06:13.454Z"
   },
   {
    "duration": 59,
    "start_time": "2023-01-21T18:06:56.907Z"
   },
   {
    "duration": 12,
    "start_time": "2023-01-21T18:06:58.921Z"
   },
   {
    "duration": 6,
    "start_time": "2023-01-21T18:07:00.043Z"
   },
   {
    "duration": 5,
    "start_time": "2023-01-21T18:07:06.597Z"
   },
   {
    "duration": 2483,
    "start_time": "2023-01-21T18:07:57.242Z"
   },
   {
    "duration": 3094,
    "start_time": "2023-01-21T18:07:59.727Z"
   },
   {
    "duration": 29,
    "start_time": "2023-01-21T18:08:02.823Z"
   },
   {
    "duration": 34,
    "start_time": "2023-01-21T18:08:02.855Z"
   },
   {
    "duration": 311,
    "start_time": "2023-01-21T18:08:02.891Z"
   },
   {
    "duration": 7,
    "start_time": "2023-01-21T18:08:03.204Z"
   },
   {
    "duration": 4,
    "start_time": "2023-01-21T18:08:03.213Z"
   },
   {
    "duration": 7389,
    "start_time": "2023-01-21T18:08:03.218Z"
   },
   {
    "duration": 203,
    "start_time": "2023-01-21T18:08:10.609Z"
   },
   {
    "duration": 10,
    "start_time": "2023-01-21T18:08:10.815Z"
   },
   {
    "duration": 13,
    "start_time": "2023-01-21T18:08:10.827Z"
   },
   {
    "duration": 3133,
    "start_time": "2023-01-21T18:08:10.841Z"
   },
   {
    "duration": 3,
    "start_time": "2023-01-21T18:08:13.976Z"
   },
   {
    "duration": 50022,
    "start_time": "2023-01-21T18:08:13.980Z"
   },
   {
    "duration": 2,
    "start_time": "2023-01-21T18:09:04.004Z"
   },
   {
    "duration": 99,
    "start_time": "2023-01-21T18:09:04.008Z"
   },
   {
    "duration": 17,
    "start_time": "2023-01-21T18:09:04.109Z"
   },
   {
    "duration": 4,
    "start_time": "2023-01-21T18:09:04.138Z"
   },
   {
    "duration": 60,
    "start_time": "2023-01-21T18:09:04.143Z"
   },
   {
    "duration": 10,
    "start_time": "2023-01-21T18:09:04.205Z"
   },
   {
    "duration": 24,
    "start_time": "2023-01-21T18:09:04.217Z"
   },
   {
    "duration": 329,
    "start_time": "2023-01-21T18:09:04.242Z"
   },
   {
    "duration": 145,
    "start_time": "2023-01-21T18:09:04.573Z"
   },
   {
    "duration": 0,
    "start_time": "2023-01-21T18:09:04.720Z"
   },
   {
    "duration": 0,
    "start_time": "2023-01-21T18:09:04.721Z"
   },
   {
    "duration": 0,
    "start_time": "2023-01-21T18:09:04.722Z"
   },
   {
    "duration": 0,
    "start_time": "2023-01-21T18:09:04.723Z"
   },
   {
    "duration": 0,
    "start_time": "2023-01-21T18:09:04.724Z"
   },
   {
    "duration": 0,
    "start_time": "2023-01-21T18:09:04.725Z"
   },
   {
    "duration": 0,
    "start_time": "2023-01-21T18:09:04.737Z"
   },
   {
    "duration": 3,
    "start_time": "2023-01-21T18:10:32.218Z"
   },
   {
    "duration": 3,
    "start_time": "2023-01-21T18:10:38.422Z"
   },
   {
    "duration": 831,
    "start_time": "2023-01-21T18:10:43.748Z"
   },
   {
    "duration": 1553,
    "start_time": "2023-01-21T18:10:49.168Z"
   },
   {
    "duration": 58,
    "start_time": "2023-01-21T18:10:53.326Z"
   },
   {
    "duration": 63716,
    "start_time": "2023-01-21T18:11:04.234Z"
   },
   {
    "duration": 447,
    "start_time": "2023-01-21T18:12:07.952Z"
   },
   {
    "duration": 2461,
    "start_time": "2023-01-21T18:13:19.030Z"
   },
   {
    "duration": 3156,
    "start_time": "2023-01-21T18:13:21.493Z"
   },
   {
    "duration": 30,
    "start_time": "2023-01-21T18:13:24.651Z"
   },
   {
    "duration": 13,
    "start_time": "2023-01-21T18:13:24.683Z"
   },
   {
    "duration": 318,
    "start_time": "2023-01-21T18:13:24.698Z"
   },
   {
    "duration": 8,
    "start_time": "2023-01-21T18:13:25.017Z"
   },
   {
    "duration": 12,
    "start_time": "2023-01-21T18:13:25.027Z"
   },
   {
    "duration": 7634,
    "start_time": "2023-01-21T18:13:25.040Z"
   },
   {
    "duration": 233,
    "start_time": "2023-01-21T18:13:32.676Z"
   },
   {
    "duration": 11,
    "start_time": "2023-01-21T18:13:32.911Z"
   },
   {
    "duration": 14,
    "start_time": "2023-01-21T18:13:32.924Z"
   },
   {
    "duration": 3163,
    "start_time": "2023-01-21T18:13:32.939Z"
   },
   {
    "duration": 3,
    "start_time": "2023-01-21T18:13:36.104Z"
   },
   {
    "duration": 52100,
    "start_time": "2023-01-21T18:13:36.122Z"
   },
   {
    "duration": 3,
    "start_time": "2023-01-21T18:14:28.224Z"
   },
   {
    "duration": 111,
    "start_time": "2023-01-21T18:14:28.228Z"
   },
   {
    "duration": 15,
    "start_time": "2023-01-21T18:14:28.341Z"
   },
   {
    "duration": 16,
    "start_time": "2023-01-21T18:14:28.358Z"
   },
   {
    "duration": 94,
    "start_time": "2023-01-21T18:14:28.376Z"
   },
   {
    "duration": 10,
    "start_time": "2023-01-21T18:14:28.471Z"
   },
   {
    "duration": 45,
    "start_time": "2023-01-21T18:14:28.483Z"
   },
   {
    "duration": 194,
    "start_time": "2023-01-21T18:14:28.531Z"
   },
   {
    "duration": 457,
    "start_time": "2023-01-21T18:14:28.727Z"
   },
   {
    "duration": 688,
    "start_time": "2023-01-21T18:14:29.186Z"
   },
   {
    "duration": 25868,
    "start_time": "2023-01-21T18:14:29.876Z"
   },
   {
    "duration": 356,
    "start_time": "2023-01-21T18:14:55.746Z"
   },
   {
    "duration": 334,
    "start_time": "2023-01-21T18:14:56.103Z"
   },
   {
    "duration": 400,
    "start_time": "2023-01-21T18:14:56.438Z"
   },
   {
    "duration": 5,
    "start_time": "2023-01-21T18:14:56.840Z"
   },
   {
    "duration": 20,
    "start_time": "2023-01-21T18:14:56.937Z"
   },
   {
    "duration": 6,
    "start_time": "2023-01-21T18:21:51.015Z"
   },
   {
    "duration": 148,
    "start_time": "2023-01-21T18:22:03.904Z"
   },
   {
    "duration": 7,
    "start_time": "2023-01-21T18:22:24.189Z"
   },
   {
    "duration": 2437,
    "start_time": "2023-01-21T18:25:07.199Z"
   },
   {
    "duration": 697,
    "start_time": "2023-01-21T18:25:09.638Z"
   },
   {
    "duration": 34,
    "start_time": "2023-01-21T18:25:10.338Z"
   },
   {
    "duration": 12,
    "start_time": "2023-01-21T18:25:10.373Z"
   },
   {
    "duration": 290,
    "start_time": "2023-01-21T18:25:10.387Z"
   },
   {
    "duration": 7,
    "start_time": "2023-01-21T18:25:10.679Z"
   },
   {
    "duration": 4,
    "start_time": "2023-01-21T18:25:10.688Z"
   },
   {
    "duration": 7477,
    "start_time": "2023-01-21T18:25:10.694Z"
   },
   {
    "duration": 246,
    "start_time": "2023-01-21T18:25:18.173Z"
   },
   {
    "duration": 16,
    "start_time": "2023-01-21T18:25:18.422Z"
   },
   {
    "duration": 6,
    "start_time": "2023-01-21T18:25:18.440Z"
   },
   {
    "duration": 3099,
    "start_time": "2023-01-21T18:25:18.447Z"
   },
   {
    "duration": 3,
    "start_time": "2023-01-21T18:25:21.549Z"
   },
   {
    "duration": 49576,
    "start_time": "2023-01-21T18:25:21.554Z"
   },
   {
    "duration": 5,
    "start_time": "2023-01-21T18:26:11.132Z"
   },
   {
    "duration": 98,
    "start_time": "2023-01-21T18:26:11.139Z"
   },
   {
    "duration": 15,
    "start_time": "2023-01-21T18:26:11.239Z"
   },
   {
    "duration": 12,
    "start_time": "2023-01-21T18:26:11.255Z"
   },
   {
    "duration": 60,
    "start_time": "2023-01-21T18:26:11.269Z"
   },
   {
    "duration": 13,
    "start_time": "2023-01-21T18:26:11.330Z"
   },
   {
    "duration": 6,
    "start_time": "2023-01-21T18:26:11.345Z"
   },
   {
    "duration": 140,
    "start_time": "2023-01-21T18:26:11.353Z"
   },
   {
    "duration": 430,
    "start_time": "2023-01-21T18:26:11.494Z"
   },
   {
    "duration": 728,
    "start_time": "2023-01-21T18:26:11.926Z"
   },
   {
    "duration": 31283,
    "start_time": "2023-01-21T18:26:12.656Z"
   },
   {
    "duration": 164,
    "start_time": "2023-01-21T18:26:43.941Z"
   },
   {
    "duration": 161,
    "start_time": "2023-01-21T18:26:44.107Z"
   },
   {
    "duration": 200,
    "start_time": "2023-01-21T18:26:44.271Z"
   },
   {
    "duration": 7,
    "start_time": "2023-01-21T18:26:44.538Z"
   },
   {
    "duration": 99,
    "start_time": "2023-01-21T18:26:44.547Z"
   },
   {
    "duration": 62,
    "start_time": "2023-01-21T18:42:55.036Z"
   },
   {
    "duration": 9,
    "start_time": "2023-01-21T18:42:56.823Z"
   },
   {
    "duration": 15,
    "start_time": "2023-01-21T18:42:57.311Z"
   },
   {
    "duration": 140,
    "start_time": "2023-01-21T18:43:00.451Z"
   },
   {
    "duration": 106436,
    "start_time": "2023-01-21T18:44:46.940Z"
   },
   {
    "duration": 116746,
    "start_time": "2023-01-21T18:49:13.754Z"
   },
   {
    "duration": 30,
    "start_time": "2023-01-21T18:56:11.454Z"
   },
   {
    "duration": 24,
    "start_time": "2023-01-21T18:57:09.718Z"
   },
   {
    "duration": 16140,
    "start_time": "2023-01-21T18:57:45.531Z"
   },
   {
    "duration": 97,
    "start_time": "2023-01-21T19:00:09.971Z"
   },
   {
    "duration": 149,
    "start_time": "2023-01-21T19:00:11.059Z"
   },
   {
    "duration": 722,
    "start_time": "2023-01-21T19:00:18.824Z"
   },
   {
    "duration": 2552,
    "start_time": "2023-01-21T19:00:36.498Z"
   },
   {
    "duration": 3128,
    "start_time": "2023-01-21T19:00:39.052Z"
   },
   {
    "duration": 32,
    "start_time": "2023-01-21T19:00:42.181Z"
   },
   {
    "duration": 32,
    "start_time": "2023-01-21T19:00:42.214Z"
   },
   {
    "duration": 380,
    "start_time": "2023-01-21T19:00:42.248Z"
   },
   {
    "duration": 10,
    "start_time": "2023-01-21T19:00:42.630Z"
   },
   {
    "duration": 32,
    "start_time": "2023-01-21T19:00:42.642Z"
   },
   {
    "duration": 7548,
    "start_time": "2023-01-21T19:00:42.676Z"
   },
   {
    "duration": 280,
    "start_time": "2023-01-21T19:00:50.226Z"
   },
   {
    "duration": 15,
    "start_time": "2023-01-21T19:00:50.507Z"
   },
   {
    "duration": 27,
    "start_time": "2023-01-21T19:00:50.523Z"
   },
   {
    "duration": 3261,
    "start_time": "2023-01-21T19:00:50.552Z"
   },
   {
    "duration": 3,
    "start_time": "2023-01-21T19:00:53.815Z"
   },
   {
    "duration": 50065,
    "start_time": "2023-01-21T19:00:53.820Z"
   },
   {
    "duration": 3,
    "start_time": "2023-01-21T19:01:43.886Z"
   },
   {
    "duration": 96,
    "start_time": "2023-01-21T19:01:43.890Z"
   },
   {
    "duration": 14,
    "start_time": "2023-01-21T19:01:43.988Z"
   },
   {
    "duration": 5,
    "start_time": "2023-01-21T19:01:44.004Z"
   },
   {
    "duration": 111,
    "start_time": "2023-01-21T19:01:44.010Z"
   },
   {
    "duration": 2463,
    "start_time": "2023-01-21T19:02:56.887Z"
   },
   {
    "duration": 3165,
    "start_time": "2023-01-21T19:02:59.352Z"
   },
   {
    "duration": 34,
    "start_time": "2023-01-21T19:03:02.518Z"
   },
   {
    "duration": 17,
    "start_time": "2023-01-21T19:03:02.554Z"
   },
   {
    "duration": 328,
    "start_time": "2023-01-21T19:03:02.574Z"
   },
   {
    "duration": 8,
    "start_time": "2023-01-21T19:03:02.904Z"
   },
   {
    "duration": 8,
    "start_time": "2023-01-21T19:03:02.914Z"
   },
   {
    "duration": 7397,
    "start_time": "2023-01-21T19:03:02.924Z"
   },
   {
    "duration": 209,
    "start_time": "2023-01-21T19:03:10.323Z"
   },
   {
    "duration": 11,
    "start_time": "2023-01-21T19:03:10.536Z"
   },
   {
    "duration": 20,
    "start_time": "2023-01-21T19:03:10.549Z"
   },
   {
    "duration": 3187,
    "start_time": "2023-01-21T19:03:10.570Z"
   },
   {
    "duration": 3,
    "start_time": "2023-01-21T19:03:13.759Z"
   },
   {
    "duration": 50044,
    "start_time": "2023-01-21T19:03:13.765Z"
   },
   {
    "duration": 3,
    "start_time": "2023-01-21T19:04:03.811Z"
   },
   {
    "duration": 97,
    "start_time": "2023-01-21T19:04:03.816Z"
   },
   {
    "duration": 16,
    "start_time": "2023-01-21T19:04:03.914Z"
   },
   {
    "duration": 4,
    "start_time": "2023-01-21T19:04:03.937Z"
   },
   {
    "duration": 108,
    "start_time": "2023-01-21T19:04:03.943Z"
   },
   {
    "duration": 2521,
    "start_time": "2023-01-21T19:08:21.497Z"
   },
   {
    "duration": 3068,
    "start_time": "2023-01-21T19:08:24.020Z"
   },
   {
    "duration": 27,
    "start_time": "2023-01-21T19:08:27.092Z"
   },
   {
    "duration": 19,
    "start_time": "2023-01-21T19:08:27.120Z"
   },
   {
    "duration": 304,
    "start_time": "2023-01-21T19:08:27.140Z"
   },
   {
    "duration": 8,
    "start_time": "2023-01-21T19:08:27.446Z"
   },
   {
    "duration": 4,
    "start_time": "2023-01-21T19:08:27.455Z"
   },
   {
    "duration": 7466,
    "start_time": "2023-01-21T19:08:27.461Z"
   },
   {
    "duration": 237,
    "start_time": "2023-01-21T19:08:34.930Z"
   },
   {
    "duration": 11,
    "start_time": "2023-01-21T19:08:35.169Z"
   },
   {
    "duration": 5,
    "start_time": "2023-01-21T19:08:35.181Z"
   },
   {
    "duration": 3197,
    "start_time": "2023-01-21T19:08:35.187Z"
   },
   {
    "duration": 3,
    "start_time": "2023-01-21T19:08:38.385Z"
   },
   {
    "duration": 49852,
    "start_time": "2023-01-21T19:08:38.389Z"
   },
   {
    "duration": 3,
    "start_time": "2023-01-21T19:09:28.243Z"
   },
   {
    "duration": 103,
    "start_time": "2023-01-21T19:09:28.248Z"
   },
   {
    "duration": 14,
    "start_time": "2023-01-21T19:09:28.353Z"
   },
   {
    "duration": 5,
    "start_time": "2023-01-21T19:09:28.369Z"
   },
   {
    "duration": 109,
    "start_time": "2023-01-21T19:09:28.375Z"
   },
   {
    "duration": 477,
    "start_time": "2023-01-21T19:09:28.486Z"
   },
   {
    "duration": 2,
    "start_time": "2023-01-21T19:09:28.964Z"
   },
   {
    "duration": 6,
    "start_time": "2023-01-21T19:09:28.968Z"
   },
   {
    "duration": 5,
    "start_time": "2023-01-21T19:09:28.975Z"
   },
   {
    "duration": 13980,
    "start_time": "2023-01-21T19:09:28.981Z"
   },
   {
    "duration": 96,
    "start_time": "2023-01-21T19:10:24.750Z"
   },
   {
    "duration": 635,
    "start_time": "2023-01-21T19:10:25.489Z"
   },
   {
    "duration": 31610,
    "start_time": "2023-01-21T19:10:31.019Z"
   },
   {
    "duration": 56190,
    "start_time": "2023-01-21T19:11:35.121Z"
   },
   {
    "duration": 145,
    "start_time": "2023-01-21T19:13:37.162Z"
   },
   {
    "duration": 4748,
    "start_time": "2023-01-21T19:14:00.896Z"
   },
   {
    "duration": 5299,
    "start_time": "2023-01-21T19:14:15.873Z"
   },
   {
    "duration": 696,
    "start_time": "2023-01-21T19:14:53.554Z"
   },
   {
    "duration": 82675,
    "start_time": "2023-01-21T19:15:11.878Z"
   },
   {
    "duration": 6214,
    "start_time": "2023-01-21T19:16:34.554Z"
   },
   {
    "duration": 788,
    "start_time": "2023-01-21T19:17:52.556Z"
   },
   {
    "duration": 94364,
    "start_time": "2023-01-21T19:17:55.323Z"
   },
   {
    "duration": 7512,
    "start_time": "2023-01-21T19:19:29.688Z"
   },
   {
    "duration": 1052,
    "start_time": "2023-01-21T19:20:11.581Z"
   },
   {
    "duration": 2549,
    "start_time": "2023-01-21T19:20:23.274Z"
   },
   {
    "duration": 3037,
    "start_time": "2023-01-21T19:20:25.825Z"
   },
   {
    "duration": 29,
    "start_time": "2023-01-21T19:20:28.864Z"
   },
   {
    "duration": 12,
    "start_time": "2023-01-21T19:20:28.894Z"
   },
   {
    "duration": 304,
    "start_time": "2023-01-21T19:20:28.908Z"
   },
   {
    "duration": 8,
    "start_time": "2023-01-21T19:20:29.214Z"
   },
   {
    "duration": 14,
    "start_time": "2023-01-21T19:20:29.223Z"
   },
   {
    "duration": 7488,
    "start_time": "2023-01-21T19:20:29.239Z"
   },
   {
    "duration": 228,
    "start_time": "2023-01-21T19:20:36.729Z"
   },
   {
    "duration": 10,
    "start_time": "2023-01-21T19:20:36.959Z"
   },
   {
    "duration": 5,
    "start_time": "2023-01-21T19:20:36.971Z"
   },
   {
    "duration": 3196,
    "start_time": "2023-01-21T19:20:36.978Z"
   },
   {
    "duration": 2,
    "start_time": "2023-01-21T19:20:40.176Z"
   },
   {
    "duration": 50143,
    "start_time": "2023-01-21T19:20:40.194Z"
   },
   {
    "duration": 3,
    "start_time": "2023-01-21T19:21:30.339Z"
   },
   {
    "duration": 104,
    "start_time": "2023-01-21T19:21:30.343Z"
   },
   {
    "duration": 15,
    "start_time": "2023-01-21T19:21:30.448Z"
   },
   {
    "duration": 30,
    "start_time": "2023-01-21T19:21:30.465Z"
   },
   {
    "duration": 121,
    "start_time": "2023-01-21T19:21:30.497Z"
   },
   {
    "duration": 931,
    "start_time": "2023-01-21T19:21:30.620Z"
   },
   {
    "duration": 2,
    "start_time": "2023-01-21T19:21:31.553Z"
   },
   {
    "duration": 132,
    "start_time": "2023-01-21T19:21:31.556Z"
   },
   {
    "duration": 17,
    "start_time": "2023-01-21T19:21:31.690Z"
   },
   {
    "duration": 2391,
    "start_time": "2023-01-21T19:22:54.202Z"
   },
   {
    "duration": 3072,
    "start_time": "2023-01-21T19:22:56.595Z"
   },
   {
    "duration": 29,
    "start_time": "2023-01-21T19:22:59.669Z"
   },
   {
    "duration": 18,
    "start_time": "2023-01-21T19:22:59.700Z"
   },
   {
    "duration": 299,
    "start_time": "2023-01-21T19:22:59.720Z"
   },
   {
    "duration": 8,
    "start_time": "2023-01-21T19:23:00.020Z"
   },
   {
    "duration": 12,
    "start_time": "2023-01-21T19:23:00.029Z"
   },
   {
    "duration": 7510,
    "start_time": "2023-01-21T19:23:00.042Z"
   },
   {
    "duration": 227,
    "start_time": "2023-01-21T19:23:07.553Z"
   },
   {
    "duration": 13,
    "start_time": "2023-01-21T19:23:07.781Z"
   },
   {
    "duration": 4,
    "start_time": "2023-01-21T19:23:07.795Z"
   },
   {
    "duration": 3123,
    "start_time": "2023-01-21T19:23:07.801Z"
   },
   {
    "duration": 3,
    "start_time": "2023-01-21T19:23:10.926Z"
   },
   {
    "duration": 50141,
    "start_time": "2023-01-21T19:23:10.937Z"
   },
   {
    "duration": 3,
    "start_time": "2023-01-21T19:24:01.079Z"
   },
   {
    "duration": 111,
    "start_time": "2023-01-21T19:24:01.083Z"
   },
   {
    "duration": 14,
    "start_time": "2023-01-21T19:24:01.196Z"
   },
   {
    "duration": 11,
    "start_time": "2023-01-21T19:24:01.211Z"
   },
   {
    "duration": 99,
    "start_time": "2023-01-21T19:24:01.223Z"
   },
   {
    "duration": 831,
    "start_time": "2023-01-21T19:24:01.324Z"
   },
   {
    "duration": 2,
    "start_time": "2023-01-21T19:24:02.157Z"
   },
   {
    "duration": 7,
    "start_time": "2023-01-21T19:24:02.161Z"
   },
   {
    "duration": 5,
    "start_time": "2023-01-21T19:24:02.169Z"
   },
   {
    "duration": 107606,
    "start_time": "2023-01-21T19:24:02.175Z"
   },
   {
    "duration": 12605,
    "start_time": "2023-01-21T19:25:49.782Z"
   },
   {
    "duration": 67,
    "start_time": "2023-01-21T19:43:44.889Z"
   },
   {
    "duration": 907,
    "start_time": "2023-01-21T19:43:45.985Z"
   },
   {
    "duration": 115598,
    "start_time": "2023-01-21T19:43:54.298Z"
   },
   {
    "duration": 10320,
    "start_time": "2023-01-21T19:45:49.898Z"
   },
   {
    "duration": 65,
    "start_time": "2023-01-21T19:48:14.445Z"
   },
   {
    "duration": 43,
    "start_time": "2023-01-21T19:48:57.655Z"
   },
   {
    "duration": 1964,
    "start_time": "2023-01-21T19:49:15.471Z"
   },
   {
    "duration": 3107,
    "start_time": "2023-01-21T19:49:17.436Z"
   },
   {
    "duration": 29,
    "start_time": "2023-01-21T19:49:20.545Z"
   },
   {
    "duration": 13,
    "start_time": "2023-01-21T19:49:20.575Z"
   },
   {
    "duration": 375,
    "start_time": "2023-01-21T19:49:20.590Z"
   },
   {
    "duration": 9,
    "start_time": "2023-01-21T19:49:20.967Z"
   },
   {
    "duration": 5,
    "start_time": "2023-01-21T19:49:20.977Z"
   },
   {
    "duration": 7602,
    "start_time": "2023-01-21T19:49:20.983Z"
   },
   {
    "duration": 223,
    "start_time": "2023-01-21T19:49:28.587Z"
   },
   {
    "duration": 11,
    "start_time": "2023-01-21T19:49:28.812Z"
   },
   {
    "duration": 14,
    "start_time": "2023-01-21T19:49:28.824Z"
   },
   {
    "duration": 2960,
    "start_time": "2023-01-21T19:49:28.839Z"
   },
   {
    "duration": 15,
    "start_time": "2023-01-21T19:49:31.800Z"
   },
   {
    "duration": 49588,
    "start_time": "2023-01-21T19:49:31.817Z"
   },
   {
    "duration": 3,
    "start_time": "2023-01-21T19:50:21.407Z"
   },
   {
    "duration": 100,
    "start_time": "2023-01-21T19:50:21.411Z"
   },
   {
    "duration": 15,
    "start_time": "2023-01-21T19:50:21.513Z"
   },
   {
    "duration": 4,
    "start_time": "2023-01-21T19:50:21.536Z"
   },
   {
    "duration": 489,
    "start_time": "2023-01-21T19:50:21.542Z"
   },
   {
    "duration": 867,
    "start_time": "2023-01-21T19:50:22.033Z"
   },
   {
    "duration": 116288,
    "start_time": "2023-01-21T19:50:22.901Z"
   },
   {
    "duration": 122,
    "start_time": "2023-01-21T19:52:19.191Z"
   },
   {
    "duration": 16554,
    "start_time": "2023-01-21T19:52:54.222Z"
   },
   {
    "duration": 280,
    "start_time": "2023-01-21T19:54:59.855Z"
   },
   {
    "duration": 68,
    "start_time": "2023-01-21T19:55:09.052Z"
   },
   {
    "duration": 194,
    "start_time": "2023-01-21T19:55:09.858Z"
   },
   {
    "duration": 884,
    "start_time": "2023-01-21T19:55:24.136Z"
   },
   {
    "duration": 153265,
    "start_time": "2023-01-21T19:55:28.527Z"
   },
   {
    "duration": 18526,
    "start_time": "2023-01-21T19:58:01.794Z"
   },
   {
    "duration": 960,
    "start_time": "2023-01-21T20:00:04.549Z"
   },
   {
    "duration": 159105,
    "start_time": "2023-01-21T20:00:11.923Z"
   },
   {
    "duration": 17250,
    "start_time": "2023-01-21T20:02:51.030Z"
   },
   {
    "duration": 2087,
    "start_time": "2023-01-21T20:03:21.480Z"
   },
   {
    "duration": 920,
    "start_time": "2023-01-21T20:03:23.569Z"
   },
   {
    "duration": 32,
    "start_time": "2023-01-21T20:03:24.491Z"
   },
   {
    "duration": 41,
    "start_time": "2023-01-21T20:03:24.525Z"
   },
   {
    "duration": 444,
    "start_time": "2023-01-21T20:03:24.568Z"
   },
   {
    "duration": 8,
    "start_time": "2023-01-21T20:03:25.013Z"
   },
   {
    "duration": 4,
    "start_time": "2023-01-21T20:03:25.023Z"
   },
   {
    "duration": 8358,
    "start_time": "2023-01-21T20:03:25.029Z"
   },
   {
    "duration": 245,
    "start_time": "2023-01-21T20:03:33.389Z"
   },
   {
    "duration": 17,
    "start_time": "2023-01-21T20:03:33.637Z"
   },
   {
    "duration": 10,
    "start_time": "2023-01-21T20:03:33.656Z"
   },
   {
    "duration": 3246,
    "start_time": "2023-01-21T20:03:33.668Z"
   },
   {
    "duration": 26,
    "start_time": "2023-01-21T20:03:36.916Z"
   },
   {
    "duration": 53588,
    "start_time": "2023-01-21T20:03:36.949Z"
   },
   {
    "duration": 2,
    "start_time": "2023-01-21T20:04:30.539Z"
   },
   {
    "duration": 138,
    "start_time": "2023-01-21T20:04:30.543Z"
   },
   {
    "duration": 14,
    "start_time": "2023-01-21T20:04:30.683Z"
   },
   {
    "duration": 29,
    "start_time": "2023-01-21T20:04:30.699Z"
   },
   {
    "duration": 518,
    "start_time": "2023-01-21T20:04:30.730Z"
   },
   {
    "duration": 837,
    "start_time": "2023-01-21T20:04:31.249Z"
   },
   {
    "duration": 3,
    "start_time": "2023-01-21T20:04:32.087Z"
   },
   {
    "duration": 150215,
    "start_time": "2023-01-21T20:04:32.091Z"
   },
   {
    "duration": 16642,
    "start_time": "2023-01-21T20:07:02.308Z"
   },
   {
    "duration": 925,
    "start_time": "2023-01-21T20:08:17.901Z"
   },
   {
    "duration": 110763,
    "start_time": "2023-01-21T20:08:22.844Z"
   },
   {
    "duration": 12859,
    "start_time": "2023-01-21T20:10:13.610Z"
   },
   {
    "duration": 2183,
    "start_time": "2023-01-21T20:12:45.457Z"
   },
   {
    "duration": 843,
    "start_time": "2023-01-21T20:12:47.643Z"
   },
   {
    "duration": 33,
    "start_time": "2023-01-21T20:12:48.488Z"
   },
   {
    "duration": 24,
    "start_time": "2023-01-21T20:12:48.523Z"
   },
   {
    "duration": 407,
    "start_time": "2023-01-21T20:12:48.549Z"
   },
   {
    "duration": 7,
    "start_time": "2023-01-21T20:12:48.958Z"
   },
   {
    "duration": 6,
    "start_time": "2023-01-21T20:12:48.967Z"
   },
   {
    "duration": 7697,
    "start_time": "2023-01-21T20:12:48.975Z"
   },
   {
    "duration": 251,
    "start_time": "2023-01-21T20:12:56.674Z"
   },
   {
    "duration": 14,
    "start_time": "2023-01-21T20:12:56.927Z"
   },
   {
    "duration": 4,
    "start_time": "2023-01-21T20:12:56.943Z"
   },
   {
    "duration": 3005,
    "start_time": "2023-01-21T20:12:56.948Z"
   },
   {
    "duration": 16,
    "start_time": "2023-01-21T20:12:59.955Z"
   },
   {
    "duration": 51758,
    "start_time": "2023-01-21T20:12:59.973Z"
   },
   {
    "duration": 6,
    "start_time": "2023-01-21T20:13:51.732Z"
   },
   {
    "duration": 112,
    "start_time": "2023-01-21T20:13:51.740Z"
   },
   {
    "duration": 435,
    "start_time": "2023-01-21T20:13:51.854Z"
   },
   {
    "duration": 17,
    "start_time": "2023-01-21T20:13:52.290Z"
   },
   {
    "duration": 102,
    "start_time": "2023-01-21T20:13:52.309Z"
   },
   {
    "duration": 872,
    "start_time": "2023-01-21T20:13:52.413Z"
   },
   {
    "duration": 130597,
    "start_time": "2023-01-21T20:13:53.286Z"
   },
   {
    "duration": 15077,
    "start_time": "2023-01-21T20:16:03.884Z"
   },
   {
    "duration": 9445,
    "start_time": "2023-01-21T21:50:10.045Z"
   },
   {
    "duration": 3441,
    "start_time": "2023-01-22T07:55:05.503Z"
   },
   {
    "duration": 3168,
    "start_time": "2023-01-22T07:55:08.946Z"
   },
   {
    "duration": 30,
    "start_time": "2023-01-22T07:55:12.115Z"
   },
   {
    "duration": 16,
    "start_time": "2023-01-22T07:55:12.149Z"
   },
   {
    "duration": 207,
    "start_time": "2023-01-22T07:55:22.985Z"
   },
   {
    "duration": 10,
    "start_time": "2023-01-22T07:55:50.185Z"
   },
   {
    "duration": 12,
    "start_time": "2023-01-22T07:56:00.583Z"
   },
   {
    "duration": 737,
    "start_time": "2023-01-22T07:56:10.700Z"
   },
   {
    "duration": 257,
    "start_time": "2023-01-22T07:57:28.746Z"
   },
   {
    "duration": 66,
    "start_time": "2023-01-22T08:07:20.114Z"
   },
   {
    "duration": 0,
    "start_time": "2023-01-22T08:07:55.379Z"
   },
   {
    "duration": 61,
    "start_time": "2023-01-22T08:13:01.237Z"
   },
   {
    "duration": 5273,
    "start_time": "2023-01-22T08:13:03.325Z"
   },
   {
    "duration": 3306,
    "start_time": "2023-01-22T08:13:08.600Z"
   },
   {
    "duration": 35,
    "start_time": "2023-01-22T08:13:11.908Z"
   },
   {
    "duration": 441,
    "start_time": "2023-01-22T08:13:11.946Z"
   },
   {
    "duration": 177,
    "start_time": "2023-01-22T08:15:00.728Z"
   },
   {
    "duration": 5505,
    "start_time": "2023-01-22T09:06:00.908Z"
   },
   {
    "duration": 3584,
    "start_time": "2023-01-22T09:06:06.416Z"
   },
   {
    "duration": 155,
    "start_time": "2023-01-22T09:06:10.002Z"
   },
   {
    "duration": 0,
    "start_time": "2023-01-22T09:06:10.160Z"
   },
   {
    "duration": 0,
    "start_time": "2023-01-22T09:06:10.162Z"
   },
   {
    "duration": 0,
    "start_time": "2023-01-22T09:06:10.164Z"
   },
   {
    "duration": 0,
    "start_time": "2023-01-22T09:06:10.165Z"
   },
   {
    "duration": 0,
    "start_time": "2023-01-22T09:06:10.166Z"
   },
   {
    "duration": 0,
    "start_time": "2023-01-22T09:06:10.167Z"
   },
   {
    "duration": 0,
    "start_time": "2023-01-22T09:06:10.169Z"
   },
   {
    "duration": 0,
    "start_time": "2023-01-22T09:06:10.170Z"
   },
   {
    "duration": 0,
    "start_time": "2023-01-22T09:06:10.177Z"
   },
   {
    "duration": 0,
    "start_time": "2023-01-22T09:06:10.180Z"
   },
   {
    "duration": 0,
    "start_time": "2023-01-22T09:06:10.187Z"
   },
   {
    "duration": 0,
    "start_time": "2023-01-22T09:06:10.195Z"
   },
   {
    "duration": 0,
    "start_time": "2023-01-22T09:06:10.196Z"
   },
   {
    "duration": 0,
    "start_time": "2023-01-22T09:06:10.198Z"
   },
   {
    "duration": 0,
    "start_time": "2023-01-22T09:06:10.200Z"
   },
   {
    "duration": 0,
    "start_time": "2023-01-22T09:06:10.201Z"
   },
   {
    "duration": 0,
    "start_time": "2023-01-22T09:06:10.202Z"
   },
   {
    "duration": 0,
    "start_time": "2023-01-22T09:06:10.203Z"
   },
   {
    "duration": 0,
    "start_time": "2023-01-22T09:06:10.204Z"
   },
   {
    "duration": 38,
    "start_time": "2023-01-22T09:06:13.876Z"
   },
   {
    "duration": 13,
    "start_time": "2023-01-22T09:06:15.828Z"
   },
   {
    "duration": 9,
    "start_time": "2023-01-22T09:06:18.532Z"
   },
   {
    "duration": 5,
    "start_time": "2023-01-22T09:06:20.615Z"
   },
   {
    "duration": 12171,
    "start_time": "2023-01-22T09:06:23.712Z"
   },
   {
    "duration": 350,
    "start_time": "2023-01-22T09:06:35.895Z"
   },
   {
    "duration": 26,
    "start_time": "2023-01-22T09:06:36.247Z"
   },
   {
    "duration": 30,
    "start_time": "2023-01-22T09:06:36.276Z"
   },
   {
    "duration": 4646,
    "start_time": "2023-01-22T09:06:36.308Z"
   },
   {
    "duration": 6,
    "start_time": "2023-01-22T09:06:40.958Z"
   },
   {
    "duration": 79667,
    "start_time": "2023-01-22T09:06:51.228Z"
   },
   {
    "duration": 3,
    "start_time": "2023-01-22T09:08:10.898Z"
   },
   {
    "duration": 106,
    "start_time": "2023-01-22T09:08:10.903Z"
   },
   {
    "duration": 22,
    "start_time": "2023-01-22T09:08:11.011Z"
   },
   {
    "duration": 17,
    "start_time": "2023-01-22T09:08:11.035Z"
   },
   {
    "duration": 121,
    "start_time": "2023-01-22T09:08:11.059Z"
   },
   {
    "duration": 4,
    "start_time": "2023-01-22T09:08:55.680Z"
   },
   {
    "duration": 405650,
    "start_time": "2023-01-22T09:09:25.118Z"
   },
   {
    "duration": 30532,
    "start_time": "2023-01-22T09:16:42.335Z"
   },
   {
    "duration": 551,
    "start_time": "2023-01-22T09:23:56.276Z"
   },
   {
    "duration": 2750,
    "start_time": "2023-01-22T18:36:47.431Z"
   },
   {
    "duration": 6,
    "start_time": "2023-01-22T18:37:27.368Z"
   },
   {
    "duration": 2528,
    "start_time": "2023-01-22T18:38:09.995Z"
   },
   {
    "duration": 30,
    "start_time": "2023-01-22T18:38:12.525Z"
   },
   {
    "duration": 21,
    "start_time": "2023-01-22T18:38:14.267Z"
   },
   {
    "duration": 3,
    "start_time": "2023-01-22T18:38:16.350Z"
   },
   {
    "duration": 11,
    "start_time": "2023-01-22T18:38:23.082Z"
   },
   {
    "duration": 5,
    "start_time": "2023-01-22T18:38:31.440Z"
   },
   {
    "duration": 8477,
    "start_time": "2023-01-22T18:38:32.049Z"
   },
   {
    "duration": 245,
    "start_time": "2023-01-22T18:38:40.529Z"
   },
   {
    "duration": 17,
    "start_time": "2023-01-22T18:38:40.776Z"
   },
   {
    "duration": 3,
    "start_time": "2023-01-22T18:38:43.446Z"
   },
   {
    "duration": 3501,
    "start_time": "2023-01-22T18:38:47.131Z"
   },
   {
    "duration": 4,
    "start_time": "2023-01-22T18:38:51.257Z"
   },
   {
    "duration": 64437,
    "start_time": "2023-01-22T18:38:56.945Z"
   },
   {
    "duration": 12,
    "start_time": "2023-01-22T18:40:01.385Z"
   },
   {
    "duration": 978,
    "start_time": "2023-01-22T18:40:50.206Z"
   },
   {
    "duration": 39,
    "start_time": "2023-01-22T18:40:51.186Z"
   },
   {
    "duration": 11,
    "start_time": "2023-01-22T18:40:52.249Z"
   },
   {
    "duration": 3,
    "start_time": "2023-01-22T18:40:52.769Z"
   },
   {
    "duration": 10,
    "start_time": "2023-01-22T18:40:54.048Z"
   },
   {
    "duration": 15,
    "start_time": "2023-01-22T18:40:56.260Z"
   },
   {
    "duration": 8871,
    "start_time": "2023-01-22T18:40:57.334Z"
   },
   {
    "duration": 373,
    "start_time": "2023-01-22T18:41:06.208Z"
   },
   {
    "duration": 19,
    "start_time": "2023-01-22T18:41:06.584Z"
   },
   {
    "duration": 3,
    "start_time": "2023-01-22T18:41:06.605Z"
   },
   {
    "duration": 3624,
    "start_time": "2023-01-22T18:41:06.610Z"
   },
   {
    "duration": 4,
    "start_time": "2023-01-22T18:41:10.236Z"
   },
   {
    "duration": 66376,
    "start_time": "2023-01-22T18:41:10.242Z"
   },
   {
    "duration": 4,
    "start_time": "2023-01-22T18:43:10.928Z"
   },
   {
    "duration": 87,
    "start_time": "2023-01-22T18:43:11.146Z"
   },
   {
    "duration": 21,
    "start_time": "2023-01-22T18:43:11.710Z"
   },
   {
    "duration": 5477,
    "start_time": "2023-01-22T18:44:42.167Z"
   },
   {
    "duration": 735,
    "start_time": "2023-01-22T18:45:14.374Z"
   },
   {
    "duration": 31,
    "start_time": "2023-01-22T18:45:15.111Z"
   },
   {
    "duration": 7,
    "start_time": "2023-01-22T18:45:15.425Z"
   },
   {
    "duration": 9,
    "start_time": "2023-01-22T18:45:17.447Z"
   },
   {
    "duration": 6,
    "start_time": "2023-01-22T18:45:21.014Z"
   },
   {
    "duration": 8,
    "start_time": "2023-01-22T18:45:29.170Z"
   },
   {
    "duration": 10837,
    "start_time": "2023-01-22T18:46:16.817Z"
   },
   {
    "duration": 288,
    "start_time": "2023-01-22T18:46:31.147Z"
   },
   {
    "duration": 15,
    "start_time": "2023-01-22T18:46:34.196Z"
   },
   {
    "duration": 4,
    "start_time": "2023-01-22T18:51:44.182Z"
   },
   {
    "duration": 1282,
    "start_time": "2023-01-22T18:52:07.264Z"
   },
   {
    "duration": 4826,
    "start_time": "2023-01-22T18:52:27.435Z"
   },
   {
    "duration": 5,
    "start_time": "2023-01-22T18:52:33.200Z"
   },
   {
    "duration": 339,
    "start_time": "2023-01-22T18:52:35.337Z"
   },
   {
    "duration": 786,
    "start_time": "2023-01-22T18:53:22.072Z"
   },
   {
    "duration": 11062,
    "start_time": "2023-01-22T18:53:26.217Z"
   },
   {
    "duration": 272,
    "start_time": "2023-01-22T18:53:37.296Z"
   },
   {
    "duration": 13,
    "start_time": "2023-01-22T18:53:37.570Z"
   },
   {
    "duration": 348,
    "start_time": "2023-01-22T18:54:17.198Z"
   },
   {
    "duration": 12,
    "start_time": "2023-01-22T18:54:26.303Z"
   },
   {
    "duration": 336,
    "start_time": "2023-01-22T18:54:28.319Z"
   },
   {
    "duration": 4,
    "start_time": "2023-01-22T18:54:41.854Z"
   },
   {
    "duration": 372,
    "start_time": "2023-01-22T18:54:45.075Z"
   },
   {
    "duration": 4,
    "start_time": "2023-01-22T18:55:14.510Z"
   },
   {
    "duration": 361,
    "start_time": "2023-01-22T18:55:17.986Z"
   },
   {
    "duration": 3,
    "start_time": "2023-01-22T18:55:24.464Z"
   },
   {
    "duration": 384,
    "start_time": "2023-01-22T18:55:26.836Z"
   },
   {
    "duration": 3,
    "start_time": "2023-01-22T18:56:26.010Z"
   },
   {
    "duration": 414,
    "start_time": "2023-01-22T18:56:27.350Z"
   },
   {
    "duration": 324,
    "start_time": "2023-01-22T18:56:39.138Z"
   },
   {
    "duration": 1268,
    "start_time": "2023-01-22T18:57:51.048Z"
   },
   {
    "duration": 761,
    "start_time": "2023-01-22T18:58:11.798Z"
   },
   {
    "duration": 11395,
    "start_time": "2023-01-22T18:58:17.314Z"
   },
   {
    "duration": 257,
    "start_time": "2023-01-22T18:58:28.713Z"
   },
   {
    "duration": 2175,
    "start_time": "2023-01-22T18:58:43.618Z"
   },
   {
    "duration": 2856,
    "start_time": "2023-01-22T18:58:46.031Z"
   },
   {
    "duration": 23,
    "start_time": "2023-01-22T18:58:48.889Z"
   },
   {
    "duration": 38,
    "start_time": "2023-01-22T18:58:48.951Z"
   },
   {
    "duration": 11,
    "start_time": "2023-01-22T18:58:51.643Z"
   },
   {
    "duration": 7,
    "start_time": "2023-01-22T18:58:53.366Z"
   },
   {
    "duration": 10799,
    "start_time": "2023-01-22T18:58:54.371Z"
   },
   {
    "duration": 283,
    "start_time": "2023-01-22T18:59:05.173Z"
   },
   {
    "duration": 15,
    "start_time": "2023-01-22T18:59:05.458Z"
   },
   {
    "duration": 4,
    "start_time": "2023-01-22T18:59:05.492Z"
   },
   {
    "duration": 4542,
    "start_time": "2023-01-22T18:59:05.498Z"
   },
   {
    "duration": 4,
    "start_time": "2023-01-22T18:59:10.043Z"
   },
   {
    "duration": 64379,
    "start_time": "2023-01-22T18:59:10.049Z"
   },
   {
    "duration": 4,
    "start_time": "2023-01-22T19:00:20.531Z"
   },
   {
    "duration": 96,
    "start_time": "2023-01-22T19:00:20.820Z"
   },
   {
    "duration": 23,
    "start_time": "2023-01-22T19:00:21.077Z"
   },
   {
    "duration": 3,
    "start_time": "2023-01-22T19:00:26.025Z"
   },
   {
    "duration": 85,
    "start_time": "2023-01-22T19:01:05.938Z"
   },
   {
    "duration": 77,
    "start_time": "2023-01-22T19:01:18.432Z"
   },
   {
    "duration": 4,
    "start_time": "2023-01-22T19:03:53.958Z"
   },
   {
    "duration": 26962,
    "start_time": "2023-01-22T19:04:00.085Z"
   },
   {
    "duration": 445910,
    "start_time": "2023-01-22T19:04:41.421Z"
   },
   {
    "duration": 15,
    "start_time": "2023-01-22T19:23:24.412Z"
   },
   {
    "duration": 33,
    "start_time": "2023-01-22T19:24:03.828Z"
   },
   {
    "duration": 48,
    "start_time": "2023-01-22T19:24:07.843Z"
   },
   {
    "duration": 46,
    "start_time": "2023-01-22T19:25:59.228Z"
   },
   {
    "duration": 9,
    "start_time": "2023-01-22T19:26:12.363Z"
   },
   {
    "duration": 10,
    "start_time": "2023-01-22T19:26:28.450Z"
   },
   {
    "duration": 46,
    "start_time": "2023-01-22T19:27:07.869Z"
   },
   {
    "duration": 10,
    "start_time": "2023-01-22T19:27:58.584Z"
   },
   {
    "duration": 42,
    "start_time": "2023-01-22T19:28:15.123Z"
   },
   {
    "duration": 661,
    "start_time": "2023-01-22T19:30:25.931Z"
   },
   {
    "duration": 113,
    "start_time": "2023-01-22T19:30:51.926Z"
   },
   {
    "duration": 126,
    "start_time": "2023-01-22T19:31:18.033Z"
   },
   {
    "duration": 110,
    "start_time": "2023-01-22T19:31:22.313Z"
   },
   {
    "duration": 113,
    "start_time": "2023-01-22T19:31:32.456Z"
   },
   {
    "duration": 55,
    "start_time": "2023-01-22T19:32:03.121Z"
   },
   {
    "duration": 46,
    "start_time": "2023-01-22T19:32:12.488Z"
   },
   {
    "duration": 10,
    "start_time": "2023-01-22T19:33:15.124Z"
   },
   {
    "duration": 10,
    "start_time": "2023-01-22T19:33:20.057Z"
   },
   {
    "duration": 10,
    "start_time": "2023-01-22T19:33:28.231Z"
   },
   {
    "duration": 10,
    "start_time": "2023-01-22T19:33:32.231Z"
   },
   {
    "duration": 10,
    "start_time": "2023-01-22T19:33:34.606Z"
   },
   {
    "duration": 44,
    "start_time": "2023-01-22T19:35:56.806Z"
   },
   {
    "duration": 52,
    "start_time": "2023-01-22T19:36:09.785Z"
   },
   {
    "duration": 15,
    "start_time": "2023-01-22T19:36:29.031Z"
   },
   {
    "duration": 3,
    "start_time": "2023-01-22T19:36:46.015Z"
   },
   {
    "duration": 16,
    "start_time": "2023-01-22T19:37:27.628Z"
   },
   {
    "duration": 2670,
    "start_time": "2023-01-22T19:37:53.407Z"
   },
   {
    "duration": 266122,
    "start_time": "2023-01-22T19:38:08.495Z"
   },
   {
    "duration": 5,
    "start_time": "2023-01-22T19:43:10.597Z"
   },
   {
    "duration": 3,
    "start_time": "2023-01-22T19:43:28.739Z"
   },
   {
    "duration": 3,
    "start_time": "2023-01-22T19:43:33.819Z"
   },
   {
    "duration": 4,
    "start_time": "2023-01-22T19:43:49.135Z"
   },
   {
    "duration": 390050,
    "start_time": "2023-01-22T19:44:20.867Z"
   },
   {
    "duration": 30661,
    "start_time": "2023-01-22T19:50:50.919Z"
   },
   {
    "duration": 4110,
    "start_time": "2023-03-25T08:04:03.719Z"
   },
   {
    "duration": 4012,
    "start_time": "2023-03-25T08:04:07.832Z"
   },
   {
    "duration": 176,
    "start_time": "2023-03-25T08:04:11.846Z"
   },
   {
    "duration": 95,
    "start_time": "2023-03-25T08:04:12.025Z"
   },
   {
    "duration": 1499,
    "start_time": "2023-03-25T08:04:12.122Z"
   },
   {
    "duration": 7,
    "start_time": "2023-03-25T08:04:13.624Z"
   },
   {
    "duration": 35712,
    "start_time": "2023-03-25T08:04:13.633Z"
   },
   {
    "duration": 1102,
    "start_time": "2023-03-25T08:04:49.418Z"
   },
   {
    "duration": 16,
    "start_time": "2023-03-25T08:04:50.523Z"
   },
   {
    "duration": 76,
    "start_time": "2023-03-25T08:04:50.542Z"
   },
   {
    "duration": 14102,
    "start_time": "2023-03-25T08:04:50.621Z"
   },
   {
    "duration": 4,
    "start_time": "2023-03-25T08:05:04.726Z"
   },
   {
    "duration": 253613,
    "start_time": "2023-03-25T08:05:04.732Z"
   },
   {
    "duration": 72,
    "start_time": "2023-03-25T08:09:18.347Z"
   },
   {
    "duration": 227,
    "start_time": "2023-03-25T08:09:18.420Z"
   },
   {
    "duration": 100,
    "start_time": "2023-03-25T08:09:18.718Z"
   },
   {
    "duration": 6,
    "start_time": "2023-03-25T08:09:18.822Z"
   },
   {
    "duration": 292,
    "start_time": "2023-03-25T08:09:18.830Z"
   },
   {
    "duration": 5,
    "start_time": "2023-03-25T08:09:19.124Z"
   },
   {
    "duration": 766710,
    "start_time": "2023-03-25T08:09:19.131Z"
   },
   {
    "duration": 950620,
    "start_time": "2023-03-25T08:22:05.843Z"
   },
   {
    "duration": 44585,
    "start_time": "2023-03-25T08:37:56.465Z"
   }
  ],
  "kernelspec": {
   "display_name": "Python 3 (ipykernel)",
   "language": "python",
   "name": "python3"
  },
  "language_info": {
   "codemirror_mode": {
    "name": "ipython",
    "version": 3
   },
   "file_extension": ".py",
   "mimetype": "text/x-python",
   "name": "python",
   "nbconvert_exporter": "python",
   "pygments_lexer": "ipython3",
   "version": "3.9.5"
  },
  "toc": {
   "base_numbering": 1,
   "nav_menu": {},
   "number_sections": true,
   "sideBar": true,
   "skip_h1_title": true,
   "title_cell": "Содержание",
   "title_sidebar": "Contents",
   "toc_cell": true,
   "toc_position": {
    "height": "calc(100% - 180px)",
    "left": "10px",
    "top": "150px",
    "width": "302.391px"
   },
   "toc_section_display": true,
   "toc_window_display": true
  }
 },
 "nbformat": 4,
 "nbformat_minor": 2
}
